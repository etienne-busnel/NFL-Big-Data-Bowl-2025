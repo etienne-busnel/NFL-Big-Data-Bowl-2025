{
 "cells": [
  {
   "cell_type": "code",
   "execution_count": 52,
   "id": "b58c44e8-7e11-4e11-8cf7-9fbcde368fa5",
   "metadata": {},
   "outputs": [],
   "source": [
    "#import standard data analysis libraries\n",
    "import pandas as pd\n",
    "import numpy as np\n",
    "import matplotlib.pyplot as plt\n",
    "import seaborn as sns\n",
    "from scipy import stats"
   ]
  },
  {
   "cell_type": "code",
   "execution_count": 61,
   "id": "c503ca36-6bd5-490a-8a2f-bce1151f7789",
   "metadata": {},
   "outputs": [],
   "source": [
    "df_players = pd.read_csv('df_players.csv')"
   ]
  },
  {
   "cell_type": "code",
   "execution_count": 62,
   "id": "d2a61cc5-746e-4f4c-bef4-221e7061ca9c",
   "metadata": {},
   "outputs": [
    {
     "data": {
      "text/plain": [
       "Index(['Unnamed: 0', 'player_mlb_id', 'playerID_LAHMAN', 'birthYear',\n",
       "       'birthMonth', 'birthDay', 'birthCountry', 'weight', 'height', 'bats',\n",
       "       ...\n",
       "       'fielding_att', 'mean_ba_on_field_att', 'errors', 'mean_ba_on_errors',\n",
       "       'field_pct', 'earned_runs', 'outs_recorded', 'inherited_runners',\n",
       "       'innings_pitched', 'ERA'],\n",
       "      dtype='object', length=146)"
      ]
     },
     "execution_count": 62,
     "metadata": {},
     "output_type": "execute_result"
    }
   ],
   "source": [
    "df_players.columns"
   ]
  },
  {
   "cell_type": "code",
   "execution_count": 65,
   "id": "96478d21-3020-4256-a737-35be97ff59ee",
   "metadata": {},
   "outputs": [],
   "source": [
    "#[['player_mlb_id','year','total_pa', 'field_p', 'field_c', 'field_1b', 'field_2b', 'field_3b', 'field_ss', 'field_lf', 'field_cf', 'field_rf']]\n",
    "df_players_fielding = df_players.copy()"
   ]
  },
  {
   "cell_type": "code",
   "execution_count": 67,
   "id": "9cd17047-bf7b-4cf6-a8d2-a8e91d497665",
   "metadata": {},
   "outputs": [],
   "source": [
    "df_players_fielding['check'] = df_players_fielding[['total_pa', 'field_p', 'field_c', 'field_1b', 'field_2b', 'field_3b', 'field_ss', 'field_lf', 'field_cf', 'field_rf']].sum(axis=1)\n",
    "df_players_fielding['total_field'] = df_players_fielding[['field_p', 'field_c', 'field_1b', 'field_2b', 'field_3b', 'field_ss', 'field_lf', 'field_cf', 'field_rf']].sum(axis=1)"
   ]
  },
  {
   "cell_type": "code",
   "execution_count": 69,
   "id": "e1ed0084-6a08-4c8c-90b7-3918dd06a381",
   "metadata": {},
   "outputs": [],
   "source": [
    "#remove players who didn't field at all\n",
    "df_players_fielding = df_players_fielding[df_players_fielding['check'] > 0]\n"
   ]
  },
  {
   "cell_type": "code",
   "execution_count": 71,
   "id": "ef7c4d11-f065-416e-803f-db2ed4f4a092",
   "metadata": {},
   "outputs": [],
   "source": [
    "field_columns = ['field_p', 'field_c', 'field_1b', 'field_2b', 'field_3b', 'field_ss', 'field_lf', 'field_cf', 'field_rf']\n",
    "\n",
    "for col in field_columns:\n",
    "    df_players_fielding[f'{col}_ratio'] = df_players_fielding[col] / df_players_fielding['total_field']"
   ]
  },
  {
   "cell_type": "code",
   "execution_count": 73,
   "id": "9a65e3fd-059a-4ce5-9ef6-5668ada232ff",
   "metadata": {},
   "outputs": [
    {
     "name": "stderr",
     "output_type": "stream",
     "text": [
      "C:\\Users\\etien\\AppData\\Local\\Temp\\ipykernel_50100\\275693659.py:4: FutureWarning: The behavior of DataFrame.idxmax with all-NA values, or any-NA and skipna=False, is deprecated. In a future version this will raise ValueError\n",
      "  df_players_fielding['primary_position'] = df_players_fielding[ratio_columns].idxmax(axis=1).str.replace('_ratio', '').str.replace('field_', '')\n"
     ]
    }
   ],
   "source": [
    "ratio_columns = ['field_p_ratio', 'field_c_ratio', 'field_1b_ratio', 'field_2b_ratio', \n",
    "                 'field_3b_ratio', 'field_ss_ratio', 'field_lf_ratio', 'field_cf_ratio', 'field_rf_ratio']\n",
    "\n",
    "df_players_fielding['primary_position'] = df_players_fielding[ratio_columns].idxmax(axis=1).str.replace('_ratio', '').str.replace('field_', '')"
   ]
  },
  {
   "cell_type": "code",
   "execution_count": 213,
   "id": "812751c4-c519-4f23-98a9-d06c9879f353",
   "metadata": {},
   "outputs": [],
   "source": [
    "positions = df_players_fielding[['player_mlb_id','year','primary_position']]"
   ]
  },
  {
   "cell_type": "code",
   "execution_count": 215,
   "id": "17751ad5-81b9-4b4b-8470-e946cc80d293",
   "metadata": {},
   "outputs": [],
   "source": [
    "df_players_update = df_players.merge(positions, on= ['player_mlb_id','year'], how='left')"
   ]
  },
  {
   "cell_type": "code",
   "execution_count": 219,
   "id": "086fcf05-d556-4690-92cf-73ade0e49690",
   "metadata": {},
   "outputs": [],
   "source": [
    "df_players_update.to_csv('df_players_pos.csv')"
   ]
  },
  {
   "cell_type": "code",
   "execution_count": 76,
   "id": "1572a733-e35b-4a9c-833f-9caf67b78f99",
   "metadata": {},
   "outputs": [
    {
     "data": {
      "text/plain": [
       "primary_position\n",
       "1b    0.737004\n",
       "2b    0.685430\n",
       "3b    0.702104\n",
       "c     0.662734\n",
       "cf    0.691294\n",
       "lf    0.712863\n",
       "p     0.934737\n",
       "rf    0.729091\n",
       "ss    0.684184\n",
       "Name: ops, dtype: float64"
      ]
     },
     "execution_count": 76,
     "metadata": {},
     "output_type": "execute_result"
    }
   ],
   "source": [
    "df_players_fielding_100 = df_players_fielding[df_players_fielding['total_pa'] > 100]\n",
    "df_players_fielding_100.groupby('primary_position')['ops'].mean()"
   ]
  },
  {
   "cell_type": "code",
   "execution_count": 78,
   "id": "a6b21bf0-ccaa-42d1-be5b-05bbe7abae0e",
   "metadata": {},
   "outputs": [
    {
     "data": {
      "text/plain": [
       "1468    0.930153\n",
       "3960    0.852243\n",
       "6452    1.021815\n",
       "Name: ops, dtype: float64"
      ]
     },
     "execution_count": 78,
     "metadata": {},
     "output_type": "execute_result"
    }
   ],
   "source": [
    "#numbers are still off\n",
    "df_players_fielding_100[df_players_fielding_100['primary_position'] == 'p']['ops']"
   ]
  },
  {
   "cell_type": "code",
   "execution_count": 80,
   "id": "41b034f2-329b-45fa-bb90-b38ca48c5fa1",
   "metadata": {},
   "outputs": [],
   "source": [
    "#set DHs to be when a player has a lot of PA but very little fielding"
   ]
  },
  {
   "cell_type": "code",
   "execution_count": 141,
   "id": "0e79ad6f-1c0c-498a-966b-b7ddd3aecb75",
   "metadata": {},
   "outputs": [
    {
     "data": {
      "text/plain": [
       "primary_position  bats\n",
       "1b                B       405.700000\n",
       "                  L       300.030000\n",
       "                  R       409.850575\n",
       "2b                B       309.128205\n",
       "                  L       328.928571\n",
       "                  R       259.264463\n",
       "3b                B       315.821429\n",
       "                  L       320.666667\n",
       "                  R       289.691275\n",
       "c                 B       263.157895\n",
       "                  L       137.022727\n",
       "                  R       210.728889\n",
       "cf                B       262.450000\n",
       "                  L       261.610526\n",
       "                  R       271.051724\n",
       "lf                B       359.150000\n",
       "                  L       289.938053\n",
       "                  R       274.954545\n",
       "p                 B         1.694444\n",
       "                  L         5.440559\n",
       "                  R         1.913945\n",
       "rf                B       209.181818\n",
       "                  L       252.037383\n",
       "                  R       332.275510\n",
       "ss                B       282.218750\n",
       "                  L       291.571429\n",
       "                  R       346.577236\n",
       "Name: total_pa, dtype: float64"
      ]
     },
     "execution_count": 141,
     "metadata": {},
     "output_type": "execute_result"
    }
   ],
   "source": [
    "df_players_fielding.groupby(['primary_position','bats'])['total_pa'].mean()"
   ]
  },
  {
   "cell_type": "code",
   "execution_count": 145,
   "id": "694b2349-a763-447d-b4a7-2170e190b52f",
   "metadata": {},
   "outputs": [
    {
     "data": {
      "text/plain": [
       "primary_position\n",
       "1b    386.642458\n",
       "2b    333.446701\n",
       "3b    345.598930\n",
       "c     265.652361\n",
       "cf    305.055276\n",
       "lf    341.738916\n",
       "p     114.774194\n",
       "rf    340.805405\n",
       "ss    394.393548\n",
       "Name: total_pa, dtype: float64"
      ]
     },
     "execution_count": 145,
     "metadata": {},
     "output_type": "execute_result"
    }
   ],
   "source": [
    "#check for only players above 50 PA\n",
    "df_players_fielding[df_players_fielding['total_pa'] >= 50].groupby(['primary_position'])['total_pa'].mean()"
   ]
  },
  {
   "cell_type": "code",
   "execution_count": 159,
   "id": "b9f348ef-0bab-49d9-80d5-917ba0c67cf6",
   "metadata": {},
   "outputs": [],
   "source": [
    "#should calculate average"
   ]
  },
  {
   "cell_type": "code",
   "execution_count": 203,
   "id": "d01980fb-dd7e-4efd-9ce2-dce64e60c48c",
   "metadata": {},
   "outputs": [
    {
     "name": "stderr",
     "output_type": "stream",
     "text": [
      "C:\\Users\\etien\\AppData\\Local\\Temp\\ipykernel_50100\\2418448499.py:12: SettingWithCopyWarning: \n",
      "A value is trying to be set on a copy of a slice from a DataFrame.\n",
      "Try using .loc[row_indexer,col_indexer] = value instead\n",
      "\n",
      "See the caveats in the documentation: https://pandas.pydata.org/pandas-docs/stable/user_guide/indexing.html#returning-a-view-versus-a-copy\n",
      "  df_players_fielding_50['ops_bin'] = pd.cut(df_players_fielding_50['ops'], bins=bins, labels=labels)\n"
     ]
    }
   ],
   "source": [
    "# Compute mean and standard deviation based on 100+ pa\n",
    "df_players_fielding_50 = df_players_fielding[df_players_fielding['total_pa'] >= 100]\n",
    "\n",
    "mean_ops = df_players_fielding_50['ops'].mean()\n",
    "std_ops = df_players_fielding_50['ops'].std()\n",
    "\n",
    "# Define bins based on standard deviations\n",
    "bins = [-np.inf, mean_ops - 2*std_ops, mean_ops - std_ops, mean_ops, mean_ops + std_ops, mean_ops + 2*std_ops, np.inf]\n",
    "labels = ['Very Low', 'Low', 'Below Average', 'Above Average', 'High', 'Very High']\n",
    "\n",
    "# Apply binning\n",
    "df_players_fielding_50['ops_bin'] = pd.cut(df_players_fielding_50['ops'], bins=bins, labels=labels)\n"
   ]
  },
  {
   "cell_type": "code",
   "execution_count": 205,
   "id": "6657ea1c-1d4e-4068-96f9-35de79b7fe8b",
   "metadata": {},
   "outputs": [
    {
     "data": {
      "text/plain": [
       "primary_position  ops_bin      \n",
       "1b                Above Average    67\n",
       "                  Below Average    46\n",
       "                  High             26\n",
       "                  Low              10\n",
       "                  Very High         9\n",
       "                  Very Low          1\n",
       "2b                Below Average    68\n",
       "                  Above Average    56\n",
       "                  Low              23\n",
       "                  High             17\n",
       "                  Very Low          2\n",
       "                  Very High         1\n",
       "3b                Above Average    65\n",
       "                  Below Average    58\n",
       "                  High             22\n",
       "                  Low              14\n",
       "                  Very Low          4\n",
       "                  Very High         1\n",
       "c                 Below Average    71\n",
       "                  Above Average    56\n",
       "                  Low              46\n",
       "                  High             18\n",
       "                  Very Low         10\n",
       "                  Very High         1\n",
       "cf                Below Average    63\n",
       "                  Above Average    51\n",
       "                  Low              22\n",
       "                  High             18\n",
       "                  Very Low          8\n",
       "                  Very High         5\n",
       "lf                Above Average    77\n",
       "                  Below Average    62\n",
       "                  High             19\n",
       "                  Low              18\n",
       "                  Very High         5\n",
       "                  Very Low          1\n",
       "p                 Very High         2\n",
       "                  High              1\n",
       "                  Very Low          0\n",
       "                  Low               0\n",
       "                  Below Average     0\n",
       "                  Above Average     0\n",
       "rf                Above Average    64\n",
       "                  Below Average    52\n",
       "                  High             21\n",
       "                  Low              14\n",
       "                  Very High         9\n",
       "                  Very Low          0\n",
       "ss                Below Average    49\n",
       "                  Above Average    45\n",
       "                  Low              25\n",
       "                  High             15\n",
       "                  Very Low          2\n",
       "                  Very High         2\n",
       "Name: count, dtype: int64"
      ]
     },
     "execution_count": 205,
     "metadata": {},
     "output_type": "execute_result"
    }
   ],
   "source": [
    "df_players_fielding_50.groupby(['primary_position'])['ops_bin'].value_counts()"
   ]
  },
  {
   "cell_type": "code",
   "execution_count": 207,
   "id": "28be8029-2160-4f04-baad-ed7af574aee5",
   "metadata": {},
   "outputs": [
    {
     "data": {
      "text/plain": [
       "<Axes: ylabel='ops_bin'>"
      ]
     },
     "execution_count": 207,
     "metadata": {},
     "output_type": "execute_result"
    },
    {
     "data": {
      "image/png": "[encoded data removed]",
      "text/plain": [
       "<Figure size 640x480 with 1 Axes>"
      ]
     },
     "metadata": {},
     "output_type": "display_data"
    }
   ],
   "source": [
    "sns.barplot(df_players_fielding_50['ops_bin'])"
   ]
  },
  {
   "cell_type": "code",
   "execution_count": null,
   "id": "1a6d4494-1761-447d-a991-36bdaa953a12",
   "metadata": {},
   "outputs": [],
   "source": []
  }
 ],
 "metadata": {
  "kernelspec": {
   "display_name": "Python [conda env:base] *",
   "language": "python",
   "name": "conda-base-py"
  },
  "language_info": {
   "codemirror_mode": {
    "name": "ipython",
    "version": 3
   },
   "file_extension": ".py",
   "mimetype": "text/x-python",
   "name": "python",
   "nbconvert_exporter": "python",
   "pygments_lexer": "ipython3",
   "version": "3.12.7"
  }
 },
 "nbformat": 4,
 "nbformat_minor": 5
}
