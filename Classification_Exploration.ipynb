{
 "cells": [
  {
   "cell_type": "code",
   "execution_count": 37,
   "id": "143a6a7c-64ca-4612-9ce3-47ec07e6780c",
   "metadata": {},
   "outputs": [],
   "source": [
    "#import standard libraries\n",
    "import pandas as pd\n",
    "import numpy as np\n",
    "import matplotlib.pyplot as plt\n",
    "import seaborn as sns"
   ]
  },
  {
   "cell_type": "code",
   "execution_count": 38,
   "id": "91ad0f0c-8eeb-4900-849e-678b52f1d634",
   "metadata": {},
   "outputs": [],
   "source": [
    "#import needed csvs\n",
    "df_plays = pd.read_csv('plays.csv')\n",
    "df_player_play_motion = pd.read_csv('player_play_motion_labels.csv')"
   ]
  },
  {
   "cell_type": "code",
   "execution_count": 39,
   "id": "c87c7946-3db1-4786-bd24-300ae06b7b64",
   "metadata": {},
   "outputs": [],
   "source": [
    "#label the different motion categories\n",
    "motion_dict = {\n",
    "    12:'Motion next to opposite side tackle',\n",
    "    5:'Slot player cuts in front of the ball',\n",
    "    2:'Motion to other side of line as a wideout',\n",
    "    16:'Wideout cuts back towards the snap',\n",
    "    1:'RB motions to other side of QB',\n",
    "    22:'Slight motion next to Tackle',\n",
    "    0:'Wideout motions closer to line',\n",
    "    14:'Slot player moves towards the snap',\n",
    "    19:'Wideout motions next to tackle',\n",
    "    4:'Closer wideout motions to backfield', \n",
    "    17:'RB small motion forward',\n",
    "    11:'Player slightly motions next to tackle', \n",
    "    3:'Wideout motions past ball then cuts back',\n",
    "    8:'RB goes forward then returns',\n",
    "    10:'RB motion in backfield',\n",
    "    13:'Wideout motions further outside',\n",
    "    6:'Backfield motions to closer wideout (same side)', \n",
    "    7:'Backfield motions to closer wideout (opposite side)',\n",
    "    15:'Wideout motions to backfield',\n",
    "    9:'Wideout motions to slot', \n",
    "    20:'Wideout moves back but returns to inital position',\n",
    "    23:'Player behind tackle moves to wideout', \n",
    "    18:'Backfield motions to farther wideout (same side)',\n",
    "    21:'Backfield motions to farther wideout (opposite side)',\n",
    "    -1:'No Motion'\n",
    "}"
   ]
  },
  {
   "cell_type": "code",
   "execution_count": 40,
   "id": "c21a3658-dea7-4a64-82ee-9ba741e7fc89",
   "metadata": {},
   "outputs": [],
   "source": [
    "#find plays where there was a motion\n",
    "df_motion_labels = df_player_play_motion[['gameId','playId','nflId','motion_label']]\n",
    "\n",
    "df_plays_labeled = df_plays.merge(df_motion_labels,on=['gameId','playId'],how='left')\n",
    "df_plays_labeled['motion_label'] = df_plays_labeled['motion_label'].fillna(-1)\n",
    "\n",
    "df_plays_labeled['is_rush'] = np.where(df_plays_labeled['passResult'].isna(), 1, 0)\n",
    "\n",
    "motion_dfs_dict = {label: group for label, group in df_plays_labeled.groupby('motion_label')}"
   ]
  },
  {
   "cell_type": "code",
   "execution_count": 41,
   "id": "5b702d08-3f5b-47fd-aa13-6aa648dd0a8a",
   "metadata": {},
   "outputs": [
    {
     "name": "stdout",
     "output_type": "stream",
     "text": [
      "                                          Motion Type  Mean EPA  Count\n",
      "0                                           No Motion -0.066150  12322\n",
      "1            Wideout motions past ball then cuts back  0.201486    162\n",
      "2                        Slight motion next to Tackle  0.128501    220\n",
      "3   Backfield motions to closer wideout (opposite ... -0.004371    119\n",
      "4                 Closer wideout motions to backfield -0.083418    170\n",
      "5                      Wideout motions next to tackle -0.120343    196\n",
      "6                             Wideout motions to slot -0.017665     89\n",
      "7                 Motion next to opposite side tackle  0.125558    561\n",
      "8                             RB small motion forward -0.019009    168\n",
      "9               Slot player cuts in front of the ball  0.110514    465\n",
      "10                     RB motions to other side of QB -0.082470    220\n",
      "11    Backfield motions to closer wideout (same side)  0.074728    127\n",
      "12                 Wideout cuts back towards the snap  0.335918    243\n",
      "13          Motion to other side of line as a wideout  0.270029    365\n",
      "14                             RB motion in backfield  0.007986    135\n",
      "15                     Wideout motions closer to line  0.305372    218\n",
      "16  Wideout moves back but returns to inital position  0.021964     80\n",
      "17  Backfield motions to farther wideout (opposite... -0.035095     59\n",
      "18                       RB goes forward then returns  0.156202    135\n",
      "19   Backfield motions to farther wideout (same side)  0.193563     62\n",
      "20                    Wideout motions further outside -0.030397    133\n",
      "21                 Slot player moves towards the snap -0.000482    199\n",
      "22             Player slightly motions next to tackle  0.095400    165\n",
      "23              Player behind tackle moves to wideout  0.134332     77\n",
      "24                       Wideout motions to backfield  0.075241    116\n"
     ]
    }
   ],
   "source": [
    "#calculate average EPA for every motion category\n",
    "motion_epa_data = []\n",
    "\n",
    "for i in df_plays_labeled['motion_label'].unique():\n",
    "    mean_value = motion_dfs_dict[i]['expectedPointsAdded'].mean()\n",
    "    count_value = len(motion_dfs_dict[i]['expectedPointsAdded'])\n",
    "    motion_epa_data.append([motion_dict[i], mean_value, count_value])\n",
    "\n",
    "#export the data to a csv\n",
    "df_motion_epa_data = pd.DataFrame(motion_epa_data, columns=[\"Motion Type\", \"Mean EPA\", \"Count\"])\n",
    "df_motion_epa_data.to_csv('epa_motion.csv')\n",
    "\n",
    "print(df_motion_epa_data)"
   ]
  },
  {
   "cell_type": "code",
   "execution_count": 42,
   "id": "c4070b49-90be-4a08-b2e7-b3e65912cba2",
   "metadata": {},
   "outputs": [
    {
     "name": "stdout",
     "output_type": "stream",
     "text": [
      "                                          Motion Type  Rush Percentage  Count\n",
      "0                                             Overall         0.389325  16806\n",
      "1                                           No Motion         0.437916  12322\n",
      "2            Wideout motions past ball then cuts back         0.259259    162\n",
      "3                        Slight motion next to Tackle         0.240909    220\n",
      "4   Backfield motions to closer wideout (opposite ...         0.260504    119\n",
      "5                 Closer wideout motions to backfield         0.335294    170\n",
      "6                      Wideout motions next to tackle         0.214286    196\n",
      "7                             Wideout motions to slot         0.179775     89\n",
      "8                 Motion next to opposite side tackle         0.295900    561\n",
      "9                             RB small motion forward         0.351190    168\n",
      "10              Slot player cuts in front of the ball         0.187097    465\n",
      "11                     RB motions to other side of QB         0.336364    220\n",
      "12    Backfield motions to closer wideout (same side)         0.125984    127\n",
      "13                 Wideout cuts back towards the snap         0.506173    243\n",
      "14          Motion to other side of line as a wideout         0.180822    365\n",
      "15                             RB motion in backfield         0.355556    135\n",
      "16                     Wideout motions closer to line         0.059633    218\n",
      "17  Wideout moves back but returns to inital position         0.112500     80\n",
      "18  Backfield motions to farther wideout (opposite...         0.050847     59\n",
      "19                       RB goes forward then returns         0.481481    135\n",
      "20   Backfield motions to farther wideout (same side)         0.032258     62\n",
      "21                    Wideout motions further outside         0.052632    133\n",
      "22                 Slot player moves towards the snap         0.462312    199\n",
      "23             Player slightly motions next to tackle         0.175758    165\n",
      "24              Player behind tackle moves to wideout         0.064935     77\n",
      "25                       Wideout motions to backfield         0.362069    116\n"
     ]
    }
   ],
   "source": [
    "#calculate run vs pass percentage for every motion category\n",
    "data_run_pass_pct = []\n",
    "\n",
    "#overall rush percentage\n",
    "overall_rush_pct = df_plays_labeled['is_rush'].mean()\n",
    "overall_count = len(df_plays_labeled['is_rush'])\n",
    "data_run_pass_pct.append(['Overall', overall_rush_pct, overall_count])\n",
    "\n",
    "#per motion rush percentage\n",
    "for i in df_plays_labeled['motion_label'].unique():\n",
    "    motion_rush_pct = motion_dfs_dict[i]['is_rush'].mean()\n",
    "    motion_count = len(motion_dfs_dict[i]['is_rush'])\n",
    "    data_run_pass_pct.append([motion_dict[i], motion_rush_pct, motion_count])\n",
    "\n",
    "#export to csv\n",
    "df_rush_data = pd.DataFrame(data_run_pass_pct, columns=[\"Motion Type\", \"Rush Percentage\", \"Count\"])\n",
    "df_rush_data.to_csv('motion_rush_data.csv', index=False)\n",
    "\n",
    "#print results\n",
    "print(df_rush_data)"
   ]
  },
  {
   "cell_type": "code",
   "execution_count": 43,
   "id": "30d5dfd0-58eb-4bb4-bec0-a826919bfe2f",
   "metadata": {},
   "outputs": [],
   "source": [
    "#now explore if the direction of the motion affects what direction a run goes in"
   ]
  },
  {
   "cell_type": "code",
   "execution_count": 44,
   "id": "d4519ff6-817a-421d-a3cc-7048edb0f07e",
   "metadata": {},
   "outputs": [],
   "source": [
    "#simplify dataframe\n",
    "columns_for_run_dir = ['gameId', 'playId', 'nflId', 'teamAbbr','hadRushAttempt',\n",
    "                        'overall_y_change','swapped_y_dir',\n",
    "                        'swapped_side','position','y_flipped','init_rel_y_dis',\n",
    "                       'end_rel_y_dis'\n",
    "                       ]\n",
    "df_run_loc = df_player_play_motion[columns_for_run_dir]"
   ]
  },
  {
   "cell_type": "code",
   "execution_count": 45,
   "id": "0ec17e00-600d-42a6-bf5c-e6cfc6f5b41b",
   "metadata": {},
   "outputs": [
    {
     "name": "stderr",
     "output_type": "stream",
     "text": [
      "C:\\Users\\etien\\AppData\\Local\\Temp\\ipykernel_46828\\2294186511.py:2: SettingWithCopyWarning: \n",
      "A value is trying to be set on a copy of a slice from a DataFrame.\n",
      "Try using .loc[row_indexer,col_indexer] = value instead\n",
      "\n",
      "See the caveats in the documentation: https://pandas.pydata.org/pandas-docs/stable/user_guide/indexing.html#returning-a-view-versus-a-copy\n",
      "  df_run_loc['moved_towards_snap'] = ((df_run_loc['overall_y_change'] > 100) & (df_run_loc['end_rel_y_dis'] > 0)).astype(int)\n",
      "C:\\Users\\etien\\AppData\\Local\\Temp\\ipykernel_46828\\2294186511.py:5: SettingWithCopyWarning: \n",
      "A value is trying to be set on a copy of a slice from a DataFrame.\n",
      "Try using .loc[row_indexer,col_indexer] = value instead\n",
      "\n",
      "See the caveats in the documentation: https://pandas.pydata.org/pandas-docs/stable/user_guide/indexing.html#returning-a-view-versus-a-copy\n",
      "  df_run_loc['moved_away_snap'] = (df_run_loc['overall_y_change'] < -100).astype(int)\n"
     ]
    }
   ],
   "source": [
    "#moved towards ball\n",
    "df_run_loc['moved_towards_snap'] = ((df_run_loc['overall_y_change'] > 100) & (df_run_loc['end_rel_y_dis'] > 0)).astype(int)\n",
    "\n",
    "#moved away from ball\n",
    "df_run_loc['moved_away_snap'] = (df_run_loc['overall_y_change'] < -100).astype(int)"
   ]
  },
  {
   "cell_type": "code",
   "execution_count": 46,
   "id": "202389de-97b3-4068-aaca-7eaafaf14b9b",
   "metadata": {},
   "outputs": [],
   "source": [
    "#flip y values back to their original values\n",
    "df_run_loc.loc[df_run_loc['y_flipped'] == 1, ['overall_y_change', 'init_rel_y_dis', 'end_rel_y_dis','moved_towards_snap','moved_away_snap']] *= -1"
   ]
  },
  {
   "cell_type": "code",
   "execution_count": 47,
   "id": "71ddd198-5ded-495a-af53-3c42336d3dfc",
   "metadata": {},
   "outputs": [],
   "source": [
    "df_plays_rush = df_plays_labeled[df_plays_labeled['passResult'].isna()]"
   ]
  },
  {
   "cell_type": "code",
   "execution_count": 48,
   "id": "a7ba3442-1e30-4f83-a1ac-cbfef6132807",
   "metadata": {},
   "outputs": [
    {
     "data": {
      "text/html": [
       "<div>\n",
       "<style scoped>\n",
       "    .dataframe tbody tr th:only-of-type {\n",
       "        vertical-align: middle;\n",
       "    }\n",
       "\n",
       "    .dataframe tbody tr th {\n",
       "        vertical-align: top;\n",
       "    }\n",
       "\n",
       "    .dataframe thead th {\n",
       "        text-align: right;\n",
       "    }\n",
       "</style>\n",
       "<table border=\"1\" class=\"dataframe\">\n",
       "  <thead>\n",
       "    <tr style=\"text-align: right;\">\n",
       "      <th></th>\n",
       "      <th>gameId</th>\n",
       "      <th>playId</th>\n",
       "      <th>nflId</th>\n",
       "      <th>teamAbbr</th>\n",
       "      <th>hadRushAttempt</th>\n",
       "      <th>overall_y_change</th>\n",
       "      <th>swapped_y_dir</th>\n",
       "      <th>swapped_side</th>\n",
       "      <th>position</th>\n",
       "      <th>y_flipped</th>\n",
       "      <th>init_rel_y_dis</th>\n",
       "      <th>end_rel_y_dis</th>\n",
       "      <th>moved_towards_snap</th>\n",
       "      <th>moved_away_snap</th>\n",
       "    </tr>\n",
       "  </thead>\n",
       "  <tbody>\n",
       "    <tr>\n",
       "      <th>0</th>\n",
       "      <td>2022090800</td>\n",
       "      <td>80</td>\n",
       "      <td>47857</td>\n",
       "      <td>BUF</td>\n",
       "      <td>0</td>\n",
       "      <td>-782</td>\n",
       "      <td>1</td>\n",
       "      <td>0</td>\n",
       "      <td>RB</td>\n",
       "      <td>1</td>\n",
       "      <td>-983</td>\n",
       "      <td>-201</td>\n",
       "      <td>-1</td>\n",
       "      <td>0</td>\n",
       "    </tr>\n",
       "    <tr>\n",
       "      <th>1</th>\n",
       "      <td>2022090800</td>\n",
       "      <td>101</td>\n",
       "      <td>53079</td>\n",
       "      <td>BUF</td>\n",
       "      <td>0</td>\n",
       "      <td>-322</td>\n",
       "      <td>1</td>\n",
       "      <td>1</td>\n",
       "      <td>FB</td>\n",
       "      <td>1</td>\n",
       "      <td>-2</td>\n",
       "      <td>320</td>\n",
       "      <td>0</td>\n",
       "      <td>0</td>\n",
       "    </tr>\n",
       "    <tr>\n",
       "      <th>2</th>\n",
       "      <td>2022090800</td>\n",
       "      <td>191</td>\n",
       "      <td>53079</td>\n",
       "      <td>BUF</td>\n",
       "      <td>0</td>\n",
       "      <td>59</td>\n",
       "      <td>0</td>\n",
       "      <td>0</td>\n",
       "      <td>FB</td>\n",
       "      <td>1</td>\n",
       "      <td>-554</td>\n",
       "      <td>-613</td>\n",
       "      <td>0</td>\n",
       "      <td>0</td>\n",
       "    </tr>\n",
       "    <tr>\n",
       "      <th>3</th>\n",
       "      <td>2022090800</td>\n",
       "      <td>236</td>\n",
       "      <td>52536</td>\n",
       "      <td>BUF</td>\n",
       "      <td>0</td>\n",
       "      <td>-500</td>\n",
       "      <td>0</td>\n",
       "      <td>0</td>\n",
       "      <td>WR</td>\n",
       "      <td>1</td>\n",
       "      <td>-1082</td>\n",
       "      <td>-582</td>\n",
       "      <td>-1</td>\n",
       "      <td>0</td>\n",
       "    </tr>\n",
       "    <tr>\n",
       "      <th>4</th>\n",
       "      <td>2022090800</td>\n",
       "      <td>299</td>\n",
       "      <td>43399</td>\n",
       "      <td>LA</td>\n",
       "      <td>0</td>\n",
       "      <td>481</td>\n",
       "      <td>0</td>\n",
       "      <td>1</td>\n",
       "      <td>TE</td>\n",
       "      <td>0</td>\n",
       "      <td>12</td>\n",
       "      <td>-469</td>\n",
       "      <td>0</td>\n",
       "      <td>0</td>\n",
       "    </tr>\n",
       "  </tbody>\n",
       "</table>\n",
       "</div>"
      ],
      "text/plain": [
       "       gameId  playId  nflId teamAbbr  hadRushAttempt  overall_y_change  \\\n",
       "0  2022090800      80  47857      BUF               0              -782   \n",
       "1  2022090800     101  53079      BUF               0              -322   \n",
       "2  2022090800     191  53079      BUF               0                59   \n",
       "3  2022090800     236  52536      BUF               0              -500   \n",
       "4  2022090800     299  43399       LA               0               481   \n",
       "\n",
       "   swapped_y_dir  swapped_side position  y_flipped  init_rel_y_dis  \\\n",
       "0              1             0       RB          1            -983   \n",
       "1              1             1       FB          1              -2   \n",
       "2              0             0       FB          1            -554   \n",
       "3              0             0       WR          1           -1082   \n",
       "4              0             1       TE          0              12   \n",
       "\n",
       "   end_rel_y_dis  moved_towards_snap  moved_away_snap  \n",
       "0           -201                  -1                0  \n",
       "1            320                   0                0  \n",
       "2           -613                   0                0  \n",
       "3           -582                  -1                0  \n",
       "4           -469                   0                0  "
      ]
     },
     "execution_count": 48,
     "metadata": {},
     "output_type": "execute_result"
    }
   ],
   "source": [
    "#find how far the player moved towards the line \n",
    "\n",
    "df_run_loc.head()"
   ]
  },
  {
   "cell_type": "code",
   "execution_count": 49,
   "id": "e5519598-99d1-4b50-9423-835a7284d6e9",
   "metadata": {},
   "outputs": [
    {
     "name": "stderr",
     "output_type": "stream",
     "text": [
      "C:\\Users\\etien\\AppData\\Local\\Temp\\ipykernel_46828\\2615003364.py:2: SettingWithCopyWarning: \n",
      "A value is trying to be set on a copy of a slice from a DataFrame.\n",
      "Try using .loc[row_indexer,col_indexer] = value instead\n",
      "\n",
      "See the caveats in the documentation: https://pandas.pydata.org/pandas-docs/stable/user_guide/indexing.html#returning-a-view-versus-a-copy\n",
      "  df_run_loc['starting_side'] = (df_run_loc['init_rel_y_dis'] > 0).astype(int)\n"
     ]
    }
   ],
   "source": [
    "#starting side\n",
    "df_run_loc['starting_side'] = (df_run_loc['init_rel_y_dis'] > 0).astype(int)"
   ]
  },
  {
   "cell_type": "code",
   "execution_count": 50,
   "id": "cdc06a7c-2513-41cd-aa90-aae087a4b037",
   "metadata": {},
   "outputs": [],
   "source": [
    "df_rush_locations = df_plays_rush[['gameId','playId','rushLocationType']]"
   ]
  },
  {
   "cell_type": "code",
   "execution_count": 51,
   "id": "047e03c5-b40e-4016-8b3f-a488340316ed",
   "metadata": {},
   "outputs": [],
   "source": [
    "df_plays_rush_merge = df_run_loc.merge(df_rush_locations,on=['gameId','playId'],how='inner')"
   ]
  },
  {
   "cell_type": "code",
   "execution_count": 52,
   "id": "9c4b5bea-bdba-4995-ad76-7ff1cdba0e57",
   "metadata": {},
   "outputs": [],
   "source": [
    "#filter out unknown rush areas\n",
    "df_plays_only_rush = df_plays_rush_merge[df_plays_rush_merge['rushLocationType'] != 'UNKNOWN']"
   ]
  },
  {
   "cell_type": "code",
   "execution_count": 53,
   "id": "1adb354b-337f-4328-8951-7acf76429227",
   "metadata": {},
   "outputs": [
    {
     "data": {
      "text/html": [
       "<div>\n",
       "<style scoped>\n",
       "    .dataframe tbody tr th:only-of-type {\n",
       "        vertical-align: middle;\n",
       "    }\n",
       "\n",
       "    .dataframe tbody tr th {\n",
       "        vertical-align: top;\n",
       "    }\n",
       "\n",
       "    .dataframe thead th {\n",
       "        text-align: right;\n",
       "    }\n",
       "</style>\n",
       "<table border=\"1\" class=\"dataframe\">\n",
       "  <thead>\n",
       "    <tr style=\"text-align: right;\">\n",
       "      <th></th>\n",
       "      <th>gameId</th>\n",
       "      <th>playId</th>\n",
       "      <th>nflId</th>\n",
       "      <th>teamAbbr</th>\n",
       "      <th>hadRushAttempt</th>\n",
       "      <th>overall_y_change</th>\n",
       "      <th>swapped_y_dir</th>\n",
       "      <th>swapped_side</th>\n",
       "      <th>position</th>\n",
       "      <th>y_flipped</th>\n",
       "      <th>init_rel_y_dis</th>\n",
       "      <th>end_rel_y_dis</th>\n",
       "      <th>moved_towards_snap</th>\n",
       "      <th>moved_away_snap</th>\n",
       "      <th>starting_side</th>\n",
       "      <th>rushLocationType</th>\n",
       "    </tr>\n",
       "  </thead>\n",
       "  <tbody>\n",
       "    <tr>\n",
       "      <th>0</th>\n",
       "      <td>2022090800</td>\n",
       "      <td>101</td>\n",
       "      <td>53079</td>\n",
       "      <td>BUF</td>\n",
       "      <td>0</td>\n",
       "      <td>-322</td>\n",
       "      <td>1</td>\n",
       "      <td>1</td>\n",
       "      <td>FB</td>\n",
       "      <td>1</td>\n",
       "      <td>-2</td>\n",
       "      <td>320</td>\n",
       "      <td>0</td>\n",
       "      <td>0</td>\n",
       "      <td>0</td>\n",
       "      <td>INSIDE_RIGHT</td>\n",
       "    </tr>\n",
       "    <tr>\n",
       "      <th>1</th>\n",
       "      <td>2022090800</td>\n",
       "      <td>191</td>\n",
       "      <td>53079</td>\n",
       "      <td>BUF</td>\n",
       "      <td>0</td>\n",
       "      <td>59</td>\n",
       "      <td>0</td>\n",
       "      <td>0</td>\n",
       "      <td>FB</td>\n",
       "      <td>1</td>\n",
       "      <td>-554</td>\n",
       "      <td>-613</td>\n",
       "      <td>0</td>\n",
       "      <td>0</td>\n",
       "      <td>0</td>\n",
       "      <td>OUTSIDE_RIGHT</td>\n",
       "    </tr>\n",
       "    <tr>\n",
       "      <th>2</th>\n",
       "      <td>2022090800</td>\n",
       "      <td>299</td>\n",
       "      <td>43399</td>\n",
       "      <td>LA</td>\n",
       "      <td>0</td>\n",
       "      <td>481</td>\n",
       "      <td>0</td>\n",
       "      <td>1</td>\n",
       "      <td>TE</td>\n",
       "      <td>0</td>\n",
       "      <td>12</td>\n",
       "      <td>-469</td>\n",
       "      <td>0</td>\n",
       "      <td>0</td>\n",
       "      <td>1</td>\n",
       "      <td>INSIDE_RIGHT</td>\n",
       "    </tr>\n",
       "    <tr>\n",
       "      <th>3</th>\n",
       "      <td>2022090800</td>\n",
       "      <td>299</td>\n",
       "      <td>43399</td>\n",
       "      <td>LA</td>\n",
       "      <td>0</td>\n",
       "      <td>481</td>\n",
       "      <td>0</td>\n",
       "      <td>1</td>\n",
       "      <td>TE</td>\n",
       "      <td>0</td>\n",
       "      <td>12</td>\n",
       "      <td>-469</td>\n",
       "      <td>0</td>\n",
       "      <td>0</td>\n",
       "      <td>1</td>\n",
       "      <td>INSIDE_RIGHT</td>\n",
       "    </tr>\n",
       "    <tr>\n",
       "      <th>4</th>\n",
       "      <td>2022090800</td>\n",
       "      <td>299</td>\n",
       "      <td>53678</td>\n",
       "      <td>LA</td>\n",
       "      <td>0</td>\n",
       "      <td>492</td>\n",
       "      <td>0</td>\n",
       "      <td>0</td>\n",
       "      <td>WR</td>\n",
       "      <td>0</td>\n",
       "      <td>1021</td>\n",
       "      <td>529</td>\n",
       "      <td>1</td>\n",
       "      <td>0</td>\n",
       "      <td>1</td>\n",
       "      <td>INSIDE_RIGHT</td>\n",
       "    </tr>\n",
       "  </tbody>\n",
       "</table>\n",
       "</div>"
      ],
      "text/plain": [
       "       gameId  playId  nflId teamAbbr  hadRushAttempt  overall_y_change  \\\n",
       "0  2022090800     101  53079      BUF               0              -322   \n",
       "1  2022090800     191  53079      BUF               0                59   \n",
       "2  2022090800     299  43399       LA               0               481   \n",
       "3  2022090800     299  43399       LA               0               481   \n",
       "4  2022090800     299  53678       LA               0               492   \n",
       "\n",
       "   swapped_y_dir  swapped_side position  y_flipped  init_rel_y_dis  \\\n",
       "0              1             1       FB          1              -2   \n",
       "1              0             0       FB          1            -554   \n",
       "2              0             1       TE          0              12   \n",
       "3              0             1       TE          0              12   \n",
       "4              0             0       WR          0            1021   \n",
       "\n",
       "   end_rel_y_dis  moved_towards_snap  moved_away_snap  starting_side  \\\n",
       "0            320                   0                0              0   \n",
       "1           -613                   0                0              0   \n",
       "2           -469                   0                0              1   \n",
       "3           -469                   0                0              1   \n",
       "4            529                   1                0              1   \n",
       "\n",
       "  rushLocationType  \n",
       "0     INSIDE_RIGHT  \n",
       "1    OUTSIDE_RIGHT  \n",
       "2     INSIDE_RIGHT  \n",
       "3     INSIDE_RIGHT  \n",
       "4     INSIDE_RIGHT  "
      ]
     },
     "execution_count": 53,
     "metadata": {},
     "output_type": "execute_result"
    }
   ],
   "source": [
    "df_plays_only_rush.head()"
   ]
  },
  {
   "cell_type": "code",
   "execution_count": 54,
   "id": "86f6b6ff-1fc0-48cc-a566-3520c635f370",
   "metadata": {},
   "outputs": [
    {
     "data": {
      "image/png": "[encoded data removed]",
      "text/plain": [
       "<Figure size 1000x600 with 1 Axes>"
      ]
     },
     "metadata": {},
     "output_type": "display_data"
    }
   ],
   "source": [
    "percentage_df = df_plays_only_rush.groupby(['moved_towards_snap', 'rushLocationType']).size().reset_index(name='count')\n",
    "percentage_df['percentage'] = percentage_df.groupby('moved_towards_snap')['count'].transform(lambda x: x / x.sum() * 100)\n",
    "\n",
    "# Create a bar plot for visualization\n",
    "plt.figure(figsize=(10, 6))\n",
    "sns.barplot(data=percentage_df, x='moved_towards_snap', y='percentage', hue='rushLocationType')\n",
    "plt.title('Percentage of rushLocationType for Each Flipped Side')\n",
    "plt.xlabel('moved_towards_snap')\n",
    "plt.ylabel('Percentage (%)')\n",
    "plt.legend(title='Rush Location Type')\n",
    "plt.xticks(rotation=0)\n",
    "plt.tight_layout()\n",
    "plt.show()"
   ]
  },
  {
   "cell_type": "code",
   "execution_count": 78,
   "id": "e43e5abb-7178-434e-a05d-45d9e109d977",
   "metadata": {},
   "outputs": [
    {
     "data": {
      "image/png": "[encoded data removed]",
      "text/plain": [
       "<Figure size 1000x600 with 1 Axes>"
      ]
     },
     "metadata": {},
     "output_type": "display_data"
    }
   ],
   "source": [
    "percentage_df = df_plays_rush_merge.groupby(['moved_away_snap', 'rushLocationType']).size().reset_index(name='count')\n",
    "percentage_df['percentage'] = percentage_df.groupby('moved_away_snap')['count'].transform(lambda x: x / x.sum() * 100)\n",
    "\n",
    "# Create a bar plot for visualization\n",
    "plt.figure(figsize=(10, 6))\n",
    "sns.barplot(data=percentage_df, x='moved_away_snap', y='percentage', hue='rushLocationType')\n",
    "plt.title('Percentage of rushLocationType for Each Flipped Side')\n",
    "plt.xlabel('moved_away_snap Side')\n",
    "plt.ylabel('Percentage (%)')\n",
    "plt.legend(title='Rush Location Type')\n",
    "plt.xticks(rotation=0)\n",
    "plt.tight_layout()\n",
    "plt.show()"
   ]
  },
  {
   "cell_type": "code",
   "execution_count": 80,
   "id": "ecce2447-1262-4a66-8343-08e2d1cb2059",
   "metadata": {},
   "outputs": [],
   "source": [
    "#find run percentage as well later"
   ]
  },
  {
   "cell_type": "code",
   "execution_count": 98,
   "id": "e80602e2-e508-4d66-915d-5d1df2d24721",
   "metadata": {},
   "outputs": [],
   "source": [
    "#Check for each category\n",
    "df_labels_simp = df_plays_labeled[['gameId','playId','nflId','motion_label']]"
   ]
  },
  {
   "cell_type": "code",
   "execution_count": 104,
   "id": "8c7a61cf-9c18-41f3-b3e9-b580e090ed7a",
   "metadata": {},
   "outputs": [
    {
     "data": {
      "text/plain": [
       "nflId\n",
       "47791.0    65\n",
       "40011.0    61\n",
       "45268.0    55\n",
       "53541.0    45\n",
       "46226.0    44\n",
       "           ..\n",
       "33130.0     1\n",
       "42344.0     1\n",
       "54563.0     1\n",
       "41292.0     1\n",
       "53517.0     1\n",
       "Name: count, Length: 417, dtype: int64"
      ]
     },
     "execution_count": 104,
     "metadata": {},
     "output_type": "execute_result"
    }
   ],
   "source": [
    "#also note: players who went in motion the most\n",
    "df_labels_simp['nflId'].value_counts()"
   ]
  },
  {
   "cell_type": "code",
   "execution_count": 114,
   "id": "35882000-2655-4694-bc3d-d0decb332c5a",
   "metadata": {},
   "outputs": [],
   "source": [
    "#DO LEFT TO GET PERCENTAGES LATER\n",
    "df_motion_rush_dir = df_labels_simp.merge(df_rush_locations,on=['gameId','playId'],how='inner')"
   ]
  },
  {
   "cell_type": "code",
   "execution_count": 120,
   "id": "f1e76a11-67dc-45e4-80b4-4c2b369a1aa8",
   "metadata": {},
   "outputs": [],
   "source": [
    "df_motion_rush_dir = df_motion_rush_dir[df_motion_rush_dir['rushLocationType'] != 'UNKNOWN']"
   ]
  },
  {
   "cell_type": "code",
   "execution_count": 136,
   "id": "b9ef6a84-eec4-4c0c-94bf-4c734eda8eb3",
   "metadata": {},
   "outputs": [],
   "source": [
    "#need to separate motions that went from left to right side to better analyze\n",
    "df_flipped = df_player_play_motion[['gameId','playId','y_flipped']]"
   ]
  },
  {
   "cell_type": "code",
   "execution_count": 140,
   "id": "9920abc2-e497-43ff-a0da-0c0cd8f91669",
   "metadata": {},
   "outputs": [],
   "source": [
    "df_motion_rush_dir = df_motion_rush_dir.merge(df_flipped,on=['gameId','playId'],how='inner')"
   ]
  },
  {
   "cell_type": "code",
   "execution_count": 128,
   "id": "2a41ca3e-ca23-407f-9eed-2f26cf3798d2",
   "metadata": {},
   "outputs": [
    {
     "name": "stdout",
     "output_type": "stream",
     "text": [
      "    Motion Type  Out Left   In Left  In Right  Out Right\n",
      "0          -1.0  0.195374  0.286370  0.295737   0.222520\n",
      "1          22.0  0.242857  0.285714  0.171429   0.300000\n",
      "2          12.0  0.144628  0.280992  0.376033   0.198347\n",
      "3           3.0  0.326087  0.173913  0.260870   0.239130\n",
      "4           7.0  0.055556  0.388889  0.444444   0.111111\n",
      "5          16.0  0.237500  0.275000  0.281250   0.206250\n",
      "6          10.0  0.090909  0.509091  0.327273   0.072727\n",
      "7           9.0  0.161290  0.096774  0.645161   0.096774\n",
      "8          19.0  0.153846  0.346154  0.326923   0.173077\n",
      "9           2.0  0.133333  0.333333  0.300000   0.233333\n",
      "10          8.0  0.293333  0.173333  0.306667   0.226667\n",
      "11          5.0  0.177570  0.308411  0.355140   0.158879\n",
      "12         20.0  0.040000  0.120000  0.800000   0.040000\n",
      "13          1.0  0.187500  0.400000  0.312500   0.100000\n",
      "14          4.0  0.154930  0.352113  0.323944   0.169014\n",
      "15         17.0  0.212121  0.378788  0.212121   0.196970\n",
      "16          6.0  0.076923  0.576923  0.192308   0.153846\n",
      "17         14.0  0.153226  0.338710  0.233871   0.274194\n",
      "18         13.0  0.000000  0.529412  0.235294   0.235294\n",
      "19          0.0  0.095238  0.523810  0.095238   0.285714\n",
      "20         11.0  0.045455  0.295455  0.454545   0.204545\n",
      "21         15.0  0.152174  0.282609  0.282609   0.282609\n",
      "22         23.0  0.142857  0.285714  0.428571   0.142857\n",
      "23         18.0  0.000000  1.000000  0.000000   0.000000\n",
      "24         21.0  0.000000  0.333333  0.333333   0.333333\n"
     ]
    }
   ],
   "source": [
    "#calculate average EPA for every motion category\n",
    "rush_dir_per_cat = []\n",
    "\n",
    "for i in df_motion_rush_dir['motion_label'].unique():\n",
    "    filtered_df = df_motion_rush_dir[df_motion_rush_dir['motion_label'] == i]\n",
    "    total_length = len(filtered_df)\n",
    "    out_left_count = len(filtered_df[filtered_df['rushLocationType'] == 'OUTSIDE_LEFT']) / total_length\n",
    "    in_left_count = len(filtered_df[filtered_df['rushLocationType'] == 'INSIDE_LEFT']) / total_length\n",
    "    in_right_count = len(filtered_df[filtered_df['rushLocationType'] == 'INSIDE_RIGHT']) / total_length\n",
    "    out_right_count = len(filtered_df[filtered_df['rushLocationType'] == 'OUTSIDE_RIGHT']) / total_length\n",
    "    \n",
    "    rush_dir_per_cat.append([i, out_left_count, in_left_count, in_right_count, out_right_count])\n",
    "\n",
    "df_rush_dir_per_cat = pd.DataFrame(rush_dir_per_cat, columns=[\"Motion Type\", \"Out Left\", \"In Left\", \"In Right\", \"Out Right\"])\n",
    "\n",
    "\n",
    "print(df_rush_dir_per_cat)"
   ]
  },
  {
   "cell_type": "code",
   "execution_count": 134,
   "id": "5b028962-1fb0-406f-a51e-d135c8c4f21d",
   "metadata": {},
   "outputs": [],
   "source": [
    "#were teams that went in that direction also more successful by EPA? This is the last rabbit hole to go down, need to put a close on this"
   ]
  },
  {
   "cell_type": "code",
   "execution_count": null,
   "id": "f47e4830-7a55-4f73-b489-988e0b98c257",
   "metadata": {},
   "outputs": [],
   "source": []
  }
 ],
 "metadata": {
  "kernelspec": {
   "display_name": "Python [conda env:base] *",
   "language": "python",
   "name": "conda-base-py"
  },
  "language_info": {
   "codemirror_mode": {
    "name": "ipython",
    "version": 3
   },
   "file_extension": ".py",
   "mimetype": "text/x-python",
   "name": "python",
   "nbconvert_exporter": "python",
   "pygments_lexer": "ipython3",
   "version": "3.12.7"
  }
 },
 "nbformat": 4,
 "nbformat_minor": 5
}
