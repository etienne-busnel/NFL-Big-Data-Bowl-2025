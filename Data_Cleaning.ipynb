{
 "cells": [
  {
   "cell_type": "code",
   "execution_count": 3,
   "id": "a919280c-6105-4535-927d-9281bf5d6db6",
   "metadata": {},
   "outputs": [],
   "source": [
    "#import standard libraries\n",
    "import pandas as pd\n",
    "import numpy as np\n",
    "import matplotlib.pyplot as plt\n",
    "import seaborn as sns"
   ]
  },
  {
   "cell_type": "code",
   "execution_count": 4,
   "id": "aee853b3-830c-4bc7-b5d0-7cc9e916b6fa",
   "metadata": {},
   "outputs": [],
   "source": [
    "#import functions\n",
    "from functions import *"
   ]
  },
  {
   "cell_type": "code",
   "execution_count": 5,
   "id": "d4b9fe9e-960b-47b0-a8b2-c4ee5820c752",
   "metadata": {},
   "outputs": [],
   "source": [
    "#download provided NFL data\n",
    "df_games = pd.read_csv('games.csv')\n",
    "df_player_play = pd.read_csv('player_play.csv')\n",
    "df_players = pd.read_csv('players.csv')\n",
    "df_plays = pd.read_csv('plays.csv')\n",
    "df_w1 = pd.read_csv('tracking_week_1.csv')\n",
    "df_w2 = pd.read_csv('tracking_week_2.csv')\n",
    "df_w3 = pd.read_csv('tracking_week_3.csv')\n",
    "df_w4 = pd.read_csv('tracking_week_4.csv')\n",
    "df_w5 = pd.read_csv('tracking_week_5.csv')\n",
    "df_w6 = pd.read_csv('tracking_week_6.csv')\n",
    "df_w7 = pd.read_csv('tracking_week_7.csv')\n",
    "df_w8 = pd.read_csv('tracking_week_8.csv')\n",
    "df_w9 = pd.read_csv('tracking_week_9.csv')"
   ]
  },
  {
   "cell_type": "code",
   "execution_count": 6,
   "id": "c05fbba6-70ac-4713-a591-d21628cab422",
   "metadata": {},
   "outputs": [],
   "source": [
    "#concatenate the player tracking dataframes\n",
    "tracking = pd.concat([df_w1,df_w2,df_w3,df_w4,df_w5,df_w6,df_w7,df_w8,df_w9])"
   ]
  },
  {
   "cell_type": "code",
   "execution_count": 7,
   "id": "60de9b5f-086f-4ee5-9177-b3393000210c",
   "metadata": {},
   "outputs": [],
   "source": [
    "#standardize the tracking dataframe\n",
    "standardize_df(tracking)"
   ]
  },
  {
   "cell_type": "code",
   "execution_count": 8,
   "id": "7b451501-64e6-4cc3-a12b-5551321122c7",
   "metadata": {},
   "outputs": [],
   "source": [
    "#drop unnecessary columns\n",
    "tracking = tracking.drop(columns=['x', 'y', 's', 'a','dis', 'o', 'dir','time','jerseyNumber','playDirection'])"
   ]
  },
  {
   "cell_type": "code",
   "execution_count": 9,
   "id": "367fa2cf-4df0-4a41-b794-bf264b8642a7",
   "metadata": {},
   "outputs": [],
   "source": [
    "#get the nflIds of all players on a play who motioned\n",
    "df_player_play_motion_ids = df_player_play[df_player_play['motionSinceLineset'] == True][['gameId', 'playId', 'nflId']]\n",
    "\n",
    "#filter tracking to only data from players who motioned\n",
    "tracking_motion = tracking.merge(df_player_play_motion_ids, on = ['gameId','playId','nflId'], how = 'inner')"
   ]
  },
  {
   "cell_type": "code",
   "execution_count": 10,
   "id": "0004ae8b-57ac-4837-bfdb-fc31b54ee15a",
   "metadata": {},
   "outputs": [],
   "source": [
    "#remove specific play with incorrectly labeled events\n",
    "tracking_motion = tracking_motion[(tracking_motion['gameId'] != 2022102700) | (tracking_motion['playId'] != 1325)]"
   ]
  },
  {
   "cell_type": "code",
   "execution_count": 11,
   "id": "426e0bdf-1c57-4cc3-9850-6541f1c39d45",
   "metadata": {},
   "outputs": [],
   "source": [
    "#get ids for kneels, spikes, and plays nullified by penalty\n",
    "df_plays_simple = df_plays[(df_plays['playNullifiedByPenalty'] == 'N') & (df_plays['qbSpike'] != True) & (df_plays['qbKneel'] != 1)][['gameId', 'playId']]\n",
    "\n",
    "#remove plays that fell into those categories\n",
    "tracking_motion = tracking_motion.merge(df_plays_simple, on=['gameId', 'playId'], how='inner')"
   ]
  },
  {
   "cell_type": "code",
   "execution_count": 12,
   "id": "62b5a576-51c1-4650-9a28-40f29d100224",
   "metadata": {},
   "outputs": [],
   "source": [
    "#find the football location on every play\n",
    "tracking_football = tracking[tracking['displayName'] == 'football'][['gameId','playId','frameId','x_std','y_std']]\n",
    "\n",
    "#add columns to tracking with the football's x and y coordinates\n",
    "tracking_motion = tracking_motion.merge(tracking_football, on = ['gameId','playId','frameId'], suffixes=('','_fb'))\n",
    "\n",
    "#calculate the distance from the player to the football\n",
    "tracking_motion['dis_fb_x'] = tracking_motion['x_std'] - tracking_motion['x_std_fb']\n",
    "tracking_motion['dis_fb_y'] = tracking_motion['y_std'] - tracking_motion['y_std_fb']"
   ]
  },
  {
   "cell_type": "code",
   "execution_count": 13,
   "id": "c7ac3b97-8e6c-40be-9a44-506802784a6f",
   "metadata": {},
   "outputs": [],
   "source": [
    "#filter tracking data to appear only between the line set and the ball snap\n",
    "tracking_motion_filtered = filter_to_between_line_set_ball_snap(tracking_motion)"
   ]
  },
  {
   "cell_type": "code",
   "execution_count": 14,
   "id": "5cc8c903-1f1a-4f0e-accd-6c0195ec1e9f",
   "metadata": {},
   "outputs": [],
   "source": [
    "#drop frameType column, not needed any more\n",
    "tracking_simple = tracking_motion_filtered.drop(columns=['frameType'])"
   ]
  },
  {
   "cell_type": "code",
   "execution_count": 15,
   "id": "86779c12-85da-4a35-9e2f-defe0dd076f6",
   "metadata": {},
   "outputs": [],
   "source": [
    "#calculate frames before snap (note: a frame is .1 second)\n",
    "tracking_simple['frames_bf_snap'] = tracking_simple['frameId_bs'] - tracking_simple['frameId']"
   ]
  },
  {
   "cell_type": "code",
   "execution_count": 16,
   "id": "f2019cfc-c577-4c60-bdc6-e792d7926718",
   "metadata": {},
   "outputs": [],
   "source": [
    "#make columns of the player's coordinates at the linesnap\n",
    "tracking_simple.loc[tracking_simple['frameId'] == tracking_simple['frameId_ls'], 'initial_x_std'] = tracking_simple['x_std']\n",
    "tracking_simple['initial_x_std'] = tracking_simple['initial_x_std'].ffill().astype(int)\n",
    "\n",
    "tracking_simple.loc[tracking_simple['frameId'] == tracking_simple['frameId_ls'], 'initial_y_std'] = tracking_simple['y_std']\n",
    "tracking_simple['initial_y_std'] = tracking_simple['initial_y_std'].ffill().astype(int)\n",
    "\n",
    "#find how far the player has moved from their initial coordinates at every frame\n",
    "tracking_simple['x_change_all'] = tracking_simple['initial_x_std'] - tracking_simple['x_std']\n",
    "tracking_simple['y_change_all'] = tracking_simple['initial_y_std'] - tracking_simple['y_std']"
   ]
  },
  {
   "cell_type": "code",
   "execution_count": 17,
   "id": "8d41ec0d-862b-4246-97f9-3cc920f7b736",
   "metadata": {},
   "outputs": [],
   "source": [
    "#find change in x,y coordinates per frame\n",
    "tracking_simple['x_change'] = tracking_simple.groupby(['gameId','playId','nflId'])['x_std'].diff().fillna(0).astype(int)\n",
    "tracking_simple['y_change'] = tracking_simple.groupby(['gameId','playId','nflId'])['y_std'].diff().fillna(0).astype(int)"
   ]
  },
  {
   "cell_type": "code",
   "execution_count": 18,
   "id": "e073ca4c-c839-40bb-8a63-9dfa6c5ba09d",
   "metadata": {},
   "outputs": [],
   "source": [
    "#create an estimate of how fast a person is in motion, see what the change in y is\n",
    "\n",
    "#first observe players not in motion/shifting\n",
    "df_player_play_motion_ids_false = df_player_play[(df_player_play['motionSinceLineset'] == False)&(df_player_play['shiftSinceLineset'] == False)][['gameId','playId','nflId']]\n",
    "tracking_avg_movement = tracking.merge(df_player_play_motion_ids_false, on = ['gameId','playId','nflId'], how = 'inner')\n",
    "\n",
    "tracking_avg_movement = filter_to_between_line_set_ball_snap(tracking_avg_movement)\n",
    "tracking_avg_movement = tracking_avg_movement.drop(columns=['frameType','event'])\n",
    "\n",
    "tracking_avg_movement['x_change'] = tracking_avg_movement.groupby(['gameId','playId','nflId'])['x_std'].diff().fillna(0).astype(int)\n",
    "tracking_avg_movement['y_change'] = tracking_avg_movement.groupby(['gameId','playId','nflId'])['y_std'].diff().fillna(0).astype(int)"
   ]
  },
  {
   "cell_type": "code",
   "execution_count": 19,
   "id": "7616143d-57ba-4ffd-aeba-711d0d8275d3",
   "metadata": {},
   "outputs": [
    {
     "data": {
      "text/plain": [
       "<Axes: xlabel='dis_std', ylabel='Count'>"
      ]
     },
     "execution_count": 19,
     "metadata": {},
     "output_type": "execute_result"
    },
    {
     "data": {
      "image/png": "[encoded data removed]",
      "text/plain": [
       "<Figure size 640x480 with 1 Axes>"
      ]
     },
     "metadata": {},
     "output_type": "display_data"
    }
   ],
   "source": [
    "#check average dis_std of someone not in motion/shifting\n",
    "sns.histplot(tracking_avg_movement['dis_std'].apply(lambda x: min(abs(x), 30)), discrete=True)"
   ]
  },
  {
   "cell_type": "code",
   "execution_count": 20,
   "id": "594eeed4-5ff1-4f4e-b3e3-5ddcad97f4a4",
   "metadata": {},
   "outputs": [
    {
     "data": {
      "text/plain": [
       "count    4.702742e+06\n",
       "mean    -2.406681e-03\n",
       "std      1.619059e+00\n",
       "min     -1.070000e+02\n",
       "25%      0.000000e+00\n",
       "50%      0.000000e+00\n",
       "75%      0.000000e+00\n",
       "max      1.460000e+02\n",
       "Name: y_change, dtype: float64"
      ]
     },
     "execution_count": 20,
     "metadata": {},
     "output_type": "execute_result"
    }
   ],
   "source": [
    "tracking_avg_movement['y_change'].describe()"
   ]
  },
  {
   "cell_type": "code",
   "execution_count": 21,
   "id": "b2941fc5-4adb-4088-a7c5-0358e37c5992",
   "metadata": {},
   "outputs": [
    {
     "data": {
      "text/plain": [
       "3.0"
      ]
     },
     "execution_count": 21,
     "metadata": {},
     "output_type": "execute_result"
    }
   ],
   "source": [
    "tracking_avg_movement['y_change'].quantile(.99)"
   ]
  },
  {
   "cell_type": "code",
   "execution_count": 22,
   "id": "55c40230-09e4-48fb-bd49-f8c73cd0409a",
   "metadata": {},
   "outputs": [
    {
     "data": {
      "text/plain": [
       "<Axes: xlabel='dis_std', ylabel='Count'>"
      ]
     },
     "execution_count": 22,
     "metadata": {},
     "output_type": "execute_result"
    },
    {
     "data": {
      "image/png": "[encoded data removed]",
      "text/plain": [
       "<Figure size 640x480 with 1 Axes>"
      ]
     },
     "metadata": {},
     "output_type": "display_data"
    }
   ],
   "source": [
    "#compare to histograph from players in motion\n",
    "sns.histplot(tracking_simple['dis_std'].apply(lambda x: min(abs(x), 30)), discrete=True)"
   ]
  },
  {
   "cell_type": "code",
   "execution_count": 23,
   "id": "ee17a7c3-abd9-494d-a615-5a47e24b8ca8",
   "metadata": {},
   "outputs": [],
   "source": [
    "#based on above results, mark a player as in motion/shift when their x_change or y_change is 4 or above\n",
    "tracking_simple['in_motion'] = (tracking_simple['dis_std'].abs() >= 4)*1"
   ]
  },
  {
   "cell_type": "code",
   "execution_count": 24,
   "id": "affd3fd7-214b-4c9d-90d9-e9d9e322bfe4",
   "metadata": {},
   "outputs": [],
   "source": [
    "#get tracking data for only tackle (needed in feature creation)\n",
    "tracking_tackles = tracking[tracking['event'] == 'ball_snap']\n",
    "df_players_line = df_players[df_players['position'] == 'T'][['nflId']]\n",
    "tracking_tackles = tracking_tackles.merge(df_players_line, on = ['nflId'])[['gameId','playId','y_std']]"
   ]
  },
  {
   "cell_type": "code",
   "execution_count": 25,
   "id": "3f456f17-4733-4f86-9bbe-263e0160dba2",
   "metadata": {},
   "outputs": [],
   "source": [
    "# #export csvs for feature creation\n",
    "tracking_simple.to_csv('tracking_simple.csv',index=False)\n",
    "tracking_football.to_csv('tracking_football.csv',index=False)\n",
    "tracking_tackles.to_csv('tracking_tackles.csv',index=False)"
   ]
  },
  {
   "cell_type": "code",
   "execution_count": 26,
   "id": "a27ce7e2-6fd1-4b4c-a045-f0b9207ed380",
   "metadata": {},
   "outputs": [],
   "source": [
    "#export csv for motion play visualization\n",
    "tracking_motion_play_vis = tracking_simple[['gameId','playId','nflId','frameId','in_motion']]\n",
    "tracking_motion_play_vis.to_csv('tracking_motion_play_vis.csv',index=False)"
   ]
  },
  {
   "cell_type": "code",
   "execution_count": 27,
   "id": "cb7af9d6-a6ce-4075-a4e1-544e87233a65",
   "metadata": {},
   "outputs": [],
   "source": [
    "#export csv for vertical, offense-only play visualization\n",
    "tracking_for_vertical = tracking.copy()\n",
    "tracking_for_vertical = tracking_for_vertical.merge(tracking_football, on = ['gameId','playId','frameId'], suffixes=('','_fb'))\n",
    "\n",
    "df_player_play_motion_ids['motion_true'] = 1\n",
    "tracking_for_vertical = tracking_for_vertical.merge(df_player_play_motion_ids,on=['gameId','playId','nflId'],how='left')\n",
    "tracking_for_vertical['motion_true'] = tracking_for_vertical['motion_true'].fillna(0)\n",
    "\n",
    "#remove defensive players\n",
    "df_plays_off = df_plays[['gameId','playId','possessionTeam']]\n",
    "tracking_for_vertical = tracking_for_vertical.merge(df_plays_off,on=['gameId','playId'],how='inner')\n",
    "tracking_for_vertical = tracking_for_vertical[tracking_for_vertical['club'] == tracking_for_vertical['possessionTeam']]\n",
    "\n",
    "#flag for when a player is in motion\n",
    "tracking_for_vertical['in_motion'] = (tracking_for_vertical['dis_std'].abs() >= 4)*1 * tracking_for_vertical['motion_true']\n",
    "tracking_for_vertical = filter_to_between_line_set_ball_snap(tracking_for_vertical)\n",
    "\n",
    "tracking_for_vertical['dis_fb_x'] = tracking_for_vertical['x_std'] - tracking_for_vertical['x_std_fb']\n",
    "tracking_for_vertical['dis_fb_y'] = tracking_for_vertical['y_std'] - tracking_for_vertical['y_std_fb']\n",
    "\n",
    "#remove unneeded columns\n",
    "tracking_for_vertical = tracking_for_vertical[['gameId', 'playId', 'nflId', 'displayName','frameId','s_std','dis_fb_x','dis_fb_y','motion_true','in_motion']]\n",
    "\n",
    "#export csv\n",
    "tracking_for_vertical.to_csv('tracking_vertical.csv')"
   ]
  },
  {
   "cell_type": "code",
   "execution_count": null,
   "id": "af4b71fb-8b2c-4161-a0f0-06963daf4089",
   "metadata": {},
   "outputs": [],
   "source": []
  },
  {
   "cell_type": "code",
   "execution_count": null,
   "id": "d0aa21ad-8745-44bb-8ae8-62b6c0698a1d",
   "metadata": {},
   "outputs": [],
   "source": []
  }
 ],
 "metadata": {
  "kernelspec": {
   "display_name": "Python [conda env:base] *",
   "language": "python",
   "name": "conda-base-py"
  },
  "language_info": {
   "codemirror_mode": {
    "name": "ipython",
    "version": 3
   },
   "file_extension": ".py",
   "mimetype": "text/x-python",
   "name": "python",
   "nbconvert_exporter": "python",
   "pygments_lexer": "ipython3",
   "version": "3.12.7"
  }
 },
 "nbformat": 4,
 "nbformat_minor": 5
}
