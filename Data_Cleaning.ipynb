{
 "cells": [
  {
   "cell_type": "code",
   "execution_count": 1,
   "id": "a919280c-6105-4535-927d-9281bf5d6db6",
   "metadata": {},
   "outputs": [],
   "source": [
    "#import standard libraries\n",
    "import pandas as pd\n",
    "import numpy as np\n",
    "import matplotlib.pyplot as plt\n",
    "import seaborn as sns"
   ]
  },
  {
   "cell_type": "code",
   "execution_count": 2,
   "id": "d4b9fe9e-960b-47b0-a8b2-c4ee5820c752",
   "metadata": {},
   "outputs": [],
   "source": [
    "#download provided NFL data\n",
    "#assumes that all files are in the same folder as this file\n",
    "df_games = pd.read_csv('games.csv')\n",
    "df_player_play = pd.read_csv('player_play.csv')\n",
    "df_players = pd.read_csv('players.csv')\n",
    "df_plays = pd.read_csv('plays.csv')\n",
    "df_w1 = pd.read_csv('tracking_week_1.csv')\n",
    "df_w2 = pd.read_csv('tracking_week_2.csv')\n",
    "df_w3 = pd.read_csv('tracking_week_3.csv')\n",
    "df_w4 = pd.read_csv('tracking_week_4.csv')\n",
    "df_w5 = pd.read_csv('tracking_week_5.csv')\n",
    "df_w6 = pd.read_csv('tracking_week_6.csv')\n",
    "df_w7 = pd.read_csv('tracking_week_7.csv')\n",
    "df_w8 = pd.read_csv('tracking_week_8.csv')\n",
    "df_w9 = pd.read_csv('tracking_week_9.csv')"
   ]
  },
  {
   "cell_type": "code",
   "execution_count": 37,
   "id": "c05fbba6-70ac-4713-a591-d21628cab422",
   "metadata": {},
   "outputs": [],
   "source": [
    "#concatenate the player tracking dataframes\n",
    "tracking = pd.concat([df_w1,df_w2,df_w3,df_w4,df_w5,df_w6,df_w7,df_w8,df_w9])"
   ]
  },
  {
   "cell_type": "code",
   "execution_count": 38,
   "id": "52d37c11-5c83-40a4-9723-75abf77c4a94",
   "metadata": {},
   "outputs": [],
   "source": [
    "#Function that changes all plays to going in the same direction, and also converts floats to ints to save memory\n",
    "def standardize_df(df):\n",
    "    \n",
    "    #flip the x and y coordinates for plays, so they all go left to right\n",
    "    df['x_std'] = np.where(\n",
    "        df[\"playDirection\"] == \"left\",\n",
    "        (120 - df[\"x\"].to_numpy()) * 100,\n",
    "        df[\"x\"].to_numpy() * 100\n",
    "    ).astype(int)\n",
    "    df['y_std'] = np.where(\n",
    "        df[\"playDirection\"] == \"left\",\n",
    "        (120 - df[\"y\"].to_numpy()) * 100,\n",
    "        df[\"y\"].to_numpy() * 100\n",
    "    ).astype(int)\n",
    "\n",
    "    #standardize and clean the 'o' column to always go left to right\n",
    "    df[\"o_std\"] = (-(df[\"o\"] - 90)) % 360\n",
    "    df[\"o_std\"] = np.where(\n",
    "        df[\"playDirection\"] == \"left\",\n",
    "        (180 - df[\"o_std\"]) % 360,\n",
    "        df[\"o_std\"]\n",
    "    )\n",
    "    df[\"o_std\"] = (df[\"o_std\"] * 100).fillna(0).astype(int) #convert to int\n",
    "    \n",
    "    #standardize and clean the 'dir' column to always go left to right\n",
    "    df[\"dir_std\"] = (-(df[\"dir\"] - 90)) % 360\n",
    "    df[\"dir_std\"] = np.where(\n",
    "        df[\"playDirection\"] == \"left\",\n",
    "        (180 - df[\"dir_std\"]) % 360, \n",
    "        df[\"dir_std\"]\n",
    "    )\n",
    "    df[\"dir_std\"] = (df[\"dir_std\"] * 100).fillna(0).astype(int)  #convert to int\n",
    "\n",
    "    #convert other cells to int\n",
    "    df['s_std'] = (df['s']*100).astype(int)\n",
    "    df['a_std'] = (df['a']*100).astype(int)\n",
    "    df['dis_std'] = (df['dis']*100).astype(int)\n",
    "\n",
    "    #downcast integer columns to save memory\n",
    "    df['x_std'] = pd.to_numeric(df['x_std'], downcast='integer')\n",
    "    df['y_std'] = pd.to_numeric(df['y_std'], downcast='integer')\n",
    "    df['o_std'] = pd.to_numeric(df['o_std'], downcast='integer')\n",
    "    df['dis_std'] = pd.to_numeric(df['dis_std'], downcast='integer')\n",
    "    df['dir_std'] = pd.to_numeric(df['dir_std'], downcast='integer')\n",
    "    df['s_std'] = pd.to_numeric(df['s_std'], downcast='integer')\n",
    "    df['a_std'] = pd.to_numeric(df['a_std'], downcast='integer')\n"
   ]
  },
  {
   "cell_type": "code",
   "execution_count": 39,
   "id": "60de9b5f-086f-4ee5-9177-b3393000210c",
   "metadata": {},
   "outputs": [],
   "source": [
    "#apply to tracking\n",
    "standardize_df(tracking)"
   ]
  },
  {
   "cell_type": "code",
   "execution_count": 40,
   "id": "367fa2cf-4df0-4a41-b794-bf264b8642a7",
   "metadata": {},
   "outputs": [],
   "source": [
    "#get all players who did a motion or shift\n",
    "df_player_play_motion_ids = df_player_play[(df_player_play['motionSinceLineset']) | (df_player_play['shiftSinceLineset'] == True)][['gameId', 'playId', 'nflId']]\n",
    "\n",
    "#create a dataframe with only tracking data from players who moved\n",
    "tracking_motion = tracking.merge(df_player_play_motion_ids, on = ['gameId','playId','nflId'], how = 'inner')\n",
    "#drop unnecessary columns\n",
    "tracking_motion = tracking_motion.drop(columns=['x', 'y', 's', 'a','dis', 'o', 'dir','time','jerseyNumber','playDirection'])"
   ]
  },
  {
   "cell_type": "code",
   "execution_count": 41,
   "id": "426e0bdf-1c57-4cc3-9850-6541f1c39d45",
   "metadata": {},
   "outputs": [],
   "source": [
    "#remove kneels, spikes, and plays nullified by penalty\n",
    "df_plays_simple = df_plays[(df_plays['playNullifiedByPenalty'] == 'N') & (df_plays['qbSpike'] == False) & (df_plays['qbKneel'] == False)][['gameId', 'playId']]\n",
    "\n",
    "#remove motions that fall into those categories\n",
    "tracking_motion = tracking_motion.merge(df_plays_simple, on=['gameId', 'playId'], how='inner')"
   ]
  },
  {
   "cell_type": "code",
   "execution_count": 42,
   "id": "62b5a576-51c1-4650-9a28-40f29d100224",
   "metadata": {},
   "outputs": [],
   "source": [
    "#calculate the distance from the player to the football\n",
    "\n",
    "tracking_football = tracking[tracking['displayName'] == 'football'][['gameId','playId','frameId','x_std','y_std']]\n",
    "\n",
    "tracking_motion = tracking_motion.merge(tracking_football, on = ['gameId','playId','frameId'], suffixes=('','_fb'))\n",
    "\n",
    "tracking_motion['dis_fb_x'] = tracking_motion['x_std'] - tracking_motion['x_std_fb']\n",
    "tracking_motion['dis_fb_y'] = tracking_motion['y_std'] - tracking_motion['y_std_fb']"
   ]
  },
  {
   "cell_type": "code",
   "execution_count": 43,
   "id": "d192fbf4-bb6b-414a-938f-13f5113f3ceb",
   "metadata": {},
   "outputs": [],
   "source": [
    "#creates a column of the first frame where the passed event occurred on the specific play\n",
    "def find_frame_of_event(df, event_name, event_suffix):\n",
    "    \n",
    "    #get frameId for every event occurrence per play\n",
    "    frameIds = df[df['event'] == event_name][['gameId','playId','frameId']].drop_duplicates()\n",
    "\n",
    "    #get frameId column by merging dataframes\n",
    "    merged_df = df.merge(frameIds, on=['gameId', 'playId'], suffixes=('', event_suffix))\n",
    "\n",
    "    return merged_df\n",
    "\n",
    "#filters the tracking data passed to the frames between 'line_set' and 'ball_snap'\n",
    "def filter_to_between_line_set_ball_snap(df):\n",
    "\n",
    "    #filter out any plays where lineset was not marked (ended up removing 0.7% of frames: (1 - len(filtered_tracking_motion) / len(tracking_motion)))\n",
    "    df_new = (\n",
    "        df\n",
    "        .groupby(['gameId', 'playId'])\n",
    "        .filter(lambda x: (x['event'] == 'line_set').any())\n",
    "        .reset_index(drop=True)\n",
    "    )\n",
    "\n",
    "    #remove frames after ball_snap\n",
    "    df_new = df_new[df_new['frameType'] != 'AFTER_SNAP']\n",
    "    \n",
    "    #add column for frameId when lineset occurred\n",
    "    filtered_df = find_frame_of_event(df_new, 'line_set', '_ls')\n",
    "    \n",
    "    #remove frames before line_snap\n",
    "    filtered_df = filtered_df[filtered_df['frameId'] >= filtered_df['frameId_ls']]\n",
    "\n",
    "    #add column for frameId when the ball was snapped\n",
    "    filtered_df = find_frame_of_event(filtered_df, 'ball_snap', '_bs')\n",
    "\n",
    "    return filtered_df"
   ]
  },
  {
   "cell_type": "code",
   "execution_count": 44,
   "id": "c7ac3b97-8e6c-40be-9a44-506802784a6f",
   "metadata": {},
   "outputs": [],
   "source": [
    "tracking_motion_filtered = filter_to_between_line_set_ball_snap(tracking_motion)"
   ]
  },
  {
   "cell_type": "code",
   "execution_count": 45,
   "id": "5cc8c903-1f1a-4f0e-accd-6c0195ec1e9f",
   "metadata": {},
   "outputs": [],
   "source": [
    "#drop frameType column, not needed any more\n",
    "tracking_simple = tracking_motion_filtered.drop(columns=['frameType'])"
   ]
  },
  {
   "cell_type": "code",
   "execution_count": 46,
   "id": "86779c12-85da-4a35-9e2f-defe0dd076f6",
   "metadata": {},
   "outputs": [],
   "source": [
    "#calculate frames before snap (note: a frame is .1 second)\n",
    "tracking_simple['frames_bf_snap'] = tracking_simple['frameId_bs'] - tracking_simple['frameId']"
   ]
  },
  {
   "cell_type": "code",
   "execution_count": 47,
   "id": "f2019cfc-c577-4c60-bdc6-e792d7926718",
   "metadata": {},
   "outputs": [],
   "source": [
    "#make columns of the player's coordinates at the linesnap\n",
    "tracking_simple.loc[tracking_simple['frameId'] == tracking_simple['frameId_ls'], 'initial_x_std'] = tracking_simple['x_std']\n",
    "tracking_simple['initial_x_std'] = tracking_simple['initial_x_std'].ffill().astype(int)\n",
    "\n",
    "tracking_simple.loc[tracking_simple['frameId'] == tracking_simple['frameId_ls'], 'initial_y_std'] = tracking_simple['y_std']\n",
    "tracking_simple['initial_y_std'] = tracking_simple['initial_y_std'].ffill().astype(int)\n",
    "\n",
    "#find how far the player has moved from their initial coordinates at every frame\n",
    "tracking_simple['x_change_all'] = tracking_simple['initial_x_std'] - tracking_simple['x_std']\n",
    "tracking_simple['y_change_all'] = tracking_simple['initial_y_std'] - tracking_simple['y_std']"
   ]
  },
  {
   "cell_type": "code",
   "execution_count": 48,
   "id": "8d41ec0d-862b-4246-97f9-3cc920f7b736",
   "metadata": {},
   "outputs": [],
   "source": [
    "#find change in x,y coordinates per frame\n",
    "tracking_simple['x_change'] = tracking_simple.groupby(['gameId','playId','nflId'])['x_std'].diff().fillna(0).astype(int)\n",
    "tracking_simple['y_change'] = tracking_simple.groupby(['gameId','playId','nflId'])['y_std'].diff().fillna(0).astype(int)"
   ]
  },
  {
   "cell_type": "code",
   "execution_count": 49,
   "id": "e073ca4c-c839-40bb-8a63-9dfa6c5ba09d",
   "metadata": {},
   "outputs": [],
   "source": [
    "#create an estimate of how fast a person is in motion, see what the change in y is\n",
    "\n",
    "#first observe players not in motion/shifting\n",
    "\n",
    "tracking_avg_movement = tracking.drop(columns=['x', 'y', 's', 'a','dis', 'o', 'dir'])\n",
    "\n",
    "df_player_play_motion_ids_false = df_player_play[(df_player_play['motionSinceLineset'] == False)&(df_player_play['shiftSinceLineset'] == False)][['gameId','playId','nflId']]\n",
    "tracking_avg_movement = tracking_avg_movement.merge(df_player_play_motion_ids_false, on = ['gameId','playId','nflId'], how = 'inner')\n",
    "\n",
    "tracking_avg_movement = filter_to_between_line_set_ball_snap(tracking_avg_movement)\n",
    "tracking_avg_movement = tracking_avg_movement.drop(columns=['frameType','time', 'jerseyNumber','playDirection','event'])\n",
    "\n",
    "tracking_avg_movement['x_change'] = tracking_avg_movement.groupby(['gameId','playId','nflId'])['x_std'].diff().fillna(0).astype(int)\n",
    "tracking_avg_movement['y_change'] = tracking_avg_movement.groupby(['gameId','playId','nflId'])['y_std'].diff().fillna(0).astype(int)"
   ]
  },
  {
   "cell_type": "code",
   "execution_count": 50,
   "id": "7616143d-57ba-4ffd-aeba-711d0d8275d3",
   "metadata": {},
   "outputs": [
    {
     "data": {
      "text/plain": [
       "<Axes: xlabel='dis_std', ylabel='Count'>"
      ]
     },
     "execution_count": 50,
     "metadata": {},
     "output_type": "execute_result"
    },
    {
     "data": {
      "image/png": "[encoded data removed]",
      "text/plain": [
       "<Figure size 640x480 with 1 Axes>"
      ]
     },
     "metadata": {},
     "output_type": "display_data"
    }
   ],
   "source": [
    "#check average dis_std of someone not in motion/shifting\n",
    "sns.histplot(tracking_avg_movement['dis_std'].apply(lambda x: min(abs(x), 30)), discrete=True)"
   ]
  },
  {
   "cell_type": "code",
   "execution_count": 51,
   "id": "594eeed4-5ff1-4f4e-b3e3-5ddcad97f4a4",
   "metadata": {},
   "outputs": [
    {
     "data": {
      "text/plain": [
       "count    4.702742e+06\n",
       "mean    -2.406681e-03\n",
       "std      1.619059e+00\n",
       "min     -1.070000e+02\n",
       "25%      0.000000e+00\n",
       "50%      0.000000e+00\n",
       "75%      0.000000e+00\n",
       "max      1.460000e+02\n",
       "Name: y_change, dtype: float64"
      ]
     },
     "execution_count": 51,
     "metadata": {},
     "output_type": "execute_result"
    }
   ],
   "source": [
    "tracking_avg_movement['y_change'].describe()"
   ]
  },
  {
   "cell_type": "code",
   "execution_count": 52,
   "id": "b2941fc5-4adb-4088-a7c5-0358e37c5992",
   "metadata": {},
   "outputs": [
    {
     "data": {
      "text/plain": [
       "3.0"
      ]
     },
     "execution_count": 52,
     "metadata": {},
     "output_type": "execute_result"
    }
   ],
   "source": [
    "tracking_avg_movement['y_change'].quantile(.99)"
   ]
  },
  {
   "cell_type": "code",
   "execution_count": 53,
   "id": "55c40230-09e4-48fb-bd49-f8c73cd0409a",
   "metadata": {},
   "outputs": [
    {
     "data": {
      "text/plain": [
       "<Axes: xlabel='dis_std', ylabel='Count'>"
      ]
     },
     "execution_count": 53,
     "metadata": {},
     "output_type": "execute_result"
    },
    {
     "data": {
      "image/png": "[encoded data removed]",
      "text/plain": [
       "<Figure size 640x480 with 1 Axes>"
      ]
     },
     "metadata": {},
     "output_type": "display_data"
    }
   ],
   "source": [
    "#compare to histograph from players in motion/shift\n",
    "sns.histplot(tracking_simple['dis_std'].apply(lambda x: min(abs(x), 30)), discrete=True)"
   ]
  },
  {
   "cell_type": "code",
   "execution_count": 56,
   "id": "ee17a7c3-abd9-494d-a615-5a47e24b8ca8",
   "metadata": {},
   "outputs": [],
   "source": [
    "#based on above results, mark a player as in motion/shift when their x_change or y_change is 4 or above\n",
    "tracking_simple['in_motion'] = (tracking_simple['y_change'].abs() >= 4)*1"
   ]
  },
  {
   "cell_type": "code",
   "execution_count": 143,
   "id": "d62ae279-2680-45f2-9c1f-39f5297bdd89",
   "metadata": {},
   "outputs": [],
   "source": [
    "# #get tracking data for only linemen (needed in feature creation)\n",
    "# tracking_snap = tracking[tracking['event'] == 'ball_snap']\n",
    "# df_players_line = df_players[df_players['position'].isin(['T', 'G', 'C'])][['nflId']]\n",
    "# tracking_linemen = tracking_snap.merge(df_players_line, on = ['nflId'])[['gameId','playId','frameId','y_std']]"
   ]
  },
  {
   "cell_type": "code",
   "execution_count": 57,
   "id": "3f456f17-4733-4f86-9bbe-263e0160dba2",
   "metadata": {},
   "outputs": [],
   "source": [
    "#export to csv, use in feature creation file\n",
    "tracking_simple.to_csv('tracking_simple.csv',index=False)\n",
    "tracking_football.to_csv('tracking_football.csv',index=False)\n",
    "# tracking_linemen.to_csv('tracking_linemen.csv',index=False)"
   ]
  },
  {
   "cell_type": "code",
   "execution_count": null,
   "id": "a27ce7e2-6fd1-4b4c-a045-f0b9207ed380",
   "metadata": {},
   "outputs": [],
   "source": []
  }
 ],
 "metadata": {
  "kernelspec": {
   "display_name": "Python [conda env:base] *",
   "language": "python",
   "name": "conda-base-py"
  },
  "language_info": {
   "codemirror_mode": {
    "name": "ipython",
    "version": 3
   },
   "file_extension": ".py",
   "mimetype": "text/x-python",
   "name": "python",
   "nbconvert_exporter": "python",
   "pygments_lexer": "ipython3",
   "version": "3.12.7"
  }
 },
 "nbformat": 4,
 "nbformat_minor": 5
}
