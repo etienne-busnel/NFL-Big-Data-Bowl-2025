{
 "cells": [
  {
   "cell_type": "code",
   "execution_count": 218,
   "id": "4f8ec723",
   "metadata": {},
   "outputs": [],
   "source": [
    "#import libraries\n",
    "import pandas as pd\n",
    "import numpy as np\n",
    "import matplotlib.pyplot as plt\n",
    "import seaborn as sns"
   ]
  },
  {
   "cell_type": "code",
   "execution_count": 2,
   "id": "37f1072c",
   "metadata": {},
   "outputs": [],
   "source": [
    "#download NFL data\n",
    "df_games = pd.read_csv('games.csv')\n",
    "df_player_play = pd.read_csv('player_play.csv')\n",
    "df_players = pd.read_csv('players.csv')\n",
    "df_plays = pd.read_csv('plays.csv')\n",
    "df_w1 = pd.read_csv('tracking_week_1.csv')\n",
    "df_w2 = pd.read_csv('tracking_week_2.csv')\n",
    "df_w3 = pd.read_csv('tracking_week_3.csv')\n",
    "df_w4 = pd.read_csv('tracking_week_4.csv')\n",
    "df_w5 = pd.read_csv('tracking_week_5.csv')\n",
    "df_w6 = pd.read_csv('tracking_week_6.csv')\n",
    "df_w7 = pd.read_csv('tracking_week_7.csv')\n",
    "df_w8 = pd.read_csv('tracking_week_8.csv')\n",
    "df_w9 = pd.read_csv('tracking_week_9.csv')"
   ]
  },
  {
   "cell_type": "code",
   "execution_count": 3,
   "id": "76e2be9c",
   "metadata": {},
   "outputs": [
    {
     "data": {
      "text/plain": [
       "inMotionAtBallSnap\n",
       "False    103276\n",
       "True       4572\n",
       "Name: count, dtype: int64"
      ]
     },
     "execution_count": 3,
     "metadata": {},
     "output_type": "execute_result"
    }
   ],
   "source": [
    "df_player_play['inMotionAtBallSnap'].value_counts()"
   ]
  },
  {
   "cell_type": "code",
   "execution_count": 5,
   "id": "d19349bd",
   "metadata": {},
   "outputs": [],
   "source": [
    "df_player_play_motion = df_player_play[df_player_play['inMotionAtBallSnap']==True]"
   ]
  },
  {
   "cell_type": "code",
   "execution_count": 6,
   "id": "0a553f33",
   "metadata": {},
   "outputs": [
    {
     "data": {
      "text/html": [
       "<div>\n",
       "<style scoped>\n",
       "    .dataframe tbody tr th:only-of-type {\n",
       "        vertical-align: middle;\n",
       "    }\n",
       "\n",
       "    .dataframe tbody tr th {\n",
       "        vertical-align: top;\n",
       "    }\n",
       "\n",
       "    .dataframe thead th {\n",
       "        text-align: right;\n",
       "    }\n",
       "</style>\n",
       "<table border=\"1\" class=\"dataframe\">\n",
       "  <thead>\n",
       "    <tr style=\"text-align: right;\">\n",
       "      <th></th>\n",
       "      <th>inMotionAtBallSnap</th>\n",
       "      <th>nflId</th>\n",
       "    </tr>\n",
       "  </thead>\n",
       "  <tbody>\n",
       "    <tr>\n",
       "      <th>28</th>\n",
       "      <td>True</td>\n",
       "      <td>47857</td>\n",
       "    </tr>\n",
       "    <tr>\n",
       "      <th>53</th>\n",
       "      <td>True</td>\n",
       "      <td>53079</td>\n",
       "    </tr>\n",
       "    <tr>\n",
       "      <th>138</th>\n",
       "      <td>True</td>\n",
       "      <td>47879</td>\n",
       "    </tr>\n",
       "    <tr>\n",
       "      <th>162</th>\n",
       "      <td>True</td>\n",
       "      <td>52536</td>\n",
       "    </tr>\n",
       "    <tr>\n",
       "      <th>191</th>\n",
       "      <td>True</td>\n",
       "      <td>44881</td>\n",
       "    </tr>\n",
       "  </tbody>\n",
       "</table>\n",
       "</div>"
      ],
      "text/plain": [
       "    inMotionAtBallSnap  nflId\n",
       "28                True  47857\n",
       "53                True  53079\n",
       "138               True  47879\n",
       "162               True  52536\n",
       "191               True  44881"
      ]
     },
     "execution_count": 6,
     "metadata": {},
     "output_type": "execute_result"
    }
   ],
   "source": [
    "df_player_play_motion[['inMotionAtBallSnap','nflId']].head()"
   ]
  },
  {
   "cell_type": "code",
   "execution_count": 58,
   "id": "bced3e6d",
   "metadata": {},
   "outputs": [],
   "source": [
    "#function for personal use\n",
    "#returns player name given their id\n",
    "def playid_to_playername(nflid):\n",
    "    name = df_players.loc[df_players['nflId'] == nflid, 'displayName']\n",
    "    return name.iloc[0] if not name.empty else \"Invalid ID\""
   ]
  },
  {
   "cell_type": "code",
   "execution_count": 70,
   "id": "36adde37-6d2a-437b-a89c-ca150d79d541",
   "metadata": {},
   "outputs": [
    {
     "data": {
      "text/plain": [
       "Index(['gameId', 'playId', 'playDescription', 'quarter', 'down', 'yardsToGo',\n",
       "       'possessionTeam', 'defensiveTeam', 'yardlineSide', 'yardlineNumber',\n",
       "       'gameClock', 'preSnapHomeScore', 'preSnapVisitorScore',\n",
       "       'playNullifiedByPenalty', 'absoluteYardlineNumber',\n",
       "       'preSnapHomeTeamWinProbability', 'preSnapVisitorTeamWinProbability',\n",
       "       'expectedPoints', 'offenseFormation', 'receiverAlignment',\n",
       "       'playClockAtSnap', 'passResult', 'passLength', 'targetX', 'targetY',\n",
       "       'playAction', 'dropbackType', 'dropbackDistance', 'passLocationType',\n",
       "       'timeToThrow', 'timeInTackleBox', 'timeToSack', 'passTippedAtLine',\n",
       "       'unblockedPressure', 'qbSpike', 'qbKneel', 'qbSneak',\n",
       "       'rushLocationType', 'penaltyYards', 'prePenaltyYardsGained',\n",
       "       'yardsGained', 'homeTeamWinProbabilityAdded',\n",
       "       'visitorTeamWinProbilityAdded', 'expectedPointsAdded', 'isDropback',\n",
       "       'pff_runConceptPrimary', 'pff_runConceptSecondary', 'pff_runPassOption',\n",
       "       'pff_passCoverage', 'pff_manZone', 'motion'],\n",
       "      dtype='object')"
      ]
     },
     "execution_count": 70,
     "metadata": {},
     "output_type": "execute_result"
    }
   ],
   "source": [
    "df_plays_motion.columns"
   ]
  },
  {
   "cell_type": "code",
   "execution_count": 82,
   "id": "8d4bef08",
   "metadata": {},
   "outputs": [
    {
     "data": {
      "text/plain": [
       "Series([], Name: count, dtype: int64)"
      ]
     },
     "execution_count": 82,
     "metadata": {},
     "output_type": "execute_result"
    }
   ],
   "source": [
    "# #remove unneeded plays\n",
    "\n",
    "#no plays nullified by penalties present, checked using df_plays['playNullifiedByPenalty'].value_counts()\n",
    "\n",
    "#remove kneels/spikes/sneaks\n",
    "df_plays = df_plays[df_plays['qbSpike'] == False]\n",
    "df_plays = df_plays[df_plays['qbKneel'] == 0]\n",
    "df_plays = df_plays[df_plays['qbSneak'] == False]\n",
    "\n",
    "df_plays['qbSneak'].value_counts()\n"
   ]
  },
  {
   "cell_type": "code",
   "execution_count": 8,
   "id": "d8397c0b",
   "metadata": {},
   "outputs": [
    {
     "data": {
      "text/plain": [
       "'Dawson Knox'"
      ]
     },
     "execution_count": 8,
     "metadata": {},
     "output_type": "execute_result"
    }
   ],
   "source": [
    "playid_to_playername(47879)"
   ]
  },
  {
   "cell_type": "code",
   "execution_count": 56,
   "id": "53095dee",
   "metadata": {},
   "outputs": [],
   "source": [
    "#label plays where motion occurred or not\n",
    "df_plays['motion'] = df_plays.apply(lambda row: 1 if ((row['gameId'], row['playId']) in zip(df_player_play_motion['gameId'], df_player_play_motion['playId'])) else 0, axis=1)"
   ]
  },
  {
   "cell_type": "code",
   "execution_count": 42,
   "id": "934baf84-2f82-4362-82c3-0dbb67e0b3e3",
   "metadata": {},
   "outputs": [
    {
     "data": {
      "text/plain": [
       "motion\n",
       "0    11644\n",
       "1     4480\n",
       "Name: count, dtype: int64"
      ]
     },
     "execution_count": 42,
     "metadata": {},
     "output_type": "execute_result"
    }
   ],
   "source": [
    "df_plays['motion'].value_counts()"
   ]
  },
  {
   "cell_type": "code",
   "execution_count": 16,
   "id": "ce7d0543",
   "metadata": {},
   "outputs": [],
   "source": [
    "df_plays_motion = df_plays[df_plays['motion'] == 1]\n",
    "df_plays_no_motion = df_plays[df_plays['motion'] == 0]"
   ]
  },
  {
   "cell_type": "code",
   "execution_count": 46,
   "id": "f1fe28e1-9cb0-450d-ade7-ca848d1d4718",
   "metadata": {},
   "outputs": [
    {
     "data": {
      "text/plain": [
       "0.277846688166708"
      ]
     },
     "execution_count": 46,
     "metadata": {},
     "output_type": "execute_result"
    }
   ],
   "source": [
    "#percent of plays with motion\n",
    "len(df_plays_motion) / len(df_plays)"
   ]
  },
  {
   "cell_type": "code",
   "execution_count": 18,
   "id": "88c61dec",
   "metadata": {},
   "outputs": [
    {
     "data": {
      "text/plain": [
       "0.0007741646358876166"
      ]
     },
     "execution_count": 18,
     "metadata": {},
     "output_type": "execute_result"
    }
   ],
   "source": [
    "df_plays_motion['expectedPointsAdded'].mean()"
   ]
  },
  {
   "cell_type": "code",
   "execution_count": 20,
   "id": "670d25bb",
   "metadata": {},
   "outputs": [
    {
     "data": {
      "text/plain": [
       "-0.04098342180522609"
      ]
     },
     "execution_count": 20,
     "metadata": {},
     "output_type": "execute_result"
    }
   ],
   "source": [
    "df_plays_no_motion['expectedPointsAdded'].mean()"
   ]
  },
  {
   "cell_type": "code",
   "execution_count": 36,
   "id": "b5b93a51",
   "metadata": {},
   "outputs": [
    {
     "data": {
      "text/plain": [
       "isDropback\n",
       "True     2385\n",
       "False    2095\n",
       "Name: count, dtype: int64"
      ]
     },
     "execution_count": 36,
     "metadata": {},
     "output_type": "execute_result"
    }
   ],
   "source": [
    "df_plays_motion['isDropback'].value_counts()"
   ]
  },
  {
   "cell_type": "code",
   "execution_count": 38,
   "id": "4f026136",
   "metadata": {},
   "outputs": [],
   "source": [
    "df_plays_motion_dropback = df_plays_motion[df_plays_motion['isDropback'] == 1]\n",
    "df_plays_no_motion_dropback = df_plays_no_motion[df_plays_no_motion['isDropback'] == 1]\n",
    "df_plays_motion_no_dropback = df_plays_motion[df_plays_motion['isDropback'] == 0]\n",
    "df_plays_no_motion_no_dropback = df_plays_no_motion[df_plays_no_motion['isDropback'] == 0]"
   ]
  },
  {
   "cell_type": "code",
   "execution_count": 48,
   "id": "d4de74c5",
   "metadata": {},
   "outputs": [
    {
     "data": {
      "text/plain": [
       "0.04897727812047309"
      ]
     },
     "execution_count": 48,
     "metadata": {},
     "output_type": "execute_result"
    }
   ],
   "source": [
    "df_plays_motion_dropback['expectedPointsAdded'].mean()"
   ]
  },
  {
   "cell_type": "code",
   "execution_count": 50,
   "id": "192e05fd",
   "metadata": {},
   "outputs": [
    {
     "data": {
      "text/plain": [
       "-0.032469481772631315"
      ]
     },
     "execution_count": 50,
     "metadata": {},
     "output_type": "execute_result"
    }
   ],
   "source": [
    "df_plays_no_motion_dropback['expectedPointsAdded'].mean()"
   ]
  },
  {
   "cell_type": "code",
   "execution_count": 52,
   "id": "dd79b476",
   "metadata": {},
   "outputs": [
    {
     "data": {
      "text/plain": [
       "-0.05410145620455933"
      ]
     },
     "execution_count": 52,
     "metadata": {},
     "output_type": "execute_result"
    }
   ],
   "source": [
    "df_plays_motion_no_dropback['expectedPointsAdded'].mean()"
   ]
  },
  {
   "cell_type": "code",
   "execution_count": 54,
   "id": "81724173",
   "metadata": {},
   "outputs": [
    {
     "data": {
      "text/plain": [
       "-0.05556203190995571"
      ]
     },
     "execution_count": 54,
     "metadata": {},
     "output_type": "execute_result"
    }
   ],
   "source": [
    "df_plays_no_motion_no_dropback['expectedPointsAdded'].mean()"
   ]
  },
  {
   "cell_type": "code",
   "execution_count": null,
   "id": "4b883098",
   "metadata": {},
   "outputs": [],
   "source": [
    "#at a cursory glance, it seems that motion is more effective in the passing game\n",
    "#check if this difference changes after filtering more"
   ]
  },
  {
   "cell_type": "code",
   "execution_count": null,
   "id": "16483c24-74f0-4cab-a4cd-2d203c63a653",
   "metadata": {},
   "outputs": [],
   "source": [
    "#when eventually finished with data cleaning, export to a new .csv so we don't have to keep running this code constantly"
   ]
  },
  {
   "cell_type": "code",
   "execution_count": 88,
   "id": "d159c33e-288d-4348-bf8b-0a2592d2a4c1",
   "metadata": {},
   "outputs": [
    {
     "data": {
      "text/plain": [
       "Index(['gameId', 'playId', 'nflId', 'teamAbbr', 'hadRushAttempt',\n",
       "       'rushingYards', 'hadDropback', 'passingYards', 'sackYardsAsOffense',\n",
       "       'hadPassReception', 'receivingYards', 'wasTargettedReceiver',\n",
       "       'yardageGainedAfterTheCatch', 'fumbles', 'fumbleLost',\n",
       "       'fumbleOutOfBounds', 'assistedTackle', 'forcedFumbleAsDefense',\n",
       "       'halfSackYardsAsDefense', 'passDefensed', 'quarterbackHit',\n",
       "       'sackYardsAsDefense', 'safetyAsDefense', 'soloTackle', 'tackleAssist',\n",
       "       'tackleForALoss', 'tackleForALossYardage', 'hadInterception',\n",
       "       'interceptionYards', 'fumbleRecoveries', 'fumbleRecoveryYards',\n",
       "       'penaltyYards', 'penaltyNames', 'wasInitialPassRusher',\n",
       "       'causedPressure', 'timeToPressureAsPassRusher',\n",
       "       'getOffTimeAsPassRusher', 'inMotionAtBallSnap', 'shiftSinceLineset',\n",
       "       'motionSinceLineset', 'wasRunningRoute', 'routeRan',\n",
       "       'blockedPlayerNFLId1', 'blockedPlayerNFLId2', 'blockedPlayerNFLId3',\n",
       "       'pressureAllowedAsBlocker', 'timeToPressureAllowedAsBlocker',\n",
       "       'pff_defensiveCoverageAssignment',\n",
       "       'pff_primaryDefensiveCoverageMatchupNflId',\n",
       "       'pff_secondaryDefensiveCoverageMatchupNflId'],\n",
       "      dtype='object')"
      ]
     },
     "execution_count": 88,
     "metadata": {},
     "output_type": "execute_result"
    }
   ],
   "source": [
    "df_player_play_motion.columns"
   ]
  },
  {
   "cell_type": "code",
   "execution_count": 98,
   "id": "c72b196b-52a5-4477-b3f1-ff6dfdf12ebd",
   "metadata": {},
   "outputs": [],
   "source": [
    "#concatenate the player tracking dataframes\n",
    "tracking = pd.concat([df_w1,df_w2,df_w3,df_w4,df_w5,df_w6,df_w7,df_w8,df_w9])"
   ]
  },
  {
   "cell_type": "code",
   "execution_count": 104,
   "id": "16bdd34a-6b7a-4680-bcf9-402c566ea9e7",
   "metadata": {},
   "outputs": [],
   "source": [
    "#change all plays to same direction\n",
    "def reverse_deg(deg):\n",
    "    if deg < 180:\n",
    "        return deg + 180\n",
    "    if deg >= 180:\n",
    "        return deg - 180\n",
    "    \n",
    "#standardize values\n",
    "tracking[\"o\"]=np.where(tracking[\"playDirection\"] == \"left\", tracking[\"o\"].apply(reverse_deg), tracking[\"o\"])\n",
    "        \n",
    "tracking[\"dir\"] = np.where(tracking[\"playDirection\"] == \"left\", tracking[\"dir\"].apply(reverse_deg), tracking[\"dir\"])\n",
    "        \n",
    "tracking[\"x\"] = np.where(tracking[\"playDirection\"] == \"left\", tracking[\"x\"].apply(lambda x: 120 - x), tracking[\"x\"])\n",
    "        \n",
    "tracking[\"y\"] =np.where(tracking[\"playDirection\"] == \"left\",  tracking[\"y\"].apply(lambda y: 160/3 - y), tracking[\"y\"])"
   ]
  },
  {
   "cell_type": "code",
   "execution_count": 116,
   "id": "82a7216f-74f5-4f44-80d7-7c69a54acf5c",
   "metadata": {},
   "outputs": [
    {
     "data": {
      "text/html": [
       "<div>\n",
       "<style scoped>\n",
       "    .dataframe tbody tr th:only-of-type {\n",
       "        vertical-align: middle;\n",
       "    }\n",
       "\n",
       "    .dataframe tbody tr th {\n",
       "        vertical-align: top;\n",
       "    }\n",
       "\n",
       "    .dataframe thead th {\n",
       "        text-align: right;\n",
       "    }\n",
       "</style>\n",
       "<table border=\"1\" class=\"dataframe\">\n",
       "  <thead>\n",
       "    <tr style=\"text-align: right;\">\n",
       "      <th></th>\n",
       "      <th>gameId</th>\n",
       "      <th>playId</th>\n",
       "      <th>nflId</th>\n",
       "      <th>displayName</th>\n",
       "      <th>frameId</th>\n",
       "      <th>frameType</th>\n",
       "      <th>time</th>\n",
       "      <th>jerseyNumber</th>\n",
       "      <th>club</th>\n",
       "      <th>playDirection</th>\n",
       "      <th>x</th>\n",
       "      <th>y</th>\n",
       "      <th>s</th>\n",
       "      <th>a</th>\n",
       "      <th>dis</th>\n",
       "      <th>o</th>\n",
       "      <th>dir</th>\n",
       "      <th>event</th>\n",
       "    </tr>\n",
       "  </thead>\n",
       "  <tbody>\n",
       "    <tr>\n",
       "      <th>0</th>\n",
       "      <td>2022091200</td>\n",
       "      <td>64</td>\n",
       "      <td>35459.0</td>\n",
       "      <td>Kareem Jackson</td>\n",
       "      <td>1</td>\n",
       "      <td>BEFORE_SNAP</td>\n",
       "      <td>2022-09-13 00:16:03.5</td>\n",
       "      <td>22.0</td>\n",
       "      <td>DEN</td>\n",
       "      <td>right</td>\n",
       "      <td>51.06</td>\n",
       "      <td>28.55</td>\n",
       "      <td>0.72</td>\n",
       "      <td>0.37</td>\n",
       "      <td>0.07</td>\n",
       "      <td>246.17</td>\n",
       "      <td>68.34</td>\n",
       "      <td>huddle_break_offense</td>\n",
       "    </tr>\n",
       "    <tr>\n",
       "      <th>1</th>\n",
       "      <td>2022091200</td>\n",
       "      <td>64</td>\n",
       "      <td>35459.0</td>\n",
       "      <td>Kareem Jackson</td>\n",
       "      <td>2</td>\n",
       "      <td>BEFORE_SNAP</td>\n",
       "      <td>2022-09-13 00:16:03.6</td>\n",
       "      <td>22.0</td>\n",
       "      <td>DEN</td>\n",
       "      <td>right</td>\n",
       "      <td>51.13</td>\n",
       "      <td>28.57</td>\n",
       "      <td>0.71</td>\n",
       "      <td>0.36</td>\n",
       "      <td>0.07</td>\n",
       "      <td>245.41</td>\n",
       "      <td>71.21</td>\n",
       "      <td>NaN</td>\n",
       "    </tr>\n",
       "    <tr>\n",
       "      <th>2</th>\n",
       "      <td>2022091200</td>\n",
       "      <td>64</td>\n",
       "      <td>35459.0</td>\n",
       "      <td>Kareem Jackson</td>\n",
       "      <td>3</td>\n",
       "      <td>BEFORE_SNAP</td>\n",
       "      <td>2022-09-13 00:16:03.7</td>\n",
       "      <td>22.0</td>\n",
       "      <td>DEN</td>\n",
       "      <td>right</td>\n",
       "      <td>51.20</td>\n",
       "      <td>28.59</td>\n",
       "      <td>0.69</td>\n",
       "      <td>0.23</td>\n",
       "      <td>0.07</td>\n",
       "      <td>244.45</td>\n",
       "      <td>69.90</td>\n",
       "      <td>NaN</td>\n",
       "    </tr>\n",
       "    <tr>\n",
       "      <th>3</th>\n",
       "      <td>2022091200</td>\n",
       "      <td>64</td>\n",
       "      <td>35459.0</td>\n",
       "      <td>Kareem Jackson</td>\n",
       "      <td>4</td>\n",
       "      <td>BEFORE_SNAP</td>\n",
       "      <td>2022-09-13 00:16:03.8</td>\n",
       "      <td>22.0</td>\n",
       "      <td>DEN</td>\n",
       "      <td>right</td>\n",
       "      <td>51.26</td>\n",
       "      <td>28.62</td>\n",
       "      <td>0.67</td>\n",
       "      <td>0.22</td>\n",
       "      <td>0.07</td>\n",
       "      <td>244.45</td>\n",
       "      <td>67.98</td>\n",
       "      <td>NaN</td>\n",
       "    </tr>\n",
       "    <tr>\n",
       "      <th>4</th>\n",
       "      <td>2022091200</td>\n",
       "      <td>64</td>\n",
       "      <td>35459.0</td>\n",
       "      <td>Kareem Jackson</td>\n",
       "      <td>5</td>\n",
       "      <td>BEFORE_SNAP</td>\n",
       "      <td>2022-09-13 00:16:03.9</td>\n",
       "      <td>22.0</td>\n",
       "      <td>DEN</td>\n",
       "      <td>right</td>\n",
       "      <td>51.32</td>\n",
       "      <td>28.65</td>\n",
       "      <td>0.65</td>\n",
       "      <td>0.34</td>\n",
       "      <td>0.07</td>\n",
       "      <td>245.74</td>\n",
       "      <td>62.83</td>\n",
       "      <td>NaN</td>\n",
       "    </tr>\n",
       "  </tbody>\n",
       "</table>\n",
       "</div>"
      ],
      "text/plain": [
       "       gameId  playId    nflId     displayName  frameId    frameType  \\\n",
       "0  2022091200      64  35459.0  Kareem Jackson        1  BEFORE_SNAP   \n",
       "1  2022091200      64  35459.0  Kareem Jackson        2  BEFORE_SNAP   \n",
       "2  2022091200      64  35459.0  Kareem Jackson        3  BEFORE_SNAP   \n",
       "3  2022091200      64  35459.0  Kareem Jackson        4  BEFORE_SNAP   \n",
       "4  2022091200      64  35459.0  Kareem Jackson        5  BEFORE_SNAP   \n",
       "\n",
       "                    time  jerseyNumber club playDirection      x      y     s  \\\n",
       "0  2022-09-13 00:16:03.5          22.0  DEN         right  51.06  28.55  0.72   \n",
       "1  2022-09-13 00:16:03.6          22.0  DEN         right  51.13  28.57  0.71   \n",
       "2  2022-09-13 00:16:03.7          22.0  DEN         right  51.20  28.59  0.69   \n",
       "3  2022-09-13 00:16:03.8          22.0  DEN         right  51.26  28.62  0.67   \n",
       "4  2022-09-13 00:16:03.9          22.0  DEN         right  51.32  28.65  0.65   \n",
       "\n",
       "      a   dis       o    dir                 event  \n",
       "0  0.37  0.07  246.17  68.34  huddle_break_offense  \n",
       "1  0.36  0.07  245.41  71.21                   NaN  \n",
       "2  0.23  0.07  244.45  69.90                   NaN  \n",
       "3  0.22  0.07  244.45  67.98                   NaN  \n",
       "4  0.34  0.07  245.74  62.83                   NaN  "
      ]
     },
     "execution_count": 116,
     "metadata": {},
     "output_type": "execute_result"
    }
   ],
   "source": [
    "tracking.head()"
   ]
  },
  {
   "cell_type": "code",
   "execution_count": 143,
   "id": "0893d934-93b8-4b7f-8207-b710d37c47b7",
   "metadata": {},
   "outputs": [],
   "source": [
    "df_player_motion_ids = df_player_play_motion[['gameId','playId','nflId']]"
   ]
  },
  {
   "cell_type": "code",
   "execution_count": 145,
   "id": "0b7c91c3-b5fc-4121-aedf-8892de9fdd55",
   "metadata": {},
   "outputs": [],
   "source": [
    "#tracking data with only motion plays\n",
    "tracking_motion = tracking.merge(df_player_motion_ids, on=['gameId', 'playId', 'nflId'], how='inner')"
   ]
  },
  {
   "cell_type": "code",
   "execution_count": 214,
   "id": "ed93a2fc-cc43-44aa-a0b7-629de2ce8f3c",
   "metadata": {},
   "outputs": [],
   "source": [
    "#find how long every motion was (can also calculate total distance traveled later / change of direction mid motion)\n",
    "\n",
    "#get initial coordinates\n",
    "df_motion_macro = tracking_motion.groupby(['gameId', 'playId', 'nflId'])[['x','y']].first().reset_index()\n",
    "\n",
    "#get coordinates at the time of snap\n",
    "tracking_motion_snap = tracking_motion[tracking_motion['frameType'] == 'SNAP']\n",
    "tracking_finalcoord = tracking_motion_snap.groupby(['gameId', 'playId', 'nflId'])[['x','y']].first().reset_index()\n",
    "\n",
    "#combine and find change in x and y values\n",
    "df_motion_macro = df_motion_macro.merge(tracking_finalcoord, on=['gameId', 'playId', 'nflId'], how='inner', suffixes=('First','Final'))\n",
    "df_motion_macro['xChange'] = df_motion_macro['xFinal'] - df_motion_macro['xFirst']\n",
    "df_motion_macro['yChange'] = df_motion_macro['yFinal'] - df_motion_macro['yFirst']"
   ]
  },
  {
   "cell_type": "code",
   "execution_count": 216,
   "id": "b5bd0ad2-d0ca-4343-b91f-0c66d18f4c1a",
   "metadata": {},
   "outputs": [
    {
     "data": {
      "text/html": [
       "<div>\n",
       "<style scoped>\n",
       "    .dataframe tbody tr th:only-of-type {\n",
       "        vertical-align: middle;\n",
       "    }\n",
       "\n",
       "    .dataframe tbody tr th {\n",
       "        vertical-align: top;\n",
       "    }\n",
       "\n",
       "    .dataframe thead th {\n",
       "        text-align: right;\n",
       "    }\n",
       "</style>\n",
       "<table border=\"1\" class=\"dataframe\">\n",
       "  <thead>\n",
       "    <tr style=\"text-align: right;\">\n",
       "      <th></th>\n",
       "      <th>gameId</th>\n",
       "      <th>playId</th>\n",
       "      <th>nflId</th>\n",
       "      <th>xFirst</th>\n",
       "      <th>yFirst</th>\n",
       "      <th>xFinal</th>\n",
       "      <th>yFinal</th>\n",
       "      <th>xChange</th>\n",
       "      <th>yChange</th>\n",
       "    </tr>\n",
       "  </thead>\n",
       "  <tbody>\n",
       "    <tr>\n",
       "      <th>0</th>\n",
       "      <td>2022090800</td>\n",
       "      <td>80</td>\n",
       "      <td>47857.0</td>\n",
       "      <td>38.26</td>\n",
       "      <td>13.913333</td>\n",
       "      <td>34.17</td>\n",
       "      <td>21.793333</td>\n",
       "      <td>-4.09</td>\n",
       "      <td>7.88</td>\n",
       "    </tr>\n",
       "    <tr>\n",
       "      <th>1</th>\n",
       "      <td>2022090800</td>\n",
       "      <td>101</td>\n",
       "      <td>53079.0</td>\n",
       "      <td>43.59</td>\n",
       "      <td>23.063333</td>\n",
       "      <td>45.39</td>\n",
       "      <td>27.003333</td>\n",
       "      <td>1.80</td>\n",
       "      <td>3.94</td>\n",
       "    </tr>\n",
       "    <tr>\n",
       "      <th>2</th>\n",
       "      <td>2022090800</td>\n",
       "      <td>212</td>\n",
       "      <td>47879.0</td>\n",
       "      <td>72.67</td>\n",
       "      <td>23.493333</td>\n",
       "      <td>73.32</td>\n",
       "      <td>20.503333</td>\n",
       "      <td>0.65</td>\n",
       "      <td>-2.99</td>\n",
       "    </tr>\n",
       "    <tr>\n",
       "      <th>3</th>\n",
       "      <td>2022090800</td>\n",
       "      <td>236</td>\n",
       "      <td>52536.0</td>\n",
       "      <td>79.94</td>\n",
       "      <td>24.433333</td>\n",
       "      <td>83.21</td>\n",
       "      <td>18.063333</td>\n",
       "      <td>3.27</td>\n",
       "      <td>-6.37</td>\n",
       "    </tr>\n",
       "    <tr>\n",
       "      <th>4</th>\n",
       "      <td>2022090800</td>\n",
       "      <td>299</td>\n",
       "      <td>44881.0</td>\n",
       "      <td>20.20</td>\n",
       "      <td>22.710000</td>\n",
       "      <td>23.39</td>\n",
       "      <td>19.480000</td>\n",
       "      <td>3.19</td>\n",
       "      <td>-3.23</td>\n",
       "    </tr>\n",
       "  </tbody>\n",
       "</table>\n",
       "</div>"
      ],
      "text/plain": [
       "       gameId  playId    nflId  xFirst     yFirst  xFinal     yFinal  xChange  \\\n",
       "0  2022090800      80  47857.0   38.26  13.913333   34.17  21.793333    -4.09   \n",
       "1  2022090800     101  53079.0   43.59  23.063333   45.39  27.003333     1.80   \n",
       "2  2022090800     212  47879.0   72.67  23.493333   73.32  20.503333     0.65   \n",
       "3  2022090800     236  52536.0   79.94  24.433333   83.21  18.063333     3.27   \n",
       "4  2022090800     299  44881.0   20.20  22.710000   23.39  19.480000     3.19   \n",
       "\n",
       "   yChange  \n",
       "0     7.88  \n",
       "1     3.94  \n",
       "2    -2.99  \n",
       "3    -6.37  \n",
       "4    -3.23  "
      ]
     },
     "execution_count": 216,
     "metadata": {},
     "output_type": "execute_result"
    }
   ],
   "source": [
    "df_motion_macro.head()"
   ]
  },
  {
   "cell_type": "code",
   "execution_count": 224,
   "id": "a4bc74d7-7ac1-4da1-99d4-ebb8a65eb008",
   "metadata": {},
   "outputs": [
    {
     "data": {
      "text/plain": [
       "<Axes: xlabel='xChange', ylabel='Count'>"
      ]
     },
     "execution_count": 224,
     "metadata": {},
     "output_type": "execute_result"
    },
    {
     "data": {
      "image/png": "[encoded data removed]",
      "text/plain": [
       "<Figure size 640x480 with 1 Axes>"
      ]
     },
     "metadata": {},
     "output_type": "display_data"
    }
   ],
   "source": [
    "#yards for each motion\n",
    "sns.histplot(df_motion_macro['xChange'].abs())"
   ]
  },
  {
   "cell_type": "code",
   "execution_count": null,
   "id": "0cf64f91-fd39-492f-9a98-4e21710a9c55",
   "metadata": {},
   "outputs": [],
   "source": [
    "#find which motions went towards/away/across from ball"
   ]
  }
 ],
 "metadata": {
  "kernelspec": {
   "display_name": "Python 3 (ipykernel)",
   "language": "python",
   "name": "python3"
  },
  "language_info": {
   "codemirror_mode": {
    "name": "ipython",
    "version": 3
   },
   "file_extension": ".py",
   "mimetype": "text/x-python",
   "name": "python",
   "nbconvert_exporter": "python",
   "pygments_lexer": "ipython3",
   "version": "3.12.7"
  }
 },
 "nbformat": 4,
 "nbformat_minor": 5
}
