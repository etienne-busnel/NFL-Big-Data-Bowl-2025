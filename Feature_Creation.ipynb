{
 "cells": [
  {
   "cell_type": "code",
   "execution_count": 2,
   "id": "a919280c-6105-4535-927d-9281bf5d6db6",
   "metadata": {},
   "outputs": [],
   "source": [
    "#import standard libraries\n",
    "import pandas as pd\n",
    "import numpy as np\n",
    "import matplotlib.pyplot as plt\n",
    "import seaborn as sns"
   ]
  },
  {
   "cell_type": "code",
   "execution_count": 62,
   "id": "5b242e99-3a99-4e4f-a86c-e155fd7552fc",
   "metadata": {},
   "outputs": [],
   "source": [
    "#read tracking and player_play csvs\n",
    "tracking_linemen = pd.read_csv('tracking_linemen.csv')\n",
    "tracking_football = pd.read_csv('tracking_football.csv')\n",
    "tracking_simple = pd.read_csv('tracking_simple.csv')\n",
    "df_player_play_motion = pd.read_csv('player_play.csv')"
   ]
  },
  {
   "cell_type": "code",
   "execution_count": 64,
   "id": "b173fdcd-8e5f-48b3-9a87-8104d87571d9",
   "metadata": {},
   "outputs": [],
   "source": [
    "#see if this can be used for earlier functions\n",
    "def add_column_from_other_df(df, other_df, col, new_col_name, merge_keys=['gameId', 'playId', 'nflId']):\n",
    "\n",
    "    #shrink other dataframe\n",
    "    df_small = other_df[merge_keys + [col]]\n",
    "    \n",
    "    #put placeholder column name that won't be in df\n",
    "    df_small.rename(columns={col: 'placeholder_column_x09ds623n'}, inplace=True)\n",
    "    \n",
    "    #merge the dataframes\n",
    "    df = df.merge(df_small, on = merge_keys)\n",
    "\n",
    "    #rename the new column\n",
    "    df.rename(columns={'placeholder_column_x09ds623n': new_col_name}, inplace=True)\n",
    "\n",
    "    return df\n"
   ]
  },
  {
   "cell_type": "code",
   "execution_count": 66,
   "id": "63802e5a-5cc9-42a5-9472-6cd75f7c7fff",
   "metadata": {},
   "outputs": [],
   "source": [
    "#get frames of ball snap and last_motion\n",
    "last_motion_frame = tracking_simple[tracking_simple['in_motion'] == 1].groupby(['gameId', 'playId', 'nflId'])['frameId'].max().reset_index()\n",
    "snap_frame = tracking_simple.groupby(['gameId', 'playId', 'nflId'])['frameId'].max().reset_index()\n",
    "\n",
    "df_player_play_motion = add_column_from_other_df(df_player_play_motion, last_motion_frame, 'frameId', 'last_motion_frameId')\n",
    "df_player_play_motion = add_column_from_other_df(df_player_play_motion, snap_frame, 'frameId', 'snap_frameId')\n"
   ]
  },
  {
   "cell_type": "code",
   "execution_count": 68,
   "id": "c28895c3-97d4-4220-9a92-1b1ef8c4ca53",
   "metadata": {},
   "outputs": [],
   "source": [
    "df_player_play_motion['snap_motion_gap'] = df_player_play_motion['snap_frameId'] - df_player_play_motion['last_motion_frameId']"
   ]
  },
  {
   "cell_type": "code",
   "execution_count": 70,
   "id": "2352849b-09bc-41e8-8885-73435241db6a",
   "metadata": {},
   "outputs": [
    {
     "data": {
      "text/html": [
       "<div>\n",
       "<style scoped>\n",
       "    .dataframe tbody tr th:only-of-type {\n",
       "        vertical-align: middle;\n",
       "    }\n",
       "\n",
       "    .dataframe tbody tr th {\n",
       "        vertical-align: top;\n",
       "    }\n",
       "\n",
       "    .dataframe thead th {\n",
       "        text-align: right;\n",
       "    }\n",
       "</style>\n",
       "<table border=\"1\" class=\"dataframe\">\n",
       "  <thead>\n",
       "    <tr style=\"text-align: right;\">\n",
       "      <th></th>\n",
       "      <th>inMotionAtBallSnap</th>\n",
       "      <th>snap_motion_gap</th>\n",
       "    </tr>\n",
       "  </thead>\n",
       "  <tbody>\n",
       "    <tr>\n",
       "      <th>0</th>\n",
       "      <td>True</td>\n",
       "      <td>10</td>\n",
       "    </tr>\n",
       "    <tr>\n",
       "      <th>1</th>\n",
       "      <td>True</td>\n",
       "      <td>27</td>\n",
       "    </tr>\n",
       "    <tr>\n",
       "      <th>2</th>\n",
       "      <td>True</td>\n",
       "      <td>0</td>\n",
       "    </tr>\n",
       "    <tr>\n",
       "      <th>3</th>\n",
       "      <td>False</td>\n",
       "      <td>43</td>\n",
       "    </tr>\n",
       "    <tr>\n",
       "      <th>4</th>\n",
       "      <td>True</td>\n",
       "      <td>0</td>\n",
       "    </tr>\n",
       "  </tbody>\n",
       "</table>\n",
       "</div>"
      ],
      "text/plain": [
       "  inMotionAtBallSnap  snap_motion_gap\n",
       "0               True               10\n",
       "1               True               27\n",
       "2               True                0\n",
       "3              False               43\n",
       "4               True                0"
      ]
     },
     "execution_count": 70,
     "metadata": {},
     "output_type": "execute_result"
    }
   ],
   "source": [
    "#need to check why these aren't fully consistent, seem mostly the same though\n",
    "df_player_play_motion[['inMotionAtBallSnap','snap_motion_gap']].head(5)"
   ]
  },
  {
   "cell_type": "code",
   "execution_count": 72,
   "id": "f3afd854-2f39-4392-84b1-373f57fd666d",
   "metadata": {},
   "outputs": [],
   "source": [
    "#get initial y and final y coordinates (relative to the ball)\n",
    "initial_rel_y_dis = tracking_simple.groupby(['gameId', 'playId', 'nflId'])['y_dis_from_fb'].first().reset_index()\n",
    "end_rel_y_dis = tracking_simple.groupby(['gameId', 'playId', 'nflId'])['y_dis_from_fb'].last().reset_index()\n",
    "\n",
    "df_player_play_motion = add_column_from_other_df(df_player_play_motion, initial_rel_y_dis, 'y_dis_from_fb', 'init_rel_y_dis')\n",
    "df_player_play_motion = add_column_from_other_df(df_player_play_motion, end_rel_y_dis, 'y_dis_from_fb', 'end_rel_y_dis')\n",
    "\n",
    "#calculate overall change in player's y coordinate\n",
    "df_player_play_motion['overall_y_change'] = df_player_play_motion['init_rel_y_dis'] - df_player_play_motion['end_rel_y_dis']\n",
    "\n",
    "#same steps but for x\n",
    "initial_rel_x_dis = tracking_simple.groupby(['gameId', 'playId', 'nflId'])['x_dis_from_fb'].first().reset_index()\n",
    "end_rel_x_dis = tracking_simple.groupby(['gameId', 'playId', 'nflId'])['x_dis_from_fb'].last().reset_index()\n",
    "\n",
    "df_player_play_motion = add_column_from_other_df(df_player_play_motion, initial_rel_x_dis, 'x_dis_from_fb', 'init_rel_x_dis')\n",
    "df_player_play_motion = add_column_from_other_df(df_player_play_motion, end_rel_x_dis, 'x_dis_from_fb', 'end_rel_x_dis')\n",
    "\n",
    "df_player_play_motion['overall_x_change'] = (df_player_play_motion['init_rel_x_dis'] - df_player_play_motion['end_rel_x_dis'])"
   ]
  },
  {
   "cell_type": "code",
   "execution_count": 74,
   "id": "fe31d63a-5801-4818-8dfe-f86c3be96539",
   "metadata": {},
   "outputs": [],
   "source": [
    "#find average player speed during their motion\n",
    "motion_speed_avg = tracking_simple[tracking_simple['in_motion'] == 1].groupby(['gameId', 'playId', 'nflId'])['s_std'].mean().reset_index()\n",
    "df_player_play_motion = add_column_from_other_df(df_player_play_motion, motion_speed_avg, 's_std', 'motion_s_avg')"
   ]
  },
  {
   "cell_type": "code",
   "execution_count": 76,
   "id": "458dcbe0-382b-4345-9383-1e1f306c54cb",
   "metadata": {},
   "outputs": [],
   "source": [
    "#find player's total time in motion\n",
    "motion_sum = tracking_simple.groupby(['gameId', 'playId', 'nflId'])['in_motion'].sum().reset_index()\n",
    "df_player_play_motion = add_column_from_other_df(df_player_play_motion, motion_sum, 'in_motion', 'frames_in_motion')"
   ]
  },
  {
   "cell_type": "code",
   "execution_count": 78,
   "id": "5c2f04dc-6d8d-414a-a82d-587f8d685d5d",
   "metadata": {},
   "outputs": [],
   "source": [
    "#find farthest x values the player gets from their initial points on both sides\n",
    "max_x_change = tracking_simple.groupby(['gameId', 'playId', 'nflId'])['x_change_all'].max().reset_index()\n",
    "df_player_play_motion = add_column_from_other_df(df_player_play_motion, max_x_change, 'x_change_all', 'max_x_rel_pos')\n",
    "\n",
    "min_x_change = tracking_simple.groupby(['gameId', 'playId', 'nflId'])['x_change_all'].min().reset_index()\n",
    "df_player_play_motion = add_column_from_other_df(df_player_play_motion, min_x_change, 'x_change_all', 'min_x_rel_pos')\n",
    "\n",
    "#same for y\n",
    "max_y_change = tracking_simple.groupby(['gameId', 'playId', 'nflId'])['y_change_all'].max().reset_index()\n",
    "df_player_play_motion = add_column_from_other_df(df_player_play_motion, max_y_change, 'y_change_all', 'max_y_rel_pos')\n",
    "\n",
    "min_y_change = tracking_simple.groupby(['gameId', 'playId', 'nflId'])['y_change_all'].min().reset_index()\n",
    "df_player_play_motion = add_column_from_other_df(df_player_play_motion, min_y_change, 'y_change_all', 'min_y_rel_pos')\n"
   ]
  },
  {
   "cell_type": "code",
   "execution_count": 82,
   "id": "35316fb2-7048-4de4-b6f6-e01d5edfc6ef",
   "metadata": {},
   "outputs": [],
   "source": [
    "# #find how far away from the offensive line the player started\n",
    "\n",
    "#get lineman's distance from football (x and y)\n",
    "tracking_linemen = tracking_linemen.merge(tracking_football, on = ['gameId','playId','frameId'], suffixes=('','_fb'))\n",
    "tracking_linemen['y_dis_from_fb'] = tracking_linemen['y_std'] - tracking_linemen['y_std_fb']\n",
    "tracking_linemen.drop(columns=['frameId'], inplace=True)\n",
    "\n",
    "#for every play designate the furthest lineman on each side of the line\n",
    "max_line = tracking_linemen.groupby(['gameId', 'playId'])['y_dis_from_fb'].max().reset_index()\n",
    "df_player_play_motion = add_column_from_other_df(df_player_play_motion, max_line, 'y_dis_from_fb', 'line_y_max', merge_keys=['gameId', 'playId'])\n",
    "\n",
    "min_line = tracking_linemen.groupby(['gameId', 'playId'])['y_dis_from_fb'].min().reset_index()\n",
    "df_player_play_motion = add_column_from_other_df(df_player_play_motion, min_line, 'y_dis_from_fb', 'line_y_min', merge_keys=['gameId', 'playId'])\n",
    "\n",
    "#need to flip necessary y values before going further"
   ]
  },
  {
   "cell_type": "code",
   "execution_count": 84,
   "id": "e4a30a6b-16d2-4932-96df-ea296a26ca73",
   "metadata": {},
   "outputs": [],
   "source": [
    "#if y started off negative, flip y values so it starts off positive\n",
    "mask = df_player_play_motion['init_rel_y_dis'] < 0\n",
    "df_player_play_motion.loc[mask, ['init_rel_y_dis', 'end_rel_y_dis', 'overall_y_change', 'max_y_rel_pos', 'min_y_rel_pos','line_y_max','line_y_min']] *= -1"
   ]
  },
  {
   "cell_type": "code",
   "execution_count": 86,
   "id": "1a235a78-d0b5-4162-b7e6-4d91397dc3b8",
   "metadata": {},
   "outputs": [],
   "source": [
    "#then: note how far the player was from the line at the beginning and end\n",
    "df_player_play_motion['dis_line_start'] = df_player_play_motion['init_rel_y_dis'] - df_player_play_motion[['line_y_max', 'line_y_min']].max(axis=1)\n",
    "df_player_play_motion['dis_line_end'] = df_player_play_motion['end_rel_y_dis'] - df_player_play_motion[['line_y_max', 'line_y_min']].max(axis=1)\n",
    "\n",
    "#finally: drop lineman position columns\n",
    "df_player_play_motion.drop(columns=['line_y_max','line_y_min'], inplace=True)"
   ]
  },
  {
   "cell_type": "code",
   "execution_count": 88,
   "id": "a84450bb-ac1c-4fe2-9bb7-744f307fb7de",
   "metadata": {},
   "outputs": [],
   "source": [
    "#Convert inMotionAtBallSnap to numeric column\n",
    "df_player_play_motion['inMotionAtBallSnap'] = df_player_play_motion['inMotionAtBallSnap'] * 1"
   ]
  },
  {
   "cell_type": "code",
   "execution_count": 90,
   "id": "72f4622d-2150-4406-9c1d-1487a46aa9c8",
   "metadata": {},
   "outputs": [],
   "source": [
    "#note if the player ran past the football on the motion\n",
    "max_dist_fb = tracking_simple.groupby(['gameId','playId','nflId'])['y_dis_from_fb'].max().reset_index()\n",
    "min_dist_fb = tracking_simple.groupby(['gameId','playId','nflId'])['y_dis_from_fb'].min().reset_index()\n",
    "df_player_play_motion = add_column_from_other_df(df_player_play_motion, max_dist_fb, 'y_dis_from_fb', 'max_dist_fb')\n",
    "df_player_play_motion = add_column_from_other_df(df_player_play_motion, min_dist_fb, 'y_dis_from_fb', 'min_dist_fb')\n",
    "\n",
    "# Create a new column 'same_sign' based on the condition\n",
    "df_player_play_motion['passed_fb'] = ((df_player_play_motion['max_dist_fb'] >= 0) & (df_player_play_motion['min_dist_fb'] >= 0)) | \\\n",
    "                                       ((df_player_play_motion['max_dist_fb'] < 0) & (df_player_play_motion['min_dist_fb'] < 0))\n",
    "df_player_play_motion['passed_fb'] = df_player_play_motion['passed_fb']*1"
   ]
  },
  {
   "cell_type": "code",
   "execution_count": 94,
   "id": "80cc9cdb-bf51-42ae-80bc-c8b5d90b6d01",
   "metadata": {},
   "outputs": [],
   "source": [
    "df_clustering_cols = df_player_play_motion[['inMotionAtBallSnap','init_rel_y_dis','end_rel_y_dis','overall_y_change','init_rel_x_dis','end_rel_x_dis','overall_x_change','motion_s_avg','frames_in_motion','max_x_rel_pos', 'min_x_rel_pos', 'max_y_rel_pos','min_y_rel_pos', 'dis_line_start', 'dis_line_end','passed_fb']]"
   ]
  },
  {
   "cell_type": "code",
   "execution_count": 96,
   "id": "0755978a-66f0-489c-86d7-4ba910812512",
   "metadata": {},
   "outputs": [],
   "source": [
    "#export dataframes\n",
    "df_clustering_cols.to_csv('clustering_columns.csv', index=False)\n",
    "df_player_play_motion.to_csv('df_player_play_motion.csv',index=False)"
   ]
  }
 ],
 "metadata": {
  "kernelspec": {
   "display_name": "Python [conda env:base] *",
   "language": "python",
   "name": "conda-base-py"
  },
  "language_info": {
   "codemirror_mode": {
    "name": "ipython",
    "version": 3
   },
   "file_extension": ".py",
   "mimetype": "text/x-python",
   "name": "python",
   "nbconvert_exporter": "python",
   "pygments_lexer": "ipython3",
   "version": "3.12.7"
  }
 },
 "nbformat": 4,
 "nbformat_minor": 5
}
