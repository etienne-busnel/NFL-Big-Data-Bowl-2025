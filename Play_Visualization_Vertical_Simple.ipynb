{
 "cells": [
  {
   "cell_type": "markdown",
   "id": "2586fa20-61f2-479a-a5df-ea0f9ffcc14d",
   "metadata": {},
   "source": [
    "From: https://www.kaggle.com/code/nickwan/animate-plays-with-plotly-real-no-lies-here"
   ]
  },
  {
   "cell_type": "code",
   "execution_count": 2,
   "id": "d8da1eb8-8bdd-42ef-977a-b0b0bbd5acbd",
   "metadata": {},
   "outputs": [],
   "source": [
    "import plotly.graph_objects as go\n",
    "import os\n",
    "import pandas as pd\n",
    "import numpy as np\n",
    "import matplotlib.pyplot as plt\n",
    "import seaborn as sns"
   ]
  },
  {
   "cell_type": "code",
   "execution_count": 178,
   "id": "292d0ce2-ab74-4e7d-a9d6-029a8c7acef2",
   "metadata": {},
   "outputs": [],
   "source": [
    "# You can inherit these colors from nflverse, this is for completeness/convenience \n",
    "\n",
    "def preprocess_data(tracking_data, players_data):\n",
    "    \"\"\"\n",
    "    merges data for the `animate_play()` function \n",
    "    \"\"\"\n",
    "    tracking_df = pd.merge(df,players,how=\"left\",on = [\"nflId\",'displayName'])\n",
    "    return tracking_df\n",
    "\n",
    "def animate_play_vertical(games,tracking_df,play_df,players,gameId,playId):\n",
    "    \"\"\"\n",
    "    Generates an animated play using the tracking data. \n",
    "    \"\"\"\n",
    "    selected_game_df = games.loc[games['gameId']==gameId].copy()\n",
    "    selected_play_df = play_df.loc[(play_df['playId']==playId) & (play_df['gameId']==gameId)].copy()\n",
    "\n",
    "    tracking_players_df = tracking_df.copy()\n",
    "    selected_tracking_df = tracking_players_df.loc[(tracking_players_df['playId']==playId)&(tracking_players_df['gameId']==gameId)].copy()\n",
    "    \n",
    "    sorted_frame_list = selected_tracking_df.frameId.unique()\n",
    "    sorted_frame_list.sort()\n",
    "\n",
    "    # initialize plotly start and stop buttons for animation\n",
    "    updatemenus_dict = [\n",
    "      {\n",
    "          \"buttons\": [\n",
    "              {\n",
    "                  \"args\": [None, {\"frame\": {\"duration\": 100, \"redraw\": False},\n",
    "                              \"fromcurrent\": True, \"transition\": {\"duration\": 0}}],\n",
    "                  \"label\": \"Play\",\n",
    "                  \"method\": \"animate\"\n",
    "              },\n",
    "              {\n",
    "                  \"args\": [[None], {\"frame\": {\"duration\": 0, \"redraw\": False},\n",
    "                                    \"mode\": \"immediate\",\n",
    "                                    \"transition\": {\"duration\": 0}}],\n",
    "                  \"label\": \"Pause\",\n",
    "                  \"method\": \"animate\"\n",
    "              }\n",
    "          ],\n",
    "          \"direction\": \"left\",\n",
    "          \"pad\": {\"r\": 10, \"t\": 87},\n",
    "          \"showactive\": False,\n",
    "          \"type\": \"buttons\",\n",
    "          \"x\": 0.1,\n",
    "          \"xanchor\": \"right\",\n",
    "          \"y\": 0,\n",
    "          \"yanchor\": \"top\"\n",
    "      }\n",
    "    ]\n",
    "    # initialize plotly slider to show frame position in animation\n",
    "    sliders_dict = {\n",
    "      \"active\": 0,\n",
    "      \"yanchor\": \"top\",\n",
    "      \"xanchor\": \"left\",\n",
    "      \"currentvalue\": {\n",
    "          \"font\": {\"size\": 20},\n",
    "          \"prefix\": \"Frame:\",\n",
    "          \"visible\": True,\n",
    "          \"xanchor\": \"right\"\n",
    "      },\n",
    "      \"transition\": {\"duration\": 300, \"easing\": \"cubic-in-out\"},\n",
    "      \"pad\": {\"b\": 10, \"t\": 50},\n",
    "      \"len\": 0.9,\n",
    "      \"x\": 0.1,\n",
    "      \"y\": 0,\n",
    "      \"steps\": []\n",
    "    }\n",
    "\n",
    "\n",
    "    frames = []\n",
    "\n",
    "    x_min = 0\n",
    "    y_min = 0\n",
    "    x_max = 0\n",
    "    y_max = 0\n",
    "    \n",
    "    for frameId in sorted_frame_list:\n",
    "        data = []\n",
    "\n",
    "        # # Add line of scrimage\n",
    "        # data.append(\n",
    "        #   go.Scatter(\n",
    "        #       x=[line_of_scrimmage,line_of_scrimmage],\n",
    "        #       y=[0,53.5],\n",
    "        #       line_dash='dash',\n",
    "        #       line_color='blue',\n",
    "        #       showlegend=False,\n",
    "        #       hoverinfo='none',\n",
    "        #       opacity=.3\n",
    "        #   )\n",
    "        # )\n",
    "\n",
    "        # Plot Players\n",
    "        plot_df = selected_tracking_df.loc[selected_tracking_df['frameId']==frameId].copy()\n",
    "\n",
    "        hover_text_array=[]\n",
    "\n",
    "        for nflId in plot_df['nflId'].unique():\n",
    "            selected_player_df = plot_df.loc[plot_df['nflId']==nflId]\n",
    "            nflId = int(selected_player_df['nflId'].values[0])\n",
    "            displayName = selected_player_df['displayName'].values[0]\n",
    "            s = round(selected_player_df['s_std'].values[0] * 2.23693629205, 3)\n",
    "            text_to_append = f\"nflId:{nflId}<br>displayName:{displayName}<br>Player Speed:{s} MPH\"\n",
    "            hover_text_array.append(text_to_append)\n",
    "\n",
    "            # Determine if graph bounds need to be extended\n",
    "            x_min = min(x_min, plot_df['dis_fb_y'].min())\n",
    "            x_max = max(x_max, plot_df['dis_fb_y'].max())\n",
    "            y_min = min(y_min, plot_df['dis_fb_x'].min())\n",
    "            y_max = max(y_max, plot_df['dis_fb_x'].max())\n",
    "            \n",
    "            # Determine if the player is in motion\n",
    "            in_motion_flag = selected_player_df['motion_true'].values[0]\n",
    "            in_motion = selected_player_df['in_motion'].values[0]\n",
    "\n",
    "            #set colors based on if in motion or not\n",
    "            if in_motion_flag:\n",
    "                fill_color = '#ff0000'\n",
    "\n",
    "            else:\n",
    "                fill_color = '#ffffff'\n",
    "                \n",
    "            # Add the base marker\n",
    "            data.append(go.Scatter(x=-selected_player_df['dis_fb_y'], y=selected_player_df['dis_fb_x'],\n",
    "                                  mode = 'markers',\n",
    "                                  marker=go.scatter.Marker(color=fill_color,\n",
    "                                                          line=go.scatter.marker.Line(width=2,\n",
    "                                                                                      color='#000000'),\n",
    "                                                                                      opacity=1,\n",
    "                                                          size=10),\n",
    "                                  #name=selected_player_df['club'].values[0],hovertext=hover_text_array,hoverinfo='text'\n",
    "                                  )\n",
    "                                  )\n",
    "\n",
    "            # If the player is in motion, add a red circle around the marker\n",
    "            if in_motion:\n",
    "                data.append(go.Scatter(x=-selected_player_df['dis_fb_y'], y=selected_player_df['dis_fb_x'],\n",
    "                                      mode='markers',\n",
    "                                      marker=go.scatter.Marker(\n",
    "                                          size=20,  # Larger size to create the outline effect\n",
    "                                          color='rgba(255, 0, 0, 0.5)',  # Transparent red\n",
    "                                          line=dict(width=2, color='red')\n",
    "                                      ),\n",
    "                                      name=f'{displayName} in motion',\n",
    "                                      hoverinfo='none'))\n",
    "\n",
    "            # Plot the motion path dynamically as the player moves\n",
    "            motion_df = selected_tracking_df[(selected_tracking_df['nflId'] == nflId) & (selected_tracking_df['frameId'] <= frameId) & (selected_tracking_df['in_motion'] == 1)].copy()\n",
    "            data.append(go.Scatter(\n",
    "                x=-motion_df['dis_fb_y'],\n",
    "                y=motion_df['dis_fb_x'],\n",
    "                mode='lines',\n",
    "                line=dict(color='red', width=2),\n",
    "                name=f'{displayName} motion path'\n",
    "            ))\n",
    "\n",
    "            # # Plot the after motion path as well\n",
    "            # post_motion_df = selected_tracking_df[(selected_tracking_df['nflId'] == nflId) & (selected_tracking_df['frameId'] <= frameId) & (selected_tracking_df['in_motion_flag'] == True) & (selected_tracking_df['frameType'] == 'AFTER_SNAP')].copy()\n",
    "            # data.append(go.Scatter(\n",
    "            #     x=post_motion_df['dis_fb_x'],\n",
    "            #     y=post_motion_df['dis_fb_y'],\n",
    "            #     mode='lines',\n",
    "            #     line=dict(color='blue', width=2),\n",
    "            #     name=f'{displayName} motion path'\n",
    "            # ))\n",
    "\n",
    "        # add frame to slider\n",
    "        slider_step = {'args': [\n",
    "          [frameId],\n",
    "          {'frame': {'duration': 100, 'redraw': False},\n",
    "            'mode': 'immediate',\n",
    "            'transition': {'duration': 0}}\n",
    "        ],\n",
    "          'label': str(frameId),\n",
    "          'method': 'animate'}\n",
    "        sliders_dict['steps'].append(slider_step)\n",
    "        frames.append(go.Frame(data=data, name=str(frameId)))\n",
    "\n",
    "    buffer_x = 100\n",
    "    buffer_y = 100\n",
    "\n",
    "    layout = go.Layout(\n",
    "        autosize=False,\n",
    "        width=600,     \n",
    "        height=400,     \n",
    "        updatemenus=updatemenus_dict,\n",
    "        sliders=[sliders_dict],\n",
    "        xaxis=dict(\n",
    "            range=[x_min-buffer_x, x_max+buffer_y],\n",
    "            showticklabels = False,\n",
    "            showgrid=False\n",
    "        ),\n",
    "        yaxis=dict(\n",
    "            range=[y_min-buffer_x, y_max+buffer_y],\n",
    "            showticklabels = False,\n",
    "            showgrid=False\n",
    "        ),\n",
    "        showlegend=False,\n",
    "        plot_bgcolor=\"lightgreen\"   # Sets the plot area background color\n",
    "    )\n",
    "    \n",
    "    fig = go.Figure(\n",
    "        data=frames[0]['data'],\n",
    "        layout= layout,\n",
    "        frames=frames[1:]\n",
    "    )\n",
    "    \n",
    "    return fig"
   ]
  },
  {
   "cell_type": "code",
   "execution_count": 84,
   "id": "dc727dd9-b5a6-44be-a558-2b181cc0483d",
   "metadata": {},
   "outputs": [
    {
     "data": {
      "text/html": [
       "<div>\n",
       "<style scoped>\n",
       "    .dataframe tbody tr th:only-of-type {\n",
       "        vertical-align: middle;\n",
       "    }\n",
       "\n",
       "    .dataframe tbody tr th {\n",
       "        vertical-align: top;\n",
       "    }\n",
       "\n",
       "    .dataframe thead th {\n",
       "        text-align: right;\n",
       "    }\n",
       "</style>\n",
       "<table border=\"1\" class=\"dataframe\">\n",
       "  <thead>\n",
       "    <tr style=\"text-align: right;\">\n",
       "      <th></th>\n",
       "      <th>Unnamed: 0</th>\n",
       "      <th>gameId</th>\n",
       "      <th>playId</th>\n",
       "      <th>nflId</th>\n",
       "      <th>displayName</th>\n",
       "      <th>frameId</th>\n",
       "      <th>s_std</th>\n",
       "      <th>dis_fb_x</th>\n",
       "      <th>dis_fb_y</th>\n",
       "      <th>motion_true</th>\n",
       "      <th>in_motion</th>\n",
       "    </tr>\n",
       "  </thead>\n",
       "  <tbody>\n",
       "    <tr>\n",
       "      <th>0</th>\n",
       "      <td>0</td>\n",
       "      <td>2022091200</td>\n",
       "      <td>64</td>\n",
       "      <td>39987.0</td>\n",
       "      <td>Geno Smith</td>\n",
       "      <td>43</td>\n",
       "      <td>113</td>\n",
       "      <td>-329</td>\n",
       "      <td>7</td>\n",
       "      <td>0.0</td>\n",
       "      <td>0.0</td>\n",
       "    </tr>\n",
       "    <tr>\n",
       "      <th>1</th>\n",
       "      <td>1</td>\n",
       "      <td>2022091200</td>\n",
       "      <td>64</td>\n",
       "      <td>39987.0</td>\n",
       "      <td>Geno Smith</td>\n",
       "      <td>44</td>\n",
       "      <td>112</td>\n",
       "      <td>-318</td>\n",
       "      <td>8</td>\n",
       "      <td>0.0</td>\n",
       "      <td>0.0</td>\n",
       "    </tr>\n",
       "    <tr>\n",
       "      <th>2</th>\n",
       "      <td>2</td>\n",
       "      <td>2022091200</td>\n",
       "      <td>64</td>\n",
       "      <td>39987.0</td>\n",
       "      <td>Geno Smith</td>\n",
       "      <td>45</td>\n",
       "      <td>113</td>\n",
       "      <td>-307</td>\n",
       "      <td>10</td>\n",
       "      <td>0.0</td>\n",
       "      <td>0.0</td>\n",
       "    </tr>\n",
       "    <tr>\n",
       "      <th>3</th>\n",
       "      <td>3</td>\n",
       "      <td>2022091200</td>\n",
       "      <td>64</td>\n",
       "      <td>39987.0</td>\n",
       "      <td>Geno Smith</td>\n",
       "      <td>46</td>\n",
       "      <td>112</td>\n",
       "      <td>-295</td>\n",
       "      <td>10</td>\n",
       "      <td>0.0</td>\n",
       "      <td>0.0</td>\n",
       "    </tr>\n",
       "    <tr>\n",
       "      <th>4</th>\n",
       "      <td>4</td>\n",
       "      <td>2022091200</td>\n",
       "      <td>64</td>\n",
       "      <td>39987.0</td>\n",
       "      <td>Geno Smith</td>\n",
       "      <td>47</td>\n",
       "      <td>112</td>\n",
       "      <td>-284</td>\n",
       "      <td>12</td>\n",
       "      <td>0.0</td>\n",
       "      <td>0.0</td>\n",
       "    </tr>\n",
       "  </tbody>\n",
       "</table>\n",
       "</div>"
      ],
      "text/plain": [
       "   Unnamed: 0      gameId  playId    nflId displayName  frameId  s_std  \\\n",
       "0           0  2022091200      64  39987.0  Geno Smith       43    113   \n",
       "1           1  2022091200      64  39987.0  Geno Smith       44    112   \n",
       "2           2  2022091200      64  39987.0  Geno Smith       45    113   \n",
       "3           3  2022091200      64  39987.0  Geno Smith       46    112   \n",
       "4           4  2022091200      64  39987.0  Geno Smith       47    112   \n",
       "\n",
       "   dis_fb_x  dis_fb_y  motion_true  in_motion  \n",
       "0      -329         7          0.0        0.0  \n",
       "1      -318         8          0.0        0.0  \n",
       "2      -307        10          0.0        0.0  \n",
       "3      -295        10          0.0        0.0  \n",
       "4      -284        12          0.0        0.0  "
      ]
     },
     "execution_count": 84,
     "metadata": {},
     "output_type": "execute_result"
    }
   ],
   "source": [
    "#need to categorize all players as 'player in motion', 'offense', 'defense'. Then adjust the data to compensate for it\n",
    "tracking_df.head()"
   ]
  },
  {
   "cell_type": "code",
   "execution_count": 34,
   "id": "cfa2ccad-024c-4398-b26d-ede06218a487",
   "metadata": {},
   "outputs": [],
   "source": [
    "games = pd.read_csv('games.csv')\n",
    "plays = pd.read_csv('plays.csv')\n",
    "players = pd.read_csv('players.csv')\n",
    "tracking_df = pd.read_csv('tracking_vertical.csv')"
   ]
  },
  {
   "cell_type": "code",
   "execution_count": 180,
   "id": "63a5dc2e-975d-45c0-a3a0-56f235e53a5b",
   "metadata": {},
   "outputs": [
    {
     "data": {
      "application/vnd.plotly.v1+json": {
       "config": {
        "plotlyServerURL": "https://plot.ly"
       },
       "data": [
        {
         "marker": {
          "color": "#ffffff",
          "line": {
           "color": "#000000",
           "width": 2
          },
          "opacity": 1,
          "size": 10
         },
         "mode": "markers",
         "type": "scatter",
         "x": [
          -8
         ],
         "y": [
          -137
         ]
        },
        {
         "line": {
          "color": "red",
          "width": 2
         },
         "mode": "lines",
         "name": "Geno Smith motion path",
         "type": "scatter",
         "x": [],
         "y": []
        },
        {
         "marker": {
          "color": "#ffffff",
          "line": {
           "color": "#000000",
           "width": 2
          },
          "opacity": 1,
          "size": 10
         },
         "mode": "markers",
         "type": "scatter",
         "x": [
          164
         ],
         "y": [
          -96
         ]
        },
        {
         "line": {
          "color": "red",
          "width": 2
         },
         "mode": "lines",
         "name": "Gabe Jackson motion path",
         "type": "scatter",
         "x": [],
         "y": []
        },
        {
         "marker": {
          "color": "#ffffff",
          "line": {
           "color": "#000000",
           "width": 2
          },
          "opacity": 1,
          "size": 10
         },
         "mode": "markers",
         "type": "scatter",
         "x": [
          965
         ],
         "y": [
          -30
         ]
        },
        {
         "line": {
          "color": "red",
          "width": 2
         },
         "mode": "lines",
         "name": "Tyler Lockett motion path",
         "type": "scatter",
         "x": [],
         "y": []
        },
        {
         "marker": {
          "color": "#ffffff",
          "line": {
           "color": "#000000",
           "width": 2
          },
          "opacity": 1,
          "size": 10
         },
         "mode": "markers",
         "type": "scatter",
         "x": [
          -11
         ],
         "y": [
          -24
         ]
        },
        {
         "line": {
          "color": "red",
          "width": 2
         },
         "mode": "lines",
         "name": "Austin Blythe motion path",
         "type": "scatter",
         "x": [],
         "y": []
        },
        {
         "marker": {
          "color": "#ffffff",
          "line": {
           "color": "#000000",
           "width": 2
          },
          "opacity": 1,
          "size": 10
         },
         "mode": "markers",
         "type": "scatter",
         "x": [
          3
         ],
         "y": [
          -740
         ]
        },
        {
         "line": {
          "color": "red",
          "width": 2
         },
         "mode": "lines",
         "name": "Rashaad Penny motion path",
         "type": "scatter",
         "x": [],
         "y": []
        },
        {
         "marker": {
          "color": "#ff0000",
          "line": {
           "color": "#000000",
           "width": 2
          },
          "opacity": 1,
          "size": 10
         },
         "mode": "markers",
         "type": "scatter",
         "x": [
          546
         ],
         "y": [
          -146
         ]
        },
        {
         "hoverinfo": "none",
         "line": {
          "color": "red",
          "width": 2
         },
         "marker": {
          "color": "rgba(255, 0, 0, 0.5)",
          "line": {
           "color": "red",
           "width": 2
          },
          "size": 20
         },
         "mode": "markers",
         "name": "Will Dissly in motion",
         "type": "scatter",
         "x": [
          546
         ],
         "y": [
          -146
         ]
        },
        {
         "line": {
          "color": "red",
          "width": 2
         },
         "marker": {
          "color": "#ff0000",
          "line": {
           "color": "#000000",
           "width": 2
          },
          "opacity": 1,
          "size": 10
         },
         "mode": "lines",
         "name": "Will Dissly motion path",
         "type": "scatter",
         "x": [
          -238,
          -230,
          -220,
          -206,
          -190,
          -170,
          -147,
          -120,
          -89,
          -56,
          -19,
          20,
          60,
          100,
          141,
          181,
          221,
          259,
          296,
          330,
          362,
          392,
          419,
          444,
          468,
          488,
          504,
          518,
          528,
          536,
          543,
          546
         ],
         "y": [
          -464,
          -460,
          -456,
          -450,
          -442,
          -432,
          -421,
          -409,
          -392,
          -378,
          -360,
          -343,
          -326,
          -308,
          -292,
          -276,
          -261,
          -247,
          -233,
          -219,
          -207,
          -196,
          -185,
          -176,
          -168,
          -161,
          -156,
          -153,
          -149,
          -147,
          -146,
          -146
         ]
        },
        {
         "hoverinfo": "none",
         "line": {
          "color": "red",
          "width": 2
         },
         "marker": {
          "color": "#ff0000",
          "line": {
           "color": "#000000",
           "width": 2
          },
          "opacity": 1,
          "size": 10
         },
         "mode": "markers",
         "name": "Noah Fant motion path",
         "type": "scatter",
         "x": [
          -462
         ],
         "y": [
          -200
         ]
        },
        {
         "hoverinfo": "none",
         "line": {
          "color": "red",
          "width": 2
         },
         "marker": {
          "color": "#ffffff",
          "line": {
           "color": "#000000",
           "width": 2
          },
          "opacity": 1,
          "size": 10
         },
         "mode": "lines",
         "name": "Noah Fant motion path",
         "type": "scatter",
         "x": [],
         "y": []
        },
        {
         "line": {
          "color": "red",
          "width": 2
         },
         "marker": {
          "color": "#ffffff",
          "line": {
           "color": "#000000",
           "width": 2
          },
          "opacity": 1,
          "size": 10
         },
         "mode": "markers",
         "name": "DK Metcalf motion path",
         "type": "scatter",
         "x": [
          -945
         ],
         "y": [
          -93
         ]
        },
        {
         "line": {
          "color": "red",
          "width": 2
         },
         "marker": {
          "color": "#ffffff",
          "line": {
           "color": "#000000",
           "width": 2
          },
          "opacity": 1,
          "size": 10
         },
         "mode": "lines",
         "name": "DK Metcalf motion path",
         "type": "scatter",
         "x": [],
         "y": []
        },
        {
         "line": {
          "color": "red",
          "width": 2
         },
         "marker": {
          "color": "#ffffff",
          "line": {
           "color": "#000000",
           "width": 2
          },
          "opacity": 1,
          "size": 10
         },
         "mode": "markers",
         "name": "Phil Haynes motion path",
         "type": "scatter",
         "x": [
          -153
         ],
         "y": [
          -93
         ]
        },
        {
         "line": {
          "color": "red",
          "width": 2
         },
         "marker": {
          "color": "#ffffff",
          "line": {
           "color": "#000000",
           "width": 2
          },
          "opacity": 1,
          "size": 10
         },
         "mode": "lines",
         "name": "Phil Haynes motion path",
         "type": "scatter",
         "x": [],
         "y": []
        },
        {
         "line": {
          "color": "red",
          "width": 2
         },
         "marker": {
          "color": "#ffffff",
          "line": {
           "color": "#000000",
           "width": 2
          },
          "opacity": 1,
          "size": 10
         },
         "mode": "markers",
         "name": "Charles Cross motion path",
         "type": "scatter",
         "x": [
          -290
         ],
         "y": [
          -122
         ]
        },
        {
         "line": {
          "color": "red",
          "width": 2
         },
         "marker": {
          "color": "#ffffff",
          "line": {
           "color": "#000000",
           "width": 2
          },
          "opacity": 1,
          "size": 10
         },
         "mode": "lines",
         "name": "Charles Cross motion path",
         "type": "scatter",
         "x": [],
         "y": []
        },
        {
         "line": {
          "color": "red",
          "width": 2
         },
         "marker": {
          "color": "#ffffff",
          "line": {
           "color": "#000000",
           "width": 2
          },
          "opacity": 1,
          "size": 10
         },
         "mode": "markers",
         "name": "Abraham Lucas motion path",
         "type": "scatter",
         "x": [
          317
         ],
         "y": [
          -101
         ]
        }
       ],
       "frames": [
        {
         "data": [
          {
           "marker": {
            "color": "#ffffff",
            "line": {
             "color": "#000000",
             "width": 2
            },
            "opacity": 1,
            "size": 10
           },
           "mode": "markers",
           "type": "scatter",
           "x": [
            -8
           ],
           "y": [
            -318
           ]
          },
          {
           "line": {
            "color": "red",
            "width": 2
           },
           "mode": "lines",
           "name": "Geno Smith motion path",
           "type": "scatter",
           "x": [],
           "y": []
          },
          {
           "marker": {
            "color": "#ffffff",
            "line": {
             "color": "#000000",
             "width": 2
            },
            "opacity": 1,
            "size": 10
           },
           "mode": "markers",
           "type": "scatter",
           "x": [
            137
           ],
           "y": [
            -106
           ]
          },
          {
           "line": {
            "color": "red",
            "width": 2
           },
           "mode": "lines",
           "name": "Gabe Jackson motion path",
           "type": "scatter",
           "x": [],
           "y": []
          },
          {
           "marker": {
            "color": "#ffffff",
            "line": {
             "color": "#000000",
             "width": 2
            },
            "opacity": 1,
            "size": 10
           },
           "mode": "markers",
           "type": "scatter",
           "x": [
            948
           ],
           "y": [
            -41
           ]
          },
          {
           "line": {
            "color": "red",
            "width": 2
           },
           "mode": "lines",
           "name": "Tyler Lockett motion path",
           "type": "scatter",
           "x": [],
           "y": []
          },
          {
           "marker": {
            "color": "#ffffff",
            "line": {
             "color": "#000000",
             "width": 2
            },
            "opacity": 1,
            "size": 10
           },
           "mode": "markers",
           "type": "scatter",
           "x": [
            -14
           ],
           "y": [
            -30
           ]
          },
          {
           "line": {
            "color": "red",
            "width": 2
           },
           "mode": "lines",
           "name": "Austin Blythe motion path",
           "type": "scatter",
           "x": [],
           "y": []
          },
          {
           "marker": {
            "color": "#ffffff",
            "line": {
             "color": "#000000",
             "width": 2
            },
            "opacity": 1,
            "size": 10
           },
           "mode": "markers",
           "type": "scatter",
           "x": [
            0
           ],
           "y": [
            -759
           ]
          },
          {
           "line": {
            "color": "red",
            "width": 2
           },
           "mode": "lines",
           "name": "Rashaad Penny motion path",
           "type": "scatter",
           "x": [],
           "y": []
          },
          {
           "marker": {
            "color": "#ff0000",
            "line": {
             "color": "#000000",
             "width": 2
            },
            "opacity": 1,
            "size": 10
           },
           "mode": "markers",
           "type": "scatter",
           "x": [
            -252
           ],
           "y": [
            -477
           ]
          },
          {
           "line": {
            "color": "red",
            "width": 2
           },
           "mode": "lines",
           "name": "Will Dissly motion path",
           "type": "scatter",
           "x": [],
           "y": []
          },
          {
           "marker": {
            "color": "#ff0000",
            "line": {
             "color": "#000000",
             "width": 2
            },
            "opacity": 1,
            "size": 10
           },
           "mode": "markers",
           "type": "scatter",
           "x": [
            -455
           ],
           "y": [
            -190
           ]
          },
          {
           "line": {
            "color": "red",
            "width": 2
           },
           "mode": "lines",
           "name": "Noah Fant motion path",
           "type": "scatter",
           "x": [],
           "y": []
          },
          {
           "marker": {
            "color": "#ffffff",
            "line": {
             "color": "#000000",
             "width": 2
            },
            "opacity": 1,
            "size": 10
           },
           "mode": "markers",
           "type": "scatter",
           "x": [
            -941
           ],
           "y": [
            -98
           ]
          },
          {
           "line": {
            "color": "red",
            "width": 2
           },
           "mode": "lines",
           "name": "DK Metcalf motion path",
           "type": "scatter",
           "x": [],
           "y": []
          },
          {
           "marker": {
            "color": "#ffffff",
            "line": {
             "color": "#000000",
             "width": 2
            },
            "opacity": 1,
            "size": 10
           },
           "mode": "markers",
           "type": "scatter",
           "x": [
            -156
           ],
           "y": [
            -86
           ]
          },
          {
           "line": {
            "color": "red",
            "width": 2
           },
           "mode": "lines",
           "name": "Phil Haynes motion path",
           "type": "scatter",
           "x": [],
           "y": []
          },
          {
           "marker": {
            "color": "#ffffff",
            "line": {
             "color": "#000000",
             "width": 2
            },
            "opacity": 1,
            "size": 10
           },
           "mode": "markers",
           "type": "scatter",
           "x": [
            -292
           ],
           "y": [
            -121
           ]
          },
          {
           "line": {
            "color": "red",
            "width": 2
           },
           "mode": "lines",
           "name": "Charles Cross motion path",
           "type": "scatter",
           "x": [],
           "y": []
          },
          {
           "marker": {
            "color": "#ffffff",
            "line": {
             "color": "#000000",
             "width": 2
            },
            "opacity": 1,
            "size": 10
           },
           "mode": "markers",
           "type": "scatter",
           "x": [
            316
           ],
           "y": [
            -102
           ]
          },
          {
           "line": {
            "color": "red",
            "width": 2
           },
           "mode": "lines",
           "name": "Abraham Lucas motion path",
           "type": "scatter",
           "x": [],
           "y": []
          }
         ],
         "name": "44"
        },
        {
         "data": [
          {
           "marker": {
            "color": "#ffffff",
            "line": {
             "color": "#000000",
             "width": 2
            },
            "opacity": 1,
            "size": 10
           },
           "mode": "markers",
           "type": "scatter",
           "x": [
            -10
           ],
           "y": [
            -307
           ]
          },
          {
           "line": {
            "color": "red",
            "width": 2
           },
           "mode": "lines",
           "name": "Geno Smith motion path",
           "type": "scatter",
           "x": [],
           "y": []
          },
          {
           "marker": {
            "color": "#ffffff",
            "line": {
             "color": "#000000",
             "width": 2
            },
            "opacity": 1,
            "size": 10
           },
           "mode": "markers",
           "type": "scatter",
           "x": [
            137
           ],
           "y": [
            -106
           ]
          },
          {
           "line": {
            "color": "red",
            "width": 2
           },
           "mode": "lines",
           "name": "Gabe Jackson motion path",
           "type": "scatter",
           "x": [],
           "y": []
          },
          {
           "marker": {
            "color": "#ffffff",
            "line": {
             "color": "#000000",
             "width": 2
            },
            "opacity": 1,
            "size": 10
           },
           "mode": "markers",
           "type": "scatter",
           "x": [
            950
           ],
           "y": [
            -40
           ]
          },
          {
           "line": {
            "color": "red",
            "width": 2
           },
           "mode": "lines",
           "name": "Tyler Lockett motion path",
           "type": "scatter",
           "x": [],
           "y": []
          },
          {
           "marker": {
            "color": "#ffffff",
            "line": {
             "color": "#000000",
             "width": 2
            },
            "opacity": 1,
            "size": 10
           },
           "mode": "markers",
           "type": "scatter",
           "x": [
            -14
           ],
           "y": [
            -29
           ]
          },
          {
           "line": {
            "color": "red",
            "width": 2
           },
           "mode": "lines",
           "name": "Austin Blythe motion path",
           "type": "scatter",
           "x": [],
           "y": []
          },
          {
           "marker": {
            "color": "#ffffff",
            "line": {
             "color": "#000000",
             "width": 2
            },
            "opacity": 1,
            "size": 10
           },
           "mode": "markers",
           "type": "scatter",
           "x": [
            -1
           ],
           "y": [
            -758
           ]
          },
          {
           "line": {
            "color": "red",
            "width": 2
           },
           "mode": "lines",
           "name": "Rashaad Penny motion path",
           "type": "scatter",
           "x": [],
           "y": []
          },
          {
           "marker": {
            "color": "#ff0000",
            "line": {
             "color": "#000000",
             "width": 2
            },
            "opacity": 1,
            "size": 10
           },
           "mode": "markers",
           "type": "scatter",
           "x": [
            -252
           ],
           "y": [
            -477
           ]
          },
          {
           "line": {
            "color": "red",
            "width": 2
           },
           "mode": "lines",
           "name": "Will Dissly motion path",
           "type": "scatter",
           "x": [],
           "y": []
          },
          {
           "marker": {
            "color": "#ff0000",
            "line": {
             "color": "#000000",
             "width": 2
            },
            "opacity": 1,
            "size": 10
           },
           "mode": "markers",
           "type": "scatter",
           "x": [
            -454
           ],
           "y": [
            -190
           ]
          },
          {
           "line": {
            "color": "red",
            "width": 2
           },
           "mode": "lines",
           "name": "Noah Fant motion path",
           "type": "scatter",
           "x": [],
           "y": []
          },
          {
           "marker": {
            "color": "#ffffff",
            "line": {
             "color": "#000000",
             "width": 2
            },
            "opacity": 1,
            "size": 10
           },
           "mode": "markers",
           "type": "scatter",
           "x": [
            -942
           ],
           "y": [
            -99
           ]
          },
          {
           "line": {
            "color": "red",
            "width": 2
           },
           "mode": "lines",
           "name": "DK Metcalf motion path",
           "type": "scatter",
           "x": [],
           "y": []
          },
          {
           "marker": {
            "color": "#ffffff",
            "line": {
             "color": "#000000",
             "width": 2
            },
            "opacity": 1,
            "size": 10
           },
           "mode": "markers",
           "type": "scatter",
           "x": [
            -156
           ],
           "y": [
            -86
           ]
          },
          {
           "line": {
            "color": "red",
            "width": 2
           },
           "mode": "lines",
           "name": "Phil Haynes motion path",
           "type": "scatter",
           "x": [],
           "y": []
          },
          {
           "marker": {
            "color": "#ffffff",
            "line": {
             "color": "#000000",
             "width": 2
            },
            "opacity": 1,
            "size": 10
           },
           "mode": "markers",
           "type": "scatter",
           "x": [
            -292
           ],
           "y": [
            -121
           ]
          },
          {
           "line": {
            "color": "red",
            "width": 2
           },
           "mode": "lines",
           "name": "Charles Cross motion path",
           "type": "scatter",
           "x": [],
           "y": []
          },
          {
           "marker": {
            "color": "#ffffff",
            "line": {
             "color": "#000000",
             "width": 2
            },
            "opacity": 1,
            "size": 10
           },
           "mode": "markers",
           "type": "scatter",
           "x": [
            316
           ],
           "y": [
            -103
           ]
          },
          {
           "line": {
            "color": "red",
            "width": 2
           },
           "mode": "lines",
           "name": "Abraham Lucas motion path",
           "type": "scatter",
           "x": [],
           "y": []
          }
         ],
         "name": "45"
        },
        {
         "data": [
          {
           "marker": {
            "color": "#ffffff",
            "line": {
             "color": "#000000",
             "width": 2
            },
            "opacity": 1,
            "size": 10
           },
           "mode": "markers",
           "type": "scatter",
           "x": [
            -10
           ],
           "y": [
            -295
           ]
          },
          {
           "line": {
            "color": "red",
            "width": 2
           },
           "mode": "lines",
           "name": "Geno Smith motion path",
           "type": "scatter",
           "x": [],
           "y": []
          },
          {
           "marker": {
            "color": "#ffffff",
            "line": {
             "color": "#000000",
             "width": 2
            },
            "opacity": 1,
            "size": 10
           },
           "mode": "markers",
           "type": "scatter",
           "x": [
            138
           ],
           "y": [
            -106
           ]
          },
          {
           "line": {
            "color": "red",
            "width": 2
           },
           "mode": "lines",
           "name": "Gabe Jackson motion path",
           "type": "scatter",
           "x": [],
           "y": []
          },
          {
           "marker": {
            "color": "#ffffff",
            "line": {
             "color": "#000000",
             "width": 2
            },
            "opacity": 1,
            "size": 10
           },
           "mode": "markers",
           "type": "scatter",
           "x": [
            953
           ],
           "y": [
            -39
           ]
          },
          {
           "line": {
            "color": "red",
            "width": 2
           },
           "mode": "lines",
           "name": "Tyler Lockett motion path",
           "type": "scatter",
           "x": [],
           "y": []
          },
          {
           "marker": {
            "color": "#ffffff",
            "line": {
             "color": "#000000",
             "width": 2
            },
            "opacity": 1,
            "size": 10
           },
           "mode": "markers",
           "type": "scatter",
           "x": [
            -14
           ],
           "y": [
            -29
           ]
          },
          {
           "line": {
            "color": "red",
            "width": 2
           },
           "mode": "lines",
           "name": "Austin Blythe motion path",
           "type": "scatter",
           "x": [],
           "y": []
          },
          {
           "marker": {
            "color": "#ffffff",
            "line": {
             "color": "#000000",
             "width": 2
            },
            "opacity": 1,
            "size": 10
           },
           "mode": "markers",
           "type": "scatter",
           "x": [
            -2
           ],
           "y": [
            -757
           ]
          },
          {
           "line": {
            "color": "red",
            "width": 2
           },
           "mode": "lines",
           "name": "Rashaad Penny motion path",
           "type": "scatter",
           "x": [],
           "y": []
          },
          {
           "marker": {
            "color": "#ff0000",
            "line": {
             "color": "#000000",
             "width": 2
            },
            "opacity": 1,
            "size": 10
           },
           "mode": "markers",
           "type": "scatter",
           "x": [
            -251
           ],
           "y": [
            -475
           ]
          },
          {
           "line": {
            "color": "red",
            "width": 2
           },
           "mode": "lines",
           "name": "Will Dissly motion path",
           "type": "scatter",
           "x": [],
           "y": []
          },
          {
           "marker": {
            "color": "#ff0000",
            "line": {
             "color": "#000000",
             "width": 2
            },
            "opacity": 1,
            "size": 10
           },
           "mode": "markers",
           "type": "scatter",
           "x": [
            -453
           ],
           "y": [
            -189
           ]
          },
          {
           "line": {
            "color": "red",
            "width": 2
           },
           "mode": "lines",
           "name": "Noah Fant motion path",
           "type": "scatter",
           "x": [],
           "y": []
          },
          {
           "marker": {
            "color": "#ffffff",
            "line": {
             "color": "#000000",
             "width": 2
            },
            "opacity": 1,
            "size": 10
           },
           "mode": "markers",
           "type": "scatter",
           "x": [
            -941
           ],
           "y": [
            -102
           ]
          },
          {
           "line": {
            "color": "red",
            "width": 2
           },
           "mode": "lines",
           "name": "DK Metcalf motion path",
           "type": "scatter",
           "x": [],
           "y": []
          },
          {
           "marker": {
            "color": "#ffffff",
            "line": {
             "color": "#000000",
             "width": 2
            },
            "opacity": 1,
            "size": 10
           },
           "mode": "markers",
           "type": "scatter",
           "x": [
            -156
           ],
           "y": [
            -88
           ]
          },
          {
           "line": {
            "color": "red",
            "width": 2
           },
           "mode": "lines",
           "name": "Phil Haynes motion path",
           "type": "scatter",
           "x": [],
           "y": []
          },
          {
           "marker": {
            "color": "#ffffff",
            "line": {
             "color": "#000000",
             "width": 2
            },
            "opacity": 1,
            "size": 10
           },
           "mode": "markers",
           "type": "scatter",
           "x": [
            -291
           ],
           "y": [
            -121
           ]
          },
          {
           "line": {
            "color": "red",
            "width": 2
           },
           "mode": "lines",
           "name": "Charles Cross motion path",
           "type": "scatter",
           "x": [],
           "y": []
          },
          {
           "marker": {
            "color": "#ffffff",
            "line": {
             "color": "#000000",
             "width": 2
            },
            "opacity": 1,
            "size": 10
           },
           "mode": "markers",
           "type": "scatter",
           "x": [
            319
           ],
           "y": [
            -103
           ]
          },
          {
           "line": {
            "color": "red",
            "width": 2
           },
           "mode": "lines",
           "name": "Abraham Lucas motion path",
           "type": "scatter",
           "x": [],
           "y": []
          }
         ],
         "name": "46"
        },
        {
         "data": [
          {
           "marker": {
            "color": "#ffffff",
            "line": {
             "color": "#000000",
             "width": 2
            },
            "opacity": 1,
            "size": 10
           },
           "mode": "markers",
           "type": "scatter",
           "x": [
            -12
           ],
           "y": [
            -284
           ]
          },
          {
           "line": {
            "color": "red",
            "width": 2
           },
           "mode": "lines",
           "name": "Geno Smith motion path",
           "type": "scatter",
           "x": [],
           "y": []
          },
          {
           "marker": {
            "color": "#ffffff",
            "line": {
             "color": "#000000",
             "width": 2
            },
            "opacity": 1,
            "size": 10
           },
           "mode": "markers",
           "type": "scatter",
           "x": [
            138
           ],
           "y": [
            -105
           ]
          },
          {
           "line": {
            "color": "red",
            "width": 2
           },
           "mode": "lines",
           "name": "Gabe Jackson motion path",
           "type": "scatter",
           "x": [],
           "y": []
          },
          {
           "marker": {
            "color": "#ffffff",
            "line": {
             "color": "#000000",
             "width": 2
            },
            "opacity": 1,
            "size": 10
           },
           "mode": "markers",
           "type": "scatter",
           "x": [
            954
           ],
           "y": [
            -39
           ]
          },
          {
           "line": {
            "color": "red",
            "width": 2
           },
           "mode": "lines",
           "name": "Tyler Lockett motion path",
           "type": "scatter",
           "x": [],
           "y": []
          },
          {
           "marker": {
            "color": "#ffffff",
            "line": {
             "color": "#000000",
             "width": 2
            },
            "opacity": 1,
            "size": 10
           },
           "mode": "markers",
           "type": "scatter",
           "x": [
            -14
           ],
           "y": [
            -28
           ]
          },
          {
           "line": {
            "color": "red",
            "width": 2
           },
           "mode": "lines",
           "name": "Austin Blythe motion path",
           "type": "scatter",
           "x": [],
           "y": []
          },
          {
           "marker": {
            "color": "#ffffff",
            "line": {
             "color": "#000000",
             "width": 2
            },
            "opacity": 1,
            "size": 10
           },
           "mode": "markers",
           "type": "scatter",
           "x": [
            -4
           ],
           "y": [
            -757
           ]
          },
          {
           "line": {
            "color": "red",
            "width": 2
           },
           "mode": "lines",
           "name": "Rashaad Penny motion path",
           "type": "scatter",
           "x": [],
           "y": []
          },
          {
           "marker": {
            "color": "#ff0000",
            "line": {
             "color": "#000000",
             "width": 2
            },
            "opacity": 1,
            "size": 10
           },
           "mode": "markers",
           "type": "scatter",
           "x": [
            -250
           ],
           "y": [
            -474
           ]
          },
          {
           "line": {
            "color": "red",
            "width": 2
           },
           "mode": "lines",
           "name": "Will Dissly motion path",
           "type": "scatter",
           "x": [],
           "y": []
          },
          {
           "marker": {
            "color": "#ff0000",
            "line": {
             "color": "#000000",
             "width": 2
            },
            "opacity": 1,
            "size": 10
           },
           "mode": "markers",
           "type": "scatter",
           "x": [
            -453
           ],
           "y": [
            -190
           ]
          },
          {
           "line": {
            "color": "red",
            "width": 2
           },
           "mode": "lines",
           "name": "Noah Fant motion path",
           "type": "scatter",
           "x": [],
           "y": []
          },
          {
           "marker": {
            "color": "#ffffff",
            "line": {
             "color": "#000000",
             "width": 2
            },
            "opacity": 1,
            "size": 10
           },
           "mode": "markers",
           "type": "scatter",
           "x": [
            -941
           ],
           "y": [
            -103
           ]
          },
          {
           "line": {
            "color": "red",
            "width": 2
           },
           "mode": "lines",
           "name": "DK Metcalf motion path",
           "type": "scatter",
           "x": [],
           "y": []
          },
          {
           "marker": {
            "color": "#ffffff",
            "line": {
             "color": "#000000",
             "width": 2
            },
            "opacity": 1,
            "size": 10
           },
           "mode": "markers",
           "type": "scatter",
           "x": [
            -156
           ],
           "y": [
            -86
           ]
          },
          {
           "line": {
            "color": "red",
            "width": 2
           },
           "mode": "lines",
           "name": "Phil Haynes motion path",
           "type": "scatter",
           "x": [],
           "y": []
          },
          {
           "marker": {
            "color": "#ffffff",
            "line": {
             "color": "#000000",
             "width": 2
            },
            "opacity": 1,
            "size": 10
           },
           "mode": "markers",
           "type": "scatter",
           "x": [
            -291
           ],
           "y": [
            -121
           ]
          },
          {
           "line": {
            "color": "red",
            "width": 2
           },
           "mode": "lines",
           "name": "Charles Cross motion path",
           "type": "scatter",
           "x": [],
           "y": []
          },
          {
           "marker": {
            "color": "#ffffff",
            "line": {
             "color": "#000000",
             "width": 2
            },
            "opacity": 1,
            "size": 10
           },
           "mode": "markers",
           "type": "scatter",
           "x": [
            319
           ],
           "y": [
            -103
           ]
          },
          {
           "line": {
            "color": "red",
            "width": 2
           },
           "mode": "lines",
           "name": "Abraham Lucas motion path",
           "type": "scatter",
           "x": [],
           "y": []
          }
         ],
         "name": "47"
        },
        {
         "data": [
          {
           "marker": {
            "color": "#ffffff",
            "line": {
             "color": "#000000",
             "width": 2
            },
            "opacity": 1,
            "size": 10
           },
           "mode": "markers",
           "type": "scatter",
           "x": [
            -13
           ],
           "y": [
            -273
           ]
          },
          {
           "line": {
            "color": "red",
            "width": 2
           },
           "mode": "lines",
           "name": "Geno Smith motion path",
           "type": "scatter",
           "x": [],
           "y": []
          },
          {
           "marker": {
            "color": "#ffffff",
            "line": {
             "color": "#000000",
             "width": 2
            },
            "opacity": 1,
            "size": 10
           },
           "mode": "markers",
           "type": "scatter",
           "x": [
            138
           ],
           "y": [
            -105
           ]
          },
          {
           "line": {
            "color": "red",
            "width": 2
           },
           "mode": "lines",
           "name": "Gabe Jackson motion path",
           "type": "scatter",
           "x": [],
           "y": []
          },
          {
           "marker": {
            "color": "#ffffff",
            "line": {
             "color": "#000000",
             "width": 2
            },
            "opacity": 1,
            "size": 10
           },
           "mode": "markers",
           "type": "scatter",
           "x": [
            955
           ],
           "y": [
            -39
           ]
          },
          {
           "line": {
            "color": "red",
            "width": 2
           },
           "mode": "lines",
           "name": "Tyler Lockett motion path",
           "type": "scatter",
           "x": [],
           "y": []
          },
          {
           "marker": {
            "color": "#ffffff",
            "line": {
             "color": "#000000",
             "width": 2
            },
            "opacity": 1,
            "size": 10
           },
           "mode": "markers",
           "type": "scatter",
           "x": [
            -14
           ],
           "y": [
            -29
           ]
          },
          {
           "line": {
            "color": "red",
            "width": 2
           },
           "mode": "lines",
           "name": "Austin Blythe motion path",
           "type": "scatter",
           "x": [],
           "y": []
          },
          {
           "marker": {
            "color": "#ffffff",
            "line": {
             "color": "#000000",
             "width": 2
            },
            "opacity": 1,
            "size": 10
           },
           "mode": "markers",
           "type": "scatter",
           "x": [
            -5
           ],
           "y": [
            -755
           ]
          },
          {
           "line": {
            "color": "red",
            "width": 2
           },
           "mode": "lines",
           "name": "Rashaad Penny motion path",
           "type": "scatter",
           "x": [],
           "y": []
          },
          {
           "marker": {
            "color": "#ff0000",
            "line": {
             "color": "#000000",
             "width": 2
            },
            "opacity": 1,
            "size": 10
           },
           "mode": "markers",
           "type": "scatter",
           "x": [
            -250
           ],
           "y": [
            -473
           ]
          },
          {
           "line": {
            "color": "red",
            "width": 2
           },
           "mode": "lines",
           "name": "Will Dissly motion path",
           "type": "scatter",
           "x": [],
           "y": []
          },
          {
           "marker": {
            "color": "#ff0000",
            "line": {
             "color": "#000000",
             "width": 2
            },
            "opacity": 1,
            "size": 10
           },
           "mode": "markers",
           "type": "scatter",
           "x": [
            -452
           ],
           "y": [
            -190
           ]
          },
          {
           "line": {
            "color": "red",
            "width": 2
           },
           "mode": "lines",
           "name": "Noah Fant motion path",
           "type": "scatter",
           "x": [],
           "y": []
          },
          {
           "marker": {
            "color": "#ffffff",
            "line": {
             "color": "#000000",
             "width": 2
            },
            "opacity": 1,
            "size": 10
           },
           "mode": "markers",
           "type": "scatter",
           "x": [
            -941
           ],
           "y": [
            -103
           ]
          },
          {
           "line": {
            "color": "red",
            "width": 2
           },
           "mode": "lines",
           "name": "DK Metcalf motion path",
           "type": "scatter",
           "x": [],
           "y": []
          },
          {
           "marker": {
            "color": "#ffffff",
            "line": {
             "color": "#000000",
             "width": 2
            },
            "opacity": 1,
            "size": 10
           },
           "mode": "markers",
           "type": "scatter",
           "x": [
            -156
           ],
           "y": [
            -86
           ]
          },
          {
           "line": {
            "color": "red",
            "width": 2
           },
           "mode": "lines",
           "name": "Phil Haynes motion path",
           "type": "scatter",
           "x": [],
           "y": []
          },
          {
           "marker": {
            "color": "#ffffff",
            "line": {
             "color": "#000000",
             "width": 2
            },
            "opacity": 1,
            "size": 10
           },
           "mode": "markers",
           "type": "scatter",
           "x": [
            -291
           ],
           "y": [
            -121
           ]
          },
          {
           "line": {
            "color": "red",
            "width": 2
           },
           "mode": "lines",
           "name": "Charles Cross motion path",
           "type": "scatter",
           "x": [],
           "y": []
          },
          {
           "marker": {
            "color": "#ffffff",
            "line": {
             "color": "#000000",
             "width": 2
            },
            "opacity": 1,
            "size": 10
           },
           "mode": "markers",
           "type": "scatter",
           "x": [
            320
           ],
           "y": [
            -103
           ]
          },
          {
           "line": {
            "color": "red",
            "width": 2
           },
           "mode": "lines",
           "name": "Abraham Lucas motion path",
           "type": "scatter",
           "x": [],
           "y": []
          }
         ],
         "name": "48"
        },
        {
         "data": [
          {
           "marker": {
            "color": "#ffffff",
            "line": {
             "color": "#000000",
             "width": 2
            },
            "opacity": 1,
            "size": 10
           },
           "mode": "markers",
           "type": "scatter",
           "x": [
            -14
           ],
           "y": [
            -261
           ]
          },
          {
           "line": {
            "color": "red",
            "width": 2
           },
           "mode": "lines",
           "name": "Geno Smith motion path",
           "type": "scatter",
           "x": [],
           "y": []
          },
          {
           "marker": {
            "color": "#ffffff",
            "line": {
             "color": "#000000",
             "width": 2
            },
            "opacity": 1,
            "size": 10
           },
           "mode": "markers",
           "type": "scatter",
           "x": [
            139
           ],
           "y": [
            -105
           ]
          },
          {
           "line": {
            "color": "red",
            "width": 2
           },
           "mode": "lines",
           "name": "Gabe Jackson motion path",
           "type": "scatter",
           "x": [],
           "y": []
          },
          {
           "marker": {
            "color": "#ffffff",
            "line": {
             "color": "#000000",
             "width": 2
            },
            "opacity": 1,
            "size": 10
           },
           "mode": "markers",
           "type": "scatter",
           "x": [
            956
           ],
           "y": [
            -38
           ]
          },
          {
           "line": {
            "color": "red",
            "width": 2
           },
           "mode": "lines",
           "name": "Tyler Lockett motion path",
           "type": "scatter",
           "x": [],
           "y": []
          },
          {
           "marker": {
            "color": "#ffffff",
            "line": {
             "color": "#000000",
             "width": 2
            },
            "opacity": 1,
            "size": 10
           },
           "mode": "markers",
           "type": "scatter",
           "x": [
            -14
           ],
           "y": [
            -29
           ]
          },
          {
           "line": {
            "color": "red",
            "width": 2
           },
           "mode": "lines",
           "name": "Austin Blythe motion path",
           "type": "scatter",
           "x": [],
           "y": []
          },
          {
           "marker": {
            "color": "#ffffff",
            "line": {
             "color": "#000000",
             "width": 2
            },
            "opacity": 1,
            "size": 10
           },
           "mode": "markers",
           "type": "scatter",
           "x": [
            -6
           ],
           "y": [
            -754
           ]
          },
          {
           "line": {
            "color": "red",
            "width": 2
           },
           "mode": "lines",
           "name": "Rashaad Penny motion path",
           "type": "scatter",
           "x": [],
           "y": []
          },
          {
           "marker": {
            "color": "#ff0000",
            "line": {
             "color": "#000000",
             "width": 2
            },
            "opacity": 1,
            "size": 10
           },
           "mode": "markers",
           "type": "scatter",
           "x": [
            -250
           ],
           "y": [
            -473
           ]
          },
          {
           "line": {
            "color": "red",
            "width": 2
           },
           "mode": "lines",
           "name": "Will Dissly motion path",
           "type": "scatter",
           "x": [],
           "y": []
          },
          {
           "marker": {
            "color": "#ff0000",
            "line": {
             "color": "#000000",
             "width": 2
            },
            "opacity": 1,
            "size": 10
           },
           "mode": "markers",
           "type": "scatter",
           "x": [
            -451
           ],
           "y": [
            -191
           ]
          },
          {
           "line": {
            "color": "red",
            "width": 2
           },
           "mode": "lines",
           "name": "Noah Fant motion path",
           "type": "scatter",
           "x": [],
           "y": []
          },
          {
           "marker": {
            "color": "#ffffff",
            "line": {
             "color": "#000000",
             "width": 2
            },
            "opacity": 1,
            "size": 10
           },
           "mode": "markers",
           "type": "scatter",
           "x": [
            -941
           ],
           "y": [
            -104
           ]
          },
          {
           "line": {
            "color": "red",
            "width": 2
           },
           "mode": "lines",
           "name": "DK Metcalf motion path",
           "type": "scatter",
           "x": [],
           "y": []
          },
          {
           "marker": {
            "color": "#ffffff",
            "line": {
             "color": "#000000",
             "width": 2
            },
            "opacity": 1,
            "size": 10
           },
           "mode": "markers",
           "type": "scatter",
           "x": [
            -157
           ],
           "y": [
            -86
           ]
          },
          {
           "line": {
            "color": "red",
            "width": 2
           },
           "mode": "lines",
           "name": "Phil Haynes motion path",
           "type": "scatter",
           "x": [],
           "y": []
          },
          {
           "marker": {
            "color": "#ffffff",
            "line": {
             "color": "#000000",
             "width": 2
            },
            "opacity": 1,
            "size": 10
           },
           "mode": "markers",
           "type": "scatter",
           "x": [
            -292
           ],
           "y": [
            -121
           ]
          },
          {
           "line": {
            "color": "red",
            "width": 2
           },
           "mode": "lines",
           "name": "Charles Cross motion path",
           "type": "scatter",
           "x": [],
           "y": []
          },
          {
           "marker": {
            "color": "#ffffff",
            "line": {
             "color": "#000000",
             "width": 2
            },
            "opacity": 1,
            "size": 10
           },
           "mode": "markers",
           "type": "scatter",
           "x": [
            319
           ],
           "y": [
            -102
           ]
          },
          {
           "line": {
            "color": "red",
            "width": 2
           },
           "mode": "lines",
           "name": "Abraham Lucas motion path",
           "type": "scatter",
           "x": [],
           "y": []
          }
         ],
         "name": "49"
        },
        {
         "data": [
          {
           "marker": {
            "color": "#ffffff",
            "line": {
             "color": "#000000",
             "width": 2
            },
            "opacity": 1,
            "size": 10
           },
           "mode": "markers",
           "type": "scatter",
           "x": [
            -14
           ],
           "y": [
            -250
           ]
          },
          {
           "line": {
            "color": "red",
            "width": 2
           },
           "mode": "lines",
           "name": "Geno Smith motion path",
           "type": "scatter",
           "x": [],
           "y": []
          },
          {
           "marker": {
            "color": "#ffffff",
            "line": {
             "color": "#000000",
             "width": 2
            },
            "opacity": 1,
            "size": 10
           },
           "mode": "markers",
           "type": "scatter",
           "x": [
            139
           ],
           "y": [
            -105
           ]
          },
          {
           "line": {
            "color": "red",
            "width": 2
           },
           "mode": "lines",
           "name": "Gabe Jackson motion path",
           "type": "scatter",
           "x": [],
           "y": []
          },
          {
           "marker": {
            "color": "#ffffff",
            "line": {
             "color": "#000000",
             "width": 2
            },
            "opacity": 1,
            "size": 10
           },
           "mode": "markers",
           "type": "scatter",
           "x": [
            956
           ],
           "y": [
            -38
           ]
          },
          {
           "line": {
            "color": "red",
            "width": 2
           },
           "mode": "lines",
           "name": "Tyler Lockett motion path",
           "type": "scatter",
           "x": [],
           "y": []
          },
          {
           "marker": {
            "color": "#ffffff",
            "line": {
             "color": "#000000",
             "width": 2
            },
            "opacity": 1,
            "size": 10
           },
           "mode": "markers",
           "type": "scatter",
           "x": [
            -14
           ],
           "y": [
            -29
           ]
          },
          {
           "line": {
            "color": "red",
            "width": 2
           },
           "mode": "lines",
           "name": "Austin Blythe motion path",
           "type": "scatter",
           "x": [],
           "y": []
          },
          {
           "marker": {
            "color": "#ffffff",
            "line": {
             "color": "#000000",
             "width": 2
            },
            "opacity": 1,
            "size": 10
           },
           "mode": "markers",
           "type": "scatter",
           "x": [
            -7
           ],
           "y": [
            -753
           ]
          },
          {
           "line": {
            "color": "red",
            "width": 2
           },
           "mode": "lines",
           "name": "Rashaad Penny motion path",
           "type": "scatter",
           "x": [],
           "y": []
          },
          {
           "marker": {
            "color": "#ff0000",
            "line": {
             "color": "#000000",
             "width": 2
            },
            "opacity": 1,
            "size": 10
           },
           "mode": "markers",
           "type": "scatter",
           "x": [
            -249
           ],
           "y": [
            -472
           ]
          },
          {
           "line": {
            "color": "red",
            "width": 2
           },
           "mode": "lines",
           "name": "Will Dissly motion path",
           "type": "scatter",
           "x": [],
           "y": []
          },
          {
           "marker": {
            "color": "#ff0000",
            "line": {
             "color": "#000000",
             "width": 2
            },
            "opacity": 1,
            "size": 10
           },
           "mode": "markers",
           "type": "scatter",
           "x": [
            -451
           ],
           "y": [
            -191
           ]
          },
          {
           "line": {
            "color": "red",
            "width": 2
           },
           "mode": "lines",
           "name": "Noah Fant motion path",
           "type": "scatter",
           "x": [],
           "y": []
          },
          {
           "marker": {
            "color": "#ffffff",
            "line": {
             "color": "#000000",
             "width": 2
            },
            "opacity": 1,
            "size": 10
           },
           "mode": "markers",
           "type": "scatter",
           "x": [
            -943
           ],
           "y": [
            -103
           ]
          },
          {
           "line": {
            "color": "red",
            "width": 2
           },
           "mode": "lines",
           "name": "DK Metcalf motion path",
           "type": "scatter",
           "x": [],
           "y": []
          },
          {
           "marker": {
            "color": "#ffffff",
            "line": {
             "color": "#000000",
             "width": 2
            },
            "opacity": 1,
            "size": 10
           },
           "mode": "markers",
           "type": "scatter",
           "x": [
            -158
           ],
           "y": [
            -88
           ]
          },
          {
           "line": {
            "color": "red",
            "width": 2
           },
           "mode": "lines",
           "name": "Phil Haynes motion path",
           "type": "scatter",
           "x": [],
           "y": []
          },
          {
           "marker": {
            "color": "#ffffff",
            "line": {
             "color": "#000000",
             "width": 2
            },
            "opacity": 1,
            "size": 10
           },
           "mode": "markers",
           "type": "scatter",
           "x": [
            -293
           ],
           "y": [
            -121
           ]
          },
          {
           "line": {
            "color": "red",
            "width": 2
           },
           "mode": "lines",
           "name": "Charles Cross motion path",
           "type": "scatter",
           "x": [],
           "y": []
          },
          {
           "marker": {
            "color": "#ffffff",
            "line": {
             "color": "#000000",
             "width": 2
            },
            "opacity": 1,
            "size": 10
           },
           "mode": "markers",
           "type": "scatter",
           "x": [
            319
           ],
           "y": [
            -102
           ]
          },
          {
           "line": {
            "color": "red",
            "width": 2
           },
           "mode": "lines",
           "name": "Abraham Lucas motion path",
           "type": "scatter",
           "x": [],
           "y": []
          }
         ],
         "name": "50"
        },
        {
         "data": [
          {
           "marker": {
            "color": "#ffffff",
            "line": {
             "color": "#000000",
             "width": 2
            },
            "opacity": 1,
            "size": 10
           },
           "mode": "markers",
           "type": "scatter",
           "x": [
            -16
           ],
           "y": [
            -238
           ]
          },
          {
           "line": {
            "color": "red",
            "width": 2
           },
           "mode": "lines",
           "name": "Geno Smith motion path",
           "type": "scatter",
           "x": [],
           "y": []
          },
          {
           "marker": {
            "color": "#ffffff",
            "line": {
             "color": "#000000",
             "width": 2
            },
            "opacity": 1,
            "size": 10
           },
           "mode": "markers",
           "type": "scatter",
           "x": [
            140
           ],
           "y": [
            -104
           ]
          },
          {
           "line": {
            "color": "red",
            "width": 2
           },
           "mode": "lines",
           "name": "Gabe Jackson motion path",
           "type": "scatter",
           "x": [],
           "y": []
          },
          {
           "marker": {
            "color": "#ffffff",
            "line": {
             "color": "#000000",
             "width": 2
            },
            "opacity": 1,
            "size": 10
           },
           "mode": "markers",
           "type": "scatter",
           "x": [
            956
           ],
           "y": [
            -38
           ]
          },
          {
           "line": {
            "color": "red",
            "width": 2
           },
           "mode": "lines",
           "name": "Tyler Lockett motion path",
           "type": "scatter",
           "x": [],
           "y": []
          },
          {
           "marker": {
            "color": "#ffffff",
            "line": {
             "color": "#000000",
             "width": 2
            },
            "opacity": 1,
            "size": 10
           },
           "mode": "markers",
           "type": "scatter",
           "x": [
            -13
           ],
           "y": [
            -30
           ]
          },
          {
           "line": {
            "color": "red",
            "width": 2
           },
           "mode": "lines",
           "name": "Austin Blythe motion path",
           "type": "scatter",
           "x": [],
           "y": []
          },
          {
           "marker": {
            "color": "#ffffff",
            "line": {
             "color": "#000000",
             "width": 2
            },
            "opacity": 1,
            "size": 10
           },
           "mode": "markers",
           "type": "scatter",
           "x": [
            -8
           ],
           "y": [
            -751
           ]
          },
          {
           "line": {
            "color": "red",
            "width": 2
           },
           "mode": "lines",
           "name": "Rashaad Penny motion path",
           "type": "scatter",
           "x": [],
           "y": []
          },
          {
           "marker": {
            "color": "#ff0000",
            "line": {
             "color": "#000000",
             "width": 2
            },
            "opacity": 1,
            "size": 10
           },
           "mode": "markers",
           "type": "scatter",
           "x": [
            -249
           ],
           "y": [
            -471
           ]
          },
          {
           "line": {
            "color": "red",
            "width": 2
           },
           "mode": "lines",
           "name": "Will Dissly motion path",
           "type": "scatter",
           "x": [],
           "y": []
          },
          {
           "marker": {
            "color": "#ff0000",
            "line": {
             "color": "#000000",
             "width": 2
            },
            "opacity": 1,
            "size": 10
           },
           "mode": "markers",
           "type": "scatter",
           "x": [
            -452
           ],
           "y": [
            -192
           ]
          },
          {
           "line": {
            "color": "red",
            "width": 2
           },
           "mode": "lines",
           "name": "Noah Fant motion path",
           "type": "scatter",
           "x": [],
           "y": []
          },
          {
           "marker": {
            "color": "#ffffff",
            "line": {
             "color": "#000000",
             "width": 2
            },
            "opacity": 1,
            "size": 10
           },
           "mode": "markers",
           "type": "scatter",
           "x": [
            -943
           ],
           "y": [
            -103
           ]
          },
          {
           "line": {
            "color": "red",
            "width": 2
           },
           "mode": "lines",
           "name": "DK Metcalf motion path",
           "type": "scatter",
           "x": [],
           "y": []
          },
          {
           "marker": {
            "color": "#ffffff",
            "line": {
             "color": "#000000",
             "width": 2
            },
            "opacity": 1,
            "size": 10
           },
           "mode": "markers",
           "type": "scatter",
           "x": [
            -158
           ],
           "y": [
            -88
           ]
          },
          {
           "line": {
            "color": "red",
            "width": 2
           },
           "mode": "lines",
           "name": "Phil Haynes motion path",
           "type": "scatter",
           "x": [],
           "y": []
          },
          {
           "marker": {
            "color": "#ffffff",
            "line": {
             "color": "#000000",
             "width": 2
            },
            "opacity": 1,
            "size": 10
           },
           "mode": "markers",
           "type": "scatter",
           "x": [
            -295
           ],
           "y": [
            -122
           ]
          },
          {
           "line": {
            "color": "red",
            "width": 2
           },
           "mode": "lines",
           "name": "Charles Cross motion path",
           "type": "scatter",
           "x": [],
           "y": []
          },
          {
           "marker": {
            "color": "#ffffff",
            "line": {
             "color": "#000000",
             "width": 2
            },
            "opacity": 1,
            "size": 10
           },
           "mode": "markers",
           "type": "scatter",
           "x": [
            319
           ],
           "y": [
            -102
           ]
          },
          {
           "line": {
            "color": "red",
            "width": 2
           },
           "mode": "lines",
           "name": "Abraham Lucas motion path",
           "type": "scatter",
           "x": [],
           "y": []
          }
         ],
         "name": "51"
        },
        {
         "data": [
          {
           "marker": {
            "color": "#ffffff",
            "line": {
             "color": "#000000",
             "width": 2
            },
            "opacity": 1,
            "size": 10
           },
           "mode": "markers",
           "type": "scatter",
           "x": [
            -17
           ],
           "y": [
            -227
           ]
          },
          {
           "line": {
            "color": "red",
            "width": 2
           },
           "mode": "lines",
           "name": "Geno Smith motion path",
           "type": "scatter",
           "x": [],
           "y": []
          },
          {
           "marker": {
            "color": "#ffffff",
            "line": {
             "color": "#000000",
             "width": 2
            },
            "opacity": 1,
            "size": 10
           },
           "mode": "markers",
           "type": "scatter",
           "x": [
            141
           ],
           "y": [
            -103
           ]
          },
          {
           "line": {
            "color": "red",
            "width": 2
           },
           "mode": "lines",
           "name": "Gabe Jackson motion path",
           "type": "scatter",
           "x": [],
           "y": []
          },
          {
           "marker": {
            "color": "#ffffff",
            "line": {
             "color": "#000000",
             "width": 2
            },
            "opacity": 1,
            "size": 10
           },
           "mode": "markers",
           "type": "scatter",
           "x": [
            956
           ],
           "y": [
            -36
           ]
          },
          {
           "line": {
            "color": "red",
            "width": 2
           },
           "mode": "lines",
           "name": "Tyler Lockett motion path",
           "type": "scatter",
           "x": [],
           "y": []
          },
          {
           "marker": {
            "color": "#ffffff",
            "line": {
             "color": "#000000",
             "width": 2
            },
            "opacity": 1,
            "size": 10
           },
           "mode": "markers",
           "type": "scatter",
           "x": [
            -12
           ],
           "y": [
            -30
           ]
          },
          {
           "line": {
            "color": "red",
            "width": 2
           },
           "mode": "lines",
           "name": "Austin Blythe motion path",
           "type": "scatter",
           "x": [],
           "y": []
          },
          {
           "marker": {
            "color": "#ffffff",
            "line": {
             "color": "#000000",
             "width": 2
            },
            "opacity": 1,
            "size": 10
           },
           "mode": "markers",
           "type": "scatter",
           "x": [
            -8
           ],
           "y": [
            -750
           ]
          },
          {
           "line": {
            "color": "red",
            "width": 2
           },
           "mode": "lines",
           "name": "Rashaad Penny motion path",
           "type": "scatter",
           "x": [],
           "y": []
          },
          {
           "marker": {
            "color": "#ff0000",
            "line": {
             "color": "#000000",
             "width": 2
            },
            "opacity": 1,
            "size": 10
           },
           "mode": "markers",
           "type": "scatter",
           "x": [
            -249
           ],
           "y": [
            -470
           ]
          },
          {
           "line": {
            "color": "red",
            "width": 2
           },
           "mode": "lines",
           "name": "Will Dissly motion path",
           "type": "scatter",
           "x": [],
           "y": []
          },
          {
           "marker": {
            "color": "#ff0000",
            "line": {
             "color": "#000000",
             "width": 2
            },
            "opacity": 1,
            "size": 10
           },
           "mode": "markers",
           "type": "scatter",
           "x": [
            -452
           ],
           "y": [
            -192
           ]
          },
          {
           "line": {
            "color": "red",
            "width": 2
           },
           "mode": "lines",
           "name": "Noah Fant motion path",
           "type": "scatter",
           "x": [],
           "y": []
          },
          {
           "marker": {
            "color": "#ffffff",
            "line": {
             "color": "#000000",
             "width": 2
            },
            "opacity": 1,
            "size": 10
           },
           "mode": "markers",
           "type": "scatter",
           "x": [
            -943
           ],
           "y": [
            -102
           ]
          },
          {
           "line": {
            "color": "red",
            "width": 2
           },
           "mode": "lines",
           "name": "DK Metcalf motion path",
           "type": "scatter",
           "x": [],
           "y": []
          },
          {
           "marker": {
            "color": "#ffffff",
            "line": {
             "color": "#000000",
             "width": 2
            },
            "opacity": 1,
            "size": 10
           },
           "mode": "markers",
           "type": "scatter",
           "x": [
            -158
           ],
           "y": [
            -88
           ]
          },
          {
           "line": {
            "color": "red",
            "width": 2
           },
           "mode": "lines",
           "name": "Phil Haynes motion path",
           "type": "scatter",
           "x": [],
           "y": []
          },
          {
           "marker": {
            "color": "#ffffff",
            "line": {
             "color": "#000000",
             "width": 2
            },
            "opacity": 1,
            "size": 10
           },
           "mode": "markers",
           "type": "scatter",
           "x": [
            -296
           ],
           "y": [
            -123
           ]
          },
          {
           "line": {
            "color": "red",
            "width": 2
           },
           "mode": "lines",
           "name": "Charles Cross motion path",
           "type": "scatter",
           "x": [],
           "y": []
          },
          {
           "marker": {
            "color": "#ffffff",
            "line": {
             "color": "#000000",
             "width": 2
            },
            "opacity": 1,
            "size": 10
           },
           "mode": "markers",
           "type": "scatter",
           "x": [
            318
           ],
           "y": [
            -102
           ]
          },
          {
           "line": {
            "color": "red",
            "width": 2
           },
           "mode": "lines",
           "name": "Abraham Lucas motion path",
           "type": "scatter",
           "x": [],
           "y": []
          }
         ],
         "name": "52"
        },
        {
         "data": [
          {
           "marker": {
            "color": "#ffffff",
            "line": {
             "color": "#000000",
             "width": 2
            },
            "opacity": 1,
            "size": 10
           },
           "mode": "markers",
           "type": "scatter",
           "x": [
            -19
           ],
           "y": [
            -213
           ]
          },
          {
           "line": {
            "color": "red",
            "width": 2
           },
           "mode": "lines",
           "name": "Geno Smith motion path",
           "type": "scatter",
           "x": [],
           "y": []
          },
          {
           "marker": {
            "color": "#ffffff",
            "line": {
             "color": "#000000",
             "width": 2
            },
            "opacity": 1,
            "size": 10
           },
           "mode": "markers",
           "type": "scatter",
           "x": [
            141
           ],
           "y": [
            -102
           ]
          },
          {
           "line": {
            "color": "red",
            "width": 2
           },
           "mode": "lines",
           "name": "Gabe Jackson motion path",
           "type": "scatter",
           "x": [],
           "y": []
          },
          {
           "marker": {
            "color": "#ffffff",
            "line": {
             "color": "#000000",
             "width": 2
            },
            "opacity": 1,
            "size": 10
           },
           "mode": "markers",
           "type": "scatter",
           "x": [
            956
           ],
           "y": [
            -35
           ]
          },
          {
           "line": {
            "color": "red",
            "width": 2
           },
           "mode": "lines",
           "name": "Tyler Lockett motion path",
           "type": "scatter",
           "x": [],
           "y": []
          },
          {
           "marker": {
            "color": "#ffffff",
            "line": {
             "color": "#000000",
             "width": 2
            },
            "opacity": 1,
            "size": 10
           },
           "mode": "markers",
           "type": "scatter",
           "x": [
            -12
           ],
           "y": [
            -29
           ]
          },
          {
           "line": {
            "color": "red",
            "width": 2
           },
           "mode": "lines",
           "name": "Austin Blythe motion path",
           "type": "scatter",
           "x": [],
           "y": []
          },
          {
           "marker": {
            "color": "#ffffff",
            "line": {
             "color": "#000000",
             "width": 2
            },
            "opacity": 1,
            "size": 10
           },
           "mode": "markers",
           "type": "scatter",
           "x": [
            -7
           ],
           "y": [
            -749
           ]
          },
          {
           "line": {
            "color": "red",
            "width": 2
           },
           "mode": "lines",
           "name": "Rashaad Penny motion path",
           "type": "scatter",
           "x": [],
           "y": []
          },
          {
           "marker": {
            "color": "#ff0000",
            "line": {
             "color": "#000000",
             "width": 2
            },
            "opacity": 1,
            "size": 10
           },
           "mode": "markers",
           "type": "scatter",
           "x": [
            -248
           ],
           "y": [
            -470
           ]
          },
          {
           "line": {
            "color": "red",
            "width": 2
           },
           "mode": "lines",
           "name": "Will Dissly motion path",
           "type": "scatter",
           "x": [],
           "y": []
          },
          {
           "marker": {
            "color": "#ff0000",
            "line": {
             "color": "#000000",
             "width": 2
            },
            "opacity": 1,
            "size": 10
           },
           "mode": "markers",
           "type": "scatter",
           "x": [
            -453
           ],
           "y": [
            -193
           ]
          },
          {
           "line": {
            "color": "red",
            "width": 2
           },
           "mode": "lines",
           "name": "Noah Fant motion path",
           "type": "scatter",
           "x": [],
           "y": []
          },
          {
           "marker": {
            "color": "#ffffff",
            "line": {
             "color": "#000000",
             "width": 2
            },
            "opacity": 1,
            "size": 10
           },
           "mode": "markers",
           "type": "scatter",
           "x": [
            -943
           ],
           "y": [
            -102
           ]
          },
          {
           "line": {
            "color": "red",
            "width": 2
           },
           "mode": "lines",
           "name": "DK Metcalf motion path",
           "type": "scatter",
           "x": [],
           "y": []
          },
          {
           "marker": {
            "color": "#ffffff",
            "line": {
             "color": "#000000",
             "width": 2
            },
            "opacity": 1,
            "size": 10
           },
           "mode": "markers",
           "type": "scatter",
           "x": [
            -158
           ],
           "y": [
            -88
           ]
          },
          {
           "line": {
            "color": "red",
            "width": 2
           },
           "mode": "lines",
           "name": "Phil Haynes motion path",
           "type": "scatter",
           "x": [],
           "y": []
          },
          {
           "marker": {
            "color": "#ffffff",
            "line": {
             "color": "#000000",
             "width": 2
            },
            "opacity": 1,
            "size": 10
           },
           "mode": "markers",
           "type": "scatter",
           "x": [
            -297
           ],
           "y": [
            -122
           ]
          },
          {
           "line": {
            "color": "red",
            "width": 2
           },
           "mode": "lines",
           "name": "Charles Cross motion path",
           "type": "scatter",
           "x": [],
           "y": []
          },
          {
           "marker": {
            "color": "#ffffff",
            "line": {
             "color": "#000000",
             "width": 2
            },
            "opacity": 1,
            "size": 10
           },
           "mode": "markers",
           "type": "scatter",
           "x": [
            317
           ],
           "y": [
            -100
           ]
          },
          {
           "line": {
            "color": "red",
            "width": 2
           },
           "mode": "lines",
           "name": "Abraham Lucas motion path",
           "type": "scatter",
           "x": [],
           "y": []
          }
         ],
         "name": "53"
        },
        {
         "data": [
          {
           "marker": {
            "color": "#ffffff",
            "line": {
             "color": "#000000",
             "width": 2
            },
            "opacity": 1,
            "size": 10
           },
           "mode": "markers",
           "type": "scatter",
           "x": [
            -20
           ],
           "y": [
            -202
           ]
          },
          {
           "line": {
            "color": "red",
            "width": 2
           },
           "mode": "lines",
           "name": "Geno Smith motion path",
           "type": "scatter",
           "x": [],
           "y": []
          },
          {
           "marker": {
            "color": "#ffffff",
            "line": {
             "color": "#000000",
             "width": 2
            },
            "opacity": 1,
            "size": 10
           },
           "mode": "markers",
           "type": "scatter",
           "x": [
            142
           ],
           "y": [
            -102
           ]
          },
          {
           "line": {
            "color": "red",
            "width": 2
           },
           "mode": "lines",
           "name": "Gabe Jackson motion path",
           "type": "scatter",
           "x": [],
           "y": []
          },
          {
           "marker": {
            "color": "#ffffff",
            "line": {
             "color": "#000000",
             "width": 2
            },
            "opacity": 1,
            "size": 10
           },
           "mode": "markers",
           "type": "scatter",
           "x": [
            956
           ],
           "y": [
            -34
           ]
          },
          {
           "line": {
            "color": "red",
            "width": 2
           },
           "mode": "lines",
           "name": "Tyler Lockett motion path",
           "type": "scatter",
           "x": [],
           "y": []
          },
          {
           "marker": {
            "color": "#ffffff",
            "line": {
             "color": "#000000",
             "width": 2
            },
            "opacity": 1,
            "size": 10
           },
           "mode": "markers",
           "type": "scatter",
           "x": [
            -10
           ],
           "y": [
            -30
           ]
          },
          {
           "line": {
            "color": "red",
            "width": 2
           },
           "mode": "lines",
           "name": "Austin Blythe motion path",
           "type": "scatter",
           "x": [],
           "y": []
          },
          {
           "marker": {
            "color": "#ffffff",
            "line": {
             "color": "#000000",
             "width": 2
            },
            "opacity": 1,
            "size": 10
           },
           "mode": "markers",
           "type": "scatter",
           "x": [
            -7
           ],
           "y": [
            -747
           ]
          },
          {
           "line": {
            "color": "red",
            "width": 2
           },
           "mode": "lines",
           "name": "Rashaad Penny motion path",
           "type": "scatter",
           "x": [],
           "y": []
          },
          {
           "marker": {
            "color": "#ff0000",
            "line": {
             "color": "#000000",
             "width": 2
            },
            "opacity": 1,
            "size": 10
           },
           "mode": "markers",
           "type": "scatter",
           "x": [
            -248
           ],
           "y": [
            -470
           ]
          },
          {
           "line": {
            "color": "red",
            "width": 2
           },
           "mode": "lines",
           "name": "Will Dissly motion path",
           "type": "scatter",
           "x": [],
           "y": []
          },
          {
           "marker": {
            "color": "#ff0000",
            "line": {
             "color": "#000000",
             "width": 2
            },
            "opacity": 1,
            "size": 10
           },
           "mode": "markers",
           "type": "scatter",
           "x": [
            -454
           ],
           "y": [
            -193
           ]
          },
          {
           "line": {
            "color": "red",
            "width": 2
           },
           "mode": "lines",
           "name": "Noah Fant motion path",
           "type": "scatter",
           "x": [],
           "y": []
          },
          {
           "marker": {
            "color": "#ffffff",
            "line": {
             "color": "#000000",
             "width": 2
            },
            "opacity": 1,
            "size": 10
           },
           "mode": "markers",
           "type": "scatter",
           "x": [
            -943
           ],
           "y": [
            -100
           ]
          },
          {
           "line": {
            "color": "red",
            "width": 2
           },
           "mode": "lines",
           "name": "DK Metcalf motion path",
           "type": "scatter",
           "x": [],
           "y": []
          },
          {
           "marker": {
            "color": "#ffffff",
            "line": {
             "color": "#000000",
             "width": 2
            },
            "opacity": 1,
            "size": 10
           },
           "mode": "markers",
           "type": "scatter",
           "x": [
            -158
           ],
           "y": [
            -89
           ]
          },
          {
           "line": {
            "color": "red",
            "width": 2
           },
           "mode": "lines",
           "name": "Phil Haynes motion path",
           "type": "scatter",
           "x": [],
           "y": []
          },
          {
           "marker": {
            "color": "#ffffff",
            "line": {
             "color": "#000000",
             "width": 2
            },
            "opacity": 1,
            "size": 10
           },
           "mode": "markers",
           "type": "scatter",
           "x": [
            -296
           ],
           "y": [
            -122
           ]
          },
          {
           "line": {
            "color": "red",
            "width": 2
           },
           "mode": "lines",
           "name": "Charles Cross motion path",
           "type": "scatter",
           "x": [],
           "y": []
          },
          {
           "marker": {
            "color": "#ffffff",
            "line": {
             "color": "#000000",
             "width": 2
            },
            "opacity": 1,
            "size": 10
           },
           "mode": "markers",
           "type": "scatter",
           "x": [
            316
           ],
           "y": [
            -99
           ]
          },
          {
           "line": {
            "color": "red",
            "width": 2
           },
           "mode": "lines",
           "name": "Abraham Lucas motion path",
           "type": "scatter",
           "x": [],
           "y": []
          }
         ],
         "name": "54"
        },
        {
         "data": [
          {
           "marker": {
            "color": "#ffffff",
            "line": {
             "color": "#000000",
             "width": 2
            },
            "opacity": 1,
            "size": 10
           },
           "mode": "markers",
           "type": "scatter",
           "x": [
            -19
           ],
           "y": [
            -190
           ]
          },
          {
           "line": {
            "color": "red",
            "width": 2
           },
           "mode": "lines",
           "name": "Geno Smith motion path",
           "type": "scatter",
           "x": [],
           "y": []
          },
          {
           "marker": {
            "color": "#ffffff",
            "line": {
             "color": "#000000",
             "width": 2
            },
            "opacity": 1,
            "size": 10
           },
           "mode": "markers",
           "type": "scatter",
           "x": [
            144
           ],
           "y": [
            -99
           ]
          },
          {
           "line": {
            "color": "red",
            "width": 2
           },
           "mode": "lines",
           "name": "Gabe Jackson motion path",
           "type": "scatter",
           "x": [],
           "y": []
          },
          {
           "marker": {
            "color": "#ffffff",
            "line": {
             "color": "#000000",
             "width": 2
            },
            "opacity": 1,
            "size": 10
           },
           "mode": "markers",
           "type": "scatter",
           "x": [
            956
           ],
           "y": [
            -34
           ]
          },
          {
           "line": {
            "color": "red",
            "width": 2
           },
           "mode": "lines",
           "name": "Tyler Lockett motion path",
           "type": "scatter",
           "x": [],
           "y": []
          },
          {
           "marker": {
            "color": "#ffffff",
            "line": {
             "color": "#000000",
             "width": 2
            },
            "opacity": 1,
            "size": 10
           },
           "mode": "markers",
           "type": "scatter",
           "x": [
            -9
           ],
           "y": [
            -30
           ]
          },
          {
           "line": {
            "color": "red",
            "width": 2
           },
           "mode": "lines",
           "name": "Austin Blythe motion path",
           "type": "scatter",
           "x": [],
           "y": []
          },
          {
           "marker": {
            "color": "#ffffff",
            "line": {
             "color": "#000000",
             "width": 2
            },
            "opacity": 1,
            "size": 10
           },
           "mode": "markers",
           "type": "scatter",
           "x": [
            -6
           ],
           "y": [
            -746
           ]
          },
          {
           "line": {
            "color": "red",
            "width": 2
           },
           "mode": "lines",
           "name": "Rashaad Penny motion path",
           "type": "scatter",
           "x": [],
           "y": []
          },
          {
           "marker": {
            "color": "#ff0000",
            "line": {
             "color": "#000000",
             "width": 2
            },
            "opacity": 1,
            "size": 10
           },
           "mode": "markers",
           "type": "scatter",
           "x": [
            -248
           ],
           "y": [
            -470
           ]
          },
          {
           "line": {
            "color": "red",
            "width": 2
           },
           "mode": "lines",
           "name": "Will Dissly motion path",
           "type": "scatter",
           "x": [],
           "y": []
          },
          {
           "marker": {
            "color": "#ff0000",
            "line": {
             "color": "#000000",
             "width": 2
            },
            "opacity": 1,
            "size": 10
           },
           "mode": "markers",
           "type": "scatter",
           "x": [
            -456
           ],
           "y": [
            -193
           ]
          },
          {
           "line": {
            "color": "red",
            "width": 2
           },
           "mode": "lines",
           "name": "Noah Fant motion path",
           "type": "scatter",
           "x": [],
           "y": []
          },
          {
           "marker": {
            "color": "#ffffff",
            "line": {
             "color": "#000000",
             "width": 2
            },
            "opacity": 1,
            "size": 10
           },
           "mode": "markers",
           "type": "scatter",
           "x": [
            -943
           ],
           "y": [
            -99
           ]
          },
          {
           "line": {
            "color": "red",
            "width": 2
           },
           "mode": "lines",
           "name": "DK Metcalf motion path",
           "type": "scatter",
           "x": [],
           "y": []
          },
          {
           "marker": {
            "color": "#ffffff",
            "line": {
             "color": "#000000",
             "width": 2
            },
            "opacity": 1,
            "size": 10
           },
           "mode": "markers",
           "type": "scatter",
           "x": [
            -158
           ],
           "y": [
            -90
           ]
          },
          {
           "line": {
            "color": "red",
            "width": 2
           },
           "mode": "lines",
           "name": "Phil Haynes motion path",
           "type": "scatter",
           "x": [],
           "y": []
          },
          {
           "marker": {
            "color": "#ffffff",
            "line": {
             "color": "#000000",
             "width": 2
            },
            "opacity": 1,
            "size": 10
           },
           "mode": "markers",
           "type": "scatter",
           "x": [
            -296
           ],
           "y": [
            -122
           ]
          },
          {
           "line": {
            "color": "red",
            "width": 2
           },
           "mode": "lines",
           "name": "Charles Cross motion path",
           "type": "scatter",
           "x": [],
           "y": []
          },
          {
           "marker": {
            "color": "#ffffff",
            "line": {
             "color": "#000000",
             "width": 2
            },
            "opacity": 1,
            "size": 10
           },
           "mode": "markers",
           "type": "scatter",
           "x": [
            315
           ],
           "y": [
            -99
           ]
          },
          {
           "line": {
            "color": "red",
            "width": 2
           },
           "mode": "lines",
           "name": "Abraham Lucas motion path",
           "type": "scatter",
           "x": [],
           "y": []
          }
         ],
         "name": "55"
        },
        {
         "data": [
          {
           "marker": {
            "color": "#ffffff",
            "line": {
             "color": "#000000",
             "width": 2
            },
            "opacity": 1,
            "size": 10
           },
           "mode": "markers",
           "type": "scatter",
           "x": [
            -18
           ],
           "y": [
            -179
           ]
          },
          {
           "line": {
            "color": "red",
            "width": 2
           },
           "mode": "lines",
           "name": "Geno Smith motion path",
           "type": "scatter",
           "x": [],
           "y": []
          },
          {
           "marker": {
            "color": "#ffffff",
            "line": {
             "color": "#000000",
             "width": 2
            },
            "opacity": 1,
            "size": 10
           },
           "mode": "markers",
           "type": "scatter",
           "x": [
            146
           ],
           "y": [
            -97
           ]
          },
          {
           "line": {
            "color": "red",
            "width": 2
           },
           "mode": "lines",
           "name": "Gabe Jackson motion path",
           "type": "scatter",
           "x": [],
           "y": []
          },
          {
           "marker": {
            "color": "#ffffff",
            "line": {
             "color": "#000000",
             "width": 2
            },
            "opacity": 1,
            "size": 10
           },
           "mode": "markers",
           "type": "scatter",
           "x": [
            957
           ],
           "y": [
            -34
           ]
          },
          {
           "line": {
            "color": "red",
            "width": 2
           },
           "mode": "lines",
           "name": "Tyler Lockett motion path",
           "type": "scatter",
           "x": [],
           "y": []
          },
          {
           "marker": {
            "color": "#ffffff",
            "line": {
             "color": "#000000",
             "width": 2
            },
            "opacity": 1,
            "size": 10
           },
           "mode": "markers",
           "type": "scatter",
           "x": [
            -8
           ],
           "y": [
            -31
           ]
          },
          {
           "line": {
            "color": "red",
            "width": 2
           },
           "mode": "lines",
           "name": "Austin Blythe motion path",
           "type": "scatter",
           "x": [],
           "y": []
          },
          {
           "marker": {
            "color": "#ffffff",
            "line": {
             "color": "#000000",
             "width": 2
            },
            "opacity": 1,
            "size": 10
           },
           "mode": "markers",
           "type": "scatter",
           "x": [
            -6
           ],
           "y": [
            -745
           ]
          },
          {
           "line": {
            "color": "red",
            "width": 2
           },
           "mode": "lines",
           "name": "Rashaad Penny motion path",
           "type": "scatter",
           "x": [],
           "y": []
          },
          {
           "marker": {
            "color": "#ff0000",
            "line": {
             "color": "#000000",
             "width": 2
            },
            "opacity": 1,
            "size": 10
           },
           "mode": "markers",
           "type": "scatter",
           "x": [
            -249
           ],
           "y": [
            -468
           ]
          },
          {
           "line": {
            "color": "red",
            "width": 2
           },
           "mode": "lines",
           "name": "Will Dissly motion path",
           "type": "scatter",
           "x": [],
           "y": []
          },
          {
           "marker": {
            "color": "#ff0000",
            "line": {
             "color": "#000000",
             "width": 2
            },
            "opacity": 1,
            "size": 10
           },
           "mode": "markers",
           "type": "scatter",
           "x": [
            -456
           ],
           "y": [
            -193
           ]
          },
          {
           "line": {
            "color": "red",
            "width": 2
           },
           "mode": "lines",
           "name": "Noah Fant motion path",
           "type": "scatter",
           "x": [],
           "y": []
          },
          {
           "marker": {
            "color": "#ffffff",
            "line": {
             "color": "#000000",
             "width": 2
            },
            "opacity": 1,
            "size": 10
           },
           "mode": "markers",
           "type": "scatter",
           "x": [
            -941
           ],
           "y": [
            -98
           ]
          },
          {
           "line": {
            "color": "red",
            "width": 2
           },
           "mode": "lines",
           "name": "DK Metcalf motion path",
           "type": "scatter",
           "x": [],
           "y": []
          },
          {
           "marker": {
            "color": "#ffffff",
            "line": {
             "color": "#000000",
             "width": 2
            },
            "opacity": 1,
            "size": 10
           },
           "mode": "markers",
           "type": "scatter",
           "x": [
            -158
           ],
           "y": [
            -90
           ]
          },
          {
           "line": {
            "color": "red",
            "width": 2
           },
           "mode": "lines",
           "name": "Phil Haynes motion path",
           "type": "scatter",
           "x": [],
           "y": []
          },
          {
           "marker": {
            "color": "#ffffff",
            "line": {
             "color": "#000000",
             "width": 2
            },
            "opacity": 1,
            "size": 10
           },
           "mode": "markers",
           "type": "scatter",
           "x": [
            -296
           ],
           "y": [
            -121
           ]
          },
          {
           "line": {
            "color": "red",
            "width": 2
           },
           "mode": "lines",
           "name": "Charles Cross motion path",
           "type": "scatter",
           "x": [],
           "y": []
          },
          {
           "marker": {
            "color": "#ffffff",
            "line": {
             "color": "#000000",
             "width": 2
            },
            "opacity": 1,
            "size": 10
           },
           "mode": "markers",
           "type": "scatter",
           "x": [
            314
           ],
           "y": [
            -98
           ]
          },
          {
           "line": {
            "color": "red",
            "width": 2
           },
           "mode": "lines",
           "name": "Abraham Lucas motion path",
           "type": "scatter",
           "x": [],
           "y": []
          }
         ],
         "name": "56"
        },
        {
         "data": [
          {
           "marker": {
            "color": "#ffffff",
            "line": {
             "color": "#000000",
             "width": 2
            },
            "opacity": 1,
            "size": 10
           },
           "mode": "markers",
           "type": "scatter",
           "x": [
            -17
           ],
           "y": [
            -170
           ]
          },
          {
           "line": {
            "color": "red",
            "width": 2
           },
           "mode": "lines",
           "name": "Geno Smith motion path",
           "type": "scatter",
           "x": [],
           "y": []
          },
          {
           "marker": {
            "color": "#ffffff",
            "line": {
             "color": "#000000",
             "width": 2
            },
            "opacity": 1,
            "size": 10
           },
           "mode": "markers",
           "type": "scatter",
           "x": [
            148
           ],
           "y": [
            -95
           ]
          },
          {
           "line": {
            "color": "red",
            "width": 2
           },
           "mode": "lines",
           "name": "Gabe Jackson motion path",
           "type": "scatter",
           "x": [],
           "y": []
          },
          {
           "marker": {
            "color": "#ffffff",
            "line": {
             "color": "#000000",
             "width": 2
            },
            "opacity": 1,
            "size": 10
           },
           "mode": "markers",
           "type": "scatter",
           "x": [
            958
           ],
           "y": [
            -32
           ]
          },
          {
           "line": {
            "color": "red",
            "width": 2
           },
           "mode": "lines",
           "name": "Tyler Lockett motion path",
           "type": "scatter",
           "x": [],
           "y": []
          },
          {
           "marker": {
            "color": "#ffffff",
            "line": {
             "color": "#000000",
             "width": 2
            },
            "opacity": 1,
            "size": 10
           },
           "mode": "markers",
           "type": "scatter",
           "x": [
            -8
           ],
           "y": [
            -32
           ]
          },
          {
           "line": {
            "color": "red",
            "width": 2
           },
           "mode": "lines",
           "name": "Austin Blythe motion path",
           "type": "scatter",
           "x": [],
           "y": []
          },
          {
           "marker": {
            "color": "#ffffff",
            "line": {
             "color": "#000000",
             "width": 2
            },
            "opacity": 1,
            "size": 10
           },
           "mode": "markers",
           "type": "scatter",
           "x": [
            -4
           ],
           "y": [
            -745
           ]
          },
          {
           "line": {
            "color": "red",
            "width": 2
           },
           "mode": "lines",
           "name": "Rashaad Penny motion path",
           "type": "scatter",
           "x": [],
           "y": []
          },
          {
           "marker": {
            "color": "#ff0000",
            "line": {
             "color": "#000000",
             "width": 2
            },
            "opacity": 1,
            "size": 10
           },
           "mode": "markers",
           "type": "scatter",
           "x": [
            -249
           ],
           "y": [
            -468
           ]
          },
          {
           "line": {
            "color": "red",
            "width": 2
           },
           "mode": "lines",
           "name": "Will Dissly motion path",
           "type": "scatter",
           "x": [],
           "y": []
          },
          {
           "marker": {
            "color": "#ff0000",
            "line": {
             "color": "#000000",
             "width": 2
            },
            "opacity": 1,
            "size": 10
           },
           "mode": "markers",
           "type": "scatter",
           "x": [
            -456
           ],
           "y": [
            -193
           ]
          },
          {
           "line": {
            "color": "red",
            "width": 2
           },
           "mode": "lines",
           "name": "Noah Fant motion path",
           "type": "scatter",
           "x": [],
           "y": []
          },
          {
           "marker": {
            "color": "#ffffff",
            "line": {
             "color": "#000000",
             "width": 2
            },
            "opacity": 1,
            "size": 10
           },
           "mode": "markers",
           "type": "scatter",
           "x": [
            -941
           ],
           "y": [
            -97
           ]
          },
          {
           "line": {
            "color": "red",
            "width": 2
           },
           "mode": "lines",
           "name": "DK Metcalf motion path",
           "type": "scatter",
           "x": [],
           "y": []
          },
          {
           "marker": {
            "color": "#ffffff",
            "line": {
             "color": "#000000",
             "width": 2
            },
            "opacity": 1,
            "size": 10
           },
           "mode": "markers",
           "type": "scatter",
           "x": [
            -157
           ],
           "y": [
            -91
           ]
          },
          {
           "line": {
            "color": "red",
            "width": 2
           },
           "mode": "lines",
           "name": "Phil Haynes motion path",
           "type": "scatter",
           "x": [],
           "y": []
          },
          {
           "marker": {
            "color": "#ffffff",
            "line": {
             "color": "#000000",
             "width": 2
            },
            "opacity": 1,
            "size": 10
           },
           "mode": "markers",
           "type": "scatter",
           "x": [
            -296
           ],
           "y": [
            -121
           ]
          },
          {
           "line": {
            "color": "red",
            "width": 2
           },
           "mode": "lines",
           "name": "Charles Cross motion path",
           "type": "scatter",
           "x": [],
           "y": []
          },
          {
           "marker": {
            "color": "#ffffff",
            "line": {
             "color": "#000000",
             "width": 2
            },
            "opacity": 1,
            "size": 10
           },
           "mode": "markers",
           "type": "scatter",
           "x": [
            314
           ],
           "y": [
            -97
           ]
          },
          {
           "line": {
            "color": "red",
            "width": 2
           },
           "mode": "lines",
           "name": "Abraham Lucas motion path",
           "type": "scatter",
           "x": [],
           "y": []
          }
         ],
         "name": "57"
        },
        {
         "data": [
          {
           "marker": {
            "color": "#ffffff",
            "line": {
             "color": "#000000",
             "width": 2
            },
            "opacity": 1,
            "size": 10
           },
           "mode": "markers",
           "type": "scatter",
           "x": [
            -15
           ],
           "y": [
            -160
           ]
          },
          {
           "line": {
            "color": "red",
            "width": 2
           },
           "mode": "lines",
           "name": "Geno Smith motion path",
           "type": "scatter",
           "x": [],
           "y": []
          },
          {
           "marker": {
            "color": "#ffffff",
            "line": {
             "color": "#000000",
             "width": 2
            },
            "opacity": 1,
            "size": 10
           },
           "mode": "markers",
           "type": "scatter",
           "x": [
            150
           ],
           "y": [
            -93
           ]
          },
          {
           "line": {
            "color": "red",
            "width": 2
           },
           "mode": "lines",
           "name": "Gabe Jackson motion path",
           "type": "scatter",
           "x": [],
           "y": []
          },
          {
           "marker": {
            "color": "#ffffff",
            "line": {
             "color": "#000000",
             "width": 2
            },
            "opacity": 1,
            "size": 10
           },
           "mode": "markers",
           "type": "scatter",
           "x": [
            959
           ],
           "y": [
            -31
           ]
          },
          {
           "line": {
            "color": "red",
            "width": 2
           },
           "mode": "lines",
           "name": "Tyler Lockett motion path",
           "type": "scatter",
           "x": [],
           "y": []
          },
          {
           "marker": {
            "color": "#ffffff",
            "line": {
             "color": "#000000",
             "width": 2
            },
            "opacity": 1,
            "size": 10
           },
           "mode": "markers",
           "type": "scatter",
           "x": [
            -8
           ],
           "y": [
            -32
           ]
          },
          {
           "line": {
            "color": "red",
            "width": 2
           },
           "mode": "lines",
           "name": "Austin Blythe motion path",
           "type": "scatter",
           "x": [],
           "y": []
          },
          {
           "marker": {
            "color": "#ffffff",
            "line": {
             "color": "#000000",
             "width": 2
            },
            "opacity": 1,
            "size": 10
           },
           "mode": "markers",
           "type": "scatter",
           "x": [
            -3
           ],
           "y": [
            -745
           ]
          },
          {
           "line": {
            "color": "red",
            "width": 2
           },
           "mode": "lines",
           "name": "Rashaad Penny motion path",
           "type": "scatter",
           "x": [],
           "y": []
          },
          {
           "marker": {
            "color": "#ff0000",
            "line": {
             "color": "#000000",
             "width": 2
            },
            "opacity": 1,
            "size": 10
           },
           "mode": "markers",
           "type": "scatter",
           "x": [
            -249
           ],
           "y": [
            -468
           ]
          },
          {
           "line": {
            "color": "red",
            "width": 2
           },
           "mode": "lines",
           "name": "Will Dissly motion path",
           "type": "scatter",
           "x": [],
           "y": []
          },
          {
           "marker": {
            "color": "#ff0000",
            "line": {
             "color": "#000000",
             "width": 2
            },
            "opacity": 1,
            "size": 10
           },
           "mode": "markers",
           "type": "scatter",
           "x": [
            -456
           ],
           "y": [
            -192
           ]
          },
          {
           "line": {
            "color": "red",
            "width": 2
           },
           "mode": "lines",
           "name": "Noah Fant motion path",
           "type": "scatter",
           "x": [],
           "y": []
          },
          {
           "marker": {
            "color": "#ffffff",
            "line": {
             "color": "#000000",
             "width": 2
            },
            "opacity": 1,
            "size": 10
           },
           "mode": "markers",
           "type": "scatter",
           "x": [
            -941
           ],
           "y": [
            -96
           ]
          },
          {
           "line": {
            "color": "red",
            "width": 2
           },
           "mode": "lines",
           "name": "DK Metcalf motion path",
           "type": "scatter",
           "x": [],
           "y": []
          },
          {
           "marker": {
            "color": "#ffffff",
            "line": {
             "color": "#000000",
             "width": 2
            },
            "opacity": 1,
            "size": 10
           },
           "mode": "markers",
           "type": "scatter",
           "x": [
            -157
           ],
           "y": [
            -91
           ]
          },
          {
           "line": {
            "color": "red",
            "width": 2
           },
           "mode": "lines",
           "name": "Phil Haynes motion path",
           "type": "scatter",
           "x": [],
           "y": []
          },
          {
           "marker": {
            "color": "#ffffff",
            "line": {
             "color": "#000000",
             "width": 2
            },
            "opacity": 1,
            "size": 10
           },
           "mode": "markers",
           "type": "scatter",
           "x": [
            -296
           ],
           "y": [
            -121
           ]
          },
          {
           "line": {
            "color": "red",
            "width": 2
           },
           "mode": "lines",
           "name": "Charles Cross motion path",
           "type": "scatter",
           "x": [],
           "y": []
          },
          {
           "marker": {
            "color": "#ffffff",
            "line": {
             "color": "#000000",
             "width": 2
            },
            "opacity": 1,
            "size": 10
           },
           "mode": "markers",
           "type": "scatter",
           "x": [
            314
           ],
           "y": [
            -97
           ]
          },
          {
           "line": {
            "color": "red",
            "width": 2
           },
           "mode": "lines",
           "name": "Abraham Lucas motion path",
           "type": "scatter",
           "x": [],
           "y": []
          }
         ],
         "name": "58"
        },
        {
         "data": [
          {
           "marker": {
            "color": "#ffffff",
            "line": {
             "color": "#000000",
             "width": 2
            },
            "opacity": 1,
            "size": 10
           },
           "mode": "markers",
           "type": "scatter",
           "x": [
            -12
           ],
           "y": [
            -152
           ]
          },
          {
           "line": {
            "color": "red",
            "width": 2
           },
           "mode": "lines",
           "name": "Geno Smith motion path",
           "type": "scatter",
           "x": [],
           "y": []
          },
          {
           "marker": {
            "color": "#ffffff",
            "line": {
             "color": "#000000",
             "width": 2
            },
            "opacity": 1,
            "size": 10
           },
           "mode": "markers",
           "type": "scatter",
           "x": [
            152
           ],
           "y": [
            -92
           ]
          },
          {
           "line": {
            "color": "red",
            "width": 2
           },
           "mode": "lines",
           "name": "Gabe Jackson motion path",
           "type": "scatter",
           "x": [],
           "y": []
          },
          {
           "marker": {
            "color": "#ffffff",
            "line": {
             "color": "#000000",
             "width": 2
            },
            "opacity": 1,
            "size": 10
           },
           "mode": "markers",
           "type": "scatter",
           "x": [
            959
           ],
           "y": [
            -31
           ]
          },
          {
           "line": {
            "color": "red",
            "width": 2
           },
           "mode": "lines",
           "name": "Tyler Lockett motion path",
           "type": "scatter",
           "x": [],
           "y": []
          },
          {
           "marker": {
            "color": "#ffffff",
            "line": {
             "color": "#000000",
             "width": 2
            },
            "opacity": 1,
            "size": 10
           },
           "mode": "markers",
           "type": "scatter",
           "x": [
            -9
           ],
           "y": [
            -32
           ]
          },
          {
           "line": {
            "color": "red",
            "width": 2
           },
           "mode": "lines",
           "name": "Austin Blythe motion path",
           "type": "scatter",
           "x": [],
           "y": []
          },
          {
           "marker": {
            "color": "#ffffff",
            "line": {
             "color": "#000000",
             "width": 2
            },
            "opacity": 1,
            "size": 10
           },
           "mode": "markers",
           "type": "scatter",
           "x": [
            -2
           ],
           "y": [
            -743
           ]
          },
          {
           "line": {
            "color": "red",
            "width": 2
           },
           "mode": "lines",
           "name": "Rashaad Penny motion path",
           "type": "scatter",
           "x": [],
           "y": []
          },
          {
           "marker": {
            "color": "#ff0000",
            "line": {
             "color": "#000000",
             "width": 2
            },
            "opacity": 1,
            "size": 10
           },
           "mode": "markers",
           "type": "scatter",
           "x": [
            -249
           ],
           "y": [
            -468
           ]
          },
          {
           "line": {
            "color": "red",
            "width": 2
           },
           "mode": "lines",
           "name": "Will Dissly motion path",
           "type": "scatter",
           "x": [],
           "y": []
          },
          {
           "marker": {
            "color": "#ff0000",
            "line": {
             "color": "#000000",
             "width": 2
            },
            "opacity": 1,
            "size": 10
           },
           "mode": "markers",
           "type": "scatter",
           "x": [
            -457
           ],
           "y": [
            -191
           ]
          },
          {
           "line": {
            "color": "red",
            "width": 2
           },
           "mode": "lines",
           "name": "Noah Fant motion path",
           "type": "scatter",
           "x": [],
           "y": []
          },
          {
           "marker": {
            "color": "#ffffff",
            "line": {
             "color": "#000000",
             "width": 2
            },
            "opacity": 1,
            "size": 10
           },
           "mode": "markers",
           "type": "scatter",
           "x": [
            -941
           ],
           "y": [
            -96
           ]
          },
          {
           "line": {
            "color": "red",
            "width": 2
           },
           "mode": "lines",
           "name": "DK Metcalf motion path",
           "type": "scatter",
           "x": [],
           "y": []
          },
          {
           "marker": {
            "color": "#ffffff",
            "line": {
             "color": "#000000",
             "width": 2
            },
            "opacity": 1,
            "size": 10
           },
           "mode": "markers",
           "type": "scatter",
           "x": [
            -156
           ],
           "y": [
            -92
           ]
          },
          {
           "line": {
            "color": "red",
            "width": 2
           },
           "mode": "lines",
           "name": "Phil Haynes motion path",
           "type": "scatter",
           "x": [],
           "y": []
          },
          {
           "marker": {
            "color": "#ffffff",
            "line": {
             "color": "#000000",
             "width": 2
            },
            "opacity": 1,
            "size": 10
           },
           "mode": "markers",
           "type": "scatter",
           "x": [
            -295
           ],
           "y": [
            -121
           ]
          },
          {
           "line": {
            "color": "red",
            "width": 2
           },
           "mode": "lines",
           "name": "Charles Cross motion path",
           "type": "scatter",
           "x": [],
           "y": []
          },
          {
           "marker": {
            "color": "#ffffff",
            "line": {
             "color": "#000000",
             "width": 2
            },
            "opacity": 1,
            "size": 10
           },
           "mode": "markers",
           "type": "scatter",
           "x": [
            315
           ],
           "y": [
            -97
           ]
          },
          {
           "line": {
            "color": "red",
            "width": 2
           },
           "mode": "lines",
           "name": "Abraham Lucas motion path",
           "type": "scatter",
           "x": [],
           "y": []
          }
         ],
         "name": "59"
        },
        {
         "data": [
          {
           "marker": {
            "color": "#ffffff",
            "line": {
             "color": "#000000",
             "width": 2
            },
            "opacity": 1,
            "size": 10
           },
           "mode": "markers",
           "type": "scatter",
           "x": [
            -9
           ],
           "y": [
            -145
           ]
          },
          {
           "line": {
            "color": "red",
            "width": 2
           },
           "mode": "lines",
           "name": "Geno Smith motion path",
           "type": "scatter",
           "x": [],
           "y": []
          },
          {
           "marker": {
            "color": "#ffffff",
            "line": {
             "color": "#000000",
             "width": 2
            },
            "opacity": 1,
            "size": 10
           },
           "mode": "markers",
           "type": "scatter",
           "x": [
            153
           ],
           "y": [
            -90
           ]
          },
          {
           "line": {
            "color": "red",
            "width": 2
           },
           "mode": "lines",
           "name": "Gabe Jackson motion path",
           "type": "scatter",
           "x": [],
           "y": []
          },
          {
           "marker": {
            "color": "#ffffff",
            "line": {
             "color": "#000000",
             "width": 2
            },
            "opacity": 1,
            "size": 10
           },
           "mode": "markers",
           "type": "scatter",
           "x": [
            960
           ],
           "y": [
            -30
           ]
          },
          {
           "line": {
            "color": "red",
            "width": 2
           },
           "mode": "lines",
           "name": "Tyler Lockett motion path",
           "type": "scatter",
           "x": [],
           "y": []
          },
          {
           "marker": {
            "color": "#ffffff",
            "line": {
             "color": "#000000",
             "width": 2
            },
            "opacity": 1,
            "size": 10
           },
           "mode": "markers",
           "type": "scatter",
           "x": [
            -9
           ],
           "y": [
            -34
           ]
          },
          {
           "line": {
            "color": "red",
            "width": 2
           },
           "mode": "lines",
           "name": "Austin Blythe motion path",
           "type": "scatter",
           "x": [],
           "y": []
          },
          {
           "marker": {
            "color": "#ffffff",
            "line": {
             "color": "#000000",
             "width": 2
            },
            "opacity": 1,
            "size": 10
           },
           "mode": "markers",
           "type": "scatter",
           "x": [
            -2
           ],
           "y": [
            -743
           ]
          },
          {
           "line": {
            "color": "red",
            "width": 2
           },
           "mode": "lines",
           "name": "Rashaad Penny motion path",
           "type": "scatter",
           "x": [],
           "y": []
          },
          {
           "marker": {
            "color": "#ff0000",
            "line": {
             "color": "#000000",
             "width": 2
            },
            "opacity": 1,
            "size": 10
           },
           "mode": "markers",
           "type": "scatter",
           "x": [
            -249
           ],
           "y": [
            -468
           ]
          },
          {
           "line": {
            "color": "red",
            "width": 2
           },
           "mode": "lines",
           "name": "Will Dissly motion path",
           "type": "scatter",
           "x": [],
           "y": []
          },
          {
           "marker": {
            "color": "#ff0000",
            "line": {
             "color": "#000000",
             "width": 2
            },
            "opacity": 1,
            "size": 10
           },
           "mode": "markers",
           "type": "scatter",
           "x": [
            -456
           ],
           "y": [
            -191
           ]
          },
          {
           "line": {
            "color": "red",
            "width": 2
           },
           "mode": "lines",
           "name": "Noah Fant motion path",
           "type": "scatter",
           "x": [],
           "y": []
          },
          {
           "marker": {
            "color": "#ffffff",
            "line": {
             "color": "#000000",
             "width": 2
            },
            "opacity": 1,
            "size": 10
           },
           "mode": "markers",
           "type": "scatter",
           "x": [
            -941
           ],
           "y": [
            -96
           ]
          },
          {
           "line": {
            "color": "red",
            "width": 2
           },
           "mode": "lines",
           "name": "DK Metcalf motion path",
           "type": "scatter",
           "x": [],
           "y": []
          },
          {
           "marker": {
            "color": "#ffffff",
            "line": {
             "color": "#000000",
             "width": 2
            },
            "opacity": 1,
            "size": 10
           },
           "mode": "markers",
           "type": "scatter",
           "x": [
            -155
           ],
           "y": [
            -92
           ]
          },
          {
           "line": {
            "color": "red",
            "width": 2
           },
           "mode": "lines",
           "name": "Phil Haynes motion path",
           "type": "scatter",
           "x": [],
           "y": []
          },
          {
           "marker": {
            "color": "#ffffff",
            "line": {
             "color": "#000000",
             "width": 2
            },
            "opacity": 1,
            "size": 10
           },
           "mode": "markers",
           "type": "scatter",
           "x": [
            -295
           ],
           "y": [
            -122
           ]
          },
          {
           "line": {
            "color": "red",
            "width": 2
           },
           "mode": "lines",
           "name": "Charles Cross motion path",
           "type": "scatter",
           "x": [],
           "y": []
          },
          {
           "marker": {
            "color": "#ffffff",
            "line": {
             "color": "#000000",
             "width": 2
            },
            "opacity": 1,
            "size": 10
           },
           "mode": "markers",
           "type": "scatter",
           "x": [
            315
           ],
           "y": [
            -97
           ]
          },
          {
           "line": {
            "color": "red",
            "width": 2
           },
           "mode": "lines",
           "name": "Abraham Lucas motion path",
           "type": "scatter",
           "x": [],
           "y": []
          }
         ],
         "name": "60"
        },
        {
         "data": [
          {
           "marker": {
            "color": "#ffffff",
            "line": {
             "color": "#000000",
             "width": 2
            },
            "opacity": 1,
            "size": 10
           },
           "mode": "markers",
           "type": "scatter",
           "x": [
            -6
           ],
           "y": [
            -140
           ]
          },
          {
           "line": {
            "color": "red",
            "width": 2
           },
           "mode": "lines",
           "name": "Geno Smith motion path",
           "type": "scatter",
           "x": [],
           "y": []
          },
          {
           "marker": {
            "color": "#ffffff",
            "line": {
             "color": "#000000",
             "width": 2
            },
            "opacity": 1,
            "size": 10
           },
           "mode": "markers",
           "type": "scatter",
           "x": [
            155
           ],
           "y": [
            -89
           ]
          },
          {
           "line": {
            "color": "red",
            "width": 2
           },
           "mode": "lines",
           "name": "Gabe Jackson motion path",
           "type": "scatter",
           "x": [],
           "y": []
          },
          {
           "marker": {
            "color": "#ffffff",
            "line": {
             "color": "#000000",
             "width": 2
            },
            "opacity": 1,
            "size": 10
           },
           "mode": "markers",
           "type": "scatter",
           "x": [
            960
           ],
           "y": [
            -30
           ]
          },
          {
           "line": {
            "color": "red",
            "width": 2
           },
           "mode": "lines",
           "name": "Tyler Lockett motion path",
           "type": "scatter",
           "x": [],
           "y": []
          },
          {
           "marker": {
            "color": "#ffffff",
            "line": {
             "color": "#000000",
             "width": 2
            },
            "opacity": 1,
            "size": 10
           },
           "mode": "markers",
           "type": "scatter",
           "x": [
            -10
           ],
           "y": [
            -32
           ]
          },
          {
           "line": {
            "color": "red",
            "width": 2
           },
           "mode": "lines",
           "name": "Austin Blythe motion path",
           "type": "scatter",
           "x": [],
           "y": []
          },
          {
           "marker": {
            "color": "#ffffff",
            "line": {
             "color": "#000000",
             "width": 2
            },
            "opacity": 1,
            "size": 10
           },
           "mode": "markers",
           "type": "scatter",
           "x": [
            -1
           ],
           "y": [
            -743
           ]
          },
          {
           "line": {
            "color": "red",
            "width": 2
           },
           "mode": "lines",
           "name": "Rashaad Penny motion path",
           "type": "scatter",
           "x": [],
           "y": []
          },
          {
           "marker": {
            "color": "#ff0000",
            "line": {
             "color": "#000000",
             "width": 2
            },
            "opacity": 1,
            "size": 10
           },
           "mode": "markers",
           "type": "scatter",
           "x": [
            -249
           ],
           "y": [
            -467
           ]
          },
          {
           "line": {
            "color": "red",
            "width": 2
           },
           "mode": "lines",
           "name": "Will Dissly motion path",
           "type": "scatter",
           "x": [],
           "y": []
          },
          {
           "marker": {
            "color": "#ff0000",
            "line": {
             "color": "#000000",
             "width": 2
            },
            "opacity": 1,
            "size": 10
           },
           "mode": "markers",
           "type": "scatter",
           "x": [
            -456
           ],
           "y": [
            -191
           ]
          },
          {
           "line": {
            "color": "red",
            "width": 2
           },
           "mode": "lines",
           "name": "Noah Fant motion path",
           "type": "scatter",
           "x": [],
           "y": []
          },
          {
           "marker": {
            "color": "#ffffff",
            "line": {
             "color": "#000000",
             "width": 2
            },
            "opacity": 1,
            "size": 10
           },
           "mode": "markers",
           "type": "scatter",
           "x": [
            -941
           ],
           "y": [
            -95
           ]
          },
          {
           "line": {
            "color": "red",
            "width": 2
           },
           "mode": "lines",
           "name": "DK Metcalf motion path",
           "type": "scatter",
           "x": [],
           "y": []
          },
          {
           "marker": {
            "color": "#ffffff",
            "line": {
             "color": "#000000",
             "width": 2
            },
            "opacity": 1,
            "size": 10
           },
           "mode": "markers",
           "type": "scatter",
           "x": [
            -155
           ],
           "y": [
            -92
           ]
          },
          {
           "line": {
            "color": "red",
            "width": 2
           },
           "mode": "lines",
           "name": "Phil Haynes motion path",
           "type": "scatter",
           "x": [],
           "y": []
          },
          {
           "marker": {
            "color": "#ffffff",
            "line": {
             "color": "#000000",
             "width": 2
            },
            "opacity": 1,
            "size": 10
           },
           "mode": "markers",
           "type": "scatter",
           "x": [
            -294
           ],
           "y": [
            -121
           ]
          },
          {
           "line": {
            "color": "red",
            "width": 2
           },
           "mode": "lines",
           "name": "Charles Cross motion path",
           "type": "scatter",
           "x": [],
           "y": []
          },
          {
           "marker": {
            "color": "#ffffff",
            "line": {
             "color": "#000000",
             "width": 2
            },
            "opacity": 1,
            "size": 10
           },
           "mode": "markers",
           "type": "scatter",
           "x": [
            315
           ],
           "y": [
            -97
           ]
          },
          {
           "line": {
            "color": "red",
            "width": 2
           },
           "mode": "lines",
           "name": "Abraham Lucas motion path",
           "type": "scatter",
           "x": [],
           "y": []
          }
         ],
         "name": "61"
        },
        {
         "data": [
          {
           "marker": {
            "color": "#ffffff",
            "line": {
             "color": "#000000",
             "width": 2
            },
            "opacity": 1,
            "size": 10
           },
           "mode": "markers",
           "type": "scatter",
           "x": [
            -4
           ],
           "y": [
            -135
           ]
          },
          {
           "line": {
            "color": "red",
            "width": 2
           },
           "mode": "lines",
           "name": "Geno Smith motion path",
           "type": "scatter",
           "x": [],
           "y": []
          },
          {
           "marker": {
            "color": "#ffffff",
            "line": {
             "color": "#000000",
             "width": 2
            },
            "opacity": 1,
            "size": 10
           },
           "mode": "markers",
           "type": "scatter",
           "x": [
            156
           ],
           "y": [
            -88
           ]
          },
          {
           "line": {
            "color": "red",
            "width": 2
           },
           "mode": "lines",
           "name": "Gabe Jackson motion path",
           "type": "scatter",
           "x": [],
           "y": []
          },
          {
           "marker": {
            "color": "#ffffff",
            "line": {
             "color": "#000000",
             "width": 2
            },
            "opacity": 1,
            "size": 10
           },
           "mode": "markers",
           "type": "scatter",
           "x": [
            960
           ],
           "y": [
            -30
           ]
          },
          {
           "line": {
            "color": "red",
            "width": 2
           },
           "mode": "lines",
           "name": "Tyler Lockett motion path",
           "type": "scatter",
           "x": [],
           "y": []
          },
          {
           "marker": {
            "color": "#ffffff",
            "line": {
             "color": "#000000",
             "width": 2
            },
            "opacity": 1,
            "size": 10
           },
           "mode": "markers",
           "type": "scatter",
           "x": [
            -11
           ],
           "y": [
            -31
           ]
          },
          {
           "line": {
            "color": "red",
            "width": 2
           },
           "mode": "lines",
           "name": "Austin Blythe motion path",
           "type": "scatter",
           "x": [],
           "y": []
          },
          {
           "marker": {
            "color": "#ffffff",
            "line": {
             "color": "#000000",
             "width": 2
            },
            "opacity": 1,
            "size": 10
           },
           "mode": "markers",
           "type": "scatter",
           "x": [
            0
           ],
           "y": [
            -743
           ]
          },
          {
           "line": {
            "color": "red",
            "width": 2
           },
           "mode": "lines",
           "name": "Rashaad Penny motion path",
           "type": "scatter",
           "x": [],
           "y": []
          },
          {
           "marker": {
            "color": "#ff0000",
            "line": {
             "color": "#000000",
             "width": 2
            },
            "opacity": 1,
            "size": 10
           },
           "mode": "markers",
           "type": "scatter",
           "x": [
            -247
           ],
           "y": [
            -467
           ]
          },
          {
           "line": {
            "color": "red",
            "width": 2
           },
           "mode": "lines",
           "name": "Will Dissly motion path",
           "type": "scatter",
           "x": [],
           "y": []
          },
          {
           "marker": {
            "color": "#ff0000",
            "line": {
             "color": "#000000",
             "width": 2
            },
            "opacity": 1,
            "size": 10
           },
           "mode": "markers",
           "type": "scatter",
           "x": [
            -456
           ],
           "y": [
            -191
           ]
          },
          {
           "line": {
            "color": "red",
            "width": 2
           },
           "mode": "lines",
           "name": "Noah Fant motion path",
           "type": "scatter",
           "x": [],
           "y": []
          },
          {
           "marker": {
            "color": "#ffffff",
            "line": {
             "color": "#000000",
             "width": 2
            },
            "opacity": 1,
            "size": 10
           },
           "mode": "markers",
           "type": "scatter",
           "x": [
            -941
           ],
           "y": [
            -95
           ]
          },
          {
           "line": {
            "color": "red",
            "width": 2
           },
           "mode": "lines",
           "name": "DK Metcalf motion path",
           "type": "scatter",
           "x": [],
           "y": []
          },
          {
           "marker": {
            "color": "#ffffff",
            "line": {
             "color": "#000000",
             "width": 2
            },
            "opacity": 1,
            "size": 10
           },
           "mode": "markers",
           "type": "scatter",
           "x": [
            -154
           ],
           "y": [
            -92
           ]
          },
          {
           "line": {
            "color": "red",
            "width": 2
           },
           "mode": "lines",
           "name": "Phil Haynes motion path",
           "type": "scatter",
           "x": [],
           "y": []
          },
          {
           "marker": {
            "color": "#ffffff",
            "line": {
             "color": "#000000",
             "width": 2
            },
            "opacity": 1,
            "size": 10
           },
           "mode": "markers",
           "type": "scatter",
           "x": [
            -294
           ],
           "y": [
            -121
           ]
          },
          {
           "line": {
            "color": "red",
            "width": 2
           },
           "mode": "lines",
           "name": "Charles Cross motion path",
           "type": "scatter",
           "x": [],
           "y": []
          },
          {
           "marker": {
            "color": "#ffffff",
            "line": {
             "color": "#000000",
             "width": 2
            },
            "opacity": 1,
            "size": 10
           },
           "mode": "markers",
           "type": "scatter",
           "x": [
            316
           ],
           "y": [
            -97
           ]
          },
          {
           "line": {
            "color": "red",
            "width": 2
           },
           "mode": "lines",
           "name": "Abraham Lucas motion path",
           "type": "scatter",
           "x": [],
           "y": []
          }
         ],
         "name": "62"
        },
        {
         "data": [
          {
           "marker": {
            "color": "#ffffff",
            "line": {
             "color": "#000000",
             "width": 2
            },
            "opacity": 1,
            "size": 10
           },
           "mode": "markers",
           "type": "scatter",
           "x": [
            -3
           ],
           "y": [
            -135
           ]
          },
          {
           "line": {
            "color": "red",
            "width": 2
           },
           "mode": "lines",
           "name": "Geno Smith motion path",
           "type": "scatter",
           "x": [],
           "y": []
          },
          {
           "marker": {
            "color": "#ffffff",
            "line": {
             "color": "#000000",
             "width": 2
            },
            "opacity": 1,
            "size": 10
           },
           "mode": "markers",
           "type": "scatter",
           "x": [
            157
           ],
           "y": [
            -89
           ]
          },
          {
           "line": {
            "color": "red",
            "width": 2
           },
           "mode": "lines",
           "name": "Gabe Jackson motion path",
           "type": "scatter",
           "x": [],
           "y": []
          },
          {
           "marker": {
            "color": "#ffffff",
            "line": {
             "color": "#000000",
             "width": 2
            },
            "opacity": 1,
            "size": 10
           },
           "mode": "markers",
           "type": "scatter",
           "x": [
            960
           ],
           "y": [
            -30
           ]
          },
          {
           "line": {
            "color": "red",
            "width": 2
           },
           "mode": "lines",
           "name": "Tyler Lockett motion path",
           "type": "scatter",
           "x": [],
           "y": []
          },
          {
           "marker": {
            "color": "#ffffff",
            "line": {
             "color": "#000000",
             "width": 2
            },
            "opacity": 1,
            "size": 10
           },
           "mode": "markers",
           "type": "scatter",
           "x": [
            -12
           ],
           "y": [
            -31
           ]
          },
          {
           "line": {
            "color": "red",
            "width": 2
           },
           "mode": "lines",
           "name": "Austin Blythe motion path",
           "type": "scatter",
           "x": [],
           "y": []
          },
          {
           "marker": {
            "color": "#ffffff",
            "line": {
             "color": "#000000",
             "width": 2
            },
            "opacity": 1,
            "size": 10
           },
           "mode": "markers",
           "type": "scatter",
           "x": [
            0
           ],
           "y": [
            -744
           ]
          },
          {
           "line": {
            "color": "red",
            "width": 2
           },
           "mode": "lines",
           "name": "Rashaad Penny motion path",
           "type": "scatter",
           "x": [],
           "y": []
          },
          {
           "marker": {
            "color": "#ff0000",
            "line": {
             "color": "#000000",
             "width": 2
            },
            "opacity": 1,
            "size": 10
           },
           "mode": "markers",
           "type": "scatter",
           "x": [
            -244
           ],
           "y": [
            -466
           ]
          },
          {
           "line": {
            "color": "red",
            "width": 2
           },
           "mode": "lines",
           "name": "Will Dissly motion path",
           "type": "scatter",
           "x": [],
           "y": []
          },
          {
           "marker": {
            "color": "#ff0000",
            "line": {
             "color": "#000000",
             "width": 2
            },
            "opacity": 1,
            "size": 10
           },
           "mode": "markers",
           "type": "scatter",
           "x": [
            -456
           ],
           "y": [
            -192
           ]
          },
          {
           "line": {
            "color": "red",
            "width": 2
           },
           "mode": "lines",
           "name": "Noah Fant motion path",
           "type": "scatter",
           "x": [],
           "y": []
          },
          {
           "marker": {
            "color": "#ffffff",
            "line": {
             "color": "#000000",
             "width": 2
            },
            "opacity": 1,
            "size": 10
           },
           "mode": "markers",
           "type": "scatter",
           "x": [
            -941
           ],
           "y": [
            -96
           ]
          },
          {
           "line": {
            "color": "red",
            "width": 2
           },
           "mode": "lines",
           "name": "DK Metcalf motion path",
           "type": "scatter",
           "x": [],
           "y": []
          },
          {
           "marker": {
            "color": "#ffffff",
            "line": {
             "color": "#000000",
             "width": 2
            },
            "opacity": 1,
            "size": 10
           },
           "mode": "markers",
           "type": "scatter",
           "x": [
            -154
           ],
           "y": [
            -93
           ]
          },
          {
           "line": {
            "color": "red",
            "width": 2
           },
           "mode": "lines",
           "name": "Phil Haynes motion path",
           "type": "scatter",
           "x": [],
           "y": []
          },
          {
           "marker": {
            "color": "#ffffff",
            "line": {
             "color": "#000000",
             "width": 2
            },
            "opacity": 1,
            "size": 10
           },
           "mode": "markers",
           "type": "scatter",
           "x": [
            -294
           ],
           "y": [
            -122
           ]
          },
          {
           "line": {
            "color": "red",
            "width": 2
           },
           "mode": "lines",
           "name": "Charles Cross motion path",
           "type": "scatter",
           "x": [],
           "y": []
          },
          {
           "marker": {
            "color": "#ffffff",
            "line": {
             "color": "#000000",
             "width": 2
            },
            "opacity": 1,
            "size": 10
           },
           "mode": "markers",
           "type": "scatter",
           "x": [
            317
           ],
           "y": [
            -99
           ]
          },
          {
           "line": {
            "color": "red",
            "width": 2
           },
           "mode": "lines",
           "name": "Abraham Lucas motion path",
           "type": "scatter",
           "x": [],
           "y": []
          }
         ],
         "name": "63"
        },
        {
         "data": [
          {
           "marker": {
            "color": "#ffffff",
            "line": {
             "color": "#000000",
             "width": 2
            },
            "opacity": 1,
            "size": 10
           },
           "mode": "markers",
           "type": "scatter",
           "x": [
            -1
           ],
           "y": [
            -131
           ]
          },
          {
           "line": {
            "color": "red",
            "width": 2
           },
           "mode": "lines",
           "name": "Geno Smith motion path",
           "type": "scatter",
           "x": [],
           "y": []
          },
          {
           "marker": {
            "color": "#ffffff",
            "line": {
             "color": "#000000",
             "width": 2
            },
            "opacity": 1,
            "size": 10
           },
           "mode": "markers",
           "type": "scatter",
           "x": [
            158
           ],
           "y": [
            -88
           ]
          },
          {
           "line": {
            "color": "red",
            "width": 2
           },
           "mode": "lines",
           "name": "Gabe Jackson motion path",
           "type": "scatter",
           "x": [],
           "y": []
          },
          {
           "marker": {
            "color": "#ffffff",
            "line": {
             "color": "#000000",
             "width": 2
            },
            "opacity": 1,
            "size": 10
           },
           "mode": "markers",
           "type": "scatter",
           "x": [
            961
           ],
           "y": [
            -30
           ]
          },
          {
           "line": {
            "color": "red",
            "width": 2
           },
           "mode": "lines",
           "name": "Tyler Lockett motion path",
           "type": "scatter",
           "x": [],
           "y": []
          },
          {
           "marker": {
            "color": "#ffffff",
            "line": {
             "color": "#000000",
             "width": 2
            },
            "opacity": 1,
            "size": 10
           },
           "mode": "markers",
           "type": "scatter",
           "x": [
            -13
           ],
           "y": [
            -29
           ]
          },
          {
           "line": {
            "color": "red",
            "width": 2
           },
           "mode": "lines",
           "name": "Austin Blythe motion path",
           "type": "scatter",
           "x": [],
           "y": []
          },
          {
           "marker": {
            "color": "#ffffff",
            "line": {
             "color": "#000000",
             "width": 2
            },
            "opacity": 1,
            "size": 10
           },
           "mode": "markers",
           "type": "scatter",
           "x": [
            1
           ],
           "y": [
            -743
           ]
          },
          {
           "line": {
            "color": "red",
            "width": 2
           },
           "mode": "lines",
           "name": "Rashaad Penny motion path",
           "type": "scatter",
           "x": [],
           "y": []
          },
          {
           "marker": {
            "color": "#ff0000",
            "line": {
             "color": "#000000",
             "width": 2
            },
            "opacity": 1,
            "size": 10
           },
           "mode": "markers",
           "type": "scatter",
           "x": [
            -238
           ],
           "y": [
            -464
           ]
          },
          {
           "hoverinfo": "none",
           "marker": {
            "color": "rgba(255, 0, 0, 0.5)",
            "line": {
             "color": "red",
             "width": 2
            },
            "size": 20
           },
           "mode": "markers",
           "name": "Will Dissly in motion",
           "type": "scatter",
           "x": [
            -238
           ],
           "y": [
            -464
           ]
          },
          {
           "line": {
            "color": "red",
            "width": 2
           },
           "mode": "lines",
           "name": "Will Dissly motion path",
           "type": "scatter",
           "x": [
            -238
           ],
           "y": [
            -464
           ]
          },
          {
           "marker": {
            "color": "#ff0000",
            "line": {
             "color": "#000000",
             "width": 2
            },
            "opacity": 1,
            "size": 10
           },
           "mode": "markers",
           "type": "scatter",
           "x": [
            -455
           ],
           "y": [
            -191
           ]
          },
          {
           "line": {
            "color": "red",
            "width": 2
           },
           "mode": "lines",
           "name": "Noah Fant motion path",
           "type": "scatter",
           "x": [],
           "y": []
          },
          {
           "marker": {
            "color": "#ffffff",
            "line": {
             "color": "#000000",
             "width": 2
            },
            "opacity": 1,
            "size": 10
           },
           "mode": "markers",
           "type": "scatter",
           "x": [
            -940
           ],
           "y": [
            -95
           ]
          },
          {
           "line": {
            "color": "red",
            "width": 2
           },
           "mode": "lines",
           "name": "DK Metcalf motion path",
           "type": "scatter",
           "x": [],
           "y": []
          },
          {
           "marker": {
            "color": "#ffffff",
            "line": {
             "color": "#000000",
             "width": 2
            },
            "opacity": 1,
            "size": 10
           },
           "mode": "markers",
           "type": "scatter",
           "x": [
            -153
           ],
           "y": [
            -92
           ]
          },
          {
           "line": {
            "color": "red",
            "width": 2
           },
           "mode": "lines",
           "name": "Phil Haynes motion path",
           "type": "scatter",
           "x": [],
           "y": []
          },
          {
           "marker": {
            "color": "#ffffff",
            "line": {
             "color": "#000000",
             "width": 2
            },
            "opacity": 1,
            "size": 10
           },
           "mode": "markers",
           "type": "scatter",
           "x": [
            -292
           ],
           "y": [
            -120
           ]
          },
          {
           "line": {
            "color": "red",
            "width": 2
           },
           "mode": "lines",
           "name": "Charles Cross motion path",
           "type": "scatter",
           "x": [],
           "y": []
          },
          {
           "marker": {
            "color": "#ffffff",
            "line": {
             "color": "#000000",
             "width": 2
            },
            "opacity": 1,
            "size": 10
           },
           "mode": "markers",
           "type": "scatter",
           "x": [
            318
           ],
           "y": [
            -98
           ]
          },
          {
           "line": {
            "color": "red",
            "width": 2
           },
           "mode": "lines",
           "name": "Abraham Lucas motion path",
           "type": "scatter",
           "x": [],
           "y": []
          }
         ],
         "name": "64"
        },
        {
         "data": [
          {
           "marker": {
            "color": "#ffffff",
            "line": {
             "color": "#000000",
             "width": 2
            },
            "opacity": 1,
            "size": 10
           },
           "mode": "markers",
           "type": "scatter",
           "x": [
            -2
           ],
           "y": [
            -131
           ]
          },
          {
           "line": {
            "color": "red",
            "width": 2
           },
           "mode": "lines",
           "name": "Geno Smith motion path",
           "type": "scatter",
           "x": [],
           "y": []
          },
          {
           "marker": {
            "color": "#ffffff",
            "line": {
             "color": "#000000",
             "width": 2
            },
            "opacity": 1,
            "size": 10
           },
           "mode": "markers",
           "type": "scatter",
           "x": [
            159
           ],
           "y": [
            -88
           ]
          },
          {
           "line": {
            "color": "red",
            "width": 2
           },
           "mode": "lines",
           "name": "Gabe Jackson motion path",
           "type": "scatter",
           "x": [],
           "y": []
          },
          {
           "marker": {
            "color": "#ffffff",
            "line": {
             "color": "#000000",
             "width": 2
            },
            "opacity": 1,
            "size": 10
           },
           "mode": "markers",
           "type": "scatter",
           "x": [
            960
           ],
           "y": [
            -30
           ]
          },
          {
           "line": {
            "color": "red",
            "width": 2
           },
           "mode": "lines",
           "name": "Tyler Lockett motion path",
           "type": "scatter",
           "x": [],
           "y": []
          },
          {
           "marker": {
            "color": "#ffffff",
            "line": {
             "color": "#000000",
             "width": 2
            },
            "opacity": 1,
            "size": 10
           },
           "mode": "markers",
           "type": "scatter",
           "x": [
            -14
           ],
           "y": [
            -28
           ]
          },
          {
           "line": {
            "color": "red",
            "width": 2
           },
           "mode": "lines",
           "name": "Austin Blythe motion path",
           "type": "scatter",
           "x": [],
           "y": []
          },
          {
           "marker": {
            "color": "#ffffff",
            "line": {
             "color": "#000000",
             "width": 2
            },
            "opacity": 1,
            "size": 10
           },
           "mode": "markers",
           "type": "scatter",
           "x": [
            2
           ],
           "y": [
            -743
           ]
          },
          {
           "line": {
            "color": "red",
            "width": 2
           },
           "mode": "lines",
           "name": "Rashaad Penny motion path",
           "type": "scatter",
           "x": [],
           "y": []
          },
          {
           "marker": {
            "color": "#ff0000",
            "line": {
             "color": "#000000",
             "width": 2
            },
            "opacity": 1,
            "size": 10
           },
           "mode": "markers",
           "type": "scatter",
           "x": [
            -230
           ],
           "y": [
            -460
           ]
          },
          {
           "hoverinfo": "none",
           "marker": {
            "color": "rgba(255, 0, 0, 0.5)",
            "line": {
             "color": "red",
             "width": 2
            },
            "size": 20
           },
           "mode": "markers",
           "name": "Will Dissly in motion",
           "type": "scatter",
           "x": [
            -230
           ],
           "y": [
            -460
           ]
          },
          {
           "line": {
            "color": "red",
            "width": 2
           },
           "mode": "lines",
           "name": "Will Dissly motion path",
           "type": "scatter",
           "x": [
            -238,
            -230
           ],
           "y": [
            -464,
            -460
           ]
          },
          {
           "marker": {
            "color": "#ff0000",
            "line": {
             "color": "#000000",
             "width": 2
            },
            "opacity": 1,
            "size": 10
           },
           "mode": "markers",
           "type": "scatter",
           "x": [
            -454
           ],
           "y": [
            -191
           ]
          },
          {
           "line": {
            "color": "red",
            "width": 2
           },
           "mode": "lines",
           "name": "Noah Fant motion path",
           "type": "scatter",
           "x": [],
           "y": []
          },
          {
           "marker": {
            "color": "#ffffff",
            "line": {
             "color": "#000000",
             "width": 2
            },
            "opacity": 1,
            "size": 10
           },
           "mode": "markers",
           "type": "scatter",
           "x": [
            -940
           ],
           "y": [
            -95
           ]
          },
          {
           "line": {
            "color": "red",
            "width": 2
           },
           "mode": "lines",
           "name": "DK Metcalf motion path",
           "type": "scatter",
           "x": [],
           "y": []
          },
          {
           "marker": {
            "color": "#ffffff",
            "line": {
             "color": "#000000",
             "width": 2
            },
            "opacity": 1,
            "size": 10
           },
           "mode": "markers",
           "type": "scatter",
           "x": [
            -154
           ],
           "y": [
            -92
           ]
          },
          {
           "line": {
            "color": "red",
            "width": 2
           },
           "mode": "lines",
           "name": "Phil Haynes motion path",
           "type": "scatter",
           "x": [],
           "y": []
          },
          {
           "marker": {
            "color": "#ffffff",
            "line": {
             "color": "#000000",
             "width": 2
            },
            "opacity": 1,
            "size": 10
           },
           "mode": "markers",
           "type": "scatter",
           "x": [
            -292
           ],
           "y": [
            -120
           ]
          },
          {
           "line": {
            "color": "red",
            "width": 2
           },
           "mode": "lines",
           "name": "Charles Cross motion path",
           "type": "scatter",
           "x": [],
           "y": []
          },
          {
           "marker": {
            "color": "#ffffff",
            "line": {
             "color": "#000000",
             "width": 2
            },
            "opacity": 1,
            "size": 10
           },
           "mode": "markers",
           "type": "scatter",
           "x": [
            317
           ],
           "y": [
            -97
           ]
          },
          {
           "line": {
            "color": "red",
            "width": 2
           },
           "mode": "lines",
           "name": "Abraham Lucas motion path",
           "type": "scatter",
           "x": [],
           "y": []
          }
         ],
         "name": "65"
        },
        {
         "data": [
          {
           "marker": {
            "color": "#ffffff",
            "line": {
             "color": "#000000",
             "width": 2
            },
            "opacity": 1,
            "size": 10
           },
           "mode": "markers",
           "type": "scatter",
           "x": [
            -4
           ],
           "y": [
            -132
           ]
          },
          {
           "line": {
            "color": "red",
            "width": 2
           },
           "mode": "lines",
           "name": "Geno Smith motion path",
           "type": "scatter",
           "x": [],
           "y": []
          },
          {
           "marker": {
            "color": "#ffffff",
            "line": {
             "color": "#000000",
             "width": 2
            },
            "opacity": 1,
            "size": 10
           },
           "mode": "markers",
           "type": "scatter",
           "x": [
            159
           ],
           "y": [
            -88
           ]
          },
          {
           "line": {
            "color": "red",
            "width": 2
           },
           "mode": "lines",
           "name": "Gabe Jackson motion path",
           "type": "scatter",
           "x": [],
           "y": []
          },
          {
           "marker": {
            "color": "#ffffff",
            "line": {
             "color": "#000000",
             "width": 2
            },
            "opacity": 1,
            "size": 10
           },
           "mode": "markers",
           "type": "scatter",
           "x": [
            959
           ],
           "y": [
            -29
           ]
          },
          {
           "line": {
            "color": "red",
            "width": 2
           },
           "mode": "lines",
           "name": "Tyler Lockett motion path",
           "type": "scatter",
           "x": [],
           "y": []
          },
          {
           "marker": {
            "color": "#ffffff",
            "line": {
             "color": "#000000",
             "width": 2
            },
            "opacity": 1,
            "size": 10
           },
           "mode": "markers",
           "type": "scatter",
           "x": [
            -14
           ],
           "y": [
            -27
           ]
          },
          {
           "line": {
            "color": "red",
            "width": 2
           },
           "mode": "lines",
           "name": "Austin Blythe motion path",
           "type": "scatter",
           "x": [],
           "y": []
          },
          {
           "marker": {
            "color": "#ffffff",
            "line": {
             "color": "#000000",
             "width": 2
            },
            "opacity": 1,
            "size": 10
           },
           "mode": "markers",
           "type": "scatter",
           "x": [
            2
           ],
           "y": [
            -745
           ]
          },
          {
           "line": {
            "color": "red",
            "width": 2
           },
           "mode": "lines",
           "name": "Rashaad Penny motion path",
           "type": "scatter",
           "x": [],
           "y": []
          },
          {
           "marker": {
            "color": "#ff0000",
            "line": {
             "color": "#000000",
             "width": 2
            },
            "opacity": 1,
            "size": 10
           },
           "mode": "markers",
           "type": "scatter",
           "x": [
            -220
           ],
           "y": [
            -456
           ]
          },
          {
           "hoverinfo": "none",
           "marker": {
            "color": "rgba(255, 0, 0, 0.5)",
            "line": {
             "color": "red",
             "width": 2
            },
            "size": 20
           },
           "mode": "markers",
           "name": "Will Dissly in motion",
           "type": "scatter",
           "x": [
            -220
           ],
           "y": [
            -456
           ]
          },
          {
           "line": {
            "color": "red",
            "width": 2
           },
           "mode": "lines",
           "name": "Will Dissly motion path",
           "type": "scatter",
           "x": [
            -238,
            -230,
            -220
           ],
           "y": [
            -464,
            -460,
            -456
           ]
          },
          {
           "marker": {
            "color": "#ff0000",
            "line": {
             "color": "#000000",
             "width": 2
            },
            "opacity": 1,
            "size": 10
           },
           "mode": "markers",
           "type": "scatter",
           "x": [
            -453
           ],
           "y": [
            -192
           ]
          },
          {
           "line": {
            "color": "red",
            "width": 2
           },
           "mode": "lines",
           "name": "Noah Fant motion path",
           "type": "scatter",
           "x": [],
           "y": []
          },
          {
           "marker": {
            "color": "#ffffff",
            "line": {
             "color": "#000000",
             "width": 2
            },
            "opacity": 1,
            "size": 10
           },
           "mode": "markers",
           "type": "scatter",
           "x": [
            -940
           ],
           "y": [
            -93
           ]
          },
          {
           "line": {
            "color": "red",
            "width": 2
           },
           "mode": "lines",
           "name": "DK Metcalf motion path",
           "type": "scatter",
           "x": [],
           "y": []
          },
          {
           "marker": {
            "color": "#ffffff",
            "line": {
             "color": "#000000",
             "width": 2
            },
            "opacity": 1,
            "size": 10
           },
           "mode": "markers",
           "type": "scatter",
           "x": [
            -154
           ],
           "y": [
            -92
           ]
          },
          {
           "line": {
            "color": "red",
            "width": 2
           },
           "mode": "lines",
           "name": "Phil Haynes motion path",
           "type": "scatter",
           "x": [],
           "y": []
          },
          {
           "marker": {
            "color": "#ffffff",
            "line": {
             "color": "#000000",
             "width": 2
            },
            "opacity": 1,
            "size": 10
           },
           "mode": "markers",
           "type": "scatter",
           "x": [
            -292
           ],
           "y": [
            -120
           ]
          },
          {
           "line": {
            "color": "red",
            "width": 2
           },
           "mode": "lines",
           "name": "Charles Cross motion path",
           "type": "scatter",
           "x": [],
           "y": []
          },
          {
           "marker": {
            "color": "#ffffff",
            "line": {
             "color": "#000000",
             "width": 2
            },
            "opacity": 1,
            "size": 10
           },
           "mode": "markers",
           "type": "scatter",
           "x": [
            317
           ],
           "y": [
            -97
           ]
          },
          {
           "line": {
            "color": "red",
            "width": 2
           },
           "mode": "lines",
           "name": "Abraham Lucas motion path",
           "type": "scatter",
           "x": [],
           "y": []
          }
         ],
         "name": "66"
        },
        {
         "data": [
          {
           "marker": {
            "color": "#ffffff",
            "line": {
             "color": "#000000",
             "width": 2
            },
            "opacity": 1,
            "size": 10
           },
           "mode": "markers",
           "type": "scatter",
           "x": [
            -5
           ],
           "y": [
            -134
           ]
          },
          {
           "line": {
            "color": "red",
            "width": 2
           },
           "mode": "lines",
           "name": "Geno Smith motion path",
           "type": "scatter",
           "x": [],
           "y": []
          },
          {
           "marker": {
            "color": "#ffffff",
            "line": {
             "color": "#000000",
             "width": 2
            },
            "opacity": 1,
            "size": 10
           },
           "mode": "markers",
           "type": "scatter",
           "x": [
            159
           ],
           "y": [
            -88
           ]
          },
          {
           "line": {
            "color": "red",
            "width": 2
           },
           "mode": "lines",
           "name": "Gabe Jackson motion path",
           "type": "scatter",
           "x": [],
           "y": []
          },
          {
           "marker": {
            "color": "#ffffff",
            "line": {
             "color": "#000000",
             "width": 2
            },
            "opacity": 1,
            "size": 10
           },
           "mode": "markers",
           "type": "scatter",
           "x": [
            957
           ],
           "y": [
            -29
           ]
          },
          {
           "line": {
            "color": "red",
            "width": 2
           },
           "mode": "lines",
           "name": "Tyler Lockett motion path",
           "type": "scatter",
           "x": [],
           "y": []
          },
          {
           "marker": {
            "color": "#ffffff",
            "line": {
             "color": "#000000",
             "width": 2
            },
            "opacity": 1,
            "size": 10
           },
           "mode": "markers",
           "type": "scatter",
           "x": [
            -15
           ],
           "y": [
            -25
           ]
          },
          {
           "line": {
            "color": "red",
            "width": 2
           },
           "mode": "lines",
           "name": "Austin Blythe motion path",
           "type": "scatter",
           "x": [],
           "y": []
          },
          {
           "marker": {
            "color": "#ffffff",
            "line": {
             "color": "#000000",
             "width": 2
            },
            "opacity": 1,
            "size": 10
           },
           "mode": "markers",
           "type": "scatter",
           "x": [
            2
           ],
           "y": [
            -745
           ]
          },
          {
           "line": {
            "color": "red",
            "width": 2
           },
           "mode": "lines",
           "name": "Rashaad Penny motion path",
           "type": "scatter",
           "x": [],
           "y": []
          },
          {
           "marker": {
            "color": "#ff0000",
            "line": {
             "color": "#000000",
             "width": 2
            },
            "opacity": 1,
            "size": 10
           },
           "mode": "markers",
           "type": "scatter",
           "x": [
            -206
           ],
           "y": [
            -450
           ]
          },
          {
           "hoverinfo": "none",
           "marker": {
            "color": "rgba(255, 0, 0, 0.5)",
            "line": {
             "color": "red",
             "width": 2
            },
            "size": 20
           },
           "mode": "markers",
           "name": "Will Dissly in motion",
           "type": "scatter",
           "x": [
            -206
           ],
           "y": [
            -450
           ]
          },
          {
           "line": {
            "color": "red",
            "width": 2
           },
           "mode": "lines",
           "name": "Will Dissly motion path",
           "type": "scatter",
           "x": [
            -238,
            -230,
            -220,
            -206
           ],
           "y": [
            -464,
            -460,
            -456,
            -450
           ]
          },
          {
           "marker": {
            "color": "#ff0000",
            "line": {
             "color": "#000000",
             "width": 2
            },
            "opacity": 1,
            "size": 10
           },
           "mode": "markers",
           "type": "scatter",
           "x": [
            -454
           ],
           "y": [
            -193
           ]
          },
          {
           "line": {
            "color": "red",
            "width": 2
           },
           "mode": "lines",
           "name": "Noah Fant motion path",
           "type": "scatter",
           "x": [],
           "y": []
          },
          {
           "marker": {
            "color": "#ffffff",
            "line": {
             "color": "#000000",
             "width": 2
            },
            "opacity": 1,
            "size": 10
           },
           "mode": "markers",
           "type": "scatter",
           "x": [
            -940
           ],
           "y": [
            -92
           ]
          },
          {
           "line": {
            "color": "red",
            "width": 2
           },
           "mode": "lines",
           "name": "DK Metcalf motion path",
           "type": "scatter",
           "x": [],
           "y": []
          },
          {
           "marker": {
            "color": "#ffffff",
            "line": {
             "color": "#000000",
             "width": 2
            },
            "opacity": 1,
            "size": 10
           },
           "mode": "markers",
           "type": "scatter",
           "x": [
            -154
           ],
           "y": [
            -93
           ]
          },
          {
           "line": {
            "color": "red",
            "width": 2
           },
           "mode": "lines",
           "name": "Phil Haynes motion path",
           "type": "scatter",
           "x": [],
           "y": []
          },
          {
           "marker": {
            "color": "#ffffff",
            "line": {
             "color": "#000000",
             "width": 2
            },
            "opacity": 1,
            "size": 10
           },
           "mode": "markers",
           "type": "scatter",
           "x": [
            -293
           ],
           "y": [
            -120
           ]
          },
          {
           "line": {
            "color": "red",
            "width": 2
           },
           "mode": "lines",
           "name": "Charles Cross motion path",
           "type": "scatter",
           "x": [],
           "y": []
          },
          {
           "marker": {
            "color": "#ffffff",
            "line": {
             "color": "#000000",
             "width": 2
            },
            "opacity": 1,
            "size": 10
           },
           "mode": "markers",
           "type": "scatter",
           "x": [
            316
           ],
           "y": [
            -97
           ]
          },
          {
           "line": {
            "color": "red",
            "width": 2
           },
           "mode": "lines",
           "name": "Abraham Lucas motion path",
           "type": "scatter",
           "x": [],
           "y": []
          }
         ],
         "name": "67"
        },
        {
         "data": [
          {
           "marker": {
            "color": "#ffffff",
            "line": {
             "color": "#000000",
             "width": 2
            },
            "opacity": 1,
            "size": 10
           },
           "mode": "markers",
           "type": "scatter",
           "x": [
            -7
           ],
           "y": [
            -135
           ]
          },
          {
           "line": {
            "color": "red",
            "width": 2
           },
           "mode": "lines",
           "name": "Geno Smith motion path",
           "type": "scatter",
           "x": [],
           "y": []
          },
          {
           "marker": {
            "color": "#ffffff",
            "line": {
             "color": "#000000",
             "width": 2
            },
            "opacity": 1,
            "size": 10
           },
           "mode": "markers",
           "type": "scatter",
           "x": [
            160
           ],
           "y": [
            -90
           ]
          },
          {
           "line": {
            "color": "red",
            "width": 2
           },
           "mode": "lines",
           "name": "Gabe Jackson motion path",
           "type": "scatter",
           "x": [],
           "y": []
          },
          {
           "marker": {
            "color": "#ffffff",
            "line": {
             "color": "#000000",
             "width": 2
            },
            "opacity": 1,
            "size": 10
           },
           "mode": "markers",
           "type": "scatter",
           "x": [
            956
           ],
           "y": [
            -30
           ]
          },
          {
           "line": {
            "color": "red",
            "width": 2
           },
           "mode": "lines",
           "name": "Tyler Lockett motion path",
           "type": "scatter",
           "x": [],
           "y": []
          },
          {
           "marker": {
            "color": "#ffffff",
            "line": {
             "color": "#000000",
             "width": 2
            },
            "opacity": 1,
            "size": 10
           },
           "mode": "markers",
           "type": "scatter",
           "x": [
            -15
           ],
           "y": [
            -25
           ]
          },
          {
           "line": {
            "color": "red",
            "width": 2
           },
           "mode": "lines",
           "name": "Austin Blythe motion path",
           "type": "scatter",
           "x": [],
           "y": []
          },
          {
           "marker": {
            "color": "#ffffff",
            "line": {
             "color": "#000000",
             "width": 2
            },
            "opacity": 1,
            "size": 10
           },
           "mode": "markers",
           "type": "scatter",
           "x": [
            2
           ],
           "y": [
            -745
           ]
          },
          {
           "line": {
            "color": "red",
            "width": 2
           },
           "mode": "lines",
           "name": "Rashaad Penny motion path",
           "type": "scatter",
           "x": [],
           "y": []
          },
          {
           "marker": {
            "color": "#ff0000",
            "line": {
             "color": "#000000",
             "width": 2
            },
            "opacity": 1,
            "size": 10
           },
           "mode": "markers",
           "type": "scatter",
           "x": [
            -190
           ],
           "y": [
            -442
           ]
          },
          {
           "hoverinfo": "none",
           "marker": {
            "color": "rgba(255, 0, 0, 0.5)",
            "line": {
             "color": "red",
             "width": 2
            },
            "size": 20
           },
           "mode": "markers",
           "name": "Will Dissly in motion",
           "type": "scatter",
           "x": [
            -190
           ],
           "y": [
            -442
           ]
          },
          {
           "line": {
            "color": "red",
            "width": 2
           },
           "mode": "lines",
           "name": "Will Dissly motion path",
           "type": "scatter",
           "x": [
            -238,
            -230,
            -220,
            -206,
            -190
           ],
           "y": [
            -464,
            -460,
            -456,
            -450,
            -442
           ]
          },
          {
           "marker": {
            "color": "#ff0000",
            "line": {
             "color": "#000000",
             "width": 2
            },
            "opacity": 1,
            "size": 10
           },
           "mode": "markers",
           "type": "scatter",
           "x": [
            -455
           ],
           "y": [
            -195
           ]
          },
          {
           "line": {
            "color": "red",
            "width": 2
           },
           "mode": "lines",
           "name": "Noah Fant motion path",
           "type": "scatter",
           "x": [],
           "y": []
          },
          {
           "marker": {
            "color": "#ffffff",
            "line": {
             "color": "#000000",
             "width": 2
            },
            "opacity": 1,
            "size": 10
           },
           "mode": "markers",
           "type": "scatter",
           "x": [
            -942
           ],
           "y": [
            -92
           ]
          },
          {
           "line": {
            "color": "red",
            "width": 2
           },
           "mode": "lines",
           "name": "DK Metcalf motion path",
           "type": "scatter",
           "x": [],
           "y": []
          },
          {
           "marker": {
            "color": "#ffffff",
            "line": {
             "color": "#000000",
             "width": 2
            },
            "opacity": 1,
            "size": 10
           },
           "mode": "markers",
           "type": "scatter",
           "x": [
            -154
           ],
           "y": [
            -93
           ]
          },
          {
           "line": {
            "color": "red",
            "width": 2
           },
           "mode": "lines",
           "name": "Phil Haynes motion path",
           "type": "scatter",
           "x": [],
           "y": []
          },
          {
           "marker": {
            "color": "#ffffff",
            "line": {
             "color": "#000000",
             "width": 2
            },
            "opacity": 1,
            "size": 10
           },
           "mode": "markers",
           "type": "scatter",
           "x": [
            -293
           ],
           "y": [
            -118
           ]
          },
          {
           "line": {
            "color": "red",
            "width": 2
           },
           "mode": "lines",
           "name": "Charles Cross motion path",
           "type": "scatter",
           "x": [],
           "y": []
          },
          {
           "marker": {
            "color": "#ffffff",
            "line": {
             "color": "#000000",
             "width": 2
            },
            "opacity": 1,
            "size": 10
           },
           "mode": "markers",
           "type": "scatter",
           "x": [
            316
           ],
           "y": [
            -97
           ]
          },
          {
           "line": {
            "color": "red",
            "width": 2
           },
           "mode": "lines",
           "name": "Abraham Lucas motion path",
           "type": "scatter",
           "x": [],
           "y": []
          }
         ],
         "name": "68"
        },
        {
         "data": [
          {
           "marker": {
            "color": "#ffffff",
            "line": {
             "color": "#000000",
             "width": 2
            },
            "opacity": 1,
            "size": 10
           },
           "mode": "markers",
           "type": "scatter",
           "x": [
            -8
           ],
           "y": [
            -138
           ]
          },
          {
           "line": {
            "color": "red",
            "width": 2
           },
           "mode": "lines",
           "name": "Geno Smith motion path",
           "type": "scatter",
           "x": [],
           "y": []
          },
          {
           "marker": {
            "color": "#ffffff",
            "line": {
             "color": "#000000",
             "width": 2
            },
            "opacity": 1,
            "size": 10
           },
           "mode": "markers",
           "type": "scatter",
           "x": [
            161
           ],
           "y": [
            -90
           ]
          },
          {
           "line": {
            "color": "red",
            "width": 2
           },
           "mode": "lines",
           "name": "Gabe Jackson motion path",
           "type": "scatter",
           "x": [],
           "y": []
          },
          {
           "marker": {
            "color": "#ffffff",
            "line": {
             "color": "#000000",
             "width": 2
            },
            "opacity": 1,
            "size": 10
           },
           "mode": "markers",
           "type": "scatter",
           "x": [
            956
           ],
           "y": [
            -30
           ]
          },
          {
           "line": {
            "color": "red",
            "width": 2
           },
           "mode": "lines",
           "name": "Tyler Lockett motion path",
           "type": "scatter",
           "x": [],
           "y": []
          },
          {
           "marker": {
            "color": "#ffffff",
            "line": {
             "color": "#000000",
             "width": 2
            },
            "opacity": 1,
            "size": 10
           },
           "mode": "markers",
           "type": "scatter",
           "x": [
            -15
           ],
           "y": [
            -24
           ]
          },
          {
           "line": {
            "color": "red",
            "width": 2
           },
           "mode": "lines",
           "name": "Austin Blythe motion path",
           "type": "scatter",
           "x": [],
           "y": []
          },
          {
           "marker": {
            "color": "#ffffff",
            "line": {
             "color": "#000000",
             "width": 2
            },
            "opacity": 1,
            "size": 10
           },
           "mode": "markers",
           "type": "scatter",
           "x": [
            1
           ],
           "y": [
            -745
           ]
          },
          {
           "line": {
            "color": "red",
            "width": 2
           },
           "mode": "lines",
           "name": "Rashaad Penny motion path",
           "type": "scatter",
           "x": [],
           "y": []
          },
          {
           "marker": {
            "color": "#ff0000",
            "line": {
             "color": "#000000",
             "width": 2
            },
            "opacity": 1,
            "size": 10
           },
           "mode": "markers",
           "type": "scatter",
           "x": [
            -170
           ],
           "y": [
            -432
           ]
          },
          {
           "hoverinfo": "none",
           "marker": {
            "color": "rgba(255, 0, 0, 0.5)",
            "line": {
             "color": "red",
             "width": 2
            },
            "size": 20
           },
           "mode": "markers",
           "name": "Will Dissly in motion",
           "type": "scatter",
           "x": [
            -170
           ],
           "y": [
            -432
           ]
          },
          {
           "line": {
            "color": "red",
            "width": 2
           },
           "mode": "lines",
           "name": "Will Dissly motion path",
           "type": "scatter",
           "x": [
            -238,
            -230,
            -220,
            -206,
            -190,
            -170
           ],
           "y": [
            -464,
            -460,
            -456,
            -450,
            -442,
            -432
           ]
          },
          {
           "marker": {
            "color": "#ff0000",
            "line": {
             "color": "#000000",
             "width": 2
            },
            "opacity": 1,
            "size": 10
           },
           "mode": "markers",
           "type": "scatter",
           "x": [
            -457
           ],
           "y": [
            -195
           ]
          },
          {
           "line": {
            "color": "red",
            "width": 2
           },
           "mode": "lines",
           "name": "Noah Fant motion path",
           "type": "scatter",
           "x": [],
           "y": []
          },
          {
           "marker": {
            "color": "#ffffff",
            "line": {
             "color": "#000000",
             "width": 2
            },
            "opacity": 1,
            "size": 10
           },
           "mode": "markers",
           "type": "scatter",
           "x": [
            -942
           ],
           "y": [
            -92
           ]
          },
          {
           "line": {
            "color": "red",
            "width": 2
           },
           "mode": "lines",
           "name": "DK Metcalf motion path",
           "type": "scatter",
           "x": [],
           "y": []
          },
          {
           "marker": {
            "color": "#ffffff",
            "line": {
             "color": "#000000",
             "width": 2
            },
            "opacity": 1,
            "size": 10
           },
           "mode": "markers",
           "type": "scatter",
           "x": [
            -155
           ],
           "y": [
            -93
           ]
          },
          {
           "line": {
            "color": "red",
            "width": 2
           },
           "mode": "lines",
           "name": "Phil Haynes motion path",
           "type": "scatter",
           "x": [],
           "y": []
          },
          {
           "marker": {
            "color": "#ffffff",
            "line": {
             "color": "#000000",
             "width": 2
            },
            "opacity": 1,
            "size": 10
           },
           "mode": "markers",
           "type": "scatter",
           "x": [
            -292
           ],
           "y": [
            -117
           ]
          },
          {
           "line": {
            "color": "red",
            "width": 2
           },
           "mode": "lines",
           "name": "Charles Cross motion path",
           "type": "scatter",
           "x": [],
           "y": []
          },
          {
           "marker": {
            "color": "#ffffff",
            "line": {
             "color": "#000000",
             "width": 2
            },
            "opacity": 1,
            "size": 10
           },
           "mode": "markers",
           "type": "scatter",
           "x": [
            317
           ],
           "y": [
            -98
           ]
          },
          {
           "line": {
            "color": "red",
            "width": 2
           },
           "mode": "lines",
           "name": "Abraham Lucas motion path",
           "type": "scatter",
           "x": [],
           "y": []
          }
         ],
         "name": "69"
        },
        {
         "data": [
          {
           "marker": {
            "color": "#ffffff",
            "line": {
             "color": "#000000",
             "width": 2
            },
            "opacity": 1,
            "size": 10
           },
           "mode": "markers",
           "type": "scatter",
           "x": [
            -8
           ],
           "y": [
            -138
           ]
          },
          {
           "line": {
            "color": "red",
            "width": 2
           },
           "mode": "lines",
           "name": "Geno Smith motion path",
           "type": "scatter",
           "x": [],
           "y": []
          },
          {
           "marker": {
            "color": "#ffffff",
            "line": {
             "color": "#000000",
             "width": 2
            },
            "opacity": 1,
            "size": 10
           },
           "mode": "markers",
           "type": "scatter",
           "x": [
            162
           ],
           "y": [
            -91
           ]
          },
          {
           "line": {
            "color": "red",
            "width": 2
           },
           "mode": "lines",
           "name": "Gabe Jackson motion path",
           "type": "scatter",
           "x": [],
           "y": []
          },
          {
           "marker": {
            "color": "#ffffff",
            "line": {
             "color": "#000000",
             "width": 2
            },
            "opacity": 1,
            "size": 10
           },
           "mode": "markers",
           "type": "scatter",
           "x": [
            955
           ],
           "y": [
            -29
           ]
          },
          {
           "line": {
            "color": "red",
            "width": 2
           },
           "mode": "lines",
           "name": "Tyler Lockett motion path",
           "type": "scatter",
           "x": [],
           "y": []
          },
          {
           "marker": {
            "color": "#ffffff",
            "line": {
             "color": "#000000",
             "width": 2
            },
            "opacity": 1,
            "size": 10
           },
           "mode": "markers",
           "type": "scatter",
           "x": [
            -15
           ],
           "y": [
            -23
           ]
          },
          {
           "line": {
            "color": "red",
            "width": 2
           },
           "mode": "lines",
           "name": "Austin Blythe motion path",
           "type": "scatter",
           "x": [],
           "y": []
          },
          {
           "marker": {
            "color": "#ffffff",
            "line": {
             "color": "#000000",
             "width": 2
            },
            "opacity": 1,
            "size": 10
           },
           "mode": "markers",
           "type": "scatter",
           "x": [
            1
           ],
           "y": [
            -745
           ]
          },
          {
           "line": {
            "color": "red",
            "width": 2
           },
           "mode": "lines",
           "name": "Rashaad Penny motion path",
           "type": "scatter",
           "x": [],
           "y": []
          },
          {
           "marker": {
            "color": "#ff0000",
            "line": {
             "color": "#000000",
             "width": 2
            },
            "opacity": 1,
            "size": 10
           },
           "mode": "markers",
           "type": "scatter",
           "x": [
            -147
           ],
           "y": [
            -421
           ]
          },
          {
           "hoverinfo": "none",
           "marker": {
            "color": "rgba(255, 0, 0, 0.5)",
            "line": {
             "color": "red",
             "width": 2
            },
            "size": 20
           },
           "mode": "markers",
           "name": "Will Dissly in motion",
           "type": "scatter",
           "x": [
            -147
           ],
           "y": [
            -421
           ]
          },
          {
           "line": {
            "color": "red",
            "width": 2
           },
           "mode": "lines",
           "name": "Will Dissly motion path",
           "type": "scatter",
           "x": [
            -238,
            -230,
            -220,
            -206,
            -190,
            -170,
            -147
           ],
           "y": [
            -464,
            -460,
            -456,
            -450,
            -442,
            -432,
            -421
           ]
          },
          {
           "marker": {
            "color": "#ff0000",
            "line": {
             "color": "#000000",
             "width": 2
            },
            "opacity": 1,
            "size": 10
           },
           "mode": "markers",
           "type": "scatter",
           "x": [
            -457
           ],
           "y": [
            -195
           ]
          },
          {
           "line": {
            "color": "red",
            "width": 2
           },
           "mode": "lines",
           "name": "Noah Fant motion path",
           "type": "scatter",
           "x": [],
           "y": []
          },
          {
           "marker": {
            "color": "#ffffff",
            "line": {
             "color": "#000000",
             "width": 2
            },
            "opacity": 1,
            "size": 10
           },
           "mode": "markers",
           "type": "scatter",
           "x": [
            -942
           ],
           "y": [
            -93
           ]
          },
          {
           "line": {
            "color": "red",
            "width": 2
           },
           "mode": "lines",
           "name": "DK Metcalf motion path",
           "type": "scatter",
           "x": [],
           "y": []
          },
          {
           "marker": {
            "color": "#ffffff",
            "line": {
             "color": "#000000",
             "width": 2
            },
            "opacity": 1,
            "size": 10
           },
           "mode": "markers",
           "type": "scatter",
           "x": [
            -156
           ],
           "y": [
            -93
           ]
          },
          {
           "line": {
            "color": "red",
            "width": 2
           },
           "mode": "lines",
           "name": "Phil Haynes motion path",
           "type": "scatter",
           "x": [],
           "y": []
          },
          {
           "marker": {
            "color": "#ffffff",
            "line": {
             "color": "#000000",
             "width": 2
            },
            "opacity": 1,
            "size": 10
           },
           "mode": "markers",
           "type": "scatter",
           "x": [
            -292
           ],
           "y": [
            -116
           ]
          },
          {
           "line": {
            "color": "red",
            "width": 2
           },
           "mode": "lines",
           "name": "Charles Cross motion path",
           "type": "scatter",
           "x": [],
           "y": []
          },
          {
           "marker": {
            "color": "#ffffff",
            "line": {
             "color": "#000000",
             "width": 2
            },
            "opacity": 1,
            "size": 10
           },
           "mode": "markers",
           "type": "scatter",
           "x": [
            316
           ],
           "y": [
            -98
           ]
          },
          {
           "line": {
            "color": "red",
            "width": 2
           },
           "mode": "lines",
           "name": "Abraham Lucas motion path",
           "type": "scatter",
           "x": [],
           "y": []
          }
         ],
         "name": "70"
        },
        {
         "data": [
          {
           "marker": {
            "color": "#ffffff",
            "line": {
             "color": "#000000",
             "width": 2
            },
            "opacity": 1,
            "size": 10
           },
           "mode": "markers",
           "type": "scatter",
           "x": [
            -8
           ],
           "y": [
            -140
           ]
          },
          {
           "line": {
            "color": "red",
            "width": 2
           },
           "mode": "lines",
           "name": "Geno Smith motion path",
           "type": "scatter",
           "x": [],
           "y": []
          },
          {
           "marker": {
            "color": "#ffffff",
            "line": {
             "color": "#000000",
             "width": 2
            },
            "opacity": 1,
            "size": 10
           },
           "mode": "markers",
           "type": "scatter",
           "x": [
            162
           ],
           "y": [
            -92
           ]
          },
          {
           "line": {
            "color": "red",
            "width": 2
           },
           "mode": "lines",
           "name": "Gabe Jackson motion path",
           "type": "scatter",
           "x": [],
           "y": []
          },
          {
           "marker": {
            "color": "#ffffff",
            "line": {
             "color": "#000000",
             "width": 2
            },
            "opacity": 1,
            "size": 10
           },
           "mode": "markers",
           "type": "scatter",
           "x": [
            955
           ],
           "y": [
            -29
           ]
          },
          {
           "line": {
            "color": "red",
            "width": 2
           },
           "mode": "lines",
           "name": "Tyler Lockett motion path",
           "type": "scatter",
           "x": [],
           "y": []
          },
          {
           "marker": {
            "color": "#ffffff",
            "line": {
             "color": "#000000",
             "width": 2
            },
            "opacity": 1,
            "size": 10
           },
           "mode": "markers",
           "type": "scatter",
           "x": [
            -15
           ],
           "y": [
            -22
           ]
          },
          {
           "line": {
            "color": "red",
            "width": 2
           },
           "mode": "lines",
           "name": "Austin Blythe motion path",
           "type": "scatter",
           "x": [],
           "y": []
          },
          {
           "marker": {
            "color": "#ffffff",
            "line": {
             "color": "#000000",
             "width": 2
            },
            "opacity": 1,
            "size": 10
           },
           "mode": "markers",
           "type": "scatter",
           "x": [
            1
           ],
           "y": [
            -745
           ]
          },
          {
           "line": {
            "color": "red",
            "width": 2
           },
           "mode": "lines",
           "name": "Rashaad Penny motion path",
           "type": "scatter",
           "x": [],
           "y": []
          },
          {
           "marker": {
            "color": "#ff0000",
            "line": {
             "color": "#000000",
             "width": 2
            },
            "opacity": 1,
            "size": 10
           },
           "mode": "markers",
           "type": "scatter",
           "x": [
            -120
           ],
           "y": [
            -409
           ]
          },
          {
           "hoverinfo": "none",
           "marker": {
            "color": "rgba(255, 0, 0, 0.5)",
            "line": {
             "color": "red",
             "width": 2
            },
            "size": 20
           },
           "mode": "markers",
           "name": "Will Dissly in motion",
           "type": "scatter",
           "x": [
            -120
           ],
           "y": [
            -409
           ]
          },
          {
           "line": {
            "color": "red",
            "width": 2
           },
           "mode": "lines",
           "name": "Will Dissly motion path",
           "type": "scatter",
           "x": [
            -238,
            -230,
            -220,
            -206,
            -190,
            -170,
            -147,
            -120
           ],
           "y": [
            -464,
            -460,
            -456,
            -450,
            -442,
            -432,
            -421,
            -409
           ]
          },
          {
           "marker": {
            "color": "#ff0000",
            "line": {
             "color": "#000000",
             "width": 2
            },
            "opacity": 1,
            "size": 10
           },
           "mode": "markers",
           "type": "scatter",
           "x": [
            -458
           ],
           "y": [
            -195
           ]
          },
          {
           "line": {
            "color": "red",
            "width": 2
           },
           "mode": "lines",
           "name": "Noah Fant motion path",
           "type": "scatter",
           "x": [],
           "y": []
          },
          {
           "marker": {
            "color": "#ffffff",
            "line": {
             "color": "#000000",
             "width": 2
            },
            "opacity": 1,
            "size": 10
           },
           "mode": "markers",
           "type": "scatter",
           "x": [
            -943
           ],
           "y": [
            -93
           ]
          },
          {
           "line": {
            "color": "red",
            "width": 2
           },
           "mode": "lines",
           "name": "DK Metcalf motion path",
           "type": "scatter",
           "x": [],
           "y": []
          },
          {
           "marker": {
            "color": "#ffffff",
            "line": {
             "color": "#000000",
             "width": 2
            },
            "opacity": 1,
            "size": 10
           },
           "mode": "markers",
           "type": "scatter",
           "x": [
            -156
           ],
           "y": [
            -93
           ]
          },
          {
           "line": {
            "color": "red",
            "width": 2
           },
           "mode": "lines",
           "name": "Phil Haynes motion path",
           "type": "scatter",
           "x": [],
           "y": []
          },
          {
           "marker": {
            "color": "#ffffff",
            "line": {
             "color": "#000000",
             "width": 2
            },
            "opacity": 1,
            "size": 10
           },
           "mode": "markers",
           "type": "scatter",
           "x": [
            -292
           ],
           "y": [
            -116
           ]
          },
          {
           "line": {
            "color": "red",
            "width": 2
           },
           "mode": "lines",
           "name": "Charles Cross motion path",
           "type": "scatter",
           "x": [],
           "y": []
          },
          {
           "marker": {
            "color": "#ffffff",
            "line": {
             "color": "#000000",
             "width": 2
            },
            "opacity": 1,
            "size": 10
           },
           "mode": "markers",
           "type": "scatter",
           "x": [
            316
           ],
           "y": [
            -98
           ]
          },
          {
           "line": {
            "color": "red",
            "width": 2
           },
           "mode": "lines",
           "name": "Abraham Lucas motion path",
           "type": "scatter",
           "x": [],
           "y": []
          }
         ],
         "name": "71"
        },
        {
         "data": [
          {
           "marker": {
            "color": "#ffffff",
            "line": {
             "color": "#000000",
             "width": 2
            },
            "opacity": 1,
            "size": 10
           },
           "mode": "markers",
           "type": "scatter",
           "x": [
            -8
           ],
           "y": [
            -140
           ]
          },
          {
           "line": {
            "color": "red",
            "width": 2
           },
           "mode": "lines",
           "name": "Geno Smith motion path",
           "type": "scatter",
           "x": [],
           "y": []
          },
          {
           "marker": {
            "color": "#ffffff",
            "line": {
             "color": "#000000",
             "width": 2
            },
            "opacity": 1,
            "size": 10
           },
           "mode": "markers",
           "type": "scatter",
           "x": [
            163
           ],
           "y": [
            -92
           ]
          },
          {
           "line": {
            "color": "red",
            "width": 2
           },
           "mode": "lines",
           "name": "Gabe Jackson motion path",
           "type": "scatter",
           "x": [],
           "y": []
          },
          {
           "marker": {
            "color": "#ffffff",
            "line": {
             "color": "#000000",
             "width": 2
            },
            "opacity": 1,
            "size": 10
           },
           "mode": "markers",
           "type": "scatter",
           "x": [
            956
           ],
           "y": [
            -30
           ]
          },
          {
           "line": {
            "color": "red",
            "width": 2
           },
           "mode": "lines",
           "name": "Tyler Lockett motion path",
           "type": "scatter",
           "x": [],
           "y": []
          },
          {
           "marker": {
            "color": "#ffffff",
            "line": {
             "color": "#000000",
             "width": 2
            },
            "opacity": 1,
            "size": 10
           },
           "mode": "markers",
           "type": "scatter",
           "x": [
            -15
           ],
           "y": [
            -22
           ]
          },
          {
           "line": {
            "color": "red",
            "width": 2
           },
           "mode": "lines",
           "name": "Austin Blythe motion path",
           "type": "scatter",
           "x": [],
           "y": []
          },
          {
           "marker": {
            "color": "#ffffff",
            "line": {
             "color": "#000000",
             "width": 2
            },
            "opacity": 1,
            "size": 10
           },
           "mode": "markers",
           "type": "scatter",
           "x": [
            0
           ],
           "y": [
            -743
           ]
          },
          {
           "line": {
            "color": "red",
            "width": 2
           },
           "mode": "lines",
           "name": "Rashaad Penny motion path",
           "type": "scatter",
           "x": [],
           "y": []
          },
          {
           "marker": {
            "color": "#ff0000",
            "line": {
             "color": "#000000",
             "width": 2
            },
            "opacity": 1,
            "size": 10
           },
           "mode": "markers",
           "type": "scatter",
           "x": [
            -89
           ],
           "y": [
            -392
           ]
          },
          {
           "hoverinfo": "none",
           "marker": {
            "color": "rgba(255, 0, 0, 0.5)",
            "line": {
             "color": "red",
             "width": 2
            },
            "size": 20
           },
           "mode": "markers",
           "name": "Will Dissly in motion",
           "type": "scatter",
           "x": [
            -89
           ],
           "y": [
            -392
           ]
          },
          {
           "line": {
            "color": "red",
            "width": 2
           },
           "mode": "lines",
           "name": "Will Dissly motion path",
           "type": "scatter",
           "x": [
            -238,
            -230,
            -220,
            -206,
            -190,
            -170,
            -147,
            -120,
            -89
           ],
           "y": [
            -464,
            -460,
            -456,
            -450,
            -442,
            -432,
            -421,
            -409,
            -392
           ]
          },
          {
           "marker": {
            "color": "#ff0000",
            "line": {
             "color": "#000000",
             "width": 2
            },
            "opacity": 1,
            "size": 10
           },
           "mode": "markers",
           "type": "scatter",
           "x": [
            -459
           ],
           "y": [
            -195
           ]
          },
          {
           "line": {
            "color": "red",
            "width": 2
           },
           "mode": "lines",
           "name": "Noah Fant motion path",
           "type": "scatter",
           "x": [],
           "y": []
          },
          {
           "marker": {
            "color": "#ffffff",
            "line": {
             "color": "#000000",
             "width": 2
            },
            "opacity": 1,
            "size": 10
           },
           "mode": "markers",
           "type": "scatter",
           "x": [
            -943
           ],
           "y": [
            -93
           ]
          },
          {
           "line": {
            "color": "red",
            "width": 2
           },
           "mode": "lines",
           "name": "DK Metcalf motion path",
           "type": "scatter",
           "x": [],
           "y": []
          },
          {
           "marker": {
            "color": "#ffffff",
            "line": {
             "color": "#000000",
             "width": 2
            },
            "opacity": 1,
            "size": 10
           },
           "mode": "markers",
           "type": "scatter",
           "x": [
            -156
           ],
           "y": [
            -92
           ]
          },
          {
           "line": {
            "color": "red",
            "width": 2
           },
           "mode": "lines",
           "name": "Phil Haynes motion path",
           "type": "scatter",
           "x": [],
           "y": []
          },
          {
           "marker": {
            "color": "#ffffff",
            "line": {
             "color": "#000000",
             "width": 2
            },
            "opacity": 1,
            "size": 10
           },
           "mode": "markers",
           "type": "scatter",
           "x": [
            -292
           ],
           "y": [
            -116
           ]
          },
          {
           "line": {
            "color": "red",
            "width": 2
           },
           "mode": "lines",
           "name": "Charles Cross motion path",
           "type": "scatter",
           "x": [],
           "y": []
          },
          {
           "marker": {
            "color": "#ffffff",
            "line": {
             "color": "#000000",
             "width": 2
            },
            "opacity": 1,
            "size": 10
           },
           "mode": "markers",
           "type": "scatter",
           "x": [
            316
           ],
           "y": [
            -98
           ]
          },
          {
           "line": {
            "color": "red",
            "width": 2
           },
           "mode": "lines",
           "name": "Abraham Lucas motion path",
           "type": "scatter",
           "x": [],
           "y": []
          }
         ],
         "name": "72"
        },
        {
         "data": [
          {
           "marker": {
            "color": "#ffffff",
            "line": {
             "color": "#000000",
             "width": 2
            },
            "opacity": 1,
            "size": 10
           },
           "mode": "markers",
           "type": "scatter",
           "x": [
            -8
           ],
           "y": [
            -141
           ]
          },
          {
           "line": {
            "color": "red",
            "width": 2
           },
           "mode": "lines",
           "name": "Geno Smith motion path",
           "type": "scatter",
           "x": [],
           "y": []
          },
          {
           "marker": {
            "color": "#ffffff",
            "line": {
             "color": "#000000",
             "width": 2
            },
            "opacity": 1,
            "size": 10
           },
           "mode": "markers",
           "type": "scatter",
           "x": [
            163
           ],
           "y": [
            -94
           ]
          },
          {
           "line": {
            "color": "red",
            "width": 2
           },
           "mode": "lines",
           "name": "Gabe Jackson motion path",
           "type": "scatter",
           "x": [],
           "y": []
          },
          {
           "marker": {
            "color": "#ffffff",
            "line": {
             "color": "#000000",
             "width": 2
            },
            "opacity": 1,
            "size": 10
           },
           "mode": "markers",
           "type": "scatter",
           "x": [
            957
           ],
           "y": [
            -31
           ]
          },
          {
           "line": {
            "color": "red",
            "width": 2
           },
           "mode": "lines",
           "name": "Tyler Lockett motion path",
           "type": "scatter",
           "x": [],
           "y": []
          },
          {
           "marker": {
            "color": "#ffffff",
            "line": {
             "color": "#000000",
             "width": 2
            },
            "opacity": 1,
            "size": 10
           },
           "mode": "markers",
           "type": "scatter",
           "x": [
            -14
           ],
           "y": [
            -22
           ]
          },
          {
           "line": {
            "color": "red",
            "width": 2
           },
           "mode": "lines",
           "name": "Austin Blythe motion path",
           "type": "scatter",
           "x": [],
           "y": []
          },
          {
           "marker": {
            "color": "#ffffff",
            "line": {
             "color": "#000000",
             "width": 2
            },
            "opacity": 1,
            "size": 10
           },
           "mode": "markers",
           "type": "scatter",
           "x": [
            0
           ],
           "y": [
            -744
           ]
          },
          {
           "line": {
            "color": "red",
            "width": 2
           },
           "mode": "lines",
           "name": "Rashaad Penny motion path",
           "type": "scatter",
           "x": [],
           "y": []
          },
          {
           "marker": {
            "color": "#ff0000",
            "line": {
             "color": "#000000",
             "width": 2
            },
            "opacity": 1,
            "size": 10
           },
           "mode": "markers",
           "type": "scatter",
           "x": [
            -56
           ],
           "y": [
            -378
           ]
          },
          {
           "hoverinfo": "none",
           "marker": {
            "color": "rgba(255, 0, 0, 0.5)",
            "line": {
             "color": "red",
             "width": 2
            },
            "size": 20
           },
           "mode": "markers",
           "name": "Will Dissly in motion",
           "type": "scatter",
           "x": [
            -56
           ],
           "y": [
            -378
           ]
          },
          {
           "line": {
            "color": "red",
            "width": 2
           },
           "mode": "lines",
           "name": "Will Dissly motion path",
           "type": "scatter",
           "x": [
            -238,
            -230,
            -220,
            -206,
            -190,
            -170,
            -147,
            -120,
            -89,
            -56
           ],
           "y": [
            -464,
            -460,
            -456,
            -450,
            -442,
            -432,
            -421,
            -409,
            -392,
            -378
           ]
          },
          {
           "marker": {
            "color": "#ff0000",
            "line": {
             "color": "#000000",
             "width": 2
            },
            "opacity": 1,
            "size": 10
           },
           "mode": "markers",
           "type": "scatter",
           "x": [
            -460
           ],
           "y": [
            -196
           ]
          },
          {
           "line": {
            "color": "red",
            "width": 2
           },
           "mode": "lines",
           "name": "Noah Fant motion path",
           "type": "scatter",
           "x": [],
           "y": []
          },
          {
           "marker": {
            "color": "#ffffff",
            "line": {
             "color": "#000000",
             "width": 2
            },
            "opacity": 1,
            "size": 10
           },
           "mode": "markers",
           "type": "scatter",
           "x": [
            -942
           ],
           "y": [
            -94
           ]
          },
          {
           "line": {
            "color": "red",
            "width": 2
           },
           "mode": "lines",
           "name": "DK Metcalf motion path",
           "type": "scatter",
           "x": [],
           "y": []
          },
          {
           "marker": {
            "color": "#ffffff",
            "line": {
             "color": "#000000",
             "width": 2
            },
            "opacity": 1,
            "size": 10
           },
           "mode": "markers",
           "type": "scatter",
           "x": [
            -156
           ],
           "y": [
            -93
           ]
          },
          {
           "line": {
            "color": "red",
            "width": 2
           },
           "mode": "lines",
           "name": "Phil Haynes motion path",
           "type": "scatter",
           "x": [],
           "y": []
          },
          {
           "marker": {
            "color": "#ffffff",
            "line": {
             "color": "#000000",
             "width": 2
            },
            "opacity": 1,
            "size": 10
           },
           "mode": "markers",
           "type": "scatter",
           "x": [
            -292
           ],
           "y": [
            -117
           ]
          },
          {
           "line": {
            "color": "red",
            "width": 2
           },
           "mode": "lines",
           "name": "Charles Cross motion path",
           "type": "scatter",
           "x": [],
           "y": []
          },
          {
           "marker": {
            "color": "#ffffff",
            "line": {
             "color": "#000000",
             "width": 2
            },
            "opacity": 1,
            "size": 10
           },
           "mode": "markers",
           "type": "scatter",
           "x": [
            316
           ],
           "y": [
            -99
           ]
          },
          {
           "line": {
            "color": "red",
            "width": 2
           },
           "mode": "lines",
           "name": "Abraham Lucas motion path",
           "type": "scatter",
           "x": [],
           "y": []
          }
         ],
         "name": "73"
        },
        {
         "data": [
          {
           "marker": {
            "color": "#ffffff",
            "line": {
             "color": "#000000",
             "width": 2
            },
            "opacity": 1,
            "size": 10
           },
           "mode": "markers",
           "type": "scatter",
           "x": [
            -8
           ],
           "y": [
            -141
           ]
          },
          {
           "line": {
            "color": "red",
            "width": 2
           },
           "mode": "lines",
           "name": "Geno Smith motion path",
           "type": "scatter",
           "x": [],
           "y": []
          },
          {
           "marker": {
            "color": "#ffffff",
            "line": {
             "color": "#000000",
             "width": 2
            },
            "opacity": 1,
            "size": 10
           },
           "mode": "markers",
           "type": "scatter",
           "x": [
            163
           ],
           "y": [
            -93
           ]
          },
          {
           "line": {
            "color": "red",
            "width": 2
           },
           "mode": "lines",
           "name": "Gabe Jackson motion path",
           "type": "scatter",
           "x": [],
           "y": []
          },
          {
           "marker": {
            "color": "#ffffff",
            "line": {
             "color": "#000000",
             "width": 2
            },
            "opacity": 1,
            "size": 10
           },
           "mode": "markers",
           "type": "scatter",
           "x": [
            958
           ],
           "y": [
            -31
           ]
          },
          {
           "line": {
            "color": "red",
            "width": 2
           },
           "mode": "lines",
           "name": "Tyler Lockett motion path",
           "type": "scatter",
           "x": [],
           "y": []
          },
          {
           "marker": {
            "color": "#ffffff",
            "line": {
             "color": "#000000",
             "width": 2
            },
            "opacity": 1,
            "size": 10
           },
           "mode": "markers",
           "type": "scatter",
           "x": [
            -14
           ],
           "y": [
            -22
           ]
          },
          {
           "line": {
            "color": "red",
            "width": 2
           },
           "mode": "lines",
           "name": "Austin Blythe motion path",
           "type": "scatter",
           "x": [],
           "y": []
          },
          {
           "marker": {
            "color": "#ffffff",
            "line": {
             "color": "#000000",
             "width": 2
            },
            "opacity": 1,
            "size": 10
           },
           "mode": "markers",
           "type": "scatter",
           "x": [
            0
           ],
           "y": [
            -743
           ]
          },
          {
           "line": {
            "color": "red",
            "width": 2
           },
           "mode": "lines",
           "name": "Rashaad Penny motion path",
           "type": "scatter",
           "x": [],
           "y": []
          },
          {
           "marker": {
            "color": "#ff0000",
            "line": {
             "color": "#000000",
             "width": 2
            },
            "opacity": 1,
            "size": 10
           },
           "mode": "markers",
           "type": "scatter",
           "x": [
            -19
           ],
           "y": [
            -360
           ]
          },
          {
           "hoverinfo": "none",
           "marker": {
            "color": "rgba(255, 0, 0, 0.5)",
            "line": {
             "color": "red",
             "width": 2
            },
            "size": 20
           },
           "mode": "markers",
           "name": "Will Dissly in motion",
           "type": "scatter",
           "x": [
            -19
           ],
           "y": [
            -360
           ]
          },
          {
           "line": {
            "color": "red",
            "width": 2
           },
           "mode": "lines",
           "name": "Will Dissly motion path",
           "type": "scatter",
           "x": [
            -238,
            -230,
            -220,
            -206,
            -190,
            -170,
            -147,
            -120,
            -89,
            -56,
            -19
           ],
           "y": [
            -464,
            -460,
            -456,
            -450,
            -442,
            -432,
            -421,
            -409,
            -392,
            -378,
            -360
           ]
          },
          {
           "marker": {
            "color": "#ff0000",
            "line": {
             "color": "#000000",
             "width": 2
            },
            "opacity": 1,
            "size": 10
           },
           "mode": "markers",
           "type": "scatter",
           "x": [
            -461
           ],
           "y": [
            -196
           ]
          },
          {
           "line": {
            "color": "red",
            "width": 2
           },
           "mode": "lines",
           "name": "Noah Fant motion path",
           "type": "scatter",
           "x": [],
           "y": []
          },
          {
           "marker": {
            "color": "#ffffff",
            "line": {
             "color": "#000000",
             "width": 2
            },
            "opacity": 1,
            "size": 10
           },
           "mode": "markers",
           "type": "scatter",
           "x": [
            -942
           ],
           "y": [
            -94
           ]
          },
          {
           "line": {
            "color": "red",
            "width": 2
           },
           "mode": "lines",
           "name": "DK Metcalf motion path",
           "type": "scatter",
           "x": [],
           "y": []
          },
          {
           "marker": {
            "color": "#ffffff",
            "line": {
             "color": "#000000",
             "width": 2
            },
            "opacity": 1,
            "size": 10
           },
           "mode": "markers",
           "type": "scatter",
           "x": [
            -155
           ],
           "y": [
            -92
           ]
          },
          {
           "line": {
            "color": "red",
            "width": 2
           },
           "mode": "lines",
           "name": "Phil Haynes motion path",
           "type": "scatter",
           "x": [],
           "y": []
          },
          {
           "marker": {
            "color": "#ffffff",
            "line": {
             "color": "#000000",
             "width": 2
            },
            "opacity": 1,
            "size": 10
           },
           "mode": "markers",
           "type": "scatter",
           "x": [
            -293
           ],
           "y": [
            -118
           ]
          },
          {
           "line": {
            "color": "red",
            "width": 2
           },
           "mode": "lines",
           "name": "Charles Cross motion path",
           "type": "scatter",
           "x": [],
           "y": []
          },
          {
           "marker": {
            "color": "#ffffff",
            "line": {
             "color": "#000000",
             "width": 2
            },
            "opacity": 1,
            "size": 10
           },
           "mode": "markers",
           "type": "scatter",
           "x": [
            315
           ],
           "y": [
            -99
           ]
          },
          {
           "line": {
            "color": "red",
            "width": 2
           },
           "mode": "lines",
           "name": "Abraham Lucas motion path",
           "type": "scatter",
           "x": [],
           "y": []
          }
         ],
         "name": "74"
        },
        {
         "data": [
          {
           "marker": {
            "color": "#ffffff",
            "line": {
             "color": "#000000",
             "width": 2
            },
            "opacity": 1,
            "size": 10
           },
           "mode": "markers",
           "type": "scatter",
           "x": [
            -7
           ],
           "y": [
            -141
           ]
          },
          {
           "line": {
            "color": "red",
            "width": 2
           },
           "mode": "lines",
           "name": "Geno Smith motion path",
           "type": "scatter",
           "x": [],
           "y": []
          },
          {
           "marker": {
            "color": "#ffffff",
            "line": {
             "color": "#000000",
             "width": 2
            },
            "opacity": 1,
            "size": 10
           },
           "mode": "markers",
           "type": "scatter",
           "x": [
            164
           ],
           "y": [
            -94
           ]
          },
          {
           "line": {
            "color": "red",
            "width": 2
           },
           "mode": "lines",
           "name": "Gabe Jackson motion path",
           "type": "scatter",
           "x": [],
           "y": []
          },
          {
           "marker": {
            "color": "#ffffff",
            "line": {
             "color": "#000000",
             "width": 2
            },
            "opacity": 1,
            "size": 10
           },
           "mode": "markers",
           "type": "scatter",
           "x": [
            961
           ],
           "y": [
            -32
           ]
          },
          {
           "line": {
            "color": "red",
            "width": 2
           },
           "mode": "lines",
           "name": "Tyler Lockett motion path",
           "type": "scatter",
           "x": [],
           "y": []
          },
          {
           "marker": {
            "color": "#ffffff",
            "line": {
             "color": "#000000",
             "width": 2
            },
            "opacity": 1,
            "size": 10
           },
           "mode": "markers",
           "type": "scatter",
           "x": [
            -13
           ],
           "y": [
            -22
           ]
          },
          {
           "line": {
            "color": "red",
            "width": 2
           },
           "mode": "lines",
           "name": "Austin Blythe motion path",
           "type": "scatter",
           "x": [],
           "y": []
          },
          {
           "marker": {
            "color": "#ffffff",
            "line": {
             "color": "#000000",
             "width": 2
            },
            "opacity": 1,
            "size": 10
           },
           "mode": "markers",
           "type": "scatter",
           "x": [
            0
           ],
           "y": [
            -742
           ]
          },
          {
           "line": {
            "color": "red",
            "width": 2
           },
           "mode": "lines",
           "name": "Rashaad Penny motion path",
           "type": "scatter",
           "x": [],
           "y": []
          },
          {
           "marker": {
            "color": "#ff0000",
            "line": {
             "color": "#000000",
             "width": 2
            },
            "opacity": 1,
            "size": 10
           },
           "mode": "markers",
           "type": "scatter",
           "x": [
            20
           ],
           "y": [
            -343
           ]
          },
          {
           "hoverinfo": "none",
           "marker": {
            "color": "rgba(255, 0, 0, 0.5)",
            "line": {
             "color": "red",
             "width": 2
            },
            "size": 20
           },
           "mode": "markers",
           "name": "Will Dissly in motion",
           "type": "scatter",
           "x": [
            20
           ],
           "y": [
            -343
           ]
          },
          {
           "line": {
            "color": "red",
            "width": 2
           },
           "mode": "lines",
           "name": "Will Dissly motion path",
           "type": "scatter",
           "x": [
            -238,
            -230,
            -220,
            -206,
            -190,
            -170,
            -147,
            -120,
            -89,
            -56,
            -19,
            20
           ],
           "y": [
            -464,
            -460,
            -456,
            -450,
            -442,
            -432,
            -421,
            -409,
            -392,
            -378,
            -360,
            -343
           ]
          },
          {
           "marker": {
            "color": "#ff0000",
            "line": {
             "color": "#000000",
             "width": 2
            },
            "opacity": 1,
            "size": 10
           },
           "mode": "markers",
           "type": "scatter",
           "x": [
            -460
           ],
           "y": [
            -196
           ]
          },
          {
           "line": {
            "color": "red",
            "width": 2
           },
           "mode": "lines",
           "name": "Noah Fant motion path",
           "type": "scatter",
           "x": [],
           "y": []
          },
          {
           "marker": {
            "color": "#ffffff",
            "line": {
             "color": "#000000",
             "width": 2
            },
            "opacity": 1,
            "size": 10
           },
           "mode": "markers",
           "type": "scatter",
           "x": [
            -939
           ],
           "y": [
            -94
           ]
          },
          {
           "line": {
            "color": "red",
            "width": 2
           },
           "mode": "lines",
           "name": "DK Metcalf motion path",
           "type": "scatter",
           "x": [],
           "y": []
          },
          {
           "marker": {
            "color": "#ffffff",
            "line": {
             "color": "#000000",
             "width": 2
            },
            "opacity": 1,
            "size": 10
           },
           "mode": "markers",
           "type": "scatter",
           "x": [
            -154
           ],
           "y": [
            -91
           ]
          },
          {
           "line": {
            "color": "red",
            "width": 2
           },
           "mode": "lines",
           "name": "Phil Haynes motion path",
           "type": "scatter",
           "x": [],
           "y": []
          },
          {
           "marker": {
            "color": "#ffffff",
            "line": {
             "color": "#000000",
             "width": 2
            },
            "opacity": 1,
            "size": 10
           },
           "mode": "markers",
           "type": "scatter",
           "x": [
            -292
           ],
           "y": [
            -118
           ]
          },
          {
           "line": {
            "color": "red",
            "width": 2
           },
           "mode": "lines",
           "name": "Charles Cross motion path",
           "type": "scatter",
           "x": [],
           "y": []
          },
          {
           "marker": {
            "color": "#ffffff",
            "line": {
             "color": "#000000",
             "width": 2
            },
            "opacity": 1,
            "size": 10
           },
           "mode": "markers",
           "type": "scatter",
           "x": [
            316
           ],
           "y": [
            -99
           ]
          },
          {
           "line": {
            "color": "red",
            "width": 2
           },
           "mode": "lines",
           "name": "Abraham Lucas motion path",
           "type": "scatter",
           "x": [],
           "y": []
          }
         ],
         "name": "75"
        },
        {
         "data": [
          {
           "marker": {
            "color": "#ffffff",
            "line": {
             "color": "#000000",
             "width": 2
            },
            "opacity": 1,
            "size": 10
           },
           "mode": "markers",
           "type": "scatter",
           "x": [
            -7
           ],
           "y": [
            -140
           ]
          },
          {
           "line": {
            "color": "red",
            "width": 2
           },
           "mode": "lines",
           "name": "Geno Smith motion path",
           "type": "scatter",
           "x": [],
           "y": []
          },
          {
           "marker": {
            "color": "#ffffff",
            "line": {
             "color": "#000000",
             "width": 2
            },
            "opacity": 1,
            "size": 10
           },
           "mode": "markers",
           "type": "scatter",
           "x": [
            164
           ],
           "y": [
            -93
           ]
          },
          {
           "line": {
            "color": "red",
            "width": 2
           },
           "mode": "lines",
           "name": "Gabe Jackson motion path",
           "type": "scatter",
           "x": [],
           "y": []
          },
          {
           "marker": {
            "color": "#ffffff",
            "line": {
             "color": "#000000",
             "width": 2
            },
            "opacity": 1,
            "size": 10
           },
           "mode": "markers",
           "type": "scatter",
           "x": [
            961
           ],
           "y": [
            -32
           ]
          },
          {
           "line": {
            "color": "red",
            "width": 2
           },
           "mode": "lines",
           "name": "Tyler Lockett motion path",
           "type": "scatter",
           "x": [],
           "y": []
          },
          {
           "marker": {
            "color": "#ffffff",
            "line": {
             "color": "#000000",
             "width": 2
            },
            "opacity": 1,
            "size": 10
           },
           "mode": "markers",
           "type": "scatter",
           "x": [
            -13
           ],
           "y": [
            -22
           ]
          },
          {
           "line": {
            "color": "red",
            "width": 2
           },
           "mode": "lines",
           "name": "Austin Blythe motion path",
           "type": "scatter",
           "x": [],
           "y": []
          },
          {
           "marker": {
            "color": "#ffffff",
            "line": {
             "color": "#000000",
             "width": 2
            },
            "opacity": 1,
            "size": 10
           },
           "mode": "markers",
           "type": "scatter",
           "x": [
            0
           ],
           "y": [
            -741
           ]
          },
          {
           "line": {
            "color": "red",
            "width": 2
           },
           "mode": "lines",
           "name": "Rashaad Penny motion path",
           "type": "scatter",
           "x": [],
           "y": []
          },
          {
           "marker": {
            "color": "#ff0000",
            "line": {
             "color": "#000000",
             "width": 2
            },
            "opacity": 1,
            "size": 10
           },
           "mode": "markers",
           "type": "scatter",
           "x": [
            60
           ],
           "y": [
            -326
           ]
          },
          {
           "hoverinfo": "none",
           "marker": {
            "color": "rgba(255, 0, 0, 0.5)",
            "line": {
             "color": "red",
             "width": 2
            },
            "size": 20
           },
           "mode": "markers",
           "name": "Will Dissly in motion",
           "type": "scatter",
           "x": [
            60
           ],
           "y": [
            -326
           ]
          },
          {
           "line": {
            "color": "red",
            "width": 2
           },
           "mode": "lines",
           "name": "Will Dissly motion path",
           "type": "scatter",
           "x": [
            -238,
            -230,
            -220,
            -206,
            -190,
            -170,
            -147,
            -120,
            -89,
            -56,
            -19,
            20,
            60
           ],
           "y": [
            -464,
            -460,
            -456,
            -450,
            -442,
            -432,
            -421,
            -409,
            -392,
            -378,
            -360,
            -343,
            -326
           ]
          },
          {
           "marker": {
            "color": "#ff0000",
            "line": {
             "color": "#000000",
             "width": 2
            },
            "opacity": 1,
            "size": 10
           },
           "mode": "markers",
           "type": "scatter",
           "x": [
            -460
           ],
           "y": [
            -196
           ]
          },
          {
           "line": {
            "color": "red",
            "width": 2
           },
           "mode": "lines",
           "name": "Noah Fant motion path",
           "type": "scatter",
           "x": [],
           "y": []
          },
          {
           "marker": {
            "color": "#ffffff",
            "line": {
             "color": "#000000",
             "width": 2
            },
            "opacity": 1,
            "size": 10
           },
           "mode": "markers",
           "type": "scatter",
           "x": [
            -939
           ],
           "y": [
            -93
           ]
          },
          {
           "line": {
            "color": "red",
            "width": 2
           },
           "mode": "lines",
           "name": "DK Metcalf motion path",
           "type": "scatter",
           "x": [],
           "y": []
          },
          {
           "marker": {
            "color": "#ffffff",
            "line": {
             "color": "#000000",
             "width": 2
            },
            "opacity": 1,
            "size": 10
           },
           "mode": "markers",
           "type": "scatter",
           "x": [
            -154
           ],
           "y": [
            -90
           ]
          },
          {
           "line": {
            "color": "red",
            "width": 2
           },
           "mode": "lines",
           "name": "Phil Haynes motion path",
           "type": "scatter",
           "x": [],
           "y": []
          },
          {
           "marker": {
            "color": "#ffffff",
            "line": {
             "color": "#000000",
             "width": 2
            },
            "opacity": 1,
            "size": 10
           },
           "mode": "markers",
           "type": "scatter",
           "x": [
            -292
           ],
           "y": [
            -119
           ]
          },
          {
           "line": {
            "color": "red",
            "width": 2
           },
           "mode": "lines",
           "name": "Charles Cross motion path",
           "type": "scatter",
           "x": [],
           "y": []
          },
          {
           "marker": {
            "color": "#ffffff",
            "line": {
             "color": "#000000",
             "width": 2
            },
            "opacity": 1,
            "size": 10
           },
           "mode": "markers",
           "type": "scatter",
           "x": [
            316
           ],
           "y": [
            -99
           ]
          },
          {
           "line": {
            "color": "red",
            "width": 2
           },
           "mode": "lines",
           "name": "Abraham Lucas motion path",
           "type": "scatter",
           "x": [],
           "y": []
          }
         ],
         "name": "76"
        },
        {
         "data": [
          {
           "marker": {
            "color": "#ffffff",
            "line": {
             "color": "#000000",
             "width": 2
            },
            "opacity": 1,
            "size": 10
           },
           "mode": "markers",
           "type": "scatter",
           "x": [
            -8
           ],
           "y": [
            -139
           ]
          },
          {
           "line": {
            "color": "red",
            "width": 2
           },
           "mode": "lines",
           "name": "Geno Smith motion path",
           "type": "scatter",
           "x": [],
           "y": []
          },
          {
           "marker": {
            "color": "#ffffff",
            "line": {
             "color": "#000000",
             "width": 2
            },
            "opacity": 1,
            "size": 10
           },
           "mode": "markers",
           "type": "scatter",
           "x": [
            163
           ],
           "y": [
            -92
           ]
          },
          {
           "line": {
            "color": "red",
            "width": 2
           },
           "mode": "lines",
           "name": "Gabe Jackson motion path",
           "type": "scatter",
           "x": [],
           "y": []
          },
          {
           "marker": {
            "color": "#ffffff",
            "line": {
             "color": "#000000",
             "width": 2
            },
            "opacity": 1,
            "size": 10
           },
           "mode": "markers",
           "type": "scatter",
           "x": [
            962
           ],
           "y": [
            -32
           ]
          },
          {
           "line": {
            "color": "red",
            "width": 2
           },
           "mode": "lines",
           "name": "Tyler Lockett motion path",
           "type": "scatter",
           "x": [],
           "y": []
          },
          {
           "marker": {
            "color": "#ffffff",
            "line": {
             "color": "#000000",
             "width": 2
            },
            "opacity": 1,
            "size": 10
           },
           "mode": "markers",
           "type": "scatter",
           "x": [
            -13
           ],
           "y": [
            -22
           ]
          },
          {
           "line": {
            "color": "red",
            "width": 2
           },
           "mode": "lines",
           "name": "Austin Blythe motion path",
           "type": "scatter",
           "x": [],
           "y": []
          },
          {
           "marker": {
            "color": "#ffffff",
            "line": {
             "color": "#000000",
             "width": 2
            },
            "opacity": 1,
            "size": 10
           },
           "mode": "markers",
           "type": "scatter",
           "x": [
            0
           ],
           "y": [
            -741
           ]
          },
          {
           "line": {
            "color": "red",
            "width": 2
           },
           "mode": "lines",
           "name": "Rashaad Penny motion path",
           "type": "scatter",
           "x": [],
           "y": []
          },
          {
           "marker": {
            "color": "#ff0000",
            "line": {
             "color": "#000000",
             "width": 2
            },
            "opacity": 1,
            "size": 10
           },
           "mode": "markers",
           "type": "scatter",
           "x": [
            100
           ],
           "y": [
            -308
           ]
          },
          {
           "hoverinfo": "none",
           "marker": {
            "color": "rgba(255, 0, 0, 0.5)",
            "line": {
             "color": "red",
             "width": 2
            },
            "size": 20
           },
           "mode": "markers",
           "name": "Will Dissly in motion",
           "type": "scatter",
           "x": [
            100
           ],
           "y": [
            -308
           ]
          },
          {
           "line": {
            "color": "red",
            "width": 2
           },
           "mode": "lines",
           "name": "Will Dissly motion path",
           "type": "scatter",
           "x": [
            -238,
            -230,
            -220,
            -206,
            -190,
            -170,
            -147,
            -120,
            -89,
            -56,
            -19,
            20,
            60,
            100
           ],
           "y": [
            -464,
            -460,
            -456,
            -450,
            -442,
            -432,
            -421,
            -409,
            -392,
            -378,
            -360,
            -343,
            -326,
            -308
           ]
          },
          {
           "marker": {
            "color": "#ff0000",
            "line": {
             "color": "#000000",
             "width": 2
            },
            "opacity": 1,
            "size": 10
           },
           "mode": "markers",
           "type": "scatter",
           "x": [
            -460
           ],
           "y": [
            -196
           ]
          },
          {
           "line": {
            "color": "red",
            "width": 2
           },
           "mode": "lines",
           "name": "Noah Fant motion path",
           "type": "scatter",
           "x": [],
           "y": []
          },
          {
           "marker": {
            "color": "#ffffff",
            "line": {
             "color": "#000000",
             "width": 2
            },
            "opacity": 1,
            "size": 10
           },
           "mode": "markers",
           "type": "scatter",
           "x": [
            -939
           ],
           "y": [
            -92
           ]
          },
          {
           "line": {
            "color": "red",
            "width": 2
           },
           "mode": "lines",
           "name": "DK Metcalf motion path",
           "type": "scatter",
           "x": [],
           "y": []
          },
          {
           "marker": {
            "color": "#ffffff",
            "line": {
             "color": "#000000",
             "width": 2
            },
            "opacity": 1,
            "size": 10
           },
           "mode": "markers",
           "type": "scatter",
           "x": [
            -153
           ],
           "y": [
            -89
           ]
          },
          {
           "line": {
            "color": "red",
            "width": 2
           },
           "mode": "lines",
           "name": "Phil Haynes motion path",
           "type": "scatter",
           "x": [],
           "y": []
          },
          {
           "marker": {
            "color": "#ffffff",
            "line": {
             "color": "#000000",
             "width": 2
            },
            "opacity": 1,
            "size": 10
           },
           "mode": "markers",
           "type": "scatter",
           "x": [
            -292
           ],
           "y": [
            -121
           ]
          },
          {
           "line": {
            "color": "red",
            "width": 2
           },
           "mode": "lines",
           "name": "Charles Cross motion path",
           "type": "scatter",
           "x": [],
           "y": []
          },
          {
           "marker": {
            "color": "#ffffff",
            "line": {
             "color": "#000000",
             "width": 2
            },
            "opacity": 1,
            "size": 10
           },
           "mode": "markers",
           "type": "scatter",
           "x": [
            315
           ],
           "y": [
            -99
           ]
          },
          {
           "line": {
            "color": "red",
            "width": 2
           },
           "mode": "lines",
           "name": "Abraham Lucas motion path",
           "type": "scatter",
           "x": [],
           "y": []
          }
         ],
         "name": "77"
        },
        {
         "data": [
          {
           "marker": {
            "color": "#ffffff",
            "line": {
             "color": "#000000",
             "width": 2
            },
            "opacity": 1,
            "size": 10
           },
           "mode": "markers",
           "type": "scatter",
           "x": [
            -10
           ],
           "y": [
            -137
           ]
          },
          {
           "line": {
            "color": "red",
            "width": 2
           },
           "mode": "lines",
           "name": "Geno Smith motion path",
           "type": "scatter",
           "x": [],
           "y": []
          },
          {
           "marker": {
            "color": "#ffffff",
            "line": {
             "color": "#000000",
             "width": 2
            },
            "opacity": 1,
            "size": 10
           },
           "mode": "markers",
           "type": "scatter",
           "x": [
            162
           ],
           "y": [
            -91
           ]
          },
          {
           "line": {
            "color": "red",
            "width": 2
           },
           "mode": "lines",
           "name": "Gabe Jackson motion path",
           "type": "scatter",
           "x": [],
           "y": []
          },
          {
           "marker": {
            "color": "#ffffff",
            "line": {
             "color": "#000000",
             "width": 2
            },
            "opacity": 1,
            "size": 10
           },
           "mode": "markers",
           "type": "scatter",
           "x": [
            963
           ],
           "y": [
            -33
           ]
          },
          {
           "line": {
            "color": "red",
            "width": 2
           },
           "mode": "lines",
           "name": "Tyler Lockett motion path",
           "type": "scatter",
           "x": [],
           "y": []
          },
          {
           "marker": {
            "color": "#ffffff",
            "line": {
             "color": "#000000",
             "width": 2
            },
            "opacity": 1,
            "size": 10
           },
           "mode": "markers",
           "type": "scatter",
           "x": [
            -13
           ],
           "y": [
            -23
           ]
          },
          {
           "line": {
            "color": "red",
            "width": 2
           },
           "mode": "lines",
           "name": "Austin Blythe motion path",
           "type": "scatter",
           "x": [],
           "y": []
          },
          {
           "marker": {
            "color": "#ffffff",
            "line": {
             "color": "#000000",
             "width": 2
            },
            "opacity": 1,
            "size": 10
           },
           "mode": "markers",
           "type": "scatter",
           "x": [
            0
           ],
           "y": [
            -740
           ]
          },
          {
           "line": {
            "color": "red",
            "width": 2
           },
           "mode": "lines",
           "name": "Rashaad Penny motion path",
           "type": "scatter",
           "x": [],
           "y": []
          },
          {
           "marker": {
            "color": "#ff0000",
            "line": {
             "color": "#000000",
             "width": 2
            },
            "opacity": 1,
            "size": 10
           },
           "mode": "markers",
           "type": "scatter",
           "x": [
            141
           ],
           "y": [
            -292
           ]
          },
          {
           "hoverinfo": "none",
           "marker": {
            "color": "rgba(255, 0, 0, 0.5)",
            "line": {
             "color": "red",
             "width": 2
            },
            "size": 20
           },
           "mode": "markers",
           "name": "Will Dissly in motion",
           "type": "scatter",
           "x": [
            141
           ],
           "y": [
            -292
           ]
          },
          {
           "line": {
            "color": "red",
            "width": 2
           },
           "mode": "lines",
           "name": "Will Dissly motion path",
           "type": "scatter",
           "x": [
            -238,
            -230,
            -220,
            -206,
            -190,
            -170,
            -147,
            -120,
            -89,
            -56,
            -19,
            20,
            60,
            100,
            141
           ],
           "y": [
            -464,
            -460,
            -456,
            -450,
            -442,
            -432,
            -421,
            -409,
            -392,
            -378,
            -360,
            -343,
            -326,
            -308,
            -292
           ]
          },
          {
           "marker": {
            "color": "#ff0000",
            "line": {
             "color": "#000000",
             "width": 2
            },
            "opacity": 1,
            "size": 10
           },
           "mode": "markers",
           "type": "scatter",
           "x": [
            -459
           ],
           "y": [
            -196
           ]
          },
          {
           "line": {
            "color": "red",
            "width": 2
           },
           "mode": "lines",
           "name": "Noah Fant motion path",
           "type": "scatter",
           "x": [],
           "y": []
          },
          {
           "marker": {
            "color": "#ffffff",
            "line": {
             "color": "#000000",
             "width": 2
            },
            "opacity": 1,
            "size": 10
           },
           "mode": "markers",
           "type": "scatter",
           "x": [
            -939
           ],
           "y": [
            -92
           ]
          },
          {
           "line": {
            "color": "red",
            "width": 2
           },
           "mode": "lines",
           "name": "DK Metcalf motion path",
           "type": "scatter",
           "x": [],
           "y": []
          },
          {
           "marker": {
            "color": "#ffffff",
            "line": {
             "color": "#000000",
             "width": 2
            },
            "opacity": 1,
            "size": 10
           },
           "mode": "markers",
           "type": "scatter",
           "x": [
            -153
           ],
           "y": [
            -89
           ]
          },
          {
           "line": {
            "color": "red",
            "width": 2
           },
           "mode": "lines",
           "name": "Phil Haynes motion path",
           "type": "scatter",
           "x": [],
           "y": []
          },
          {
           "marker": {
            "color": "#ffffff",
            "line": {
             "color": "#000000",
             "width": 2
            },
            "opacity": 1,
            "size": 10
           },
           "mode": "markers",
           "type": "scatter",
           "x": [
            -292
           ],
           "y": [
            -121
           ]
          },
          {
           "line": {
            "color": "red",
            "width": 2
           },
           "mode": "lines",
           "name": "Charles Cross motion path",
           "type": "scatter",
           "x": [],
           "y": []
          },
          {
           "marker": {
            "color": "#ffffff",
            "line": {
             "color": "#000000",
             "width": 2
            },
            "opacity": 1,
            "size": 10
           },
           "mode": "markers",
           "type": "scatter",
           "x": [
            315
           ],
           "y": [
            -99
           ]
          },
          {
           "line": {
            "color": "red",
            "width": 2
           },
           "mode": "lines",
           "name": "Abraham Lucas motion path",
           "type": "scatter",
           "x": [],
           "y": []
          }
         ],
         "name": "78"
        },
        {
         "data": [
          {
           "marker": {
            "color": "#ffffff",
            "line": {
             "color": "#000000",
             "width": 2
            },
            "opacity": 1,
            "size": 10
           },
           "mode": "markers",
           "type": "scatter",
           "x": [
            -11
           ],
           "y": [
            -137
           ]
          },
          {
           "line": {
            "color": "red",
            "width": 2
           },
           "mode": "lines",
           "name": "Geno Smith motion path",
           "type": "scatter",
           "x": [],
           "y": []
          },
          {
           "marker": {
            "color": "#ffffff",
            "line": {
             "color": "#000000",
             "width": 2
            },
            "opacity": 1,
            "size": 10
           },
           "mode": "markers",
           "type": "scatter",
           "x": [
            161
           ],
           "y": [
            -91
           ]
          },
          {
           "line": {
            "color": "red",
            "width": 2
           },
           "mode": "lines",
           "name": "Gabe Jackson motion path",
           "type": "scatter",
           "x": [],
           "y": []
          },
          {
           "marker": {
            "color": "#ffffff",
            "line": {
             "color": "#000000",
             "width": 2
            },
            "opacity": 1,
            "size": 10
           },
           "mode": "markers",
           "type": "scatter",
           "x": [
            962
           ],
           "y": [
            -35
           ]
          },
          {
           "line": {
            "color": "red",
            "width": 2
           },
           "mode": "lines",
           "name": "Tyler Lockett motion path",
           "type": "scatter",
           "x": [],
           "y": []
          },
          {
           "marker": {
            "color": "#ffffff",
            "line": {
             "color": "#000000",
             "width": 2
            },
            "opacity": 1,
            "size": 10
           },
           "mode": "markers",
           "type": "scatter",
           "x": [
            -13
           ],
           "y": [
            -23
           ]
          },
          {
           "line": {
            "color": "red",
            "width": 2
           },
           "mode": "lines",
           "name": "Austin Blythe motion path",
           "type": "scatter",
           "x": [],
           "y": []
          },
          {
           "marker": {
            "color": "#ffffff",
            "line": {
             "color": "#000000",
             "width": 2
            },
            "opacity": 1,
            "size": 10
           },
           "mode": "markers",
           "type": "scatter",
           "x": [
            0
           ],
           "y": [
            -740
           ]
          },
          {
           "line": {
            "color": "red",
            "width": 2
           },
           "mode": "lines",
           "name": "Rashaad Penny motion path",
           "type": "scatter",
           "x": [],
           "y": []
          },
          {
           "marker": {
            "color": "#ff0000",
            "line": {
             "color": "#000000",
             "width": 2
            },
            "opacity": 1,
            "size": 10
           },
           "mode": "markers",
           "type": "scatter",
           "x": [
            181
           ],
           "y": [
            -276
           ]
          },
          {
           "hoverinfo": "none",
           "marker": {
            "color": "rgba(255, 0, 0, 0.5)",
            "line": {
             "color": "red",
             "width": 2
            },
            "size": 20
           },
           "mode": "markers",
           "name": "Will Dissly in motion",
           "type": "scatter",
           "x": [
            181
           ],
           "y": [
            -276
           ]
          },
          {
           "line": {
            "color": "red",
            "width": 2
           },
           "mode": "lines",
           "name": "Will Dissly motion path",
           "type": "scatter",
           "x": [
            -238,
            -230,
            -220,
            -206,
            -190,
            -170,
            -147,
            -120,
            -89,
            -56,
            -19,
            20,
            60,
            100,
            141,
            181
           ],
           "y": [
            -464,
            -460,
            -456,
            -450,
            -442,
            -432,
            -421,
            -409,
            -392,
            -378,
            -360,
            -343,
            -326,
            -308,
            -292,
            -276
           ]
          },
          {
           "marker": {
            "color": "#ff0000",
            "line": {
             "color": "#000000",
             "width": 2
            },
            "opacity": 1,
            "size": 10
           },
           "mode": "markers",
           "type": "scatter",
           "x": [
            -459
           ],
           "y": [
            -196
           ]
          },
          {
           "line": {
            "color": "red",
            "width": 2
           },
           "mode": "lines",
           "name": "Noah Fant motion path",
           "type": "scatter",
           "x": [],
           "y": []
          },
          {
           "marker": {
            "color": "#ffffff",
            "line": {
             "color": "#000000",
             "width": 2
            },
            "opacity": 1,
            "size": 10
           },
           "mode": "markers",
           "type": "scatter",
           "x": [
            -939
           ],
           "y": [
            -91
           ]
          },
          {
           "line": {
            "color": "red",
            "width": 2
           },
           "mode": "lines",
           "name": "DK Metcalf motion path",
           "type": "scatter",
           "x": [],
           "y": []
          },
          {
           "marker": {
            "color": "#ffffff",
            "line": {
             "color": "#000000",
             "width": 2
            },
            "opacity": 1,
            "size": 10
           },
           "mode": "markers",
           "type": "scatter",
           "x": [
            -153
           ],
           "y": [
            -89
           ]
          },
          {
           "line": {
            "color": "red",
            "width": 2
           },
           "mode": "lines",
           "name": "Phil Haynes motion path",
           "type": "scatter",
           "x": [],
           "y": []
          },
          {
           "marker": {
            "color": "#ffffff",
            "line": {
             "color": "#000000",
             "width": 2
            },
            "opacity": 1,
            "size": 10
           },
           "mode": "markers",
           "type": "scatter",
           "x": [
            -292
           ],
           "y": [
            -121
           ]
          },
          {
           "line": {
            "color": "red",
            "width": 2
           },
           "mode": "lines",
           "name": "Charles Cross motion path",
           "type": "scatter",
           "x": [],
           "y": []
          },
          {
           "marker": {
            "color": "#ffffff",
            "line": {
             "color": "#000000",
             "width": 2
            },
            "opacity": 1,
            "size": 10
           },
           "mode": "markers",
           "type": "scatter",
           "x": [
            314
           ],
           "y": [
            -98
           ]
          },
          {
           "line": {
            "color": "red",
            "width": 2
           },
           "mode": "lines",
           "name": "Abraham Lucas motion path",
           "type": "scatter",
           "x": [],
           "y": []
          }
         ],
         "name": "79"
        },
        {
         "data": [
          {
           "marker": {
            "color": "#ffffff",
            "line": {
             "color": "#000000",
             "width": 2
            },
            "opacity": 1,
            "size": 10
           },
           "mode": "markers",
           "type": "scatter",
           "x": [
            -11
           ],
           "y": [
            -136
           ]
          },
          {
           "line": {
            "color": "red",
            "width": 2
           },
           "mode": "lines",
           "name": "Geno Smith motion path",
           "type": "scatter",
           "x": [],
           "y": []
          },
          {
           "marker": {
            "color": "#ffffff",
            "line": {
             "color": "#000000",
             "width": 2
            },
            "opacity": 1,
            "size": 10
           },
           "mode": "markers",
           "type": "scatter",
           "x": [
            161
           ],
           "y": [
            -90
           ]
          },
          {
           "line": {
            "color": "red",
            "width": 2
           },
           "mode": "lines",
           "name": "Gabe Jackson motion path",
           "type": "scatter",
           "x": [],
           "y": []
          },
          {
           "marker": {
            "color": "#ffffff",
            "line": {
             "color": "#000000",
             "width": 2
            },
            "opacity": 1,
            "size": 10
           },
           "mode": "markers",
           "type": "scatter",
           "x": [
            962
           ],
           "y": [
            -35
           ]
          },
          {
           "line": {
            "color": "red",
            "width": 2
           },
           "mode": "lines",
           "name": "Tyler Lockett motion path",
           "type": "scatter",
           "x": [],
           "y": []
          },
          {
           "marker": {
            "color": "#ffffff",
            "line": {
             "color": "#000000",
             "width": 2
            },
            "opacity": 1,
            "size": 10
           },
           "mode": "markers",
           "type": "scatter",
           "x": [
            -12
           ],
           "y": [
            -23
           ]
          },
          {
           "line": {
            "color": "red",
            "width": 2
           },
           "mode": "lines",
           "name": "Austin Blythe motion path",
           "type": "scatter",
           "x": [],
           "y": []
          },
          {
           "marker": {
            "color": "#ffffff",
            "line": {
             "color": "#000000",
             "width": 2
            },
            "opacity": 1,
            "size": 10
           },
           "mode": "markers",
           "type": "scatter",
           "x": [
            0
           ],
           "y": [
            -740
           ]
          },
          {
           "line": {
            "color": "red",
            "width": 2
           },
           "mode": "lines",
           "name": "Rashaad Penny motion path",
           "type": "scatter",
           "x": [],
           "y": []
          },
          {
           "marker": {
            "color": "#ff0000",
            "line": {
             "color": "#000000",
             "width": 2
            },
            "opacity": 1,
            "size": 10
           },
           "mode": "markers",
           "type": "scatter",
           "x": [
            221
           ],
           "y": [
            -261
           ]
          },
          {
           "hoverinfo": "none",
           "marker": {
            "color": "rgba(255, 0, 0, 0.5)",
            "line": {
             "color": "red",
             "width": 2
            },
            "size": 20
           },
           "mode": "markers",
           "name": "Will Dissly in motion",
           "type": "scatter",
           "x": [
            221
           ],
           "y": [
            -261
           ]
          },
          {
           "line": {
            "color": "red",
            "width": 2
           },
           "mode": "lines",
           "name": "Will Dissly motion path",
           "type": "scatter",
           "x": [
            -238,
            -230,
            -220,
            -206,
            -190,
            -170,
            -147,
            -120,
            -89,
            -56,
            -19,
            20,
            60,
            100,
            141,
            181,
            221
           ],
           "y": [
            -464,
            -460,
            -456,
            -450,
            -442,
            -432,
            -421,
            -409,
            -392,
            -378,
            -360,
            -343,
            -326,
            -308,
            -292,
            -276,
            -261
           ]
          },
          {
           "marker": {
            "color": "#ff0000",
            "line": {
             "color": "#000000",
             "width": 2
            },
            "opacity": 1,
            "size": 10
           },
           "mode": "markers",
           "type": "scatter",
           "x": [
            -458
           ],
           "y": [
            -196
           ]
          },
          {
           "line": {
            "color": "red",
            "width": 2
           },
           "mode": "lines",
           "name": "Noah Fant motion path",
           "type": "scatter",
           "x": [],
           "y": []
          },
          {
           "marker": {
            "color": "#ffffff",
            "line": {
             "color": "#000000",
             "width": 2
            },
            "opacity": 1,
            "size": 10
           },
           "mode": "markers",
           "type": "scatter",
           "x": [
            -939
           ],
           "y": [
            -90
           ]
          },
          {
           "line": {
            "color": "red",
            "width": 2
           },
           "mode": "lines",
           "name": "DK Metcalf motion path",
           "type": "scatter",
           "x": [],
           "y": []
          },
          {
           "marker": {
            "color": "#ffffff",
            "line": {
             "color": "#000000",
             "width": 2
            },
            "opacity": 1,
            "size": 10
           },
           "mode": "markers",
           "type": "scatter",
           "x": [
            -153
           ],
           "y": [
            -89
           ]
          },
          {
           "line": {
            "color": "red",
            "width": 2
           },
           "mode": "lines",
           "name": "Phil Haynes motion path",
           "type": "scatter",
           "x": [],
           "y": []
          },
          {
           "marker": {
            "color": "#ffffff",
            "line": {
             "color": "#000000",
             "width": 2
            },
            "opacity": 1,
            "size": 10
           },
           "mode": "markers",
           "type": "scatter",
           "x": [
            -292
           ],
           "y": [
            -122
           ]
          },
          {
           "line": {
            "color": "red",
            "width": 2
           },
           "mode": "lines",
           "name": "Charles Cross motion path",
           "type": "scatter",
           "x": [],
           "y": []
          },
          {
           "marker": {
            "color": "#ffffff",
            "line": {
             "color": "#000000",
             "width": 2
            },
            "opacity": 1,
            "size": 10
           },
           "mode": "markers",
           "type": "scatter",
           "x": [
            314
           ],
           "y": [
            -98
           ]
          },
          {
           "line": {
            "color": "red",
            "width": 2
           },
           "mode": "lines",
           "name": "Abraham Lucas motion path",
           "type": "scatter",
           "x": [],
           "y": []
          }
         ],
         "name": "80"
        },
        {
         "data": [
          {
           "marker": {
            "color": "#ffffff",
            "line": {
             "color": "#000000",
             "width": 2
            },
            "opacity": 1,
            "size": 10
           },
           "mode": "markers",
           "type": "scatter",
           "x": [
            -11
           ],
           "y": [
            -136
           ]
          },
          {
           "line": {
            "color": "red",
            "width": 2
           },
           "mode": "lines",
           "name": "Geno Smith motion path",
           "type": "scatter",
           "x": [],
           "y": []
          },
          {
           "marker": {
            "color": "#ffffff",
            "line": {
             "color": "#000000",
             "width": 2
            },
            "opacity": 1,
            "size": 10
           },
           "mode": "markers",
           "type": "scatter",
           "x": [
            161
           ],
           "y": [
            -90
           ]
          },
          {
           "line": {
            "color": "red",
            "width": 2
           },
           "mode": "lines",
           "name": "Gabe Jackson motion path",
           "type": "scatter",
           "x": [],
           "y": []
          },
          {
           "marker": {
            "color": "#ffffff",
            "line": {
             "color": "#000000",
             "width": 2
            },
            "opacity": 1,
            "size": 10
           },
           "mode": "markers",
           "type": "scatter",
           "x": [
            962
           ],
           "y": [
            -35
           ]
          },
          {
           "line": {
            "color": "red",
            "width": 2
           },
           "mode": "lines",
           "name": "Tyler Lockett motion path",
           "type": "scatter",
           "x": [],
           "y": []
          },
          {
           "marker": {
            "color": "#ffffff",
            "line": {
             "color": "#000000",
             "width": 2
            },
            "opacity": 1,
            "size": 10
           },
           "mode": "markers",
           "type": "scatter",
           "x": [
            -12
           ],
           "y": [
            -23
           ]
          },
          {
           "line": {
            "color": "red",
            "width": 2
           },
           "mode": "lines",
           "name": "Austin Blythe motion path",
           "type": "scatter",
           "x": [],
           "y": []
          },
          {
           "marker": {
            "color": "#ffffff",
            "line": {
             "color": "#000000",
             "width": 2
            },
            "opacity": 1,
            "size": 10
           },
           "mode": "markers",
           "type": "scatter",
           "x": [
            0
           ],
           "y": [
            -740
           ]
          },
          {
           "line": {
            "color": "red",
            "width": 2
           },
           "mode": "lines",
           "name": "Rashaad Penny motion path",
           "type": "scatter",
           "x": [],
           "y": []
          },
          {
           "marker": {
            "color": "#ff0000",
            "line": {
             "color": "#000000",
             "width": 2
            },
            "opacity": 1,
            "size": 10
           },
           "mode": "markers",
           "type": "scatter",
           "x": [
            259
           ],
           "y": [
            -247
           ]
          },
          {
           "hoverinfo": "none",
           "marker": {
            "color": "rgba(255, 0, 0, 0.5)",
            "line": {
             "color": "red",
             "width": 2
            },
            "size": 20
           },
           "mode": "markers",
           "name": "Will Dissly in motion",
           "type": "scatter",
           "x": [
            259
           ],
           "y": [
            -247
           ]
          },
          {
           "line": {
            "color": "red",
            "width": 2
           },
           "mode": "lines",
           "name": "Will Dissly motion path",
           "type": "scatter",
           "x": [
            -238,
            -230,
            -220,
            -206,
            -190,
            -170,
            -147,
            -120,
            -89,
            -56,
            -19,
            20,
            60,
            100,
            141,
            181,
            221,
            259
           ],
           "y": [
            -464,
            -460,
            -456,
            -450,
            -442,
            -432,
            -421,
            -409,
            -392,
            -378,
            -360,
            -343,
            -326,
            -308,
            -292,
            -276,
            -261,
            -247
           ]
          },
          {
           "marker": {
            "color": "#ff0000",
            "line": {
             "color": "#000000",
             "width": 2
            },
            "opacity": 1,
            "size": 10
           },
           "mode": "markers",
           "type": "scatter",
           "x": [
            -458
           ],
           "y": [
            -196
           ]
          },
          {
           "line": {
            "color": "red",
            "width": 2
           },
           "mode": "lines",
           "name": "Noah Fant motion path",
           "type": "scatter",
           "x": [],
           "y": []
          },
          {
           "marker": {
            "color": "#ffffff",
            "line": {
             "color": "#000000",
             "width": 2
            },
            "opacity": 1,
            "size": 10
           },
           "mode": "markers",
           "type": "scatter",
           "x": [
            -939
           ],
           "y": [
            -90
           ]
          },
          {
           "line": {
            "color": "red",
            "width": 2
           },
           "mode": "lines",
           "name": "DK Metcalf motion path",
           "type": "scatter",
           "x": [],
           "y": []
          },
          {
           "marker": {
            "color": "#ffffff",
            "line": {
             "color": "#000000",
             "width": 2
            },
            "opacity": 1,
            "size": 10
           },
           "mode": "markers",
           "type": "scatter",
           "x": [
            -153
           ],
           "y": [
            -89
           ]
          },
          {
           "line": {
            "color": "red",
            "width": 2
           },
           "mode": "lines",
           "name": "Phil Haynes motion path",
           "type": "scatter",
           "x": [],
           "y": []
          },
          {
           "marker": {
            "color": "#ffffff",
            "line": {
             "color": "#000000",
             "width": 2
            },
            "opacity": 1,
            "size": 10
           },
           "mode": "markers",
           "type": "scatter",
           "x": [
            -292
           ],
           "y": [
            -122
           ]
          },
          {
           "line": {
            "color": "red",
            "width": 2
           },
           "mode": "lines",
           "name": "Charles Cross motion path",
           "type": "scatter",
           "x": [],
           "y": []
          },
          {
           "marker": {
            "color": "#ffffff",
            "line": {
             "color": "#000000",
             "width": 2
            },
            "opacity": 1,
            "size": 10
           },
           "mode": "markers",
           "type": "scatter",
           "x": [
            313
           ],
           "y": [
            -97
           ]
          },
          {
           "line": {
            "color": "red",
            "width": 2
           },
           "mode": "lines",
           "name": "Abraham Lucas motion path",
           "type": "scatter",
           "x": [],
           "y": []
          }
         ],
         "name": "81"
        },
        {
         "data": [
          {
           "marker": {
            "color": "#ffffff",
            "line": {
             "color": "#000000",
             "width": 2
            },
            "opacity": 1,
            "size": 10
           },
           "mode": "markers",
           "type": "scatter",
           "x": [
            -10
           ],
           "y": [
            -136
           ]
          },
          {
           "line": {
            "color": "red",
            "width": 2
           },
           "mode": "lines",
           "name": "Geno Smith motion path",
           "type": "scatter",
           "x": [],
           "y": []
          },
          {
           "marker": {
            "color": "#ffffff",
            "line": {
             "color": "#000000",
             "width": 2
            },
            "opacity": 1,
            "size": 10
           },
           "mode": "markers",
           "type": "scatter",
           "x": [
            161
           ],
           "y": [
            -90
           ]
          },
          {
           "line": {
            "color": "red",
            "width": 2
           },
           "mode": "lines",
           "name": "Gabe Jackson motion path",
           "type": "scatter",
           "x": [],
           "y": []
          },
          {
           "marker": {
            "color": "#ffffff",
            "line": {
             "color": "#000000",
             "width": 2
            },
            "opacity": 1,
            "size": 10
           },
           "mode": "markers",
           "type": "scatter",
           "x": [
            962
           ],
           "y": [
            -35
           ]
          },
          {
           "line": {
            "color": "red",
            "width": 2
           },
           "mode": "lines",
           "name": "Tyler Lockett motion path",
           "type": "scatter",
           "x": [],
           "y": []
          },
          {
           "marker": {
            "color": "#ffffff",
            "line": {
             "color": "#000000",
             "width": 2
            },
            "opacity": 1,
            "size": 10
           },
           "mode": "markers",
           "type": "scatter",
           "x": [
            -12
           ],
           "y": [
            -23
           ]
          },
          {
           "line": {
            "color": "red",
            "width": 2
           },
           "mode": "lines",
           "name": "Austin Blythe motion path",
           "type": "scatter",
           "x": [],
           "y": []
          },
          {
           "marker": {
            "color": "#ffffff",
            "line": {
             "color": "#000000",
             "width": 2
            },
            "opacity": 1,
            "size": 10
           },
           "mode": "markers",
           "type": "scatter",
           "x": [
            -1
           ],
           "y": [
            -741
           ]
          },
          {
           "line": {
            "color": "red",
            "width": 2
           },
           "mode": "lines",
           "name": "Rashaad Penny motion path",
           "type": "scatter",
           "x": [],
           "y": []
          },
          {
           "marker": {
            "color": "#ff0000",
            "line": {
             "color": "#000000",
             "width": 2
            },
            "opacity": 1,
            "size": 10
           },
           "mode": "markers",
           "type": "scatter",
           "x": [
            296
           ],
           "y": [
            -233
           ]
          },
          {
           "hoverinfo": "none",
           "marker": {
            "color": "rgba(255, 0, 0, 0.5)",
            "line": {
             "color": "red",
             "width": 2
            },
            "size": 20
           },
           "mode": "markers",
           "name": "Will Dissly in motion",
           "type": "scatter",
           "x": [
            296
           ],
           "y": [
            -233
           ]
          },
          {
           "line": {
            "color": "red",
            "width": 2
           },
           "mode": "lines",
           "name": "Will Dissly motion path",
           "type": "scatter",
           "x": [
            -238,
            -230,
            -220,
            -206,
            -190,
            -170,
            -147,
            -120,
            -89,
            -56,
            -19,
            20,
            60,
            100,
            141,
            181,
            221,
            259,
            296
           ],
           "y": [
            -464,
            -460,
            -456,
            -450,
            -442,
            -432,
            -421,
            -409,
            -392,
            -378,
            -360,
            -343,
            -326,
            -308,
            -292,
            -276,
            -261,
            -247,
            -233
           ]
          },
          {
           "marker": {
            "color": "#ff0000",
            "line": {
             "color": "#000000",
             "width": 2
            },
            "opacity": 1,
            "size": 10
           },
           "mode": "markers",
           "type": "scatter",
           "x": [
            -458
           ],
           "y": [
            -196
           ]
          },
          {
           "line": {
            "color": "red",
            "width": 2
           },
           "mode": "lines",
           "name": "Noah Fant motion path",
           "type": "scatter",
           "x": [],
           "y": []
          },
          {
           "marker": {
            "color": "#ffffff",
            "line": {
             "color": "#000000",
             "width": 2
            },
            "opacity": 1,
            "size": 10
           },
           "mode": "markers",
           "type": "scatter",
           "x": [
            -939
           ],
           "y": [
            -89
           ]
          },
          {
           "line": {
            "color": "red",
            "width": 2
           },
           "mode": "lines",
           "name": "DK Metcalf motion path",
           "type": "scatter",
           "x": [],
           "y": []
          },
          {
           "marker": {
            "color": "#ffffff",
            "line": {
             "color": "#000000",
             "width": 2
            },
            "opacity": 1,
            "size": 10
           },
           "mode": "markers",
           "type": "scatter",
           "x": [
            -154
           ],
           "y": [
            -89
           ]
          },
          {
           "line": {
            "color": "red",
            "width": 2
           },
           "mode": "lines",
           "name": "Phil Haynes motion path",
           "type": "scatter",
           "x": [],
           "y": []
          },
          {
           "marker": {
            "color": "#ffffff",
            "line": {
             "color": "#000000",
             "width": 2
            },
            "opacity": 1,
            "size": 10
           },
           "mode": "markers",
           "type": "scatter",
           "x": [
            -291
           ],
           "y": [
            -123
           ]
          },
          {
           "line": {
            "color": "red",
            "width": 2
           },
           "mode": "lines",
           "name": "Charles Cross motion path",
           "type": "scatter",
           "x": [],
           "y": []
          },
          {
           "marker": {
            "color": "#ffffff",
            "line": {
             "color": "#000000",
             "width": 2
            },
            "opacity": 1,
            "size": 10
           },
           "mode": "markers",
           "type": "scatter",
           "x": [
            312
           ],
           "y": [
            -97
           ]
          },
          {
           "line": {
            "color": "red",
            "width": 2
           },
           "mode": "lines",
           "name": "Abraham Lucas motion path",
           "type": "scatter",
           "x": [],
           "y": []
          }
         ],
         "name": "82"
        },
        {
         "data": [
          {
           "marker": {
            "color": "#ffffff",
            "line": {
             "color": "#000000",
             "width": 2
            },
            "opacity": 1,
            "size": 10
           },
           "mode": "markers",
           "type": "scatter",
           "x": [
            -9
           ],
           "y": [
            -136
           ]
          },
          {
           "line": {
            "color": "red",
            "width": 2
           },
           "mode": "lines",
           "name": "Geno Smith motion path",
           "type": "scatter",
           "x": [],
           "y": []
          },
          {
           "marker": {
            "color": "#ffffff",
            "line": {
             "color": "#000000",
             "width": 2
            },
            "opacity": 1,
            "size": 10
           },
           "mode": "markers",
           "type": "scatter",
           "x": [
            162
           ],
           "y": [
            -91
           ]
          },
          {
           "line": {
            "color": "red",
            "width": 2
           },
           "mode": "lines",
           "name": "Gabe Jackson motion path",
           "type": "scatter",
           "x": [],
           "y": []
          },
          {
           "marker": {
            "color": "#ffffff",
            "line": {
             "color": "#000000",
             "width": 2
            },
            "opacity": 1,
            "size": 10
           },
           "mode": "markers",
           "type": "scatter",
           "x": [
            963
           ],
           "y": [
            -35
           ]
          },
          {
           "line": {
            "color": "red",
            "width": 2
           },
           "mode": "lines",
           "name": "Tyler Lockett motion path",
           "type": "scatter",
           "x": [],
           "y": []
          },
          {
           "marker": {
            "color": "#ffffff",
            "line": {
             "color": "#000000",
             "width": 2
            },
            "opacity": 1,
            "size": 10
           },
           "mode": "markers",
           "type": "scatter",
           "x": [
            -11
           ],
           "y": [
            -22
           ]
          },
          {
           "line": {
            "color": "red",
            "width": 2
           },
           "mode": "lines",
           "name": "Austin Blythe motion path",
           "type": "scatter",
           "x": [],
           "y": []
          },
          {
           "marker": {
            "color": "#ffffff",
            "line": {
             "color": "#000000",
             "width": 2
            },
            "opacity": 1,
            "size": 10
           },
           "mode": "markers",
           "type": "scatter",
           "x": [
            -1
           ],
           "y": [
            -741
           ]
          },
          {
           "line": {
            "color": "red",
            "width": 2
           },
           "mode": "lines",
           "name": "Rashaad Penny motion path",
           "type": "scatter",
           "x": [],
           "y": []
          },
          {
           "marker": {
            "color": "#ff0000",
            "line": {
             "color": "#000000",
             "width": 2
            },
            "opacity": 1,
            "size": 10
           },
           "mode": "markers",
           "type": "scatter",
           "x": [
            330
           ],
           "y": [
            -219
           ]
          },
          {
           "hoverinfo": "none",
           "marker": {
            "color": "rgba(255, 0, 0, 0.5)",
            "line": {
             "color": "red",
             "width": 2
            },
            "size": 20
           },
           "mode": "markers",
           "name": "Will Dissly in motion",
           "type": "scatter",
           "x": [
            330
           ],
           "y": [
            -219
           ]
          },
          {
           "line": {
            "color": "red",
            "width": 2
           },
           "mode": "lines",
           "name": "Will Dissly motion path",
           "type": "scatter",
           "x": [
            -238,
            -230,
            -220,
            -206,
            -190,
            -170,
            -147,
            -120,
            -89,
            -56,
            -19,
            20,
            60,
            100,
            141,
            181,
            221,
            259,
            296,
            330
           ],
           "y": [
            -464,
            -460,
            -456,
            -450,
            -442,
            -432,
            -421,
            -409,
            -392,
            -378,
            -360,
            -343,
            -326,
            -308,
            -292,
            -276,
            -261,
            -247,
            -233,
            -219
           ]
          },
          {
           "marker": {
            "color": "#ff0000",
            "line": {
             "color": "#000000",
             "width": 2
            },
            "opacity": 1,
            "size": 10
           },
           "mode": "markers",
           "type": "scatter",
           "x": [
            -457
           ],
           "y": [
            -196
           ]
          },
          {
           "line": {
            "color": "red",
            "width": 2
           },
           "mode": "lines",
           "name": "Noah Fant motion path",
           "type": "scatter",
           "x": [],
           "y": []
          },
          {
           "marker": {
            "color": "#ffffff",
            "line": {
             "color": "#000000",
             "width": 2
            },
            "opacity": 1,
            "size": 10
           },
           "mode": "markers",
           "type": "scatter",
           "x": [
            -939
           ],
           "y": [
            -89
           ]
          },
          {
           "line": {
            "color": "red",
            "width": 2
           },
           "mode": "lines",
           "name": "DK Metcalf motion path",
           "type": "scatter",
           "x": [],
           "y": []
          },
          {
           "marker": {
            "color": "#ffffff",
            "line": {
             "color": "#000000",
             "width": 2
            },
            "opacity": 1,
            "size": 10
           },
           "mode": "markers",
           "type": "scatter",
           "x": [
            -154
           ],
           "y": [
            -89
           ]
          },
          {
           "line": {
            "color": "red",
            "width": 2
           },
           "mode": "lines",
           "name": "Phil Haynes motion path",
           "type": "scatter",
           "x": [],
           "y": []
          },
          {
           "marker": {
            "color": "#ffffff",
            "line": {
             "color": "#000000",
             "width": 2
            },
            "opacity": 1,
            "size": 10
           },
           "mode": "markers",
           "type": "scatter",
           "x": [
            -291
           ],
           "y": [
            -122
           ]
          },
          {
           "line": {
            "color": "red",
            "width": 2
           },
           "mode": "lines",
           "name": "Charles Cross motion path",
           "type": "scatter",
           "x": [],
           "y": []
          },
          {
           "marker": {
            "color": "#ffffff",
            "line": {
             "color": "#000000",
             "width": 2
            },
            "opacity": 1,
            "size": 10
           },
           "mode": "markers",
           "type": "scatter",
           "x": [
            312
           ],
           "y": [
            -97
           ]
          },
          {
           "line": {
            "color": "red",
            "width": 2
           },
           "mode": "lines",
           "name": "Abraham Lucas motion path",
           "type": "scatter",
           "x": [],
           "y": []
          }
         ],
         "name": "83"
        },
        {
         "data": [
          {
           "marker": {
            "color": "#ffffff",
            "line": {
             "color": "#000000",
             "width": 2
            },
            "opacity": 1,
            "size": 10
           },
           "mode": "markers",
           "type": "scatter",
           "x": [
            -8
           ],
           "y": [
            -136
           ]
          },
          {
           "line": {
            "color": "red",
            "width": 2
           },
           "mode": "lines",
           "name": "Geno Smith motion path",
           "type": "scatter",
           "x": [],
           "y": []
          },
          {
           "marker": {
            "color": "#ffffff",
            "line": {
             "color": "#000000",
             "width": 2
            },
            "opacity": 1,
            "size": 10
           },
           "mode": "markers",
           "type": "scatter",
           "x": [
            162
           ],
           "y": [
            -92
           ]
          },
          {
           "line": {
            "color": "red",
            "width": 2
           },
           "mode": "lines",
           "name": "Gabe Jackson motion path",
           "type": "scatter",
           "x": [],
           "y": []
          },
          {
           "marker": {
            "color": "#ffffff",
            "line": {
             "color": "#000000",
             "width": 2
            },
            "opacity": 1,
            "size": 10
           },
           "mode": "markers",
           "type": "scatter",
           "x": [
            964
           ],
           "y": [
            -35
           ]
          },
          {
           "line": {
            "color": "red",
            "width": 2
           },
           "mode": "lines",
           "name": "Tyler Lockett motion path",
           "type": "scatter",
           "x": [],
           "y": []
          },
          {
           "marker": {
            "color": "#ffffff",
            "line": {
             "color": "#000000",
             "width": 2
            },
            "opacity": 1,
            "size": 10
           },
           "mode": "markers",
           "type": "scatter",
           "x": [
            -10
           ],
           "y": [
            -22
           ]
          },
          {
           "line": {
            "color": "red",
            "width": 2
           },
           "mode": "lines",
           "name": "Austin Blythe motion path",
           "type": "scatter",
           "x": [],
           "y": []
          },
          {
           "marker": {
            "color": "#ffffff",
            "line": {
             "color": "#000000",
             "width": 2
            },
            "opacity": 1,
            "size": 10
           },
           "mode": "markers",
           "type": "scatter",
           "x": [
            -1
           ],
           "y": [
            -742
           ]
          },
          {
           "line": {
            "color": "red",
            "width": 2
           },
           "mode": "lines",
           "name": "Rashaad Penny motion path",
           "type": "scatter",
           "x": [],
           "y": []
          },
          {
           "marker": {
            "color": "#ff0000",
            "line": {
             "color": "#000000",
             "width": 2
            },
            "opacity": 1,
            "size": 10
           },
           "mode": "markers",
           "type": "scatter",
           "x": [
            362
           ],
           "y": [
            -207
           ]
          },
          {
           "hoverinfo": "none",
           "marker": {
            "color": "rgba(255, 0, 0, 0.5)",
            "line": {
             "color": "red",
             "width": 2
            },
            "size": 20
           },
           "mode": "markers",
           "name": "Will Dissly in motion",
           "type": "scatter",
           "x": [
            362
           ],
           "y": [
            -207
           ]
          },
          {
           "line": {
            "color": "red",
            "width": 2
           },
           "mode": "lines",
           "name": "Will Dissly motion path",
           "type": "scatter",
           "x": [
            -238,
            -230,
            -220,
            -206,
            -190,
            -170,
            -147,
            -120,
            -89,
            -56,
            -19,
            20,
            60,
            100,
            141,
            181,
            221,
            259,
            296,
            330,
            362
           ],
           "y": [
            -464,
            -460,
            -456,
            -450,
            -442,
            -432,
            -421,
            -409,
            -392,
            -378,
            -360,
            -343,
            -326,
            -308,
            -292,
            -276,
            -261,
            -247,
            -233,
            -219,
            -207
           ]
          },
          {
           "marker": {
            "color": "#ff0000",
            "line": {
             "color": "#000000",
             "width": 2
            },
            "opacity": 1,
            "size": 10
           },
           "mode": "markers",
           "type": "scatter",
           "x": [
            -457
           ],
           "y": [
            -194
           ]
          },
          {
           "line": {
            "color": "red",
            "width": 2
           },
           "mode": "lines",
           "name": "Noah Fant motion path",
           "type": "scatter",
           "x": [],
           "y": []
          },
          {
           "marker": {
            "color": "#ffffff",
            "line": {
             "color": "#000000",
             "width": 2
            },
            "opacity": 1,
            "size": 10
           },
           "mode": "markers",
           "type": "scatter",
           "x": [
            -939
           ],
           "y": [
            -89
           ]
          },
          {
           "line": {
            "color": "red",
            "width": 2
           },
           "mode": "lines",
           "name": "DK Metcalf motion path",
           "type": "scatter",
           "x": [],
           "y": []
          },
          {
           "marker": {
            "color": "#ffffff",
            "line": {
             "color": "#000000",
             "width": 2
            },
            "opacity": 1,
            "size": 10
           },
           "mode": "markers",
           "type": "scatter",
           "x": [
            -154
           ],
           "y": [
            -89
           ]
          },
          {
           "line": {
            "color": "red",
            "width": 2
           },
           "mode": "lines",
           "name": "Phil Haynes motion path",
           "type": "scatter",
           "x": [],
           "y": []
          },
          {
           "marker": {
            "color": "#ffffff",
            "line": {
             "color": "#000000",
             "width": 2
            },
            "opacity": 1,
            "size": 10
           },
           "mode": "markers",
           "type": "scatter",
           "x": [
            -291
           ],
           "y": [
            -122
           ]
          },
          {
           "line": {
            "color": "red",
            "width": 2
           },
           "mode": "lines",
           "name": "Charles Cross motion path",
           "type": "scatter",
           "x": [],
           "y": []
          },
          {
           "marker": {
            "color": "#ffffff",
            "line": {
             "color": "#000000",
             "width": 2
            },
            "opacity": 1,
            "size": 10
           },
           "mode": "markers",
           "type": "scatter",
           "x": [
            312
           ],
           "y": [
            -96
           ]
          },
          {
           "line": {
            "color": "red",
            "width": 2
           },
           "mode": "lines",
           "name": "Abraham Lucas motion path",
           "type": "scatter",
           "x": [],
           "y": []
          }
         ],
         "name": "84"
        },
        {
         "data": [
          {
           "marker": {
            "color": "#ffffff",
            "line": {
             "color": "#000000",
             "width": 2
            },
            "opacity": 1,
            "size": 10
           },
           "mode": "markers",
           "type": "scatter",
           "x": [
            -7
           ],
           "y": [
            -137
           ]
          },
          {
           "line": {
            "color": "red",
            "width": 2
           },
           "mode": "lines",
           "name": "Geno Smith motion path",
           "type": "scatter",
           "x": [],
           "y": []
          },
          {
           "marker": {
            "color": "#ffffff",
            "line": {
             "color": "#000000",
             "width": 2
            },
            "opacity": 1,
            "size": 10
           },
           "mode": "markers",
           "type": "scatter",
           "x": [
            163
           ],
           "y": [
            -93
           ]
          },
          {
           "line": {
            "color": "red",
            "width": 2
           },
           "mode": "lines",
           "name": "Gabe Jackson motion path",
           "type": "scatter",
           "x": [],
           "y": []
          },
          {
           "marker": {
            "color": "#ffffff",
            "line": {
             "color": "#000000",
             "width": 2
            },
            "opacity": 1,
            "size": 10
           },
           "mode": "markers",
           "type": "scatter",
           "x": [
            964
           ],
           "y": [
            -35
           ]
          },
          {
           "line": {
            "color": "red",
            "width": 2
           },
           "mode": "lines",
           "name": "Tyler Lockett motion path",
           "type": "scatter",
           "x": [],
           "y": []
          },
          {
           "marker": {
            "color": "#ffffff",
            "line": {
             "color": "#000000",
             "width": 2
            },
            "opacity": 1,
            "size": 10
           },
           "mode": "markers",
           "type": "scatter",
           "x": [
            -11
           ],
           "y": [
            -22
           ]
          },
          {
           "line": {
            "color": "red",
            "width": 2
           },
           "mode": "lines",
           "name": "Austin Blythe motion path",
           "type": "scatter",
           "x": [],
           "y": []
          },
          {
           "marker": {
            "color": "#ffffff",
            "line": {
             "color": "#000000",
             "width": 2
            },
            "opacity": 1,
            "size": 10
           },
           "mode": "markers",
           "type": "scatter",
           "x": [
            0
           ],
           "y": [
            -742
           ]
          },
          {
           "line": {
            "color": "red",
            "width": 2
           },
           "mode": "lines",
           "name": "Rashaad Penny motion path",
           "type": "scatter",
           "x": [],
           "y": []
          },
          {
           "marker": {
            "color": "#ff0000",
            "line": {
             "color": "#000000",
             "width": 2
            },
            "opacity": 1,
            "size": 10
           },
           "mode": "markers",
           "type": "scatter",
           "x": [
            392
           ],
           "y": [
            -196
           ]
          },
          {
           "hoverinfo": "none",
           "marker": {
            "color": "rgba(255, 0, 0, 0.5)",
            "line": {
             "color": "red",
             "width": 2
            },
            "size": 20
           },
           "mode": "markers",
           "name": "Will Dissly in motion",
           "type": "scatter",
           "x": [
            392
           ],
           "y": [
            -196
           ]
          },
          {
           "line": {
            "color": "red",
            "width": 2
           },
           "mode": "lines",
           "name": "Will Dissly motion path",
           "type": "scatter",
           "x": [
            -238,
            -230,
            -220,
            -206,
            -190,
            -170,
            -147,
            -120,
            -89,
            -56,
            -19,
            20,
            60,
            100,
            141,
            181,
            221,
            259,
            296,
            330,
            362,
            392
           ],
           "y": [
            -464,
            -460,
            -456,
            -450,
            -442,
            -432,
            -421,
            -409,
            -392,
            -378,
            -360,
            -343,
            -326,
            -308,
            -292,
            -276,
            -261,
            -247,
            -233,
            -219,
            -207,
            -196
           ]
          },
          {
           "marker": {
            "color": "#ff0000",
            "line": {
             "color": "#000000",
             "width": 2
            },
            "opacity": 1,
            "size": 10
           },
           "mode": "markers",
           "type": "scatter",
           "x": [
            -456
           ],
           "y": [
            -194
           ]
          },
          {
           "line": {
            "color": "red",
            "width": 2
           },
           "mode": "lines",
           "name": "Noah Fant motion path",
           "type": "scatter",
           "x": [],
           "y": []
          },
          {
           "marker": {
            "color": "#ffffff",
            "line": {
             "color": "#000000",
             "width": 2
            },
            "opacity": 1,
            "size": 10
           },
           "mode": "markers",
           "type": "scatter",
           "x": [
            -941
           ],
           "y": [
            -89
           ]
          },
          {
           "line": {
            "color": "red",
            "width": 2
           },
           "mode": "lines",
           "name": "DK Metcalf motion path",
           "type": "scatter",
           "x": [],
           "y": []
          },
          {
           "marker": {
            "color": "#ffffff",
            "line": {
             "color": "#000000",
             "width": 2
            },
            "opacity": 1,
            "size": 10
           },
           "mode": "markers",
           "type": "scatter",
           "x": [
            -154
           ],
           "y": [
            -89
           ]
          },
          {
           "line": {
            "color": "red",
            "width": 2
           },
           "mode": "lines",
           "name": "Phil Haynes motion path",
           "type": "scatter",
           "x": [],
           "y": []
          },
          {
           "marker": {
            "color": "#ffffff",
            "line": {
             "color": "#000000",
             "width": 2
            },
            "opacity": 1,
            "size": 10
           },
           "mode": "markers",
           "type": "scatter",
           "x": [
            -290
           ],
           "y": [
            -122
           ]
          },
          {
           "line": {
            "color": "red",
            "width": 2
           },
           "mode": "lines",
           "name": "Charles Cross motion path",
           "type": "scatter",
           "x": [],
           "y": []
          },
          {
           "marker": {
            "color": "#ffffff",
            "line": {
             "color": "#000000",
             "width": 2
            },
            "opacity": 1,
            "size": 10
           },
           "mode": "markers",
           "type": "scatter",
           "x": [
            312
           ],
           "y": [
            -96
           ]
          },
          {
           "line": {
            "color": "red",
            "width": 2
           },
           "mode": "lines",
           "name": "Abraham Lucas motion path",
           "type": "scatter",
           "x": [],
           "y": []
          }
         ],
         "name": "85"
        },
        {
         "data": [
          {
           "marker": {
            "color": "#ffffff",
            "line": {
             "color": "#000000",
             "width": 2
            },
            "opacity": 1,
            "size": 10
           },
           "mode": "markers",
           "type": "scatter",
           "x": [
            -6
           ],
           "y": [
            -137
           ]
          },
          {
           "line": {
            "color": "red",
            "width": 2
           },
           "mode": "lines",
           "name": "Geno Smith motion path",
           "type": "scatter",
           "x": [],
           "y": []
          },
          {
           "marker": {
            "color": "#ffffff",
            "line": {
             "color": "#000000",
             "width": 2
            },
            "opacity": 1,
            "size": 10
           },
           "mode": "markers",
           "type": "scatter",
           "x": [
            163
           ],
           "y": [
            -94
           ]
          },
          {
           "line": {
            "color": "red",
            "width": 2
           },
           "mode": "lines",
           "name": "Gabe Jackson motion path",
           "type": "scatter",
           "x": [],
           "y": []
          },
          {
           "marker": {
            "color": "#ffffff",
            "line": {
             "color": "#000000",
             "width": 2
            },
            "opacity": 1,
            "size": 10
           },
           "mode": "markers",
           "type": "scatter",
           "x": [
            965
           ],
           "y": [
            -35
           ]
          },
          {
           "line": {
            "color": "red",
            "width": 2
           },
           "mode": "lines",
           "name": "Tyler Lockett motion path",
           "type": "scatter",
           "x": [],
           "y": []
          },
          {
           "marker": {
            "color": "#ffffff",
            "line": {
             "color": "#000000",
             "width": 2
            },
            "opacity": 1,
            "size": 10
           },
           "mode": "markers",
           "type": "scatter",
           "x": [
            -10
           ],
           "y": [
            -22
           ]
          },
          {
           "line": {
            "color": "red",
            "width": 2
           },
           "mode": "lines",
           "name": "Austin Blythe motion path",
           "type": "scatter",
           "x": [],
           "y": []
          },
          {
           "marker": {
            "color": "#ffffff",
            "line": {
             "color": "#000000",
             "width": 2
            },
            "opacity": 1,
            "size": 10
           },
           "mode": "markers",
           "type": "scatter",
           "x": [
            0
           ],
           "y": [
            -743
           ]
          },
          {
           "line": {
            "color": "red",
            "width": 2
           },
           "mode": "lines",
           "name": "Rashaad Penny motion path",
           "type": "scatter",
           "x": [],
           "y": []
          },
          {
           "marker": {
            "color": "#ff0000",
            "line": {
             "color": "#000000",
             "width": 2
            },
            "opacity": 1,
            "size": 10
           },
           "mode": "markers",
           "type": "scatter",
           "x": [
            419
           ],
           "y": [
            -185
           ]
          },
          {
           "hoverinfo": "none",
           "marker": {
            "color": "rgba(255, 0, 0, 0.5)",
            "line": {
             "color": "red",
             "width": 2
            },
            "size": 20
           },
           "mode": "markers",
           "name": "Will Dissly in motion",
           "type": "scatter",
           "x": [
            419
           ],
           "y": [
            -185
           ]
          },
          {
           "line": {
            "color": "red",
            "width": 2
           },
           "mode": "lines",
           "name": "Will Dissly motion path",
           "type": "scatter",
           "x": [
            -238,
            -230,
            -220,
            -206,
            -190,
            -170,
            -147,
            -120,
            -89,
            -56,
            -19,
            20,
            60,
            100,
            141,
            181,
            221,
            259,
            296,
            330,
            362,
            392,
            419
           ],
           "y": [
            -464,
            -460,
            -456,
            -450,
            -442,
            -432,
            -421,
            -409,
            -392,
            -378,
            -360,
            -343,
            -326,
            -308,
            -292,
            -276,
            -261,
            -247,
            -233,
            -219,
            -207,
            -196,
            -185
           ]
          },
          {
           "marker": {
            "color": "#ff0000",
            "line": {
             "color": "#000000",
             "width": 2
            },
            "opacity": 1,
            "size": 10
           },
           "mode": "markers",
           "type": "scatter",
           "x": [
            -456
           ],
           "y": [
            -193
           ]
          },
          {
           "line": {
            "color": "red",
            "width": 2
           },
           "mode": "lines",
           "name": "Noah Fant motion path",
           "type": "scatter",
           "x": [],
           "y": []
          },
          {
           "marker": {
            "color": "#ffffff",
            "line": {
             "color": "#000000",
             "width": 2
            },
            "opacity": 1,
            "size": 10
           },
           "mode": "markers",
           "type": "scatter",
           "x": [
            -941
           ],
           "y": [
            -89
           ]
          },
          {
           "line": {
            "color": "red",
            "width": 2
           },
           "mode": "lines",
           "name": "DK Metcalf motion path",
           "type": "scatter",
           "x": [],
           "y": []
          },
          {
           "marker": {
            "color": "#ffffff",
            "line": {
             "color": "#000000",
             "width": 2
            },
            "opacity": 1,
            "size": 10
           },
           "mode": "markers",
           "type": "scatter",
           "x": [
            -154
           ],
           "y": [
            -89
           ]
          },
          {
           "line": {
            "color": "red",
            "width": 2
           },
           "mode": "lines",
           "name": "Phil Haynes motion path",
           "type": "scatter",
           "x": [],
           "y": []
          },
          {
           "marker": {
            "color": "#ffffff",
            "line": {
             "color": "#000000",
             "width": 2
            },
            "opacity": 1,
            "size": 10
           },
           "mode": "markers",
           "type": "scatter",
           "x": [
            -290
           ],
           "y": [
            -122
           ]
          },
          {
           "line": {
            "color": "red",
            "width": 2
           },
           "mode": "lines",
           "name": "Charles Cross motion path",
           "type": "scatter",
           "x": [],
           "y": []
          },
          {
           "marker": {
            "color": "#ffffff",
            "line": {
             "color": "#000000",
             "width": 2
            },
            "opacity": 1,
            "size": 10
           },
           "mode": "markers",
           "type": "scatter",
           "x": [
            312
           ],
           "y": [
            -97
           ]
          },
          {
           "line": {
            "color": "red",
            "width": 2
           },
           "mode": "lines",
           "name": "Abraham Lucas motion path",
           "type": "scatter",
           "x": [],
           "y": []
          }
         ],
         "name": "86"
        },
        {
         "data": [
          {
           "marker": {
            "color": "#ffffff",
            "line": {
             "color": "#000000",
             "width": 2
            },
            "opacity": 1,
            "size": 10
           },
           "mode": "markers",
           "type": "scatter",
           "x": [
            -6
           ],
           "y": [
            -136
           ]
          },
          {
           "line": {
            "color": "red",
            "width": 2
           },
           "mode": "lines",
           "name": "Geno Smith motion path",
           "type": "scatter",
           "x": [],
           "y": []
          },
          {
           "marker": {
            "color": "#ffffff",
            "line": {
             "color": "#000000",
             "width": 2
            },
            "opacity": 1,
            "size": 10
           },
           "mode": "markers",
           "type": "scatter",
           "x": [
            164
           ],
           "y": [
            -94
           ]
          },
          {
           "line": {
            "color": "red",
            "width": 2
           },
           "mode": "lines",
           "name": "Gabe Jackson motion path",
           "type": "scatter",
           "x": [],
           "y": []
          },
          {
           "marker": {
            "color": "#ffffff",
            "line": {
             "color": "#000000",
             "width": 2
            },
            "opacity": 1,
            "size": 10
           },
           "mode": "markers",
           "type": "scatter",
           "x": [
            966
           ],
           "y": [
            -35
           ]
          },
          {
           "line": {
            "color": "red",
            "width": 2
           },
           "mode": "lines",
           "name": "Tyler Lockett motion path",
           "type": "scatter",
           "x": [],
           "y": []
          },
          {
           "marker": {
            "color": "#ffffff",
            "line": {
             "color": "#000000",
             "width": 2
            },
            "opacity": 1,
            "size": 10
           },
           "mode": "markers",
           "type": "scatter",
           "x": [
            -11
           ],
           "y": [
            -23
           ]
          },
          {
           "line": {
            "color": "red",
            "width": 2
           },
           "mode": "lines",
           "name": "Austin Blythe motion path",
           "type": "scatter",
           "x": [],
           "y": []
          },
          {
           "marker": {
            "color": "#ffffff",
            "line": {
             "color": "#000000",
             "width": 2
            },
            "opacity": 1,
            "size": 10
           },
           "mode": "markers",
           "type": "scatter",
           "x": [
            0
           ],
           "y": [
            -742
           ]
          },
          {
           "line": {
            "color": "red",
            "width": 2
           },
           "mode": "lines",
           "name": "Rashaad Penny motion path",
           "type": "scatter",
           "x": [],
           "y": []
          },
          {
           "marker": {
            "color": "#ff0000",
            "line": {
             "color": "#000000",
             "width": 2
            },
            "opacity": 1,
            "size": 10
           },
           "mode": "markers",
           "type": "scatter",
           "x": [
            444
           ],
           "y": [
            -176
           ]
          },
          {
           "hoverinfo": "none",
           "marker": {
            "color": "rgba(255, 0, 0, 0.5)",
            "line": {
             "color": "red",
             "width": 2
            },
            "size": 20
           },
           "mode": "markers",
           "name": "Will Dissly in motion",
           "type": "scatter",
           "x": [
            444
           ],
           "y": [
            -176
           ]
          },
          {
           "line": {
            "color": "red",
            "width": 2
           },
           "mode": "lines",
           "name": "Will Dissly motion path",
           "type": "scatter",
           "x": [
            -238,
            -230,
            -220,
            -206,
            -190,
            -170,
            -147,
            -120,
            -89,
            -56,
            -19,
            20,
            60,
            100,
            141,
            181,
            221,
            259,
            296,
            330,
            362,
            392,
            419,
            444
           ],
           "y": [
            -464,
            -460,
            -456,
            -450,
            -442,
            -432,
            -421,
            -409,
            -392,
            -378,
            -360,
            -343,
            -326,
            -308,
            -292,
            -276,
            -261,
            -247,
            -233,
            -219,
            -207,
            -196,
            -185,
            -176
           ]
          },
          {
           "marker": {
            "color": "#ff0000",
            "line": {
             "color": "#000000",
             "width": 2
            },
            "opacity": 1,
            "size": 10
           },
           "mode": "markers",
           "type": "scatter",
           "x": [
            -457
           ],
           "y": [
            -193
           ]
          },
          {
           "line": {
            "color": "red",
            "width": 2
           },
           "mode": "lines",
           "name": "Noah Fant motion path",
           "type": "scatter",
           "x": [],
           "y": []
          },
          {
           "marker": {
            "color": "#ffffff",
            "line": {
             "color": "#000000",
             "width": 2
            },
            "opacity": 1,
            "size": 10
           },
           "mode": "markers",
           "type": "scatter",
           "x": [
            -941
           ],
           "y": [
            -89
           ]
          },
          {
           "line": {
            "color": "red",
            "width": 2
           },
           "mode": "lines",
           "name": "DK Metcalf motion path",
           "type": "scatter",
           "x": [],
           "y": []
          },
          {
           "marker": {
            "color": "#ffffff",
            "line": {
             "color": "#000000",
             "width": 2
            },
            "opacity": 1,
            "size": 10
           },
           "mode": "markers",
           "type": "scatter",
           "x": [
            -154
           ],
           "y": [
            -90
           ]
          },
          {
           "line": {
            "color": "red",
            "width": 2
           },
           "mode": "lines",
           "name": "Phil Haynes motion path",
           "type": "scatter",
           "x": [],
           "y": []
          },
          {
           "marker": {
            "color": "#ffffff",
            "line": {
             "color": "#000000",
             "width": 2
            },
            "opacity": 1,
            "size": 10
           },
           "mode": "markers",
           "type": "scatter",
           "x": [
            -290
           ],
           "y": [
            -122
           ]
          },
          {
           "line": {
            "color": "red",
            "width": 2
           },
           "mode": "lines",
           "name": "Charles Cross motion path",
           "type": "scatter",
           "x": [],
           "y": []
          },
          {
           "marker": {
            "color": "#ffffff",
            "line": {
             "color": "#000000",
             "width": 2
            },
            "opacity": 1,
            "size": 10
           },
           "mode": "markers",
           "type": "scatter",
           "x": [
            313
           ],
           "y": [
            -97
           ]
          },
          {
           "line": {
            "color": "red",
            "width": 2
           },
           "mode": "lines",
           "name": "Abraham Lucas motion path",
           "type": "scatter",
           "x": [],
           "y": []
          }
         ],
         "name": "87"
        },
        {
         "data": [
          {
           "marker": {
            "color": "#ffffff",
            "line": {
             "color": "#000000",
             "width": 2
            },
            "opacity": 1,
            "size": 10
           },
           "mode": "markers",
           "type": "scatter",
           "x": [
            -5
           ],
           "y": [
            -136
           ]
          },
          {
           "line": {
            "color": "red",
            "width": 2
           },
           "mode": "lines",
           "name": "Geno Smith motion path",
           "type": "scatter",
           "x": [],
           "y": []
          },
          {
           "marker": {
            "color": "#ffffff",
            "line": {
             "color": "#000000",
             "width": 2
            },
            "opacity": 1,
            "size": 10
           },
           "mode": "markers",
           "type": "scatter",
           "x": [
            166
           ],
           "y": [
            -96
           ]
          },
          {
           "line": {
            "color": "red",
            "width": 2
           },
           "mode": "lines",
           "name": "Gabe Jackson motion path",
           "type": "scatter",
           "x": [],
           "y": []
          },
          {
           "marker": {
            "color": "#ffffff",
            "line": {
             "color": "#000000",
             "width": 2
            },
            "opacity": 1,
            "size": 10
           },
           "mode": "markers",
           "type": "scatter",
           "x": [
            967
           ],
           "y": [
            -33
           ]
          },
          {
           "line": {
            "color": "red",
            "width": 2
           },
           "mode": "lines",
           "name": "Tyler Lockett motion path",
           "type": "scatter",
           "x": [],
           "y": []
          },
          {
           "marker": {
            "color": "#ffffff",
            "line": {
             "color": "#000000",
             "width": 2
            },
            "opacity": 1,
            "size": 10
           },
           "mode": "markers",
           "type": "scatter",
           "x": [
            -10
           ],
           "y": [
            -24
           ]
          },
          {
           "line": {
            "color": "red",
            "width": 2
           },
           "mode": "lines",
           "name": "Austin Blythe motion path",
           "type": "scatter",
           "x": [],
           "y": []
          },
          {
           "marker": {
            "color": "#ffffff",
            "line": {
             "color": "#000000",
             "width": 2
            },
            "opacity": 1,
            "size": 10
           },
           "mode": "markers",
           "type": "scatter",
           "x": [
            1
           ],
           "y": [
            -742
           ]
          },
          {
           "line": {
            "color": "red",
            "width": 2
           },
           "mode": "lines",
           "name": "Rashaad Penny motion path",
           "type": "scatter",
           "x": [],
           "y": []
          },
          {
           "marker": {
            "color": "#ff0000",
            "line": {
             "color": "#000000",
             "width": 2
            },
            "opacity": 1,
            "size": 10
           },
           "mode": "markers",
           "type": "scatter",
           "x": [
            468
           ],
           "y": [
            -168
           ]
          },
          {
           "hoverinfo": "none",
           "marker": {
            "color": "rgba(255, 0, 0, 0.5)",
            "line": {
             "color": "red",
             "width": 2
            },
            "size": 20
           },
           "mode": "markers",
           "name": "Will Dissly in motion",
           "type": "scatter",
           "x": [
            468
           ],
           "y": [
            -168
           ]
          },
          {
           "line": {
            "color": "red",
            "width": 2
           },
           "mode": "lines",
           "name": "Will Dissly motion path",
           "type": "scatter",
           "x": [
            -238,
            -230,
            -220,
            -206,
            -190,
            -170,
            -147,
            -120,
            -89,
            -56,
            -19,
            20,
            60,
            100,
            141,
            181,
            221,
            259,
            296,
            330,
            362,
            392,
            419,
            444,
            468
           ],
           "y": [
            -464,
            -460,
            -456,
            -450,
            -442,
            -432,
            -421,
            -409,
            -392,
            -378,
            -360,
            -343,
            -326,
            -308,
            -292,
            -276,
            -261,
            -247,
            -233,
            -219,
            -207,
            -196,
            -185,
            -176,
            -168
           ]
          },
          {
           "marker": {
            "color": "#ff0000",
            "line": {
             "color": "#000000",
             "width": 2
            },
            "opacity": 1,
            "size": 10
           },
           "mode": "markers",
           "type": "scatter",
           "x": [
            -456
           ],
           "y": [
            -192
           ]
          },
          {
           "line": {
            "color": "red",
            "width": 2
           },
           "mode": "lines",
           "name": "Noah Fant motion path",
           "type": "scatter",
           "x": [],
           "y": []
          },
          {
           "marker": {
            "color": "#ffffff",
            "line": {
             "color": "#000000",
             "width": 2
            },
            "opacity": 1,
            "size": 10
           },
           "mode": "markers",
           "type": "scatter",
           "x": [
            -941
           ],
           "y": [
            -90
           ]
          },
          {
           "line": {
            "color": "red",
            "width": 2
           },
           "mode": "lines",
           "name": "DK Metcalf motion path",
           "type": "scatter",
           "x": [],
           "y": []
          },
          {
           "marker": {
            "color": "#ffffff",
            "line": {
             "color": "#000000",
             "width": 2
            },
            "opacity": 1,
            "size": 10
           },
           "mode": "markers",
           "type": "scatter",
           "x": [
            -153
           ],
           "y": [
            -91
           ]
          },
          {
           "line": {
            "color": "red",
            "width": 2
           },
           "mode": "lines",
           "name": "Phil Haynes motion path",
           "type": "scatter",
           "x": [],
           "y": []
          },
          {
           "marker": {
            "color": "#ffffff",
            "line": {
             "color": "#000000",
             "width": 2
            },
            "opacity": 1,
            "size": 10
           },
           "mode": "markers",
           "type": "scatter",
           "x": [
            -289
           ],
           "y": [
            -123
           ]
          },
          {
           "line": {
            "color": "red",
            "width": 2
           },
           "mode": "lines",
           "name": "Charles Cross motion path",
           "type": "scatter",
           "x": [],
           "y": []
          },
          {
           "marker": {
            "color": "#ffffff",
            "line": {
             "color": "#000000",
             "width": 2
            },
            "opacity": 1,
            "size": 10
           },
           "mode": "markers",
           "type": "scatter",
           "x": [
            314
           ],
           "y": [
            -97
           ]
          },
          {
           "line": {
            "color": "red",
            "width": 2
           },
           "mode": "lines",
           "name": "Abraham Lucas motion path",
           "type": "scatter",
           "x": [],
           "y": []
          }
         ],
         "name": "88"
        },
        {
         "data": [
          {
           "marker": {
            "color": "#ffffff",
            "line": {
             "color": "#000000",
             "width": 2
            },
            "opacity": 1,
            "size": 10
           },
           "mode": "markers",
           "type": "scatter",
           "x": [
            -5
           ],
           "y": [
            -136
           ]
          },
          {
           "line": {
            "color": "red",
            "width": 2
           },
           "mode": "lines",
           "name": "Geno Smith motion path",
           "type": "scatter",
           "x": [],
           "y": []
          },
          {
           "marker": {
            "color": "#ffffff",
            "line": {
             "color": "#000000",
             "width": 2
            },
            "opacity": 1,
            "size": 10
           },
           "mode": "markers",
           "type": "scatter",
           "x": [
            166
           ],
           "y": [
            -96
           ]
          },
          {
           "line": {
            "color": "red",
            "width": 2
           },
           "mode": "lines",
           "name": "Gabe Jackson motion path",
           "type": "scatter",
           "x": [],
           "y": []
          },
          {
           "marker": {
            "color": "#ffffff",
            "line": {
             "color": "#000000",
             "width": 2
            },
            "opacity": 1,
            "size": 10
           },
           "mode": "markers",
           "type": "scatter",
           "x": [
            967
           ],
           "y": [
            -33
           ]
          },
          {
           "line": {
            "color": "red",
            "width": 2
           },
           "mode": "lines",
           "name": "Tyler Lockett motion path",
           "type": "scatter",
           "x": [],
           "y": []
          },
          {
           "marker": {
            "color": "#ffffff",
            "line": {
             "color": "#000000",
             "width": 2
            },
            "opacity": 1,
            "size": 10
           },
           "mode": "markers",
           "type": "scatter",
           "x": [
            -10
           ],
           "y": [
            -25
           ]
          },
          {
           "line": {
            "color": "red",
            "width": 2
           },
           "mode": "lines",
           "name": "Austin Blythe motion path",
           "type": "scatter",
           "x": [],
           "y": []
          },
          {
           "marker": {
            "color": "#ffffff",
            "line": {
             "color": "#000000",
             "width": 2
            },
            "opacity": 1,
            "size": 10
           },
           "mode": "markers",
           "type": "scatter",
           "x": [
            2
           ],
           "y": [
            -742
           ]
          },
          {
           "line": {
            "color": "red",
            "width": 2
           },
           "mode": "lines",
           "name": "Rashaad Penny motion path",
           "type": "scatter",
           "x": [],
           "y": []
          },
          {
           "marker": {
            "color": "#ff0000",
            "line": {
             "color": "#000000",
             "width": 2
            },
            "opacity": 1,
            "size": 10
           },
           "mode": "markers",
           "type": "scatter",
           "x": [
            488
           ],
           "y": [
            -161
           ]
          },
          {
           "hoverinfo": "none",
           "marker": {
            "color": "rgba(255, 0, 0, 0.5)",
            "line": {
             "color": "red",
             "width": 2
            },
            "size": 20
           },
           "mode": "markers",
           "name": "Will Dissly in motion",
           "type": "scatter",
           "x": [
            488
           ],
           "y": [
            -161
           ]
          },
          {
           "line": {
            "color": "red",
            "width": 2
           },
           "mode": "lines",
           "name": "Will Dissly motion path",
           "type": "scatter",
           "x": [
            -238,
            -230,
            -220,
            -206,
            -190,
            -170,
            -147,
            -120,
            -89,
            -56,
            -19,
            20,
            60,
            100,
            141,
            181,
            221,
            259,
            296,
            330,
            362,
            392,
            419,
            444,
            468,
            488
           ],
           "y": [
            -464,
            -460,
            -456,
            -450,
            -442,
            -432,
            -421,
            -409,
            -392,
            -378,
            -360,
            -343,
            -326,
            -308,
            -292,
            -276,
            -261,
            -247,
            -233,
            -219,
            -207,
            -196,
            -185,
            -176,
            -168,
            -161
           ]
          },
          {
           "marker": {
            "color": "#ff0000",
            "line": {
             "color": "#000000",
             "width": 2
            },
            "opacity": 1,
            "size": 10
           },
           "mode": "markers",
           "type": "scatter",
           "x": [
            -457
           ],
           "y": [
            -193
           ]
          },
          {
           "line": {
            "color": "red",
            "width": 2
           },
           "mode": "lines",
           "name": "Noah Fant motion path",
           "type": "scatter",
           "x": [],
           "y": []
          },
          {
           "marker": {
            "color": "#ffffff",
            "line": {
             "color": "#000000",
             "width": 2
            },
            "opacity": 1,
            "size": 10
           },
           "mode": "markers",
           "type": "scatter",
           "x": [
            -941
           ],
           "y": [
            -90
           ]
          },
          {
           "line": {
            "color": "red",
            "width": 2
           },
           "mode": "lines",
           "name": "DK Metcalf motion path",
           "type": "scatter",
           "x": [],
           "y": []
          },
          {
           "marker": {
            "color": "#ffffff",
            "line": {
             "color": "#000000",
             "width": 2
            },
            "opacity": 1,
            "size": 10
           },
           "mode": "markers",
           "type": "scatter",
           "x": [
            -153
           ],
           "y": [
            -91
           ]
          },
          {
           "line": {
            "color": "red",
            "width": 2
           },
           "mode": "lines",
           "name": "Phil Haynes motion path",
           "type": "scatter",
           "x": [],
           "y": []
          },
          {
           "marker": {
            "color": "#ffffff",
            "line": {
             "color": "#000000",
             "width": 2
            },
            "opacity": 1,
            "size": 10
           },
           "mode": "markers",
           "type": "scatter",
           "x": [
            -289
           ],
           "y": [
            -123
           ]
          },
          {
           "line": {
            "color": "red",
            "width": 2
           },
           "mode": "lines",
           "name": "Charles Cross motion path",
           "type": "scatter",
           "x": [],
           "y": []
          },
          {
           "marker": {
            "color": "#ffffff",
            "line": {
             "color": "#000000",
             "width": 2
            },
            "opacity": 1,
            "size": 10
           },
           "mode": "markers",
           "type": "scatter",
           "x": [
            315
           ],
           "y": [
            -98
           ]
          },
          {
           "line": {
            "color": "red",
            "width": 2
           },
           "mode": "lines",
           "name": "Abraham Lucas motion path",
           "type": "scatter",
           "x": [],
           "y": []
          }
         ],
         "name": "89"
        },
        {
         "data": [
          {
           "marker": {
            "color": "#ffffff",
            "line": {
             "color": "#000000",
             "width": 2
            },
            "opacity": 1,
            "size": 10
           },
           "mode": "markers",
           "type": "scatter",
           "x": [
            -5
           ],
           "y": [
            -136
           ]
          },
          {
           "line": {
            "color": "red",
            "width": 2
           },
           "mode": "lines",
           "name": "Geno Smith motion path",
           "type": "scatter",
           "x": [],
           "y": []
          },
          {
           "marker": {
            "color": "#ffffff",
            "line": {
             "color": "#000000",
             "width": 2
            },
            "opacity": 1,
            "size": 10
           },
           "mode": "markers",
           "type": "scatter",
           "x": [
            165
           ],
           "y": [
            -96
           ]
          },
          {
           "line": {
            "color": "red",
            "width": 2
           },
           "mode": "lines",
           "name": "Gabe Jackson motion path",
           "type": "scatter",
           "x": [],
           "y": []
          },
          {
           "marker": {
            "color": "#ffffff",
            "line": {
             "color": "#000000",
             "width": 2
            },
            "opacity": 1,
            "size": 10
           },
           "mode": "markers",
           "type": "scatter",
           "x": [
            967
           ],
           "y": [
            -32
           ]
          },
          {
           "line": {
            "color": "red",
            "width": 2
           },
           "mode": "lines",
           "name": "Tyler Lockett motion path",
           "type": "scatter",
           "x": [],
           "y": []
          },
          {
           "marker": {
            "color": "#ffffff",
            "line": {
             "color": "#000000",
             "width": 2
            },
            "opacity": 1,
            "size": 10
           },
           "mode": "markers",
           "type": "scatter",
           "x": [
            -10
           ],
           "y": [
            -25
           ]
          },
          {
           "line": {
            "color": "red",
            "width": 2
           },
           "mode": "lines",
           "name": "Austin Blythe motion path",
           "type": "scatter",
           "x": [],
           "y": []
          },
          {
           "marker": {
            "color": "#ffffff",
            "line": {
             "color": "#000000",
             "width": 2
            },
            "opacity": 1,
            "size": 10
           },
           "mode": "markers",
           "type": "scatter",
           "x": [
            3
           ],
           "y": [
            -742
           ]
          },
          {
           "line": {
            "color": "red",
            "width": 2
           },
           "mode": "lines",
           "name": "Rashaad Penny motion path",
           "type": "scatter",
           "x": [],
           "y": []
          },
          {
           "marker": {
            "color": "#ff0000",
            "line": {
             "color": "#000000",
             "width": 2
            },
            "opacity": 1,
            "size": 10
           },
           "mode": "markers",
           "type": "scatter",
           "x": [
            504
           ],
           "y": [
            -156
           ]
          },
          {
           "hoverinfo": "none",
           "marker": {
            "color": "rgba(255, 0, 0, 0.5)",
            "line": {
             "color": "red",
             "width": 2
            },
            "size": 20
           },
           "mode": "markers",
           "name": "Will Dissly in motion",
           "type": "scatter",
           "x": [
            504
           ],
           "y": [
            -156
           ]
          },
          {
           "line": {
            "color": "red",
            "width": 2
           },
           "mode": "lines",
           "name": "Will Dissly motion path",
           "type": "scatter",
           "x": [
            -238,
            -230,
            -220,
            -206,
            -190,
            -170,
            -147,
            -120,
            -89,
            -56,
            -19,
            20,
            60,
            100,
            141,
            181,
            221,
            259,
            296,
            330,
            362,
            392,
            419,
            444,
            468,
            488,
            504
           ],
           "y": [
            -464,
            -460,
            -456,
            -450,
            -442,
            -432,
            -421,
            -409,
            -392,
            -378,
            -360,
            -343,
            -326,
            -308,
            -292,
            -276,
            -261,
            -247,
            -233,
            -219,
            -207,
            -196,
            -185,
            -176,
            -168,
            -161,
            -156
           ]
          },
          {
           "marker": {
            "color": "#ff0000",
            "line": {
             "color": "#000000",
             "width": 2
            },
            "opacity": 1,
            "size": 10
           },
           "mode": "markers",
           "type": "scatter",
           "x": [
            -458
           ],
           "y": [
            -193
           ]
          },
          {
           "line": {
            "color": "red",
            "width": 2
           },
           "mode": "lines",
           "name": "Noah Fant motion path",
           "type": "scatter",
           "x": [],
           "y": []
          },
          {
           "marker": {
            "color": "#ffffff",
            "line": {
             "color": "#000000",
             "width": 2
            },
            "opacity": 1,
            "size": 10
           },
           "mode": "markers",
           "type": "scatter",
           "x": [
            -942
           ],
           "y": [
            -90
           ]
          },
          {
           "line": {
            "color": "red",
            "width": 2
           },
           "mode": "lines",
           "name": "DK Metcalf motion path",
           "type": "scatter",
           "x": [],
           "y": []
          },
          {
           "marker": {
            "color": "#ffffff",
            "line": {
             "color": "#000000",
             "width": 2
            },
            "opacity": 1,
            "size": 10
           },
           "mode": "markers",
           "type": "scatter",
           "x": [
            -153
           ],
           "y": [
            -92
           ]
          },
          {
           "line": {
            "color": "red",
            "width": 2
           },
           "mode": "lines",
           "name": "Phil Haynes motion path",
           "type": "scatter",
           "x": [],
           "y": []
          },
          {
           "marker": {
            "color": "#ffffff",
            "line": {
             "color": "#000000",
             "width": 2
            },
            "opacity": 1,
            "size": 10
           },
           "mode": "markers",
           "type": "scatter",
           "x": [
            -289
           ],
           "y": [
            -123
           ]
          },
          {
           "line": {
            "color": "red",
            "width": 2
           },
           "mode": "lines",
           "name": "Charles Cross motion path",
           "type": "scatter",
           "x": [],
           "y": []
          },
          {
           "marker": {
            "color": "#ffffff",
            "line": {
             "color": "#000000",
             "width": 2
            },
            "opacity": 1,
            "size": 10
           },
           "mode": "markers",
           "type": "scatter",
           "x": [
            315
           ],
           "y": [
            -98
           ]
          },
          {
           "line": {
            "color": "red",
            "width": 2
           },
           "mode": "lines",
           "name": "Abraham Lucas motion path",
           "type": "scatter",
           "x": [],
           "y": []
          }
         ],
         "name": "90"
        },
        {
         "data": [
          {
           "marker": {
            "color": "#ffffff",
            "line": {
             "color": "#000000",
             "width": 2
            },
            "opacity": 1,
            "size": 10
           },
           "mode": "markers",
           "type": "scatter",
           "x": [
            -6
           ],
           "y": [
            -136
           ]
          },
          {
           "line": {
            "color": "red",
            "width": 2
           },
           "mode": "lines",
           "name": "Geno Smith motion path",
           "type": "scatter",
           "x": [],
           "y": []
          },
          {
           "marker": {
            "color": "#ffffff",
            "line": {
             "color": "#000000",
             "width": 2
            },
            "opacity": 1,
            "size": 10
           },
           "mode": "markers",
           "type": "scatter",
           "x": [
            165
           ],
           "y": [
            -96
           ]
          },
          {
           "line": {
            "color": "red",
            "width": 2
           },
           "mode": "lines",
           "name": "Gabe Jackson motion path",
           "type": "scatter",
           "x": [],
           "y": []
          },
          {
           "marker": {
            "color": "#ffffff",
            "line": {
             "color": "#000000",
             "width": 2
            },
            "opacity": 1,
            "size": 10
           },
           "mode": "markers",
           "type": "scatter",
           "x": [
            967
           ],
           "y": [
            -31
           ]
          },
          {
           "line": {
            "color": "red",
            "width": 2
           },
           "mode": "lines",
           "name": "Tyler Lockett motion path",
           "type": "scatter",
           "x": [],
           "y": []
          },
          {
           "marker": {
            "color": "#ffffff",
            "line": {
             "color": "#000000",
             "width": 2
            },
            "opacity": 1,
            "size": 10
           },
           "mode": "markers",
           "type": "scatter",
           "x": [
            -11
           ],
           "y": [
            -25
           ]
          },
          {
           "line": {
            "color": "red",
            "width": 2
           },
           "mode": "lines",
           "name": "Austin Blythe motion path",
           "type": "scatter",
           "x": [],
           "y": []
          },
          {
           "marker": {
            "color": "#ffffff",
            "line": {
             "color": "#000000",
             "width": 2
            },
            "opacity": 1,
            "size": 10
           },
           "mode": "markers",
           "type": "scatter",
           "x": [
            3
           ],
           "y": [
            -741
           ]
          },
          {
           "line": {
            "color": "red",
            "width": 2
           },
           "mode": "lines",
           "name": "Rashaad Penny motion path",
           "type": "scatter",
           "x": [],
           "y": []
          },
          {
           "marker": {
            "color": "#ff0000",
            "line": {
             "color": "#000000",
             "width": 2
            },
            "opacity": 1,
            "size": 10
           },
           "mode": "markers",
           "type": "scatter",
           "x": [
            518
           ],
           "y": [
            -153
           ]
          },
          {
           "hoverinfo": "none",
           "marker": {
            "color": "rgba(255, 0, 0, 0.5)",
            "line": {
             "color": "red",
             "width": 2
            },
            "size": 20
           },
           "mode": "markers",
           "name": "Will Dissly in motion",
           "type": "scatter",
           "x": [
            518
           ],
           "y": [
            -153
           ]
          },
          {
           "line": {
            "color": "red",
            "width": 2
           },
           "mode": "lines",
           "name": "Will Dissly motion path",
           "type": "scatter",
           "x": [
            -238,
            -230,
            -220,
            -206,
            -190,
            -170,
            -147,
            -120,
            -89,
            -56,
            -19,
            20,
            60,
            100,
            141,
            181,
            221,
            259,
            296,
            330,
            362,
            392,
            419,
            444,
            468,
            488,
            504,
            518
           ],
           "y": [
            -464,
            -460,
            -456,
            -450,
            -442,
            -432,
            -421,
            -409,
            -392,
            -378,
            -360,
            -343,
            -326,
            -308,
            -292,
            -276,
            -261,
            -247,
            -233,
            -219,
            -207,
            -196,
            -185,
            -176,
            -168,
            -161,
            -156,
            -153
           ]
          },
          {
           "marker": {
            "color": "#ff0000",
            "line": {
             "color": "#000000",
             "width": 2
            },
            "opacity": 1,
            "size": 10
           },
           "mode": "markers",
           "type": "scatter",
           "x": [
            -459
           ],
           "y": [
            -194
           ]
          },
          {
           "line": {
            "color": "red",
            "width": 2
           },
           "mode": "lines",
           "name": "Noah Fant motion path",
           "type": "scatter",
           "x": [],
           "y": []
          },
          {
           "marker": {
            "color": "#ffffff",
            "line": {
             "color": "#000000",
             "width": 2
            },
            "opacity": 1,
            "size": 10
           },
           "mode": "markers",
           "type": "scatter",
           "x": [
            -942
           ],
           "y": [
            -91
           ]
          },
          {
           "line": {
            "color": "red",
            "width": 2
           },
           "mode": "lines",
           "name": "DK Metcalf motion path",
           "type": "scatter",
           "x": [],
           "y": []
          },
          {
           "marker": {
            "color": "#ffffff",
            "line": {
             "color": "#000000",
             "width": 2
            },
            "opacity": 1,
            "size": 10
           },
           "mode": "markers",
           "type": "scatter",
           "x": [
            -153
           ],
           "y": [
            -93
           ]
          },
          {
           "line": {
            "color": "red",
            "width": 2
           },
           "mode": "lines",
           "name": "Phil Haynes motion path",
           "type": "scatter",
           "x": [],
           "y": []
          },
          {
           "marker": {
            "color": "#ffffff",
            "line": {
             "color": "#000000",
             "width": 2
            },
            "opacity": 1,
            "size": 10
           },
           "mode": "markers",
           "type": "scatter",
           "x": [
            -289
           ],
           "y": [
            -123
           ]
          },
          {
           "line": {
            "color": "red",
            "width": 2
           },
           "mode": "lines",
           "name": "Charles Cross motion path",
           "type": "scatter",
           "x": [],
           "y": []
          },
          {
           "marker": {
            "color": "#ffffff",
            "line": {
             "color": "#000000",
             "width": 2
            },
            "opacity": 1,
            "size": 10
           },
           "mode": "markers",
           "type": "scatter",
           "x": [
            316
           ],
           "y": [
            -100
           ]
          },
          {
           "line": {
            "color": "red",
            "width": 2
           },
           "mode": "lines",
           "name": "Abraham Lucas motion path",
           "type": "scatter",
           "x": [],
           "y": []
          }
         ],
         "name": "91"
        },
        {
         "data": [
          {
           "marker": {
            "color": "#ffffff",
            "line": {
             "color": "#000000",
             "width": 2
            },
            "opacity": 1,
            "size": 10
           },
           "mode": "markers",
           "type": "scatter",
           "x": [
            -7
           ],
           "y": [
            -136
           ]
          },
          {
           "line": {
            "color": "red",
            "width": 2
           },
           "mode": "lines",
           "name": "Geno Smith motion path",
           "type": "scatter",
           "x": [],
           "y": []
          },
          {
           "marker": {
            "color": "#ffffff",
            "line": {
             "color": "#000000",
             "width": 2
            },
            "opacity": 1,
            "size": 10
           },
           "mode": "markers",
           "type": "scatter",
           "x": [
            165
           ],
           "y": [
            -97
           ]
          },
          {
           "line": {
            "color": "red",
            "width": 2
           },
           "mode": "lines",
           "name": "Gabe Jackson motion path",
           "type": "scatter",
           "x": [],
           "y": []
          },
          {
           "marker": {
            "color": "#ffffff",
            "line": {
             "color": "#000000",
             "width": 2
            },
            "opacity": 1,
            "size": 10
           },
           "mode": "markers",
           "type": "scatter",
           "x": [
            966
           ],
           "y": [
            -31
           ]
          },
          {
           "line": {
            "color": "red",
            "width": 2
           },
           "mode": "lines",
           "name": "Tyler Lockett motion path",
           "type": "scatter",
           "x": [],
           "y": []
          },
          {
           "marker": {
            "color": "#ffffff",
            "line": {
             "color": "#000000",
             "width": 2
            },
            "opacity": 1,
            "size": 10
           },
           "mode": "markers",
           "type": "scatter",
           "x": [
            -11
           ],
           "y": [
            -25
           ]
          },
          {
           "line": {
            "color": "red",
            "width": 2
           },
           "mode": "lines",
           "name": "Austin Blythe motion path",
           "type": "scatter",
           "x": [],
           "y": []
          },
          {
           "marker": {
            "color": "#ffffff",
            "line": {
             "color": "#000000",
             "width": 2
            },
            "opacity": 1,
            "size": 10
           },
           "mode": "markers",
           "type": "scatter",
           "x": [
            3
           ],
           "y": [
            -741
           ]
          },
          {
           "line": {
            "color": "red",
            "width": 2
           },
           "mode": "lines",
           "name": "Rashaad Penny motion path",
           "type": "scatter",
           "x": [],
           "y": []
          },
          {
           "marker": {
            "color": "#ff0000",
            "line": {
             "color": "#000000",
             "width": 2
            },
            "opacity": 1,
            "size": 10
           },
           "mode": "markers",
           "type": "scatter",
           "x": [
            528
           ],
           "y": [
            -149
           ]
          },
          {
           "hoverinfo": "none",
           "marker": {
            "color": "rgba(255, 0, 0, 0.5)",
            "line": {
             "color": "red",
             "width": 2
            },
            "size": 20
           },
           "mode": "markers",
           "name": "Will Dissly in motion",
           "type": "scatter",
           "x": [
            528
           ],
           "y": [
            -149
           ]
          },
          {
           "line": {
            "color": "red",
            "width": 2
           },
           "mode": "lines",
           "name": "Will Dissly motion path",
           "type": "scatter",
           "x": [
            -238,
            -230,
            -220,
            -206,
            -190,
            -170,
            -147,
            -120,
            -89,
            -56,
            -19,
            20,
            60,
            100,
            141,
            181,
            221,
            259,
            296,
            330,
            362,
            392,
            419,
            444,
            468,
            488,
            504,
            518,
            528
           ],
           "y": [
            -464,
            -460,
            -456,
            -450,
            -442,
            -432,
            -421,
            -409,
            -392,
            -378,
            -360,
            -343,
            -326,
            -308,
            -292,
            -276,
            -261,
            -247,
            -233,
            -219,
            -207,
            -196,
            -185,
            -176,
            -168,
            -161,
            -156,
            -153,
            -149
           ]
          },
          {
           "marker": {
            "color": "#ff0000",
            "line": {
             "color": "#000000",
             "width": 2
            },
            "opacity": 1,
            "size": 10
           },
           "mode": "markers",
           "type": "scatter",
           "x": [
            -460
           ],
           "y": [
            -196
           ]
          },
          {
           "line": {
            "color": "red",
            "width": 2
           },
           "mode": "lines",
           "name": "Noah Fant motion path",
           "type": "scatter",
           "x": [],
           "y": []
          },
          {
           "marker": {
            "color": "#ffffff",
            "line": {
             "color": "#000000",
             "width": 2
            },
            "opacity": 1,
            "size": 10
           },
           "mode": "markers",
           "type": "scatter",
           "x": [
            -944
           ],
           "y": [
            -92
           ]
          },
          {
           "line": {
            "color": "red",
            "width": 2
           },
           "mode": "lines",
           "name": "DK Metcalf motion path",
           "type": "scatter",
           "x": [],
           "y": []
          },
          {
           "marker": {
            "color": "#ffffff",
            "line": {
             "color": "#000000",
             "width": 2
            },
            "opacity": 1,
            "size": 10
           },
           "mode": "markers",
           "type": "scatter",
           "x": [
            -153
           ],
           "y": [
            -93
           ]
          },
          {
           "line": {
            "color": "red",
            "width": 2
           },
           "mode": "lines",
           "name": "Phil Haynes motion path",
           "type": "scatter",
           "x": [],
           "y": []
          },
          {
           "marker": {
            "color": "#ffffff",
            "line": {
             "color": "#000000",
             "width": 2
            },
            "opacity": 1,
            "size": 10
           },
           "mode": "markers",
           "type": "scatter",
           "x": [
            -290
           ],
           "y": [
            -123
           ]
          },
          {
           "line": {
            "color": "red",
            "width": 2
           },
           "mode": "lines",
           "name": "Charles Cross motion path",
           "type": "scatter",
           "x": [],
           "y": []
          },
          {
           "marker": {
            "color": "#ffffff",
            "line": {
             "color": "#000000",
             "width": 2
            },
            "opacity": 1,
            "size": 10
           },
           "mode": "markers",
           "type": "scatter",
           "x": [
            317
           ],
           "y": [
            -100
           ]
          },
          {
           "line": {
            "color": "red",
            "width": 2
           },
           "mode": "lines",
           "name": "Abraham Lucas motion path",
           "type": "scatter",
           "x": [],
           "y": []
          }
         ],
         "name": "92"
        },
        {
         "data": [
          {
           "marker": {
            "color": "#ffffff",
            "line": {
             "color": "#000000",
             "width": 2
            },
            "opacity": 1,
            "size": 10
           },
           "mode": "markers",
           "type": "scatter",
           "x": [
            -7
           ],
           "y": [
            -136
           ]
          },
          {
           "line": {
            "color": "red",
            "width": 2
           },
           "mode": "lines",
           "name": "Geno Smith motion path",
           "type": "scatter",
           "x": [],
           "y": []
          },
          {
           "marker": {
            "color": "#ffffff",
            "line": {
             "color": "#000000",
             "width": 2
            },
            "opacity": 1,
            "size": 10
           },
           "mode": "markers",
           "type": "scatter",
           "x": [
            165
           ],
           "y": [
            -97
           ]
          },
          {
           "line": {
            "color": "red",
            "width": 2
           },
           "mode": "lines",
           "name": "Gabe Jackson motion path",
           "type": "scatter",
           "x": [],
           "y": []
          },
          {
           "marker": {
            "color": "#ffffff",
            "line": {
             "color": "#000000",
             "width": 2
            },
            "opacity": 1,
            "size": 10
           },
           "mode": "markers",
           "type": "scatter",
           "x": [
            966
           ],
           "y": [
            -31
           ]
          },
          {
           "line": {
            "color": "red",
            "width": 2
           },
           "mode": "lines",
           "name": "Tyler Lockett motion path",
           "type": "scatter",
           "x": [],
           "y": []
          },
          {
           "marker": {
            "color": "#ffffff",
            "line": {
             "color": "#000000",
             "width": 2
            },
            "opacity": 1,
            "size": 10
           },
           "mode": "markers",
           "type": "scatter",
           "x": [
            -11
           ],
           "y": [
            -25
           ]
          },
          {
           "line": {
            "color": "red",
            "width": 2
           },
           "mode": "lines",
           "name": "Austin Blythe motion path",
           "type": "scatter",
           "x": [],
           "y": []
          },
          {
           "marker": {
            "color": "#ffffff",
            "line": {
             "color": "#000000",
             "width": 2
            },
            "opacity": 1,
            "size": 10
           },
           "mode": "markers",
           "type": "scatter",
           "x": [
            3
           ],
           "y": [
            -741
           ]
          },
          {
           "line": {
            "color": "red",
            "width": 2
           },
           "mode": "lines",
           "name": "Rashaad Penny motion path",
           "type": "scatter",
           "x": [],
           "y": []
          },
          {
           "marker": {
            "color": "#ff0000",
            "line": {
             "color": "#000000",
             "width": 2
            },
            "opacity": 1,
            "size": 10
           },
           "mode": "markers",
           "type": "scatter",
           "x": [
            536
           ],
           "y": [
            -147
           ]
          },
          {
           "hoverinfo": "none",
           "marker": {
            "color": "rgba(255, 0, 0, 0.5)",
            "line": {
             "color": "red",
             "width": 2
            },
            "size": 20
           },
           "mode": "markers",
           "name": "Will Dissly in motion",
           "type": "scatter",
           "x": [
            536
           ],
           "y": [
            -147
           ]
          },
          {
           "line": {
            "color": "red",
            "width": 2
           },
           "mode": "lines",
           "name": "Will Dissly motion path",
           "type": "scatter",
           "x": [
            -238,
            -230,
            -220,
            -206,
            -190,
            -170,
            -147,
            -120,
            -89,
            -56,
            -19,
            20,
            60,
            100,
            141,
            181,
            221,
            259,
            296,
            330,
            362,
            392,
            419,
            444,
            468,
            488,
            504,
            518,
            528,
            536
           ],
           "y": [
            -464,
            -460,
            -456,
            -450,
            -442,
            -432,
            -421,
            -409,
            -392,
            -378,
            -360,
            -343,
            -326,
            -308,
            -292,
            -276,
            -261,
            -247,
            -233,
            -219,
            -207,
            -196,
            -185,
            -176,
            -168,
            -161,
            -156,
            -153,
            -149,
            -147
           ]
          },
          {
           "marker": {
            "color": "#ff0000",
            "line": {
             "color": "#000000",
             "width": 2
            },
            "opacity": 1,
            "size": 10
           },
           "mode": "markers",
           "type": "scatter",
           "x": [
            -461
           ],
           "y": [
            -198
           ]
          },
          {
           "line": {
            "color": "red",
            "width": 2
           },
           "mode": "lines",
           "name": "Noah Fant motion path",
           "type": "scatter",
           "x": [],
           "y": []
          },
          {
           "marker": {
            "color": "#ffffff",
            "line": {
             "color": "#000000",
             "width": 2
            },
            "opacity": 1,
            "size": 10
           },
           "mode": "markers",
           "type": "scatter",
           "x": [
            -944
           ],
           "y": [
            -92
           ]
          },
          {
           "line": {
            "color": "red",
            "width": 2
           },
           "mode": "lines",
           "name": "DK Metcalf motion path",
           "type": "scatter",
           "x": [],
           "y": []
          },
          {
           "marker": {
            "color": "#ffffff",
            "line": {
             "color": "#000000",
             "width": 2
            },
            "opacity": 1,
            "size": 10
           },
           "mode": "markers",
           "type": "scatter",
           "x": [
            -153
           ],
           "y": [
            -93
           ]
          },
          {
           "line": {
            "color": "red",
            "width": 2
           },
           "mode": "lines",
           "name": "Phil Haynes motion path",
           "type": "scatter",
           "x": [],
           "y": []
          },
          {
           "marker": {
            "color": "#ffffff",
            "line": {
             "color": "#000000",
             "width": 2
            },
            "opacity": 1,
            "size": 10
           },
           "mode": "markers",
           "type": "scatter",
           "x": [
            -289
           ],
           "y": [
            -122
           ]
          },
          {
           "line": {
            "color": "red",
            "width": 2
           },
           "mode": "lines",
           "name": "Charles Cross motion path",
           "type": "scatter",
           "x": [],
           "y": []
          },
          {
           "marker": {
            "color": "#ffffff",
            "line": {
             "color": "#000000",
             "width": 2
            },
            "opacity": 1,
            "size": 10
           },
           "mode": "markers",
           "type": "scatter",
           "x": [
            317
           ],
           "y": [
            -101
           ]
          },
          {
           "line": {
            "color": "red",
            "width": 2
           },
           "mode": "lines",
           "name": "Abraham Lucas motion path",
           "type": "scatter",
           "x": [],
           "y": []
          }
         ],
         "name": "93"
        },
        {
         "data": [
          {
           "marker": {
            "color": "#ffffff",
            "line": {
             "color": "#000000",
             "width": 2
            },
            "opacity": 1,
            "size": 10
           },
           "mode": "markers",
           "type": "scatter",
           "x": [
            -8
           ],
           "y": [
            -136
           ]
          },
          {
           "line": {
            "color": "red",
            "width": 2
           },
           "mode": "lines",
           "name": "Geno Smith motion path",
           "type": "scatter",
           "x": [],
           "y": []
          },
          {
           "marker": {
            "color": "#ffffff",
            "line": {
             "color": "#000000",
             "width": 2
            },
            "opacity": 1,
            "size": 10
           },
           "mode": "markers",
           "type": "scatter",
           "x": [
            164
           ],
           "y": [
            -96
           ]
          },
          {
           "line": {
            "color": "red",
            "width": 2
           },
           "mode": "lines",
           "name": "Gabe Jackson motion path",
           "type": "scatter",
           "x": [],
           "y": []
          },
          {
           "marker": {
            "color": "#ffffff",
            "line": {
             "color": "#000000",
             "width": 2
            },
            "opacity": 1,
            "size": 10
           },
           "mode": "markers",
           "type": "scatter",
           "x": [
            966
           ],
           "y": [
            -31
           ]
          },
          {
           "line": {
            "color": "red",
            "width": 2
           },
           "mode": "lines",
           "name": "Tyler Lockett motion path",
           "type": "scatter",
           "x": [],
           "y": []
          },
          {
           "marker": {
            "color": "#ffffff",
            "line": {
             "color": "#000000",
             "width": 2
            },
            "opacity": 1,
            "size": 10
           },
           "mode": "markers",
           "type": "scatter",
           "x": [
            -11
           ],
           "y": [
            -25
           ]
          },
          {
           "line": {
            "color": "red",
            "width": 2
           },
           "mode": "lines",
           "name": "Austin Blythe motion path",
           "type": "scatter",
           "x": [],
           "y": []
          },
          {
           "marker": {
            "color": "#ffffff",
            "line": {
             "color": "#000000",
             "width": 2
            },
            "opacity": 1,
            "size": 10
           },
           "mode": "markers",
           "type": "scatter",
           "x": [
            3
           ],
           "y": [
            -740
           ]
          },
          {
           "line": {
            "color": "red",
            "width": 2
           },
           "mode": "lines",
           "name": "Rashaad Penny motion path",
           "type": "scatter",
           "x": [],
           "y": []
          },
          {
           "marker": {
            "color": "#ff0000",
            "line": {
             "color": "#000000",
             "width": 2
            },
            "opacity": 1,
            "size": 10
           },
           "mode": "markers",
           "type": "scatter",
           "x": [
            543
           ],
           "y": [
            -146
           ]
          },
          {
           "hoverinfo": "none",
           "marker": {
            "color": "rgba(255, 0, 0, 0.5)",
            "line": {
             "color": "red",
             "width": 2
            },
            "size": 20
           },
           "mode": "markers",
           "name": "Will Dissly in motion",
           "type": "scatter",
           "x": [
            543
           ],
           "y": [
            -146
           ]
          },
          {
           "line": {
            "color": "red",
            "width": 2
           },
           "mode": "lines",
           "name": "Will Dissly motion path",
           "type": "scatter",
           "x": [
            -238,
            -230,
            -220,
            -206,
            -190,
            -170,
            -147,
            -120,
            -89,
            -56,
            -19,
            20,
            60,
            100,
            141,
            181,
            221,
            259,
            296,
            330,
            362,
            392,
            419,
            444,
            468,
            488,
            504,
            518,
            528,
            536,
            543
           ],
           "y": [
            -464,
            -460,
            -456,
            -450,
            -442,
            -432,
            -421,
            -409,
            -392,
            -378,
            -360,
            -343,
            -326,
            -308,
            -292,
            -276,
            -261,
            -247,
            -233,
            -219,
            -207,
            -196,
            -185,
            -176,
            -168,
            -161,
            -156,
            -153,
            -149,
            -147,
            -146
           ]
          },
          {
           "marker": {
            "color": "#ff0000",
            "line": {
             "color": "#000000",
             "width": 2
            },
            "opacity": 1,
            "size": 10
           },
           "mode": "markers",
           "type": "scatter",
           "x": [
            -461
           ],
           "y": [
            -199
           ]
          },
          {
           "line": {
            "color": "red",
            "width": 2
           },
           "mode": "lines",
           "name": "Noah Fant motion path",
           "type": "scatter",
           "x": [],
           "y": []
          },
          {
           "marker": {
            "color": "#ffffff",
            "line": {
             "color": "#000000",
             "width": 2
            },
            "opacity": 1,
            "size": 10
           },
           "mode": "markers",
           "type": "scatter",
           "x": [
            -945
           ],
           "y": [
            -93
           ]
          },
          {
           "line": {
            "color": "red",
            "width": 2
           },
           "mode": "lines",
           "name": "DK Metcalf motion path",
           "type": "scatter",
           "x": [],
           "y": []
          },
          {
           "marker": {
            "color": "#ffffff",
            "line": {
             "color": "#000000",
             "width": 2
            },
            "opacity": 1,
            "size": 10
           },
           "mode": "markers",
           "type": "scatter",
           "x": [
            -153
           ],
           "y": [
            -93
           ]
          },
          {
           "line": {
            "color": "red",
            "width": 2
           },
           "mode": "lines",
           "name": "Phil Haynes motion path",
           "type": "scatter",
           "x": [],
           "y": []
          },
          {
           "marker": {
            "color": "#ffffff",
            "line": {
             "color": "#000000",
             "width": 2
            },
            "opacity": 1,
            "size": 10
           },
           "mode": "markers",
           "type": "scatter",
           "x": [
            -289
           ],
           "y": [
            -122
           ]
          },
          {
           "line": {
            "color": "red",
            "width": 2
           },
           "mode": "lines",
           "name": "Charles Cross motion path",
           "type": "scatter",
           "x": [],
           "y": []
          },
          {
           "marker": {
            "color": "#ffffff",
            "line": {
             "color": "#000000",
             "width": 2
            },
            "opacity": 1,
            "size": 10
           },
           "mode": "markers",
           "type": "scatter",
           "x": [
            317
           ],
           "y": [
            -101
           ]
          },
          {
           "line": {
            "color": "red",
            "width": 2
           },
           "mode": "lines",
           "name": "Abraham Lucas motion path",
           "type": "scatter",
           "x": [],
           "y": []
          }
         ],
         "name": "94"
        },
        {
         "data": [
          {
           "marker": {
            "color": "#ffffff",
            "line": {
             "color": "#000000",
             "width": 2
            },
            "opacity": 1,
            "size": 10
           },
           "mode": "markers",
           "type": "scatter",
           "x": [
            -8
           ],
           "y": [
            -137
           ]
          },
          {
           "line": {
            "color": "red",
            "width": 2
           },
           "mode": "lines",
           "name": "Geno Smith motion path",
           "type": "scatter",
           "x": [],
           "y": []
          },
          {
           "marker": {
            "color": "#ffffff",
            "line": {
             "color": "#000000",
             "width": 2
            },
            "opacity": 1,
            "size": 10
           },
           "mode": "markers",
           "type": "scatter",
           "x": [
            164
           ],
           "y": [
            -96
           ]
          },
          {
           "line": {
            "color": "red",
            "width": 2
           },
           "mode": "lines",
           "name": "Gabe Jackson motion path",
           "type": "scatter",
           "x": [],
           "y": []
          },
          {
           "marker": {
            "color": "#ffffff",
            "line": {
             "color": "#000000",
             "width": 2
            },
            "opacity": 1,
            "size": 10
           },
           "mode": "markers",
           "type": "scatter",
           "x": [
            965
           ],
           "y": [
            -30
           ]
          },
          {
           "line": {
            "color": "red",
            "width": 2
           },
           "mode": "lines",
           "name": "Tyler Lockett motion path",
           "type": "scatter",
           "x": [],
           "y": []
          },
          {
           "marker": {
            "color": "#ffffff",
            "line": {
             "color": "#000000",
             "width": 2
            },
            "opacity": 1,
            "size": 10
           },
           "mode": "markers",
           "type": "scatter",
           "x": [
            -11
           ],
           "y": [
            -24
           ]
          },
          {
           "line": {
            "color": "red",
            "width": 2
           },
           "mode": "lines",
           "name": "Austin Blythe motion path",
           "type": "scatter",
           "x": [],
           "y": []
          },
          {
           "marker": {
            "color": "#ffffff",
            "line": {
             "color": "#000000",
             "width": 2
            },
            "opacity": 1,
            "size": 10
           },
           "mode": "markers",
           "type": "scatter",
           "x": [
            3
           ],
           "y": [
            -740
           ]
          },
          {
           "line": {
            "color": "red",
            "width": 2
           },
           "mode": "lines",
           "name": "Rashaad Penny motion path",
           "type": "scatter",
           "x": [],
           "y": []
          },
          {
           "marker": {
            "color": "#ff0000",
            "line": {
             "color": "#000000",
             "width": 2
            },
            "opacity": 1,
            "size": 10
           },
           "mode": "markers",
           "type": "scatter",
           "x": [
            546
           ],
           "y": [
            -146
           ]
          },
          {
           "hoverinfo": "none",
           "marker": {
            "color": "rgba(255, 0, 0, 0.5)",
            "line": {
             "color": "red",
             "width": 2
            },
            "size": 20
           },
           "mode": "markers",
           "name": "Will Dissly in motion",
           "type": "scatter",
           "x": [
            546
           ],
           "y": [
            -146
           ]
          },
          {
           "line": {
            "color": "red",
            "width": 2
           },
           "mode": "lines",
           "name": "Will Dissly motion path",
           "type": "scatter",
           "x": [
            -238,
            -230,
            -220,
            -206,
            -190,
            -170,
            -147,
            -120,
            -89,
            -56,
            -19,
            20,
            60,
            100,
            141,
            181,
            221,
            259,
            296,
            330,
            362,
            392,
            419,
            444,
            468,
            488,
            504,
            518,
            528,
            536,
            543,
            546
           ],
           "y": [
            -464,
            -460,
            -456,
            -450,
            -442,
            -432,
            -421,
            -409,
            -392,
            -378,
            -360,
            -343,
            -326,
            -308,
            -292,
            -276,
            -261,
            -247,
            -233,
            -219,
            -207,
            -196,
            -185,
            -176,
            -168,
            -161,
            -156,
            -153,
            -149,
            -147,
            -146,
            -146
           ]
          },
          {
           "marker": {
            "color": "#ff0000",
            "line": {
             "color": "#000000",
             "width": 2
            },
            "opacity": 1,
            "size": 10
           },
           "mode": "markers",
           "type": "scatter",
           "x": [
            -462
           ],
           "y": [
            -200
           ]
          },
          {
           "line": {
            "color": "red",
            "width": 2
           },
           "mode": "lines",
           "name": "Noah Fant motion path",
           "type": "scatter",
           "x": [],
           "y": []
          },
          {
           "marker": {
            "color": "#ffffff",
            "line": {
             "color": "#000000",
             "width": 2
            },
            "opacity": 1,
            "size": 10
           },
           "mode": "markers",
           "type": "scatter",
           "x": [
            -945
           ],
           "y": [
            -93
           ]
          },
          {
           "line": {
            "color": "red",
            "width": 2
           },
           "mode": "lines",
           "name": "DK Metcalf motion path",
           "type": "scatter",
           "x": [],
           "y": []
          },
          {
           "marker": {
            "color": "#ffffff",
            "line": {
             "color": "#000000",
             "width": 2
            },
            "opacity": 1,
            "size": 10
           },
           "mode": "markers",
           "type": "scatter",
           "x": [
            -153
           ],
           "y": [
            -93
           ]
          },
          {
           "line": {
            "color": "red",
            "width": 2
           },
           "mode": "lines",
           "name": "Phil Haynes motion path",
           "type": "scatter",
           "x": [],
           "y": []
          },
          {
           "marker": {
            "color": "#ffffff",
            "line": {
             "color": "#000000",
             "width": 2
            },
            "opacity": 1,
            "size": 10
           },
           "mode": "markers",
           "type": "scatter",
           "x": [
            -290
           ],
           "y": [
            -122
           ]
          },
          {
           "line": {
            "color": "red",
            "width": 2
           },
           "mode": "lines",
           "name": "Charles Cross motion path",
           "type": "scatter",
           "x": [],
           "y": []
          },
          {
           "marker": {
            "color": "#ffffff",
            "line": {
             "color": "#000000",
             "width": 2
            },
            "opacity": 1,
            "size": 10
           },
           "mode": "markers",
           "type": "scatter",
           "x": [
            317
           ],
           "y": [
            -101
           ]
          },
          {
           "line": {
            "color": "red",
            "width": 2
           },
           "mode": "lines",
           "name": "Abraham Lucas motion path",
           "type": "scatter",
           "x": [],
           "y": []
          }
         ],
         "name": "95"
        },
        {
         "data": [
          {
           "marker": {
            "color": "#ffffff",
            "line": {
             "color": "#000000",
             "width": 2
            },
            "opacity": 1,
            "size": 10
           },
           "mode": "markers",
           "type": "scatter",
           "x": [
            -7
           ],
           "y": [
            -137
           ]
          },
          {
           "line": {
            "color": "red",
            "width": 2
           },
           "mode": "lines",
           "name": "Geno Smith motion path",
           "type": "scatter",
           "x": [],
           "y": []
          },
          {
           "marker": {
            "color": "#ffffff",
            "line": {
             "color": "#000000",
             "width": 2
            },
            "opacity": 1,
            "size": 10
           },
           "mode": "markers",
           "type": "scatter",
           "x": [
            164
           ],
           "y": [
            -96
           ]
          },
          {
           "line": {
            "color": "red",
            "width": 2
           },
           "mode": "lines",
           "name": "Gabe Jackson motion path",
           "type": "scatter",
           "x": [],
           "y": []
          },
          {
           "marker": {
            "color": "#ffffff",
            "line": {
             "color": "#000000",
             "width": 2
            },
            "opacity": 1,
            "size": 10
           },
           "mode": "markers",
           "type": "scatter",
           "x": [
            965
           ],
           "y": [
            -30
           ]
          },
          {
           "line": {
            "color": "red",
            "width": 2
           },
           "mode": "lines",
           "name": "Tyler Lockett motion path",
           "type": "scatter",
           "x": [],
           "y": []
          },
          {
           "marker": {
            "color": "#ffffff",
            "line": {
             "color": "#000000",
             "width": 2
            },
            "opacity": 1,
            "size": 10
           },
           "mode": "markers",
           "type": "scatter",
           "x": [
            -11
           ],
           "y": [
            -24
           ]
          },
          {
           "line": {
            "color": "red",
            "width": 2
           },
           "mode": "lines",
           "name": "Austin Blythe motion path",
           "type": "scatter",
           "x": [],
           "y": []
          },
          {
           "marker": {
            "color": "#ffffff",
            "line": {
             "color": "#000000",
             "width": 2
            },
            "opacity": 1,
            "size": 10
           },
           "mode": "markers",
           "type": "scatter",
           "x": [
            3
           ],
           "y": [
            -739
           ]
          },
          {
           "line": {
            "color": "red",
            "width": 2
           },
           "mode": "lines",
           "name": "Rashaad Penny motion path",
           "type": "scatter",
           "x": [],
           "y": []
          },
          {
           "marker": {
            "color": "#ff0000",
            "line": {
             "color": "#000000",
             "width": 2
            },
            "opacity": 1,
            "size": 10
           },
           "mode": "markers",
           "type": "scatter",
           "x": [
            548
           ],
           "y": [
            -144
           ]
          },
          {
           "line": {
            "color": "red",
            "width": 2
           },
           "mode": "lines",
           "name": "Will Dissly motion path",
           "type": "scatter",
           "x": [
            -238,
            -230,
            -220,
            -206,
            -190,
            -170,
            -147,
            -120,
            -89,
            -56,
            -19,
            20,
            60,
            100,
            141,
            181,
            221,
            259,
            296,
            330,
            362,
            392,
            419,
            444,
            468,
            488,
            504,
            518,
            528,
            536,
            543,
            546
           ],
           "y": [
            -464,
            -460,
            -456,
            -450,
            -442,
            -432,
            -421,
            -409,
            -392,
            -378,
            -360,
            -343,
            -326,
            -308,
            -292,
            -276,
            -261,
            -247,
            -233,
            -219,
            -207,
            -196,
            -185,
            -176,
            -168,
            -161,
            -156,
            -153,
            -149,
            -147,
            -146,
            -146
           ]
          },
          {
           "marker": {
            "color": "#ff0000",
            "line": {
             "color": "#000000",
             "width": 2
            },
            "opacity": 1,
            "size": 10
           },
           "mode": "markers",
           "type": "scatter",
           "x": [
            -461
           ],
           "y": [
            -200
           ]
          },
          {
           "line": {
            "color": "red",
            "width": 2
           },
           "mode": "lines",
           "name": "Noah Fant motion path",
           "type": "scatter",
           "x": [],
           "y": []
          },
          {
           "marker": {
            "color": "#ffffff",
            "line": {
             "color": "#000000",
             "width": 2
            },
            "opacity": 1,
            "size": 10
           },
           "mode": "markers",
           "type": "scatter",
           "x": [
            -945
           ],
           "y": [
            -94
           ]
          },
          {
           "line": {
            "color": "red",
            "width": 2
           },
           "mode": "lines",
           "name": "DK Metcalf motion path",
           "type": "scatter",
           "x": [],
           "y": []
          },
          {
           "marker": {
            "color": "#ffffff",
            "line": {
             "color": "#000000",
             "width": 2
            },
            "opacity": 1,
            "size": 10
           },
           "mode": "markers",
           "type": "scatter",
           "x": [
            -152
           ],
           "y": [
            -93
           ]
          },
          {
           "line": {
            "color": "red",
            "width": 2
           },
           "mode": "lines",
           "name": "Phil Haynes motion path",
           "type": "scatter",
           "x": [],
           "y": []
          },
          {
           "marker": {
            "color": "#ffffff",
            "line": {
             "color": "#000000",
             "width": 2
            },
            "opacity": 1,
            "size": 10
           },
           "mode": "markers",
           "type": "scatter",
           "x": [
            -290
           ],
           "y": [
            -121
           ]
          },
          {
           "line": {
            "color": "red",
            "width": 2
           },
           "mode": "lines",
           "name": "Charles Cross motion path",
           "type": "scatter",
           "x": [],
           "y": []
          },
          {
           "marker": {
            "color": "#ffffff",
            "line": {
             "color": "#000000",
             "width": 2
            },
            "opacity": 1,
            "size": 10
           },
           "mode": "markers",
           "type": "scatter",
           "x": [
            317
           ],
           "y": [
            -101
           ]
          },
          {
           "line": {
            "color": "red",
            "width": 2
           },
           "mode": "lines",
           "name": "Abraham Lucas motion path",
           "type": "scatter",
           "x": [],
           "y": []
          }
         ],
         "name": "96"
        },
        {
         "data": [
          {
           "marker": {
            "color": "#ffffff",
            "line": {
             "color": "#000000",
             "width": 2
            },
            "opacity": 1,
            "size": 10
           },
           "mode": "markers",
           "type": "scatter",
           "x": [
            -6
           ],
           "y": [
            -139
           ]
          },
          {
           "line": {
            "color": "red",
            "width": 2
           },
           "mode": "lines",
           "name": "Geno Smith motion path",
           "type": "scatter",
           "x": [],
           "y": []
          },
          {
           "marker": {
            "color": "#ffffff",
            "line": {
             "color": "#000000",
             "width": 2
            },
            "opacity": 1,
            "size": 10
           },
           "mode": "markers",
           "type": "scatter",
           "x": [
            164
           ],
           "y": [
            -96
           ]
          },
          {
           "line": {
            "color": "red",
            "width": 2
           },
           "mode": "lines",
           "name": "Gabe Jackson motion path",
           "type": "scatter",
           "x": [],
           "y": []
          },
          {
           "marker": {
            "color": "#ffffff",
            "line": {
             "color": "#000000",
             "width": 2
            },
            "opacity": 1,
            "size": 10
           },
           "mode": "markers",
           "type": "scatter",
           "x": [
            963
           ],
           "y": [
            -31
           ]
          },
          {
           "line": {
            "color": "red",
            "width": 2
           },
           "mode": "lines",
           "name": "Tyler Lockett motion path",
           "type": "scatter",
           "x": [],
           "y": []
          },
          {
           "marker": {
            "color": "#ffffff",
            "line": {
             "color": "#000000",
             "width": 2
            },
            "opacity": 1,
            "size": 10
           },
           "mode": "markers",
           "type": "scatter",
           "x": [
            -12
           ],
           "y": [
            -25
           ]
          },
          {
           "line": {
            "color": "red",
            "width": 2
           },
           "mode": "lines",
           "name": "Austin Blythe motion path",
           "type": "scatter",
           "x": [],
           "y": []
          },
          {
           "marker": {
            "color": "#ffffff",
            "line": {
             "color": "#000000",
             "width": 2
            },
            "opacity": 1,
            "size": 10
           },
           "mode": "markers",
           "type": "scatter",
           "x": [
            3
           ],
           "y": [
            -739
           ]
          },
          {
           "line": {
            "color": "red",
            "width": 2
           },
           "mode": "lines",
           "name": "Rashaad Penny motion path",
           "type": "scatter",
           "x": [],
           "y": []
          },
          {
           "marker": {
            "color": "#ff0000",
            "line": {
             "color": "#000000",
             "width": 2
            },
            "opacity": 1,
            "size": 10
           },
           "mode": "markers",
           "type": "scatter",
           "x": [
            548
           ],
           "y": [
            -144
           ]
          },
          {
           "line": {
            "color": "red",
            "width": 2
           },
           "mode": "lines",
           "name": "Will Dissly motion path",
           "type": "scatter",
           "x": [
            -238,
            -230,
            -220,
            -206,
            -190,
            -170,
            -147,
            -120,
            -89,
            -56,
            -19,
            20,
            60,
            100,
            141,
            181,
            221,
            259,
            296,
            330,
            362,
            392,
            419,
            444,
            468,
            488,
            504,
            518,
            528,
            536,
            543,
            546
           ],
           "y": [
            -464,
            -460,
            -456,
            -450,
            -442,
            -432,
            -421,
            -409,
            -392,
            -378,
            -360,
            -343,
            -326,
            -308,
            -292,
            -276,
            -261,
            -247,
            -233,
            -219,
            -207,
            -196,
            -185,
            -176,
            -168,
            -161,
            -156,
            -153,
            -149,
            -147,
            -146,
            -146
           ]
          },
          {
           "marker": {
            "color": "#ff0000",
            "line": {
             "color": "#000000",
             "width": 2
            },
            "opacity": 1,
            "size": 10
           },
           "mode": "markers",
           "type": "scatter",
           "x": [
            -460
           ],
           "y": [
            -199
           ]
          },
          {
           "line": {
            "color": "red",
            "width": 2
           },
           "mode": "lines",
           "name": "Noah Fant motion path",
           "type": "scatter",
           "x": [],
           "y": []
          },
          {
           "marker": {
            "color": "#ffffff",
            "line": {
             "color": "#000000",
             "width": 2
            },
            "opacity": 1,
            "size": 10
           },
           "mode": "markers",
           "type": "scatter",
           "x": [
            -945
           ],
           "y": [
            -94
           ]
          },
          {
           "line": {
            "color": "red",
            "width": 2
           },
           "mode": "lines",
           "name": "DK Metcalf motion path",
           "type": "scatter",
           "x": [],
           "y": []
          },
          {
           "marker": {
            "color": "#ffffff",
            "line": {
             "color": "#000000",
             "width": 2
            },
            "opacity": 1,
            "size": 10
           },
           "mode": "markers",
           "type": "scatter",
           "x": [
            -152
           ],
           "y": [
            -93
           ]
          },
          {
           "line": {
            "color": "red",
            "width": 2
           },
           "mode": "lines",
           "name": "Phil Haynes motion path",
           "type": "scatter",
           "x": [],
           "y": []
          },
          {
           "marker": {
            "color": "#ffffff",
            "line": {
             "color": "#000000",
             "width": 2
            },
            "opacity": 1,
            "size": 10
           },
           "mode": "markers",
           "type": "scatter",
           "x": [
            -290
           ],
           "y": [
            -122
           ]
          },
          {
           "line": {
            "color": "red",
            "width": 2
           },
           "mode": "lines",
           "name": "Charles Cross motion path",
           "type": "scatter",
           "x": [],
           "y": []
          },
          {
           "marker": {
            "color": "#ffffff",
            "line": {
             "color": "#000000",
             "width": 2
            },
            "opacity": 1,
            "size": 10
           },
           "mode": "markers",
           "type": "scatter",
           "x": [
            317
           ],
           "y": [
            -100
           ]
          },
          {
           "line": {
            "color": "red",
            "width": 2
           },
           "mode": "lines",
           "name": "Abraham Lucas motion path",
           "type": "scatter",
           "x": [],
           "y": []
          }
         ],
         "name": "97"
        },
        {
         "data": [
          {
           "marker": {
            "color": "#ffffff",
            "line": {
             "color": "#000000",
             "width": 2
            },
            "opacity": 1,
            "size": 10
           },
           "mode": "markers",
           "type": "scatter",
           "x": [
            -5
           ],
           "y": [
            -139
           ]
          },
          {
           "line": {
            "color": "red",
            "width": 2
           },
           "mode": "lines",
           "name": "Geno Smith motion path",
           "type": "scatter",
           "x": [],
           "y": []
          },
          {
           "marker": {
            "color": "#ffffff",
            "line": {
             "color": "#000000",
             "width": 2
            },
            "opacity": 1,
            "size": 10
           },
           "mode": "markers",
           "type": "scatter",
           "x": [
            163
           ],
           "y": [
            -96
           ]
          },
          {
           "line": {
            "color": "red",
            "width": 2
           },
           "mode": "lines",
           "name": "Gabe Jackson motion path",
           "type": "scatter",
           "x": [],
           "y": []
          },
          {
           "marker": {
            "color": "#ffffff",
            "line": {
             "color": "#000000",
             "width": 2
            },
            "opacity": 1,
            "size": 10
           },
           "mode": "markers",
           "type": "scatter",
           "x": [
            962
           ],
           "y": [
            -31
           ]
          },
          {
           "line": {
            "color": "red",
            "width": 2
           },
           "mode": "lines",
           "name": "Tyler Lockett motion path",
           "type": "scatter",
           "x": [],
           "y": []
          },
          {
           "marker": {
            "color": "#ffffff",
            "line": {
             "color": "#000000",
             "width": 2
            },
            "opacity": 1,
            "size": 10
           },
           "mode": "markers",
           "type": "scatter",
           "x": [
            -11
           ],
           "y": [
            -25
           ]
          },
          {
           "line": {
            "color": "red",
            "width": 2
           },
           "mode": "lines",
           "name": "Austin Blythe motion path",
           "type": "scatter",
           "x": [],
           "y": []
          },
          {
           "marker": {
            "color": "#ffffff",
            "line": {
             "color": "#000000",
             "width": 2
            },
            "opacity": 1,
            "size": 10
           },
           "mode": "markers",
           "type": "scatter",
           "x": [
            3
           ],
           "y": [
            -739
           ]
          },
          {
           "line": {
            "color": "red",
            "width": 2
           },
           "mode": "lines",
           "name": "Rashaad Penny motion path",
           "type": "scatter",
           "x": [],
           "y": []
          },
          {
           "marker": {
            "color": "#ff0000",
            "line": {
             "color": "#000000",
             "width": 2
            },
            "opacity": 1,
            "size": 10
           },
           "mode": "markers",
           "type": "scatter",
           "x": [
            550
           ],
           "y": [
            -144
           ]
          },
          {
           "line": {
            "color": "red",
            "width": 2
           },
           "mode": "lines",
           "name": "Will Dissly motion path",
           "type": "scatter",
           "x": [
            -238,
            -230,
            -220,
            -206,
            -190,
            -170,
            -147,
            -120,
            -89,
            -56,
            -19,
            20,
            60,
            100,
            141,
            181,
            221,
            259,
            296,
            330,
            362,
            392,
            419,
            444,
            468,
            488,
            504,
            518,
            528,
            536,
            543,
            546
           ],
           "y": [
            -464,
            -460,
            -456,
            -450,
            -442,
            -432,
            -421,
            -409,
            -392,
            -378,
            -360,
            -343,
            -326,
            -308,
            -292,
            -276,
            -261,
            -247,
            -233,
            -219,
            -207,
            -196,
            -185,
            -176,
            -168,
            -161,
            -156,
            -153,
            -149,
            -147,
            -146,
            -146
           ]
          },
          {
           "marker": {
            "color": "#ff0000",
            "line": {
             "color": "#000000",
             "width": 2
            },
            "opacity": 1,
            "size": 10
           },
           "mode": "markers",
           "type": "scatter",
           "x": [
            -459
           ],
           "y": [
            -198
           ]
          },
          {
           "line": {
            "color": "red",
            "width": 2
           },
           "mode": "lines",
           "name": "Noah Fant motion path",
           "type": "scatter",
           "x": [],
           "y": []
          },
          {
           "marker": {
            "color": "#ffffff",
            "line": {
             "color": "#000000",
             "width": 2
            },
            "opacity": 1,
            "size": 10
           },
           "mode": "markers",
           "type": "scatter",
           "x": [
            -945
           ],
           "y": [
            -94
           ]
          },
          {
           "line": {
            "color": "red",
            "width": 2
           },
           "mode": "lines",
           "name": "DK Metcalf motion path",
           "type": "scatter",
           "x": [],
           "y": []
          },
          {
           "marker": {
            "color": "#ffffff",
            "line": {
             "color": "#000000",
             "width": 2
            },
            "opacity": 1,
            "size": 10
           },
           "mode": "markers",
           "type": "scatter",
           "x": [
            -152
           ],
           "y": [
            -94
           ]
          },
          {
           "line": {
            "color": "red",
            "width": 2
           },
           "mode": "lines",
           "name": "Phil Haynes motion path",
           "type": "scatter",
           "x": [],
           "y": []
          },
          {
           "marker": {
            "color": "#ffffff",
            "line": {
             "color": "#000000",
             "width": 2
            },
            "opacity": 1,
            "size": 10
           },
           "mode": "markers",
           "type": "scatter",
           "x": [
            -290
           ],
           "y": [
            -122
           ]
          },
          {
           "line": {
            "color": "red",
            "width": 2
           },
           "mode": "lines",
           "name": "Charles Cross motion path",
           "type": "scatter",
           "x": [],
           "y": []
          },
          {
           "marker": {
            "color": "#ffffff",
            "line": {
             "color": "#000000",
             "width": 2
            },
            "opacity": 1,
            "size": 10
           },
           "mode": "markers",
           "type": "scatter",
           "x": [
            316
           ],
           "y": [
            -100
           ]
          },
          {
           "line": {
            "color": "red",
            "width": 2
           },
           "mode": "lines",
           "name": "Abraham Lucas motion path",
           "type": "scatter",
           "x": [],
           "y": []
          }
         ],
         "name": "98"
        },
        {
         "data": [
          {
           "marker": {
            "color": "#ffffff",
            "line": {
             "color": "#000000",
             "width": 2
            },
            "opacity": 1,
            "size": 10
           },
           "mode": "markers",
           "type": "scatter",
           "x": [
            -2
           ],
           "y": [
            -140
           ]
          },
          {
           "line": {
            "color": "red",
            "width": 2
           },
           "mode": "lines",
           "name": "Geno Smith motion path",
           "type": "scatter",
           "x": [],
           "y": []
          },
          {
           "marker": {
            "color": "#ffffff",
            "line": {
             "color": "#000000",
             "width": 2
            },
            "opacity": 1,
            "size": 10
           },
           "mode": "markers",
           "type": "scatter",
           "x": [
            165
           ],
           "y": [
            -94
           ]
          },
          {
           "line": {
            "color": "red",
            "width": 2
           },
           "mode": "lines",
           "name": "Gabe Jackson motion path",
           "type": "scatter",
           "x": [],
           "y": []
          },
          {
           "marker": {
            "color": "#ffffff",
            "line": {
             "color": "#000000",
             "width": 2
            },
            "opacity": 1,
            "size": 10
           },
           "mode": "markers",
           "type": "scatter",
           "x": [
            963
           ],
           "y": [
            -32
           ]
          },
          {
           "line": {
            "color": "red",
            "width": 2
           },
           "mode": "lines",
           "name": "Tyler Lockett motion path",
           "type": "scatter",
           "x": [],
           "y": []
          },
          {
           "marker": {
            "color": "#ffffff",
            "line": {
             "color": "#000000",
             "width": 2
            },
            "opacity": 1,
            "size": 10
           },
           "mode": "markers",
           "type": "scatter",
           "x": [
            -9
           ],
           "y": [
            -24
           ]
          },
          {
           "line": {
            "color": "red",
            "width": 2
           },
           "mode": "lines",
           "name": "Austin Blythe motion path",
           "type": "scatter",
           "x": [],
           "y": []
          },
          {
           "marker": {
            "color": "#ffffff",
            "line": {
             "color": "#000000",
             "width": 2
            },
            "opacity": 1,
            "size": 10
           },
           "mode": "markers",
           "type": "scatter",
           "x": [
            5
           ],
           "y": [
            -739
           ]
          },
          {
           "line": {
            "color": "red",
            "width": 2
           },
           "mode": "lines",
           "name": "Rashaad Penny motion path",
           "type": "scatter",
           "x": [],
           "y": []
          },
          {
           "marker": {
            "color": "#ff0000",
            "line": {
             "color": "#000000",
             "width": 2
            },
            "opacity": 1,
            "size": 10
           },
           "mode": "markers",
           "type": "scatter",
           "x": [
            550
           ],
           "y": [
            -144
           ]
          },
          {
           "line": {
            "color": "red",
            "width": 2
           },
           "mode": "lines",
           "name": "Will Dissly motion path",
           "type": "scatter",
           "x": [
            -238,
            -230,
            -220,
            -206,
            -190,
            -170,
            -147,
            -120,
            -89,
            -56,
            -19,
            20,
            60,
            100,
            141,
            181,
            221,
            259,
            296,
            330,
            362,
            392,
            419,
            444,
            468,
            488,
            504,
            518,
            528,
            536,
            543,
            546
           ],
           "y": [
            -464,
            -460,
            -456,
            -450,
            -442,
            -432,
            -421,
            -409,
            -392,
            -378,
            -360,
            -343,
            -326,
            -308,
            -292,
            -276,
            -261,
            -247,
            -233,
            -219,
            -207,
            -196,
            -185,
            -176,
            -168,
            -161,
            -156,
            -153,
            -149,
            -147,
            -146,
            -146
           ]
          },
          {
           "marker": {
            "color": "#ff0000",
            "line": {
             "color": "#000000",
             "width": 2
            },
            "opacity": 1,
            "size": 10
           },
           "mode": "markers",
           "type": "scatter",
           "x": [
            -455
           ],
           "y": [
            -198
           ]
          },
          {
           "line": {
            "color": "red",
            "width": 2
           },
           "mode": "lines",
           "name": "Noah Fant motion path",
           "type": "scatter",
           "x": [],
           "y": []
          },
          {
           "marker": {
            "color": "#ffffff",
            "line": {
             "color": "#000000",
             "width": 2
            },
            "opacity": 1,
            "size": 10
           },
           "mode": "markers",
           "type": "scatter",
           "x": [
            -943
           ],
           "y": [
            -94
           ]
          },
          {
           "line": {
            "color": "red",
            "width": 2
           },
           "mode": "lines",
           "name": "DK Metcalf motion path",
           "type": "scatter",
           "x": [],
           "y": []
          },
          {
           "marker": {
            "color": "#ffffff",
            "line": {
             "color": "#000000",
             "width": 2
            },
            "opacity": 1,
            "size": 10
           },
           "mode": "markers",
           "type": "scatter",
           "x": [
            -150
           ],
           "y": [
            -94
           ]
          },
          {
           "line": {
            "color": "red",
            "width": 2
           },
           "mode": "lines",
           "name": "Phil Haynes motion path",
           "type": "scatter",
           "x": [],
           "y": []
          },
          {
           "marker": {
            "color": "#ffffff",
            "line": {
             "color": "#000000",
             "width": 2
            },
            "opacity": 1,
            "size": 10
           },
           "mode": "markers",
           "type": "scatter",
           "x": [
            -288
           ],
           "y": [
            -122
           ]
          },
          {
           "line": {
            "color": "red",
            "width": 2
           },
           "mode": "lines",
           "name": "Charles Cross motion path",
           "type": "scatter",
           "x": [],
           "y": []
          },
          {
           "marker": {
            "color": "#ffffff",
            "line": {
             "color": "#000000",
             "width": 2
            },
            "opacity": 1,
            "size": 10
           },
           "mode": "markers",
           "type": "scatter",
           "x": [
            318
           ],
           "y": [
            -99
           ]
          },
          {
           "line": {
            "color": "red",
            "width": 2
           },
           "mode": "lines",
           "name": "Abraham Lucas motion path",
           "type": "scatter",
           "x": [],
           "y": []
          }
         ],
         "name": "99"
        },
        {
         "data": [
          {
           "marker": {
            "color": "#ffffff",
            "line": {
             "color": "#000000",
             "width": 2
            },
            "opacity": 1,
            "size": 10
           },
           "mode": "markers",
           "type": "scatter",
           "x": [
            0
           ],
           "y": [
            -141
           ]
          },
          {
           "line": {
            "color": "red",
            "width": 2
           },
           "mode": "lines",
           "name": "Geno Smith motion path",
           "type": "scatter",
           "x": [],
           "y": []
          },
          {
           "marker": {
            "color": "#ffffff",
            "line": {
             "color": "#000000",
             "width": 2
            },
            "opacity": 1,
            "size": 10
           },
           "mode": "markers",
           "type": "scatter",
           "x": [
            163
           ],
           "y": [
            -93
           ]
          },
          {
           "line": {
            "color": "red",
            "width": 2
           },
           "mode": "lines",
           "name": "Gabe Jackson motion path",
           "type": "scatter",
           "x": [],
           "y": []
          },
          {
           "marker": {
            "color": "#ffffff",
            "line": {
             "color": "#000000",
             "width": 2
            },
            "opacity": 1,
            "size": 10
           },
           "mode": "markers",
           "type": "scatter",
           "x": [
            962
           ],
           "y": [
            -32
           ]
          },
          {
           "line": {
            "color": "red",
            "width": 2
           },
           "mode": "lines",
           "name": "Tyler Lockett motion path",
           "type": "scatter",
           "x": [],
           "y": []
          },
          {
           "marker": {
            "color": "#ffffff",
            "line": {
             "color": "#000000",
             "width": 2
            },
            "opacity": 1,
            "size": 10
           },
           "mode": "markers",
           "type": "scatter",
           "x": [
            -9
           ],
           "y": [
            -24
           ]
          },
          {
           "line": {
            "color": "red",
            "width": 2
           },
           "mode": "lines",
           "name": "Austin Blythe motion path",
           "type": "scatter",
           "x": [],
           "y": []
          },
          {
           "marker": {
            "color": "#ffffff",
            "line": {
             "color": "#000000",
             "width": 2
            },
            "opacity": 1,
            "size": 10
           },
           "mode": "markers",
           "type": "scatter",
           "x": [
            5
           ],
           "y": [
            -737
           ]
          },
          {
           "line": {
            "color": "red",
            "width": 2
           },
           "mode": "lines",
           "name": "Rashaad Penny motion path",
           "type": "scatter",
           "x": [],
           "y": []
          },
          {
           "marker": {
            "color": "#ff0000",
            "line": {
             "color": "#000000",
             "width": 2
            },
            "opacity": 1,
            "size": 10
           },
           "mode": "markers",
           "type": "scatter",
           "x": [
            550
           ],
           "y": [
            -144
           ]
          },
          {
           "line": {
            "color": "red",
            "width": 2
           },
           "mode": "lines",
           "name": "Will Dissly motion path",
           "type": "scatter",
           "x": [
            -238,
            -230,
            -220,
            -206,
            -190,
            -170,
            -147,
            -120,
            -89,
            -56,
            -19,
            20,
            60,
            100,
            141,
            181,
            221,
            259,
            296,
            330,
            362,
            392,
            419,
            444,
            468,
            488,
            504,
            518,
            528,
            536,
            543,
            546
           ],
           "y": [
            -464,
            -460,
            -456,
            -450,
            -442,
            -432,
            -421,
            -409,
            -392,
            -378,
            -360,
            -343,
            -326,
            -308,
            -292,
            -276,
            -261,
            -247,
            -233,
            -219,
            -207,
            -196,
            -185,
            -176,
            -168,
            -161,
            -156,
            -153,
            -149,
            -147,
            -146,
            -146
           ]
          },
          {
           "marker": {
            "color": "#ff0000",
            "line": {
             "color": "#000000",
             "width": 2
            },
            "opacity": 1,
            "size": 10
           },
           "mode": "markers",
           "type": "scatter",
           "x": [
            -452
           ],
           "y": [
            -197
           ]
          },
          {
           "line": {
            "color": "red",
            "width": 2
           },
           "mode": "lines",
           "name": "Noah Fant motion path",
           "type": "scatter",
           "x": [],
           "y": []
          },
          {
           "marker": {
            "color": "#ffffff",
            "line": {
             "color": "#000000",
             "width": 2
            },
            "opacity": 1,
            "size": 10
           },
           "mode": "markers",
           "type": "scatter",
           "x": [
            -942
           ],
           "y": [
            -94
           ]
          },
          {
           "line": {
            "color": "red",
            "width": 2
           },
           "mode": "lines",
           "name": "DK Metcalf motion path",
           "type": "scatter",
           "x": [],
           "y": []
          },
          {
           "marker": {
            "color": "#ffffff",
            "line": {
             "color": "#000000",
             "width": 2
            },
            "opacity": 1,
            "size": 10
           },
           "mode": "markers",
           "type": "scatter",
           "x": [
            -150
           ],
           "y": [
            -94
           ]
          },
          {
           "line": {
            "color": "red",
            "width": 2
           },
           "mode": "lines",
           "name": "Phil Haynes motion path",
           "type": "scatter",
           "x": [],
           "y": []
          },
          {
           "marker": {
            "color": "#ffffff",
            "line": {
             "color": "#000000",
             "width": 2
            },
            "opacity": 1,
            "size": 10
           },
           "mode": "markers",
           "type": "scatter",
           "x": [
            -288
           ],
           "y": [
            -121
           ]
          },
          {
           "line": {
            "color": "red",
            "width": 2
           },
           "mode": "lines",
           "name": "Charles Cross motion path",
           "type": "scatter",
           "x": [],
           "y": []
          },
          {
           "marker": {
            "color": "#ffffff",
            "line": {
             "color": "#000000",
             "width": 2
            },
            "opacity": 1,
            "size": 10
           },
           "mode": "markers",
           "type": "scatter",
           "x": [
            317
           ],
           "y": [
            -99
           ]
          },
          {
           "line": {
            "color": "red",
            "width": 2
           },
           "mode": "lines",
           "name": "Abraham Lucas motion path",
           "type": "scatter",
           "x": [],
           "y": []
          }
         ],
         "name": "100"
        },
        {
         "data": [
          {
           "marker": {
            "color": "#ffffff",
            "line": {
             "color": "#000000",
             "width": 2
            },
            "opacity": 1,
            "size": 10
           },
           "mode": "markers",
           "type": "scatter",
           "x": [
            2
           ],
           "y": [
            -142
           ]
          },
          {
           "line": {
            "color": "red",
            "width": 2
           },
           "mode": "lines",
           "name": "Geno Smith motion path",
           "type": "scatter",
           "x": [],
           "y": []
          },
          {
           "marker": {
            "color": "#ffffff",
            "line": {
             "color": "#000000",
             "width": 2
            },
            "opacity": 1,
            "size": 10
           },
           "mode": "markers",
           "type": "scatter",
           "x": [
            162
           ],
           "y": [
            -93
           ]
          },
          {
           "line": {
            "color": "red",
            "width": 2
           },
           "mode": "lines",
           "name": "Gabe Jackson motion path",
           "type": "scatter",
           "x": [],
           "y": []
          },
          {
           "marker": {
            "color": "#ffffff",
            "line": {
             "color": "#000000",
             "width": 2
            },
            "opacity": 1,
            "size": 10
           },
           "mode": "markers",
           "type": "scatter",
           "x": [
            962
           ],
           "y": [
            -32
           ]
          },
          {
           "line": {
            "color": "red",
            "width": 2
           },
           "mode": "lines",
           "name": "Tyler Lockett motion path",
           "type": "scatter",
           "x": [],
           "y": []
          },
          {
           "marker": {
            "color": "#ffffff",
            "line": {
             "color": "#000000",
             "width": 2
            },
            "opacity": 1,
            "size": 10
           },
           "mode": "markers",
           "type": "scatter",
           "x": [
            -8
           ],
           "y": [
            -23
           ]
          },
          {
           "line": {
            "color": "red",
            "width": 2
           },
           "mode": "lines",
           "name": "Austin Blythe motion path",
           "type": "scatter",
           "x": [],
           "y": []
          },
          {
           "marker": {
            "color": "#ffffff",
            "line": {
             "color": "#000000",
             "width": 2
            },
            "opacity": 1,
            "size": 10
           },
           "mode": "markers",
           "type": "scatter",
           "x": [
            4
           ],
           "y": [
            -737
           ]
          },
          {
           "line": {
            "color": "red",
            "width": 2
           },
           "mode": "lines",
           "name": "Rashaad Penny motion path",
           "type": "scatter",
           "x": [],
           "y": []
          },
          {
           "marker": {
            "color": "#ff0000",
            "line": {
             "color": "#000000",
             "width": 2
            },
            "opacity": 1,
            "size": 10
           },
           "mode": "markers",
           "type": "scatter",
           "x": [
            549
           ],
           "y": [
            -144
           ]
          },
          {
           "line": {
            "color": "red",
            "width": 2
           },
           "mode": "lines",
           "name": "Will Dissly motion path",
           "type": "scatter",
           "x": [
            -238,
            -230,
            -220,
            -206,
            -190,
            -170,
            -147,
            -120,
            -89,
            -56,
            -19,
            20,
            60,
            100,
            141,
            181,
            221,
            259,
            296,
            330,
            362,
            392,
            419,
            444,
            468,
            488,
            504,
            518,
            528,
            536,
            543,
            546
           ],
           "y": [
            -464,
            -460,
            -456,
            -450,
            -442,
            -432,
            -421,
            -409,
            -392,
            -378,
            -360,
            -343,
            -326,
            -308,
            -292,
            -276,
            -261,
            -247,
            -233,
            -219,
            -207,
            -196,
            -185,
            -176,
            -168,
            -161,
            -156,
            -153,
            -149,
            -147,
            -146,
            -146
           ]
          },
          {
           "marker": {
            "color": "#ff0000",
            "line": {
             "color": "#000000",
             "width": 2
            },
            "opacity": 1,
            "size": 10
           },
           "mode": "markers",
           "type": "scatter",
           "x": [
            -450
           ],
           "y": [
            -196
           ]
          },
          {
           "line": {
            "color": "red",
            "width": 2
           },
           "mode": "lines",
           "name": "Noah Fant motion path",
           "type": "scatter",
           "x": [],
           "y": []
          },
          {
           "marker": {
            "color": "#ffffff",
            "line": {
             "color": "#000000",
             "width": 2
            },
            "opacity": 1,
            "size": 10
           },
           "mode": "markers",
           "type": "scatter",
           "x": [
            -942
           ],
           "y": [
            -93
           ]
          },
          {
           "line": {
            "color": "red",
            "width": 2
           },
           "mode": "lines",
           "name": "DK Metcalf motion path",
           "type": "scatter",
           "x": [],
           "y": []
          },
          {
           "marker": {
            "color": "#ffffff",
            "line": {
             "color": "#000000",
             "width": 2
            },
            "opacity": 1,
            "size": 10
           },
           "mode": "markers",
           "type": "scatter",
           "x": [
            -150
           ],
           "y": [
            -96
           ]
          },
          {
           "line": {
            "color": "red",
            "width": 2
           },
           "mode": "lines",
           "name": "Phil Haynes motion path",
           "type": "scatter",
           "x": [],
           "y": []
          },
          {
           "marker": {
            "color": "#ffffff",
            "line": {
             "color": "#000000",
             "width": 2
            },
            "opacity": 1,
            "size": 10
           },
           "mode": "markers",
           "type": "scatter",
           "x": [
            -288
           ],
           "y": [
            -121
           ]
          },
          {
           "line": {
            "color": "red",
            "width": 2
           },
           "mode": "lines",
           "name": "Charles Cross motion path",
           "type": "scatter",
           "x": [],
           "y": []
          },
          {
           "marker": {
            "color": "#ffffff",
            "line": {
             "color": "#000000",
             "width": 2
            },
            "opacity": 1,
            "size": 10
           },
           "mode": "markers",
           "type": "scatter",
           "x": [
            317
           ],
           "y": [
            -98
           ]
          },
          {
           "line": {
            "color": "red",
            "width": 2
           },
           "mode": "lines",
           "name": "Abraham Lucas motion path",
           "type": "scatter",
           "x": [],
           "y": []
          }
         ],
         "name": "101"
        },
        {
         "data": [
          {
           "marker": {
            "color": "#ffffff",
            "line": {
             "color": "#000000",
             "width": 2
            },
            "opacity": 1,
            "size": 10
           },
           "mode": "markers",
           "type": "scatter",
           "x": [
            3
           ],
           "y": [
            -143
           ]
          },
          {
           "line": {
            "color": "red",
            "width": 2
           },
           "mode": "lines",
           "name": "Geno Smith motion path",
           "type": "scatter",
           "x": [],
           "y": []
          },
          {
           "marker": {
            "color": "#ffffff",
            "line": {
             "color": "#000000",
             "width": 2
            },
            "opacity": 1,
            "size": 10
           },
           "mode": "markers",
           "type": "scatter",
           "x": [
            162
           ],
           "y": [
            -92
           ]
          },
          {
           "line": {
            "color": "red",
            "width": 2
           },
           "mode": "lines",
           "name": "Gabe Jackson motion path",
           "type": "scatter",
           "x": [],
           "y": []
          },
          {
           "marker": {
            "color": "#ffffff",
            "line": {
             "color": "#000000",
             "width": 2
            },
            "opacity": 1,
            "size": 10
           },
           "mode": "markers",
           "type": "scatter",
           "x": [
            962
           ],
           "y": [
            -32
           ]
          },
          {
           "line": {
            "color": "red",
            "width": 2
           },
           "mode": "lines",
           "name": "Tyler Lockett motion path",
           "type": "scatter",
           "x": [],
           "y": []
          },
          {
           "marker": {
            "color": "#ffffff",
            "line": {
             "color": "#000000",
             "width": 2
            },
            "opacity": 1,
            "size": 10
           },
           "mode": "markers",
           "type": "scatter",
           "x": [
            -8
           ],
           "y": [
            -21
           ]
          },
          {
           "line": {
            "color": "red",
            "width": 2
           },
           "mode": "lines",
           "name": "Austin Blythe motion path",
           "type": "scatter",
           "x": [],
           "y": []
          },
          {
           "marker": {
            "color": "#ffffff",
            "line": {
             "color": "#000000",
             "width": 2
            },
            "opacity": 1,
            "size": 10
           },
           "mode": "markers",
           "type": "scatter",
           "x": [
            5
           ],
           "y": [
            -737
           ]
          },
          {
           "line": {
            "color": "red",
            "width": 2
           },
           "mode": "lines",
           "name": "Rashaad Penny motion path",
           "type": "scatter",
           "x": [],
           "y": []
          },
          {
           "marker": {
            "color": "#ff0000",
            "line": {
             "color": "#000000",
             "width": 2
            },
            "opacity": 1,
            "size": 10
           },
           "mode": "markers",
           "type": "scatter",
           "x": [
            548
           ],
           "y": [
            -144
           ]
          },
          {
           "line": {
            "color": "red",
            "width": 2
           },
           "mode": "lines",
           "name": "Will Dissly motion path",
           "type": "scatter",
           "x": [
            -238,
            -230,
            -220,
            -206,
            -190,
            -170,
            -147,
            -120,
            -89,
            -56,
            -19,
            20,
            60,
            100,
            141,
            181,
            221,
            259,
            296,
            330,
            362,
            392,
            419,
            444,
            468,
            488,
            504,
            518,
            528,
            536,
            543,
            546
           ],
           "y": [
            -464,
            -460,
            -456,
            -450,
            -442,
            -432,
            -421,
            -409,
            -392,
            -378,
            -360,
            -343,
            -326,
            -308,
            -292,
            -276,
            -261,
            -247,
            -233,
            -219,
            -207,
            -196,
            -185,
            -176,
            -168,
            -161,
            -156,
            -153,
            -149,
            -147,
            -146,
            -146
           ]
          },
          {
           "marker": {
            "color": "#ff0000",
            "line": {
             "color": "#000000",
             "width": 2
            },
            "opacity": 1,
            "size": 10
           },
           "mode": "markers",
           "type": "scatter",
           "x": [
            -447
           ],
           "y": [
            -196
           ]
          },
          {
           "line": {
            "color": "red",
            "width": 2
           },
           "mode": "lines",
           "name": "Noah Fant motion path",
           "type": "scatter",
           "x": [],
           "y": []
          },
          {
           "marker": {
            "color": "#ffffff",
            "line": {
             "color": "#000000",
             "width": 2
            },
            "opacity": 1,
            "size": 10
           },
           "mode": "markers",
           "type": "scatter",
           "x": [
            -942
           ],
           "y": [
            -93
           ]
          },
          {
           "line": {
            "color": "red",
            "width": 2
           },
           "mode": "lines",
           "name": "DK Metcalf motion path",
           "type": "scatter",
           "x": [],
           "y": []
          },
          {
           "marker": {
            "color": "#ffffff",
            "line": {
             "color": "#000000",
             "width": 2
            },
            "opacity": 1,
            "size": 10
           },
           "mode": "markers",
           "type": "scatter",
           "x": [
            -150
           ],
           "y": [
            -96
           ]
          },
          {
           "line": {
            "color": "red",
            "width": 2
           },
           "mode": "lines",
           "name": "Phil Haynes motion path",
           "type": "scatter",
           "x": [],
           "y": []
          },
          {
           "marker": {
            "color": "#ffffff",
            "line": {
             "color": "#000000",
             "width": 2
            },
            "opacity": 1,
            "size": 10
           },
           "mode": "markers",
           "type": "scatter",
           "x": [
            -288
           ],
           "y": [
            -121
           ]
          },
          {
           "line": {
            "color": "red",
            "width": 2
           },
           "mode": "lines",
           "name": "Charles Cross motion path",
           "type": "scatter",
           "x": [],
           "y": []
          },
          {
           "marker": {
            "color": "#ffffff",
            "line": {
             "color": "#000000",
             "width": 2
            },
            "opacity": 1,
            "size": 10
           },
           "mode": "markers",
           "type": "scatter",
           "x": [
            316
           ],
           "y": [
            -97
           ]
          },
          {
           "line": {
            "color": "red",
            "width": 2
           },
           "mode": "lines",
           "name": "Abraham Lucas motion path",
           "type": "scatter",
           "x": [],
           "y": []
          }
         ],
         "name": "102"
        },
        {
         "data": [
          {
           "marker": {
            "color": "#ffffff",
            "line": {
             "color": "#000000",
             "width": 2
            },
            "opacity": 1,
            "size": 10
           },
           "mode": "markers",
           "type": "scatter",
           "x": [
            4
           ],
           "y": [
            -143
           ]
          },
          {
           "line": {
            "color": "red",
            "width": 2
           },
           "mode": "lines",
           "name": "Geno Smith motion path",
           "type": "scatter",
           "x": [],
           "y": []
          },
          {
           "marker": {
            "color": "#ffffff",
            "line": {
             "color": "#000000",
             "width": 2
            },
            "opacity": 1,
            "size": 10
           },
           "mode": "markers",
           "type": "scatter",
           "x": [
            161
           ],
           "y": [
            -91
           ]
          },
          {
           "line": {
            "color": "red",
            "width": 2
           },
           "mode": "lines",
           "name": "Gabe Jackson motion path",
           "type": "scatter",
           "x": [],
           "y": []
          },
          {
           "marker": {
            "color": "#ffffff",
            "line": {
             "color": "#000000",
             "width": 2
            },
            "opacity": 1,
            "size": 10
           },
           "mode": "markers",
           "type": "scatter",
           "x": [
            962
           ],
           "y": [
            -31
           ]
          },
          {
           "line": {
            "color": "red",
            "width": 2
           },
           "mode": "lines",
           "name": "Tyler Lockett motion path",
           "type": "scatter",
           "x": [],
           "y": []
          },
          {
           "marker": {
            "color": "#ffffff",
            "line": {
             "color": "#000000",
             "width": 2
            },
            "opacity": 1,
            "size": 10
           },
           "mode": "markers",
           "type": "scatter",
           "x": [
            -8
           ],
           "y": [
            -21
           ]
          },
          {
           "line": {
            "color": "red",
            "width": 2
           },
           "mode": "lines",
           "name": "Austin Blythe motion path",
           "type": "scatter",
           "x": [],
           "y": []
          },
          {
           "marker": {
            "color": "#ffffff",
            "line": {
             "color": "#000000",
             "width": 2
            },
            "opacity": 1,
            "size": 10
           },
           "mode": "markers",
           "type": "scatter",
           "x": [
            6
           ],
           "y": [
            -737
           ]
          },
          {
           "line": {
            "color": "red",
            "width": 2
           },
           "mode": "lines",
           "name": "Rashaad Penny motion path",
           "type": "scatter",
           "x": [],
           "y": []
          },
          {
           "marker": {
            "color": "#ff0000",
            "line": {
             "color": "#000000",
             "width": 2
            },
            "opacity": 1,
            "size": 10
           },
           "mode": "markers",
           "type": "scatter",
           "x": [
            548
           ],
           "y": [
            -144
           ]
          },
          {
           "line": {
            "color": "red",
            "width": 2
           },
           "mode": "lines",
           "name": "Will Dissly motion path",
           "type": "scatter",
           "x": [
            -238,
            -230,
            -220,
            -206,
            -190,
            -170,
            -147,
            -120,
            -89,
            -56,
            -19,
            20,
            60,
            100,
            141,
            181,
            221,
            259,
            296,
            330,
            362,
            392,
            419,
            444,
            468,
            488,
            504,
            518,
            528,
            536,
            543,
            546
           ],
           "y": [
            -464,
            -460,
            -456,
            -450,
            -442,
            -432,
            -421,
            -409,
            -392,
            -378,
            -360,
            -343,
            -326,
            -308,
            -292,
            -276,
            -261,
            -247,
            -233,
            -219,
            -207,
            -196,
            -185,
            -176,
            -168,
            -161,
            -156,
            -153,
            -149,
            -147,
            -146,
            -146
           ]
          },
          {
           "marker": {
            "color": "#ff0000",
            "line": {
             "color": "#000000",
             "width": 2
            },
            "opacity": 1,
            "size": 10
           },
           "mode": "markers",
           "type": "scatter",
           "x": [
            -443
           ],
           "y": [
            -196
           ]
          },
          {
           "hoverinfo": "none",
           "marker": {
            "color": "rgba(255, 0, 0, 0.5)",
            "line": {
             "color": "red",
             "width": 2
            },
            "size": 20
           },
           "mode": "markers",
           "name": "Noah Fant in motion",
           "type": "scatter",
           "x": [
            -443
           ],
           "y": [
            -196
           ]
          },
          {
           "line": {
            "color": "red",
            "width": 2
           },
           "mode": "lines",
           "name": "Noah Fant motion path",
           "type": "scatter",
           "x": [
            -443
           ],
           "y": [
            -196
           ]
          },
          {
           "marker": {
            "color": "#ffffff",
            "line": {
             "color": "#000000",
             "width": 2
            },
            "opacity": 1,
            "size": 10
           },
           "mode": "markers",
           "type": "scatter",
           "x": [
            -940
           ],
           "y": [
            -93
           ]
          },
          {
           "line": {
            "color": "red",
            "width": 2
           },
           "mode": "lines",
           "name": "DK Metcalf motion path",
           "type": "scatter",
           "x": [],
           "y": []
          },
          {
           "marker": {
            "color": "#ffffff",
            "line": {
             "color": "#000000",
             "width": 2
            },
            "opacity": 1,
            "size": 10
           },
           "mode": "markers",
           "type": "scatter",
           "x": [
            -149
           ],
           "y": [
            -96
           ]
          },
          {
           "line": {
            "color": "red",
            "width": 2
           },
           "mode": "lines",
           "name": "Phil Haynes motion path",
           "type": "scatter",
           "x": [],
           "y": []
          },
          {
           "marker": {
            "color": "#ffffff",
            "line": {
             "color": "#000000",
             "width": 2
            },
            "opacity": 1,
            "size": 10
           },
           "mode": "markers",
           "type": "scatter",
           "x": [
            -288
           ],
           "y": [
            -121
           ]
          },
          {
           "line": {
            "color": "red",
            "width": 2
           },
           "mode": "lines",
           "name": "Charles Cross motion path",
           "type": "scatter",
           "x": [],
           "y": []
          },
          {
           "marker": {
            "color": "#ffffff",
            "line": {
             "color": "#000000",
             "width": 2
            },
            "opacity": 1,
            "size": 10
           },
           "mode": "markers",
           "type": "scatter",
           "x": [
            315
           ],
           "y": [
            -97
           ]
          },
          {
           "line": {
            "color": "red",
            "width": 2
           },
           "mode": "lines",
           "name": "Abraham Lucas motion path",
           "type": "scatter",
           "x": [],
           "y": []
          }
         ],
         "name": "103"
        },
        {
         "data": [
          {
           "marker": {
            "color": "#ffffff",
            "line": {
             "color": "#000000",
             "width": 2
            },
            "opacity": 1,
            "size": 10
           },
           "mode": "markers",
           "type": "scatter",
           "x": [
            4
           ],
           "y": [
            -143
           ]
          },
          {
           "line": {
            "color": "red",
            "width": 2
           },
           "mode": "lines",
           "name": "Geno Smith motion path",
           "type": "scatter",
           "x": [],
           "y": []
          },
          {
           "marker": {
            "color": "#ffffff",
            "line": {
             "color": "#000000",
             "width": 2
            },
            "opacity": 1,
            "size": 10
           },
           "mode": "markers",
           "type": "scatter",
           "x": [
            160
           ],
           "y": [
            -91
           ]
          },
          {
           "line": {
            "color": "red",
            "width": 2
           },
           "mode": "lines",
           "name": "Gabe Jackson motion path",
           "type": "scatter",
           "x": [],
           "y": []
          },
          {
           "marker": {
            "color": "#ffffff",
            "line": {
             "color": "#000000",
             "width": 2
            },
            "opacity": 1,
            "size": 10
           },
           "mode": "markers",
           "type": "scatter",
           "x": [
            961
           ],
           "y": [
            -31
           ]
          },
          {
           "line": {
            "color": "red",
            "width": 2
           },
           "mode": "lines",
           "name": "Tyler Lockett motion path",
           "type": "scatter",
           "x": [],
           "y": []
          },
          {
           "marker": {
            "color": "#ffffff",
            "line": {
             "color": "#000000",
             "width": 2
            },
            "opacity": 1,
            "size": 10
           },
           "mode": "markers",
           "type": "scatter",
           "x": [
            -7
           ],
           "y": [
            -21
           ]
          },
          {
           "line": {
            "color": "red",
            "width": 2
           },
           "mode": "lines",
           "name": "Austin Blythe motion path",
           "type": "scatter",
           "x": [],
           "y": []
          },
          {
           "marker": {
            "color": "#ffffff",
            "line": {
             "color": "#000000",
             "width": 2
            },
            "opacity": 1,
            "size": 10
           },
           "mode": "markers",
           "type": "scatter",
           "x": [
            6
           ],
           "y": [
            -739
           ]
          },
          {
           "line": {
            "color": "red",
            "width": 2
           },
           "mode": "lines",
           "name": "Rashaad Penny motion path",
           "type": "scatter",
           "x": [],
           "y": []
          },
          {
           "marker": {
            "color": "#ff0000",
            "line": {
             "color": "#000000",
             "width": 2
            },
            "opacity": 1,
            "size": 10
           },
           "mode": "markers",
           "type": "scatter",
           "x": [
            547
           ],
           "y": [
            -144
           ]
          },
          {
           "line": {
            "color": "red",
            "width": 2
           },
           "mode": "lines",
           "name": "Will Dissly motion path",
           "type": "scatter",
           "x": [
            -238,
            -230,
            -220,
            -206,
            -190,
            -170,
            -147,
            -120,
            -89,
            -56,
            -19,
            20,
            60,
            100,
            141,
            181,
            221,
            259,
            296,
            330,
            362,
            392,
            419,
            444,
            468,
            488,
            504,
            518,
            528,
            536,
            543,
            546
           ],
           "y": [
            -464,
            -460,
            -456,
            -450,
            -442,
            -432,
            -421,
            -409,
            -392,
            -378,
            -360,
            -343,
            -326,
            -308,
            -292,
            -276,
            -261,
            -247,
            -233,
            -219,
            -207,
            -196,
            -185,
            -176,
            -168,
            -161,
            -156,
            -153,
            -149,
            -147,
            -146,
            -146
           ]
          },
          {
           "marker": {
            "color": "#ff0000",
            "line": {
             "color": "#000000",
             "width": 2
            },
            "opacity": 1,
            "size": 10
           },
           "mode": "markers",
           "type": "scatter",
           "x": [
            -438
           ],
           "y": [
            -196
           ]
          },
          {
           "hoverinfo": "none",
           "marker": {
            "color": "rgba(255, 0, 0, 0.5)",
            "line": {
             "color": "red",
             "width": 2
            },
            "size": 20
           },
           "mode": "markers",
           "name": "Noah Fant in motion",
           "type": "scatter",
           "x": [
            -438
           ],
           "y": [
            -196
           ]
          },
          {
           "line": {
            "color": "red",
            "width": 2
           },
           "mode": "lines",
           "name": "Noah Fant motion path",
           "type": "scatter",
           "x": [
            -443,
            -438
           ],
           "y": [
            -196,
            -196
           ]
          },
          {
           "marker": {
            "color": "#ffffff",
            "line": {
             "color": "#000000",
             "width": 2
            },
            "opacity": 1,
            "size": 10
           },
           "mode": "markers",
           "type": "scatter",
           "x": [
            -940
           ],
           "y": [
            -93
           ]
          },
          {
           "line": {
            "color": "red",
            "width": 2
           },
           "mode": "lines",
           "name": "DK Metcalf motion path",
           "type": "scatter",
           "x": [],
           "y": []
          },
          {
           "marker": {
            "color": "#ffffff",
            "line": {
             "color": "#000000",
             "width": 2
            },
            "opacity": 1,
            "size": 10
           },
           "mode": "markers",
           "type": "scatter",
           "x": [
            -149
           ],
           "y": [
            -97
           ]
          },
          {
           "line": {
            "color": "red",
            "width": 2
           },
           "mode": "lines",
           "name": "Phil Haynes motion path",
           "type": "scatter",
           "x": [],
           "y": []
          },
          {
           "marker": {
            "color": "#ffffff",
            "line": {
             "color": "#000000",
             "width": 2
            },
            "opacity": 1,
            "size": 10
           },
           "mode": "markers",
           "type": "scatter",
           "x": [
            -288
           ],
           "y": [
            -121
           ]
          },
          {
           "line": {
            "color": "red",
            "width": 2
           },
           "mode": "lines",
           "name": "Charles Cross motion path",
           "type": "scatter",
           "x": [],
           "y": []
          },
          {
           "marker": {
            "color": "#ffffff",
            "line": {
             "color": "#000000",
             "width": 2
            },
            "opacity": 1,
            "size": 10
           },
           "mode": "markers",
           "type": "scatter",
           "x": [
            315
           ],
           "y": [
            -96
           ]
          },
          {
           "line": {
            "color": "red",
            "width": 2
           },
           "mode": "lines",
           "name": "Abraham Lucas motion path",
           "type": "scatter",
           "x": [],
           "y": []
          }
         ],
         "name": "104"
        },
        {
         "data": [
          {
           "marker": {
            "color": "#ffffff",
            "line": {
             "color": "#000000",
             "width": 2
            },
            "opacity": 1,
            "size": 10
           },
           "mode": "markers",
           "type": "scatter",
           "x": [
            4
           ],
           "y": [
            -143
           ]
          },
          {
           "line": {
            "color": "red",
            "width": 2
           },
           "mode": "lines",
           "name": "Geno Smith motion path",
           "type": "scatter",
           "x": [],
           "y": []
          },
          {
           "marker": {
            "color": "#ffffff",
            "line": {
             "color": "#000000",
             "width": 2
            },
            "opacity": 1,
            "size": 10
           },
           "mode": "markers",
           "type": "scatter",
           "x": [
            160
           ],
           "y": [
            -91
           ]
          },
          {
           "line": {
            "color": "red",
            "width": 2
           },
           "mode": "lines",
           "name": "Gabe Jackson motion path",
           "type": "scatter",
           "x": [],
           "y": []
          },
          {
           "marker": {
            "color": "#ffffff",
            "line": {
             "color": "#000000",
             "width": 2
            },
            "opacity": 1,
            "size": 10
           },
           "mode": "markers",
           "type": "scatter",
           "x": [
            962
           ],
           "y": [
            -30
           ]
          },
          {
           "line": {
            "color": "red",
            "width": 2
           },
           "mode": "lines",
           "name": "Tyler Lockett motion path",
           "type": "scatter",
           "x": [],
           "y": []
          },
          {
           "marker": {
            "color": "#ffffff",
            "line": {
             "color": "#000000",
             "width": 2
            },
            "opacity": 1,
            "size": 10
           },
           "mode": "markers",
           "type": "scatter",
           "x": [
            -7
           ],
           "y": [
            -21
           ]
          },
          {
           "line": {
            "color": "red",
            "width": 2
           },
           "mode": "lines",
           "name": "Austin Blythe motion path",
           "type": "scatter",
           "x": [],
           "y": []
          },
          {
           "marker": {
            "color": "#ffffff",
            "line": {
             "color": "#000000",
             "width": 2
            },
            "opacity": 1,
            "size": 10
           },
           "mode": "markers",
           "type": "scatter",
           "x": [
            7
           ],
           "y": [
            -739
           ]
          },
          {
           "line": {
            "color": "red",
            "width": 2
           },
           "mode": "lines",
           "name": "Rashaad Penny motion path",
           "type": "scatter",
           "x": [],
           "y": []
          },
          {
           "marker": {
            "color": "#ff0000",
            "line": {
             "color": "#000000",
             "width": 2
            },
            "opacity": 1,
            "size": 10
           },
           "mode": "markers",
           "type": "scatter",
           "x": [
            548
           ],
           "y": [
            -144
           ]
          },
          {
           "line": {
            "color": "red",
            "width": 2
           },
           "mode": "lines",
           "name": "Will Dissly motion path",
           "type": "scatter",
           "x": [
            -238,
            -230,
            -220,
            -206,
            -190,
            -170,
            -147,
            -120,
            -89,
            -56,
            -19,
            20,
            60,
            100,
            141,
            181,
            221,
            259,
            296,
            330,
            362,
            392,
            419,
            444,
            468,
            488,
            504,
            518,
            528,
            536,
            543,
            546
           ],
           "y": [
            -464,
            -460,
            -456,
            -450,
            -442,
            -432,
            -421,
            -409,
            -392,
            -378,
            -360,
            -343,
            -326,
            -308,
            -292,
            -276,
            -261,
            -247,
            -233,
            -219,
            -207,
            -196,
            -185,
            -176,
            -168,
            -161,
            -156,
            -153,
            -149,
            -147,
            -146,
            -146
           ]
          },
          {
           "marker": {
            "color": "#ff0000",
            "line": {
             "color": "#000000",
             "width": 2
            },
            "opacity": 1,
            "size": 10
           },
           "mode": "markers",
           "type": "scatter",
           "x": [
            -430
           ],
           "y": [
            -196
           ]
          },
          {
           "hoverinfo": "none",
           "marker": {
            "color": "rgba(255, 0, 0, 0.5)",
            "line": {
             "color": "red",
             "width": 2
            },
            "size": 20
           },
           "mode": "markers",
           "name": "Noah Fant in motion",
           "type": "scatter",
           "x": [
            -430
           ],
           "y": [
            -196
           ]
          },
          {
           "line": {
            "color": "red",
            "width": 2
           },
           "mode": "lines",
           "name": "Noah Fant motion path",
           "type": "scatter",
           "x": [
            -443,
            -438,
            -430
           ],
           "y": [
            -196,
            -196,
            -196
           ]
          },
          {
           "marker": {
            "color": "#ffffff",
            "line": {
             "color": "#000000",
             "width": 2
            },
            "opacity": 1,
            "size": 10
           },
           "mode": "markers",
           "type": "scatter",
           "x": [
            -940
           ],
           "y": [
            -93
           ]
          },
          {
           "line": {
            "color": "red",
            "width": 2
           },
           "mode": "lines",
           "name": "DK Metcalf motion path",
           "type": "scatter",
           "x": [],
           "y": []
          },
          {
           "marker": {
            "color": "#ffffff",
            "line": {
             "color": "#000000",
             "width": 2
            },
            "opacity": 1,
            "size": 10
           },
           "mode": "markers",
           "type": "scatter",
           "x": [
            -148
           ],
           "y": [
            -97
           ]
          },
          {
           "line": {
            "color": "red",
            "width": 2
           },
           "mode": "lines",
           "name": "Phil Haynes motion path",
           "type": "scatter",
           "x": [],
           "y": []
          },
          {
           "marker": {
            "color": "#ffffff",
            "line": {
             "color": "#000000",
             "width": 2
            },
            "opacity": 1,
            "size": 10
           },
           "mode": "markers",
           "type": "scatter",
           "x": [
            -288
           ],
           "y": [
            -121
           ]
          },
          {
           "line": {
            "color": "red",
            "width": 2
           },
           "mode": "lines",
           "name": "Charles Cross motion path",
           "type": "scatter",
           "x": [],
           "y": []
          },
          {
           "marker": {
            "color": "#ffffff",
            "line": {
             "color": "#000000",
             "width": 2
            },
            "opacity": 1,
            "size": 10
           },
           "mode": "markers",
           "type": "scatter",
           "x": [
            314
           ],
           "y": [
            -96
           ]
          },
          {
           "line": {
            "color": "red",
            "width": 2
           },
           "mode": "lines",
           "name": "Abraham Lucas motion path",
           "type": "scatter",
           "x": [],
           "y": []
          }
         ],
         "name": "105"
        },
        {
         "data": [
          {
           "marker": {
            "color": "#ffffff",
            "line": {
             "color": "#000000",
             "width": 2
            },
            "opacity": 1,
            "size": 10
           },
           "mode": "markers",
           "type": "scatter",
           "x": [
            4
           ],
           "y": [
            -143
           ]
          },
          {
           "line": {
            "color": "red",
            "width": 2
           },
           "mode": "lines",
           "name": "Geno Smith motion path",
           "type": "scatter",
           "x": [],
           "y": []
          },
          {
           "marker": {
            "color": "#ffffff",
            "line": {
             "color": "#000000",
             "width": 2
            },
            "opacity": 1,
            "size": 10
           },
           "mode": "markers",
           "type": "scatter",
           "x": [
            159
           ],
           "y": [
            -91
           ]
          },
          {
           "line": {
            "color": "red",
            "width": 2
           },
           "mode": "lines",
           "name": "Gabe Jackson motion path",
           "type": "scatter",
           "x": [],
           "y": []
          },
          {
           "marker": {
            "color": "#ffffff",
            "line": {
             "color": "#000000",
             "width": 2
            },
            "opacity": 1,
            "size": 10
           },
           "mode": "markers",
           "type": "scatter",
           "x": [
            962
           ],
           "y": [
            -30
           ]
          },
          {
           "line": {
            "color": "red",
            "width": 2
           },
           "mode": "lines",
           "name": "Tyler Lockett motion path",
           "type": "scatter",
           "x": [],
           "y": []
          },
          {
           "marker": {
            "color": "#ffffff",
            "line": {
             "color": "#000000",
             "width": 2
            },
            "opacity": 1,
            "size": 10
           },
           "mode": "markers",
           "type": "scatter",
           "x": [
            -7
           ],
           "y": [
            -21
           ]
          },
          {
           "line": {
            "color": "red",
            "width": 2
           },
           "mode": "lines",
           "name": "Austin Blythe motion path",
           "type": "scatter",
           "x": [],
           "y": []
          },
          {
           "marker": {
            "color": "#ffffff",
            "line": {
             "color": "#000000",
             "width": 2
            },
            "opacity": 1,
            "size": 10
           },
           "mode": "markers",
           "type": "scatter",
           "x": [
            7
           ],
           "y": [
            -739
           ]
          },
          {
           "line": {
            "color": "red",
            "width": 2
           },
           "mode": "lines",
           "name": "Rashaad Penny motion path",
           "type": "scatter",
           "x": [],
           "y": []
          },
          {
           "marker": {
            "color": "#ff0000",
            "line": {
             "color": "#000000",
             "width": 2
            },
            "opacity": 1,
            "size": 10
           },
           "mode": "markers",
           "type": "scatter",
           "x": [
            548
           ],
           "y": [
            -144
           ]
          },
          {
           "line": {
            "color": "red",
            "width": 2
           },
           "mode": "lines",
           "name": "Will Dissly motion path",
           "type": "scatter",
           "x": [
            -238,
            -230,
            -220,
            -206,
            -190,
            -170,
            -147,
            -120,
            -89,
            -56,
            -19,
            20,
            60,
            100,
            141,
            181,
            221,
            259,
            296,
            330,
            362,
            392,
            419,
            444,
            468,
            488,
            504,
            518,
            528,
            536,
            543,
            546
           ],
           "y": [
            -464,
            -460,
            -456,
            -450,
            -442,
            -432,
            -421,
            -409,
            -392,
            -378,
            -360,
            -343,
            -326,
            -308,
            -292,
            -276,
            -261,
            -247,
            -233,
            -219,
            -207,
            -196,
            -185,
            -176,
            -168,
            -161,
            -156,
            -153,
            -149,
            -147,
            -146,
            -146
           ]
          },
          {
           "marker": {
            "color": "#ff0000",
            "line": {
             "color": "#000000",
             "width": 2
            },
            "opacity": 1,
            "size": 10
           },
           "mode": "markers",
           "type": "scatter",
           "x": [
            -418
           ],
           "y": [
            -199
           ]
          },
          {
           "hoverinfo": "none",
           "marker": {
            "color": "rgba(255, 0, 0, 0.5)",
            "line": {
             "color": "red",
             "width": 2
            },
            "size": 20
           },
           "mode": "markers",
           "name": "Noah Fant in motion",
           "type": "scatter",
           "x": [
            -418
           ],
           "y": [
            -199
           ]
          },
          {
           "line": {
            "color": "red",
            "width": 2
           },
           "mode": "lines",
           "name": "Noah Fant motion path",
           "type": "scatter",
           "x": [
            -443,
            -438,
            -430,
            -418
           ],
           "y": [
            -196,
            -196,
            -196,
            -199
           ]
          },
          {
           "marker": {
            "color": "#ffffff",
            "line": {
             "color": "#000000",
             "width": 2
            },
            "opacity": 1,
            "size": 10
           },
           "mode": "markers",
           "type": "scatter",
           "x": [
            -940
           ],
           "y": [
            -92
           ]
          },
          {
           "line": {
            "color": "red",
            "width": 2
           },
           "mode": "lines",
           "name": "DK Metcalf motion path",
           "type": "scatter",
           "x": [],
           "y": []
          },
          {
           "marker": {
            "color": "#ffffff",
            "line": {
             "color": "#000000",
             "width": 2
            },
            "opacity": 1,
            "size": 10
           },
           "mode": "markers",
           "type": "scatter",
           "x": [
            -148
           ],
           "y": [
            -97
           ]
          },
          {
           "line": {
            "color": "red",
            "width": 2
           },
           "mode": "lines",
           "name": "Phil Haynes motion path",
           "type": "scatter",
           "x": [],
           "y": []
          },
          {
           "marker": {
            "color": "#ffffff",
            "line": {
             "color": "#000000",
             "width": 2
            },
            "opacity": 1,
            "size": 10
           },
           "mode": "markers",
           "type": "scatter",
           "x": [
            -288
           ],
           "y": [
            -121
           ]
          },
          {
           "line": {
            "color": "red",
            "width": 2
           },
           "mode": "lines",
           "name": "Charles Cross motion path",
           "type": "scatter",
           "x": [],
           "y": []
          },
          {
           "marker": {
            "color": "#ffffff",
            "line": {
             "color": "#000000",
             "width": 2
            },
            "opacity": 1,
            "size": 10
           },
           "mode": "markers",
           "type": "scatter",
           "x": [
            314
           ],
           "y": [
            -96
           ]
          },
          {
           "line": {
            "color": "red",
            "width": 2
           },
           "mode": "lines",
           "name": "Abraham Lucas motion path",
           "type": "scatter",
           "x": [],
           "y": []
          }
         ],
         "name": "106"
        },
        {
         "data": [
          {
           "marker": {
            "color": "#ffffff",
            "line": {
             "color": "#000000",
             "width": 2
            },
            "opacity": 1,
            "size": 10
           },
           "mode": "markers",
           "type": "scatter",
           "x": [
            2
           ],
           "y": [
            -143
           ]
          },
          {
           "line": {
            "color": "red",
            "width": 2
           },
           "mode": "lines",
           "name": "Geno Smith motion path",
           "type": "scatter",
           "x": [],
           "y": []
          },
          {
           "marker": {
            "color": "#ffffff",
            "line": {
             "color": "#000000",
             "width": 2
            },
            "opacity": 1,
            "size": 10
           },
           "mode": "markers",
           "type": "scatter",
           "x": [
            159
           ],
           "y": [
            -91
           ]
          },
          {
           "line": {
            "color": "red",
            "width": 2
           },
           "mode": "lines",
           "name": "Gabe Jackson motion path",
           "type": "scatter",
           "x": [],
           "y": []
          },
          {
           "marker": {
            "color": "#ffffff",
            "line": {
             "color": "#000000",
             "width": 2
            },
            "opacity": 1,
            "size": 10
           },
           "mode": "markers",
           "type": "scatter",
           "x": [
            962
           ],
           "y": [
            -29
           ]
          },
          {
           "line": {
            "color": "red",
            "width": 2
           },
           "mode": "lines",
           "name": "Tyler Lockett motion path",
           "type": "scatter",
           "x": [],
           "y": []
          },
          {
           "marker": {
            "color": "#ffffff",
            "line": {
             "color": "#000000",
             "width": 2
            },
            "opacity": 1,
            "size": 10
           },
           "mode": "markers",
           "type": "scatter",
           "x": [
            -7
           ],
           "y": [
            -21
           ]
          },
          {
           "line": {
            "color": "red",
            "width": 2
           },
           "mode": "lines",
           "name": "Austin Blythe motion path",
           "type": "scatter",
           "x": [],
           "y": []
          },
          {
           "marker": {
            "color": "#ffffff",
            "line": {
             "color": "#000000",
             "width": 2
            },
            "opacity": 1,
            "size": 10
           },
           "mode": "markers",
           "type": "scatter",
           "x": [
            7
           ],
           "y": [
            -740
           ]
          },
          {
           "line": {
            "color": "red",
            "width": 2
           },
           "mode": "lines",
           "name": "Rashaad Penny motion path",
           "type": "scatter",
           "x": [],
           "y": []
          },
          {
           "marker": {
            "color": "#ff0000",
            "line": {
             "color": "#000000",
             "width": 2
            },
            "opacity": 1,
            "size": 10
           },
           "mode": "markers",
           "type": "scatter",
           "x": [
            548
           ],
           "y": [
            -143
           ]
          },
          {
           "line": {
            "color": "red",
            "width": 2
           },
           "mode": "lines",
           "name": "Will Dissly motion path",
           "type": "scatter",
           "x": [
            -238,
            -230,
            -220,
            -206,
            -190,
            -170,
            -147,
            -120,
            -89,
            -56,
            -19,
            20,
            60,
            100,
            141,
            181,
            221,
            259,
            296,
            330,
            362,
            392,
            419,
            444,
            468,
            488,
            504,
            518,
            528,
            536,
            543,
            546
           ],
           "y": [
            -464,
            -460,
            -456,
            -450,
            -442,
            -432,
            -421,
            -409,
            -392,
            -378,
            -360,
            -343,
            -326,
            -308,
            -292,
            -276,
            -261,
            -247,
            -233,
            -219,
            -207,
            -196,
            -185,
            -176,
            -168,
            -161,
            -156,
            -153,
            -149,
            -147,
            -146,
            -146
           ]
          },
          {
           "marker": {
            "color": "#ff0000",
            "line": {
             "color": "#000000",
             "width": 2
            },
            "opacity": 1,
            "size": 10
           },
           "mode": "markers",
           "type": "scatter",
           "x": [
            -403
           ],
           "y": [
            -203
           ]
          },
          {
           "hoverinfo": "none",
           "marker": {
            "color": "rgba(255, 0, 0, 0.5)",
            "line": {
             "color": "red",
             "width": 2
            },
            "size": 20
           },
           "mode": "markers",
           "name": "Noah Fant in motion",
           "type": "scatter",
           "x": [
            -403
           ],
           "y": [
            -203
           ]
          },
          {
           "line": {
            "color": "red",
            "width": 2
           },
           "mode": "lines",
           "name": "Noah Fant motion path",
           "type": "scatter",
           "x": [
            -443,
            -438,
            -430,
            -418,
            -403
           ],
           "y": [
            -196,
            -196,
            -196,
            -199,
            -203
           ]
          },
          {
           "marker": {
            "color": "#ffffff",
            "line": {
             "color": "#000000",
             "width": 2
            },
            "opacity": 1,
            "size": 10
           },
           "mode": "markers",
           "type": "scatter",
           "x": [
            -940
           ],
           "y": [
            -92
           ]
          },
          {
           "line": {
            "color": "red",
            "width": 2
           },
           "mode": "lines",
           "name": "DK Metcalf motion path",
           "type": "scatter",
           "x": [],
           "y": []
          },
          {
           "marker": {
            "color": "#ffffff",
            "line": {
             "color": "#000000",
             "width": 2
            },
            "opacity": 1,
            "size": 10
           },
           "mode": "markers",
           "type": "scatter",
           "x": [
            -148
           ],
           "y": [
            -97
           ]
          },
          {
           "line": {
            "color": "red",
            "width": 2
           },
           "mode": "lines",
           "name": "Phil Haynes motion path",
           "type": "scatter",
           "x": [],
           "y": []
          },
          {
           "marker": {
            "color": "#ffffff",
            "line": {
             "color": "#000000",
             "width": 2
            },
            "opacity": 1,
            "size": 10
           },
           "mode": "markers",
           "type": "scatter",
           "x": [
            -288
           ],
           "y": [
            -121
           ]
          },
          {
           "line": {
            "color": "red",
            "width": 2
           },
           "mode": "lines",
           "name": "Charles Cross motion path",
           "type": "scatter",
           "x": [],
           "y": []
          },
          {
           "marker": {
            "color": "#ffffff",
            "line": {
             "color": "#000000",
             "width": 2
            },
            "opacity": 1,
            "size": 10
           },
           "mode": "markers",
           "type": "scatter",
           "x": [
            313
           ],
           "y": [
            -96
           ]
          },
          {
           "line": {
            "color": "red",
            "width": 2
           },
           "mode": "lines",
           "name": "Abraham Lucas motion path",
           "type": "scatter",
           "x": [],
           "y": []
          }
         ],
         "name": "107"
        },
        {
         "data": [
          {
           "marker": {
            "color": "#ffffff",
            "line": {
             "color": "#000000",
             "width": 2
            },
            "opacity": 1,
            "size": 10
           },
           "mode": "markers",
           "type": "scatter",
           "x": [
            1
           ],
           "y": [
            -143
           ]
          },
          {
           "line": {
            "color": "red",
            "width": 2
           },
           "mode": "lines",
           "name": "Geno Smith motion path",
           "type": "scatter",
           "x": [],
           "y": []
          },
          {
           "marker": {
            "color": "#ffffff",
            "line": {
             "color": "#000000",
             "width": 2
            },
            "opacity": 1,
            "size": 10
           },
           "mode": "markers",
           "type": "scatter",
           "x": [
            159
           ],
           "y": [
            -91
           ]
          },
          {
           "line": {
            "color": "red",
            "width": 2
           },
           "mode": "lines",
           "name": "Gabe Jackson motion path",
           "type": "scatter",
           "x": [],
           "y": []
          },
          {
           "marker": {
            "color": "#ffffff",
            "line": {
             "color": "#000000",
             "width": 2
            },
            "opacity": 1,
            "size": 10
           },
           "mode": "markers",
           "type": "scatter",
           "x": [
            962
           ],
           "y": [
            -28
           ]
          },
          {
           "line": {
            "color": "red",
            "width": 2
           },
           "mode": "lines",
           "name": "Tyler Lockett motion path",
           "type": "scatter",
           "x": [],
           "y": []
          },
          {
           "marker": {
            "color": "#ffffff",
            "line": {
             "color": "#000000",
             "width": 2
            },
            "opacity": 1,
            "size": 10
           },
           "mode": "markers",
           "type": "scatter",
           "x": [
            -6
           ],
           "y": [
            -21
           ]
          },
          {
           "line": {
            "color": "red",
            "width": 2
           },
           "mode": "lines",
           "name": "Austin Blythe motion path",
           "type": "scatter",
           "x": [],
           "y": []
          },
          {
           "marker": {
            "color": "#ffffff",
            "line": {
             "color": "#000000",
             "width": 2
            },
            "opacity": 1,
            "size": 10
           },
           "mode": "markers",
           "type": "scatter",
           "x": [
            7
           ],
           "y": [
            -740
           ]
          },
          {
           "line": {
            "color": "red",
            "width": 2
           },
           "mode": "lines",
           "name": "Rashaad Penny motion path",
           "type": "scatter",
           "x": [],
           "y": []
          },
          {
           "marker": {
            "color": "#ff0000",
            "line": {
             "color": "#000000",
             "width": 2
            },
            "opacity": 1,
            "size": 10
           },
           "mode": "markers",
           "type": "scatter",
           "x": [
            549
           ],
           "y": [
            -143
           ]
          },
          {
           "line": {
            "color": "red",
            "width": 2
           },
           "mode": "lines",
           "name": "Will Dissly motion path",
           "type": "scatter",
           "x": [
            -238,
            -230,
            -220,
            -206,
            -190,
            -170,
            -147,
            -120,
            -89,
            -56,
            -19,
            20,
            60,
            100,
            141,
            181,
            221,
            259,
            296,
            330,
            362,
            392,
            419,
            444,
            468,
            488,
            504,
            518,
            528,
            536,
            543,
            546
           ],
           "y": [
            -464,
            -460,
            -456,
            -450,
            -442,
            -432,
            -421,
            -409,
            -392,
            -378,
            -360,
            -343,
            -326,
            -308,
            -292,
            -276,
            -261,
            -247,
            -233,
            -219,
            -207,
            -196,
            -185,
            -176,
            -168,
            -161,
            -156,
            -153,
            -149,
            -147,
            -146,
            -146
           ]
          },
          {
           "marker": {
            "color": "#ff0000",
            "line": {
             "color": "#000000",
             "width": 2
            },
            "opacity": 1,
            "size": 10
           },
           "mode": "markers",
           "type": "scatter",
           "x": [
            -384
           ],
           "y": [
            -210
           ]
          },
          {
           "hoverinfo": "none",
           "marker": {
            "color": "rgba(255, 0, 0, 0.5)",
            "line": {
             "color": "red",
             "width": 2
            },
            "size": 20
           },
           "mode": "markers",
           "name": "Noah Fant in motion",
           "type": "scatter",
           "x": [
            -384
           ],
           "y": [
            -210
           ]
          },
          {
           "line": {
            "color": "red",
            "width": 2
           },
           "mode": "lines",
           "name": "Noah Fant motion path",
           "type": "scatter",
           "x": [
            -443,
            -438,
            -430,
            -418,
            -403,
            -384
           ],
           "y": [
            -196,
            -196,
            -196,
            -199,
            -203,
            -210
           ]
          },
          {
           "marker": {
            "color": "#ffffff",
            "line": {
             "color": "#000000",
             "width": 2
            },
            "opacity": 1,
            "size": 10
           },
           "mode": "markers",
           "type": "scatter",
           "x": [
            -939
           ],
           "y": [
            -92
           ]
          },
          {
           "line": {
            "color": "red",
            "width": 2
           },
           "mode": "lines",
           "name": "DK Metcalf motion path",
           "type": "scatter",
           "x": [],
           "y": []
          },
          {
           "marker": {
            "color": "#ffffff",
            "line": {
             "color": "#000000",
             "width": 2
            },
            "opacity": 1,
            "size": 10
           },
           "mode": "markers",
           "type": "scatter",
           "x": [
            -147
           ],
           "y": [
            -97
           ]
          },
          {
           "line": {
            "color": "red",
            "width": 2
           },
           "mode": "lines",
           "name": "Phil Haynes motion path",
           "type": "scatter",
           "x": [],
           "y": []
          },
          {
           "marker": {
            "color": "#ffffff",
            "line": {
             "color": "#000000",
             "width": 2
            },
            "opacity": 1,
            "size": 10
           },
           "mode": "markers",
           "type": "scatter",
           "x": [
            -288
           ],
           "y": [
            -121
           ]
          },
          {
           "line": {
            "color": "red",
            "width": 2
           },
           "mode": "lines",
           "name": "Charles Cross motion path",
           "type": "scatter",
           "x": [],
           "y": []
          },
          {
           "marker": {
            "color": "#ffffff",
            "line": {
             "color": "#000000",
             "width": 2
            },
            "opacity": 1,
            "size": 10
           },
           "mode": "markers",
           "type": "scatter",
           "x": [
            313
           ],
           "y": [
            -96
           ]
          },
          {
           "line": {
            "color": "red",
            "width": 2
           },
           "mode": "lines",
           "name": "Abraham Lucas motion path",
           "type": "scatter",
           "x": [],
           "y": []
          }
         ],
         "name": "108"
        },
        {
         "data": [
          {
           "marker": {
            "color": "#ffffff",
            "line": {
             "color": "#000000",
             "width": 2
            },
            "opacity": 1,
            "size": 10
           },
           "mode": "markers",
           "type": "scatter",
           "x": [
            1
           ],
           "y": [
            -143
           ]
          },
          {
           "line": {
            "color": "red",
            "width": 2
           },
           "mode": "lines",
           "name": "Geno Smith motion path",
           "type": "scatter",
           "x": [],
           "y": []
          },
          {
           "marker": {
            "color": "#ffffff",
            "line": {
             "color": "#000000",
             "width": 2
            },
            "opacity": 1,
            "size": 10
           },
           "mode": "markers",
           "type": "scatter",
           "x": [
            159
           ],
           "y": [
            -91
           ]
          },
          {
           "line": {
            "color": "red",
            "width": 2
           },
           "mode": "lines",
           "name": "Gabe Jackson motion path",
           "type": "scatter",
           "x": [],
           "y": []
          },
          {
           "marker": {
            "color": "#ffffff",
            "line": {
             "color": "#000000",
             "width": 2
            },
            "opacity": 1,
            "size": 10
           },
           "mode": "markers",
           "type": "scatter",
           "x": [
            963
           ],
           "y": [
            -28
           ]
          },
          {
           "line": {
            "color": "red",
            "width": 2
           },
           "mode": "lines",
           "name": "Tyler Lockett motion path",
           "type": "scatter",
           "x": [],
           "y": []
          },
          {
           "marker": {
            "color": "#ffffff",
            "line": {
             "color": "#000000",
             "width": 2
            },
            "opacity": 1,
            "size": 10
           },
           "mode": "markers",
           "type": "scatter",
           "x": [
            -5
           ],
           "y": [
            -22
           ]
          },
          {
           "line": {
            "color": "red",
            "width": 2
           },
           "mode": "lines",
           "name": "Austin Blythe motion path",
           "type": "scatter",
           "x": [],
           "y": []
          },
          {
           "marker": {
            "color": "#ffffff",
            "line": {
             "color": "#000000",
             "width": 2
            },
            "opacity": 1,
            "size": 10
           },
           "mode": "markers",
           "type": "scatter",
           "x": [
            7
           ],
           "y": [
            -740
           ]
          },
          {
           "line": {
            "color": "red",
            "width": 2
           },
           "mode": "lines",
           "name": "Rashaad Penny motion path",
           "type": "scatter",
           "x": [],
           "y": []
          },
          {
           "marker": {
            "color": "#ff0000",
            "line": {
             "color": "#000000",
             "width": 2
            },
            "opacity": 1,
            "size": 10
           },
           "mode": "markers",
           "type": "scatter",
           "x": [
            549
           ],
           "y": [
            -142
           ]
          },
          {
           "line": {
            "color": "red",
            "width": 2
           },
           "mode": "lines",
           "name": "Will Dissly motion path",
           "type": "scatter",
           "x": [
            -238,
            -230,
            -220,
            -206,
            -190,
            -170,
            -147,
            -120,
            -89,
            -56,
            -19,
            20,
            60,
            100,
            141,
            181,
            221,
            259,
            296,
            330,
            362,
            392,
            419,
            444,
            468,
            488,
            504,
            518,
            528,
            536,
            543,
            546
           ],
           "y": [
            -464,
            -460,
            -456,
            -450,
            -442,
            -432,
            -421,
            -409,
            -392,
            -378,
            -360,
            -343,
            -326,
            -308,
            -292,
            -276,
            -261,
            -247,
            -233,
            -219,
            -207,
            -196,
            -185,
            -176,
            -168,
            -161,
            -156,
            -153,
            -149,
            -147,
            -146,
            -146
           ]
          },
          {
           "marker": {
            "color": "#ff0000",
            "line": {
             "color": "#000000",
             "width": 2
            },
            "opacity": 1,
            "size": 10
           },
           "mode": "markers",
           "type": "scatter",
           "x": [
            -360
           ],
           "y": [
            -215
           ]
          },
          {
           "hoverinfo": "none",
           "marker": {
            "color": "rgba(255, 0, 0, 0.5)",
            "line": {
             "color": "red",
             "width": 2
            },
            "size": 20
           },
           "mode": "markers",
           "name": "Noah Fant in motion",
           "type": "scatter",
           "x": [
            -360
           ],
           "y": [
            -215
           ]
          },
          {
           "line": {
            "color": "red",
            "width": 2
           },
           "mode": "lines",
           "name": "Noah Fant motion path",
           "type": "scatter",
           "x": [
            -443,
            -438,
            -430,
            -418,
            -403,
            -384,
            -360
           ],
           "y": [
            -196,
            -196,
            -196,
            -199,
            -203,
            -210,
            -215
           ]
          },
          {
           "marker": {
            "color": "#ffffff",
            "line": {
             "color": "#000000",
             "width": 2
            },
            "opacity": 1,
            "size": 10
           },
           "mode": "markers",
           "type": "scatter",
           "x": [
            -939
           ],
           "y": [
            -92
           ]
          },
          {
           "line": {
            "color": "red",
            "width": 2
           },
           "mode": "lines",
           "name": "DK Metcalf motion path",
           "type": "scatter",
           "x": [],
           "y": []
          },
          {
           "marker": {
            "color": "#ffffff",
            "line": {
             "color": "#000000",
             "width": 2
            },
            "opacity": 1,
            "size": 10
           },
           "mode": "markers",
           "type": "scatter",
           "x": [
            -147
           ],
           "y": [
            -96
           ]
          },
          {
           "line": {
            "color": "red",
            "width": 2
           },
           "mode": "lines",
           "name": "Phil Haynes motion path",
           "type": "scatter",
           "x": [],
           "y": []
          },
          {
           "marker": {
            "color": "#ffffff",
            "line": {
             "color": "#000000",
             "width": 2
            },
            "opacity": 1,
            "size": 10
           },
           "mode": "markers",
           "type": "scatter",
           "x": [
            -287
           ],
           "y": [
            -121
           ]
          },
          {
           "line": {
            "color": "red",
            "width": 2
           },
           "mode": "lines",
           "name": "Charles Cross motion path",
           "type": "scatter",
           "x": [],
           "y": []
          },
          {
           "marker": {
            "color": "#ffffff",
            "line": {
             "color": "#000000",
             "width": 2
            },
            "opacity": 1,
            "size": 10
           },
           "mode": "markers",
           "type": "scatter",
           "x": [
            313
           ],
           "y": [
            -96
           ]
          },
          {
           "line": {
            "color": "red",
            "width": 2
           },
           "mode": "lines",
           "name": "Abraham Lucas motion path",
           "type": "scatter",
           "x": [],
           "y": []
          }
         ],
         "name": "109"
        },
        {
         "data": [
          {
           "marker": {
            "color": "#ffffff",
            "line": {
             "color": "#000000",
             "width": 2
            },
            "opacity": 1,
            "size": 10
           },
           "mode": "markers",
           "type": "scatter",
           "x": [
            0
           ],
           "y": [
            -144
           ]
          },
          {
           "line": {
            "color": "red",
            "width": 2
           },
           "mode": "lines",
           "name": "Geno Smith motion path",
           "type": "scatter",
           "x": [],
           "y": []
          },
          {
           "marker": {
            "color": "#ffffff",
            "line": {
             "color": "#000000",
             "width": 2
            },
            "opacity": 1,
            "size": 10
           },
           "mode": "markers",
           "type": "scatter",
           "x": [
            160
           ],
           "y": [
            -92
           ]
          },
          {
           "line": {
            "color": "red",
            "width": 2
           },
           "mode": "lines",
           "name": "Gabe Jackson motion path",
           "type": "scatter",
           "x": [],
           "y": []
          },
          {
           "marker": {
            "color": "#ffffff",
            "line": {
             "color": "#000000",
             "width": 2
            },
            "opacity": 1,
            "size": 10
           },
           "mode": "markers",
           "type": "scatter",
           "x": [
            963
           ],
           "y": [
            -28
           ]
          },
          {
           "line": {
            "color": "red",
            "width": 2
           },
           "mode": "lines",
           "name": "Tyler Lockett motion path",
           "type": "scatter",
           "x": [],
           "y": []
          },
          {
           "marker": {
            "color": "#ffffff",
            "line": {
             "color": "#000000",
             "width": 2
            },
            "opacity": 1,
            "size": 10
           },
           "mode": "markers",
           "type": "scatter",
           "x": [
            -2
           ],
           "y": [
            -23
           ]
          },
          {
           "line": {
            "color": "red",
            "width": 2
           },
           "mode": "lines",
           "name": "Austin Blythe motion path",
           "type": "scatter",
           "x": [],
           "y": []
          },
          {
           "marker": {
            "color": "#ffffff",
            "line": {
             "color": "#000000",
             "width": 2
            },
            "opacity": 1,
            "size": 10
           },
           "mode": "markers",
           "type": "scatter",
           "x": [
            7
           ],
           "y": [
            -740
           ]
          },
          {
           "line": {
            "color": "red",
            "width": 2
           },
           "mode": "lines",
           "name": "Rashaad Penny motion path",
           "type": "scatter",
           "x": [],
           "y": []
          },
          {
           "marker": {
            "color": "#ff0000",
            "line": {
             "color": "#000000",
             "width": 2
            },
            "opacity": 1,
            "size": 10
           },
           "mode": "markers",
           "type": "scatter",
           "x": [
            549
           ],
           "y": [
            -142
           ]
          },
          {
           "line": {
            "color": "red",
            "width": 2
           },
           "mode": "lines",
           "name": "Will Dissly motion path",
           "type": "scatter",
           "x": [
            -238,
            -230,
            -220,
            -206,
            -190,
            -170,
            -147,
            -120,
            -89,
            -56,
            -19,
            20,
            60,
            100,
            141,
            181,
            221,
            259,
            296,
            330,
            362,
            392,
            419,
            444,
            468,
            488,
            504,
            518,
            528,
            536,
            543,
            546
           ],
           "y": [
            -464,
            -460,
            -456,
            -450,
            -442,
            -432,
            -421,
            -409,
            -392,
            -378,
            -360,
            -343,
            -326,
            -308,
            -292,
            -276,
            -261,
            -247,
            -233,
            -219,
            -207,
            -196,
            -185,
            -176,
            -168,
            -161,
            -156,
            -153,
            -149,
            -147,
            -146,
            -146
           ]
          },
          {
           "marker": {
            "color": "#ff0000",
            "line": {
             "color": "#000000",
             "width": 2
            },
            "opacity": 1,
            "size": 10
           },
           "mode": "markers",
           "type": "scatter",
           "x": [
            -331
           ],
           "y": [
            -224
           ]
          },
          {
           "hoverinfo": "none",
           "marker": {
            "color": "rgba(255, 0, 0, 0.5)",
            "line": {
             "color": "red",
             "width": 2
            },
            "size": 20
           },
           "mode": "markers",
           "name": "Noah Fant in motion",
           "type": "scatter",
           "x": [
            -331
           ],
           "y": [
            -224
           ]
          },
          {
           "line": {
            "color": "red",
            "width": 2
           },
           "mode": "lines",
           "name": "Noah Fant motion path",
           "type": "scatter",
           "x": [
            -443,
            -438,
            -430,
            -418,
            -403,
            -384,
            -360,
            -331
           ],
           "y": [
            -196,
            -196,
            -196,
            -199,
            -203,
            -210,
            -215,
            -224
           ]
          },
          {
           "marker": {
            "color": "#ffffff",
            "line": {
             "color": "#000000",
             "width": 2
            },
            "opacity": 1,
            "size": 10
           },
           "mode": "markers",
           "type": "scatter",
           "x": [
            -939
           ],
           "y": [
            -92
           ]
          },
          {
           "line": {
            "color": "red",
            "width": 2
           },
           "mode": "lines",
           "name": "DK Metcalf motion path",
           "type": "scatter",
           "x": [],
           "y": []
          },
          {
           "marker": {
            "color": "#ffffff",
            "line": {
             "color": "#000000",
             "width": 2
            },
            "opacity": 1,
            "size": 10
           },
           "mode": "markers",
           "type": "scatter",
           "x": [
            -146
           ],
           "y": [
            -96
           ]
          },
          {
           "line": {
            "color": "red",
            "width": 2
           },
           "mode": "lines",
           "name": "Phil Haynes motion path",
           "type": "scatter",
           "x": [],
           "y": []
          },
          {
           "marker": {
            "color": "#ffffff",
            "line": {
             "color": "#000000",
             "width": 2
            },
            "opacity": 1,
            "size": 10
           },
           "mode": "markers",
           "type": "scatter",
           "x": [
            -286
           ],
           "y": [
            -119
           ]
          },
          {
           "line": {
            "color": "red",
            "width": 2
           },
           "mode": "lines",
           "name": "Charles Cross motion path",
           "type": "scatter",
           "x": [],
           "y": []
          },
          {
           "marker": {
            "color": "#ffffff",
            "line": {
             "color": "#000000",
             "width": 2
            },
            "opacity": 1,
            "size": 10
           },
           "mode": "markers",
           "type": "scatter",
           "x": [
            314
           ],
           "y": [
            -96
           ]
          },
          {
           "line": {
            "color": "red",
            "width": 2
           },
           "mode": "lines",
           "name": "Abraham Lucas motion path",
           "type": "scatter",
           "x": [],
           "y": []
          }
         ],
         "name": "110"
        },
        {
         "data": [
          {
           "marker": {
            "color": "#ffffff",
            "line": {
             "color": "#000000",
             "width": 2
            },
            "opacity": 1,
            "size": 10
           },
           "mode": "markers",
           "type": "scatter",
           "x": [
            2
           ],
           "y": [
            -146
           ]
          },
          {
           "line": {
            "color": "red",
            "width": 2
           },
           "mode": "lines",
           "name": "Geno Smith motion path",
           "type": "scatter",
           "x": [],
           "y": []
          },
          {
           "marker": {
            "color": "#ffffff",
            "line": {
             "color": "#000000",
             "width": 2
            },
            "opacity": 1,
            "size": 10
           },
           "mode": "markers",
           "type": "scatter",
           "x": [
            161
           ],
           "y": [
            -92
           ]
          },
          {
           "line": {
            "color": "red",
            "width": 2
           },
           "mode": "lines",
           "name": "Gabe Jackson motion path",
           "type": "scatter",
           "x": [],
           "y": []
          },
          {
           "marker": {
            "color": "#ffffff",
            "line": {
             "color": "#000000",
             "width": 2
            },
            "opacity": 1,
            "size": 10
           },
           "mode": "markers",
           "type": "scatter",
           "x": [
            962
           ],
           "y": [
            -26
           ]
          },
          {
           "line": {
            "color": "red",
            "width": 2
           },
           "mode": "lines",
           "name": "Tyler Lockett motion path",
           "type": "scatter",
           "x": [],
           "y": []
          },
          {
           "marker": {
            "color": "#ffffff",
            "line": {
             "color": "#000000",
             "width": 2
            },
            "opacity": 1,
            "size": 10
           },
           "mode": "markers",
           "type": "scatter",
           "x": [
            3
           ],
           "y": [
            -25
           ]
          },
          {
           "line": {
            "color": "red",
            "width": 2
           },
           "mode": "lines",
           "name": "Austin Blythe motion path",
           "type": "scatter",
           "x": [],
           "y": []
          },
          {
           "marker": {
            "color": "#ffffff",
            "line": {
             "color": "#000000",
             "width": 2
            },
            "opacity": 1,
            "size": 10
           },
           "mode": "markers",
           "type": "scatter",
           "x": [
            7
           ],
           "y": [
            -739
           ]
          },
          {
           "line": {
            "color": "red",
            "width": 2
           },
           "mode": "lines",
           "name": "Rashaad Penny motion path",
           "type": "scatter",
           "x": [],
           "y": []
          },
          {
           "marker": {
            "color": "#ff0000",
            "line": {
             "color": "#000000",
             "width": 2
            },
            "opacity": 1,
            "size": 10
           },
           "mode": "markers",
           "type": "scatter",
           "x": [
            550
           ],
           "y": [
            -141
           ]
          },
          {
           "line": {
            "color": "red",
            "width": 2
           },
           "mode": "lines",
           "name": "Will Dissly motion path",
           "type": "scatter",
           "x": [
            -238,
            -230,
            -220,
            -206,
            -190,
            -170,
            -147,
            -120,
            -89,
            -56,
            -19,
            20,
            60,
            100,
            141,
            181,
            221,
            259,
            296,
            330,
            362,
            392,
            419,
            444,
            468,
            488,
            504,
            518,
            528,
            536,
            543,
            546
           ],
           "y": [
            -464,
            -460,
            -456,
            -450,
            -442,
            -432,
            -421,
            -409,
            -392,
            -378,
            -360,
            -343,
            -326,
            -308,
            -292,
            -276,
            -261,
            -247,
            -233,
            -219,
            -207,
            -196,
            -185,
            -176,
            -168,
            -161,
            -156,
            -153,
            -149,
            -147,
            -146,
            -146
           ]
          },
          {
           "marker": {
            "color": "#ff0000",
            "line": {
             "color": "#000000",
             "width": 2
            },
            "opacity": 1,
            "size": 10
           },
           "mode": "markers",
           "type": "scatter",
           "x": [
            -296
           ],
           "y": [
            -232
           ]
          },
          {
           "hoverinfo": "none",
           "marker": {
            "color": "rgba(255, 0, 0, 0.5)",
            "line": {
             "color": "red",
             "width": 2
            },
            "size": 20
           },
           "mode": "markers",
           "name": "Noah Fant in motion",
           "type": "scatter",
           "x": [
            -296
           ],
           "y": [
            -232
           ]
          },
          {
           "line": {
            "color": "red",
            "width": 2
           },
           "mode": "lines",
           "name": "Noah Fant motion path",
           "type": "scatter",
           "x": [
            -443,
            -438,
            -430,
            -418,
            -403,
            -384,
            -360,
            -331,
            -296
           ],
           "y": [
            -196,
            -196,
            -196,
            -199,
            -203,
            -210,
            -215,
            -224,
            -232
           ]
          },
          {
           "marker": {
            "color": "#ffffff",
            "line": {
             "color": "#000000",
             "width": 2
            },
            "opacity": 1,
            "size": 10
           },
           "mode": "markers",
           "type": "scatter",
           "x": [
            -938
           ],
           "y": [
            -91
           ]
          },
          {
           "line": {
            "color": "red",
            "width": 2
           },
           "mode": "lines",
           "name": "DK Metcalf motion path",
           "type": "scatter",
           "x": [],
           "y": []
          },
          {
           "marker": {
            "color": "#ffffff",
            "line": {
             "color": "#000000",
             "width": 2
            },
            "opacity": 1,
            "size": 10
           },
           "mode": "markers",
           "type": "scatter",
           "x": [
            -144
           ],
           "y": [
            -93
           ]
          },
          {
           "line": {
            "color": "red",
            "width": 2
           },
           "mode": "lines",
           "name": "Phil Haynes motion path",
           "type": "scatter",
           "x": [],
           "y": []
          },
          {
           "marker": {
            "color": "#ffffff",
            "line": {
             "color": "#000000",
             "width": 2
            },
            "opacity": 1,
            "size": 10
           },
           "mode": "markers",
           "type": "scatter",
           "x": [
            -283
           ],
           "y": [
            -117
           ]
          },
          {
           "line": {
            "color": "red",
            "width": 2
           },
           "mode": "lines",
           "name": "Charles Cross motion path",
           "type": "scatter",
           "x": [],
           "y": []
          },
          {
           "marker": {
            "color": "#ffffff",
            "line": {
             "color": "#000000",
             "width": 2
            },
            "opacity": 1,
            "size": 10
           },
           "mode": "markers",
           "type": "scatter",
           "x": [
            317
           ],
           "y": [
            -97
           ]
          },
          {
           "line": {
            "color": "red",
            "width": 2
           },
           "mode": "lines",
           "name": "Abraham Lucas motion path",
           "type": "scatter",
           "x": [],
           "y": []
          }
         ],
         "name": "111"
        },
        {
         "data": [
          {
           "marker": {
            "color": "#ffffff",
            "line": {
             "color": "#000000",
             "width": 2
            },
            "opacity": 1,
            "size": 10
           },
           "mode": "markers",
           "type": "scatter",
           "x": [
            4
           ],
           "y": [
            -147
           ]
          },
          {
           "line": {
            "color": "red",
            "width": 2
           },
           "mode": "lines",
           "name": "Geno Smith motion path",
           "type": "scatter",
           "x": [],
           "y": []
          },
          {
           "marker": {
            "color": "#ffffff",
            "line": {
             "color": "#000000",
             "width": 2
            },
            "opacity": 1,
            "size": 10
           },
           "mode": "markers",
           "type": "scatter",
           "x": [
            165
           ],
           "y": [
            -93
           ]
          },
          {
           "line": {
            "color": "red",
            "width": 2
           },
           "mode": "lines",
           "name": "Gabe Jackson motion path",
           "type": "scatter",
           "x": [],
           "y": []
          },
          {
           "marker": {
            "color": "#ffffff",
            "line": {
             "color": "#000000",
             "width": 2
            },
            "opacity": 1,
            "size": 10
           },
           "mode": "markers",
           "type": "scatter",
           "x": [
            962
           ],
           "y": [
            -23
           ]
          },
          {
           "line": {
            "color": "red",
            "width": 2
           },
           "mode": "lines",
           "name": "Tyler Lockett motion path",
           "type": "scatter",
           "x": [],
           "y": []
          },
          {
           "marker": {
            "color": "#ffffff",
            "line": {
             "color": "#000000",
             "width": 2
            },
            "opacity": 1,
            "size": 10
           },
           "mode": "markers",
           "type": "scatter",
           "x": [
            11
           ],
           "y": [
            -28
           ]
          },
          {
           "line": {
            "color": "red",
            "width": 2
           },
           "mode": "lines",
           "name": "Austin Blythe motion path",
           "type": "scatter",
           "x": [],
           "y": []
          },
          {
           "marker": {
            "color": "#ffffff",
            "line": {
             "color": "#000000",
             "width": 2
            },
            "opacity": 1,
            "size": 10
           },
           "mode": "markers",
           "type": "scatter",
           "x": [
            8
           ],
           "y": [
            -739
           ]
          },
          {
           "line": {
            "color": "red",
            "width": 2
           },
           "mode": "lines",
           "name": "Rashaad Penny motion path",
           "type": "scatter",
           "x": [],
           "y": []
          },
          {
           "marker": {
            "color": "#ff0000",
            "line": {
             "color": "#000000",
             "width": 2
            },
            "opacity": 1,
            "size": 10
           },
           "mode": "markers",
           "type": "scatter",
           "x": [
            552
           ],
           "y": [
            -140
           ]
          },
          {
           "line": {
            "color": "red",
            "width": 2
           },
           "mode": "lines",
           "name": "Will Dissly motion path",
           "type": "scatter",
           "x": [
            -238,
            -230,
            -220,
            -206,
            -190,
            -170,
            -147,
            -120,
            -89,
            -56,
            -19,
            20,
            60,
            100,
            141,
            181,
            221,
            259,
            296,
            330,
            362,
            392,
            419,
            444,
            468,
            488,
            504,
            518,
            528,
            536,
            543,
            546
           ],
           "y": [
            -464,
            -460,
            -456,
            -450,
            -442,
            -432,
            -421,
            -409,
            -392,
            -378,
            -360,
            -343,
            -326,
            -308,
            -292,
            -276,
            -261,
            -247,
            -233,
            -219,
            -207,
            -196,
            -185,
            -176,
            -168,
            -161,
            -156,
            -153,
            -149,
            -147,
            -146,
            -146
           ]
          },
          {
           "marker": {
            "color": "#ff0000",
            "line": {
             "color": "#000000",
             "width": 2
            },
            "opacity": 1,
            "size": 10
           },
           "mode": "markers",
           "type": "scatter",
           "x": [
            -255
           ],
           "y": [
            -241
           ]
          },
          {
           "hoverinfo": "none",
           "marker": {
            "color": "rgba(255, 0, 0, 0.5)",
            "line": {
             "color": "red",
             "width": 2
            },
            "size": 20
           },
           "mode": "markers",
           "name": "Noah Fant in motion",
           "type": "scatter",
           "x": [
            -255
           ],
           "y": [
            -241
           ]
          },
          {
           "line": {
            "color": "red",
            "width": 2
           },
           "mode": "lines",
           "name": "Noah Fant motion path",
           "type": "scatter",
           "x": [
            -443,
            -438,
            -430,
            -418,
            -403,
            -384,
            -360,
            -331,
            -296,
            -255
           ],
           "y": [
            -196,
            -196,
            -196,
            -199,
            -203,
            -210,
            -215,
            -224,
            -232,
            -241
           ]
          },
          {
           "marker": {
            "color": "#ffffff",
            "line": {
             "color": "#000000",
             "width": 2
            },
            "opacity": 1,
            "size": 10
           },
           "mode": "markers",
           "type": "scatter",
           "x": [
            -939
           ],
           "y": [
            -89
           ]
          },
          {
           "line": {
            "color": "red",
            "width": 2
           },
           "mode": "lines",
           "name": "DK Metcalf motion path",
           "type": "scatter",
           "x": [],
           "y": []
          },
          {
           "marker": {
            "color": "#ffffff",
            "line": {
             "color": "#000000",
             "width": 2
            },
            "opacity": 1,
            "size": 10
           },
           "mode": "markers",
           "type": "scatter",
           "x": [
            -139
           ],
           "y": [
            -91
           ]
          },
          {
           "line": {
            "color": "red",
            "width": 2
           },
           "mode": "lines",
           "name": "Phil Haynes motion path",
           "type": "scatter",
           "x": [],
           "y": []
          },
          {
           "marker": {
            "color": "#ffffff",
            "line": {
             "color": "#000000",
             "width": 2
            },
            "opacity": 1,
            "size": 10
           },
           "mode": "markers",
           "type": "scatter",
           "x": [
            -278
           ],
           "y": [
            -114
           ]
          },
          {
           "line": {
            "color": "red",
            "width": 2
           },
           "mode": "lines",
           "name": "Charles Cross motion path",
           "type": "scatter",
           "x": [],
           "y": []
          },
          {
           "marker": {
            "color": "#ffffff",
            "line": {
             "color": "#000000",
             "width": 2
            },
            "opacity": 1,
            "size": 10
           },
           "mode": "markers",
           "type": "scatter",
           "x": [
            321
           ],
           "y": [
            -99
           ]
          },
          {
           "line": {
            "color": "red",
            "width": 2
           },
           "mode": "lines",
           "name": "Abraham Lucas motion path",
           "type": "scatter",
           "x": [],
           "y": []
          }
         ],
         "name": "112"
        },
        {
         "data": [
          {
           "marker": {
            "color": "#ffffff",
            "line": {
             "color": "#000000",
             "width": 2
            },
            "opacity": 1,
            "size": 10
           },
           "mode": "markers",
           "type": "scatter",
           "x": [
            23
           ],
           "y": [
            -89
           ]
          },
          {
           "line": {
            "color": "red",
            "width": 2
           },
           "mode": "lines",
           "name": "Geno Smith motion path",
           "type": "scatter",
           "x": [],
           "y": []
          },
          {
           "marker": {
            "color": "#ffffff",
            "line": {
             "color": "#000000",
             "width": 2
            },
            "opacity": 1,
            "size": 10
           },
           "mode": "markers",
           "type": "scatter",
           "x": [
            186
           ],
           "y": [
            -34
           ]
          },
          {
           "line": {
            "color": "red",
            "width": 2
           },
           "mode": "lines",
           "name": "Gabe Jackson motion path",
           "type": "scatter",
           "x": [],
           "y": []
          },
          {
           "marker": {
            "color": "#ffffff",
            "line": {
             "color": "#000000",
             "width": 2
            },
            "opacity": 1,
            "size": 10
           },
           "mode": "markers",
           "type": "scatter",
           "x": [
            976
           ],
           "y": [
            45
           ]
          },
          {
           "line": {
            "color": "red",
            "width": 2
           },
           "mode": "lines",
           "name": "Tyler Lockett motion path",
           "type": "scatter",
           "x": [],
           "y": []
          },
          {
           "marker": {
            "color": "#ffffff",
            "line": {
             "color": "#000000",
             "width": 2
            },
            "opacity": 1,
            "size": 10
           },
           "mode": "markers",
           "type": "scatter",
           "x": [
            36
           ],
           "y": [
            32
           ]
          },
          {
           "line": {
            "color": "red",
            "width": 2
           },
           "mode": "lines",
           "name": "Austin Blythe motion path",
           "type": "scatter",
           "x": [],
           "y": []
          },
          {
           "marker": {
            "color": "#ffffff",
            "line": {
             "color": "#000000",
             "width": 2
            },
            "opacity": 1,
            "size": 10
           },
           "mode": "markers",
           "type": "scatter",
           "x": [
            26
           ],
           "y": [
            -675
           ]
          },
          {
           "line": {
            "color": "red",
            "width": 2
           },
           "mode": "lines",
           "name": "Rashaad Penny motion path",
           "type": "scatter",
           "x": [],
           "y": []
          },
          {
           "marker": {
            "color": "#ff0000",
            "line": {
             "color": "#000000",
             "width": 2
            },
            "opacity": 1,
            "size": 10
           },
           "mode": "markers",
           "type": "scatter",
           "x": [
            570
           ],
           "y": [
            -77
           ]
          },
          {
           "hoverinfo": "none",
           "marker": {
            "color": "rgba(255, 0, 0, 0.5)",
            "line": {
             "color": "red",
             "width": 2
            },
            "size": 20
           },
           "mode": "markers",
           "name": "Will Dissly in motion",
           "type": "scatter",
           "x": [
            570
           ],
           "y": [
            -77
           ]
          },
          {
           "line": {
            "color": "red",
            "width": 2
           },
           "mode": "lines",
           "name": "Will Dissly motion path",
           "type": "scatter",
           "x": [
            -238,
            -230,
            -220,
            -206,
            -190,
            -170,
            -147,
            -120,
            -89,
            -56,
            -19,
            20,
            60,
            100,
            141,
            181,
            221,
            259,
            296,
            330,
            362,
            392,
            419,
            444,
            468,
            488,
            504,
            518,
            528,
            536,
            543,
            546,
            570
           ],
           "y": [
            -464,
            -460,
            -456,
            -450,
            -442,
            -432,
            -421,
            -409,
            -392,
            -378,
            -360,
            -343,
            -326,
            -308,
            -292,
            -276,
            -261,
            -247,
            -233,
            -219,
            -207,
            -196,
            -185,
            -176,
            -168,
            -161,
            -156,
            -153,
            -149,
            -147,
            -146,
            -146,
            -77
           ]
          },
          {
           "marker": {
            "color": "#ff0000",
            "line": {
             "color": "#000000",
             "width": 2
            },
            "opacity": 1,
            "size": 10
           },
           "mode": "markers",
           "type": "scatter",
           "x": [
            -195
           ],
           "y": [
            -187
           ]
          },
          {
           "hoverinfo": "none",
           "marker": {
            "color": "rgba(255, 0, 0, 0.5)",
            "line": {
             "color": "red",
             "width": 2
            },
            "size": 20
           },
           "mode": "markers",
           "name": "Noah Fant in motion",
           "type": "scatter",
           "x": [
            -195
           ],
           "y": [
            -187
           ]
          },
          {
           "line": {
            "color": "red",
            "width": 2
           },
           "mode": "lines",
           "name": "Noah Fant motion path",
           "type": "scatter",
           "x": [
            -443,
            -438,
            -430,
            -418,
            -403,
            -384,
            -360,
            -331,
            -296,
            -255,
            -195
           ],
           "y": [
            -196,
            -196,
            -196,
            -199,
            -203,
            -210,
            -215,
            -224,
            -232,
            -241,
            -187
           ]
          },
          {
           "marker": {
            "color": "#ffffff",
            "line": {
             "color": "#000000",
             "width": 2
            },
            "opacity": 1,
            "size": 10
           },
           "mode": "markers",
           "type": "scatter",
           "x": [
            -923
           ],
           "y": [
            -24
           ]
          },
          {
           "line": {
            "color": "red",
            "width": 2
           },
           "mode": "lines",
           "name": "DK Metcalf motion path",
           "type": "scatter",
           "x": [],
           "y": []
          },
          {
           "marker": {
            "color": "#ffffff",
            "line": {
             "color": "#000000",
             "width": 2
            },
            "opacity": 1,
            "size": 10
           },
           "mode": "markers",
           "type": "scatter",
           "x": [
            -116
           ],
           "y": [
            -27
           ]
          },
          {
           "line": {
            "color": "red",
            "width": 2
           },
           "mode": "lines",
           "name": "Phil Haynes motion path",
           "type": "scatter",
           "x": [],
           "y": []
          },
          {
           "marker": {
            "color": "#ffffff",
            "line": {
             "color": "#000000",
             "width": 2
            },
            "opacity": 1,
            "size": 10
           },
           "mode": "markers",
           "type": "scatter",
           "x": [
            -257
           ],
           "y": [
            -48
           ]
          },
          {
           "line": {
            "color": "red",
            "width": 2
           },
           "mode": "lines",
           "name": "Charles Cross motion path",
           "type": "scatter",
           "x": [],
           "y": []
          },
          {
           "marker": {
            "color": "#ffffff",
            "line": {
             "color": "#000000",
             "width": 2
            },
            "opacity": 1,
            "size": 10
           },
           "mode": "markers",
           "type": "scatter",
           "x": [
            342
           ],
           "y": [
            -39
           ]
          },
          {
           "line": {
            "color": "red",
            "width": 2
           },
           "mode": "lines",
           "name": "Abraham Lucas motion path",
           "type": "scatter",
           "x": [],
           "y": []
          }
         ],
         "name": "113"
        },
        {
         "data": [
          {
           "marker": {
            "color": "#ffffff",
            "line": {
             "color": "#000000",
             "width": 2
            },
            "opacity": 1,
            "size": 10
           },
           "mode": "markers",
           "type": "scatter",
           "x": [
            25
           ],
           "y": [
            -58
           ]
          },
          {
           "line": {
            "color": "red",
            "width": 2
           },
           "mode": "lines",
           "name": "Geno Smith motion path",
           "type": "scatter",
           "x": [],
           "y": []
          },
          {
           "marker": {
            "color": "#ffffff",
            "line": {
             "color": "#000000",
             "width": 2
            },
            "opacity": 1,
            "size": 10
           },
           "mode": "markers",
           "type": "scatter",
           "x": [
            190
           ],
           "y": [
            0
           ]
          },
          {
           "line": {
            "color": "red",
            "width": 2
           },
           "mode": "lines",
           "name": "Gabe Jackson motion path",
           "type": "scatter",
           "x": [],
           "y": []
          },
          {
           "marker": {
            "color": "#ffffff",
            "line": {
             "color": "#000000",
             "width": 2
            },
            "opacity": 1,
            "size": 10
           },
           "mode": "markers",
           "type": "scatter",
           "x": [
            972
           ],
           "y": [
            88
           ]
          },
          {
           "line": {
            "color": "red",
            "width": 2
           },
           "mode": "lines",
           "name": "Tyler Lockett motion path",
           "type": "scatter",
           "x": [],
           "y": []
          },
          {
           "marker": {
            "color": "#ffffff",
            "line": {
             "color": "#000000",
             "width": 2
            },
            "opacity": 1,
            "size": 10
           },
           "mode": "markers",
           "type": "scatter",
           "x": [
            45
           ],
           "y": [
            65
           ]
          },
          {
           "line": {
            "color": "red",
            "width": 2
           },
           "mode": "lines",
           "name": "Austin Blythe motion path",
           "type": "scatter",
           "x": [],
           "y": []
          },
          {
           "marker": {
            "color": "#ffffff",
            "line": {
             "color": "#000000",
             "width": 2
            },
            "opacity": 1,
            "size": 10
           },
           "mode": "markers",
           "type": "scatter",
           "x": [
            29
           ],
           "y": [
            -637
           ]
          },
          {
           "line": {
            "color": "red",
            "width": 2
           },
           "mode": "lines",
           "name": "Rashaad Penny motion path",
           "type": "scatter",
           "x": [],
           "y": []
          },
          {
           "marker": {
            "color": "#ff0000",
            "line": {
             "color": "#000000",
             "width": 2
            },
            "opacity": 1,
            "size": 10
           },
           "mode": "markers",
           "type": "scatter",
           "x": [
            572
           ],
           "y": [
            -37
           ]
          },
          {
           "hoverinfo": "none",
           "marker": {
            "color": "rgba(255, 0, 0, 0.5)",
            "line": {
             "color": "red",
             "width": 2
            },
            "size": 20
           },
           "mode": "markers",
           "name": "Will Dissly in motion",
           "type": "scatter",
           "x": [
            572
           ],
           "y": [
            -37
           ]
          },
          {
           "line": {
            "color": "red",
            "width": 2
           },
           "mode": "lines",
           "name": "Will Dissly motion path",
           "type": "scatter",
           "x": [
            -238,
            -230,
            -220,
            -206,
            -190,
            -170,
            -147,
            -120,
            -89,
            -56,
            -19,
            20,
            60,
            100,
            141,
            181,
            221,
            259,
            296,
            330,
            362,
            392,
            419,
            444,
            468,
            488,
            504,
            518,
            528,
            536,
            543,
            546,
            570,
            572
           ],
           "y": [
            -464,
            -460,
            -456,
            -450,
            -442,
            -432,
            -421,
            -409,
            -392,
            -378,
            -360,
            -343,
            -326,
            -308,
            -292,
            -276,
            -261,
            -247,
            -233,
            -219,
            -207,
            -196,
            -185,
            -176,
            -168,
            -161,
            -156,
            -153,
            -149,
            -147,
            -146,
            -146,
            -77,
            -37
           ]
          },
          {
           "marker": {
            "color": "#ff0000",
            "line": {
             "color": "#000000",
             "width": 2
            },
            "opacity": 1,
            "size": 10
           },
           "mode": "markers",
           "type": "scatter",
           "x": [
            -148
           ],
           "y": [
            -159
           ]
          },
          {
           "hoverinfo": "none",
           "marker": {
            "color": "rgba(255, 0, 0, 0.5)",
            "line": {
             "color": "red",
             "width": 2
            },
            "size": 20
           },
           "mode": "markers",
           "name": "Noah Fant in motion",
           "type": "scatter",
           "x": [
            -148
           ],
           "y": [
            -159
           ]
          },
          {
           "line": {
            "color": "red",
            "width": 2
           },
           "mode": "lines",
           "name": "Noah Fant motion path",
           "type": "scatter",
           "x": [
            -443,
            -438,
            -430,
            -418,
            -403,
            -384,
            -360,
            -331,
            -296,
            -255,
            -195,
            -148
           ],
           "y": [
            -196,
            -196,
            -196,
            -199,
            -203,
            -210,
            -215,
            -224,
            -232,
            -241,
            -187,
            -159
           ]
          },
          {
           "marker": {
            "color": "#ffffff",
            "line": {
             "color": "#000000",
             "width": 2
            },
            "opacity": 1,
            "size": 10
           },
           "mode": "markers",
           "type": "scatter",
           "x": [
            -925
           ],
           "y": [
            18
           ]
          },
          {
           "line": {
            "color": "red",
            "width": 2
           },
           "mode": "lines",
           "name": "DK Metcalf motion path",
           "type": "scatter",
           "x": [],
           "y": []
          },
          {
           "marker": {
            "color": "#ffffff",
            "line": {
             "color": "#000000",
             "width": 2
            },
            "opacity": 1,
            "size": 10
           },
           "mode": "markers",
           "type": "scatter",
           "x": [
            -108
           ],
           "y": [
            13
           ]
          },
          {
           "line": {
            "color": "red",
            "width": 2
           },
           "mode": "lines",
           "name": "Phil Haynes motion path",
           "type": "scatter",
           "x": [],
           "y": []
          },
          {
           "marker": {
            "color": "#ffffff",
            "line": {
             "color": "#000000",
             "width": 2
            },
            "opacity": 1,
            "size": 10
           },
           "mode": "markers",
           "type": "scatter",
           "x": [
            -249
           ],
           "y": [
            -5
           ]
          },
          {
           "line": {
            "color": "red",
            "width": 2
           },
           "mode": "lines",
           "name": "Charles Cross motion path",
           "type": "scatter",
           "x": [],
           "y": []
          },
          {
           "marker": {
            "color": "#ffffff",
            "line": {
             "color": "#000000",
             "width": 2
            },
            "opacity": 1,
            "size": 10
           },
           "mode": "markers",
           "type": "scatter",
           "x": [
            347
           ],
           "y": [
            -5
           ]
          },
          {
           "line": {
            "color": "red",
            "width": 2
           },
           "mode": "lines",
           "name": "Abraham Lucas motion path",
           "type": "scatter",
           "x": [],
           "y": []
          }
         ],
         "name": "114"
        }
       ],
       "layout": {
        "autosize": false,
        "height": 400,
        "plot_bgcolor": "lightgreen",
        "showlegend": false,
        "sliders": [
         {
          "active": 52,
          "currentvalue": {
           "font": {
            "size": 20
           },
           "prefix": "Frame:",
           "visible": true,
           "xanchor": "right"
          },
          "len": 0.9,
          "pad": {
           "b": 10,
           "t": 50
          },
          "steps": [
           {
            "args": [
             [
              43
             ],
             {
              "frame": {
               "duration": 100,
               "redraw": false
              },
              "mode": "immediate",
              "transition": {
               "duration": 0
              }
             }
            ],
            "label": "43",
            "method": "animate"
           },
           {
            "args": [
             [
              44
             ],
             {
              "frame": {
               "duration": 100,
               "redraw": false
              },
              "mode": "immediate",
              "transition": {
               "duration": 0
              }
             }
            ],
            "label": "44",
            "method": "animate"
           },
           {
            "args": [
             [
              45
             ],
             {
              "frame": {
               "duration": 100,
               "redraw": false
              },
              "mode": "immediate",
              "transition": {
               "duration": 0
              }
             }
            ],
            "label": "45",
            "method": "animate"
           },
           {
            "args": [
             [
              46
             ],
             {
              "frame": {
               "duration": 100,
               "redraw": false
              },
              "mode": "immediate",
              "transition": {
               "duration": 0
              }
             }
            ],
            "label": "46",
            "method": "animate"
           },
           {
            "args": [
             [
              47
             ],
             {
              "frame": {
               "duration": 100,
               "redraw": false
              },
              "mode": "immediate",
              "transition": {
               "duration": 0
              }
             }
            ],
            "label": "47",
            "method": "animate"
           },
           {
            "args": [
             [
              48
             ],
             {
              "frame": {
               "duration": 100,
               "redraw": false
              },
              "mode": "immediate",
              "transition": {
               "duration": 0
              }
             }
            ],
            "label": "48",
            "method": "animate"
           },
           {
            "args": [
             [
              49
             ],
             {
              "frame": {
               "duration": 100,
               "redraw": false
              },
              "mode": "immediate",
              "transition": {
               "duration": 0
              }
             }
            ],
            "label": "49",
            "method": "animate"
           },
           {
            "args": [
             [
              50
             ],
             {
              "frame": {
               "duration": 100,
               "redraw": false
              },
              "mode": "immediate",
              "transition": {
               "duration": 0
              }
             }
            ],
            "label": "50",
            "method": "animate"
           },
           {
            "args": [
             [
              51
             ],
             {
              "frame": {
               "duration": 100,
               "redraw": false
              },
              "mode": "immediate",
              "transition": {
               "duration": 0
              }
             }
            ],
            "label": "51",
            "method": "animate"
           },
           {
            "args": [
             [
              52
             ],
             {
              "frame": {
               "duration": 100,
               "redraw": false
              },
              "mode": "immediate",
              "transition": {
               "duration": 0
              }
             }
            ],
            "label": "52",
            "method": "animate"
           },
           {
            "args": [
             [
              53
             ],
             {
              "frame": {
               "duration": 100,
               "redraw": false
              },
              "mode": "immediate",
              "transition": {
               "duration": 0
              }
             }
            ],
            "label": "53",
            "method": "animate"
           },
           {
            "args": [
             [
              54
             ],
             {
              "frame": {
               "duration": 100,
               "redraw": false
              },
              "mode": "immediate",
              "transition": {
               "duration": 0
              }
             }
            ],
            "label": "54",
            "method": "animate"
           },
           {
            "args": [
             [
              55
             ],
             {
              "frame": {
               "duration": 100,
               "redraw": false
              },
              "mode": "immediate",
              "transition": {
               "duration": 0
              }
             }
            ],
            "label": "55",
            "method": "animate"
           },
           {
            "args": [
             [
              56
             ],
             {
              "frame": {
               "duration": 100,
               "redraw": false
              },
              "mode": "immediate",
              "transition": {
               "duration": 0
              }
             }
            ],
            "label": "56",
            "method": "animate"
           },
           {
            "args": [
             [
              57
             ],
             {
              "frame": {
               "duration": 100,
               "redraw": false
              },
              "mode": "immediate",
              "transition": {
               "duration": 0
              }
             }
            ],
            "label": "57",
            "method": "animate"
           },
           {
            "args": [
             [
              58
             ],
             {
              "frame": {
               "duration": 100,
               "redraw": false
              },
              "mode": "immediate",
              "transition": {
               "duration": 0
              }
             }
            ],
            "label": "58",
            "method": "animate"
           },
           {
            "args": [
             [
              59
             ],
             {
              "frame": {
               "duration": 100,
               "redraw": false
              },
              "mode": "immediate",
              "transition": {
               "duration": 0
              }
             }
            ],
            "label": "59",
            "method": "animate"
           },
           {
            "args": [
             [
              60
             ],
             {
              "frame": {
               "duration": 100,
               "redraw": false
              },
              "mode": "immediate",
              "transition": {
               "duration": 0
              }
             }
            ],
            "label": "60",
            "method": "animate"
           },
           {
            "args": [
             [
              61
             ],
             {
              "frame": {
               "duration": 100,
               "redraw": false
              },
              "mode": "immediate",
              "transition": {
               "duration": 0
              }
             }
            ],
            "label": "61",
            "method": "animate"
           },
           {
            "args": [
             [
              62
             ],
             {
              "frame": {
               "duration": 100,
               "redraw": false
              },
              "mode": "immediate",
              "transition": {
               "duration": 0
              }
             }
            ],
            "label": "62",
            "method": "animate"
           },
           {
            "args": [
             [
              63
             ],
             {
              "frame": {
               "duration": 100,
               "redraw": false
              },
              "mode": "immediate",
              "transition": {
               "duration": 0
              }
             }
            ],
            "label": "63",
            "method": "animate"
           },
           {
            "args": [
             [
              64
             ],
             {
              "frame": {
               "duration": 100,
               "redraw": false
              },
              "mode": "immediate",
              "transition": {
               "duration": 0
              }
             }
            ],
            "label": "64",
            "method": "animate"
           },
           {
            "args": [
             [
              65
             ],
             {
              "frame": {
               "duration": 100,
               "redraw": false
              },
              "mode": "immediate",
              "transition": {
               "duration": 0
              }
             }
            ],
            "label": "65",
            "method": "animate"
           },
           {
            "args": [
             [
              66
             ],
             {
              "frame": {
               "duration": 100,
               "redraw": false
              },
              "mode": "immediate",
              "transition": {
               "duration": 0
              }
             }
            ],
            "label": "66",
            "method": "animate"
           },
           {
            "args": [
             [
              67
             ],
             {
              "frame": {
               "duration": 100,
               "redraw": false
              },
              "mode": "immediate",
              "transition": {
               "duration": 0
              }
             }
            ],
            "label": "67",
            "method": "animate"
           },
           {
            "args": [
             [
              68
             ],
             {
              "frame": {
               "duration": 100,
               "redraw": false
              },
              "mode": "immediate",
              "transition": {
               "duration": 0
              }
             }
            ],
            "label": "68",
            "method": "animate"
           },
           {
            "args": [
             [
              69
             ],
             {
              "frame": {
               "duration": 100,
               "redraw": false
              },
              "mode": "immediate",
              "transition": {
               "duration": 0
              }
             }
            ],
            "label": "69",
            "method": "animate"
           },
           {
            "args": [
             [
              70
             ],
             {
              "frame": {
               "duration": 100,
               "redraw": false
              },
              "mode": "immediate",
              "transition": {
               "duration": 0
              }
             }
            ],
            "label": "70",
            "method": "animate"
           },
           {
            "args": [
             [
              71
             ],
             {
              "frame": {
               "duration": 100,
               "redraw": false
              },
              "mode": "immediate",
              "transition": {
               "duration": 0
              }
             }
            ],
            "label": "71",
            "method": "animate"
           },
           {
            "args": [
             [
              72
             ],
             {
              "frame": {
               "duration": 100,
               "redraw": false
              },
              "mode": "immediate",
              "transition": {
               "duration": 0
              }
             }
            ],
            "label": "72",
            "method": "animate"
           },
           {
            "args": [
             [
              73
             ],
             {
              "frame": {
               "duration": 100,
               "redraw": false
              },
              "mode": "immediate",
              "transition": {
               "duration": 0
              }
             }
            ],
            "label": "73",
            "method": "animate"
           },
           {
            "args": [
             [
              74
             ],
             {
              "frame": {
               "duration": 100,
               "redraw": false
              },
              "mode": "immediate",
              "transition": {
               "duration": 0
              }
             }
            ],
            "label": "74",
            "method": "animate"
           },
           {
            "args": [
             [
              75
             ],
             {
              "frame": {
               "duration": 100,
               "redraw": false
              },
              "mode": "immediate",
              "transition": {
               "duration": 0
              }
             }
            ],
            "label": "75",
            "method": "animate"
           },
           {
            "args": [
             [
              76
             ],
             {
              "frame": {
               "duration": 100,
               "redraw": false
              },
              "mode": "immediate",
              "transition": {
               "duration": 0
              }
             }
            ],
            "label": "76",
            "method": "animate"
           },
           {
            "args": [
             [
              77
             ],
             {
              "frame": {
               "duration": 100,
               "redraw": false
              },
              "mode": "immediate",
              "transition": {
               "duration": 0
              }
             }
            ],
            "label": "77",
            "method": "animate"
           },
           {
            "args": [
             [
              78
             ],
             {
              "frame": {
               "duration": 100,
               "redraw": false
              },
              "mode": "immediate",
              "transition": {
               "duration": 0
              }
             }
            ],
            "label": "78",
            "method": "animate"
           },
           {
            "args": [
             [
              79
             ],
             {
              "frame": {
               "duration": 100,
               "redraw": false
              },
              "mode": "immediate",
              "transition": {
               "duration": 0
              }
             }
            ],
            "label": "79",
            "method": "animate"
           },
           {
            "args": [
             [
              80
             ],
             {
              "frame": {
               "duration": 100,
               "redraw": false
              },
              "mode": "immediate",
              "transition": {
               "duration": 0
              }
             }
            ],
            "label": "80",
            "method": "animate"
           },
           {
            "args": [
             [
              81
             ],
             {
              "frame": {
               "duration": 100,
               "redraw": false
              },
              "mode": "immediate",
              "transition": {
               "duration": 0
              }
             }
            ],
            "label": "81",
            "method": "animate"
           },
           {
            "args": [
             [
              82
             ],
             {
              "frame": {
               "duration": 100,
               "redraw": false
              },
              "mode": "immediate",
              "transition": {
               "duration": 0
              }
             }
            ],
            "label": "82",
            "method": "animate"
           },
           {
            "args": [
             [
              83
             ],
             {
              "frame": {
               "duration": 100,
               "redraw": false
              },
              "mode": "immediate",
              "transition": {
               "duration": 0
              }
             }
            ],
            "label": "83",
            "method": "animate"
           },
           {
            "args": [
             [
              84
             ],
             {
              "frame": {
               "duration": 100,
               "redraw": false
              },
              "mode": "immediate",
              "transition": {
               "duration": 0
              }
             }
            ],
            "label": "84",
            "method": "animate"
           },
           {
            "args": [
             [
              85
             ],
             {
              "frame": {
               "duration": 100,
               "redraw": false
              },
              "mode": "immediate",
              "transition": {
               "duration": 0
              }
             }
            ],
            "label": "85",
            "method": "animate"
           },
           {
            "args": [
             [
              86
             ],
             {
              "frame": {
               "duration": 100,
               "redraw": false
              },
              "mode": "immediate",
              "transition": {
               "duration": 0
              }
             }
            ],
            "label": "86",
            "method": "animate"
           },
           {
            "args": [
             [
              87
             ],
             {
              "frame": {
               "duration": 100,
               "redraw": false
              },
              "mode": "immediate",
              "transition": {
               "duration": 0
              }
             }
            ],
            "label": "87",
            "method": "animate"
           },
           {
            "args": [
             [
              88
             ],
             {
              "frame": {
               "duration": 100,
               "redraw": false
              },
              "mode": "immediate",
              "transition": {
               "duration": 0
              }
             }
            ],
            "label": "88",
            "method": "animate"
           },
           {
            "args": [
             [
              89
             ],
             {
              "frame": {
               "duration": 100,
               "redraw": false
              },
              "mode": "immediate",
              "transition": {
               "duration": 0
              }
             }
            ],
            "label": "89",
            "method": "animate"
           },
           {
            "args": [
             [
              90
             ],
             {
              "frame": {
               "duration": 100,
               "redraw": false
              },
              "mode": "immediate",
              "transition": {
               "duration": 0
              }
             }
            ],
            "label": "90",
            "method": "animate"
           },
           {
            "args": [
             [
              91
             ],
             {
              "frame": {
               "duration": 100,
               "redraw": false
              },
              "mode": "immediate",
              "transition": {
               "duration": 0
              }
             }
            ],
            "label": "91",
            "method": "animate"
           },
           {
            "args": [
             [
              92
             ],
             {
              "frame": {
               "duration": 100,
               "redraw": false
              },
              "mode": "immediate",
              "transition": {
               "duration": 0
              }
             }
            ],
            "label": "92",
            "method": "animate"
           },
           {
            "args": [
             [
              93
             ],
             {
              "frame": {
               "duration": 100,
               "redraw": false
              },
              "mode": "immediate",
              "transition": {
               "duration": 0
              }
             }
            ],
            "label": "93",
            "method": "animate"
           },
           {
            "args": [
             [
              94
             ],
             {
              "frame": {
               "duration": 100,
               "redraw": false
              },
              "mode": "immediate",
              "transition": {
               "duration": 0
              }
             }
            ],
            "label": "94",
            "method": "animate"
           },
           {
            "args": [
             [
              95
             ],
             {
              "frame": {
               "duration": 100,
               "redraw": false
              },
              "mode": "immediate",
              "transition": {
               "duration": 0
              }
             }
            ],
            "label": "95",
            "method": "animate"
           },
           {
            "args": [
             [
              96
             ],
             {
              "frame": {
               "duration": 100,
               "redraw": false
              },
              "mode": "immediate",
              "transition": {
               "duration": 0
              }
             }
            ],
            "label": "96",
            "method": "animate"
           },
           {
            "args": [
             [
              97
             ],
             {
              "frame": {
               "duration": 100,
               "redraw": false
              },
              "mode": "immediate",
              "transition": {
               "duration": 0
              }
             }
            ],
            "label": "97",
            "method": "animate"
           },
           {
            "args": [
             [
              98
             ],
             {
              "frame": {
               "duration": 100,
               "redraw": false
              },
              "mode": "immediate",
              "transition": {
               "duration": 0
              }
             }
            ],
            "label": "98",
            "method": "animate"
           },
           {
            "args": [
             [
              99
             ],
             {
              "frame": {
               "duration": 100,
               "redraw": false
              },
              "mode": "immediate",
              "transition": {
               "duration": 0
              }
             }
            ],
            "label": "99",
            "method": "animate"
           },
           {
            "args": [
             [
              100
             ],
             {
              "frame": {
               "duration": 100,
               "redraw": false
              },
              "mode": "immediate",
              "transition": {
               "duration": 0
              }
             }
            ],
            "label": "100",
            "method": "animate"
           },
           {
            "args": [
             [
              101
             ],
             {
              "frame": {
               "duration": 100,
               "redraw": false
              },
              "mode": "immediate",
              "transition": {
               "duration": 0
              }
             }
            ],
            "label": "101",
            "method": "animate"
           },
           {
            "args": [
             [
              102
             ],
             {
              "frame": {
               "duration": 100,
               "redraw": false
              },
              "mode": "immediate",
              "transition": {
               "duration": 0
              }
             }
            ],
            "label": "102",
            "method": "animate"
           },
           {
            "args": [
             [
              103
             ],
             {
              "frame": {
               "duration": 100,
               "redraw": false
              },
              "mode": "immediate",
              "transition": {
               "duration": 0
              }
             }
            ],
            "label": "103",
            "method": "animate"
           },
           {
            "args": [
             [
              104
             ],
             {
              "frame": {
               "duration": 100,
               "redraw": false
              },
              "mode": "immediate",
              "transition": {
               "duration": 0
              }
             }
            ],
            "label": "104",
            "method": "animate"
           },
           {
            "args": [
             [
              105
             ],
             {
              "frame": {
               "duration": 100,
               "redraw": false
              },
              "mode": "immediate",
              "transition": {
               "duration": 0
              }
             }
            ],
            "label": "105",
            "method": "animate"
           },
           {
            "args": [
             [
              106
             ],
             {
              "frame": {
               "duration": 100,
               "redraw": false
              },
              "mode": "immediate",
              "transition": {
               "duration": 0
              }
             }
            ],
            "label": "106",
            "method": "animate"
           },
           {
            "args": [
             [
              107
             ],
             {
              "frame": {
               "duration": 100,
               "redraw": false
              },
              "mode": "immediate",
              "transition": {
               "duration": 0
              }
             }
            ],
            "label": "107",
            "method": "animate"
           },
           {
            "args": [
             [
              108
             ],
             {
              "frame": {
               "duration": 100,
               "redraw": false
              },
              "mode": "immediate",
              "transition": {
               "duration": 0
              }
             }
            ],
            "label": "108",
            "method": "animate"
           },
           {
            "args": [
             [
              109
             ],
             {
              "frame": {
               "duration": 100,
               "redraw": false
              },
              "mode": "immediate",
              "transition": {
               "duration": 0
              }
             }
            ],
            "label": "109",
            "method": "animate"
           },
           {
            "args": [
             [
              110
             ],
             {
              "frame": {
               "duration": 100,
               "redraw": false
              },
              "mode": "immediate",
              "transition": {
               "duration": 0
              }
             }
            ],
            "label": "110",
            "method": "animate"
           },
           {
            "args": [
             [
              111
             ],
             {
              "frame": {
               "duration": 100,
               "redraw": false
              },
              "mode": "immediate",
              "transition": {
               "duration": 0
              }
             }
            ],
            "label": "111",
            "method": "animate"
           },
           {
            "args": [
             [
              112
             ],
             {
              "frame": {
               "duration": 100,
               "redraw": false
              },
              "mode": "immediate",
              "transition": {
               "duration": 0
              }
             }
            ],
            "label": "112",
            "method": "animate"
           },
           {
            "args": [
             [
              113
             ],
             {
              "frame": {
               "duration": 100,
               "redraw": false
              },
              "mode": "immediate",
              "transition": {
               "duration": 0
              }
             }
            ],
            "label": "113",
            "method": "animate"
           },
           {
            "args": [
             [
              114
             ],
             {
              "frame": {
               "duration": 100,
               "redraw": false
              },
              "mode": "immediate",
              "transition": {
               "duration": 0
              }
             }
            ],
            "label": "114",
            "method": "animate"
           }
          ],
          "transition": {
           "duration": 300,
           "easing": "cubic-in-out"
          },
          "x": 0.1,
          "xanchor": "left",
          "y": 0,
          "yanchor": "top"
         }
        ],
        "template": {
         "data": {
          "bar": [
           {
            "error_x": {
             "color": "#2a3f5f"
            },
            "error_y": {
             "color": "#2a3f5f"
            },
            "marker": {
             "line": {
              "color": "#E5ECF6",
              "width": 0.5
             },
             "pattern": {
              "fillmode": "overlay",
              "size": 10,
              "solidity": 0.2
             }
            },
            "type": "bar"
           }
          ],
          "barpolar": [
           {
            "marker": {
             "line": {
              "color": "#E5ECF6",
              "width": 0.5
             },
             "pattern": {
              "fillmode": "overlay",
              "size": 10,
              "solidity": 0.2
             }
            },
            "type": "barpolar"
           }
          ],
          "carpet": [
           {
            "aaxis": {
             "endlinecolor": "#2a3f5f",
             "gridcolor": "white",
             "linecolor": "white",
             "minorgridcolor": "white",
             "startlinecolor": "#2a3f5f"
            },
            "baxis": {
             "endlinecolor": "#2a3f5f",
             "gridcolor": "white",
             "linecolor": "white",
             "minorgridcolor": "white",
             "startlinecolor": "#2a3f5f"
            },
            "type": "carpet"
           }
          ],
          "choropleth": [
           {
            "colorbar": {
             "outlinewidth": 0,
             "ticks": ""
            },
            "type": "choropleth"
           }
          ],
          "contour": [
           {
            "colorbar": {
             "outlinewidth": 0,
             "ticks": ""
            },
            "colorscale": [
             [
              0,
              "#0d0887"
             ],
             [
              0.1111111111111111,
              "#46039f"
             ],
             [
              0.2222222222222222,
              "#7201a8"
             ],
             [
              0.3333333333333333,
              "#9c179e"
             ],
             [
              0.4444444444444444,
              "#bd3786"
             ],
             [
              0.5555555555555556,
              "#d8576b"
             ],
             [
              0.6666666666666666,
              "#ed7953"
             ],
             [
              0.7777777777777778,
              "#fb9f3a"
             ],
             [
              0.8888888888888888,
              "#fdca26"
             ],
             [
              1,
              "#f0f921"
             ]
            ],
            "type": "contour"
           }
          ],
          "contourcarpet": [
           {
            "colorbar": {
             "outlinewidth": 0,
             "ticks": ""
            },
            "type": "contourcarpet"
           }
          ],
          "heatmap": [
           {
            "colorbar": {
             "outlinewidth": 0,
             "ticks": ""
            },
            "colorscale": [
             [
              0,
              "#0d0887"
             ],
             [
              0.1111111111111111,
              "#46039f"
             ],
             [
              0.2222222222222222,
              "#7201a8"
             ],
             [
              0.3333333333333333,
              "#9c179e"
             ],
             [
              0.4444444444444444,
              "#bd3786"
             ],
             [
              0.5555555555555556,
              "#d8576b"
             ],
             [
              0.6666666666666666,
              "#ed7953"
             ],
             [
              0.7777777777777778,
              "#fb9f3a"
             ],
             [
              0.8888888888888888,
              "#fdca26"
             ],
             [
              1,
              "#f0f921"
             ]
            ],
            "type": "heatmap"
           }
          ],
          "heatmapgl": [
           {
            "colorbar": {
             "outlinewidth": 0,
             "ticks": ""
            },
            "colorscale": [
             [
              0,
              "#0d0887"
             ],
             [
              0.1111111111111111,
              "#46039f"
             ],
             [
              0.2222222222222222,
              "#7201a8"
             ],
             [
              0.3333333333333333,
              "#9c179e"
             ],
             [
              0.4444444444444444,
              "#bd3786"
             ],
             [
              0.5555555555555556,
              "#d8576b"
             ],
             [
              0.6666666666666666,
              "#ed7953"
             ],
             [
              0.7777777777777778,
              "#fb9f3a"
             ],
             [
              0.8888888888888888,
              "#fdca26"
             ],
             [
              1,
              "#f0f921"
             ]
            ],
            "type": "heatmapgl"
           }
          ],
          "histogram": [
           {
            "marker": {
             "pattern": {
              "fillmode": "overlay",
              "size": 10,
              "solidity": 0.2
             }
            },
            "type": "histogram"
           }
          ],
          "histogram2d": [
           {
            "colorbar": {
             "outlinewidth": 0,
             "ticks": ""
            },
            "colorscale": [
             [
              0,
              "#0d0887"
             ],
             [
              0.1111111111111111,
              "#46039f"
             ],
             [
              0.2222222222222222,
              "#7201a8"
             ],
             [
              0.3333333333333333,
              "#9c179e"
             ],
             [
              0.4444444444444444,
              "#bd3786"
             ],
             [
              0.5555555555555556,
              "#d8576b"
             ],
             [
              0.6666666666666666,
              "#ed7953"
             ],
             [
              0.7777777777777778,
              "#fb9f3a"
             ],
             [
              0.8888888888888888,
              "#fdca26"
             ],
             [
              1,
              "#f0f921"
             ]
            ],
            "type": "histogram2d"
           }
          ],
          "histogram2dcontour": [
           {
            "colorbar": {
             "outlinewidth": 0,
             "ticks": ""
            },
            "colorscale": [
             [
              0,
              "#0d0887"
             ],
             [
              0.1111111111111111,
              "#46039f"
             ],
             [
              0.2222222222222222,
              "#7201a8"
             ],
             [
              0.3333333333333333,
              "#9c179e"
             ],
             [
              0.4444444444444444,
              "#bd3786"
             ],
             [
              0.5555555555555556,
              "#d8576b"
             ],
             [
              0.6666666666666666,
              "#ed7953"
             ],
             [
              0.7777777777777778,
              "#fb9f3a"
             ],
             [
              0.8888888888888888,
              "#fdca26"
             ],
             [
              1,
              "#f0f921"
             ]
            ],
            "type": "histogram2dcontour"
           }
          ],
          "mesh3d": [
           {
            "colorbar": {
             "outlinewidth": 0,
             "ticks": ""
            },
            "type": "mesh3d"
           }
          ],
          "parcoords": [
           {
            "line": {
             "colorbar": {
              "outlinewidth": 0,
              "ticks": ""
             }
            },
            "type": "parcoords"
           }
          ],
          "pie": [
           {
            "automargin": true,
            "type": "pie"
           }
          ],
          "scatter": [
           {
            "fillpattern": {
             "fillmode": "overlay",
             "size": 10,
             "solidity": 0.2
            },
            "type": "scatter"
           }
          ],
          "scatter3d": [
           {
            "line": {
             "colorbar": {
              "outlinewidth": 0,
              "ticks": ""
             }
            },
            "marker": {
             "colorbar": {
              "outlinewidth": 0,
              "ticks": ""
             }
            },
            "type": "scatter3d"
           }
          ],
          "scattercarpet": [
           {
            "marker": {
             "colorbar": {
              "outlinewidth": 0,
              "ticks": ""
             }
            },
            "type": "scattercarpet"
           }
          ],
          "scattergeo": [
           {
            "marker": {
             "colorbar": {
              "outlinewidth": 0,
              "ticks": ""
             }
            },
            "type": "scattergeo"
           }
          ],
          "scattergl": [
           {
            "marker": {
             "colorbar": {
              "outlinewidth": 0,
              "ticks": ""
             }
            },
            "type": "scattergl"
           }
          ],
          "scattermapbox": [
           {
            "marker": {
             "colorbar": {
              "outlinewidth": 0,
              "ticks": ""
             }
            },
            "type": "scattermapbox"
           }
          ],
          "scatterpolar": [
           {
            "marker": {
             "colorbar": {
              "outlinewidth": 0,
              "ticks": ""
             }
            },
            "type": "scatterpolar"
           }
          ],
          "scatterpolargl": [
           {
            "marker": {
             "colorbar": {
              "outlinewidth": 0,
              "ticks": ""
             }
            },
            "type": "scatterpolargl"
           }
          ],
          "scatterternary": [
           {
            "marker": {
             "colorbar": {
              "outlinewidth": 0,
              "ticks": ""
             }
            },
            "type": "scatterternary"
           }
          ],
          "surface": [
           {
            "colorbar": {
             "outlinewidth": 0,
             "ticks": ""
            },
            "colorscale": [
             [
              0,
              "#0d0887"
             ],
             [
              0.1111111111111111,
              "#46039f"
             ],
             [
              0.2222222222222222,
              "#7201a8"
             ],
             [
              0.3333333333333333,
              "#9c179e"
             ],
             [
              0.4444444444444444,
              "#bd3786"
             ],
             [
              0.5555555555555556,
              "#d8576b"
             ],
             [
              0.6666666666666666,
              "#ed7953"
             ],
             [
              0.7777777777777778,
              "#fb9f3a"
             ],
             [
              0.8888888888888888,
              "#fdca26"
             ],
             [
              1,
              "#f0f921"
             ]
            ],
            "type": "surface"
           }
          ],
          "table": [
           {
            "cells": {
             "fill": {
              "color": "#EBF0F8"
             },
             "line": {
              "color": "white"
             }
            },
            "header": {
             "fill": {
              "color": "#C8D4E3"
             },
             "line": {
              "color": "white"
             }
            },
            "type": "table"
           }
          ]
         },
         "layout": {
          "annotationdefaults": {
           "arrowcolor": "#2a3f5f",
           "arrowhead": 0,
           "arrowwidth": 1
          },
          "autotypenumbers": "strict",
          "coloraxis": {
           "colorbar": {
            "outlinewidth": 0,
            "ticks": ""
           }
          },
          "colorscale": {
           "diverging": [
            [
             0,
             "#8e0152"
            ],
            [
             0.1,
             "#c51b7d"
            ],
            [
             0.2,
             "#de77ae"
            ],
            [
             0.3,
             "#f1b6da"
            ],
            [
             0.4,
             "#fde0ef"
            ],
            [
             0.5,
             "#f7f7f7"
            ],
            [
             0.6,
             "#e6f5d0"
            ],
            [
             0.7,
             "#b8e186"
            ],
            [
             0.8,
             "#7fbc41"
            ],
            [
             0.9,
             "#4d9221"
            ],
            [
             1,
             "#276419"
            ]
           ],
           "sequential": [
            [
             0,
             "#0d0887"
            ],
            [
             0.1111111111111111,
             "#46039f"
            ],
            [
             0.2222222222222222,
             "#7201a8"
            ],
            [
             0.3333333333333333,
             "#9c179e"
            ],
            [
             0.4444444444444444,
             "#bd3786"
            ],
            [
             0.5555555555555556,
             "#d8576b"
            ],
            [
             0.6666666666666666,
             "#ed7953"
            ],
            [
             0.7777777777777778,
             "#fb9f3a"
            ],
            [
             0.8888888888888888,
             "#fdca26"
            ],
            [
             1,
             "#f0f921"
            ]
           ],
           "sequentialminus": [
            [
             0,
             "#0d0887"
            ],
            [
             0.1111111111111111,
             "#46039f"
            ],
            [
             0.2222222222222222,
             "#7201a8"
            ],
            [
             0.3333333333333333,
             "#9c179e"
            ],
            [
             0.4444444444444444,
             "#bd3786"
            ],
            [
             0.5555555555555556,
             "#d8576b"
            ],
            [
             0.6666666666666666,
             "#ed7953"
            ],
            [
             0.7777777777777778,
             "#fb9f3a"
            ],
            [
             0.8888888888888888,
             "#fdca26"
            ],
            [
             1,
             "#f0f921"
            ]
           ]
          },
          "colorway": [
           "#636efa",
           "#EF553B",
           "#00cc96",
           "#ab63fa",
           "#FFA15A",
           "#19d3f3",
           "#FF6692",
           "#B6E880",
           "#FF97FF",
           "#FECB52"
          ],
          "font": {
           "color": "#2a3f5f"
          },
          "geo": {
           "bgcolor": "white",
           "lakecolor": "white",
           "landcolor": "#E5ECF6",
           "showlakes": true,
           "showland": true,
           "subunitcolor": "white"
          },
          "hoverlabel": {
           "align": "left"
          },
          "hovermode": "closest",
          "mapbox": {
           "style": "light"
          },
          "paper_bgcolor": "white",
          "plot_bgcolor": "#E5ECF6",
          "polar": {
           "angularaxis": {
            "gridcolor": "white",
            "linecolor": "white",
            "ticks": ""
           },
           "bgcolor": "#E5ECF6",
           "radialaxis": {
            "gridcolor": "white",
            "linecolor": "white",
            "ticks": ""
           }
          },
          "scene": {
           "xaxis": {
            "backgroundcolor": "#E5ECF6",
            "gridcolor": "white",
            "gridwidth": 2,
            "linecolor": "white",
            "showbackground": true,
            "ticks": "",
            "zerolinecolor": "white"
           },
           "yaxis": {
            "backgroundcolor": "#E5ECF6",
            "gridcolor": "white",
            "gridwidth": 2,
            "linecolor": "white",
            "showbackground": true,
            "ticks": "",
            "zerolinecolor": "white"
           },
           "zaxis": {
            "backgroundcolor": "#E5ECF6",
            "gridcolor": "white",
            "gridwidth": 2,
            "linecolor": "white",
            "showbackground": true,
            "ticks": "",
            "zerolinecolor": "white"
           }
          },
          "shapedefaults": {
           "line": {
            "color": "#2a3f5f"
           }
          },
          "ternary": {
           "aaxis": {
            "gridcolor": "white",
            "linecolor": "white",
            "ticks": ""
           },
           "baxis": {
            "gridcolor": "white",
            "linecolor": "white",
            "ticks": ""
           },
           "bgcolor": "#E5ECF6",
           "caxis": {
            "gridcolor": "white",
            "linecolor": "white",
            "ticks": ""
           }
          },
          "title": {
           "x": 0.05
          },
          "xaxis": {
           "automargin": true,
           "gridcolor": "white",
           "linecolor": "white",
           "ticks": "",
           "title": {
            "standoff": 15
           },
           "zerolinecolor": "white",
           "zerolinewidth": 2
          },
          "yaxis": {
           "automargin": true,
           "gridcolor": "white",
           "linecolor": "white",
           "ticks": "",
           "title": {
            "standoff": 15
           },
           "zerolinecolor": "white",
           "zerolinewidth": 2
          }
         }
        },
        "updatemenus": [
         {
          "buttons": [
           {
            "args": [
             null,
             {
              "frame": {
               "duration": 100,
               "redraw": false
              },
              "fromcurrent": true,
              "transition": {
               "duration": 0
              }
             }
            ],
            "label": "Play",
            "method": "animate"
           },
           {
            "args": [
             [
              null
             ],
             {
              "frame": {
               "duration": 0,
               "redraw": false
              },
              "mode": "immediate",
              "transition": {
               "duration": 0
              }
             }
            ],
            "label": "Pause",
            "method": "animate"
           }
          ],
          "direction": "left",
          "pad": {
           "r": 10,
           "t": 87
          },
          "showactive": false,
          "type": "buttons",
          "x": 0.1,
          "xanchor": "right",
          "y": 0,
          "yanchor": "top"
         }
        ],
        "width": 600,
        "xaxis": {
         "range": [
          -1076,
          1045
         ],
         "showgrid": false,
         "showticklabels": false,
         "type": "linear"
        },
        "yaxis": {
         "range": [
          -860,
          188
         ],
         "showgrid": false,
         "showticklabels": false,
         "type": "linear"
        }
       }
      },
      "image/png": "[encoded data removed]",
      "text/html": [
       "<div>                            <div id=\"3c4a1360-a33b-42b7-b60e-6de61c2073cd\" class=\"plotly-graph-div\" style=\"height:400px; width:600px;\"></div>            <script type=\"text/javascript\">                require([\"plotly\"], function(Plotly) {                    window.PLOTLYENV=window.PLOTLYENV || {};                                    if (document.getElementById(\"3c4a1360-a33b-42b7-b60e-6de61c2073cd\")) {                    Plotly.newPlot(                        \"3c4a1360-a33b-42b7-b60e-6de61c2073cd\",                        [{\"marker\":{\"color\":\"#ffffff\",\"line\":{\"color\":\"#000000\",\"width\":2},\"opacity\":1,\"size\":10},\"mode\":\"markers\",\"x\":[-7],\"y\":[-329],\"type\":\"scatter\"},{\"line\":{\"color\":\"red\",\"width\":2},\"mode\":\"lines\",\"name\":\"Geno Smith motion path\",\"x\":[],\"y\":[],\"type\":\"scatter\"},{\"marker\":{\"color\":\"#ffffff\",\"line\":{\"color\":\"#000000\",\"width\":2},\"opacity\":1,\"size\":10},\"mode\":\"markers\",\"x\":[138],\"y\":[-105],\"type\":\"scatter\"},{\"line\":{\"color\":\"red\",\"width\":2},\"mode\":\"lines\",\"name\":\"Gabe Jackson motion path\",\"x\":[],\"y\":[],\"type\":\"scatter\"},{\"marker\":{\"color\":\"#ffffff\",\"line\":{\"color\":\"#000000\",\"width\":2},\"opacity\":1,\"size\":10},\"mode\":\"markers\",\"x\":[945],\"y\":[-43],\"type\":\"scatter\"},{\"line\":{\"color\":\"red\",\"width\":2},\"mode\":\"lines\",\"name\":\"Tyler Lockett motion path\",\"x\":[],\"y\":[],\"type\":\"scatter\"},{\"marker\":{\"color\":\"#ffffff\",\"line\":{\"color\":\"#000000\",\"width\":2},\"opacity\":1,\"size\":10},\"mode\":\"markers\",\"x\":[-14],\"y\":[-30],\"type\":\"scatter\"},{\"line\":{\"color\":\"red\",\"width\":2},\"mode\":\"lines\",\"name\":\"Austin Blythe motion path\",\"x\":[],\"y\":[],\"type\":\"scatter\"},{\"marker\":{\"color\":\"#ffffff\",\"line\":{\"color\":\"#000000\",\"width\":2},\"opacity\":1,\"size\":10},\"mode\":\"markers\",\"x\":[2],\"y\":[-760],\"type\":\"scatter\"},{\"line\":{\"color\":\"red\",\"width\":2},\"mode\":\"lines\",\"name\":\"Rashaad Penny motion path\",\"x\":[],\"y\":[],\"type\":\"scatter\"},{\"marker\":{\"color\":\"#ff0000\",\"line\":{\"color\":\"#000000\",\"width\":2},\"opacity\":1,\"size\":10},\"mode\":\"markers\",\"x\":[-252],\"y\":[-477],\"type\":\"scatter\"},{\"line\":{\"color\":\"red\",\"width\":2},\"mode\":\"lines\",\"name\":\"Will Dissly motion path\",\"x\":[],\"y\":[],\"type\":\"scatter\"},{\"marker\":{\"color\":\"#ff0000\",\"line\":{\"color\":\"#000000\",\"width\":2},\"opacity\":1,\"size\":10},\"mode\":\"markers\",\"x\":[-455],\"y\":[-190],\"type\":\"scatter\"},{\"line\":{\"color\":\"red\",\"width\":2},\"mode\":\"lines\",\"name\":\"Noah Fant motion path\",\"x\":[],\"y\":[],\"type\":\"scatter\"},{\"marker\":{\"color\":\"#ffffff\",\"line\":{\"color\":\"#000000\",\"width\":2},\"opacity\":1,\"size\":10},\"mode\":\"markers\",\"x\":[-941],\"y\":[-96],\"type\":\"scatter\"},{\"line\":{\"color\":\"red\",\"width\":2},\"mode\":\"lines\",\"name\":\"DK Metcalf motion path\",\"x\":[],\"y\":[],\"type\":\"scatter\"},{\"marker\":{\"color\":\"#ffffff\",\"line\":{\"color\":\"#000000\",\"width\":2},\"opacity\":1,\"size\":10},\"mode\":\"markers\",\"x\":[-156],\"y\":[-86],\"type\":\"scatter\"},{\"line\":{\"color\":\"red\",\"width\":2},\"mode\":\"lines\",\"name\":\"Phil Haynes motion path\",\"x\":[],\"y\":[],\"type\":\"scatter\"},{\"marker\":{\"color\":\"#ffffff\",\"line\":{\"color\":\"#000000\",\"width\":2},\"opacity\":1,\"size\":10},\"mode\":\"markers\",\"x\":[-292],\"y\":[-120],\"type\":\"scatter\"},{\"line\":{\"color\":\"red\",\"width\":2},\"mode\":\"lines\",\"name\":\"Charles Cross motion path\",\"x\":[],\"y\":[],\"type\":\"scatter\"},{\"marker\":{\"color\":\"#ffffff\",\"line\":{\"color\":\"#000000\",\"width\":2},\"opacity\":1,\"size\":10},\"mode\":\"markers\",\"x\":[315],\"y\":[-102],\"type\":\"scatter\"},{\"line\":{\"color\":\"red\",\"width\":2},\"mode\":\"lines\",\"name\":\"Abraham Lucas motion path\",\"x\":[],\"y\":[],\"type\":\"scatter\"}],                        {\"autosize\":false,\"height\":400,\"plot_bgcolor\":\"lightgreen\",\"showlegend\":false,\"sliders\":[{\"active\":0,\"currentvalue\":{\"font\":{\"size\":20},\"prefix\":\"Frame:\",\"visible\":true,\"xanchor\":\"right\"},\"len\":0.9,\"pad\":{\"b\":10,\"t\":50},\"steps\":[{\"args\":[[43],{\"frame\":{\"duration\":100,\"redraw\":false},\"mode\":\"immediate\",\"transition\":{\"duration\":0}}],\"label\":\"43\",\"method\":\"animate\"},{\"args\":[[44],{\"frame\":{\"duration\":100,\"redraw\":false},\"mode\":\"immediate\",\"transition\":{\"duration\":0}}],\"label\":\"44\",\"method\":\"animate\"},{\"args\":[[45],{\"frame\":{\"duration\":100,\"redraw\":false},\"mode\":\"immediate\",\"transition\":{\"duration\":0}}],\"label\":\"45\",\"method\":\"animate\"},{\"args\":[[46],{\"frame\":{\"duration\":100,\"redraw\":false},\"mode\":\"immediate\",\"transition\":{\"duration\":0}}],\"label\":\"46\",\"method\":\"animate\"},{\"args\":[[47],{\"frame\":{\"duration\":100,\"redraw\":false},\"mode\":\"immediate\",\"transition\":{\"duration\":0}}],\"label\":\"47\",\"method\":\"animate\"},{\"args\":[[48],{\"frame\":{\"duration\":100,\"redraw\":false},\"mode\":\"immediate\",\"transition\":{\"duration\":0}}],\"label\":\"48\",\"method\":\"animate\"},{\"args\":[[49],{\"frame\":{\"duration\":100,\"redraw\":false},\"mode\":\"immediate\",\"transition\":{\"duration\":0}}],\"label\":\"49\",\"method\":\"animate\"},{\"args\":[[50],{\"frame\":{\"duration\":100,\"redraw\":false},\"mode\":\"immediate\",\"transition\":{\"duration\":0}}],\"label\":\"50\",\"method\":\"animate\"},{\"args\":[[51],{\"frame\":{\"duration\":100,\"redraw\":false},\"mode\":\"immediate\",\"transition\":{\"duration\":0}}],\"label\":\"51\",\"method\":\"animate\"},{\"args\":[[52],{\"frame\":{\"duration\":100,\"redraw\":false},\"mode\":\"immediate\",\"transition\":{\"duration\":0}}],\"label\":\"52\",\"method\":\"animate\"},{\"args\":[[53],{\"frame\":{\"duration\":100,\"redraw\":false},\"mode\":\"immediate\",\"transition\":{\"duration\":0}}],\"label\":\"53\",\"method\":\"animate\"},{\"args\":[[54],{\"frame\":{\"duration\":100,\"redraw\":false},\"mode\":\"immediate\",\"transition\":{\"duration\":0}}],\"label\":\"54\",\"method\":\"animate\"},{\"args\":[[55],{\"frame\":{\"duration\":100,\"redraw\":false},\"mode\":\"immediate\",\"transition\":{\"duration\":0}}],\"label\":\"55\",\"method\":\"animate\"},{\"args\":[[56],{\"frame\":{\"duration\":100,\"redraw\":false},\"mode\":\"immediate\",\"transition\":{\"duration\":0}}],\"label\":\"56\",\"method\":\"animate\"},{\"args\":[[57],{\"frame\":{\"duration\":100,\"redraw\":false},\"mode\":\"immediate\",\"transition\":{\"duration\":0}}],\"label\":\"57\",\"method\":\"animate\"},{\"args\":[[58],{\"frame\":{\"duration\":100,\"redraw\":false},\"mode\":\"immediate\",\"transition\":{\"duration\":0}}],\"label\":\"58\",\"method\":\"animate\"},{\"args\":[[59],{\"frame\":{\"duration\":100,\"redraw\":false},\"mode\":\"immediate\",\"transition\":{\"duration\":0}}],\"label\":\"59\",\"method\":\"animate\"},{\"args\":[[60],{\"frame\":{\"duration\":100,\"redraw\":false},\"mode\":\"immediate\",\"transition\":{\"duration\":0}}],\"label\":\"60\",\"method\":\"animate\"},{\"args\":[[61],{\"frame\":{\"duration\":100,\"redraw\":false},\"mode\":\"immediate\",\"transition\":{\"duration\":0}}],\"label\":\"61\",\"method\":\"animate\"},{\"args\":[[62],{\"frame\":{\"duration\":100,\"redraw\":false},\"mode\":\"immediate\",\"transition\":{\"duration\":0}}],\"label\":\"62\",\"method\":\"animate\"},{\"args\":[[63],{\"frame\":{\"duration\":100,\"redraw\":false},\"mode\":\"immediate\",\"transition\":{\"duration\":0}}],\"label\":\"63\",\"method\":\"animate\"},{\"args\":[[64],{\"frame\":{\"duration\":100,\"redraw\":false},\"mode\":\"immediate\",\"transition\":{\"duration\":0}}],\"label\":\"64\",\"method\":\"animate\"},{\"args\":[[65],{\"frame\":{\"duration\":100,\"redraw\":false},\"mode\":\"immediate\",\"transition\":{\"duration\":0}}],\"label\":\"65\",\"method\":\"animate\"},{\"args\":[[66],{\"frame\":{\"duration\":100,\"redraw\":false},\"mode\":\"immediate\",\"transition\":{\"duration\":0}}],\"label\":\"66\",\"method\":\"animate\"},{\"args\":[[67],{\"frame\":{\"duration\":100,\"redraw\":false},\"mode\":\"immediate\",\"transition\":{\"duration\":0}}],\"label\":\"67\",\"method\":\"animate\"},{\"args\":[[68],{\"frame\":{\"duration\":100,\"redraw\":false},\"mode\":\"immediate\",\"transition\":{\"duration\":0}}],\"label\":\"68\",\"method\":\"animate\"},{\"args\":[[69],{\"frame\":{\"duration\":100,\"redraw\":false},\"mode\":\"immediate\",\"transition\":{\"duration\":0}}],\"label\":\"69\",\"method\":\"animate\"},{\"args\":[[70],{\"frame\":{\"duration\":100,\"redraw\":false},\"mode\":\"immediate\",\"transition\":{\"duration\":0}}],\"label\":\"70\",\"method\":\"animate\"},{\"args\":[[71],{\"frame\":{\"duration\":100,\"redraw\":false},\"mode\":\"immediate\",\"transition\":{\"duration\":0}}],\"label\":\"71\",\"method\":\"animate\"},{\"args\":[[72],{\"frame\":{\"duration\":100,\"redraw\":false},\"mode\":\"immediate\",\"transition\":{\"duration\":0}}],\"label\":\"72\",\"method\":\"animate\"},{\"args\":[[73],{\"frame\":{\"duration\":100,\"redraw\":false},\"mode\":\"immediate\",\"transition\":{\"duration\":0}}],\"label\":\"73\",\"method\":\"animate\"},{\"args\":[[74],{\"frame\":{\"duration\":100,\"redraw\":false},\"mode\":\"immediate\",\"transition\":{\"duration\":0}}],\"label\":\"74\",\"method\":\"animate\"},{\"args\":[[75],{\"frame\":{\"duration\":100,\"redraw\":false},\"mode\":\"immediate\",\"transition\":{\"duration\":0}}],\"label\":\"75\",\"method\":\"animate\"},{\"args\":[[76],{\"frame\":{\"duration\":100,\"redraw\":false},\"mode\":\"immediate\",\"transition\":{\"duration\":0}}],\"label\":\"76\",\"method\":\"animate\"},{\"args\":[[77],{\"frame\":{\"duration\":100,\"redraw\":false},\"mode\":\"immediate\",\"transition\":{\"duration\":0}}],\"label\":\"77\",\"method\":\"animate\"},{\"args\":[[78],{\"frame\":{\"duration\":100,\"redraw\":false},\"mode\":\"immediate\",\"transition\":{\"duration\":0}}],\"label\":\"78\",\"method\":\"animate\"},{\"args\":[[79],{\"frame\":{\"duration\":100,\"redraw\":false},\"mode\":\"immediate\",\"transition\":{\"duration\":0}}],\"label\":\"79\",\"method\":\"animate\"},{\"args\":[[80],{\"frame\":{\"duration\":100,\"redraw\":false},\"mode\":\"immediate\",\"transition\":{\"duration\":0}}],\"label\":\"80\",\"method\":\"animate\"},{\"args\":[[81],{\"frame\":{\"duration\":100,\"redraw\":false},\"mode\":\"immediate\",\"transition\":{\"duration\":0}}],\"label\":\"81\",\"method\":\"animate\"},{\"args\":[[82],{\"frame\":{\"duration\":100,\"redraw\":false},\"mode\":\"immediate\",\"transition\":{\"duration\":0}}],\"label\":\"82\",\"method\":\"animate\"},{\"args\":[[83],{\"frame\":{\"duration\":100,\"redraw\":false},\"mode\":\"immediate\",\"transition\":{\"duration\":0}}],\"label\":\"83\",\"method\":\"animate\"},{\"args\":[[84],{\"frame\":{\"duration\":100,\"redraw\":false},\"mode\":\"immediate\",\"transition\":{\"duration\":0}}],\"label\":\"84\",\"method\":\"animate\"},{\"args\":[[85],{\"frame\":{\"duration\":100,\"redraw\":false},\"mode\":\"immediate\",\"transition\":{\"duration\":0}}],\"label\":\"85\",\"method\":\"animate\"},{\"args\":[[86],{\"frame\":{\"duration\":100,\"redraw\":false},\"mode\":\"immediate\",\"transition\":{\"duration\":0}}],\"label\":\"86\",\"method\":\"animate\"},{\"args\":[[87],{\"frame\":{\"duration\":100,\"redraw\":false},\"mode\":\"immediate\",\"transition\":{\"duration\":0}}],\"label\":\"87\",\"method\":\"animate\"},{\"args\":[[88],{\"frame\":{\"duration\":100,\"redraw\":false},\"mode\":\"immediate\",\"transition\":{\"duration\":0}}],\"label\":\"88\",\"method\":\"animate\"},{\"args\":[[89],{\"frame\":{\"duration\":100,\"redraw\":false},\"mode\":\"immediate\",\"transition\":{\"duration\":0}}],\"label\":\"89\",\"method\":\"animate\"},{\"args\":[[90],{\"frame\":{\"duration\":100,\"redraw\":false},\"mode\":\"immediate\",\"transition\":{\"duration\":0}}],\"label\":\"90\",\"method\":\"animate\"},{\"args\":[[91],{\"frame\":{\"duration\":100,\"redraw\":false},\"mode\":\"immediate\",\"transition\":{\"duration\":0}}],\"label\":\"91\",\"method\":\"animate\"},{\"args\":[[92],{\"frame\":{\"duration\":100,\"redraw\":false},\"mode\":\"immediate\",\"transition\":{\"duration\":0}}],\"label\":\"92\",\"method\":\"animate\"},{\"args\":[[93],{\"frame\":{\"duration\":100,\"redraw\":false},\"mode\":\"immediate\",\"transition\":{\"duration\":0}}],\"label\":\"93\",\"method\":\"animate\"},{\"args\":[[94],{\"frame\":{\"duration\":100,\"redraw\":false},\"mode\":\"immediate\",\"transition\":{\"duration\":0}}],\"label\":\"94\",\"method\":\"animate\"},{\"args\":[[95],{\"frame\":{\"duration\":100,\"redraw\":false},\"mode\":\"immediate\",\"transition\":{\"duration\":0}}],\"label\":\"95\",\"method\":\"animate\"},{\"args\":[[96],{\"frame\":{\"duration\":100,\"redraw\":false},\"mode\":\"immediate\",\"transition\":{\"duration\":0}}],\"label\":\"96\",\"method\":\"animate\"},{\"args\":[[97],{\"frame\":{\"duration\":100,\"redraw\":false},\"mode\":\"immediate\",\"transition\":{\"duration\":0}}],\"label\":\"97\",\"method\":\"animate\"},{\"args\":[[98],{\"frame\":{\"duration\":100,\"redraw\":false},\"mode\":\"immediate\",\"transition\":{\"duration\":0}}],\"label\":\"98\",\"method\":\"animate\"},{\"args\":[[99],{\"frame\":{\"duration\":100,\"redraw\":false},\"mode\":\"immediate\",\"transition\":{\"duration\":0}}],\"label\":\"99\",\"method\":\"animate\"},{\"args\":[[100],{\"frame\":{\"duration\":100,\"redraw\":false},\"mode\":\"immediate\",\"transition\":{\"duration\":0}}],\"label\":\"100\",\"method\":\"animate\"},{\"args\":[[101],{\"frame\":{\"duration\":100,\"redraw\":false},\"mode\":\"immediate\",\"transition\":{\"duration\":0}}],\"label\":\"101\",\"method\":\"animate\"},{\"args\":[[102],{\"frame\":{\"duration\":100,\"redraw\":false},\"mode\":\"immediate\",\"transition\":{\"duration\":0}}],\"label\":\"102\",\"method\":\"animate\"},{\"args\":[[103],{\"frame\":{\"duration\":100,\"redraw\":false},\"mode\":\"immediate\",\"transition\":{\"duration\":0}}],\"label\":\"103\",\"method\":\"animate\"},{\"args\":[[104],{\"frame\":{\"duration\":100,\"redraw\":false},\"mode\":\"immediate\",\"transition\":{\"duration\":0}}],\"label\":\"104\",\"method\":\"animate\"},{\"args\":[[105],{\"frame\":{\"duration\":100,\"redraw\":false},\"mode\":\"immediate\",\"transition\":{\"duration\":0}}],\"label\":\"105\",\"method\":\"animate\"},{\"args\":[[106],{\"frame\":{\"duration\":100,\"redraw\":false},\"mode\":\"immediate\",\"transition\":{\"duration\":0}}],\"label\":\"106\",\"method\":\"animate\"},{\"args\":[[107],{\"frame\":{\"duration\":100,\"redraw\":false},\"mode\":\"immediate\",\"transition\":{\"duration\":0}}],\"label\":\"107\",\"method\":\"animate\"},{\"args\":[[108],{\"frame\":{\"duration\":100,\"redraw\":false},\"mode\":\"immediate\",\"transition\":{\"duration\":0}}],\"label\":\"108\",\"method\":\"animate\"},{\"args\":[[109],{\"frame\":{\"duration\":100,\"redraw\":false},\"mode\":\"immediate\",\"transition\":{\"duration\":0}}],\"label\":\"109\",\"method\":\"animate\"},{\"args\":[[110],{\"frame\":{\"duration\":100,\"redraw\":false},\"mode\":\"immediate\",\"transition\":{\"duration\":0}}],\"label\":\"110\",\"method\":\"animate\"},{\"args\":[[111],{\"frame\":{\"duration\":100,\"redraw\":false},\"mode\":\"immediate\",\"transition\":{\"duration\":0}}],\"label\":\"111\",\"method\":\"animate\"},{\"args\":[[112],{\"frame\":{\"duration\":100,\"redraw\":false},\"mode\":\"immediate\",\"transition\":{\"duration\":0}}],\"label\":\"112\",\"method\":\"animate\"},{\"args\":[[113],{\"frame\":{\"duration\":100,\"redraw\":false},\"mode\":\"immediate\",\"transition\":{\"duration\":0}}],\"label\":\"113\",\"method\":\"animate\"},{\"args\":[[114],{\"frame\":{\"duration\":100,\"redraw\":false},\"mode\":\"immediate\",\"transition\":{\"duration\":0}}],\"label\":\"114\",\"method\":\"animate\"}],\"transition\":{\"duration\":300,\"easing\":\"cubic-in-out\"},\"x\":0.1,\"xanchor\":\"left\",\"y\":0,\"yanchor\":\"top\"}],\"updatemenus\":[{\"buttons\":[{\"args\":[null,{\"frame\":{\"duration\":100,\"redraw\":false},\"fromcurrent\":true,\"transition\":{\"duration\":0}}],\"label\":\"Play\",\"method\":\"animate\"},{\"args\":[[null],{\"frame\":{\"duration\":0,\"redraw\":false},\"mode\":\"immediate\",\"transition\":{\"duration\":0}}],\"label\":\"Pause\",\"method\":\"animate\"}],\"direction\":\"left\",\"pad\":{\"r\":10,\"t\":87},\"showactive\":false,\"type\":\"buttons\",\"x\":0.1,\"xanchor\":\"right\",\"y\":0,\"yanchor\":\"top\"}],\"width\":600,\"xaxis\":{\"range\":[-1076,1045],\"showgrid\":false,\"showticklabels\":false},\"yaxis\":{\"range\":[-860,188],\"showgrid\":false,\"showticklabels\":false},\"template\":{\"data\":{\"histogram2dcontour\":[{\"type\":\"histogram2dcontour\",\"colorbar\":{\"outlinewidth\":0,\"ticks\":\"\"},\"colorscale\":[[0.0,\"#0d0887\"],[0.1111111111111111,\"#46039f\"],[0.2222222222222222,\"#7201a8\"],[0.3333333333333333,\"#9c179e\"],[0.4444444444444444,\"#bd3786\"],[0.5555555555555556,\"#d8576b\"],[0.6666666666666666,\"#ed7953\"],[0.7777777777777778,\"#fb9f3a\"],[0.8888888888888888,\"#fdca26\"],[1.0,\"#f0f921\"]]}],\"choropleth\":[{\"type\":\"choropleth\",\"colorbar\":{\"outlinewidth\":0,\"ticks\":\"\"}}],\"histogram2d\":[{\"type\":\"histogram2d\",\"colorbar\":{\"outlinewidth\":0,\"ticks\":\"\"},\"colorscale\":[[0.0,\"#0d0887\"],[0.1111111111111111,\"#46039f\"],[0.2222222222222222,\"#7201a8\"],[0.3333333333333333,\"#9c179e\"],[0.4444444444444444,\"#bd3786\"],[0.5555555555555556,\"#d8576b\"],[0.6666666666666666,\"#ed7953\"],[0.7777777777777778,\"#fb9f3a\"],[0.8888888888888888,\"#fdca26\"],[1.0,\"#f0f921\"]]}],\"heatmap\":[{\"type\":\"heatmap\",\"colorbar\":{\"outlinewidth\":0,\"ticks\":\"\"},\"colorscale\":[[0.0,\"#0d0887\"],[0.1111111111111111,\"#46039f\"],[0.2222222222222222,\"#7201a8\"],[0.3333333333333333,\"#9c179e\"],[0.4444444444444444,\"#bd3786\"],[0.5555555555555556,\"#d8576b\"],[0.6666666666666666,\"#ed7953\"],[0.7777777777777778,\"#fb9f3a\"],[0.8888888888888888,\"#fdca26\"],[1.0,\"#f0f921\"]]}],\"heatmapgl\":[{\"type\":\"heatmapgl\",\"colorbar\":{\"outlinewidth\":0,\"ticks\":\"\"},\"colorscale\":[[0.0,\"#0d0887\"],[0.1111111111111111,\"#46039f\"],[0.2222222222222222,\"#7201a8\"],[0.3333333333333333,\"#9c179e\"],[0.4444444444444444,\"#bd3786\"],[0.5555555555555556,\"#d8576b\"],[0.6666666666666666,\"#ed7953\"],[0.7777777777777778,\"#fb9f3a\"],[0.8888888888888888,\"#fdca26\"],[1.0,\"#f0f921\"]]}],\"contourcarpet\":[{\"type\":\"contourcarpet\",\"colorbar\":{\"outlinewidth\":0,\"ticks\":\"\"}}],\"contour\":[{\"type\":\"contour\",\"colorbar\":{\"outlinewidth\":0,\"ticks\":\"\"},\"colorscale\":[[0.0,\"#0d0887\"],[0.1111111111111111,\"#46039f\"],[0.2222222222222222,\"#7201a8\"],[0.3333333333333333,\"#9c179e\"],[0.4444444444444444,\"#bd3786\"],[0.5555555555555556,\"#d8576b\"],[0.6666666666666666,\"#ed7953\"],[0.7777777777777778,\"#fb9f3a\"],[0.8888888888888888,\"#fdca26\"],[1.0,\"#f0f921\"]]}],\"surface\":[{\"type\":\"surface\",\"colorbar\":{\"outlinewidth\":0,\"ticks\":\"\"},\"colorscale\":[[0.0,\"#0d0887\"],[0.1111111111111111,\"#46039f\"],[0.2222222222222222,\"#7201a8\"],[0.3333333333333333,\"#9c179e\"],[0.4444444444444444,\"#bd3786\"],[0.5555555555555556,\"#d8576b\"],[0.6666666666666666,\"#ed7953\"],[0.7777777777777778,\"#fb9f3a\"],[0.8888888888888888,\"#fdca26\"],[1.0,\"#f0f921\"]]}],\"mesh3d\":[{\"type\":\"mesh3d\",\"colorbar\":{\"outlinewidth\":0,\"ticks\":\"\"}}],\"scatter\":[{\"fillpattern\":{\"fillmode\":\"overlay\",\"size\":10,\"solidity\":0.2},\"type\":\"scatter\"}],\"parcoords\":[{\"type\":\"parcoords\",\"line\":{\"colorbar\":{\"outlinewidth\":0,\"ticks\":\"\"}}}],\"scatterpolargl\":[{\"type\":\"scatterpolargl\",\"marker\":{\"colorbar\":{\"outlinewidth\":0,\"ticks\":\"\"}}}],\"bar\":[{\"error_x\":{\"color\":\"#2a3f5f\"},\"error_y\":{\"color\":\"#2a3f5f\"},\"marker\":{\"line\":{\"color\":\"#E5ECF6\",\"width\":0.5},\"pattern\":{\"fillmode\":\"overlay\",\"size\":10,\"solidity\":0.2}},\"type\":\"bar\"}],\"scattergeo\":[{\"type\":\"scattergeo\",\"marker\":{\"colorbar\":{\"outlinewidth\":0,\"ticks\":\"\"}}}],\"scatterpolar\":[{\"type\":\"scatterpolar\",\"marker\":{\"colorbar\":{\"outlinewidth\":0,\"ticks\":\"\"}}}],\"histogram\":[{\"marker\":{\"pattern\":{\"fillmode\":\"overlay\",\"size\":10,\"solidity\":0.2}},\"type\":\"histogram\"}],\"scattergl\":[{\"type\":\"scattergl\",\"marker\":{\"colorbar\":{\"outlinewidth\":0,\"ticks\":\"\"}}}],\"scatter3d\":[{\"type\":\"scatter3d\",\"line\":{\"colorbar\":{\"outlinewidth\":0,\"ticks\":\"\"}},\"marker\":{\"colorbar\":{\"outlinewidth\":0,\"ticks\":\"\"}}}],\"scattermapbox\":[{\"type\":\"scattermapbox\",\"marker\":{\"colorbar\":{\"outlinewidth\":0,\"ticks\":\"\"}}}],\"scatterternary\":[{\"type\":\"scatterternary\",\"marker\":{\"colorbar\":{\"outlinewidth\":0,\"ticks\":\"\"}}}],\"scattercarpet\":[{\"type\":\"scattercarpet\",\"marker\":{\"colorbar\":{\"outlinewidth\":0,\"ticks\":\"\"}}}],\"carpet\":[{\"aaxis\":{\"endlinecolor\":\"#2a3f5f\",\"gridcolor\":\"white\",\"linecolor\":\"white\",\"minorgridcolor\":\"white\",\"startlinecolor\":\"#2a3f5f\"},\"baxis\":{\"endlinecolor\":\"#2a3f5f\",\"gridcolor\":\"white\",\"linecolor\":\"white\",\"minorgridcolor\":\"white\",\"startlinecolor\":\"#2a3f5f\"},\"type\":\"carpet\"}],\"table\":[{\"cells\":{\"fill\":{\"color\":\"#EBF0F8\"},\"line\":{\"color\":\"white\"}},\"header\":{\"fill\":{\"color\":\"#C8D4E3\"},\"line\":{\"color\":\"white\"}},\"type\":\"table\"}],\"barpolar\":[{\"marker\":{\"line\":{\"color\":\"#E5ECF6\",\"width\":0.5},\"pattern\":{\"fillmode\":\"overlay\",\"size\":10,\"solidity\":0.2}},\"type\":\"barpolar\"}],\"pie\":[{\"automargin\":true,\"type\":\"pie\"}]},\"layout\":{\"autotypenumbers\":\"strict\",\"colorway\":[\"#636efa\",\"#EF553B\",\"#00cc96\",\"#ab63fa\",\"#FFA15A\",\"#19d3f3\",\"#FF6692\",\"#B6E880\",\"#FF97FF\",\"#FECB52\"],\"font\":{\"color\":\"#2a3f5f\"},\"hovermode\":\"closest\",\"hoverlabel\":{\"align\":\"left\"},\"paper_bgcolor\":\"white\",\"plot_bgcolor\":\"#E5ECF6\",\"polar\":{\"bgcolor\":\"#E5ECF6\",\"angularaxis\":{\"gridcolor\":\"white\",\"linecolor\":\"white\",\"ticks\":\"\"},\"radialaxis\":{\"gridcolor\":\"white\",\"linecolor\":\"white\",\"ticks\":\"\"}},\"ternary\":{\"bgcolor\":\"#E5ECF6\",\"aaxis\":{\"gridcolor\":\"white\",\"linecolor\":\"white\",\"ticks\":\"\"},\"baxis\":{\"gridcolor\":\"white\",\"linecolor\":\"white\",\"ticks\":\"\"},\"caxis\":{\"gridcolor\":\"white\",\"linecolor\":\"white\",\"ticks\":\"\"}},\"coloraxis\":{\"colorbar\":{\"outlinewidth\":0,\"ticks\":\"\"}},\"colorscale\":{\"sequential\":[[0.0,\"#0d0887\"],[0.1111111111111111,\"#46039f\"],[0.2222222222222222,\"#7201a8\"],[0.3333333333333333,\"#9c179e\"],[0.4444444444444444,\"#bd3786\"],[0.5555555555555556,\"#d8576b\"],[0.6666666666666666,\"#ed7953\"],[0.7777777777777778,\"#fb9f3a\"],[0.8888888888888888,\"#fdca26\"],[1.0,\"#f0f921\"]],\"sequentialminus\":[[0.0,\"#0d0887\"],[0.1111111111111111,\"#46039f\"],[0.2222222222222222,\"#7201a8\"],[0.3333333333333333,\"#9c179e\"],[0.4444444444444444,\"#bd3786\"],[0.5555555555555556,\"#d8576b\"],[0.6666666666666666,\"#ed7953\"],[0.7777777777777778,\"#fb9f3a\"],[0.8888888888888888,\"#fdca26\"],[1.0,\"#f0f921\"]],\"diverging\":[[0,\"#8e0152\"],[0.1,\"#c51b7d\"],[0.2,\"#de77ae\"],[0.3,\"#f1b6da\"],[0.4,\"#fde0ef\"],[0.5,\"#f7f7f7\"],[0.6,\"#e6f5d0\"],[0.7,\"#b8e186\"],[0.8,\"#7fbc41\"],[0.9,\"#4d9221\"],[1,\"#276419\"]]},\"xaxis\":{\"gridcolor\":\"white\",\"linecolor\":\"white\",\"ticks\":\"\",\"title\":{\"standoff\":15},\"zerolinecolor\":\"white\",\"automargin\":true,\"zerolinewidth\":2},\"yaxis\":{\"gridcolor\":\"white\",\"linecolor\":\"white\",\"ticks\":\"\",\"title\":{\"standoff\":15},\"zerolinecolor\":\"white\",\"automargin\":true,\"zerolinewidth\":2},\"scene\":{\"xaxis\":{\"backgroundcolor\":\"#E5ECF6\",\"gridcolor\":\"white\",\"linecolor\":\"white\",\"showbackground\":true,\"ticks\":\"\",\"zerolinecolor\":\"white\",\"gridwidth\":2},\"yaxis\":{\"backgroundcolor\":\"#E5ECF6\",\"gridcolor\":\"white\",\"linecolor\":\"white\",\"showbackground\":true,\"ticks\":\"\",\"zerolinecolor\":\"white\",\"gridwidth\":2},\"zaxis\":{\"backgroundcolor\":\"#E5ECF6\",\"gridcolor\":\"white\",\"linecolor\":\"white\",\"showbackground\":true,\"ticks\":\"\",\"zerolinecolor\":\"white\",\"gridwidth\":2}},\"shapedefaults\":{\"line\":{\"color\":\"#2a3f5f\"}},\"annotationdefaults\":{\"arrowcolor\":\"#2a3f5f\",\"arrowhead\":0,\"arrowwidth\":1},\"geo\":{\"bgcolor\":\"white\",\"landcolor\":\"#E5ECF6\",\"subunitcolor\":\"white\",\"showland\":true,\"showlakes\":true,\"lakecolor\":\"white\"},\"title\":{\"x\":0.05},\"mapbox\":{\"style\":\"light\"}}}},                        {\"responsive\": true}                    ).then(function(){\n",
       "                            Plotly.addFrames('3c4a1360-a33b-42b7-b60e-6de61c2073cd', [{\"data\":[{\"marker\":{\"color\":\"#ffffff\",\"line\":{\"color\":\"#000000\",\"width\":2},\"opacity\":1,\"size\":10},\"mode\":\"markers\",\"x\":[-8],\"y\":[-318],\"type\":\"scatter\"},{\"line\":{\"color\":\"red\",\"width\":2},\"mode\":\"lines\",\"name\":\"Geno Smith motion path\",\"x\":[],\"y\":[],\"type\":\"scatter\"},{\"marker\":{\"color\":\"#ffffff\",\"line\":{\"color\":\"#000000\",\"width\":2},\"opacity\":1,\"size\":10},\"mode\":\"markers\",\"x\":[137],\"y\":[-106],\"type\":\"scatter\"},{\"line\":{\"color\":\"red\",\"width\":2},\"mode\":\"lines\",\"name\":\"Gabe Jackson motion path\",\"x\":[],\"y\":[],\"type\":\"scatter\"},{\"marker\":{\"color\":\"#ffffff\",\"line\":{\"color\":\"#000000\",\"width\":2},\"opacity\":1,\"size\":10},\"mode\":\"markers\",\"x\":[948],\"y\":[-41],\"type\":\"scatter\"},{\"line\":{\"color\":\"red\",\"width\":2},\"mode\":\"lines\",\"name\":\"Tyler Lockett motion path\",\"x\":[],\"y\":[],\"type\":\"scatter\"},{\"marker\":{\"color\":\"#ffffff\",\"line\":{\"color\":\"#000000\",\"width\":2},\"opacity\":1,\"size\":10},\"mode\":\"markers\",\"x\":[-14],\"y\":[-30],\"type\":\"scatter\"},{\"line\":{\"color\":\"red\",\"width\":2},\"mode\":\"lines\",\"name\":\"Austin Blythe motion path\",\"x\":[],\"y\":[],\"type\":\"scatter\"},{\"marker\":{\"color\":\"#ffffff\",\"line\":{\"color\":\"#000000\",\"width\":2},\"opacity\":1,\"size\":10},\"mode\":\"markers\",\"x\":[0],\"y\":[-759],\"type\":\"scatter\"},{\"line\":{\"color\":\"red\",\"width\":2},\"mode\":\"lines\",\"name\":\"Rashaad Penny motion path\",\"x\":[],\"y\":[],\"type\":\"scatter\"},{\"marker\":{\"color\":\"#ff0000\",\"line\":{\"color\":\"#000000\",\"width\":2},\"opacity\":1,\"size\":10},\"mode\":\"markers\",\"x\":[-252],\"y\":[-477],\"type\":\"scatter\"},{\"line\":{\"color\":\"red\",\"width\":2},\"mode\":\"lines\",\"name\":\"Will Dissly motion path\",\"x\":[],\"y\":[],\"type\":\"scatter\"},{\"marker\":{\"color\":\"#ff0000\",\"line\":{\"color\":\"#000000\",\"width\":2},\"opacity\":1,\"size\":10},\"mode\":\"markers\",\"x\":[-455],\"y\":[-190],\"type\":\"scatter\"},{\"line\":{\"color\":\"red\",\"width\":2},\"mode\":\"lines\",\"name\":\"Noah Fant motion path\",\"x\":[],\"y\":[],\"type\":\"scatter\"},{\"marker\":{\"color\":\"#ffffff\",\"line\":{\"color\":\"#000000\",\"width\":2},\"opacity\":1,\"size\":10},\"mode\":\"markers\",\"x\":[-941],\"y\":[-98],\"type\":\"scatter\"},{\"line\":{\"color\":\"red\",\"width\":2},\"mode\":\"lines\",\"name\":\"DK Metcalf motion path\",\"x\":[],\"y\":[],\"type\":\"scatter\"},{\"marker\":{\"color\":\"#ffffff\",\"line\":{\"color\":\"#000000\",\"width\":2},\"opacity\":1,\"size\":10},\"mode\":\"markers\",\"x\":[-156],\"y\":[-86],\"type\":\"scatter\"},{\"line\":{\"color\":\"red\",\"width\":2},\"mode\":\"lines\",\"name\":\"Phil Haynes motion path\",\"x\":[],\"y\":[],\"type\":\"scatter\"},{\"marker\":{\"color\":\"#ffffff\",\"line\":{\"color\":\"#000000\",\"width\":2},\"opacity\":1,\"size\":10},\"mode\":\"markers\",\"x\":[-292],\"y\":[-121],\"type\":\"scatter\"},{\"line\":{\"color\":\"red\",\"width\":2},\"mode\":\"lines\",\"name\":\"Charles Cross motion path\",\"x\":[],\"y\":[],\"type\":\"scatter\"},{\"marker\":{\"color\":\"#ffffff\",\"line\":{\"color\":\"#000000\",\"width\":2},\"opacity\":1,\"size\":10},\"mode\":\"markers\",\"x\":[316],\"y\":[-102],\"type\":\"scatter\"},{\"line\":{\"color\":\"red\",\"width\":2},\"mode\":\"lines\",\"name\":\"Abraham Lucas motion path\",\"x\":[],\"y\":[],\"type\":\"scatter\"}],\"name\":\"44\"},{\"data\":[{\"marker\":{\"color\":\"#ffffff\",\"line\":{\"color\":\"#000000\",\"width\":2},\"opacity\":1,\"size\":10},\"mode\":\"markers\",\"x\":[-10],\"y\":[-307],\"type\":\"scatter\"},{\"line\":{\"color\":\"red\",\"width\":2},\"mode\":\"lines\",\"name\":\"Geno Smith motion path\",\"x\":[],\"y\":[],\"type\":\"scatter\"},{\"marker\":{\"color\":\"#ffffff\",\"line\":{\"color\":\"#000000\",\"width\":2},\"opacity\":1,\"size\":10},\"mode\":\"markers\",\"x\":[137],\"y\":[-106],\"type\":\"scatter\"},{\"line\":{\"color\":\"red\",\"width\":2},\"mode\":\"lines\",\"name\":\"Gabe Jackson motion path\",\"x\":[],\"y\":[],\"type\":\"scatter\"},{\"marker\":{\"color\":\"#ffffff\",\"line\":{\"color\":\"#000000\",\"width\":2},\"opacity\":1,\"size\":10},\"mode\":\"markers\",\"x\":[950],\"y\":[-40],\"type\":\"scatter\"},{\"line\":{\"color\":\"red\",\"width\":2},\"mode\":\"lines\",\"name\":\"Tyler Lockett motion path\",\"x\":[],\"y\":[],\"type\":\"scatter\"},{\"marker\":{\"color\":\"#ffffff\",\"line\":{\"color\":\"#000000\",\"width\":2},\"opacity\":1,\"size\":10},\"mode\":\"markers\",\"x\":[-14],\"y\":[-29],\"type\":\"scatter\"},{\"line\":{\"color\":\"red\",\"width\":2},\"mode\":\"lines\",\"name\":\"Austin Blythe motion path\",\"x\":[],\"y\":[],\"type\":\"scatter\"},{\"marker\":{\"color\":\"#ffffff\",\"line\":{\"color\":\"#000000\",\"width\":2},\"opacity\":1,\"size\":10},\"mode\":\"markers\",\"x\":[-1],\"y\":[-758],\"type\":\"scatter\"},{\"line\":{\"color\":\"red\",\"width\":2},\"mode\":\"lines\",\"name\":\"Rashaad Penny motion path\",\"x\":[],\"y\":[],\"type\":\"scatter\"},{\"marker\":{\"color\":\"#ff0000\",\"line\":{\"color\":\"#000000\",\"width\":2},\"opacity\":1,\"size\":10},\"mode\":\"markers\",\"x\":[-252],\"y\":[-477],\"type\":\"scatter\"},{\"line\":{\"color\":\"red\",\"width\":2},\"mode\":\"lines\",\"name\":\"Will Dissly motion path\",\"x\":[],\"y\":[],\"type\":\"scatter\"},{\"marker\":{\"color\":\"#ff0000\",\"line\":{\"color\":\"#000000\",\"width\":2},\"opacity\":1,\"size\":10},\"mode\":\"markers\",\"x\":[-454],\"y\":[-190],\"type\":\"scatter\"},{\"line\":{\"color\":\"red\",\"width\":2},\"mode\":\"lines\",\"name\":\"Noah Fant motion path\",\"x\":[],\"y\":[],\"type\":\"scatter\"},{\"marker\":{\"color\":\"#ffffff\",\"line\":{\"color\":\"#000000\",\"width\":2},\"opacity\":1,\"size\":10},\"mode\":\"markers\",\"x\":[-942],\"y\":[-99],\"type\":\"scatter\"},{\"line\":{\"color\":\"red\",\"width\":2},\"mode\":\"lines\",\"name\":\"DK Metcalf motion path\",\"x\":[],\"y\":[],\"type\":\"scatter\"},{\"marker\":{\"color\":\"#ffffff\",\"line\":{\"color\":\"#000000\",\"width\":2},\"opacity\":1,\"size\":10},\"mode\":\"markers\",\"x\":[-156],\"y\":[-86],\"type\":\"scatter\"},{\"line\":{\"color\":\"red\",\"width\":2},\"mode\":\"lines\",\"name\":\"Phil Haynes motion path\",\"x\":[],\"y\":[],\"type\":\"scatter\"},{\"marker\":{\"color\":\"#ffffff\",\"line\":{\"color\":\"#000000\",\"width\":2},\"opacity\":1,\"size\":10},\"mode\":\"markers\",\"x\":[-292],\"y\":[-121],\"type\":\"scatter\"},{\"line\":{\"color\":\"red\",\"width\":2},\"mode\":\"lines\",\"name\":\"Charles Cross motion path\",\"x\":[],\"y\":[],\"type\":\"scatter\"},{\"marker\":{\"color\":\"#ffffff\",\"line\":{\"color\":\"#000000\",\"width\":2},\"opacity\":1,\"size\":10},\"mode\":\"markers\",\"x\":[316],\"y\":[-103],\"type\":\"scatter\"},{\"line\":{\"color\":\"red\",\"width\":2},\"mode\":\"lines\",\"name\":\"Abraham Lucas motion path\",\"x\":[],\"y\":[],\"type\":\"scatter\"}],\"name\":\"45\"},{\"data\":[{\"marker\":{\"color\":\"#ffffff\",\"line\":{\"color\":\"#000000\",\"width\":2},\"opacity\":1,\"size\":10},\"mode\":\"markers\",\"x\":[-10],\"y\":[-295],\"type\":\"scatter\"},{\"line\":{\"color\":\"red\",\"width\":2},\"mode\":\"lines\",\"name\":\"Geno Smith motion path\",\"x\":[],\"y\":[],\"type\":\"scatter\"},{\"marker\":{\"color\":\"#ffffff\",\"line\":{\"color\":\"#000000\",\"width\":2},\"opacity\":1,\"size\":10},\"mode\":\"markers\",\"x\":[138],\"y\":[-106],\"type\":\"scatter\"},{\"line\":{\"color\":\"red\",\"width\":2},\"mode\":\"lines\",\"name\":\"Gabe Jackson motion path\",\"x\":[],\"y\":[],\"type\":\"scatter\"},{\"marker\":{\"color\":\"#ffffff\",\"line\":{\"color\":\"#000000\",\"width\":2},\"opacity\":1,\"size\":10},\"mode\":\"markers\",\"x\":[953],\"y\":[-39],\"type\":\"scatter\"},{\"line\":{\"color\":\"red\",\"width\":2},\"mode\":\"lines\",\"name\":\"Tyler Lockett motion path\",\"x\":[],\"y\":[],\"type\":\"scatter\"},{\"marker\":{\"color\":\"#ffffff\",\"line\":{\"color\":\"#000000\",\"width\":2},\"opacity\":1,\"size\":10},\"mode\":\"markers\",\"x\":[-14],\"y\":[-29],\"type\":\"scatter\"},{\"line\":{\"color\":\"red\",\"width\":2},\"mode\":\"lines\",\"name\":\"Austin Blythe motion path\",\"x\":[],\"y\":[],\"type\":\"scatter\"},{\"marker\":{\"color\":\"#ffffff\",\"line\":{\"color\":\"#000000\",\"width\":2},\"opacity\":1,\"size\":10},\"mode\":\"markers\",\"x\":[-2],\"y\":[-757],\"type\":\"scatter\"},{\"line\":{\"color\":\"red\",\"width\":2},\"mode\":\"lines\",\"name\":\"Rashaad Penny motion path\",\"x\":[],\"y\":[],\"type\":\"scatter\"},{\"marker\":{\"color\":\"#ff0000\",\"line\":{\"color\":\"#000000\",\"width\":2},\"opacity\":1,\"size\":10},\"mode\":\"markers\",\"x\":[-251],\"y\":[-475],\"type\":\"scatter\"},{\"line\":{\"color\":\"red\",\"width\":2},\"mode\":\"lines\",\"name\":\"Will Dissly motion path\",\"x\":[],\"y\":[],\"type\":\"scatter\"},{\"marker\":{\"color\":\"#ff0000\",\"line\":{\"color\":\"#000000\",\"width\":2},\"opacity\":1,\"size\":10},\"mode\":\"markers\",\"x\":[-453],\"y\":[-189],\"type\":\"scatter\"},{\"line\":{\"color\":\"red\",\"width\":2},\"mode\":\"lines\",\"name\":\"Noah Fant motion path\",\"x\":[],\"y\":[],\"type\":\"scatter\"},{\"marker\":{\"color\":\"#ffffff\",\"line\":{\"color\":\"#000000\",\"width\":2},\"opacity\":1,\"size\":10},\"mode\":\"markers\",\"x\":[-941],\"y\":[-102],\"type\":\"scatter\"},{\"line\":{\"color\":\"red\",\"width\":2},\"mode\":\"lines\",\"name\":\"DK Metcalf motion path\",\"x\":[],\"y\":[],\"type\":\"scatter\"},{\"marker\":{\"color\":\"#ffffff\",\"line\":{\"color\":\"#000000\",\"width\":2},\"opacity\":1,\"size\":10},\"mode\":\"markers\",\"x\":[-156],\"y\":[-88],\"type\":\"scatter\"},{\"line\":{\"color\":\"red\",\"width\":2},\"mode\":\"lines\",\"name\":\"Phil Haynes motion path\",\"x\":[],\"y\":[],\"type\":\"scatter\"},{\"marker\":{\"color\":\"#ffffff\",\"line\":{\"color\":\"#000000\",\"width\":2},\"opacity\":1,\"size\":10},\"mode\":\"markers\",\"x\":[-291],\"y\":[-121],\"type\":\"scatter\"},{\"line\":{\"color\":\"red\",\"width\":2},\"mode\":\"lines\",\"name\":\"Charles Cross motion path\",\"x\":[],\"y\":[],\"type\":\"scatter\"},{\"marker\":{\"color\":\"#ffffff\",\"line\":{\"color\":\"#000000\",\"width\":2},\"opacity\":1,\"size\":10},\"mode\":\"markers\",\"x\":[319],\"y\":[-103],\"type\":\"scatter\"},{\"line\":{\"color\":\"red\",\"width\":2},\"mode\":\"lines\",\"name\":\"Abraham Lucas motion path\",\"x\":[],\"y\":[],\"type\":\"scatter\"}],\"name\":\"46\"},{\"data\":[{\"marker\":{\"color\":\"#ffffff\",\"line\":{\"color\":\"#000000\",\"width\":2},\"opacity\":1,\"size\":10},\"mode\":\"markers\",\"x\":[-12],\"y\":[-284],\"type\":\"scatter\"},{\"line\":{\"color\":\"red\",\"width\":2},\"mode\":\"lines\",\"name\":\"Geno Smith motion path\",\"x\":[],\"y\":[],\"type\":\"scatter\"},{\"marker\":{\"color\":\"#ffffff\",\"line\":{\"color\":\"#000000\",\"width\":2},\"opacity\":1,\"size\":10},\"mode\":\"markers\",\"x\":[138],\"y\":[-105],\"type\":\"scatter\"},{\"line\":{\"color\":\"red\",\"width\":2},\"mode\":\"lines\",\"name\":\"Gabe Jackson motion path\",\"x\":[],\"y\":[],\"type\":\"scatter\"},{\"marker\":{\"color\":\"#ffffff\",\"line\":{\"color\":\"#000000\",\"width\":2},\"opacity\":1,\"size\":10},\"mode\":\"markers\",\"x\":[954],\"y\":[-39],\"type\":\"scatter\"},{\"line\":{\"color\":\"red\",\"width\":2},\"mode\":\"lines\",\"name\":\"Tyler Lockett motion path\",\"x\":[],\"y\":[],\"type\":\"scatter\"},{\"marker\":{\"color\":\"#ffffff\",\"line\":{\"color\":\"#000000\",\"width\":2},\"opacity\":1,\"size\":10},\"mode\":\"markers\",\"x\":[-14],\"y\":[-28],\"type\":\"scatter\"},{\"line\":{\"color\":\"red\",\"width\":2},\"mode\":\"lines\",\"name\":\"Austin Blythe motion path\",\"x\":[],\"y\":[],\"type\":\"scatter\"},{\"marker\":{\"color\":\"#ffffff\",\"line\":{\"color\":\"#000000\",\"width\":2},\"opacity\":1,\"size\":10},\"mode\":\"markers\",\"x\":[-4],\"y\":[-757],\"type\":\"scatter\"},{\"line\":{\"color\":\"red\",\"width\":2},\"mode\":\"lines\",\"name\":\"Rashaad Penny motion path\",\"x\":[],\"y\":[],\"type\":\"scatter\"},{\"marker\":{\"color\":\"#ff0000\",\"line\":{\"color\":\"#000000\",\"width\":2},\"opacity\":1,\"size\":10},\"mode\":\"markers\",\"x\":[-250],\"y\":[-474],\"type\":\"scatter\"},{\"line\":{\"color\":\"red\",\"width\":2},\"mode\":\"lines\",\"name\":\"Will Dissly motion path\",\"x\":[],\"y\":[],\"type\":\"scatter\"},{\"marker\":{\"color\":\"#ff0000\",\"line\":{\"color\":\"#000000\",\"width\":2},\"opacity\":1,\"size\":10},\"mode\":\"markers\",\"x\":[-453],\"y\":[-190],\"type\":\"scatter\"},{\"line\":{\"color\":\"red\",\"width\":2},\"mode\":\"lines\",\"name\":\"Noah Fant motion path\",\"x\":[],\"y\":[],\"type\":\"scatter\"},{\"marker\":{\"color\":\"#ffffff\",\"line\":{\"color\":\"#000000\",\"width\":2},\"opacity\":1,\"size\":10},\"mode\":\"markers\",\"x\":[-941],\"y\":[-103],\"type\":\"scatter\"},{\"line\":{\"color\":\"red\",\"width\":2},\"mode\":\"lines\",\"name\":\"DK Metcalf motion path\",\"x\":[],\"y\":[],\"type\":\"scatter\"},{\"marker\":{\"color\":\"#ffffff\",\"line\":{\"color\":\"#000000\",\"width\":2},\"opacity\":1,\"size\":10},\"mode\":\"markers\",\"x\":[-156],\"y\":[-86],\"type\":\"scatter\"},{\"line\":{\"color\":\"red\",\"width\":2},\"mode\":\"lines\",\"name\":\"Phil Haynes motion path\",\"x\":[],\"y\":[],\"type\":\"scatter\"},{\"marker\":{\"color\":\"#ffffff\",\"line\":{\"color\":\"#000000\",\"width\":2},\"opacity\":1,\"size\":10},\"mode\":\"markers\",\"x\":[-291],\"y\":[-121],\"type\":\"scatter\"},{\"line\":{\"color\":\"red\",\"width\":2},\"mode\":\"lines\",\"name\":\"Charles Cross motion path\",\"x\":[],\"y\":[],\"type\":\"scatter\"},{\"marker\":{\"color\":\"#ffffff\",\"line\":{\"color\":\"#000000\",\"width\":2},\"opacity\":1,\"size\":10},\"mode\":\"markers\",\"x\":[319],\"y\":[-103],\"type\":\"scatter\"},{\"line\":{\"color\":\"red\",\"width\":2},\"mode\":\"lines\",\"name\":\"Abraham Lucas motion path\",\"x\":[],\"y\":[],\"type\":\"scatter\"}],\"name\":\"47\"},{\"data\":[{\"marker\":{\"color\":\"#ffffff\",\"line\":{\"color\":\"#000000\",\"width\":2},\"opacity\":1,\"size\":10},\"mode\":\"markers\",\"x\":[-13],\"y\":[-273],\"type\":\"scatter\"},{\"line\":{\"color\":\"red\",\"width\":2},\"mode\":\"lines\",\"name\":\"Geno Smith motion path\",\"x\":[],\"y\":[],\"type\":\"scatter\"},{\"marker\":{\"color\":\"#ffffff\",\"line\":{\"color\":\"#000000\",\"width\":2},\"opacity\":1,\"size\":10},\"mode\":\"markers\",\"x\":[138],\"y\":[-105],\"type\":\"scatter\"},{\"line\":{\"color\":\"red\",\"width\":2},\"mode\":\"lines\",\"name\":\"Gabe Jackson motion path\",\"x\":[],\"y\":[],\"type\":\"scatter\"},{\"marker\":{\"color\":\"#ffffff\",\"line\":{\"color\":\"#000000\",\"width\":2},\"opacity\":1,\"size\":10},\"mode\":\"markers\",\"x\":[955],\"y\":[-39],\"type\":\"scatter\"},{\"line\":{\"color\":\"red\",\"width\":2},\"mode\":\"lines\",\"name\":\"Tyler Lockett motion path\",\"x\":[],\"y\":[],\"type\":\"scatter\"},{\"marker\":{\"color\":\"#ffffff\",\"line\":{\"color\":\"#000000\",\"width\":2},\"opacity\":1,\"size\":10},\"mode\":\"markers\",\"x\":[-14],\"y\":[-29],\"type\":\"scatter\"},{\"line\":{\"color\":\"red\",\"width\":2},\"mode\":\"lines\",\"name\":\"Austin Blythe motion path\",\"x\":[],\"y\":[],\"type\":\"scatter\"},{\"marker\":{\"color\":\"#ffffff\",\"line\":{\"color\":\"#000000\",\"width\":2},\"opacity\":1,\"size\":10},\"mode\":\"markers\",\"x\":[-5],\"y\":[-755],\"type\":\"scatter\"},{\"line\":{\"color\":\"red\",\"width\":2},\"mode\":\"lines\",\"name\":\"Rashaad Penny motion path\",\"x\":[],\"y\":[],\"type\":\"scatter\"},{\"marker\":{\"color\":\"#ff0000\",\"line\":{\"color\":\"#000000\",\"width\":2},\"opacity\":1,\"size\":10},\"mode\":\"markers\",\"x\":[-250],\"y\":[-473],\"type\":\"scatter\"},{\"line\":{\"color\":\"red\",\"width\":2},\"mode\":\"lines\",\"name\":\"Will Dissly motion path\",\"x\":[],\"y\":[],\"type\":\"scatter\"},{\"marker\":{\"color\":\"#ff0000\",\"line\":{\"color\":\"#000000\",\"width\":2},\"opacity\":1,\"size\":10},\"mode\":\"markers\",\"x\":[-452],\"y\":[-190],\"type\":\"scatter\"},{\"line\":{\"color\":\"red\",\"width\":2},\"mode\":\"lines\",\"name\":\"Noah Fant motion path\",\"x\":[],\"y\":[],\"type\":\"scatter\"},{\"marker\":{\"color\":\"#ffffff\",\"line\":{\"color\":\"#000000\",\"width\":2},\"opacity\":1,\"size\":10},\"mode\":\"markers\",\"x\":[-941],\"y\":[-103],\"type\":\"scatter\"},{\"line\":{\"color\":\"red\",\"width\":2},\"mode\":\"lines\",\"name\":\"DK Metcalf motion path\",\"x\":[],\"y\":[],\"type\":\"scatter\"},{\"marker\":{\"color\":\"#ffffff\",\"line\":{\"color\":\"#000000\",\"width\":2},\"opacity\":1,\"size\":10},\"mode\":\"markers\",\"x\":[-156],\"y\":[-86],\"type\":\"scatter\"},{\"line\":{\"color\":\"red\",\"width\":2},\"mode\":\"lines\",\"name\":\"Phil Haynes motion path\",\"x\":[],\"y\":[],\"type\":\"scatter\"},{\"marker\":{\"color\":\"#ffffff\",\"line\":{\"color\":\"#000000\",\"width\":2},\"opacity\":1,\"size\":10},\"mode\":\"markers\",\"x\":[-291],\"y\":[-121],\"type\":\"scatter\"},{\"line\":{\"color\":\"red\",\"width\":2},\"mode\":\"lines\",\"name\":\"Charles Cross motion path\",\"x\":[],\"y\":[],\"type\":\"scatter\"},{\"marker\":{\"color\":\"#ffffff\",\"line\":{\"color\":\"#000000\",\"width\":2},\"opacity\":1,\"size\":10},\"mode\":\"markers\",\"x\":[320],\"y\":[-103],\"type\":\"scatter\"},{\"line\":{\"color\":\"red\",\"width\":2},\"mode\":\"lines\",\"name\":\"Abraham Lucas motion path\",\"x\":[],\"y\":[],\"type\":\"scatter\"}],\"name\":\"48\"},{\"data\":[{\"marker\":{\"color\":\"#ffffff\",\"line\":{\"color\":\"#000000\",\"width\":2},\"opacity\":1,\"size\":10},\"mode\":\"markers\",\"x\":[-14],\"y\":[-261],\"type\":\"scatter\"},{\"line\":{\"color\":\"red\",\"width\":2},\"mode\":\"lines\",\"name\":\"Geno Smith motion path\",\"x\":[],\"y\":[],\"type\":\"scatter\"},{\"marker\":{\"color\":\"#ffffff\",\"line\":{\"color\":\"#000000\",\"width\":2},\"opacity\":1,\"size\":10},\"mode\":\"markers\",\"x\":[139],\"y\":[-105],\"type\":\"scatter\"},{\"line\":{\"color\":\"red\",\"width\":2},\"mode\":\"lines\",\"name\":\"Gabe Jackson motion path\",\"x\":[],\"y\":[],\"type\":\"scatter\"},{\"marker\":{\"color\":\"#ffffff\",\"line\":{\"color\":\"#000000\",\"width\":2},\"opacity\":1,\"size\":10},\"mode\":\"markers\",\"x\":[956],\"y\":[-38],\"type\":\"scatter\"},{\"line\":{\"color\":\"red\",\"width\":2},\"mode\":\"lines\",\"name\":\"Tyler Lockett motion path\",\"x\":[],\"y\":[],\"type\":\"scatter\"},{\"marker\":{\"color\":\"#ffffff\",\"line\":{\"color\":\"#000000\",\"width\":2},\"opacity\":1,\"size\":10},\"mode\":\"markers\",\"x\":[-14],\"y\":[-29],\"type\":\"scatter\"},{\"line\":{\"color\":\"red\",\"width\":2},\"mode\":\"lines\",\"name\":\"Austin Blythe motion path\",\"x\":[],\"y\":[],\"type\":\"scatter\"},{\"marker\":{\"color\":\"#ffffff\",\"line\":{\"color\":\"#000000\",\"width\":2},\"opacity\":1,\"size\":10},\"mode\":\"markers\",\"x\":[-6],\"y\":[-754],\"type\":\"scatter\"},{\"line\":{\"color\":\"red\",\"width\":2},\"mode\":\"lines\",\"name\":\"Rashaad Penny motion path\",\"x\":[],\"y\":[],\"type\":\"scatter\"},{\"marker\":{\"color\":\"#ff0000\",\"line\":{\"color\":\"#000000\",\"width\":2},\"opacity\":1,\"size\":10},\"mode\":\"markers\",\"x\":[-250],\"y\":[-473],\"type\":\"scatter\"},{\"line\":{\"color\":\"red\",\"width\":2},\"mode\":\"lines\",\"name\":\"Will Dissly motion path\",\"x\":[],\"y\":[],\"type\":\"scatter\"},{\"marker\":{\"color\":\"#ff0000\",\"line\":{\"color\":\"#000000\",\"width\":2},\"opacity\":1,\"size\":10},\"mode\":\"markers\",\"x\":[-451],\"y\":[-191],\"type\":\"scatter\"},{\"line\":{\"color\":\"red\",\"width\":2},\"mode\":\"lines\",\"name\":\"Noah Fant motion path\",\"x\":[],\"y\":[],\"type\":\"scatter\"},{\"marker\":{\"color\":\"#ffffff\",\"line\":{\"color\":\"#000000\",\"width\":2},\"opacity\":1,\"size\":10},\"mode\":\"markers\",\"x\":[-941],\"y\":[-104],\"type\":\"scatter\"},{\"line\":{\"color\":\"red\",\"width\":2},\"mode\":\"lines\",\"name\":\"DK Metcalf motion path\",\"x\":[],\"y\":[],\"type\":\"scatter\"},{\"marker\":{\"color\":\"#ffffff\",\"line\":{\"color\":\"#000000\",\"width\":2},\"opacity\":1,\"size\":10},\"mode\":\"markers\",\"x\":[-157],\"y\":[-86],\"type\":\"scatter\"},{\"line\":{\"color\":\"red\",\"width\":2},\"mode\":\"lines\",\"name\":\"Phil Haynes motion path\",\"x\":[],\"y\":[],\"type\":\"scatter\"},{\"marker\":{\"color\":\"#ffffff\",\"line\":{\"color\":\"#000000\",\"width\":2},\"opacity\":1,\"size\":10},\"mode\":\"markers\",\"x\":[-292],\"y\":[-121],\"type\":\"scatter\"},{\"line\":{\"color\":\"red\",\"width\":2},\"mode\":\"lines\",\"name\":\"Charles Cross motion path\",\"x\":[],\"y\":[],\"type\":\"scatter\"},{\"marker\":{\"color\":\"#ffffff\",\"line\":{\"color\":\"#000000\",\"width\":2},\"opacity\":1,\"size\":10},\"mode\":\"markers\",\"x\":[319],\"y\":[-102],\"type\":\"scatter\"},{\"line\":{\"color\":\"red\",\"width\":2},\"mode\":\"lines\",\"name\":\"Abraham Lucas motion path\",\"x\":[],\"y\":[],\"type\":\"scatter\"}],\"name\":\"49\"},{\"data\":[{\"marker\":{\"color\":\"#ffffff\",\"line\":{\"color\":\"#000000\",\"width\":2},\"opacity\":1,\"size\":10},\"mode\":\"markers\",\"x\":[-14],\"y\":[-250],\"type\":\"scatter\"},{\"line\":{\"color\":\"red\",\"width\":2},\"mode\":\"lines\",\"name\":\"Geno Smith motion path\",\"x\":[],\"y\":[],\"type\":\"scatter\"},{\"marker\":{\"color\":\"#ffffff\",\"line\":{\"color\":\"#000000\",\"width\":2},\"opacity\":1,\"size\":10},\"mode\":\"markers\",\"x\":[139],\"y\":[-105],\"type\":\"scatter\"},{\"line\":{\"color\":\"red\",\"width\":2},\"mode\":\"lines\",\"name\":\"Gabe Jackson motion path\",\"x\":[],\"y\":[],\"type\":\"scatter\"},{\"marker\":{\"color\":\"#ffffff\",\"line\":{\"color\":\"#000000\",\"width\":2},\"opacity\":1,\"size\":10},\"mode\":\"markers\",\"x\":[956],\"y\":[-38],\"type\":\"scatter\"},{\"line\":{\"color\":\"red\",\"width\":2},\"mode\":\"lines\",\"name\":\"Tyler Lockett motion path\",\"x\":[],\"y\":[],\"type\":\"scatter\"},{\"marker\":{\"color\":\"#ffffff\",\"line\":{\"color\":\"#000000\",\"width\":2},\"opacity\":1,\"size\":10},\"mode\":\"markers\",\"x\":[-14],\"y\":[-29],\"type\":\"scatter\"},{\"line\":{\"color\":\"red\",\"width\":2},\"mode\":\"lines\",\"name\":\"Austin Blythe motion path\",\"x\":[],\"y\":[],\"type\":\"scatter\"},{\"marker\":{\"color\":\"#ffffff\",\"line\":{\"color\":\"#000000\",\"width\":2},\"opacity\":1,\"size\":10},\"mode\":\"markers\",\"x\":[-7],\"y\":[-753],\"type\":\"scatter\"},{\"line\":{\"color\":\"red\",\"width\":2},\"mode\":\"lines\",\"name\":\"Rashaad Penny motion path\",\"x\":[],\"y\":[],\"type\":\"scatter\"},{\"marker\":{\"color\":\"#ff0000\",\"line\":{\"color\":\"#000000\",\"width\":2},\"opacity\":1,\"size\":10},\"mode\":\"markers\",\"x\":[-249],\"y\":[-472],\"type\":\"scatter\"},{\"line\":{\"color\":\"red\",\"width\":2},\"mode\":\"lines\",\"name\":\"Will Dissly motion path\",\"x\":[],\"y\":[],\"type\":\"scatter\"},{\"marker\":{\"color\":\"#ff0000\",\"line\":{\"color\":\"#000000\",\"width\":2},\"opacity\":1,\"size\":10},\"mode\":\"markers\",\"x\":[-451],\"y\":[-191],\"type\":\"scatter\"},{\"line\":{\"color\":\"red\",\"width\":2},\"mode\":\"lines\",\"name\":\"Noah Fant motion path\",\"x\":[],\"y\":[],\"type\":\"scatter\"},{\"marker\":{\"color\":\"#ffffff\",\"line\":{\"color\":\"#000000\",\"width\":2},\"opacity\":1,\"size\":10},\"mode\":\"markers\",\"x\":[-943],\"y\":[-103],\"type\":\"scatter\"},{\"line\":{\"color\":\"red\",\"width\":2},\"mode\":\"lines\",\"name\":\"DK Metcalf motion path\",\"x\":[],\"y\":[],\"type\":\"scatter\"},{\"marker\":{\"color\":\"#ffffff\",\"line\":{\"color\":\"#000000\",\"width\":2},\"opacity\":1,\"size\":10},\"mode\":\"markers\",\"x\":[-158],\"y\":[-88],\"type\":\"scatter\"},{\"line\":{\"color\":\"red\",\"width\":2},\"mode\":\"lines\",\"name\":\"Phil Haynes motion path\",\"x\":[],\"y\":[],\"type\":\"scatter\"},{\"marker\":{\"color\":\"#ffffff\",\"line\":{\"color\":\"#000000\",\"width\":2},\"opacity\":1,\"size\":10},\"mode\":\"markers\",\"x\":[-293],\"y\":[-121],\"type\":\"scatter\"},{\"line\":{\"color\":\"red\",\"width\":2},\"mode\":\"lines\",\"name\":\"Charles Cross motion path\",\"x\":[],\"y\":[],\"type\":\"scatter\"},{\"marker\":{\"color\":\"#ffffff\",\"line\":{\"color\":\"#000000\",\"width\":2},\"opacity\":1,\"size\":10},\"mode\":\"markers\",\"x\":[319],\"y\":[-102],\"type\":\"scatter\"},{\"line\":{\"color\":\"red\",\"width\":2},\"mode\":\"lines\",\"name\":\"Abraham Lucas motion path\",\"x\":[],\"y\":[],\"type\":\"scatter\"}],\"name\":\"50\"},{\"data\":[{\"marker\":{\"color\":\"#ffffff\",\"line\":{\"color\":\"#000000\",\"width\":2},\"opacity\":1,\"size\":10},\"mode\":\"markers\",\"x\":[-16],\"y\":[-238],\"type\":\"scatter\"},{\"line\":{\"color\":\"red\",\"width\":2},\"mode\":\"lines\",\"name\":\"Geno Smith motion path\",\"x\":[],\"y\":[],\"type\":\"scatter\"},{\"marker\":{\"color\":\"#ffffff\",\"line\":{\"color\":\"#000000\",\"width\":2},\"opacity\":1,\"size\":10},\"mode\":\"markers\",\"x\":[140],\"y\":[-104],\"type\":\"scatter\"},{\"line\":{\"color\":\"red\",\"width\":2},\"mode\":\"lines\",\"name\":\"Gabe Jackson motion path\",\"x\":[],\"y\":[],\"type\":\"scatter\"},{\"marker\":{\"color\":\"#ffffff\",\"line\":{\"color\":\"#000000\",\"width\":2},\"opacity\":1,\"size\":10},\"mode\":\"markers\",\"x\":[956],\"y\":[-38],\"type\":\"scatter\"},{\"line\":{\"color\":\"red\",\"width\":2},\"mode\":\"lines\",\"name\":\"Tyler Lockett motion path\",\"x\":[],\"y\":[],\"type\":\"scatter\"},{\"marker\":{\"color\":\"#ffffff\",\"line\":{\"color\":\"#000000\",\"width\":2},\"opacity\":1,\"size\":10},\"mode\":\"markers\",\"x\":[-13],\"y\":[-30],\"type\":\"scatter\"},{\"line\":{\"color\":\"red\",\"width\":2},\"mode\":\"lines\",\"name\":\"Austin Blythe motion path\",\"x\":[],\"y\":[],\"type\":\"scatter\"},{\"marker\":{\"color\":\"#ffffff\",\"line\":{\"color\":\"#000000\",\"width\":2},\"opacity\":1,\"size\":10},\"mode\":\"markers\",\"x\":[-8],\"y\":[-751],\"type\":\"scatter\"},{\"line\":{\"color\":\"red\",\"width\":2},\"mode\":\"lines\",\"name\":\"Rashaad Penny motion path\",\"x\":[],\"y\":[],\"type\":\"scatter\"},{\"marker\":{\"color\":\"#ff0000\",\"line\":{\"color\":\"#000000\",\"width\":2},\"opacity\":1,\"size\":10},\"mode\":\"markers\",\"x\":[-249],\"y\":[-471],\"type\":\"scatter\"},{\"line\":{\"color\":\"red\",\"width\":2},\"mode\":\"lines\",\"name\":\"Will Dissly motion path\",\"x\":[],\"y\":[],\"type\":\"scatter\"},{\"marker\":{\"color\":\"#ff0000\",\"line\":{\"color\":\"#000000\",\"width\":2},\"opacity\":1,\"size\":10},\"mode\":\"markers\",\"x\":[-452],\"y\":[-192],\"type\":\"scatter\"},{\"line\":{\"color\":\"red\",\"width\":2},\"mode\":\"lines\",\"name\":\"Noah Fant motion path\",\"x\":[],\"y\":[],\"type\":\"scatter\"},{\"marker\":{\"color\":\"#ffffff\",\"line\":{\"color\":\"#000000\",\"width\":2},\"opacity\":1,\"size\":10},\"mode\":\"markers\",\"x\":[-943],\"y\":[-103],\"type\":\"scatter\"},{\"line\":{\"color\":\"red\",\"width\":2},\"mode\":\"lines\",\"name\":\"DK Metcalf motion path\",\"x\":[],\"y\":[],\"type\":\"scatter\"},{\"marker\":{\"color\":\"#ffffff\",\"line\":{\"color\":\"#000000\",\"width\":2},\"opacity\":1,\"size\":10},\"mode\":\"markers\",\"x\":[-158],\"y\":[-88],\"type\":\"scatter\"},{\"line\":{\"color\":\"red\",\"width\":2},\"mode\":\"lines\",\"name\":\"Phil Haynes motion path\",\"x\":[],\"y\":[],\"type\":\"scatter\"},{\"marker\":{\"color\":\"#ffffff\",\"line\":{\"color\":\"#000000\",\"width\":2},\"opacity\":1,\"size\":10},\"mode\":\"markers\",\"x\":[-295],\"y\":[-122],\"type\":\"scatter\"},{\"line\":{\"color\":\"red\",\"width\":2},\"mode\":\"lines\",\"name\":\"Charles Cross motion path\",\"x\":[],\"y\":[],\"type\":\"scatter\"},{\"marker\":{\"color\":\"#ffffff\",\"line\":{\"color\":\"#000000\",\"width\":2},\"opacity\":1,\"size\":10},\"mode\":\"markers\",\"x\":[319],\"y\":[-102],\"type\":\"scatter\"},{\"line\":{\"color\":\"red\",\"width\":2},\"mode\":\"lines\",\"name\":\"Abraham Lucas motion path\",\"x\":[],\"y\":[],\"type\":\"scatter\"}],\"name\":\"51\"},{\"data\":[{\"marker\":{\"color\":\"#ffffff\",\"line\":{\"color\":\"#000000\",\"width\":2},\"opacity\":1,\"size\":10},\"mode\":\"markers\",\"x\":[-17],\"y\":[-227],\"type\":\"scatter\"},{\"line\":{\"color\":\"red\",\"width\":2},\"mode\":\"lines\",\"name\":\"Geno Smith motion path\",\"x\":[],\"y\":[],\"type\":\"scatter\"},{\"marker\":{\"color\":\"#ffffff\",\"line\":{\"color\":\"#000000\",\"width\":2},\"opacity\":1,\"size\":10},\"mode\":\"markers\",\"x\":[141],\"y\":[-103],\"type\":\"scatter\"},{\"line\":{\"color\":\"red\",\"width\":2},\"mode\":\"lines\",\"name\":\"Gabe Jackson motion path\",\"x\":[],\"y\":[],\"type\":\"scatter\"},{\"marker\":{\"color\":\"#ffffff\",\"line\":{\"color\":\"#000000\",\"width\":2},\"opacity\":1,\"size\":10},\"mode\":\"markers\",\"x\":[956],\"y\":[-36],\"type\":\"scatter\"},{\"line\":{\"color\":\"red\",\"width\":2},\"mode\":\"lines\",\"name\":\"Tyler Lockett motion path\",\"x\":[],\"y\":[],\"type\":\"scatter\"},{\"marker\":{\"color\":\"#ffffff\",\"line\":{\"color\":\"#000000\",\"width\":2},\"opacity\":1,\"size\":10},\"mode\":\"markers\",\"x\":[-12],\"y\":[-30],\"type\":\"scatter\"},{\"line\":{\"color\":\"red\",\"width\":2},\"mode\":\"lines\",\"name\":\"Austin Blythe motion path\",\"x\":[],\"y\":[],\"type\":\"scatter\"},{\"marker\":{\"color\":\"#ffffff\",\"line\":{\"color\":\"#000000\",\"width\":2},\"opacity\":1,\"size\":10},\"mode\":\"markers\",\"x\":[-8],\"y\":[-750],\"type\":\"scatter\"},{\"line\":{\"color\":\"red\",\"width\":2},\"mode\":\"lines\",\"name\":\"Rashaad Penny motion path\",\"x\":[],\"y\":[],\"type\":\"scatter\"},{\"marker\":{\"color\":\"#ff0000\",\"line\":{\"color\":\"#000000\",\"width\":2},\"opacity\":1,\"size\":10},\"mode\":\"markers\",\"x\":[-249],\"y\":[-470],\"type\":\"scatter\"},{\"line\":{\"color\":\"red\",\"width\":2},\"mode\":\"lines\",\"name\":\"Will Dissly motion path\",\"x\":[],\"y\":[],\"type\":\"scatter\"},{\"marker\":{\"color\":\"#ff0000\",\"line\":{\"color\":\"#000000\",\"width\":2},\"opacity\":1,\"size\":10},\"mode\":\"markers\",\"x\":[-452],\"y\":[-192],\"type\":\"scatter\"},{\"line\":{\"color\":\"red\",\"width\":2},\"mode\":\"lines\",\"name\":\"Noah Fant motion path\",\"x\":[],\"y\":[],\"type\":\"scatter\"},{\"marker\":{\"color\":\"#ffffff\",\"line\":{\"color\":\"#000000\",\"width\":2},\"opacity\":1,\"size\":10},\"mode\":\"markers\",\"x\":[-943],\"y\":[-102],\"type\":\"scatter\"},{\"line\":{\"color\":\"red\",\"width\":2},\"mode\":\"lines\",\"name\":\"DK Metcalf motion path\",\"x\":[],\"y\":[],\"type\":\"scatter\"},{\"marker\":{\"color\":\"#ffffff\",\"line\":{\"color\":\"#000000\",\"width\":2},\"opacity\":1,\"size\":10},\"mode\":\"markers\",\"x\":[-158],\"y\":[-88],\"type\":\"scatter\"},{\"line\":{\"color\":\"red\",\"width\":2},\"mode\":\"lines\",\"name\":\"Phil Haynes motion path\",\"x\":[],\"y\":[],\"type\":\"scatter\"},{\"marker\":{\"color\":\"#ffffff\",\"line\":{\"color\":\"#000000\",\"width\":2},\"opacity\":1,\"size\":10},\"mode\":\"markers\",\"x\":[-296],\"y\":[-123],\"type\":\"scatter\"},{\"line\":{\"color\":\"red\",\"width\":2},\"mode\":\"lines\",\"name\":\"Charles Cross motion path\",\"x\":[],\"y\":[],\"type\":\"scatter\"},{\"marker\":{\"color\":\"#ffffff\",\"line\":{\"color\":\"#000000\",\"width\":2},\"opacity\":1,\"size\":10},\"mode\":\"markers\",\"x\":[318],\"y\":[-102],\"type\":\"scatter\"},{\"line\":{\"color\":\"red\",\"width\":2},\"mode\":\"lines\",\"name\":\"Abraham Lucas motion path\",\"x\":[],\"y\":[],\"type\":\"scatter\"}],\"name\":\"52\"},{\"data\":[{\"marker\":{\"color\":\"#ffffff\",\"line\":{\"color\":\"#000000\",\"width\":2},\"opacity\":1,\"size\":10},\"mode\":\"markers\",\"x\":[-19],\"y\":[-213],\"type\":\"scatter\"},{\"line\":{\"color\":\"red\",\"width\":2},\"mode\":\"lines\",\"name\":\"Geno Smith motion path\",\"x\":[],\"y\":[],\"type\":\"scatter\"},{\"marker\":{\"color\":\"#ffffff\",\"line\":{\"color\":\"#000000\",\"width\":2},\"opacity\":1,\"size\":10},\"mode\":\"markers\",\"x\":[141],\"y\":[-102],\"type\":\"scatter\"},{\"line\":{\"color\":\"red\",\"width\":2},\"mode\":\"lines\",\"name\":\"Gabe Jackson motion path\",\"x\":[],\"y\":[],\"type\":\"scatter\"},{\"marker\":{\"color\":\"#ffffff\",\"line\":{\"color\":\"#000000\",\"width\":2},\"opacity\":1,\"size\":10},\"mode\":\"markers\",\"x\":[956],\"y\":[-35],\"type\":\"scatter\"},{\"line\":{\"color\":\"red\",\"width\":2},\"mode\":\"lines\",\"name\":\"Tyler Lockett motion path\",\"x\":[],\"y\":[],\"type\":\"scatter\"},{\"marker\":{\"color\":\"#ffffff\",\"line\":{\"color\":\"#000000\",\"width\":2},\"opacity\":1,\"size\":10},\"mode\":\"markers\",\"x\":[-12],\"y\":[-29],\"type\":\"scatter\"},{\"line\":{\"color\":\"red\",\"width\":2},\"mode\":\"lines\",\"name\":\"Austin Blythe motion path\",\"x\":[],\"y\":[],\"type\":\"scatter\"},{\"marker\":{\"color\":\"#ffffff\",\"line\":{\"color\":\"#000000\",\"width\":2},\"opacity\":1,\"size\":10},\"mode\":\"markers\",\"x\":[-7],\"y\":[-749],\"type\":\"scatter\"},{\"line\":{\"color\":\"red\",\"width\":2},\"mode\":\"lines\",\"name\":\"Rashaad Penny motion path\",\"x\":[],\"y\":[],\"type\":\"scatter\"},{\"marker\":{\"color\":\"#ff0000\",\"line\":{\"color\":\"#000000\",\"width\":2},\"opacity\":1,\"size\":10},\"mode\":\"markers\",\"x\":[-248],\"y\":[-470],\"type\":\"scatter\"},{\"line\":{\"color\":\"red\",\"width\":2},\"mode\":\"lines\",\"name\":\"Will Dissly motion path\",\"x\":[],\"y\":[],\"type\":\"scatter\"},{\"marker\":{\"color\":\"#ff0000\",\"line\":{\"color\":\"#000000\",\"width\":2},\"opacity\":1,\"size\":10},\"mode\":\"markers\",\"x\":[-453],\"y\":[-193],\"type\":\"scatter\"},{\"line\":{\"color\":\"red\",\"width\":2},\"mode\":\"lines\",\"name\":\"Noah Fant motion path\",\"x\":[],\"y\":[],\"type\":\"scatter\"},{\"marker\":{\"color\":\"#ffffff\",\"line\":{\"color\":\"#000000\",\"width\":2},\"opacity\":1,\"size\":10},\"mode\":\"markers\",\"x\":[-943],\"y\":[-102],\"type\":\"scatter\"},{\"line\":{\"color\":\"red\",\"width\":2},\"mode\":\"lines\",\"name\":\"DK Metcalf motion path\",\"x\":[],\"y\":[],\"type\":\"scatter\"},{\"marker\":{\"color\":\"#ffffff\",\"line\":{\"color\":\"#000000\",\"width\":2},\"opacity\":1,\"size\":10},\"mode\":\"markers\",\"x\":[-158],\"y\":[-88],\"type\":\"scatter\"},{\"line\":{\"color\":\"red\",\"width\":2},\"mode\":\"lines\",\"name\":\"Phil Haynes motion path\",\"x\":[],\"y\":[],\"type\":\"scatter\"},{\"marker\":{\"color\":\"#ffffff\",\"line\":{\"color\":\"#000000\",\"width\":2},\"opacity\":1,\"size\":10},\"mode\":\"markers\",\"x\":[-297],\"y\":[-122],\"type\":\"scatter\"},{\"line\":{\"color\":\"red\",\"width\":2},\"mode\":\"lines\",\"name\":\"Charles Cross motion path\",\"x\":[],\"y\":[],\"type\":\"scatter\"},{\"marker\":{\"color\":\"#ffffff\",\"line\":{\"color\":\"#000000\",\"width\":2},\"opacity\":1,\"size\":10},\"mode\":\"markers\",\"x\":[317],\"y\":[-100],\"type\":\"scatter\"},{\"line\":{\"color\":\"red\",\"width\":2},\"mode\":\"lines\",\"name\":\"Abraham Lucas motion path\",\"x\":[],\"y\":[],\"type\":\"scatter\"}],\"name\":\"53\"},{\"data\":[{\"marker\":{\"color\":\"#ffffff\",\"line\":{\"color\":\"#000000\",\"width\":2},\"opacity\":1,\"size\":10},\"mode\":\"markers\",\"x\":[-20],\"y\":[-202],\"type\":\"scatter\"},{\"line\":{\"color\":\"red\",\"width\":2},\"mode\":\"lines\",\"name\":\"Geno Smith motion path\",\"x\":[],\"y\":[],\"type\":\"scatter\"},{\"marker\":{\"color\":\"#ffffff\",\"line\":{\"color\":\"#000000\",\"width\":2},\"opacity\":1,\"size\":10},\"mode\":\"markers\",\"x\":[142],\"y\":[-102],\"type\":\"scatter\"},{\"line\":{\"color\":\"red\",\"width\":2},\"mode\":\"lines\",\"name\":\"Gabe Jackson motion path\",\"x\":[],\"y\":[],\"type\":\"scatter\"},{\"marker\":{\"color\":\"#ffffff\",\"line\":{\"color\":\"#000000\",\"width\":2},\"opacity\":1,\"size\":10},\"mode\":\"markers\",\"x\":[956],\"y\":[-34],\"type\":\"scatter\"},{\"line\":{\"color\":\"red\",\"width\":2},\"mode\":\"lines\",\"name\":\"Tyler Lockett motion path\",\"x\":[],\"y\":[],\"type\":\"scatter\"},{\"marker\":{\"color\":\"#ffffff\",\"line\":{\"color\":\"#000000\",\"width\":2},\"opacity\":1,\"size\":10},\"mode\":\"markers\",\"x\":[-10],\"y\":[-30],\"type\":\"scatter\"},{\"line\":{\"color\":\"red\",\"width\":2},\"mode\":\"lines\",\"name\":\"Austin Blythe motion path\",\"x\":[],\"y\":[],\"type\":\"scatter\"},{\"marker\":{\"color\":\"#ffffff\",\"line\":{\"color\":\"#000000\",\"width\":2},\"opacity\":1,\"size\":10},\"mode\":\"markers\",\"x\":[-7],\"y\":[-747],\"type\":\"scatter\"},{\"line\":{\"color\":\"red\",\"width\":2},\"mode\":\"lines\",\"name\":\"Rashaad Penny motion path\",\"x\":[],\"y\":[],\"type\":\"scatter\"},{\"marker\":{\"color\":\"#ff0000\",\"line\":{\"color\":\"#000000\",\"width\":2},\"opacity\":1,\"size\":10},\"mode\":\"markers\",\"x\":[-248],\"y\":[-470],\"type\":\"scatter\"},{\"line\":{\"color\":\"red\",\"width\":2},\"mode\":\"lines\",\"name\":\"Will Dissly motion path\",\"x\":[],\"y\":[],\"type\":\"scatter\"},{\"marker\":{\"color\":\"#ff0000\",\"line\":{\"color\":\"#000000\",\"width\":2},\"opacity\":1,\"size\":10},\"mode\":\"markers\",\"x\":[-454],\"y\":[-193],\"type\":\"scatter\"},{\"line\":{\"color\":\"red\",\"width\":2},\"mode\":\"lines\",\"name\":\"Noah Fant motion path\",\"x\":[],\"y\":[],\"type\":\"scatter\"},{\"marker\":{\"color\":\"#ffffff\",\"line\":{\"color\":\"#000000\",\"width\":2},\"opacity\":1,\"size\":10},\"mode\":\"markers\",\"x\":[-943],\"y\":[-100],\"type\":\"scatter\"},{\"line\":{\"color\":\"red\",\"width\":2},\"mode\":\"lines\",\"name\":\"DK Metcalf motion path\",\"x\":[],\"y\":[],\"type\":\"scatter\"},{\"marker\":{\"color\":\"#ffffff\",\"line\":{\"color\":\"#000000\",\"width\":2},\"opacity\":1,\"size\":10},\"mode\":\"markers\",\"x\":[-158],\"y\":[-89],\"type\":\"scatter\"},{\"line\":{\"color\":\"red\",\"width\":2},\"mode\":\"lines\",\"name\":\"Phil Haynes motion path\",\"x\":[],\"y\":[],\"type\":\"scatter\"},{\"marker\":{\"color\":\"#ffffff\",\"line\":{\"color\":\"#000000\",\"width\":2},\"opacity\":1,\"size\":10},\"mode\":\"markers\",\"x\":[-296],\"y\":[-122],\"type\":\"scatter\"},{\"line\":{\"color\":\"red\",\"width\":2},\"mode\":\"lines\",\"name\":\"Charles Cross motion path\",\"x\":[],\"y\":[],\"type\":\"scatter\"},{\"marker\":{\"color\":\"#ffffff\",\"line\":{\"color\":\"#000000\",\"width\":2},\"opacity\":1,\"size\":10},\"mode\":\"markers\",\"x\":[316],\"y\":[-99],\"type\":\"scatter\"},{\"line\":{\"color\":\"red\",\"width\":2},\"mode\":\"lines\",\"name\":\"Abraham Lucas motion path\",\"x\":[],\"y\":[],\"type\":\"scatter\"}],\"name\":\"54\"},{\"data\":[{\"marker\":{\"color\":\"#ffffff\",\"line\":{\"color\":\"#000000\",\"width\":2},\"opacity\":1,\"size\":10},\"mode\":\"markers\",\"x\":[-19],\"y\":[-190],\"type\":\"scatter\"},{\"line\":{\"color\":\"red\",\"width\":2},\"mode\":\"lines\",\"name\":\"Geno Smith motion path\",\"x\":[],\"y\":[],\"type\":\"scatter\"},{\"marker\":{\"color\":\"#ffffff\",\"line\":{\"color\":\"#000000\",\"width\":2},\"opacity\":1,\"size\":10},\"mode\":\"markers\",\"x\":[144],\"y\":[-99],\"type\":\"scatter\"},{\"line\":{\"color\":\"red\",\"width\":2},\"mode\":\"lines\",\"name\":\"Gabe Jackson motion path\",\"x\":[],\"y\":[],\"type\":\"scatter\"},{\"marker\":{\"color\":\"#ffffff\",\"line\":{\"color\":\"#000000\",\"width\":2},\"opacity\":1,\"size\":10},\"mode\":\"markers\",\"x\":[956],\"y\":[-34],\"type\":\"scatter\"},{\"line\":{\"color\":\"red\",\"width\":2},\"mode\":\"lines\",\"name\":\"Tyler Lockett motion path\",\"x\":[],\"y\":[],\"type\":\"scatter\"},{\"marker\":{\"color\":\"#ffffff\",\"line\":{\"color\":\"#000000\",\"width\":2},\"opacity\":1,\"size\":10},\"mode\":\"markers\",\"x\":[-9],\"y\":[-30],\"type\":\"scatter\"},{\"line\":{\"color\":\"red\",\"width\":2},\"mode\":\"lines\",\"name\":\"Austin Blythe motion path\",\"x\":[],\"y\":[],\"type\":\"scatter\"},{\"marker\":{\"color\":\"#ffffff\",\"line\":{\"color\":\"#000000\",\"width\":2},\"opacity\":1,\"size\":10},\"mode\":\"markers\",\"x\":[-6],\"y\":[-746],\"type\":\"scatter\"},{\"line\":{\"color\":\"red\",\"width\":2},\"mode\":\"lines\",\"name\":\"Rashaad Penny motion path\",\"x\":[],\"y\":[],\"type\":\"scatter\"},{\"marker\":{\"color\":\"#ff0000\",\"line\":{\"color\":\"#000000\",\"width\":2},\"opacity\":1,\"size\":10},\"mode\":\"markers\",\"x\":[-248],\"y\":[-470],\"type\":\"scatter\"},{\"line\":{\"color\":\"red\",\"width\":2},\"mode\":\"lines\",\"name\":\"Will Dissly motion path\",\"x\":[],\"y\":[],\"type\":\"scatter\"},{\"marker\":{\"color\":\"#ff0000\",\"line\":{\"color\":\"#000000\",\"width\":2},\"opacity\":1,\"size\":10},\"mode\":\"markers\",\"x\":[-456],\"y\":[-193],\"type\":\"scatter\"},{\"line\":{\"color\":\"red\",\"width\":2},\"mode\":\"lines\",\"name\":\"Noah Fant motion path\",\"x\":[],\"y\":[],\"type\":\"scatter\"},{\"marker\":{\"color\":\"#ffffff\",\"line\":{\"color\":\"#000000\",\"width\":2},\"opacity\":1,\"size\":10},\"mode\":\"markers\",\"x\":[-943],\"y\":[-99],\"type\":\"scatter\"},{\"line\":{\"color\":\"red\",\"width\":2},\"mode\":\"lines\",\"name\":\"DK Metcalf motion path\",\"x\":[],\"y\":[],\"type\":\"scatter\"},{\"marker\":{\"color\":\"#ffffff\",\"line\":{\"color\":\"#000000\",\"width\":2},\"opacity\":1,\"size\":10},\"mode\":\"markers\",\"x\":[-158],\"y\":[-90],\"type\":\"scatter\"},{\"line\":{\"color\":\"red\",\"width\":2},\"mode\":\"lines\",\"name\":\"Phil Haynes motion path\",\"x\":[],\"y\":[],\"type\":\"scatter\"},{\"marker\":{\"color\":\"#ffffff\",\"line\":{\"color\":\"#000000\",\"width\":2},\"opacity\":1,\"size\":10},\"mode\":\"markers\",\"x\":[-296],\"y\":[-122],\"type\":\"scatter\"},{\"line\":{\"color\":\"red\",\"width\":2},\"mode\":\"lines\",\"name\":\"Charles Cross motion path\",\"x\":[],\"y\":[],\"type\":\"scatter\"},{\"marker\":{\"color\":\"#ffffff\",\"line\":{\"color\":\"#000000\",\"width\":2},\"opacity\":1,\"size\":10},\"mode\":\"markers\",\"x\":[315],\"y\":[-99],\"type\":\"scatter\"},{\"line\":{\"color\":\"red\",\"width\":2},\"mode\":\"lines\",\"name\":\"Abraham Lucas motion path\",\"x\":[],\"y\":[],\"type\":\"scatter\"}],\"name\":\"55\"},{\"data\":[{\"marker\":{\"color\":\"#ffffff\",\"line\":{\"color\":\"#000000\",\"width\":2},\"opacity\":1,\"size\":10},\"mode\":\"markers\",\"x\":[-18],\"y\":[-179],\"type\":\"scatter\"},{\"line\":{\"color\":\"red\",\"width\":2},\"mode\":\"lines\",\"name\":\"Geno Smith motion path\",\"x\":[],\"y\":[],\"type\":\"scatter\"},{\"marker\":{\"color\":\"#ffffff\",\"line\":{\"color\":\"#000000\",\"width\":2},\"opacity\":1,\"size\":10},\"mode\":\"markers\",\"x\":[146],\"y\":[-97],\"type\":\"scatter\"},{\"line\":{\"color\":\"red\",\"width\":2},\"mode\":\"lines\",\"name\":\"Gabe Jackson motion path\",\"x\":[],\"y\":[],\"type\":\"scatter\"},{\"marker\":{\"color\":\"#ffffff\",\"line\":{\"color\":\"#000000\",\"width\":2},\"opacity\":1,\"size\":10},\"mode\":\"markers\",\"x\":[957],\"y\":[-34],\"type\":\"scatter\"},{\"line\":{\"color\":\"red\",\"width\":2},\"mode\":\"lines\",\"name\":\"Tyler Lockett motion path\",\"x\":[],\"y\":[],\"type\":\"scatter\"},{\"marker\":{\"color\":\"#ffffff\",\"line\":{\"color\":\"#000000\",\"width\":2},\"opacity\":1,\"size\":10},\"mode\":\"markers\",\"x\":[-8],\"y\":[-31],\"type\":\"scatter\"},{\"line\":{\"color\":\"red\",\"width\":2},\"mode\":\"lines\",\"name\":\"Austin Blythe motion path\",\"x\":[],\"y\":[],\"type\":\"scatter\"},{\"marker\":{\"color\":\"#ffffff\",\"line\":{\"color\":\"#000000\",\"width\":2},\"opacity\":1,\"size\":10},\"mode\":\"markers\",\"x\":[-6],\"y\":[-745],\"type\":\"scatter\"},{\"line\":{\"color\":\"red\",\"width\":2},\"mode\":\"lines\",\"name\":\"Rashaad Penny motion path\",\"x\":[],\"y\":[],\"type\":\"scatter\"},{\"marker\":{\"color\":\"#ff0000\",\"line\":{\"color\":\"#000000\",\"width\":2},\"opacity\":1,\"size\":10},\"mode\":\"markers\",\"x\":[-249],\"y\":[-468],\"type\":\"scatter\"},{\"line\":{\"color\":\"red\",\"width\":2},\"mode\":\"lines\",\"name\":\"Will Dissly motion path\",\"x\":[],\"y\":[],\"type\":\"scatter\"},{\"marker\":{\"color\":\"#ff0000\",\"line\":{\"color\":\"#000000\",\"width\":2},\"opacity\":1,\"size\":10},\"mode\":\"markers\",\"x\":[-456],\"y\":[-193],\"type\":\"scatter\"},{\"line\":{\"color\":\"red\",\"width\":2},\"mode\":\"lines\",\"name\":\"Noah Fant motion path\",\"x\":[],\"y\":[],\"type\":\"scatter\"},{\"marker\":{\"color\":\"#ffffff\",\"line\":{\"color\":\"#000000\",\"width\":2},\"opacity\":1,\"size\":10},\"mode\":\"markers\",\"x\":[-941],\"y\":[-98],\"type\":\"scatter\"},{\"line\":{\"color\":\"red\",\"width\":2},\"mode\":\"lines\",\"name\":\"DK Metcalf motion path\",\"x\":[],\"y\":[],\"type\":\"scatter\"},{\"marker\":{\"color\":\"#ffffff\",\"line\":{\"color\":\"#000000\",\"width\":2},\"opacity\":1,\"size\":10},\"mode\":\"markers\",\"x\":[-158],\"y\":[-90],\"type\":\"scatter\"},{\"line\":{\"color\":\"red\",\"width\":2},\"mode\":\"lines\",\"name\":\"Phil Haynes motion path\",\"x\":[],\"y\":[],\"type\":\"scatter\"},{\"marker\":{\"color\":\"#ffffff\",\"line\":{\"color\":\"#000000\",\"width\":2},\"opacity\":1,\"size\":10},\"mode\":\"markers\",\"x\":[-296],\"y\":[-121],\"type\":\"scatter\"},{\"line\":{\"color\":\"red\",\"width\":2},\"mode\":\"lines\",\"name\":\"Charles Cross motion path\",\"x\":[],\"y\":[],\"type\":\"scatter\"},{\"marker\":{\"color\":\"#ffffff\",\"line\":{\"color\":\"#000000\",\"width\":2},\"opacity\":1,\"size\":10},\"mode\":\"markers\",\"x\":[314],\"y\":[-98],\"type\":\"scatter\"},{\"line\":{\"color\":\"red\",\"width\":2},\"mode\":\"lines\",\"name\":\"Abraham Lucas motion path\",\"x\":[],\"y\":[],\"type\":\"scatter\"}],\"name\":\"56\"},{\"data\":[{\"marker\":{\"color\":\"#ffffff\",\"line\":{\"color\":\"#000000\",\"width\":2},\"opacity\":1,\"size\":10},\"mode\":\"markers\",\"x\":[-17],\"y\":[-170],\"type\":\"scatter\"},{\"line\":{\"color\":\"red\",\"width\":2},\"mode\":\"lines\",\"name\":\"Geno Smith motion path\",\"x\":[],\"y\":[],\"type\":\"scatter\"},{\"marker\":{\"color\":\"#ffffff\",\"line\":{\"color\":\"#000000\",\"width\":2},\"opacity\":1,\"size\":10},\"mode\":\"markers\",\"x\":[148],\"y\":[-95],\"type\":\"scatter\"},{\"line\":{\"color\":\"red\",\"width\":2},\"mode\":\"lines\",\"name\":\"Gabe Jackson motion path\",\"x\":[],\"y\":[],\"type\":\"scatter\"},{\"marker\":{\"color\":\"#ffffff\",\"line\":{\"color\":\"#000000\",\"width\":2},\"opacity\":1,\"size\":10},\"mode\":\"markers\",\"x\":[958],\"y\":[-32],\"type\":\"scatter\"},{\"line\":{\"color\":\"red\",\"width\":2},\"mode\":\"lines\",\"name\":\"Tyler Lockett motion path\",\"x\":[],\"y\":[],\"type\":\"scatter\"},{\"marker\":{\"color\":\"#ffffff\",\"line\":{\"color\":\"#000000\",\"width\":2},\"opacity\":1,\"size\":10},\"mode\":\"markers\",\"x\":[-8],\"y\":[-32],\"type\":\"scatter\"},{\"line\":{\"color\":\"red\",\"width\":2},\"mode\":\"lines\",\"name\":\"Austin Blythe motion path\",\"x\":[],\"y\":[],\"type\":\"scatter\"},{\"marker\":{\"color\":\"#ffffff\",\"line\":{\"color\":\"#000000\",\"width\":2},\"opacity\":1,\"size\":10},\"mode\":\"markers\",\"x\":[-4],\"y\":[-745],\"type\":\"scatter\"},{\"line\":{\"color\":\"red\",\"width\":2},\"mode\":\"lines\",\"name\":\"Rashaad Penny motion path\",\"x\":[],\"y\":[],\"type\":\"scatter\"},{\"marker\":{\"color\":\"#ff0000\",\"line\":{\"color\":\"#000000\",\"width\":2},\"opacity\":1,\"size\":10},\"mode\":\"markers\",\"x\":[-249],\"y\":[-468],\"type\":\"scatter\"},{\"line\":{\"color\":\"red\",\"width\":2},\"mode\":\"lines\",\"name\":\"Will Dissly motion path\",\"x\":[],\"y\":[],\"type\":\"scatter\"},{\"marker\":{\"color\":\"#ff0000\",\"line\":{\"color\":\"#000000\",\"width\":2},\"opacity\":1,\"size\":10},\"mode\":\"markers\",\"x\":[-456],\"y\":[-193],\"type\":\"scatter\"},{\"line\":{\"color\":\"red\",\"width\":2},\"mode\":\"lines\",\"name\":\"Noah Fant motion path\",\"x\":[],\"y\":[],\"type\":\"scatter\"},{\"marker\":{\"color\":\"#ffffff\",\"line\":{\"color\":\"#000000\",\"width\":2},\"opacity\":1,\"size\":10},\"mode\":\"markers\",\"x\":[-941],\"y\":[-97],\"type\":\"scatter\"},{\"line\":{\"color\":\"red\",\"width\":2},\"mode\":\"lines\",\"name\":\"DK Metcalf motion path\",\"x\":[],\"y\":[],\"type\":\"scatter\"},{\"marker\":{\"color\":\"#ffffff\",\"line\":{\"color\":\"#000000\",\"width\":2},\"opacity\":1,\"size\":10},\"mode\":\"markers\",\"x\":[-157],\"y\":[-91],\"type\":\"scatter\"},{\"line\":{\"color\":\"red\",\"width\":2},\"mode\":\"lines\",\"name\":\"Phil Haynes motion path\",\"x\":[],\"y\":[],\"type\":\"scatter\"},{\"marker\":{\"color\":\"#ffffff\",\"line\":{\"color\":\"#000000\",\"width\":2},\"opacity\":1,\"size\":10},\"mode\":\"markers\",\"x\":[-296],\"y\":[-121],\"type\":\"scatter\"},{\"line\":{\"color\":\"red\",\"width\":2},\"mode\":\"lines\",\"name\":\"Charles Cross motion path\",\"x\":[],\"y\":[],\"type\":\"scatter\"},{\"marker\":{\"color\":\"#ffffff\",\"line\":{\"color\":\"#000000\",\"width\":2},\"opacity\":1,\"size\":10},\"mode\":\"markers\",\"x\":[314],\"y\":[-97],\"type\":\"scatter\"},{\"line\":{\"color\":\"red\",\"width\":2},\"mode\":\"lines\",\"name\":\"Abraham Lucas motion path\",\"x\":[],\"y\":[],\"type\":\"scatter\"}],\"name\":\"57\"},{\"data\":[{\"marker\":{\"color\":\"#ffffff\",\"line\":{\"color\":\"#000000\",\"width\":2},\"opacity\":1,\"size\":10},\"mode\":\"markers\",\"x\":[-15],\"y\":[-160],\"type\":\"scatter\"},{\"line\":{\"color\":\"red\",\"width\":2},\"mode\":\"lines\",\"name\":\"Geno Smith motion path\",\"x\":[],\"y\":[],\"type\":\"scatter\"},{\"marker\":{\"color\":\"#ffffff\",\"line\":{\"color\":\"#000000\",\"width\":2},\"opacity\":1,\"size\":10},\"mode\":\"markers\",\"x\":[150],\"y\":[-93],\"type\":\"scatter\"},{\"line\":{\"color\":\"red\",\"width\":2},\"mode\":\"lines\",\"name\":\"Gabe Jackson motion path\",\"x\":[],\"y\":[],\"type\":\"scatter\"},{\"marker\":{\"color\":\"#ffffff\",\"line\":{\"color\":\"#000000\",\"width\":2},\"opacity\":1,\"size\":10},\"mode\":\"markers\",\"x\":[959],\"y\":[-31],\"type\":\"scatter\"},{\"line\":{\"color\":\"red\",\"width\":2},\"mode\":\"lines\",\"name\":\"Tyler Lockett motion path\",\"x\":[],\"y\":[],\"type\":\"scatter\"},{\"marker\":{\"color\":\"#ffffff\",\"line\":{\"color\":\"#000000\",\"width\":2},\"opacity\":1,\"size\":10},\"mode\":\"markers\",\"x\":[-8],\"y\":[-32],\"type\":\"scatter\"},{\"line\":{\"color\":\"red\",\"width\":2},\"mode\":\"lines\",\"name\":\"Austin Blythe motion path\",\"x\":[],\"y\":[],\"type\":\"scatter\"},{\"marker\":{\"color\":\"#ffffff\",\"line\":{\"color\":\"#000000\",\"width\":2},\"opacity\":1,\"size\":10},\"mode\":\"markers\",\"x\":[-3],\"y\":[-745],\"type\":\"scatter\"},{\"line\":{\"color\":\"red\",\"width\":2},\"mode\":\"lines\",\"name\":\"Rashaad Penny motion path\",\"x\":[],\"y\":[],\"type\":\"scatter\"},{\"marker\":{\"color\":\"#ff0000\",\"line\":{\"color\":\"#000000\",\"width\":2},\"opacity\":1,\"size\":10},\"mode\":\"markers\",\"x\":[-249],\"y\":[-468],\"type\":\"scatter\"},{\"line\":{\"color\":\"red\",\"width\":2},\"mode\":\"lines\",\"name\":\"Will Dissly motion path\",\"x\":[],\"y\":[],\"type\":\"scatter\"},{\"marker\":{\"color\":\"#ff0000\",\"line\":{\"color\":\"#000000\",\"width\":2},\"opacity\":1,\"size\":10},\"mode\":\"markers\",\"x\":[-456],\"y\":[-192],\"type\":\"scatter\"},{\"line\":{\"color\":\"red\",\"width\":2},\"mode\":\"lines\",\"name\":\"Noah Fant motion path\",\"x\":[],\"y\":[],\"type\":\"scatter\"},{\"marker\":{\"color\":\"#ffffff\",\"line\":{\"color\":\"#000000\",\"width\":2},\"opacity\":1,\"size\":10},\"mode\":\"markers\",\"x\":[-941],\"y\":[-96],\"type\":\"scatter\"},{\"line\":{\"color\":\"red\",\"width\":2},\"mode\":\"lines\",\"name\":\"DK Metcalf motion path\",\"x\":[],\"y\":[],\"type\":\"scatter\"},{\"marker\":{\"color\":\"#ffffff\",\"line\":{\"color\":\"#000000\",\"width\":2},\"opacity\":1,\"size\":10},\"mode\":\"markers\",\"x\":[-157],\"y\":[-91],\"type\":\"scatter\"},{\"line\":{\"color\":\"red\",\"width\":2},\"mode\":\"lines\",\"name\":\"Phil Haynes motion path\",\"x\":[],\"y\":[],\"type\":\"scatter\"},{\"marker\":{\"color\":\"#ffffff\",\"line\":{\"color\":\"#000000\",\"width\":2},\"opacity\":1,\"size\":10},\"mode\":\"markers\",\"x\":[-296],\"y\":[-121],\"type\":\"scatter\"},{\"line\":{\"color\":\"red\",\"width\":2},\"mode\":\"lines\",\"name\":\"Charles Cross motion path\",\"x\":[],\"y\":[],\"type\":\"scatter\"},{\"marker\":{\"color\":\"#ffffff\",\"line\":{\"color\":\"#000000\",\"width\":2},\"opacity\":1,\"size\":10},\"mode\":\"markers\",\"x\":[314],\"y\":[-97],\"type\":\"scatter\"},{\"line\":{\"color\":\"red\",\"width\":2},\"mode\":\"lines\",\"name\":\"Abraham Lucas motion path\",\"x\":[],\"y\":[],\"type\":\"scatter\"}],\"name\":\"58\"},{\"data\":[{\"marker\":{\"color\":\"#ffffff\",\"line\":{\"color\":\"#000000\",\"width\":2},\"opacity\":1,\"size\":10},\"mode\":\"markers\",\"x\":[-12],\"y\":[-152],\"type\":\"scatter\"},{\"line\":{\"color\":\"red\",\"width\":2},\"mode\":\"lines\",\"name\":\"Geno Smith motion path\",\"x\":[],\"y\":[],\"type\":\"scatter\"},{\"marker\":{\"color\":\"#ffffff\",\"line\":{\"color\":\"#000000\",\"width\":2},\"opacity\":1,\"size\":10},\"mode\":\"markers\",\"x\":[152],\"y\":[-92],\"type\":\"scatter\"},{\"line\":{\"color\":\"red\",\"width\":2},\"mode\":\"lines\",\"name\":\"Gabe Jackson motion path\",\"x\":[],\"y\":[],\"type\":\"scatter\"},{\"marker\":{\"color\":\"#ffffff\",\"line\":{\"color\":\"#000000\",\"width\":2},\"opacity\":1,\"size\":10},\"mode\":\"markers\",\"x\":[959],\"y\":[-31],\"type\":\"scatter\"},{\"line\":{\"color\":\"red\",\"width\":2},\"mode\":\"lines\",\"name\":\"Tyler Lockett motion path\",\"x\":[],\"y\":[],\"type\":\"scatter\"},{\"marker\":{\"color\":\"#ffffff\",\"line\":{\"color\":\"#000000\",\"width\":2},\"opacity\":1,\"size\":10},\"mode\":\"markers\",\"x\":[-9],\"y\":[-32],\"type\":\"scatter\"},{\"line\":{\"color\":\"red\",\"width\":2},\"mode\":\"lines\",\"name\":\"Austin Blythe motion path\",\"x\":[],\"y\":[],\"type\":\"scatter\"},{\"marker\":{\"color\":\"#ffffff\",\"line\":{\"color\":\"#000000\",\"width\":2},\"opacity\":1,\"size\":10},\"mode\":\"markers\",\"x\":[-2],\"y\":[-743],\"type\":\"scatter\"},{\"line\":{\"color\":\"red\",\"width\":2},\"mode\":\"lines\",\"name\":\"Rashaad Penny motion path\",\"x\":[],\"y\":[],\"type\":\"scatter\"},{\"marker\":{\"color\":\"#ff0000\",\"line\":{\"color\":\"#000000\",\"width\":2},\"opacity\":1,\"size\":10},\"mode\":\"markers\",\"x\":[-249],\"y\":[-468],\"type\":\"scatter\"},{\"line\":{\"color\":\"red\",\"width\":2},\"mode\":\"lines\",\"name\":\"Will Dissly motion path\",\"x\":[],\"y\":[],\"type\":\"scatter\"},{\"marker\":{\"color\":\"#ff0000\",\"line\":{\"color\":\"#000000\",\"width\":2},\"opacity\":1,\"size\":10},\"mode\":\"markers\",\"x\":[-457],\"y\":[-191],\"type\":\"scatter\"},{\"line\":{\"color\":\"red\",\"width\":2},\"mode\":\"lines\",\"name\":\"Noah Fant motion path\",\"x\":[],\"y\":[],\"type\":\"scatter\"},{\"marker\":{\"color\":\"#ffffff\",\"line\":{\"color\":\"#000000\",\"width\":2},\"opacity\":1,\"size\":10},\"mode\":\"markers\",\"x\":[-941],\"y\":[-96],\"type\":\"scatter\"},{\"line\":{\"color\":\"red\",\"width\":2},\"mode\":\"lines\",\"name\":\"DK Metcalf motion path\",\"x\":[],\"y\":[],\"type\":\"scatter\"},{\"marker\":{\"color\":\"#ffffff\",\"line\":{\"color\":\"#000000\",\"width\":2},\"opacity\":1,\"size\":10},\"mode\":\"markers\",\"x\":[-156],\"y\":[-92],\"type\":\"scatter\"},{\"line\":{\"color\":\"red\",\"width\":2},\"mode\":\"lines\",\"name\":\"Phil Haynes motion path\",\"x\":[],\"y\":[],\"type\":\"scatter\"},{\"marker\":{\"color\":\"#ffffff\",\"line\":{\"color\":\"#000000\",\"width\":2},\"opacity\":1,\"size\":10},\"mode\":\"markers\",\"x\":[-295],\"y\":[-121],\"type\":\"scatter\"},{\"line\":{\"color\":\"red\",\"width\":2},\"mode\":\"lines\",\"name\":\"Charles Cross motion path\",\"x\":[],\"y\":[],\"type\":\"scatter\"},{\"marker\":{\"color\":\"#ffffff\",\"line\":{\"color\":\"#000000\",\"width\":2},\"opacity\":1,\"size\":10},\"mode\":\"markers\",\"x\":[315],\"y\":[-97],\"type\":\"scatter\"},{\"line\":{\"color\":\"red\",\"width\":2},\"mode\":\"lines\",\"name\":\"Abraham Lucas motion path\",\"x\":[],\"y\":[],\"type\":\"scatter\"}],\"name\":\"59\"},{\"data\":[{\"marker\":{\"color\":\"#ffffff\",\"line\":{\"color\":\"#000000\",\"width\":2},\"opacity\":1,\"size\":10},\"mode\":\"markers\",\"x\":[-9],\"y\":[-145],\"type\":\"scatter\"},{\"line\":{\"color\":\"red\",\"width\":2},\"mode\":\"lines\",\"name\":\"Geno Smith motion path\",\"x\":[],\"y\":[],\"type\":\"scatter\"},{\"marker\":{\"color\":\"#ffffff\",\"line\":{\"color\":\"#000000\",\"width\":2},\"opacity\":1,\"size\":10},\"mode\":\"markers\",\"x\":[153],\"y\":[-90],\"type\":\"scatter\"},{\"line\":{\"color\":\"red\",\"width\":2},\"mode\":\"lines\",\"name\":\"Gabe Jackson motion path\",\"x\":[],\"y\":[],\"type\":\"scatter\"},{\"marker\":{\"color\":\"#ffffff\",\"line\":{\"color\":\"#000000\",\"width\":2},\"opacity\":1,\"size\":10},\"mode\":\"markers\",\"x\":[960],\"y\":[-30],\"type\":\"scatter\"},{\"line\":{\"color\":\"red\",\"width\":2},\"mode\":\"lines\",\"name\":\"Tyler Lockett motion path\",\"x\":[],\"y\":[],\"type\":\"scatter\"},{\"marker\":{\"color\":\"#ffffff\",\"line\":{\"color\":\"#000000\",\"width\":2},\"opacity\":1,\"size\":10},\"mode\":\"markers\",\"x\":[-9],\"y\":[-34],\"type\":\"scatter\"},{\"line\":{\"color\":\"red\",\"width\":2},\"mode\":\"lines\",\"name\":\"Austin Blythe motion path\",\"x\":[],\"y\":[],\"type\":\"scatter\"},{\"marker\":{\"color\":\"#ffffff\",\"line\":{\"color\":\"#000000\",\"width\":2},\"opacity\":1,\"size\":10},\"mode\":\"markers\",\"x\":[-2],\"y\":[-743],\"type\":\"scatter\"},{\"line\":{\"color\":\"red\",\"width\":2},\"mode\":\"lines\",\"name\":\"Rashaad Penny motion path\",\"x\":[],\"y\":[],\"type\":\"scatter\"},{\"marker\":{\"color\":\"#ff0000\",\"line\":{\"color\":\"#000000\",\"width\":2},\"opacity\":1,\"size\":10},\"mode\":\"markers\",\"x\":[-249],\"y\":[-468],\"type\":\"scatter\"},{\"line\":{\"color\":\"red\",\"width\":2},\"mode\":\"lines\",\"name\":\"Will Dissly motion path\",\"x\":[],\"y\":[],\"type\":\"scatter\"},{\"marker\":{\"color\":\"#ff0000\",\"line\":{\"color\":\"#000000\",\"width\":2},\"opacity\":1,\"size\":10},\"mode\":\"markers\",\"x\":[-456],\"y\":[-191],\"type\":\"scatter\"},{\"line\":{\"color\":\"red\",\"width\":2},\"mode\":\"lines\",\"name\":\"Noah Fant motion path\",\"x\":[],\"y\":[],\"type\":\"scatter\"},{\"marker\":{\"color\":\"#ffffff\",\"line\":{\"color\":\"#000000\",\"width\":2},\"opacity\":1,\"size\":10},\"mode\":\"markers\",\"x\":[-941],\"y\":[-96],\"type\":\"scatter\"},{\"line\":{\"color\":\"red\",\"width\":2},\"mode\":\"lines\",\"name\":\"DK Metcalf motion path\",\"x\":[],\"y\":[],\"type\":\"scatter\"},{\"marker\":{\"color\":\"#ffffff\",\"line\":{\"color\":\"#000000\",\"width\":2},\"opacity\":1,\"size\":10},\"mode\":\"markers\",\"x\":[-155],\"y\":[-92],\"type\":\"scatter\"},{\"line\":{\"color\":\"red\",\"width\":2},\"mode\":\"lines\",\"name\":\"Phil Haynes motion path\",\"x\":[],\"y\":[],\"type\":\"scatter\"},{\"marker\":{\"color\":\"#ffffff\",\"line\":{\"color\":\"#000000\",\"width\":2},\"opacity\":1,\"size\":10},\"mode\":\"markers\",\"x\":[-295],\"y\":[-122],\"type\":\"scatter\"},{\"line\":{\"color\":\"red\",\"width\":2},\"mode\":\"lines\",\"name\":\"Charles Cross motion path\",\"x\":[],\"y\":[],\"type\":\"scatter\"},{\"marker\":{\"color\":\"#ffffff\",\"line\":{\"color\":\"#000000\",\"width\":2},\"opacity\":1,\"size\":10},\"mode\":\"markers\",\"x\":[315],\"y\":[-97],\"type\":\"scatter\"},{\"line\":{\"color\":\"red\",\"width\":2},\"mode\":\"lines\",\"name\":\"Abraham Lucas motion path\",\"x\":[],\"y\":[],\"type\":\"scatter\"}],\"name\":\"60\"},{\"data\":[{\"marker\":{\"color\":\"#ffffff\",\"line\":{\"color\":\"#000000\",\"width\":2},\"opacity\":1,\"size\":10},\"mode\":\"markers\",\"x\":[-6],\"y\":[-140],\"type\":\"scatter\"},{\"line\":{\"color\":\"red\",\"width\":2},\"mode\":\"lines\",\"name\":\"Geno Smith motion path\",\"x\":[],\"y\":[],\"type\":\"scatter\"},{\"marker\":{\"color\":\"#ffffff\",\"line\":{\"color\":\"#000000\",\"width\":2},\"opacity\":1,\"size\":10},\"mode\":\"markers\",\"x\":[155],\"y\":[-89],\"type\":\"scatter\"},{\"line\":{\"color\":\"red\",\"width\":2},\"mode\":\"lines\",\"name\":\"Gabe Jackson motion path\",\"x\":[],\"y\":[],\"type\":\"scatter\"},{\"marker\":{\"color\":\"#ffffff\",\"line\":{\"color\":\"#000000\",\"width\":2},\"opacity\":1,\"size\":10},\"mode\":\"markers\",\"x\":[960],\"y\":[-30],\"type\":\"scatter\"},{\"line\":{\"color\":\"red\",\"width\":2},\"mode\":\"lines\",\"name\":\"Tyler Lockett motion path\",\"x\":[],\"y\":[],\"type\":\"scatter\"},{\"marker\":{\"color\":\"#ffffff\",\"line\":{\"color\":\"#000000\",\"width\":2},\"opacity\":1,\"size\":10},\"mode\":\"markers\",\"x\":[-10],\"y\":[-32],\"type\":\"scatter\"},{\"line\":{\"color\":\"red\",\"width\":2},\"mode\":\"lines\",\"name\":\"Austin Blythe motion path\",\"x\":[],\"y\":[],\"type\":\"scatter\"},{\"marker\":{\"color\":\"#ffffff\",\"line\":{\"color\":\"#000000\",\"width\":2},\"opacity\":1,\"size\":10},\"mode\":\"markers\",\"x\":[-1],\"y\":[-743],\"type\":\"scatter\"},{\"line\":{\"color\":\"red\",\"width\":2},\"mode\":\"lines\",\"name\":\"Rashaad Penny motion path\",\"x\":[],\"y\":[],\"type\":\"scatter\"},{\"marker\":{\"color\":\"#ff0000\",\"line\":{\"color\":\"#000000\",\"width\":2},\"opacity\":1,\"size\":10},\"mode\":\"markers\",\"x\":[-249],\"y\":[-467],\"type\":\"scatter\"},{\"line\":{\"color\":\"red\",\"width\":2},\"mode\":\"lines\",\"name\":\"Will Dissly motion path\",\"x\":[],\"y\":[],\"type\":\"scatter\"},{\"marker\":{\"color\":\"#ff0000\",\"line\":{\"color\":\"#000000\",\"width\":2},\"opacity\":1,\"size\":10},\"mode\":\"markers\",\"x\":[-456],\"y\":[-191],\"type\":\"scatter\"},{\"line\":{\"color\":\"red\",\"width\":2},\"mode\":\"lines\",\"name\":\"Noah Fant motion path\",\"x\":[],\"y\":[],\"type\":\"scatter\"},{\"marker\":{\"color\":\"#ffffff\",\"line\":{\"color\":\"#000000\",\"width\":2},\"opacity\":1,\"size\":10},\"mode\":\"markers\",\"x\":[-941],\"y\":[-95],\"type\":\"scatter\"},{\"line\":{\"color\":\"red\",\"width\":2},\"mode\":\"lines\",\"name\":\"DK Metcalf motion path\",\"x\":[],\"y\":[],\"type\":\"scatter\"},{\"marker\":{\"color\":\"#ffffff\",\"line\":{\"color\":\"#000000\",\"width\":2},\"opacity\":1,\"size\":10},\"mode\":\"markers\",\"x\":[-155],\"y\":[-92],\"type\":\"scatter\"},{\"line\":{\"color\":\"red\",\"width\":2},\"mode\":\"lines\",\"name\":\"Phil Haynes motion path\",\"x\":[],\"y\":[],\"type\":\"scatter\"},{\"marker\":{\"color\":\"#ffffff\",\"line\":{\"color\":\"#000000\",\"width\":2},\"opacity\":1,\"size\":10},\"mode\":\"markers\",\"x\":[-294],\"y\":[-121],\"type\":\"scatter\"},{\"line\":{\"color\":\"red\",\"width\":2},\"mode\":\"lines\",\"name\":\"Charles Cross motion path\",\"x\":[],\"y\":[],\"type\":\"scatter\"},{\"marker\":{\"color\":\"#ffffff\",\"line\":{\"color\":\"#000000\",\"width\":2},\"opacity\":1,\"size\":10},\"mode\":\"markers\",\"x\":[315],\"y\":[-97],\"type\":\"scatter\"},{\"line\":{\"color\":\"red\",\"width\":2},\"mode\":\"lines\",\"name\":\"Abraham Lucas motion path\",\"x\":[],\"y\":[],\"type\":\"scatter\"}],\"name\":\"61\"},{\"data\":[{\"marker\":{\"color\":\"#ffffff\",\"line\":{\"color\":\"#000000\",\"width\":2},\"opacity\":1,\"size\":10},\"mode\":\"markers\",\"x\":[-4],\"y\":[-135],\"type\":\"scatter\"},{\"line\":{\"color\":\"red\",\"width\":2},\"mode\":\"lines\",\"name\":\"Geno Smith motion path\",\"x\":[],\"y\":[],\"type\":\"scatter\"},{\"marker\":{\"color\":\"#ffffff\",\"line\":{\"color\":\"#000000\",\"width\":2},\"opacity\":1,\"size\":10},\"mode\":\"markers\",\"x\":[156],\"y\":[-88],\"type\":\"scatter\"},{\"line\":{\"color\":\"red\",\"width\":2},\"mode\":\"lines\",\"name\":\"Gabe Jackson motion path\",\"x\":[],\"y\":[],\"type\":\"scatter\"},{\"marker\":{\"color\":\"#ffffff\",\"line\":{\"color\":\"#000000\",\"width\":2},\"opacity\":1,\"size\":10},\"mode\":\"markers\",\"x\":[960],\"y\":[-30],\"type\":\"scatter\"},{\"line\":{\"color\":\"red\",\"width\":2},\"mode\":\"lines\",\"name\":\"Tyler Lockett motion path\",\"x\":[],\"y\":[],\"type\":\"scatter\"},{\"marker\":{\"color\":\"#ffffff\",\"line\":{\"color\":\"#000000\",\"width\":2},\"opacity\":1,\"size\":10},\"mode\":\"markers\",\"x\":[-11],\"y\":[-31],\"type\":\"scatter\"},{\"line\":{\"color\":\"red\",\"width\":2},\"mode\":\"lines\",\"name\":\"Austin Blythe motion path\",\"x\":[],\"y\":[],\"type\":\"scatter\"},{\"marker\":{\"color\":\"#ffffff\",\"line\":{\"color\":\"#000000\",\"width\":2},\"opacity\":1,\"size\":10},\"mode\":\"markers\",\"x\":[0],\"y\":[-743],\"type\":\"scatter\"},{\"line\":{\"color\":\"red\",\"width\":2},\"mode\":\"lines\",\"name\":\"Rashaad Penny motion path\",\"x\":[],\"y\":[],\"type\":\"scatter\"},{\"marker\":{\"color\":\"#ff0000\",\"line\":{\"color\":\"#000000\",\"width\":2},\"opacity\":1,\"size\":10},\"mode\":\"markers\",\"x\":[-247],\"y\":[-467],\"type\":\"scatter\"},{\"line\":{\"color\":\"red\",\"width\":2},\"mode\":\"lines\",\"name\":\"Will Dissly motion path\",\"x\":[],\"y\":[],\"type\":\"scatter\"},{\"marker\":{\"color\":\"#ff0000\",\"line\":{\"color\":\"#000000\",\"width\":2},\"opacity\":1,\"size\":10},\"mode\":\"markers\",\"x\":[-456],\"y\":[-191],\"type\":\"scatter\"},{\"line\":{\"color\":\"red\",\"width\":2},\"mode\":\"lines\",\"name\":\"Noah Fant motion path\",\"x\":[],\"y\":[],\"type\":\"scatter\"},{\"marker\":{\"color\":\"#ffffff\",\"line\":{\"color\":\"#000000\",\"width\":2},\"opacity\":1,\"size\":10},\"mode\":\"markers\",\"x\":[-941],\"y\":[-95],\"type\":\"scatter\"},{\"line\":{\"color\":\"red\",\"width\":2},\"mode\":\"lines\",\"name\":\"DK Metcalf motion path\",\"x\":[],\"y\":[],\"type\":\"scatter\"},{\"marker\":{\"color\":\"#ffffff\",\"line\":{\"color\":\"#000000\",\"width\":2},\"opacity\":1,\"size\":10},\"mode\":\"markers\",\"x\":[-154],\"y\":[-92],\"type\":\"scatter\"},{\"line\":{\"color\":\"red\",\"width\":2},\"mode\":\"lines\",\"name\":\"Phil Haynes motion path\",\"x\":[],\"y\":[],\"type\":\"scatter\"},{\"marker\":{\"color\":\"#ffffff\",\"line\":{\"color\":\"#000000\",\"width\":2},\"opacity\":1,\"size\":10},\"mode\":\"markers\",\"x\":[-294],\"y\":[-121],\"type\":\"scatter\"},{\"line\":{\"color\":\"red\",\"width\":2},\"mode\":\"lines\",\"name\":\"Charles Cross motion path\",\"x\":[],\"y\":[],\"type\":\"scatter\"},{\"marker\":{\"color\":\"#ffffff\",\"line\":{\"color\":\"#000000\",\"width\":2},\"opacity\":1,\"size\":10},\"mode\":\"markers\",\"x\":[316],\"y\":[-97],\"type\":\"scatter\"},{\"line\":{\"color\":\"red\",\"width\":2},\"mode\":\"lines\",\"name\":\"Abraham Lucas motion path\",\"x\":[],\"y\":[],\"type\":\"scatter\"}],\"name\":\"62\"},{\"data\":[{\"marker\":{\"color\":\"#ffffff\",\"line\":{\"color\":\"#000000\",\"width\":2},\"opacity\":1,\"size\":10},\"mode\":\"markers\",\"x\":[-3],\"y\":[-135],\"type\":\"scatter\"},{\"line\":{\"color\":\"red\",\"width\":2},\"mode\":\"lines\",\"name\":\"Geno Smith motion path\",\"x\":[],\"y\":[],\"type\":\"scatter\"},{\"marker\":{\"color\":\"#ffffff\",\"line\":{\"color\":\"#000000\",\"width\":2},\"opacity\":1,\"size\":10},\"mode\":\"markers\",\"x\":[157],\"y\":[-89],\"type\":\"scatter\"},{\"line\":{\"color\":\"red\",\"width\":2},\"mode\":\"lines\",\"name\":\"Gabe Jackson motion path\",\"x\":[],\"y\":[],\"type\":\"scatter\"},{\"marker\":{\"color\":\"#ffffff\",\"line\":{\"color\":\"#000000\",\"width\":2},\"opacity\":1,\"size\":10},\"mode\":\"markers\",\"x\":[960],\"y\":[-30],\"type\":\"scatter\"},{\"line\":{\"color\":\"red\",\"width\":2},\"mode\":\"lines\",\"name\":\"Tyler Lockett motion path\",\"x\":[],\"y\":[],\"type\":\"scatter\"},{\"marker\":{\"color\":\"#ffffff\",\"line\":{\"color\":\"#000000\",\"width\":2},\"opacity\":1,\"size\":10},\"mode\":\"markers\",\"x\":[-12],\"y\":[-31],\"type\":\"scatter\"},{\"line\":{\"color\":\"red\",\"width\":2},\"mode\":\"lines\",\"name\":\"Austin Blythe motion path\",\"x\":[],\"y\":[],\"type\":\"scatter\"},{\"marker\":{\"color\":\"#ffffff\",\"line\":{\"color\":\"#000000\",\"width\":2},\"opacity\":1,\"size\":10},\"mode\":\"markers\",\"x\":[0],\"y\":[-744],\"type\":\"scatter\"},{\"line\":{\"color\":\"red\",\"width\":2},\"mode\":\"lines\",\"name\":\"Rashaad Penny motion path\",\"x\":[],\"y\":[],\"type\":\"scatter\"},{\"marker\":{\"color\":\"#ff0000\",\"line\":{\"color\":\"#000000\",\"width\":2},\"opacity\":1,\"size\":10},\"mode\":\"markers\",\"x\":[-244],\"y\":[-466],\"type\":\"scatter\"},{\"line\":{\"color\":\"red\",\"width\":2},\"mode\":\"lines\",\"name\":\"Will Dissly motion path\",\"x\":[],\"y\":[],\"type\":\"scatter\"},{\"marker\":{\"color\":\"#ff0000\",\"line\":{\"color\":\"#000000\",\"width\":2},\"opacity\":1,\"size\":10},\"mode\":\"markers\",\"x\":[-456],\"y\":[-192],\"type\":\"scatter\"},{\"line\":{\"color\":\"red\",\"width\":2},\"mode\":\"lines\",\"name\":\"Noah Fant motion path\",\"x\":[],\"y\":[],\"type\":\"scatter\"},{\"marker\":{\"color\":\"#ffffff\",\"line\":{\"color\":\"#000000\",\"width\":2},\"opacity\":1,\"size\":10},\"mode\":\"markers\",\"x\":[-941],\"y\":[-96],\"type\":\"scatter\"},{\"line\":{\"color\":\"red\",\"width\":2},\"mode\":\"lines\",\"name\":\"DK Metcalf motion path\",\"x\":[],\"y\":[],\"type\":\"scatter\"},{\"marker\":{\"color\":\"#ffffff\",\"line\":{\"color\":\"#000000\",\"width\":2},\"opacity\":1,\"size\":10},\"mode\":\"markers\",\"x\":[-154],\"y\":[-93],\"type\":\"scatter\"},{\"line\":{\"color\":\"red\",\"width\":2},\"mode\":\"lines\",\"name\":\"Phil Haynes motion path\",\"x\":[],\"y\":[],\"type\":\"scatter\"},{\"marker\":{\"color\":\"#ffffff\",\"line\":{\"color\":\"#000000\",\"width\":2},\"opacity\":1,\"size\":10},\"mode\":\"markers\",\"x\":[-294],\"y\":[-122],\"type\":\"scatter\"},{\"line\":{\"color\":\"red\",\"width\":2},\"mode\":\"lines\",\"name\":\"Charles Cross motion path\",\"x\":[],\"y\":[],\"type\":\"scatter\"},{\"marker\":{\"color\":\"#ffffff\",\"line\":{\"color\":\"#000000\",\"width\":2},\"opacity\":1,\"size\":10},\"mode\":\"markers\",\"x\":[317],\"y\":[-99],\"type\":\"scatter\"},{\"line\":{\"color\":\"red\",\"width\":2},\"mode\":\"lines\",\"name\":\"Abraham Lucas motion path\",\"x\":[],\"y\":[],\"type\":\"scatter\"}],\"name\":\"63\"},{\"data\":[{\"marker\":{\"color\":\"#ffffff\",\"line\":{\"color\":\"#000000\",\"width\":2},\"opacity\":1,\"size\":10},\"mode\":\"markers\",\"x\":[-1],\"y\":[-131],\"type\":\"scatter\"},{\"line\":{\"color\":\"red\",\"width\":2},\"mode\":\"lines\",\"name\":\"Geno Smith motion path\",\"x\":[],\"y\":[],\"type\":\"scatter\"},{\"marker\":{\"color\":\"#ffffff\",\"line\":{\"color\":\"#000000\",\"width\":2},\"opacity\":1,\"size\":10},\"mode\":\"markers\",\"x\":[158],\"y\":[-88],\"type\":\"scatter\"},{\"line\":{\"color\":\"red\",\"width\":2},\"mode\":\"lines\",\"name\":\"Gabe Jackson motion path\",\"x\":[],\"y\":[],\"type\":\"scatter\"},{\"marker\":{\"color\":\"#ffffff\",\"line\":{\"color\":\"#000000\",\"width\":2},\"opacity\":1,\"size\":10},\"mode\":\"markers\",\"x\":[961],\"y\":[-30],\"type\":\"scatter\"},{\"line\":{\"color\":\"red\",\"width\":2},\"mode\":\"lines\",\"name\":\"Tyler Lockett motion path\",\"x\":[],\"y\":[],\"type\":\"scatter\"},{\"marker\":{\"color\":\"#ffffff\",\"line\":{\"color\":\"#000000\",\"width\":2},\"opacity\":1,\"size\":10},\"mode\":\"markers\",\"x\":[-13],\"y\":[-29],\"type\":\"scatter\"},{\"line\":{\"color\":\"red\",\"width\":2},\"mode\":\"lines\",\"name\":\"Austin Blythe motion path\",\"x\":[],\"y\":[],\"type\":\"scatter\"},{\"marker\":{\"color\":\"#ffffff\",\"line\":{\"color\":\"#000000\",\"width\":2},\"opacity\":1,\"size\":10},\"mode\":\"markers\",\"x\":[1],\"y\":[-743],\"type\":\"scatter\"},{\"line\":{\"color\":\"red\",\"width\":2},\"mode\":\"lines\",\"name\":\"Rashaad Penny motion path\",\"x\":[],\"y\":[],\"type\":\"scatter\"},{\"marker\":{\"color\":\"#ff0000\",\"line\":{\"color\":\"#000000\",\"width\":2},\"opacity\":1,\"size\":10},\"mode\":\"markers\",\"x\":[-238],\"y\":[-464],\"type\":\"scatter\"},{\"hoverinfo\":\"none\",\"marker\":{\"color\":\"rgba(255, 0, 0, 0.5)\",\"line\":{\"color\":\"red\",\"width\":2},\"size\":20},\"mode\":\"markers\",\"name\":\"Will Dissly in motion\",\"x\":[-238],\"y\":[-464],\"type\":\"scatter\"},{\"line\":{\"color\":\"red\",\"width\":2},\"mode\":\"lines\",\"name\":\"Will Dissly motion path\",\"x\":[-238],\"y\":[-464],\"type\":\"scatter\"},{\"marker\":{\"color\":\"#ff0000\",\"line\":{\"color\":\"#000000\",\"width\":2},\"opacity\":1,\"size\":10},\"mode\":\"markers\",\"x\":[-455],\"y\":[-191],\"type\":\"scatter\"},{\"line\":{\"color\":\"red\",\"width\":2},\"mode\":\"lines\",\"name\":\"Noah Fant motion path\",\"x\":[],\"y\":[],\"type\":\"scatter\"},{\"marker\":{\"color\":\"#ffffff\",\"line\":{\"color\":\"#000000\",\"width\":2},\"opacity\":1,\"size\":10},\"mode\":\"markers\",\"x\":[-940],\"y\":[-95],\"type\":\"scatter\"},{\"line\":{\"color\":\"red\",\"width\":2},\"mode\":\"lines\",\"name\":\"DK Metcalf motion path\",\"x\":[],\"y\":[],\"type\":\"scatter\"},{\"marker\":{\"color\":\"#ffffff\",\"line\":{\"color\":\"#000000\",\"width\":2},\"opacity\":1,\"size\":10},\"mode\":\"markers\",\"x\":[-153],\"y\":[-92],\"type\":\"scatter\"},{\"line\":{\"color\":\"red\",\"width\":2},\"mode\":\"lines\",\"name\":\"Phil Haynes motion path\",\"x\":[],\"y\":[],\"type\":\"scatter\"},{\"marker\":{\"color\":\"#ffffff\",\"line\":{\"color\":\"#000000\",\"width\":2},\"opacity\":1,\"size\":10},\"mode\":\"markers\",\"x\":[-292],\"y\":[-120],\"type\":\"scatter\"},{\"line\":{\"color\":\"red\",\"width\":2},\"mode\":\"lines\",\"name\":\"Charles Cross motion path\",\"x\":[],\"y\":[],\"type\":\"scatter\"},{\"marker\":{\"color\":\"#ffffff\",\"line\":{\"color\":\"#000000\",\"width\":2},\"opacity\":1,\"size\":10},\"mode\":\"markers\",\"x\":[318],\"y\":[-98],\"type\":\"scatter\"},{\"line\":{\"color\":\"red\",\"width\":2},\"mode\":\"lines\",\"name\":\"Abraham Lucas motion path\",\"x\":[],\"y\":[],\"type\":\"scatter\"}],\"name\":\"64\"},{\"data\":[{\"marker\":{\"color\":\"#ffffff\",\"line\":{\"color\":\"#000000\",\"width\":2},\"opacity\":1,\"size\":10},\"mode\":\"markers\",\"x\":[-2],\"y\":[-131],\"type\":\"scatter\"},{\"line\":{\"color\":\"red\",\"width\":2},\"mode\":\"lines\",\"name\":\"Geno Smith motion path\",\"x\":[],\"y\":[],\"type\":\"scatter\"},{\"marker\":{\"color\":\"#ffffff\",\"line\":{\"color\":\"#000000\",\"width\":2},\"opacity\":1,\"size\":10},\"mode\":\"markers\",\"x\":[159],\"y\":[-88],\"type\":\"scatter\"},{\"line\":{\"color\":\"red\",\"width\":2},\"mode\":\"lines\",\"name\":\"Gabe Jackson motion path\",\"x\":[],\"y\":[],\"type\":\"scatter\"},{\"marker\":{\"color\":\"#ffffff\",\"line\":{\"color\":\"#000000\",\"width\":2},\"opacity\":1,\"size\":10},\"mode\":\"markers\",\"x\":[960],\"y\":[-30],\"type\":\"scatter\"},{\"line\":{\"color\":\"red\",\"width\":2},\"mode\":\"lines\",\"name\":\"Tyler Lockett motion path\",\"x\":[],\"y\":[],\"type\":\"scatter\"},{\"marker\":{\"color\":\"#ffffff\",\"line\":{\"color\":\"#000000\",\"width\":2},\"opacity\":1,\"size\":10},\"mode\":\"markers\",\"x\":[-14],\"y\":[-28],\"type\":\"scatter\"},{\"line\":{\"color\":\"red\",\"width\":2},\"mode\":\"lines\",\"name\":\"Austin Blythe motion path\",\"x\":[],\"y\":[],\"type\":\"scatter\"},{\"marker\":{\"color\":\"#ffffff\",\"line\":{\"color\":\"#000000\",\"width\":2},\"opacity\":1,\"size\":10},\"mode\":\"markers\",\"x\":[2],\"y\":[-743],\"type\":\"scatter\"},{\"line\":{\"color\":\"red\",\"width\":2},\"mode\":\"lines\",\"name\":\"Rashaad Penny motion path\",\"x\":[],\"y\":[],\"type\":\"scatter\"},{\"marker\":{\"color\":\"#ff0000\",\"line\":{\"color\":\"#000000\",\"width\":2},\"opacity\":1,\"size\":10},\"mode\":\"markers\",\"x\":[-230],\"y\":[-460],\"type\":\"scatter\"},{\"hoverinfo\":\"none\",\"marker\":{\"color\":\"rgba(255, 0, 0, 0.5)\",\"line\":{\"color\":\"red\",\"width\":2},\"size\":20},\"mode\":\"markers\",\"name\":\"Will Dissly in motion\",\"x\":[-230],\"y\":[-460],\"type\":\"scatter\"},{\"line\":{\"color\":\"red\",\"width\":2},\"mode\":\"lines\",\"name\":\"Will Dissly motion path\",\"x\":[-238,-230],\"y\":[-464,-460],\"type\":\"scatter\"},{\"marker\":{\"color\":\"#ff0000\",\"line\":{\"color\":\"#000000\",\"width\":2},\"opacity\":1,\"size\":10},\"mode\":\"markers\",\"x\":[-454],\"y\":[-191],\"type\":\"scatter\"},{\"line\":{\"color\":\"red\",\"width\":2},\"mode\":\"lines\",\"name\":\"Noah Fant motion path\",\"x\":[],\"y\":[],\"type\":\"scatter\"},{\"marker\":{\"color\":\"#ffffff\",\"line\":{\"color\":\"#000000\",\"width\":2},\"opacity\":1,\"size\":10},\"mode\":\"markers\",\"x\":[-940],\"y\":[-95],\"type\":\"scatter\"},{\"line\":{\"color\":\"red\",\"width\":2},\"mode\":\"lines\",\"name\":\"DK Metcalf motion path\",\"x\":[],\"y\":[],\"type\":\"scatter\"},{\"marker\":{\"color\":\"#ffffff\",\"line\":{\"color\":\"#000000\",\"width\":2},\"opacity\":1,\"size\":10},\"mode\":\"markers\",\"x\":[-154],\"y\":[-92],\"type\":\"scatter\"},{\"line\":{\"color\":\"red\",\"width\":2},\"mode\":\"lines\",\"name\":\"Phil Haynes motion path\",\"x\":[],\"y\":[],\"type\":\"scatter\"},{\"marker\":{\"color\":\"#ffffff\",\"line\":{\"color\":\"#000000\",\"width\":2},\"opacity\":1,\"size\":10},\"mode\":\"markers\",\"x\":[-292],\"y\":[-120],\"type\":\"scatter\"},{\"line\":{\"color\":\"red\",\"width\":2},\"mode\":\"lines\",\"name\":\"Charles Cross motion path\",\"x\":[],\"y\":[],\"type\":\"scatter\"},{\"marker\":{\"color\":\"#ffffff\",\"line\":{\"color\":\"#000000\",\"width\":2},\"opacity\":1,\"size\":10},\"mode\":\"markers\",\"x\":[317],\"y\":[-97],\"type\":\"scatter\"},{\"line\":{\"color\":\"red\",\"width\":2},\"mode\":\"lines\",\"name\":\"Abraham Lucas motion path\",\"x\":[],\"y\":[],\"type\":\"scatter\"}],\"name\":\"65\"},{\"data\":[{\"marker\":{\"color\":\"#ffffff\",\"line\":{\"color\":\"#000000\",\"width\":2},\"opacity\":1,\"size\":10},\"mode\":\"markers\",\"x\":[-4],\"y\":[-132],\"type\":\"scatter\"},{\"line\":{\"color\":\"red\",\"width\":2},\"mode\":\"lines\",\"name\":\"Geno Smith motion path\",\"x\":[],\"y\":[],\"type\":\"scatter\"},{\"marker\":{\"color\":\"#ffffff\",\"line\":{\"color\":\"#000000\",\"width\":2},\"opacity\":1,\"size\":10},\"mode\":\"markers\",\"x\":[159],\"y\":[-88],\"type\":\"scatter\"},{\"line\":{\"color\":\"red\",\"width\":2},\"mode\":\"lines\",\"name\":\"Gabe Jackson motion path\",\"x\":[],\"y\":[],\"type\":\"scatter\"},{\"marker\":{\"color\":\"#ffffff\",\"line\":{\"color\":\"#000000\",\"width\":2},\"opacity\":1,\"size\":10},\"mode\":\"markers\",\"x\":[959],\"y\":[-29],\"type\":\"scatter\"},{\"line\":{\"color\":\"red\",\"width\":2},\"mode\":\"lines\",\"name\":\"Tyler Lockett motion path\",\"x\":[],\"y\":[],\"type\":\"scatter\"},{\"marker\":{\"color\":\"#ffffff\",\"line\":{\"color\":\"#000000\",\"width\":2},\"opacity\":1,\"size\":10},\"mode\":\"markers\",\"x\":[-14],\"y\":[-27],\"type\":\"scatter\"},{\"line\":{\"color\":\"red\",\"width\":2},\"mode\":\"lines\",\"name\":\"Austin Blythe motion path\",\"x\":[],\"y\":[],\"type\":\"scatter\"},{\"marker\":{\"color\":\"#ffffff\",\"line\":{\"color\":\"#000000\",\"width\":2},\"opacity\":1,\"size\":10},\"mode\":\"markers\",\"x\":[2],\"y\":[-745],\"type\":\"scatter\"},{\"line\":{\"color\":\"red\",\"width\":2},\"mode\":\"lines\",\"name\":\"Rashaad Penny motion path\",\"x\":[],\"y\":[],\"type\":\"scatter\"},{\"marker\":{\"color\":\"#ff0000\",\"line\":{\"color\":\"#000000\",\"width\":2},\"opacity\":1,\"size\":10},\"mode\":\"markers\",\"x\":[-220],\"y\":[-456],\"type\":\"scatter\"},{\"hoverinfo\":\"none\",\"marker\":{\"color\":\"rgba(255, 0, 0, 0.5)\",\"line\":{\"color\":\"red\",\"width\":2},\"size\":20},\"mode\":\"markers\",\"name\":\"Will Dissly in motion\",\"x\":[-220],\"y\":[-456],\"type\":\"scatter\"},{\"line\":{\"color\":\"red\",\"width\":2},\"mode\":\"lines\",\"name\":\"Will Dissly motion path\",\"x\":[-238,-230,-220],\"y\":[-464,-460,-456],\"type\":\"scatter\"},{\"marker\":{\"color\":\"#ff0000\",\"line\":{\"color\":\"#000000\",\"width\":2},\"opacity\":1,\"size\":10},\"mode\":\"markers\",\"x\":[-453],\"y\":[-192],\"type\":\"scatter\"},{\"line\":{\"color\":\"red\",\"width\":2},\"mode\":\"lines\",\"name\":\"Noah Fant motion path\",\"x\":[],\"y\":[],\"type\":\"scatter\"},{\"marker\":{\"color\":\"#ffffff\",\"line\":{\"color\":\"#000000\",\"width\":2},\"opacity\":1,\"size\":10},\"mode\":\"markers\",\"x\":[-940],\"y\":[-93],\"type\":\"scatter\"},{\"line\":{\"color\":\"red\",\"width\":2},\"mode\":\"lines\",\"name\":\"DK Metcalf motion path\",\"x\":[],\"y\":[],\"type\":\"scatter\"},{\"marker\":{\"color\":\"#ffffff\",\"line\":{\"color\":\"#000000\",\"width\":2},\"opacity\":1,\"size\":10},\"mode\":\"markers\",\"x\":[-154],\"y\":[-92],\"type\":\"scatter\"},{\"line\":{\"color\":\"red\",\"width\":2},\"mode\":\"lines\",\"name\":\"Phil Haynes motion path\",\"x\":[],\"y\":[],\"type\":\"scatter\"},{\"marker\":{\"color\":\"#ffffff\",\"line\":{\"color\":\"#000000\",\"width\":2},\"opacity\":1,\"size\":10},\"mode\":\"markers\",\"x\":[-292],\"y\":[-120],\"type\":\"scatter\"},{\"line\":{\"color\":\"red\",\"width\":2},\"mode\":\"lines\",\"name\":\"Charles Cross motion path\",\"x\":[],\"y\":[],\"type\":\"scatter\"},{\"marker\":{\"color\":\"#ffffff\",\"line\":{\"color\":\"#000000\",\"width\":2},\"opacity\":1,\"size\":10},\"mode\":\"markers\",\"x\":[317],\"y\":[-97],\"type\":\"scatter\"},{\"line\":{\"color\":\"red\",\"width\":2},\"mode\":\"lines\",\"name\":\"Abraham Lucas motion path\",\"x\":[],\"y\":[],\"type\":\"scatter\"}],\"name\":\"66\"},{\"data\":[{\"marker\":{\"color\":\"#ffffff\",\"line\":{\"color\":\"#000000\",\"width\":2},\"opacity\":1,\"size\":10},\"mode\":\"markers\",\"x\":[-5],\"y\":[-134],\"type\":\"scatter\"},{\"line\":{\"color\":\"red\",\"width\":2},\"mode\":\"lines\",\"name\":\"Geno Smith motion path\",\"x\":[],\"y\":[],\"type\":\"scatter\"},{\"marker\":{\"color\":\"#ffffff\",\"line\":{\"color\":\"#000000\",\"width\":2},\"opacity\":1,\"size\":10},\"mode\":\"markers\",\"x\":[159],\"y\":[-88],\"type\":\"scatter\"},{\"line\":{\"color\":\"red\",\"width\":2},\"mode\":\"lines\",\"name\":\"Gabe Jackson motion path\",\"x\":[],\"y\":[],\"type\":\"scatter\"},{\"marker\":{\"color\":\"#ffffff\",\"line\":{\"color\":\"#000000\",\"width\":2},\"opacity\":1,\"size\":10},\"mode\":\"markers\",\"x\":[957],\"y\":[-29],\"type\":\"scatter\"},{\"line\":{\"color\":\"red\",\"width\":2},\"mode\":\"lines\",\"name\":\"Tyler Lockett motion path\",\"x\":[],\"y\":[],\"type\":\"scatter\"},{\"marker\":{\"color\":\"#ffffff\",\"line\":{\"color\":\"#000000\",\"width\":2},\"opacity\":1,\"size\":10},\"mode\":\"markers\",\"x\":[-15],\"y\":[-25],\"type\":\"scatter\"},{\"line\":{\"color\":\"red\",\"width\":2},\"mode\":\"lines\",\"name\":\"Austin Blythe motion path\",\"x\":[],\"y\":[],\"type\":\"scatter\"},{\"marker\":{\"color\":\"#ffffff\",\"line\":{\"color\":\"#000000\",\"width\":2},\"opacity\":1,\"size\":10},\"mode\":\"markers\",\"x\":[2],\"y\":[-745],\"type\":\"scatter\"},{\"line\":{\"color\":\"red\",\"width\":2},\"mode\":\"lines\",\"name\":\"Rashaad Penny motion path\",\"x\":[],\"y\":[],\"type\":\"scatter\"},{\"marker\":{\"color\":\"#ff0000\",\"line\":{\"color\":\"#000000\",\"width\":2},\"opacity\":1,\"size\":10},\"mode\":\"markers\",\"x\":[-206],\"y\":[-450],\"type\":\"scatter\"},{\"hoverinfo\":\"none\",\"marker\":{\"color\":\"rgba(255, 0, 0, 0.5)\",\"line\":{\"color\":\"red\",\"width\":2},\"size\":20},\"mode\":\"markers\",\"name\":\"Will Dissly in motion\",\"x\":[-206],\"y\":[-450],\"type\":\"scatter\"},{\"line\":{\"color\":\"red\",\"width\":2},\"mode\":\"lines\",\"name\":\"Will Dissly motion path\",\"x\":[-238,-230,-220,-206],\"y\":[-464,-460,-456,-450],\"type\":\"scatter\"},{\"marker\":{\"color\":\"#ff0000\",\"line\":{\"color\":\"#000000\",\"width\":2},\"opacity\":1,\"size\":10},\"mode\":\"markers\",\"x\":[-454],\"y\":[-193],\"type\":\"scatter\"},{\"line\":{\"color\":\"red\",\"width\":2},\"mode\":\"lines\",\"name\":\"Noah Fant motion path\",\"x\":[],\"y\":[],\"type\":\"scatter\"},{\"marker\":{\"color\":\"#ffffff\",\"line\":{\"color\":\"#000000\",\"width\":2},\"opacity\":1,\"size\":10},\"mode\":\"markers\",\"x\":[-940],\"y\":[-92],\"type\":\"scatter\"},{\"line\":{\"color\":\"red\",\"width\":2},\"mode\":\"lines\",\"name\":\"DK Metcalf motion path\",\"x\":[],\"y\":[],\"type\":\"scatter\"},{\"marker\":{\"color\":\"#ffffff\",\"line\":{\"color\":\"#000000\",\"width\":2},\"opacity\":1,\"size\":10},\"mode\":\"markers\",\"x\":[-154],\"y\":[-93],\"type\":\"scatter\"},{\"line\":{\"color\":\"red\",\"width\":2},\"mode\":\"lines\",\"name\":\"Phil Haynes motion path\",\"x\":[],\"y\":[],\"type\":\"scatter\"},{\"marker\":{\"color\":\"#ffffff\",\"line\":{\"color\":\"#000000\",\"width\":2},\"opacity\":1,\"size\":10},\"mode\":\"markers\",\"x\":[-293],\"y\":[-120],\"type\":\"scatter\"},{\"line\":{\"color\":\"red\",\"width\":2},\"mode\":\"lines\",\"name\":\"Charles Cross motion path\",\"x\":[],\"y\":[],\"type\":\"scatter\"},{\"marker\":{\"color\":\"#ffffff\",\"line\":{\"color\":\"#000000\",\"width\":2},\"opacity\":1,\"size\":10},\"mode\":\"markers\",\"x\":[316],\"y\":[-97],\"type\":\"scatter\"},{\"line\":{\"color\":\"red\",\"width\":2},\"mode\":\"lines\",\"name\":\"Abraham Lucas motion path\",\"x\":[],\"y\":[],\"type\":\"scatter\"}],\"name\":\"67\"},{\"data\":[{\"marker\":{\"color\":\"#ffffff\",\"line\":{\"color\":\"#000000\",\"width\":2},\"opacity\":1,\"size\":10},\"mode\":\"markers\",\"x\":[-7],\"y\":[-135],\"type\":\"scatter\"},{\"line\":{\"color\":\"red\",\"width\":2},\"mode\":\"lines\",\"name\":\"Geno Smith motion path\",\"x\":[],\"y\":[],\"type\":\"scatter\"},{\"marker\":{\"color\":\"#ffffff\",\"line\":{\"color\":\"#000000\",\"width\":2},\"opacity\":1,\"size\":10},\"mode\":\"markers\",\"x\":[160],\"y\":[-90],\"type\":\"scatter\"},{\"line\":{\"color\":\"red\",\"width\":2},\"mode\":\"lines\",\"name\":\"Gabe Jackson motion path\",\"x\":[],\"y\":[],\"type\":\"scatter\"},{\"marker\":{\"color\":\"#ffffff\",\"line\":{\"color\":\"#000000\",\"width\":2},\"opacity\":1,\"size\":10},\"mode\":\"markers\",\"x\":[956],\"y\":[-30],\"type\":\"scatter\"},{\"line\":{\"color\":\"red\",\"width\":2},\"mode\":\"lines\",\"name\":\"Tyler Lockett motion path\",\"x\":[],\"y\":[],\"type\":\"scatter\"},{\"marker\":{\"color\":\"#ffffff\",\"line\":{\"color\":\"#000000\",\"width\":2},\"opacity\":1,\"size\":10},\"mode\":\"markers\",\"x\":[-15],\"y\":[-25],\"type\":\"scatter\"},{\"line\":{\"color\":\"red\",\"width\":2},\"mode\":\"lines\",\"name\":\"Austin Blythe motion path\",\"x\":[],\"y\":[],\"type\":\"scatter\"},{\"marker\":{\"color\":\"#ffffff\",\"line\":{\"color\":\"#000000\",\"width\":2},\"opacity\":1,\"size\":10},\"mode\":\"markers\",\"x\":[2],\"y\":[-745],\"type\":\"scatter\"},{\"line\":{\"color\":\"red\",\"width\":2},\"mode\":\"lines\",\"name\":\"Rashaad Penny motion path\",\"x\":[],\"y\":[],\"type\":\"scatter\"},{\"marker\":{\"color\":\"#ff0000\",\"line\":{\"color\":\"#000000\",\"width\":2},\"opacity\":1,\"size\":10},\"mode\":\"markers\",\"x\":[-190],\"y\":[-442],\"type\":\"scatter\"},{\"hoverinfo\":\"none\",\"marker\":{\"color\":\"rgba(255, 0, 0, 0.5)\",\"line\":{\"color\":\"red\",\"width\":2},\"size\":20},\"mode\":\"markers\",\"name\":\"Will Dissly in motion\",\"x\":[-190],\"y\":[-442],\"type\":\"scatter\"},{\"line\":{\"color\":\"red\",\"width\":2},\"mode\":\"lines\",\"name\":\"Will Dissly motion path\",\"x\":[-238,-230,-220,-206,-190],\"y\":[-464,-460,-456,-450,-442],\"type\":\"scatter\"},{\"marker\":{\"color\":\"#ff0000\",\"line\":{\"color\":\"#000000\",\"width\":2},\"opacity\":1,\"size\":10},\"mode\":\"markers\",\"x\":[-455],\"y\":[-195],\"type\":\"scatter\"},{\"line\":{\"color\":\"red\",\"width\":2},\"mode\":\"lines\",\"name\":\"Noah Fant motion path\",\"x\":[],\"y\":[],\"type\":\"scatter\"},{\"marker\":{\"color\":\"#ffffff\",\"line\":{\"color\":\"#000000\",\"width\":2},\"opacity\":1,\"size\":10},\"mode\":\"markers\",\"x\":[-942],\"y\":[-92],\"type\":\"scatter\"},{\"line\":{\"color\":\"red\",\"width\":2},\"mode\":\"lines\",\"name\":\"DK Metcalf motion path\",\"x\":[],\"y\":[],\"type\":\"scatter\"},{\"marker\":{\"color\":\"#ffffff\",\"line\":{\"color\":\"#000000\",\"width\":2},\"opacity\":1,\"size\":10},\"mode\":\"markers\",\"x\":[-154],\"y\":[-93],\"type\":\"scatter\"},{\"line\":{\"color\":\"red\",\"width\":2},\"mode\":\"lines\",\"name\":\"Phil Haynes motion path\",\"x\":[],\"y\":[],\"type\":\"scatter\"},{\"marker\":{\"color\":\"#ffffff\",\"line\":{\"color\":\"#000000\",\"width\":2},\"opacity\":1,\"size\":10},\"mode\":\"markers\",\"x\":[-293],\"y\":[-118],\"type\":\"scatter\"},{\"line\":{\"color\":\"red\",\"width\":2},\"mode\":\"lines\",\"name\":\"Charles Cross motion path\",\"x\":[],\"y\":[],\"type\":\"scatter\"},{\"marker\":{\"color\":\"#ffffff\",\"line\":{\"color\":\"#000000\",\"width\":2},\"opacity\":1,\"size\":10},\"mode\":\"markers\",\"x\":[316],\"y\":[-97],\"type\":\"scatter\"},{\"line\":{\"color\":\"red\",\"width\":2},\"mode\":\"lines\",\"name\":\"Abraham Lucas motion path\",\"x\":[],\"y\":[],\"type\":\"scatter\"}],\"name\":\"68\"},{\"data\":[{\"marker\":{\"color\":\"#ffffff\",\"line\":{\"color\":\"#000000\",\"width\":2},\"opacity\":1,\"size\":10},\"mode\":\"markers\",\"x\":[-8],\"y\":[-138],\"type\":\"scatter\"},{\"line\":{\"color\":\"red\",\"width\":2},\"mode\":\"lines\",\"name\":\"Geno Smith motion path\",\"x\":[],\"y\":[],\"type\":\"scatter\"},{\"marker\":{\"color\":\"#ffffff\",\"line\":{\"color\":\"#000000\",\"width\":2},\"opacity\":1,\"size\":10},\"mode\":\"markers\",\"x\":[161],\"y\":[-90],\"type\":\"scatter\"},{\"line\":{\"color\":\"red\",\"width\":2},\"mode\":\"lines\",\"name\":\"Gabe Jackson motion path\",\"x\":[],\"y\":[],\"type\":\"scatter\"},{\"marker\":{\"color\":\"#ffffff\",\"line\":{\"color\":\"#000000\",\"width\":2},\"opacity\":1,\"size\":10},\"mode\":\"markers\",\"x\":[956],\"y\":[-30],\"type\":\"scatter\"},{\"line\":{\"color\":\"red\",\"width\":2},\"mode\":\"lines\",\"name\":\"Tyler Lockett motion path\",\"x\":[],\"y\":[],\"type\":\"scatter\"},{\"marker\":{\"color\":\"#ffffff\",\"line\":{\"color\":\"#000000\",\"width\":2},\"opacity\":1,\"size\":10},\"mode\":\"markers\",\"x\":[-15],\"y\":[-24],\"type\":\"scatter\"},{\"line\":{\"color\":\"red\",\"width\":2},\"mode\":\"lines\",\"name\":\"Austin Blythe motion path\",\"x\":[],\"y\":[],\"type\":\"scatter\"},{\"marker\":{\"color\":\"#ffffff\",\"line\":{\"color\":\"#000000\",\"width\":2},\"opacity\":1,\"size\":10},\"mode\":\"markers\",\"x\":[1],\"y\":[-745],\"type\":\"scatter\"},{\"line\":{\"color\":\"red\",\"width\":2},\"mode\":\"lines\",\"name\":\"Rashaad Penny motion path\",\"x\":[],\"y\":[],\"type\":\"scatter\"},{\"marker\":{\"color\":\"#ff0000\",\"line\":{\"color\":\"#000000\",\"width\":2},\"opacity\":1,\"size\":10},\"mode\":\"markers\",\"x\":[-170],\"y\":[-432],\"type\":\"scatter\"},{\"hoverinfo\":\"none\",\"marker\":{\"color\":\"rgba(255, 0, 0, 0.5)\",\"line\":{\"color\":\"red\",\"width\":2},\"size\":20},\"mode\":\"markers\",\"name\":\"Will Dissly in motion\",\"x\":[-170],\"y\":[-432],\"type\":\"scatter\"},{\"line\":{\"color\":\"red\",\"width\":2},\"mode\":\"lines\",\"name\":\"Will Dissly motion path\",\"x\":[-238,-230,-220,-206,-190,-170],\"y\":[-464,-460,-456,-450,-442,-432],\"type\":\"scatter\"},{\"marker\":{\"color\":\"#ff0000\",\"line\":{\"color\":\"#000000\",\"width\":2},\"opacity\":1,\"size\":10},\"mode\":\"markers\",\"x\":[-457],\"y\":[-195],\"type\":\"scatter\"},{\"line\":{\"color\":\"red\",\"width\":2},\"mode\":\"lines\",\"name\":\"Noah Fant motion path\",\"x\":[],\"y\":[],\"type\":\"scatter\"},{\"marker\":{\"color\":\"#ffffff\",\"line\":{\"color\":\"#000000\",\"width\":2},\"opacity\":1,\"size\":10},\"mode\":\"markers\",\"x\":[-942],\"y\":[-92],\"type\":\"scatter\"},{\"line\":{\"color\":\"red\",\"width\":2},\"mode\":\"lines\",\"name\":\"DK Metcalf motion path\",\"x\":[],\"y\":[],\"type\":\"scatter\"},{\"marker\":{\"color\":\"#ffffff\",\"line\":{\"color\":\"#000000\",\"width\":2},\"opacity\":1,\"size\":10},\"mode\":\"markers\",\"x\":[-155],\"y\":[-93],\"type\":\"scatter\"},{\"line\":{\"color\":\"red\",\"width\":2},\"mode\":\"lines\",\"name\":\"Phil Haynes motion path\",\"x\":[],\"y\":[],\"type\":\"scatter\"},{\"marker\":{\"color\":\"#ffffff\",\"line\":{\"color\":\"#000000\",\"width\":2},\"opacity\":1,\"size\":10},\"mode\":\"markers\",\"x\":[-292],\"y\":[-117],\"type\":\"scatter\"},{\"line\":{\"color\":\"red\",\"width\":2},\"mode\":\"lines\",\"name\":\"Charles Cross motion path\",\"x\":[],\"y\":[],\"type\":\"scatter\"},{\"marker\":{\"color\":\"#ffffff\",\"line\":{\"color\":\"#000000\",\"width\":2},\"opacity\":1,\"size\":10},\"mode\":\"markers\",\"x\":[317],\"y\":[-98],\"type\":\"scatter\"},{\"line\":{\"color\":\"red\",\"width\":2},\"mode\":\"lines\",\"name\":\"Abraham Lucas motion path\",\"x\":[],\"y\":[],\"type\":\"scatter\"}],\"name\":\"69\"},{\"data\":[{\"marker\":{\"color\":\"#ffffff\",\"line\":{\"color\":\"#000000\",\"width\":2},\"opacity\":1,\"size\":10},\"mode\":\"markers\",\"x\":[-8],\"y\":[-138],\"type\":\"scatter\"},{\"line\":{\"color\":\"red\",\"width\":2},\"mode\":\"lines\",\"name\":\"Geno Smith motion path\",\"x\":[],\"y\":[],\"type\":\"scatter\"},{\"marker\":{\"color\":\"#ffffff\",\"line\":{\"color\":\"#000000\",\"width\":2},\"opacity\":1,\"size\":10},\"mode\":\"markers\",\"x\":[162],\"y\":[-91],\"type\":\"scatter\"},{\"line\":{\"color\":\"red\",\"width\":2},\"mode\":\"lines\",\"name\":\"Gabe Jackson motion path\",\"x\":[],\"y\":[],\"type\":\"scatter\"},{\"marker\":{\"color\":\"#ffffff\",\"line\":{\"color\":\"#000000\",\"width\":2},\"opacity\":1,\"size\":10},\"mode\":\"markers\",\"x\":[955],\"y\":[-29],\"type\":\"scatter\"},{\"line\":{\"color\":\"red\",\"width\":2},\"mode\":\"lines\",\"name\":\"Tyler Lockett motion path\",\"x\":[],\"y\":[],\"type\":\"scatter\"},{\"marker\":{\"color\":\"#ffffff\",\"line\":{\"color\":\"#000000\",\"width\":2},\"opacity\":1,\"size\":10},\"mode\":\"markers\",\"x\":[-15],\"y\":[-23],\"type\":\"scatter\"},{\"line\":{\"color\":\"red\",\"width\":2},\"mode\":\"lines\",\"name\":\"Austin Blythe motion path\",\"x\":[],\"y\":[],\"type\":\"scatter\"},{\"marker\":{\"color\":\"#ffffff\",\"line\":{\"color\":\"#000000\",\"width\":2},\"opacity\":1,\"size\":10},\"mode\":\"markers\",\"x\":[1],\"y\":[-745],\"type\":\"scatter\"},{\"line\":{\"color\":\"red\",\"width\":2},\"mode\":\"lines\",\"name\":\"Rashaad Penny motion path\",\"x\":[],\"y\":[],\"type\":\"scatter\"},{\"marker\":{\"color\":\"#ff0000\",\"line\":{\"color\":\"#000000\",\"width\":2},\"opacity\":1,\"size\":10},\"mode\":\"markers\",\"x\":[-147],\"y\":[-421],\"type\":\"scatter\"},{\"hoverinfo\":\"none\",\"marker\":{\"color\":\"rgba(255, 0, 0, 0.5)\",\"line\":{\"color\":\"red\",\"width\":2},\"size\":20},\"mode\":\"markers\",\"name\":\"Will Dissly in motion\",\"x\":[-147],\"y\":[-421],\"type\":\"scatter\"},{\"line\":{\"color\":\"red\",\"width\":2},\"mode\":\"lines\",\"name\":\"Will Dissly motion path\",\"x\":[-238,-230,-220,-206,-190,-170,-147],\"y\":[-464,-460,-456,-450,-442,-432,-421],\"type\":\"scatter\"},{\"marker\":{\"color\":\"#ff0000\",\"line\":{\"color\":\"#000000\",\"width\":2},\"opacity\":1,\"size\":10},\"mode\":\"markers\",\"x\":[-457],\"y\":[-195],\"type\":\"scatter\"},{\"line\":{\"color\":\"red\",\"width\":2},\"mode\":\"lines\",\"name\":\"Noah Fant motion path\",\"x\":[],\"y\":[],\"type\":\"scatter\"},{\"marker\":{\"color\":\"#ffffff\",\"line\":{\"color\":\"#000000\",\"width\":2},\"opacity\":1,\"size\":10},\"mode\":\"markers\",\"x\":[-942],\"y\":[-93],\"type\":\"scatter\"},{\"line\":{\"color\":\"red\",\"width\":2},\"mode\":\"lines\",\"name\":\"DK Metcalf motion path\",\"x\":[],\"y\":[],\"type\":\"scatter\"},{\"marker\":{\"color\":\"#ffffff\",\"line\":{\"color\":\"#000000\",\"width\":2},\"opacity\":1,\"size\":10},\"mode\":\"markers\",\"x\":[-156],\"y\":[-93],\"type\":\"scatter\"},{\"line\":{\"color\":\"red\",\"width\":2},\"mode\":\"lines\",\"name\":\"Phil Haynes motion path\",\"x\":[],\"y\":[],\"type\":\"scatter\"},{\"marker\":{\"color\":\"#ffffff\",\"line\":{\"color\":\"#000000\",\"width\":2},\"opacity\":1,\"size\":10},\"mode\":\"markers\",\"x\":[-292],\"y\":[-116],\"type\":\"scatter\"},{\"line\":{\"color\":\"red\",\"width\":2},\"mode\":\"lines\",\"name\":\"Charles Cross motion path\",\"x\":[],\"y\":[],\"type\":\"scatter\"},{\"marker\":{\"color\":\"#ffffff\",\"line\":{\"color\":\"#000000\",\"width\":2},\"opacity\":1,\"size\":10},\"mode\":\"markers\",\"x\":[316],\"y\":[-98],\"type\":\"scatter\"},{\"line\":{\"color\":\"red\",\"width\":2},\"mode\":\"lines\",\"name\":\"Abraham Lucas motion path\",\"x\":[],\"y\":[],\"type\":\"scatter\"}],\"name\":\"70\"},{\"data\":[{\"marker\":{\"color\":\"#ffffff\",\"line\":{\"color\":\"#000000\",\"width\":2},\"opacity\":1,\"size\":10},\"mode\":\"markers\",\"x\":[-8],\"y\":[-140],\"type\":\"scatter\"},{\"line\":{\"color\":\"red\",\"width\":2},\"mode\":\"lines\",\"name\":\"Geno Smith motion path\",\"x\":[],\"y\":[],\"type\":\"scatter\"},{\"marker\":{\"color\":\"#ffffff\",\"line\":{\"color\":\"#000000\",\"width\":2},\"opacity\":1,\"size\":10},\"mode\":\"markers\",\"x\":[162],\"y\":[-92],\"type\":\"scatter\"},{\"line\":{\"color\":\"red\",\"width\":2},\"mode\":\"lines\",\"name\":\"Gabe Jackson motion path\",\"x\":[],\"y\":[],\"type\":\"scatter\"},{\"marker\":{\"color\":\"#ffffff\",\"line\":{\"color\":\"#000000\",\"width\":2},\"opacity\":1,\"size\":10},\"mode\":\"markers\",\"x\":[955],\"y\":[-29],\"type\":\"scatter\"},{\"line\":{\"color\":\"red\",\"width\":2},\"mode\":\"lines\",\"name\":\"Tyler Lockett motion path\",\"x\":[],\"y\":[],\"type\":\"scatter\"},{\"marker\":{\"color\":\"#ffffff\",\"line\":{\"color\":\"#000000\",\"width\":2},\"opacity\":1,\"size\":10},\"mode\":\"markers\",\"x\":[-15],\"y\":[-22],\"type\":\"scatter\"},{\"line\":{\"color\":\"red\",\"width\":2},\"mode\":\"lines\",\"name\":\"Austin Blythe motion path\",\"x\":[],\"y\":[],\"type\":\"scatter\"},{\"marker\":{\"color\":\"#ffffff\",\"line\":{\"color\":\"#000000\",\"width\":2},\"opacity\":1,\"size\":10},\"mode\":\"markers\",\"x\":[1],\"y\":[-745],\"type\":\"scatter\"},{\"line\":{\"color\":\"red\",\"width\":2},\"mode\":\"lines\",\"name\":\"Rashaad Penny motion path\",\"x\":[],\"y\":[],\"type\":\"scatter\"},{\"marker\":{\"color\":\"#ff0000\",\"line\":{\"color\":\"#000000\",\"width\":2},\"opacity\":1,\"size\":10},\"mode\":\"markers\",\"x\":[-120],\"y\":[-409],\"type\":\"scatter\"},{\"hoverinfo\":\"none\",\"marker\":{\"color\":\"rgba(255, 0, 0, 0.5)\",\"line\":{\"color\":\"red\",\"width\":2},\"size\":20},\"mode\":\"markers\",\"name\":\"Will Dissly in motion\",\"x\":[-120],\"y\":[-409],\"type\":\"scatter\"},{\"line\":{\"color\":\"red\",\"width\":2},\"mode\":\"lines\",\"name\":\"Will Dissly motion path\",\"x\":[-238,-230,-220,-206,-190,-170,-147,-120],\"y\":[-464,-460,-456,-450,-442,-432,-421,-409],\"type\":\"scatter\"},{\"marker\":{\"color\":\"#ff0000\",\"line\":{\"color\":\"#000000\",\"width\":2},\"opacity\":1,\"size\":10},\"mode\":\"markers\",\"x\":[-458],\"y\":[-195],\"type\":\"scatter\"},{\"line\":{\"color\":\"red\",\"width\":2},\"mode\":\"lines\",\"name\":\"Noah Fant motion path\",\"x\":[],\"y\":[],\"type\":\"scatter\"},{\"marker\":{\"color\":\"#ffffff\",\"line\":{\"color\":\"#000000\",\"width\":2},\"opacity\":1,\"size\":10},\"mode\":\"markers\",\"x\":[-943],\"y\":[-93],\"type\":\"scatter\"},{\"line\":{\"color\":\"red\",\"width\":2},\"mode\":\"lines\",\"name\":\"DK Metcalf motion path\",\"x\":[],\"y\":[],\"type\":\"scatter\"},{\"marker\":{\"color\":\"#ffffff\",\"line\":{\"color\":\"#000000\",\"width\":2},\"opacity\":1,\"size\":10},\"mode\":\"markers\",\"x\":[-156],\"y\":[-93],\"type\":\"scatter\"},{\"line\":{\"color\":\"red\",\"width\":2},\"mode\":\"lines\",\"name\":\"Phil Haynes motion path\",\"x\":[],\"y\":[],\"type\":\"scatter\"},{\"marker\":{\"color\":\"#ffffff\",\"line\":{\"color\":\"#000000\",\"width\":2},\"opacity\":1,\"size\":10},\"mode\":\"markers\",\"x\":[-292],\"y\":[-116],\"type\":\"scatter\"},{\"line\":{\"color\":\"red\",\"width\":2},\"mode\":\"lines\",\"name\":\"Charles Cross motion path\",\"x\":[],\"y\":[],\"type\":\"scatter\"},{\"marker\":{\"color\":\"#ffffff\",\"line\":{\"color\":\"#000000\",\"width\":2},\"opacity\":1,\"size\":10},\"mode\":\"markers\",\"x\":[316],\"y\":[-98],\"type\":\"scatter\"},{\"line\":{\"color\":\"red\",\"width\":2},\"mode\":\"lines\",\"name\":\"Abraham Lucas motion path\",\"x\":[],\"y\":[],\"type\":\"scatter\"}],\"name\":\"71\"},{\"data\":[{\"marker\":{\"color\":\"#ffffff\",\"line\":{\"color\":\"#000000\",\"width\":2},\"opacity\":1,\"size\":10},\"mode\":\"markers\",\"x\":[-8],\"y\":[-140],\"type\":\"scatter\"},{\"line\":{\"color\":\"red\",\"width\":2},\"mode\":\"lines\",\"name\":\"Geno Smith motion path\",\"x\":[],\"y\":[],\"type\":\"scatter\"},{\"marker\":{\"color\":\"#ffffff\",\"line\":{\"color\":\"#000000\",\"width\":2},\"opacity\":1,\"size\":10},\"mode\":\"markers\",\"x\":[163],\"y\":[-92],\"type\":\"scatter\"},{\"line\":{\"color\":\"red\",\"width\":2},\"mode\":\"lines\",\"name\":\"Gabe Jackson motion path\",\"x\":[],\"y\":[],\"type\":\"scatter\"},{\"marker\":{\"color\":\"#ffffff\",\"line\":{\"color\":\"#000000\",\"width\":2},\"opacity\":1,\"size\":10},\"mode\":\"markers\",\"x\":[956],\"y\":[-30],\"type\":\"scatter\"},{\"line\":{\"color\":\"red\",\"width\":2},\"mode\":\"lines\",\"name\":\"Tyler Lockett motion path\",\"x\":[],\"y\":[],\"type\":\"scatter\"},{\"marker\":{\"color\":\"#ffffff\",\"line\":{\"color\":\"#000000\",\"width\":2},\"opacity\":1,\"size\":10},\"mode\":\"markers\",\"x\":[-15],\"y\":[-22],\"type\":\"scatter\"},{\"line\":{\"color\":\"red\",\"width\":2},\"mode\":\"lines\",\"name\":\"Austin Blythe motion path\",\"x\":[],\"y\":[],\"type\":\"scatter\"},{\"marker\":{\"color\":\"#ffffff\",\"line\":{\"color\":\"#000000\",\"width\":2},\"opacity\":1,\"size\":10},\"mode\":\"markers\",\"x\":[0],\"y\":[-743],\"type\":\"scatter\"},{\"line\":{\"color\":\"red\",\"width\":2},\"mode\":\"lines\",\"name\":\"Rashaad Penny motion path\",\"x\":[],\"y\":[],\"type\":\"scatter\"},{\"marker\":{\"color\":\"#ff0000\",\"line\":{\"color\":\"#000000\",\"width\":2},\"opacity\":1,\"size\":10},\"mode\":\"markers\",\"x\":[-89],\"y\":[-392],\"type\":\"scatter\"},{\"hoverinfo\":\"none\",\"marker\":{\"color\":\"rgba(255, 0, 0, 0.5)\",\"line\":{\"color\":\"red\",\"width\":2},\"size\":20},\"mode\":\"markers\",\"name\":\"Will Dissly in motion\",\"x\":[-89],\"y\":[-392],\"type\":\"scatter\"},{\"line\":{\"color\":\"red\",\"width\":2},\"mode\":\"lines\",\"name\":\"Will Dissly motion path\",\"x\":[-238,-230,-220,-206,-190,-170,-147,-120,-89],\"y\":[-464,-460,-456,-450,-442,-432,-421,-409,-392],\"type\":\"scatter\"},{\"marker\":{\"color\":\"#ff0000\",\"line\":{\"color\":\"#000000\",\"width\":2},\"opacity\":1,\"size\":10},\"mode\":\"markers\",\"x\":[-459],\"y\":[-195],\"type\":\"scatter\"},{\"line\":{\"color\":\"red\",\"width\":2},\"mode\":\"lines\",\"name\":\"Noah Fant motion path\",\"x\":[],\"y\":[],\"type\":\"scatter\"},{\"marker\":{\"color\":\"#ffffff\",\"line\":{\"color\":\"#000000\",\"width\":2},\"opacity\":1,\"size\":10},\"mode\":\"markers\",\"x\":[-943],\"y\":[-93],\"type\":\"scatter\"},{\"line\":{\"color\":\"red\",\"width\":2},\"mode\":\"lines\",\"name\":\"DK Metcalf motion path\",\"x\":[],\"y\":[],\"type\":\"scatter\"},{\"marker\":{\"color\":\"#ffffff\",\"line\":{\"color\":\"#000000\",\"width\":2},\"opacity\":1,\"size\":10},\"mode\":\"markers\",\"x\":[-156],\"y\":[-92],\"type\":\"scatter\"},{\"line\":{\"color\":\"red\",\"width\":2},\"mode\":\"lines\",\"name\":\"Phil Haynes motion path\",\"x\":[],\"y\":[],\"type\":\"scatter\"},{\"marker\":{\"color\":\"#ffffff\",\"line\":{\"color\":\"#000000\",\"width\":2},\"opacity\":1,\"size\":10},\"mode\":\"markers\",\"x\":[-292],\"y\":[-116],\"type\":\"scatter\"},{\"line\":{\"color\":\"red\",\"width\":2},\"mode\":\"lines\",\"name\":\"Charles Cross motion path\",\"x\":[],\"y\":[],\"type\":\"scatter\"},{\"marker\":{\"color\":\"#ffffff\",\"line\":{\"color\":\"#000000\",\"width\":2},\"opacity\":1,\"size\":10},\"mode\":\"markers\",\"x\":[316],\"y\":[-98],\"type\":\"scatter\"},{\"line\":{\"color\":\"red\",\"width\":2},\"mode\":\"lines\",\"name\":\"Abraham Lucas motion path\",\"x\":[],\"y\":[],\"type\":\"scatter\"}],\"name\":\"72\"},{\"data\":[{\"marker\":{\"color\":\"#ffffff\",\"line\":{\"color\":\"#000000\",\"width\":2},\"opacity\":1,\"size\":10},\"mode\":\"markers\",\"x\":[-8],\"y\":[-141],\"type\":\"scatter\"},{\"line\":{\"color\":\"red\",\"width\":2},\"mode\":\"lines\",\"name\":\"Geno Smith motion path\",\"x\":[],\"y\":[],\"type\":\"scatter\"},{\"marker\":{\"color\":\"#ffffff\",\"line\":{\"color\":\"#000000\",\"width\":2},\"opacity\":1,\"size\":10},\"mode\":\"markers\",\"x\":[163],\"y\":[-94],\"type\":\"scatter\"},{\"line\":{\"color\":\"red\",\"width\":2},\"mode\":\"lines\",\"name\":\"Gabe Jackson motion path\",\"x\":[],\"y\":[],\"type\":\"scatter\"},{\"marker\":{\"color\":\"#ffffff\",\"line\":{\"color\":\"#000000\",\"width\":2},\"opacity\":1,\"size\":10},\"mode\":\"markers\",\"x\":[957],\"y\":[-31],\"type\":\"scatter\"},{\"line\":{\"color\":\"red\",\"width\":2},\"mode\":\"lines\",\"name\":\"Tyler Lockett motion path\",\"x\":[],\"y\":[],\"type\":\"scatter\"},{\"marker\":{\"color\":\"#ffffff\",\"line\":{\"color\":\"#000000\",\"width\":2},\"opacity\":1,\"size\":10},\"mode\":\"markers\",\"x\":[-14],\"y\":[-22],\"type\":\"scatter\"},{\"line\":{\"color\":\"red\",\"width\":2},\"mode\":\"lines\",\"name\":\"Austin Blythe motion path\",\"x\":[],\"y\":[],\"type\":\"scatter\"},{\"marker\":{\"color\":\"#ffffff\",\"line\":{\"color\":\"#000000\",\"width\":2},\"opacity\":1,\"size\":10},\"mode\":\"markers\",\"x\":[0],\"y\":[-744],\"type\":\"scatter\"},{\"line\":{\"color\":\"red\",\"width\":2},\"mode\":\"lines\",\"name\":\"Rashaad Penny motion path\",\"x\":[],\"y\":[],\"type\":\"scatter\"},{\"marker\":{\"color\":\"#ff0000\",\"line\":{\"color\":\"#000000\",\"width\":2},\"opacity\":1,\"size\":10},\"mode\":\"markers\",\"x\":[-56],\"y\":[-378],\"type\":\"scatter\"},{\"hoverinfo\":\"none\",\"marker\":{\"color\":\"rgba(255, 0, 0, 0.5)\",\"line\":{\"color\":\"red\",\"width\":2},\"size\":20},\"mode\":\"markers\",\"name\":\"Will Dissly in motion\",\"x\":[-56],\"y\":[-378],\"type\":\"scatter\"},{\"line\":{\"color\":\"red\",\"width\":2},\"mode\":\"lines\",\"name\":\"Will Dissly motion path\",\"x\":[-238,-230,-220,-206,-190,-170,-147,-120,-89,-56],\"y\":[-464,-460,-456,-450,-442,-432,-421,-409,-392,-378],\"type\":\"scatter\"},{\"marker\":{\"color\":\"#ff0000\",\"line\":{\"color\":\"#000000\",\"width\":2},\"opacity\":1,\"size\":10},\"mode\":\"markers\",\"x\":[-460],\"y\":[-196],\"type\":\"scatter\"},{\"line\":{\"color\":\"red\",\"width\":2},\"mode\":\"lines\",\"name\":\"Noah Fant motion path\",\"x\":[],\"y\":[],\"type\":\"scatter\"},{\"marker\":{\"color\":\"#ffffff\",\"line\":{\"color\":\"#000000\",\"width\":2},\"opacity\":1,\"size\":10},\"mode\":\"markers\",\"x\":[-942],\"y\":[-94],\"type\":\"scatter\"},{\"line\":{\"color\":\"red\",\"width\":2},\"mode\":\"lines\",\"name\":\"DK Metcalf motion path\",\"x\":[],\"y\":[],\"type\":\"scatter\"},{\"marker\":{\"color\":\"#ffffff\",\"line\":{\"color\":\"#000000\",\"width\":2},\"opacity\":1,\"size\":10},\"mode\":\"markers\",\"x\":[-156],\"y\":[-93],\"type\":\"scatter\"},{\"line\":{\"color\":\"red\",\"width\":2},\"mode\":\"lines\",\"name\":\"Phil Haynes motion path\",\"x\":[],\"y\":[],\"type\":\"scatter\"},{\"marker\":{\"color\":\"#ffffff\",\"line\":{\"color\":\"#000000\",\"width\":2},\"opacity\":1,\"size\":10},\"mode\":\"markers\",\"x\":[-292],\"y\":[-117],\"type\":\"scatter\"},{\"line\":{\"color\":\"red\",\"width\":2},\"mode\":\"lines\",\"name\":\"Charles Cross motion path\",\"x\":[],\"y\":[],\"type\":\"scatter\"},{\"marker\":{\"color\":\"#ffffff\",\"line\":{\"color\":\"#000000\",\"width\":2},\"opacity\":1,\"size\":10},\"mode\":\"markers\",\"x\":[316],\"y\":[-99],\"type\":\"scatter\"},{\"line\":{\"color\":\"red\",\"width\":2},\"mode\":\"lines\",\"name\":\"Abraham Lucas motion path\",\"x\":[],\"y\":[],\"type\":\"scatter\"}],\"name\":\"73\"},{\"data\":[{\"marker\":{\"color\":\"#ffffff\",\"line\":{\"color\":\"#000000\",\"width\":2},\"opacity\":1,\"size\":10},\"mode\":\"markers\",\"x\":[-8],\"y\":[-141],\"type\":\"scatter\"},{\"line\":{\"color\":\"red\",\"width\":2},\"mode\":\"lines\",\"name\":\"Geno Smith motion path\",\"x\":[],\"y\":[],\"type\":\"scatter\"},{\"marker\":{\"color\":\"#ffffff\",\"line\":{\"color\":\"#000000\",\"width\":2},\"opacity\":1,\"size\":10},\"mode\":\"markers\",\"x\":[163],\"y\":[-93],\"type\":\"scatter\"},{\"line\":{\"color\":\"red\",\"width\":2},\"mode\":\"lines\",\"name\":\"Gabe Jackson motion path\",\"x\":[],\"y\":[],\"type\":\"scatter\"},{\"marker\":{\"color\":\"#ffffff\",\"line\":{\"color\":\"#000000\",\"width\":2},\"opacity\":1,\"size\":10},\"mode\":\"markers\",\"x\":[958],\"y\":[-31],\"type\":\"scatter\"},{\"line\":{\"color\":\"red\",\"width\":2},\"mode\":\"lines\",\"name\":\"Tyler Lockett motion path\",\"x\":[],\"y\":[],\"type\":\"scatter\"},{\"marker\":{\"color\":\"#ffffff\",\"line\":{\"color\":\"#000000\",\"width\":2},\"opacity\":1,\"size\":10},\"mode\":\"markers\",\"x\":[-14],\"y\":[-22],\"type\":\"scatter\"},{\"line\":{\"color\":\"red\",\"width\":2},\"mode\":\"lines\",\"name\":\"Austin Blythe motion path\",\"x\":[],\"y\":[],\"type\":\"scatter\"},{\"marker\":{\"color\":\"#ffffff\",\"line\":{\"color\":\"#000000\",\"width\":2},\"opacity\":1,\"size\":10},\"mode\":\"markers\",\"x\":[0],\"y\":[-743],\"type\":\"scatter\"},{\"line\":{\"color\":\"red\",\"width\":2},\"mode\":\"lines\",\"name\":\"Rashaad Penny motion path\",\"x\":[],\"y\":[],\"type\":\"scatter\"},{\"marker\":{\"color\":\"#ff0000\",\"line\":{\"color\":\"#000000\",\"width\":2},\"opacity\":1,\"size\":10},\"mode\":\"markers\",\"x\":[-19],\"y\":[-360],\"type\":\"scatter\"},{\"hoverinfo\":\"none\",\"marker\":{\"color\":\"rgba(255, 0, 0, 0.5)\",\"line\":{\"color\":\"red\",\"width\":2},\"size\":20},\"mode\":\"markers\",\"name\":\"Will Dissly in motion\",\"x\":[-19],\"y\":[-360],\"type\":\"scatter\"},{\"line\":{\"color\":\"red\",\"width\":2},\"mode\":\"lines\",\"name\":\"Will Dissly motion path\",\"x\":[-238,-230,-220,-206,-190,-170,-147,-120,-89,-56,-19],\"y\":[-464,-460,-456,-450,-442,-432,-421,-409,-392,-378,-360],\"type\":\"scatter\"},{\"marker\":{\"color\":\"#ff0000\",\"line\":{\"color\":\"#000000\",\"width\":2},\"opacity\":1,\"size\":10},\"mode\":\"markers\",\"x\":[-461],\"y\":[-196],\"type\":\"scatter\"},{\"line\":{\"color\":\"red\",\"width\":2},\"mode\":\"lines\",\"name\":\"Noah Fant motion path\",\"x\":[],\"y\":[],\"type\":\"scatter\"},{\"marker\":{\"color\":\"#ffffff\",\"line\":{\"color\":\"#000000\",\"width\":2},\"opacity\":1,\"size\":10},\"mode\":\"markers\",\"x\":[-942],\"y\":[-94],\"type\":\"scatter\"},{\"line\":{\"color\":\"red\",\"width\":2},\"mode\":\"lines\",\"name\":\"DK Metcalf motion path\",\"x\":[],\"y\":[],\"type\":\"scatter\"},{\"marker\":{\"color\":\"#ffffff\",\"line\":{\"color\":\"#000000\",\"width\":2},\"opacity\":1,\"size\":10},\"mode\":\"markers\",\"x\":[-155],\"y\":[-92],\"type\":\"scatter\"},{\"line\":{\"color\":\"red\",\"width\":2},\"mode\":\"lines\",\"name\":\"Phil Haynes motion path\",\"x\":[],\"y\":[],\"type\":\"scatter\"},{\"marker\":{\"color\":\"#ffffff\",\"line\":{\"color\":\"#000000\",\"width\":2},\"opacity\":1,\"size\":10},\"mode\":\"markers\",\"x\":[-293],\"y\":[-118],\"type\":\"scatter\"},{\"line\":{\"color\":\"red\",\"width\":2},\"mode\":\"lines\",\"name\":\"Charles Cross motion path\",\"x\":[],\"y\":[],\"type\":\"scatter\"},{\"marker\":{\"color\":\"#ffffff\",\"line\":{\"color\":\"#000000\",\"width\":2},\"opacity\":1,\"size\":10},\"mode\":\"markers\",\"x\":[315],\"y\":[-99],\"type\":\"scatter\"},{\"line\":{\"color\":\"red\",\"width\":2},\"mode\":\"lines\",\"name\":\"Abraham Lucas motion path\",\"x\":[],\"y\":[],\"type\":\"scatter\"}],\"name\":\"74\"},{\"data\":[{\"marker\":{\"color\":\"#ffffff\",\"line\":{\"color\":\"#000000\",\"width\":2},\"opacity\":1,\"size\":10},\"mode\":\"markers\",\"x\":[-7],\"y\":[-141],\"type\":\"scatter\"},{\"line\":{\"color\":\"red\",\"width\":2},\"mode\":\"lines\",\"name\":\"Geno Smith motion path\",\"x\":[],\"y\":[],\"type\":\"scatter\"},{\"marker\":{\"color\":\"#ffffff\",\"line\":{\"color\":\"#000000\",\"width\":2},\"opacity\":1,\"size\":10},\"mode\":\"markers\",\"x\":[164],\"y\":[-94],\"type\":\"scatter\"},{\"line\":{\"color\":\"red\",\"width\":2},\"mode\":\"lines\",\"name\":\"Gabe Jackson motion path\",\"x\":[],\"y\":[],\"type\":\"scatter\"},{\"marker\":{\"color\":\"#ffffff\",\"line\":{\"color\":\"#000000\",\"width\":2},\"opacity\":1,\"size\":10},\"mode\":\"markers\",\"x\":[961],\"y\":[-32],\"type\":\"scatter\"},{\"line\":{\"color\":\"red\",\"width\":2},\"mode\":\"lines\",\"name\":\"Tyler Lockett motion path\",\"x\":[],\"y\":[],\"type\":\"scatter\"},{\"marker\":{\"color\":\"#ffffff\",\"line\":{\"color\":\"#000000\",\"width\":2},\"opacity\":1,\"size\":10},\"mode\":\"markers\",\"x\":[-13],\"y\":[-22],\"type\":\"scatter\"},{\"line\":{\"color\":\"red\",\"width\":2},\"mode\":\"lines\",\"name\":\"Austin Blythe motion path\",\"x\":[],\"y\":[],\"type\":\"scatter\"},{\"marker\":{\"color\":\"#ffffff\",\"line\":{\"color\":\"#000000\",\"width\":2},\"opacity\":1,\"size\":10},\"mode\":\"markers\",\"x\":[0],\"y\":[-742],\"type\":\"scatter\"},{\"line\":{\"color\":\"red\",\"width\":2},\"mode\":\"lines\",\"name\":\"Rashaad Penny motion path\",\"x\":[],\"y\":[],\"type\":\"scatter\"},{\"marker\":{\"color\":\"#ff0000\",\"line\":{\"color\":\"#000000\",\"width\":2},\"opacity\":1,\"size\":10},\"mode\":\"markers\",\"x\":[20],\"y\":[-343],\"type\":\"scatter\"},{\"hoverinfo\":\"none\",\"marker\":{\"color\":\"rgba(255, 0, 0, 0.5)\",\"line\":{\"color\":\"red\",\"width\":2},\"size\":20},\"mode\":\"markers\",\"name\":\"Will Dissly in motion\",\"x\":[20],\"y\":[-343],\"type\":\"scatter\"},{\"line\":{\"color\":\"red\",\"width\":2},\"mode\":\"lines\",\"name\":\"Will Dissly motion path\",\"x\":[-238,-230,-220,-206,-190,-170,-147,-120,-89,-56,-19,20],\"y\":[-464,-460,-456,-450,-442,-432,-421,-409,-392,-378,-360,-343],\"type\":\"scatter\"},{\"marker\":{\"color\":\"#ff0000\",\"line\":{\"color\":\"#000000\",\"width\":2},\"opacity\":1,\"size\":10},\"mode\":\"markers\",\"x\":[-460],\"y\":[-196],\"type\":\"scatter\"},{\"line\":{\"color\":\"red\",\"width\":2},\"mode\":\"lines\",\"name\":\"Noah Fant motion path\",\"x\":[],\"y\":[],\"type\":\"scatter\"},{\"marker\":{\"color\":\"#ffffff\",\"line\":{\"color\":\"#000000\",\"width\":2},\"opacity\":1,\"size\":10},\"mode\":\"markers\",\"x\":[-939],\"y\":[-94],\"type\":\"scatter\"},{\"line\":{\"color\":\"red\",\"width\":2},\"mode\":\"lines\",\"name\":\"DK Metcalf motion path\",\"x\":[],\"y\":[],\"type\":\"scatter\"},{\"marker\":{\"color\":\"#ffffff\",\"line\":{\"color\":\"#000000\",\"width\":2},\"opacity\":1,\"size\":10},\"mode\":\"markers\",\"x\":[-154],\"y\":[-91],\"type\":\"scatter\"},{\"line\":{\"color\":\"red\",\"width\":2},\"mode\":\"lines\",\"name\":\"Phil Haynes motion path\",\"x\":[],\"y\":[],\"type\":\"scatter\"},{\"marker\":{\"color\":\"#ffffff\",\"line\":{\"color\":\"#000000\",\"width\":2},\"opacity\":1,\"size\":10},\"mode\":\"markers\",\"x\":[-292],\"y\":[-118],\"type\":\"scatter\"},{\"line\":{\"color\":\"red\",\"width\":2},\"mode\":\"lines\",\"name\":\"Charles Cross motion path\",\"x\":[],\"y\":[],\"type\":\"scatter\"},{\"marker\":{\"color\":\"#ffffff\",\"line\":{\"color\":\"#000000\",\"width\":2},\"opacity\":1,\"size\":10},\"mode\":\"markers\",\"x\":[316],\"y\":[-99],\"type\":\"scatter\"},{\"line\":{\"color\":\"red\",\"width\":2},\"mode\":\"lines\",\"name\":\"Abraham Lucas motion path\",\"x\":[],\"y\":[],\"type\":\"scatter\"}],\"name\":\"75\"},{\"data\":[{\"marker\":{\"color\":\"#ffffff\",\"line\":{\"color\":\"#000000\",\"width\":2},\"opacity\":1,\"size\":10},\"mode\":\"markers\",\"x\":[-7],\"y\":[-140],\"type\":\"scatter\"},{\"line\":{\"color\":\"red\",\"width\":2},\"mode\":\"lines\",\"name\":\"Geno Smith motion path\",\"x\":[],\"y\":[],\"type\":\"scatter\"},{\"marker\":{\"color\":\"#ffffff\",\"line\":{\"color\":\"#000000\",\"width\":2},\"opacity\":1,\"size\":10},\"mode\":\"markers\",\"x\":[164],\"y\":[-93],\"type\":\"scatter\"},{\"line\":{\"color\":\"red\",\"width\":2},\"mode\":\"lines\",\"name\":\"Gabe Jackson motion path\",\"x\":[],\"y\":[],\"type\":\"scatter\"},{\"marker\":{\"color\":\"#ffffff\",\"line\":{\"color\":\"#000000\",\"width\":2},\"opacity\":1,\"size\":10},\"mode\":\"markers\",\"x\":[961],\"y\":[-32],\"type\":\"scatter\"},{\"line\":{\"color\":\"red\",\"width\":2},\"mode\":\"lines\",\"name\":\"Tyler Lockett motion path\",\"x\":[],\"y\":[],\"type\":\"scatter\"},{\"marker\":{\"color\":\"#ffffff\",\"line\":{\"color\":\"#000000\",\"width\":2},\"opacity\":1,\"size\":10},\"mode\":\"markers\",\"x\":[-13],\"y\":[-22],\"type\":\"scatter\"},{\"line\":{\"color\":\"red\",\"width\":2},\"mode\":\"lines\",\"name\":\"Austin Blythe motion path\",\"x\":[],\"y\":[],\"type\":\"scatter\"},{\"marker\":{\"color\":\"#ffffff\",\"line\":{\"color\":\"#000000\",\"width\":2},\"opacity\":1,\"size\":10},\"mode\":\"markers\",\"x\":[0],\"y\":[-741],\"type\":\"scatter\"},{\"line\":{\"color\":\"red\",\"width\":2},\"mode\":\"lines\",\"name\":\"Rashaad Penny motion path\",\"x\":[],\"y\":[],\"type\":\"scatter\"},{\"marker\":{\"color\":\"#ff0000\",\"line\":{\"color\":\"#000000\",\"width\":2},\"opacity\":1,\"size\":10},\"mode\":\"markers\",\"x\":[60],\"y\":[-326],\"type\":\"scatter\"},{\"hoverinfo\":\"none\",\"marker\":{\"color\":\"rgba(255, 0, 0, 0.5)\",\"line\":{\"color\":\"red\",\"width\":2},\"size\":20},\"mode\":\"markers\",\"name\":\"Will Dissly in motion\",\"x\":[60],\"y\":[-326],\"type\":\"scatter\"},{\"line\":{\"color\":\"red\",\"width\":2},\"mode\":\"lines\",\"name\":\"Will Dissly motion path\",\"x\":[-238,-230,-220,-206,-190,-170,-147,-120,-89,-56,-19,20,60],\"y\":[-464,-460,-456,-450,-442,-432,-421,-409,-392,-378,-360,-343,-326],\"type\":\"scatter\"},{\"marker\":{\"color\":\"#ff0000\",\"line\":{\"color\":\"#000000\",\"width\":2},\"opacity\":1,\"size\":10},\"mode\":\"markers\",\"x\":[-460],\"y\":[-196],\"type\":\"scatter\"},{\"line\":{\"color\":\"red\",\"width\":2},\"mode\":\"lines\",\"name\":\"Noah Fant motion path\",\"x\":[],\"y\":[],\"type\":\"scatter\"},{\"marker\":{\"color\":\"#ffffff\",\"line\":{\"color\":\"#000000\",\"width\":2},\"opacity\":1,\"size\":10},\"mode\":\"markers\",\"x\":[-939],\"y\":[-93],\"type\":\"scatter\"},{\"line\":{\"color\":\"red\",\"width\":2},\"mode\":\"lines\",\"name\":\"DK Metcalf motion path\",\"x\":[],\"y\":[],\"type\":\"scatter\"},{\"marker\":{\"color\":\"#ffffff\",\"line\":{\"color\":\"#000000\",\"width\":2},\"opacity\":1,\"size\":10},\"mode\":\"markers\",\"x\":[-154],\"y\":[-90],\"type\":\"scatter\"},{\"line\":{\"color\":\"red\",\"width\":2},\"mode\":\"lines\",\"name\":\"Phil Haynes motion path\",\"x\":[],\"y\":[],\"type\":\"scatter\"},{\"marker\":{\"color\":\"#ffffff\",\"line\":{\"color\":\"#000000\",\"width\":2},\"opacity\":1,\"size\":10},\"mode\":\"markers\",\"x\":[-292],\"y\":[-119],\"type\":\"scatter\"},{\"line\":{\"color\":\"red\",\"width\":2},\"mode\":\"lines\",\"name\":\"Charles Cross motion path\",\"x\":[],\"y\":[],\"type\":\"scatter\"},{\"marker\":{\"color\":\"#ffffff\",\"line\":{\"color\":\"#000000\",\"width\":2},\"opacity\":1,\"size\":10},\"mode\":\"markers\",\"x\":[316],\"y\":[-99],\"type\":\"scatter\"},{\"line\":{\"color\":\"red\",\"width\":2},\"mode\":\"lines\",\"name\":\"Abraham Lucas motion path\",\"x\":[],\"y\":[],\"type\":\"scatter\"}],\"name\":\"76\"},{\"data\":[{\"marker\":{\"color\":\"#ffffff\",\"line\":{\"color\":\"#000000\",\"width\":2},\"opacity\":1,\"size\":10},\"mode\":\"markers\",\"x\":[-8],\"y\":[-139],\"type\":\"scatter\"},{\"line\":{\"color\":\"red\",\"width\":2},\"mode\":\"lines\",\"name\":\"Geno Smith motion path\",\"x\":[],\"y\":[],\"type\":\"scatter\"},{\"marker\":{\"color\":\"#ffffff\",\"line\":{\"color\":\"#000000\",\"width\":2},\"opacity\":1,\"size\":10},\"mode\":\"markers\",\"x\":[163],\"y\":[-92],\"type\":\"scatter\"},{\"line\":{\"color\":\"red\",\"width\":2},\"mode\":\"lines\",\"name\":\"Gabe Jackson motion path\",\"x\":[],\"y\":[],\"type\":\"scatter\"},{\"marker\":{\"color\":\"#ffffff\",\"line\":{\"color\":\"#000000\",\"width\":2},\"opacity\":1,\"size\":10},\"mode\":\"markers\",\"x\":[962],\"y\":[-32],\"type\":\"scatter\"},{\"line\":{\"color\":\"red\",\"width\":2},\"mode\":\"lines\",\"name\":\"Tyler Lockett motion path\",\"x\":[],\"y\":[],\"type\":\"scatter\"},{\"marker\":{\"color\":\"#ffffff\",\"line\":{\"color\":\"#000000\",\"width\":2},\"opacity\":1,\"size\":10},\"mode\":\"markers\",\"x\":[-13],\"y\":[-22],\"type\":\"scatter\"},{\"line\":{\"color\":\"red\",\"width\":2},\"mode\":\"lines\",\"name\":\"Austin Blythe motion path\",\"x\":[],\"y\":[],\"type\":\"scatter\"},{\"marker\":{\"color\":\"#ffffff\",\"line\":{\"color\":\"#000000\",\"width\":2},\"opacity\":1,\"size\":10},\"mode\":\"markers\",\"x\":[0],\"y\":[-741],\"type\":\"scatter\"},{\"line\":{\"color\":\"red\",\"width\":2},\"mode\":\"lines\",\"name\":\"Rashaad Penny motion path\",\"x\":[],\"y\":[],\"type\":\"scatter\"},{\"marker\":{\"color\":\"#ff0000\",\"line\":{\"color\":\"#000000\",\"width\":2},\"opacity\":1,\"size\":10},\"mode\":\"markers\",\"x\":[100],\"y\":[-308],\"type\":\"scatter\"},{\"hoverinfo\":\"none\",\"marker\":{\"color\":\"rgba(255, 0, 0, 0.5)\",\"line\":{\"color\":\"red\",\"width\":2},\"size\":20},\"mode\":\"markers\",\"name\":\"Will Dissly in motion\",\"x\":[100],\"y\":[-308],\"type\":\"scatter\"},{\"line\":{\"color\":\"red\",\"width\":2},\"mode\":\"lines\",\"name\":\"Will Dissly motion path\",\"x\":[-238,-230,-220,-206,-190,-170,-147,-120,-89,-56,-19,20,60,100],\"y\":[-464,-460,-456,-450,-442,-432,-421,-409,-392,-378,-360,-343,-326,-308],\"type\":\"scatter\"},{\"marker\":{\"color\":\"#ff0000\",\"line\":{\"color\":\"#000000\",\"width\":2},\"opacity\":1,\"size\":10},\"mode\":\"markers\",\"x\":[-460],\"y\":[-196],\"type\":\"scatter\"},{\"line\":{\"color\":\"red\",\"width\":2},\"mode\":\"lines\",\"name\":\"Noah Fant motion path\",\"x\":[],\"y\":[],\"type\":\"scatter\"},{\"marker\":{\"color\":\"#ffffff\",\"line\":{\"color\":\"#000000\",\"width\":2},\"opacity\":1,\"size\":10},\"mode\":\"markers\",\"x\":[-939],\"y\":[-92],\"type\":\"scatter\"},{\"line\":{\"color\":\"red\",\"width\":2},\"mode\":\"lines\",\"name\":\"DK Metcalf motion path\",\"x\":[],\"y\":[],\"type\":\"scatter\"},{\"marker\":{\"color\":\"#ffffff\",\"line\":{\"color\":\"#000000\",\"width\":2},\"opacity\":1,\"size\":10},\"mode\":\"markers\",\"x\":[-153],\"y\":[-89],\"type\":\"scatter\"},{\"line\":{\"color\":\"red\",\"width\":2},\"mode\":\"lines\",\"name\":\"Phil Haynes motion path\",\"x\":[],\"y\":[],\"type\":\"scatter\"},{\"marker\":{\"color\":\"#ffffff\",\"line\":{\"color\":\"#000000\",\"width\":2},\"opacity\":1,\"size\":10},\"mode\":\"markers\",\"x\":[-292],\"y\":[-121],\"type\":\"scatter\"},{\"line\":{\"color\":\"red\",\"width\":2},\"mode\":\"lines\",\"name\":\"Charles Cross motion path\",\"x\":[],\"y\":[],\"type\":\"scatter\"},{\"marker\":{\"color\":\"#ffffff\",\"line\":{\"color\":\"#000000\",\"width\":2},\"opacity\":1,\"size\":10},\"mode\":\"markers\",\"x\":[315],\"y\":[-99],\"type\":\"scatter\"},{\"line\":{\"color\":\"red\",\"width\":2},\"mode\":\"lines\",\"name\":\"Abraham Lucas motion path\",\"x\":[],\"y\":[],\"type\":\"scatter\"}],\"name\":\"77\"},{\"data\":[{\"marker\":{\"color\":\"#ffffff\",\"line\":{\"color\":\"#000000\",\"width\":2},\"opacity\":1,\"size\":10},\"mode\":\"markers\",\"x\":[-10],\"y\":[-137],\"type\":\"scatter\"},{\"line\":{\"color\":\"red\",\"width\":2},\"mode\":\"lines\",\"name\":\"Geno Smith motion path\",\"x\":[],\"y\":[],\"type\":\"scatter\"},{\"marker\":{\"color\":\"#ffffff\",\"line\":{\"color\":\"#000000\",\"width\":2},\"opacity\":1,\"size\":10},\"mode\":\"markers\",\"x\":[162],\"y\":[-91],\"type\":\"scatter\"},{\"line\":{\"color\":\"red\",\"width\":2},\"mode\":\"lines\",\"name\":\"Gabe Jackson motion path\",\"x\":[],\"y\":[],\"type\":\"scatter\"},{\"marker\":{\"color\":\"#ffffff\",\"line\":{\"color\":\"#000000\",\"width\":2},\"opacity\":1,\"size\":10},\"mode\":\"markers\",\"x\":[963],\"y\":[-33],\"type\":\"scatter\"},{\"line\":{\"color\":\"red\",\"width\":2},\"mode\":\"lines\",\"name\":\"Tyler Lockett motion path\",\"x\":[],\"y\":[],\"type\":\"scatter\"},{\"marker\":{\"color\":\"#ffffff\",\"line\":{\"color\":\"#000000\",\"width\":2},\"opacity\":1,\"size\":10},\"mode\":\"markers\",\"x\":[-13],\"y\":[-23],\"type\":\"scatter\"},{\"line\":{\"color\":\"red\",\"width\":2},\"mode\":\"lines\",\"name\":\"Austin Blythe motion path\",\"x\":[],\"y\":[],\"type\":\"scatter\"},{\"marker\":{\"color\":\"#ffffff\",\"line\":{\"color\":\"#000000\",\"width\":2},\"opacity\":1,\"size\":10},\"mode\":\"markers\",\"x\":[0],\"y\":[-740],\"type\":\"scatter\"},{\"line\":{\"color\":\"red\",\"width\":2},\"mode\":\"lines\",\"name\":\"Rashaad Penny motion path\",\"x\":[],\"y\":[],\"type\":\"scatter\"},{\"marker\":{\"color\":\"#ff0000\",\"line\":{\"color\":\"#000000\",\"width\":2},\"opacity\":1,\"size\":10},\"mode\":\"markers\",\"x\":[141],\"y\":[-292],\"type\":\"scatter\"},{\"hoverinfo\":\"none\",\"marker\":{\"color\":\"rgba(255, 0, 0, 0.5)\",\"line\":{\"color\":\"red\",\"width\":2},\"size\":20},\"mode\":\"markers\",\"name\":\"Will Dissly in motion\",\"x\":[141],\"y\":[-292],\"type\":\"scatter\"},{\"line\":{\"color\":\"red\",\"width\":2},\"mode\":\"lines\",\"name\":\"Will Dissly motion path\",\"x\":[-238,-230,-220,-206,-190,-170,-147,-120,-89,-56,-19,20,60,100,141],\"y\":[-464,-460,-456,-450,-442,-432,-421,-409,-392,-378,-360,-343,-326,-308,-292],\"type\":\"scatter\"},{\"marker\":{\"color\":\"#ff0000\",\"line\":{\"color\":\"#000000\",\"width\":2},\"opacity\":1,\"size\":10},\"mode\":\"markers\",\"x\":[-459],\"y\":[-196],\"type\":\"scatter\"},{\"line\":{\"color\":\"red\",\"width\":2},\"mode\":\"lines\",\"name\":\"Noah Fant motion path\",\"x\":[],\"y\":[],\"type\":\"scatter\"},{\"marker\":{\"color\":\"#ffffff\",\"line\":{\"color\":\"#000000\",\"width\":2},\"opacity\":1,\"size\":10},\"mode\":\"markers\",\"x\":[-939],\"y\":[-92],\"type\":\"scatter\"},{\"line\":{\"color\":\"red\",\"width\":2},\"mode\":\"lines\",\"name\":\"DK Metcalf motion path\",\"x\":[],\"y\":[],\"type\":\"scatter\"},{\"marker\":{\"color\":\"#ffffff\",\"line\":{\"color\":\"#000000\",\"width\":2},\"opacity\":1,\"size\":10},\"mode\":\"markers\",\"x\":[-153],\"y\":[-89],\"type\":\"scatter\"},{\"line\":{\"color\":\"red\",\"width\":2},\"mode\":\"lines\",\"name\":\"Phil Haynes motion path\",\"x\":[],\"y\":[],\"type\":\"scatter\"},{\"marker\":{\"color\":\"#ffffff\",\"line\":{\"color\":\"#000000\",\"width\":2},\"opacity\":1,\"size\":10},\"mode\":\"markers\",\"x\":[-292],\"y\":[-121],\"type\":\"scatter\"},{\"line\":{\"color\":\"red\",\"width\":2},\"mode\":\"lines\",\"name\":\"Charles Cross motion path\",\"x\":[],\"y\":[],\"type\":\"scatter\"},{\"marker\":{\"color\":\"#ffffff\",\"line\":{\"color\":\"#000000\",\"width\":2},\"opacity\":1,\"size\":10},\"mode\":\"markers\",\"x\":[315],\"y\":[-99],\"type\":\"scatter\"},{\"line\":{\"color\":\"red\",\"width\":2},\"mode\":\"lines\",\"name\":\"Abraham Lucas motion path\",\"x\":[],\"y\":[],\"type\":\"scatter\"}],\"name\":\"78\"},{\"data\":[{\"marker\":{\"color\":\"#ffffff\",\"line\":{\"color\":\"#000000\",\"width\":2},\"opacity\":1,\"size\":10},\"mode\":\"markers\",\"x\":[-11],\"y\":[-137],\"type\":\"scatter\"},{\"line\":{\"color\":\"red\",\"width\":2},\"mode\":\"lines\",\"name\":\"Geno Smith motion path\",\"x\":[],\"y\":[],\"type\":\"scatter\"},{\"marker\":{\"color\":\"#ffffff\",\"line\":{\"color\":\"#000000\",\"width\":2},\"opacity\":1,\"size\":10},\"mode\":\"markers\",\"x\":[161],\"y\":[-91],\"type\":\"scatter\"},{\"line\":{\"color\":\"red\",\"width\":2},\"mode\":\"lines\",\"name\":\"Gabe Jackson motion path\",\"x\":[],\"y\":[],\"type\":\"scatter\"},{\"marker\":{\"color\":\"#ffffff\",\"line\":{\"color\":\"#000000\",\"width\":2},\"opacity\":1,\"size\":10},\"mode\":\"markers\",\"x\":[962],\"y\":[-35],\"type\":\"scatter\"},{\"line\":{\"color\":\"red\",\"width\":2},\"mode\":\"lines\",\"name\":\"Tyler Lockett motion path\",\"x\":[],\"y\":[],\"type\":\"scatter\"},{\"marker\":{\"color\":\"#ffffff\",\"line\":{\"color\":\"#000000\",\"width\":2},\"opacity\":1,\"size\":10},\"mode\":\"markers\",\"x\":[-13],\"y\":[-23],\"type\":\"scatter\"},{\"line\":{\"color\":\"red\",\"width\":2},\"mode\":\"lines\",\"name\":\"Austin Blythe motion path\",\"x\":[],\"y\":[],\"type\":\"scatter\"},{\"marker\":{\"color\":\"#ffffff\",\"line\":{\"color\":\"#000000\",\"width\":2},\"opacity\":1,\"size\":10},\"mode\":\"markers\",\"x\":[0],\"y\":[-740],\"type\":\"scatter\"},{\"line\":{\"color\":\"red\",\"width\":2},\"mode\":\"lines\",\"name\":\"Rashaad Penny motion path\",\"x\":[],\"y\":[],\"type\":\"scatter\"},{\"marker\":{\"color\":\"#ff0000\",\"line\":{\"color\":\"#000000\",\"width\":2},\"opacity\":1,\"size\":10},\"mode\":\"markers\",\"x\":[181],\"y\":[-276],\"type\":\"scatter\"},{\"hoverinfo\":\"none\",\"marker\":{\"color\":\"rgba(255, 0, 0, 0.5)\",\"line\":{\"color\":\"red\",\"width\":2},\"size\":20},\"mode\":\"markers\",\"name\":\"Will Dissly in motion\",\"x\":[181],\"y\":[-276],\"type\":\"scatter\"},{\"line\":{\"color\":\"red\",\"width\":2},\"mode\":\"lines\",\"name\":\"Will Dissly motion path\",\"x\":[-238,-230,-220,-206,-190,-170,-147,-120,-89,-56,-19,20,60,100,141,181],\"y\":[-464,-460,-456,-450,-442,-432,-421,-409,-392,-378,-360,-343,-326,-308,-292,-276],\"type\":\"scatter\"},{\"marker\":{\"color\":\"#ff0000\",\"line\":{\"color\":\"#000000\",\"width\":2},\"opacity\":1,\"size\":10},\"mode\":\"markers\",\"x\":[-459],\"y\":[-196],\"type\":\"scatter\"},{\"line\":{\"color\":\"red\",\"width\":2},\"mode\":\"lines\",\"name\":\"Noah Fant motion path\",\"x\":[],\"y\":[],\"type\":\"scatter\"},{\"marker\":{\"color\":\"#ffffff\",\"line\":{\"color\":\"#000000\",\"width\":2},\"opacity\":1,\"size\":10},\"mode\":\"markers\",\"x\":[-939],\"y\":[-91],\"type\":\"scatter\"},{\"line\":{\"color\":\"red\",\"width\":2},\"mode\":\"lines\",\"name\":\"DK Metcalf motion path\",\"x\":[],\"y\":[],\"type\":\"scatter\"},{\"marker\":{\"color\":\"#ffffff\",\"line\":{\"color\":\"#000000\",\"width\":2},\"opacity\":1,\"size\":10},\"mode\":\"markers\",\"x\":[-153],\"y\":[-89],\"type\":\"scatter\"},{\"line\":{\"color\":\"red\",\"width\":2},\"mode\":\"lines\",\"name\":\"Phil Haynes motion path\",\"x\":[],\"y\":[],\"type\":\"scatter\"},{\"marker\":{\"color\":\"#ffffff\",\"line\":{\"color\":\"#000000\",\"width\":2},\"opacity\":1,\"size\":10},\"mode\":\"markers\",\"x\":[-292],\"y\":[-121],\"type\":\"scatter\"},{\"line\":{\"color\":\"red\",\"width\":2},\"mode\":\"lines\",\"name\":\"Charles Cross motion path\",\"x\":[],\"y\":[],\"type\":\"scatter\"},{\"marker\":{\"color\":\"#ffffff\",\"line\":{\"color\":\"#000000\",\"width\":2},\"opacity\":1,\"size\":10},\"mode\":\"markers\",\"x\":[314],\"y\":[-98],\"type\":\"scatter\"},{\"line\":{\"color\":\"red\",\"width\":2},\"mode\":\"lines\",\"name\":\"Abraham Lucas motion path\",\"x\":[],\"y\":[],\"type\":\"scatter\"}],\"name\":\"79\"},{\"data\":[{\"marker\":{\"color\":\"#ffffff\",\"line\":{\"color\":\"#000000\",\"width\":2},\"opacity\":1,\"size\":10},\"mode\":\"markers\",\"x\":[-11],\"y\":[-136],\"type\":\"scatter\"},{\"line\":{\"color\":\"red\",\"width\":2},\"mode\":\"lines\",\"name\":\"Geno Smith motion path\",\"x\":[],\"y\":[],\"type\":\"scatter\"},{\"marker\":{\"color\":\"#ffffff\",\"line\":{\"color\":\"#000000\",\"width\":2},\"opacity\":1,\"size\":10},\"mode\":\"markers\",\"x\":[161],\"y\":[-90],\"type\":\"scatter\"},{\"line\":{\"color\":\"red\",\"width\":2},\"mode\":\"lines\",\"name\":\"Gabe Jackson motion path\",\"x\":[],\"y\":[],\"type\":\"scatter\"},{\"marker\":{\"color\":\"#ffffff\",\"line\":{\"color\":\"#000000\",\"width\":2},\"opacity\":1,\"size\":10},\"mode\":\"markers\",\"x\":[962],\"y\":[-35],\"type\":\"scatter\"},{\"line\":{\"color\":\"red\",\"width\":2},\"mode\":\"lines\",\"name\":\"Tyler Lockett motion path\",\"x\":[],\"y\":[],\"type\":\"scatter\"},{\"marker\":{\"color\":\"#ffffff\",\"line\":{\"color\":\"#000000\",\"width\":2},\"opacity\":1,\"size\":10},\"mode\":\"markers\",\"x\":[-12],\"y\":[-23],\"type\":\"scatter\"},{\"line\":{\"color\":\"red\",\"width\":2},\"mode\":\"lines\",\"name\":\"Austin Blythe motion path\",\"x\":[],\"y\":[],\"type\":\"scatter\"},{\"marker\":{\"color\":\"#ffffff\",\"line\":{\"color\":\"#000000\",\"width\":2},\"opacity\":1,\"size\":10},\"mode\":\"markers\",\"x\":[0],\"y\":[-740],\"type\":\"scatter\"},{\"line\":{\"color\":\"red\",\"width\":2},\"mode\":\"lines\",\"name\":\"Rashaad Penny motion path\",\"x\":[],\"y\":[],\"type\":\"scatter\"},{\"marker\":{\"color\":\"#ff0000\",\"line\":{\"color\":\"#000000\",\"width\":2},\"opacity\":1,\"size\":10},\"mode\":\"markers\",\"x\":[221],\"y\":[-261],\"type\":\"scatter\"},{\"hoverinfo\":\"none\",\"marker\":{\"color\":\"rgba(255, 0, 0, 0.5)\",\"line\":{\"color\":\"red\",\"width\":2},\"size\":20},\"mode\":\"markers\",\"name\":\"Will Dissly in motion\",\"x\":[221],\"y\":[-261],\"type\":\"scatter\"},{\"line\":{\"color\":\"red\",\"width\":2},\"mode\":\"lines\",\"name\":\"Will Dissly motion path\",\"x\":[-238,-230,-220,-206,-190,-170,-147,-120,-89,-56,-19,20,60,100,141,181,221],\"y\":[-464,-460,-456,-450,-442,-432,-421,-409,-392,-378,-360,-343,-326,-308,-292,-276,-261],\"type\":\"scatter\"},{\"marker\":{\"color\":\"#ff0000\",\"line\":{\"color\":\"#000000\",\"width\":2},\"opacity\":1,\"size\":10},\"mode\":\"markers\",\"x\":[-458],\"y\":[-196],\"type\":\"scatter\"},{\"line\":{\"color\":\"red\",\"width\":2},\"mode\":\"lines\",\"name\":\"Noah Fant motion path\",\"x\":[],\"y\":[],\"type\":\"scatter\"},{\"marker\":{\"color\":\"#ffffff\",\"line\":{\"color\":\"#000000\",\"width\":2},\"opacity\":1,\"size\":10},\"mode\":\"markers\",\"x\":[-939],\"y\":[-90],\"type\":\"scatter\"},{\"line\":{\"color\":\"red\",\"width\":2},\"mode\":\"lines\",\"name\":\"DK Metcalf motion path\",\"x\":[],\"y\":[],\"type\":\"scatter\"},{\"marker\":{\"color\":\"#ffffff\",\"line\":{\"color\":\"#000000\",\"width\":2},\"opacity\":1,\"size\":10},\"mode\":\"markers\",\"x\":[-153],\"y\":[-89],\"type\":\"scatter\"},{\"line\":{\"color\":\"red\",\"width\":2},\"mode\":\"lines\",\"name\":\"Phil Haynes motion path\",\"x\":[],\"y\":[],\"type\":\"scatter\"},{\"marker\":{\"color\":\"#ffffff\",\"line\":{\"color\":\"#000000\",\"width\":2},\"opacity\":1,\"size\":10},\"mode\":\"markers\",\"x\":[-292],\"y\":[-122],\"type\":\"scatter\"},{\"line\":{\"color\":\"red\",\"width\":2},\"mode\":\"lines\",\"name\":\"Charles Cross motion path\",\"x\":[],\"y\":[],\"type\":\"scatter\"},{\"marker\":{\"color\":\"#ffffff\",\"line\":{\"color\":\"#000000\",\"width\":2},\"opacity\":1,\"size\":10},\"mode\":\"markers\",\"x\":[314],\"y\":[-98],\"type\":\"scatter\"},{\"line\":{\"color\":\"red\",\"width\":2},\"mode\":\"lines\",\"name\":\"Abraham Lucas motion path\",\"x\":[],\"y\":[],\"type\":\"scatter\"}],\"name\":\"80\"},{\"data\":[{\"marker\":{\"color\":\"#ffffff\",\"line\":{\"color\":\"#000000\",\"width\":2},\"opacity\":1,\"size\":10},\"mode\":\"markers\",\"x\":[-11],\"y\":[-136],\"type\":\"scatter\"},{\"line\":{\"color\":\"red\",\"width\":2},\"mode\":\"lines\",\"name\":\"Geno Smith motion path\",\"x\":[],\"y\":[],\"type\":\"scatter\"},{\"marker\":{\"color\":\"#ffffff\",\"line\":{\"color\":\"#000000\",\"width\":2},\"opacity\":1,\"size\":10},\"mode\":\"markers\",\"x\":[161],\"y\":[-90],\"type\":\"scatter\"},{\"line\":{\"color\":\"red\",\"width\":2},\"mode\":\"lines\",\"name\":\"Gabe Jackson motion path\",\"x\":[],\"y\":[],\"type\":\"scatter\"},{\"marker\":{\"color\":\"#ffffff\",\"line\":{\"color\":\"#000000\",\"width\":2},\"opacity\":1,\"size\":10},\"mode\":\"markers\",\"x\":[962],\"y\":[-35],\"type\":\"scatter\"},{\"line\":{\"color\":\"red\",\"width\":2},\"mode\":\"lines\",\"name\":\"Tyler Lockett motion path\",\"x\":[],\"y\":[],\"type\":\"scatter\"},{\"marker\":{\"color\":\"#ffffff\",\"line\":{\"color\":\"#000000\",\"width\":2},\"opacity\":1,\"size\":10},\"mode\":\"markers\",\"x\":[-12],\"y\":[-23],\"type\":\"scatter\"},{\"line\":{\"color\":\"red\",\"width\":2},\"mode\":\"lines\",\"name\":\"Austin Blythe motion path\",\"x\":[],\"y\":[],\"type\":\"scatter\"},{\"marker\":{\"color\":\"#ffffff\",\"line\":{\"color\":\"#000000\",\"width\":2},\"opacity\":1,\"size\":10},\"mode\":\"markers\",\"x\":[0],\"y\":[-740],\"type\":\"scatter\"},{\"line\":{\"color\":\"red\",\"width\":2},\"mode\":\"lines\",\"name\":\"Rashaad Penny motion path\",\"x\":[],\"y\":[],\"type\":\"scatter\"},{\"marker\":{\"color\":\"#ff0000\",\"line\":{\"color\":\"#000000\",\"width\":2},\"opacity\":1,\"size\":10},\"mode\":\"markers\",\"x\":[259],\"y\":[-247],\"type\":\"scatter\"},{\"hoverinfo\":\"none\",\"marker\":{\"color\":\"rgba(255, 0, 0, 0.5)\",\"line\":{\"color\":\"red\",\"width\":2},\"size\":20},\"mode\":\"markers\",\"name\":\"Will Dissly in motion\",\"x\":[259],\"y\":[-247],\"type\":\"scatter\"},{\"line\":{\"color\":\"red\",\"width\":2},\"mode\":\"lines\",\"name\":\"Will Dissly motion path\",\"x\":[-238,-230,-220,-206,-190,-170,-147,-120,-89,-56,-19,20,60,100,141,181,221,259],\"y\":[-464,-460,-456,-450,-442,-432,-421,-409,-392,-378,-360,-343,-326,-308,-292,-276,-261,-247],\"type\":\"scatter\"},{\"marker\":{\"color\":\"#ff0000\",\"line\":{\"color\":\"#000000\",\"width\":2},\"opacity\":1,\"size\":10},\"mode\":\"markers\",\"x\":[-458],\"y\":[-196],\"type\":\"scatter\"},{\"line\":{\"color\":\"red\",\"width\":2},\"mode\":\"lines\",\"name\":\"Noah Fant motion path\",\"x\":[],\"y\":[],\"type\":\"scatter\"},{\"marker\":{\"color\":\"#ffffff\",\"line\":{\"color\":\"#000000\",\"width\":2},\"opacity\":1,\"size\":10},\"mode\":\"markers\",\"x\":[-939],\"y\":[-90],\"type\":\"scatter\"},{\"line\":{\"color\":\"red\",\"width\":2},\"mode\":\"lines\",\"name\":\"DK Metcalf motion path\",\"x\":[],\"y\":[],\"type\":\"scatter\"},{\"marker\":{\"color\":\"#ffffff\",\"line\":{\"color\":\"#000000\",\"width\":2},\"opacity\":1,\"size\":10},\"mode\":\"markers\",\"x\":[-153],\"y\":[-89],\"type\":\"scatter\"},{\"line\":{\"color\":\"red\",\"width\":2},\"mode\":\"lines\",\"name\":\"Phil Haynes motion path\",\"x\":[],\"y\":[],\"type\":\"scatter\"},{\"marker\":{\"color\":\"#ffffff\",\"line\":{\"color\":\"#000000\",\"width\":2},\"opacity\":1,\"size\":10},\"mode\":\"markers\",\"x\":[-292],\"y\":[-122],\"type\":\"scatter\"},{\"line\":{\"color\":\"red\",\"width\":2},\"mode\":\"lines\",\"name\":\"Charles Cross motion path\",\"x\":[],\"y\":[],\"type\":\"scatter\"},{\"marker\":{\"color\":\"#ffffff\",\"line\":{\"color\":\"#000000\",\"width\":2},\"opacity\":1,\"size\":10},\"mode\":\"markers\",\"x\":[313],\"y\":[-97],\"type\":\"scatter\"},{\"line\":{\"color\":\"red\",\"width\":2},\"mode\":\"lines\",\"name\":\"Abraham Lucas motion path\",\"x\":[],\"y\":[],\"type\":\"scatter\"}],\"name\":\"81\"},{\"data\":[{\"marker\":{\"color\":\"#ffffff\",\"line\":{\"color\":\"#000000\",\"width\":2},\"opacity\":1,\"size\":10},\"mode\":\"markers\",\"x\":[-10],\"y\":[-136],\"type\":\"scatter\"},{\"line\":{\"color\":\"red\",\"width\":2},\"mode\":\"lines\",\"name\":\"Geno Smith motion path\",\"x\":[],\"y\":[],\"type\":\"scatter\"},{\"marker\":{\"color\":\"#ffffff\",\"line\":{\"color\":\"#000000\",\"width\":2},\"opacity\":1,\"size\":10},\"mode\":\"markers\",\"x\":[161],\"y\":[-90],\"type\":\"scatter\"},{\"line\":{\"color\":\"red\",\"width\":2},\"mode\":\"lines\",\"name\":\"Gabe Jackson motion path\",\"x\":[],\"y\":[],\"type\":\"scatter\"},{\"marker\":{\"color\":\"#ffffff\",\"line\":{\"color\":\"#000000\",\"width\":2},\"opacity\":1,\"size\":10},\"mode\":\"markers\",\"x\":[962],\"y\":[-35],\"type\":\"scatter\"},{\"line\":{\"color\":\"red\",\"width\":2},\"mode\":\"lines\",\"name\":\"Tyler Lockett motion path\",\"x\":[],\"y\":[],\"type\":\"scatter\"},{\"marker\":{\"color\":\"#ffffff\",\"line\":{\"color\":\"#000000\",\"width\":2},\"opacity\":1,\"size\":10},\"mode\":\"markers\",\"x\":[-12],\"y\":[-23],\"type\":\"scatter\"},{\"line\":{\"color\":\"red\",\"width\":2},\"mode\":\"lines\",\"name\":\"Austin Blythe motion path\",\"x\":[],\"y\":[],\"type\":\"scatter\"},{\"marker\":{\"color\":\"#ffffff\",\"line\":{\"color\":\"#000000\",\"width\":2},\"opacity\":1,\"size\":10},\"mode\":\"markers\",\"x\":[-1],\"y\":[-741],\"type\":\"scatter\"},{\"line\":{\"color\":\"red\",\"width\":2},\"mode\":\"lines\",\"name\":\"Rashaad Penny motion path\",\"x\":[],\"y\":[],\"type\":\"scatter\"},{\"marker\":{\"color\":\"#ff0000\",\"line\":{\"color\":\"#000000\",\"width\":2},\"opacity\":1,\"size\":10},\"mode\":\"markers\",\"x\":[296],\"y\":[-233],\"type\":\"scatter\"},{\"hoverinfo\":\"none\",\"marker\":{\"color\":\"rgba(255, 0, 0, 0.5)\",\"line\":{\"color\":\"red\",\"width\":2},\"size\":20},\"mode\":\"markers\",\"name\":\"Will Dissly in motion\",\"x\":[296],\"y\":[-233],\"type\":\"scatter\"},{\"line\":{\"color\":\"red\",\"width\":2},\"mode\":\"lines\",\"name\":\"Will Dissly motion path\",\"x\":[-238,-230,-220,-206,-190,-170,-147,-120,-89,-56,-19,20,60,100,141,181,221,259,296],\"y\":[-464,-460,-456,-450,-442,-432,-421,-409,-392,-378,-360,-343,-326,-308,-292,-276,-261,-247,-233],\"type\":\"scatter\"},{\"marker\":{\"color\":\"#ff0000\",\"line\":{\"color\":\"#000000\",\"width\":2},\"opacity\":1,\"size\":10},\"mode\":\"markers\",\"x\":[-458],\"y\":[-196],\"type\":\"scatter\"},{\"line\":{\"color\":\"red\",\"width\":2},\"mode\":\"lines\",\"name\":\"Noah Fant motion path\",\"x\":[],\"y\":[],\"type\":\"scatter\"},{\"marker\":{\"color\":\"#ffffff\",\"line\":{\"color\":\"#000000\",\"width\":2},\"opacity\":1,\"size\":10},\"mode\":\"markers\",\"x\":[-939],\"y\":[-89],\"type\":\"scatter\"},{\"line\":{\"color\":\"red\",\"width\":2},\"mode\":\"lines\",\"name\":\"DK Metcalf motion path\",\"x\":[],\"y\":[],\"type\":\"scatter\"},{\"marker\":{\"color\":\"#ffffff\",\"line\":{\"color\":\"#000000\",\"width\":2},\"opacity\":1,\"size\":10},\"mode\":\"markers\",\"x\":[-154],\"y\":[-89],\"type\":\"scatter\"},{\"line\":{\"color\":\"red\",\"width\":2},\"mode\":\"lines\",\"name\":\"Phil Haynes motion path\",\"x\":[],\"y\":[],\"type\":\"scatter\"},{\"marker\":{\"color\":\"#ffffff\",\"line\":{\"color\":\"#000000\",\"width\":2},\"opacity\":1,\"size\":10},\"mode\":\"markers\",\"x\":[-291],\"y\":[-123],\"type\":\"scatter\"},{\"line\":{\"color\":\"red\",\"width\":2},\"mode\":\"lines\",\"name\":\"Charles Cross motion path\",\"x\":[],\"y\":[],\"type\":\"scatter\"},{\"marker\":{\"color\":\"#ffffff\",\"line\":{\"color\":\"#000000\",\"width\":2},\"opacity\":1,\"size\":10},\"mode\":\"markers\",\"x\":[312],\"y\":[-97],\"type\":\"scatter\"},{\"line\":{\"color\":\"red\",\"width\":2},\"mode\":\"lines\",\"name\":\"Abraham Lucas motion path\",\"x\":[],\"y\":[],\"type\":\"scatter\"}],\"name\":\"82\"},{\"data\":[{\"marker\":{\"color\":\"#ffffff\",\"line\":{\"color\":\"#000000\",\"width\":2},\"opacity\":1,\"size\":10},\"mode\":\"markers\",\"x\":[-9],\"y\":[-136],\"type\":\"scatter\"},{\"line\":{\"color\":\"red\",\"width\":2},\"mode\":\"lines\",\"name\":\"Geno Smith motion path\",\"x\":[],\"y\":[],\"type\":\"scatter\"},{\"marker\":{\"color\":\"#ffffff\",\"line\":{\"color\":\"#000000\",\"width\":2},\"opacity\":1,\"size\":10},\"mode\":\"markers\",\"x\":[162],\"y\":[-91],\"type\":\"scatter\"},{\"line\":{\"color\":\"red\",\"width\":2},\"mode\":\"lines\",\"name\":\"Gabe Jackson motion path\",\"x\":[],\"y\":[],\"type\":\"scatter\"},{\"marker\":{\"color\":\"#ffffff\",\"line\":{\"color\":\"#000000\",\"width\":2},\"opacity\":1,\"size\":10},\"mode\":\"markers\",\"x\":[963],\"y\":[-35],\"type\":\"scatter\"},{\"line\":{\"color\":\"red\",\"width\":2},\"mode\":\"lines\",\"name\":\"Tyler Lockett motion path\",\"x\":[],\"y\":[],\"type\":\"scatter\"},{\"marker\":{\"color\":\"#ffffff\",\"line\":{\"color\":\"#000000\",\"width\":2},\"opacity\":1,\"size\":10},\"mode\":\"markers\",\"x\":[-11],\"y\":[-22],\"type\":\"scatter\"},{\"line\":{\"color\":\"red\",\"width\":2},\"mode\":\"lines\",\"name\":\"Austin Blythe motion path\",\"x\":[],\"y\":[],\"type\":\"scatter\"},{\"marker\":{\"color\":\"#ffffff\",\"line\":{\"color\":\"#000000\",\"width\":2},\"opacity\":1,\"size\":10},\"mode\":\"markers\",\"x\":[-1],\"y\":[-741],\"type\":\"scatter\"},{\"line\":{\"color\":\"red\",\"width\":2},\"mode\":\"lines\",\"name\":\"Rashaad Penny motion path\",\"x\":[],\"y\":[],\"type\":\"scatter\"},{\"marker\":{\"color\":\"#ff0000\",\"line\":{\"color\":\"#000000\",\"width\":2},\"opacity\":1,\"size\":10},\"mode\":\"markers\",\"x\":[330],\"y\":[-219],\"type\":\"scatter\"},{\"hoverinfo\":\"none\",\"marker\":{\"color\":\"rgba(255, 0, 0, 0.5)\",\"line\":{\"color\":\"red\",\"width\":2},\"size\":20},\"mode\":\"markers\",\"name\":\"Will Dissly in motion\",\"x\":[330],\"y\":[-219],\"type\":\"scatter\"},{\"line\":{\"color\":\"red\",\"width\":2},\"mode\":\"lines\",\"name\":\"Will Dissly motion path\",\"x\":[-238,-230,-220,-206,-190,-170,-147,-120,-89,-56,-19,20,60,100,141,181,221,259,296,330],\"y\":[-464,-460,-456,-450,-442,-432,-421,-409,-392,-378,-360,-343,-326,-308,-292,-276,-261,-247,-233,-219],\"type\":\"scatter\"},{\"marker\":{\"color\":\"#ff0000\",\"line\":{\"color\":\"#000000\",\"width\":2},\"opacity\":1,\"size\":10},\"mode\":\"markers\",\"x\":[-457],\"y\":[-196],\"type\":\"scatter\"},{\"line\":{\"color\":\"red\",\"width\":2},\"mode\":\"lines\",\"name\":\"Noah Fant motion path\",\"x\":[],\"y\":[],\"type\":\"scatter\"},{\"marker\":{\"color\":\"#ffffff\",\"line\":{\"color\":\"#000000\",\"width\":2},\"opacity\":1,\"size\":10},\"mode\":\"markers\",\"x\":[-939],\"y\":[-89],\"type\":\"scatter\"},{\"line\":{\"color\":\"red\",\"width\":2},\"mode\":\"lines\",\"name\":\"DK Metcalf motion path\",\"x\":[],\"y\":[],\"type\":\"scatter\"},{\"marker\":{\"color\":\"#ffffff\",\"line\":{\"color\":\"#000000\",\"width\":2},\"opacity\":1,\"size\":10},\"mode\":\"markers\",\"x\":[-154],\"y\":[-89],\"type\":\"scatter\"},{\"line\":{\"color\":\"red\",\"width\":2},\"mode\":\"lines\",\"name\":\"Phil Haynes motion path\",\"x\":[],\"y\":[],\"type\":\"scatter\"},{\"marker\":{\"color\":\"#ffffff\",\"line\":{\"color\":\"#000000\",\"width\":2},\"opacity\":1,\"size\":10},\"mode\":\"markers\",\"x\":[-291],\"y\":[-122],\"type\":\"scatter\"},{\"line\":{\"color\":\"red\",\"width\":2},\"mode\":\"lines\",\"name\":\"Charles Cross motion path\",\"x\":[],\"y\":[],\"type\":\"scatter\"},{\"marker\":{\"color\":\"#ffffff\",\"line\":{\"color\":\"#000000\",\"width\":2},\"opacity\":1,\"size\":10},\"mode\":\"markers\",\"x\":[312],\"y\":[-97],\"type\":\"scatter\"},{\"line\":{\"color\":\"red\",\"width\":2},\"mode\":\"lines\",\"name\":\"Abraham Lucas motion path\",\"x\":[],\"y\":[],\"type\":\"scatter\"}],\"name\":\"83\"},{\"data\":[{\"marker\":{\"color\":\"#ffffff\",\"line\":{\"color\":\"#000000\",\"width\":2},\"opacity\":1,\"size\":10},\"mode\":\"markers\",\"x\":[-8],\"y\":[-136],\"type\":\"scatter\"},{\"line\":{\"color\":\"red\",\"width\":2},\"mode\":\"lines\",\"name\":\"Geno Smith motion path\",\"x\":[],\"y\":[],\"type\":\"scatter\"},{\"marker\":{\"color\":\"#ffffff\",\"line\":{\"color\":\"#000000\",\"width\":2},\"opacity\":1,\"size\":10},\"mode\":\"markers\",\"x\":[162],\"y\":[-92],\"type\":\"scatter\"},{\"line\":{\"color\":\"red\",\"width\":2},\"mode\":\"lines\",\"name\":\"Gabe Jackson motion path\",\"x\":[],\"y\":[],\"type\":\"scatter\"},{\"marker\":{\"color\":\"#ffffff\",\"line\":{\"color\":\"#000000\",\"width\":2},\"opacity\":1,\"size\":10},\"mode\":\"markers\",\"x\":[964],\"y\":[-35],\"type\":\"scatter\"},{\"line\":{\"color\":\"red\",\"width\":2},\"mode\":\"lines\",\"name\":\"Tyler Lockett motion path\",\"x\":[],\"y\":[],\"type\":\"scatter\"},{\"marker\":{\"color\":\"#ffffff\",\"line\":{\"color\":\"#000000\",\"width\":2},\"opacity\":1,\"size\":10},\"mode\":\"markers\",\"x\":[-10],\"y\":[-22],\"type\":\"scatter\"},{\"line\":{\"color\":\"red\",\"width\":2},\"mode\":\"lines\",\"name\":\"Austin Blythe motion path\",\"x\":[],\"y\":[],\"type\":\"scatter\"},{\"marker\":{\"color\":\"#ffffff\",\"line\":{\"color\":\"#000000\",\"width\":2},\"opacity\":1,\"size\":10},\"mode\":\"markers\",\"x\":[-1],\"y\":[-742],\"type\":\"scatter\"},{\"line\":{\"color\":\"red\",\"width\":2},\"mode\":\"lines\",\"name\":\"Rashaad Penny motion path\",\"x\":[],\"y\":[],\"type\":\"scatter\"},{\"marker\":{\"color\":\"#ff0000\",\"line\":{\"color\":\"#000000\",\"width\":2},\"opacity\":1,\"size\":10},\"mode\":\"markers\",\"x\":[362],\"y\":[-207],\"type\":\"scatter\"},{\"hoverinfo\":\"none\",\"marker\":{\"color\":\"rgba(255, 0, 0, 0.5)\",\"line\":{\"color\":\"red\",\"width\":2},\"size\":20},\"mode\":\"markers\",\"name\":\"Will Dissly in motion\",\"x\":[362],\"y\":[-207],\"type\":\"scatter\"},{\"line\":{\"color\":\"red\",\"width\":2},\"mode\":\"lines\",\"name\":\"Will Dissly motion path\",\"x\":[-238,-230,-220,-206,-190,-170,-147,-120,-89,-56,-19,20,60,100,141,181,221,259,296,330,362],\"y\":[-464,-460,-456,-450,-442,-432,-421,-409,-392,-378,-360,-343,-326,-308,-292,-276,-261,-247,-233,-219,-207],\"type\":\"scatter\"},{\"marker\":{\"color\":\"#ff0000\",\"line\":{\"color\":\"#000000\",\"width\":2},\"opacity\":1,\"size\":10},\"mode\":\"markers\",\"x\":[-457],\"y\":[-194],\"type\":\"scatter\"},{\"line\":{\"color\":\"red\",\"width\":2},\"mode\":\"lines\",\"name\":\"Noah Fant motion path\",\"x\":[],\"y\":[],\"type\":\"scatter\"},{\"marker\":{\"color\":\"#ffffff\",\"line\":{\"color\":\"#000000\",\"width\":2},\"opacity\":1,\"size\":10},\"mode\":\"markers\",\"x\":[-939],\"y\":[-89],\"type\":\"scatter\"},{\"line\":{\"color\":\"red\",\"width\":2},\"mode\":\"lines\",\"name\":\"DK Metcalf motion path\",\"x\":[],\"y\":[],\"type\":\"scatter\"},{\"marker\":{\"color\":\"#ffffff\",\"line\":{\"color\":\"#000000\",\"width\":2},\"opacity\":1,\"size\":10},\"mode\":\"markers\",\"x\":[-154],\"y\":[-89],\"type\":\"scatter\"},{\"line\":{\"color\":\"red\",\"width\":2},\"mode\":\"lines\",\"name\":\"Phil Haynes motion path\",\"x\":[],\"y\":[],\"type\":\"scatter\"},{\"marker\":{\"color\":\"#ffffff\",\"line\":{\"color\":\"#000000\",\"width\":2},\"opacity\":1,\"size\":10},\"mode\":\"markers\",\"x\":[-291],\"y\":[-122],\"type\":\"scatter\"},{\"line\":{\"color\":\"red\",\"width\":2},\"mode\":\"lines\",\"name\":\"Charles Cross motion path\",\"x\":[],\"y\":[],\"type\":\"scatter\"},{\"marker\":{\"color\":\"#ffffff\",\"line\":{\"color\":\"#000000\",\"width\":2},\"opacity\":1,\"size\":10},\"mode\":\"markers\",\"x\":[312],\"y\":[-96],\"type\":\"scatter\"},{\"line\":{\"color\":\"red\",\"width\":2},\"mode\":\"lines\",\"name\":\"Abraham Lucas motion path\",\"x\":[],\"y\":[],\"type\":\"scatter\"}],\"name\":\"84\"},{\"data\":[{\"marker\":{\"color\":\"#ffffff\",\"line\":{\"color\":\"#000000\",\"width\":2},\"opacity\":1,\"size\":10},\"mode\":\"markers\",\"x\":[-7],\"y\":[-137],\"type\":\"scatter\"},{\"line\":{\"color\":\"red\",\"width\":2},\"mode\":\"lines\",\"name\":\"Geno Smith motion path\",\"x\":[],\"y\":[],\"type\":\"scatter\"},{\"marker\":{\"color\":\"#ffffff\",\"line\":{\"color\":\"#000000\",\"width\":2},\"opacity\":1,\"size\":10},\"mode\":\"markers\",\"x\":[163],\"y\":[-93],\"type\":\"scatter\"},{\"line\":{\"color\":\"red\",\"width\":2},\"mode\":\"lines\",\"name\":\"Gabe Jackson motion path\",\"x\":[],\"y\":[],\"type\":\"scatter\"},{\"marker\":{\"color\":\"#ffffff\",\"line\":{\"color\":\"#000000\",\"width\":2},\"opacity\":1,\"size\":10},\"mode\":\"markers\",\"x\":[964],\"y\":[-35],\"type\":\"scatter\"},{\"line\":{\"color\":\"red\",\"width\":2},\"mode\":\"lines\",\"name\":\"Tyler Lockett motion path\",\"x\":[],\"y\":[],\"type\":\"scatter\"},{\"marker\":{\"color\":\"#ffffff\",\"line\":{\"color\":\"#000000\",\"width\":2},\"opacity\":1,\"size\":10},\"mode\":\"markers\",\"x\":[-11],\"y\":[-22],\"type\":\"scatter\"},{\"line\":{\"color\":\"red\",\"width\":2},\"mode\":\"lines\",\"name\":\"Austin Blythe motion path\",\"x\":[],\"y\":[],\"type\":\"scatter\"},{\"marker\":{\"color\":\"#ffffff\",\"line\":{\"color\":\"#000000\",\"width\":2},\"opacity\":1,\"size\":10},\"mode\":\"markers\",\"x\":[0],\"y\":[-742],\"type\":\"scatter\"},{\"line\":{\"color\":\"red\",\"width\":2},\"mode\":\"lines\",\"name\":\"Rashaad Penny motion path\",\"x\":[],\"y\":[],\"type\":\"scatter\"},{\"marker\":{\"color\":\"#ff0000\",\"line\":{\"color\":\"#000000\",\"width\":2},\"opacity\":1,\"size\":10},\"mode\":\"markers\",\"x\":[392],\"y\":[-196],\"type\":\"scatter\"},{\"hoverinfo\":\"none\",\"marker\":{\"color\":\"rgba(255, 0, 0, 0.5)\",\"line\":{\"color\":\"red\",\"width\":2},\"size\":20},\"mode\":\"markers\",\"name\":\"Will Dissly in motion\",\"x\":[392],\"y\":[-196],\"type\":\"scatter\"},{\"line\":{\"color\":\"red\",\"width\":2},\"mode\":\"lines\",\"name\":\"Will Dissly motion path\",\"x\":[-238,-230,-220,-206,-190,-170,-147,-120,-89,-56,-19,20,60,100,141,181,221,259,296,330,362,392],\"y\":[-464,-460,-456,-450,-442,-432,-421,-409,-392,-378,-360,-343,-326,-308,-292,-276,-261,-247,-233,-219,-207,-196],\"type\":\"scatter\"},{\"marker\":{\"color\":\"#ff0000\",\"line\":{\"color\":\"#000000\",\"width\":2},\"opacity\":1,\"size\":10},\"mode\":\"markers\",\"x\":[-456],\"y\":[-194],\"type\":\"scatter\"},{\"line\":{\"color\":\"red\",\"width\":2},\"mode\":\"lines\",\"name\":\"Noah Fant motion path\",\"x\":[],\"y\":[],\"type\":\"scatter\"},{\"marker\":{\"color\":\"#ffffff\",\"line\":{\"color\":\"#000000\",\"width\":2},\"opacity\":1,\"size\":10},\"mode\":\"markers\",\"x\":[-941],\"y\":[-89],\"type\":\"scatter\"},{\"line\":{\"color\":\"red\",\"width\":2},\"mode\":\"lines\",\"name\":\"DK Metcalf motion path\",\"x\":[],\"y\":[],\"type\":\"scatter\"},{\"marker\":{\"color\":\"#ffffff\",\"line\":{\"color\":\"#000000\",\"width\":2},\"opacity\":1,\"size\":10},\"mode\":\"markers\",\"x\":[-154],\"y\":[-89],\"type\":\"scatter\"},{\"line\":{\"color\":\"red\",\"width\":2},\"mode\":\"lines\",\"name\":\"Phil Haynes motion path\",\"x\":[],\"y\":[],\"type\":\"scatter\"},{\"marker\":{\"color\":\"#ffffff\",\"line\":{\"color\":\"#000000\",\"width\":2},\"opacity\":1,\"size\":10},\"mode\":\"markers\",\"x\":[-290],\"y\":[-122],\"type\":\"scatter\"},{\"line\":{\"color\":\"red\",\"width\":2},\"mode\":\"lines\",\"name\":\"Charles Cross motion path\",\"x\":[],\"y\":[],\"type\":\"scatter\"},{\"marker\":{\"color\":\"#ffffff\",\"line\":{\"color\":\"#000000\",\"width\":2},\"opacity\":1,\"size\":10},\"mode\":\"markers\",\"x\":[312],\"y\":[-96],\"type\":\"scatter\"},{\"line\":{\"color\":\"red\",\"width\":2},\"mode\":\"lines\",\"name\":\"Abraham Lucas motion path\",\"x\":[],\"y\":[],\"type\":\"scatter\"}],\"name\":\"85\"},{\"data\":[{\"marker\":{\"color\":\"#ffffff\",\"line\":{\"color\":\"#000000\",\"width\":2},\"opacity\":1,\"size\":10},\"mode\":\"markers\",\"x\":[-6],\"y\":[-137],\"type\":\"scatter\"},{\"line\":{\"color\":\"red\",\"width\":2},\"mode\":\"lines\",\"name\":\"Geno Smith motion path\",\"x\":[],\"y\":[],\"type\":\"scatter\"},{\"marker\":{\"color\":\"#ffffff\",\"line\":{\"color\":\"#000000\",\"width\":2},\"opacity\":1,\"size\":10},\"mode\":\"markers\",\"x\":[163],\"y\":[-94],\"type\":\"scatter\"},{\"line\":{\"color\":\"red\",\"width\":2},\"mode\":\"lines\",\"name\":\"Gabe Jackson motion path\",\"x\":[],\"y\":[],\"type\":\"scatter\"},{\"marker\":{\"color\":\"#ffffff\",\"line\":{\"color\":\"#000000\",\"width\":2},\"opacity\":1,\"size\":10},\"mode\":\"markers\",\"x\":[965],\"y\":[-35],\"type\":\"scatter\"},{\"line\":{\"color\":\"red\",\"width\":2},\"mode\":\"lines\",\"name\":\"Tyler Lockett motion path\",\"x\":[],\"y\":[],\"type\":\"scatter\"},{\"marker\":{\"color\":\"#ffffff\",\"line\":{\"color\":\"#000000\",\"width\":2},\"opacity\":1,\"size\":10},\"mode\":\"markers\",\"x\":[-10],\"y\":[-22],\"type\":\"scatter\"},{\"line\":{\"color\":\"red\",\"width\":2},\"mode\":\"lines\",\"name\":\"Austin Blythe motion path\",\"x\":[],\"y\":[],\"type\":\"scatter\"},{\"marker\":{\"color\":\"#ffffff\",\"line\":{\"color\":\"#000000\",\"width\":2},\"opacity\":1,\"size\":10},\"mode\":\"markers\",\"x\":[0],\"y\":[-743],\"type\":\"scatter\"},{\"line\":{\"color\":\"red\",\"width\":2},\"mode\":\"lines\",\"name\":\"Rashaad Penny motion path\",\"x\":[],\"y\":[],\"type\":\"scatter\"},{\"marker\":{\"color\":\"#ff0000\",\"line\":{\"color\":\"#000000\",\"width\":2},\"opacity\":1,\"size\":10},\"mode\":\"markers\",\"x\":[419],\"y\":[-185],\"type\":\"scatter\"},{\"hoverinfo\":\"none\",\"marker\":{\"color\":\"rgba(255, 0, 0, 0.5)\",\"line\":{\"color\":\"red\",\"width\":2},\"size\":20},\"mode\":\"markers\",\"name\":\"Will Dissly in motion\",\"x\":[419],\"y\":[-185],\"type\":\"scatter\"},{\"line\":{\"color\":\"red\",\"width\":2},\"mode\":\"lines\",\"name\":\"Will Dissly motion path\",\"x\":[-238,-230,-220,-206,-190,-170,-147,-120,-89,-56,-19,20,60,100,141,181,221,259,296,330,362,392,419],\"y\":[-464,-460,-456,-450,-442,-432,-421,-409,-392,-378,-360,-343,-326,-308,-292,-276,-261,-247,-233,-219,-207,-196,-185],\"type\":\"scatter\"},{\"marker\":{\"color\":\"#ff0000\",\"line\":{\"color\":\"#000000\",\"width\":2},\"opacity\":1,\"size\":10},\"mode\":\"markers\",\"x\":[-456],\"y\":[-193],\"type\":\"scatter\"},{\"line\":{\"color\":\"red\",\"width\":2},\"mode\":\"lines\",\"name\":\"Noah Fant motion path\",\"x\":[],\"y\":[],\"type\":\"scatter\"},{\"marker\":{\"color\":\"#ffffff\",\"line\":{\"color\":\"#000000\",\"width\":2},\"opacity\":1,\"size\":10},\"mode\":\"markers\",\"x\":[-941],\"y\":[-89],\"type\":\"scatter\"},{\"line\":{\"color\":\"red\",\"width\":2},\"mode\":\"lines\",\"name\":\"DK Metcalf motion path\",\"x\":[],\"y\":[],\"type\":\"scatter\"},{\"marker\":{\"color\":\"#ffffff\",\"line\":{\"color\":\"#000000\",\"width\":2},\"opacity\":1,\"size\":10},\"mode\":\"markers\",\"x\":[-154],\"y\":[-89],\"type\":\"scatter\"},{\"line\":{\"color\":\"red\",\"width\":2},\"mode\":\"lines\",\"name\":\"Phil Haynes motion path\",\"x\":[],\"y\":[],\"type\":\"scatter\"},{\"marker\":{\"color\":\"#ffffff\",\"line\":{\"color\":\"#000000\",\"width\":2},\"opacity\":1,\"size\":10},\"mode\":\"markers\",\"x\":[-290],\"y\":[-122],\"type\":\"scatter\"},{\"line\":{\"color\":\"red\",\"width\":2},\"mode\":\"lines\",\"name\":\"Charles Cross motion path\",\"x\":[],\"y\":[],\"type\":\"scatter\"},{\"marker\":{\"color\":\"#ffffff\",\"line\":{\"color\":\"#000000\",\"width\":2},\"opacity\":1,\"size\":10},\"mode\":\"markers\",\"x\":[312],\"y\":[-97],\"type\":\"scatter\"},{\"line\":{\"color\":\"red\",\"width\":2},\"mode\":\"lines\",\"name\":\"Abraham Lucas motion path\",\"x\":[],\"y\":[],\"type\":\"scatter\"}],\"name\":\"86\"},{\"data\":[{\"marker\":{\"color\":\"#ffffff\",\"line\":{\"color\":\"#000000\",\"width\":2},\"opacity\":1,\"size\":10},\"mode\":\"markers\",\"x\":[-6],\"y\":[-136],\"type\":\"scatter\"},{\"line\":{\"color\":\"red\",\"width\":2},\"mode\":\"lines\",\"name\":\"Geno Smith motion path\",\"x\":[],\"y\":[],\"type\":\"scatter\"},{\"marker\":{\"color\":\"#ffffff\",\"line\":{\"color\":\"#000000\",\"width\":2},\"opacity\":1,\"size\":10},\"mode\":\"markers\",\"x\":[164],\"y\":[-94],\"type\":\"scatter\"},{\"line\":{\"color\":\"red\",\"width\":2},\"mode\":\"lines\",\"name\":\"Gabe Jackson motion path\",\"x\":[],\"y\":[],\"type\":\"scatter\"},{\"marker\":{\"color\":\"#ffffff\",\"line\":{\"color\":\"#000000\",\"width\":2},\"opacity\":1,\"size\":10},\"mode\":\"markers\",\"x\":[966],\"y\":[-35],\"type\":\"scatter\"},{\"line\":{\"color\":\"red\",\"width\":2},\"mode\":\"lines\",\"name\":\"Tyler Lockett motion path\",\"x\":[],\"y\":[],\"type\":\"scatter\"},{\"marker\":{\"color\":\"#ffffff\",\"line\":{\"color\":\"#000000\",\"width\":2},\"opacity\":1,\"size\":10},\"mode\":\"markers\",\"x\":[-11],\"y\":[-23],\"type\":\"scatter\"},{\"line\":{\"color\":\"red\",\"width\":2},\"mode\":\"lines\",\"name\":\"Austin Blythe motion path\",\"x\":[],\"y\":[],\"type\":\"scatter\"},{\"marker\":{\"color\":\"#ffffff\",\"line\":{\"color\":\"#000000\",\"width\":2},\"opacity\":1,\"size\":10},\"mode\":\"markers\",\"x\":[0],\"y\":[-742],\"type\":\"scatter\"},{\"line\":{\"color\":\"red\",\"width\":2},\"mode\":\"lines\",\"name\":\"Rashaad Penny motion path\",\"x\":[],\"y\":[],\"type\":\"scatter\"},{\"marker\":{\"color\":\"#ff0000\",\"line\":{\"color\":\"#000000\",\"width\":2},\"opacity\":1,\"size\":10},\"mode\":\"markers\",\"x\":[444],\"y\":[-176],\"type\":\"scatter\"},{\"hoverinfo\":\"none\",\"marker\":{\"color\":\"rgba(255, 0, 0, 0.5)\",\"line\":{\"color\":\"red\",\"width\":2},\"size\":20},\"mode\":\"markers\",\"name\":\"Will Dissly in motion\",\"x\":[444],\"y\":[-176],\"type\":\"scatter\"},{\"line\":{\"color\":\"red\",\"width\":2},\"mode\":\"lines\",\"name\":\"Will Dissly motion path\",\"x\":[-238,-230,-220,-206,-190,-170,-147,-120,-89,-56,-19,20,60,100,141,181,221,259,296,330,362,392,419,444],\"y\":[-464,-460,-456,-450,-442,-432,-421,-409,-392,-378,-360,-343,-326,-308,-292,-276,-261,-247,-233,-219,-207,-196,-185,-176],\"type\":\"scatter\"},{\"marker\":{\"color\":\"#ff0000\",\"line\":{\"color\":\"#000000\",\"width\":2},\"opacity\":1,\"size\":10},\"mode\":\"markers\",\"x\":[-457],\"y\":[-193],\"type\":\"scatter\"},{\"line\":{\"color\":\"red\",\"width\":2},\"mode\":\"lines\",\"name\":\"Noah Fant motion path\",\"x\":[],\"y\":[],\"type\":\"scatter\"},{\"marker\":{\"color\":\"#ffffff\",\"line\":{\"color\":\"#000000\",\"width\":2},\"opacity\":1,\"size\":10},\"mode\":\"markers\",\"x\":[-941],\"y\":[-89],\"type\":\"scatter\"},{\"line\":{\"color\":\"red\",\"width\":2},\"mode\":\"lines\",\"name\":\"DK Metcalf motion path\",\"x\":[],\"y\":[],\"type\":\"scatter\"},{\"marker\":{\"color\":\"#ffffff\",\"line\":{\"color\":\"#000000\",\"width\":2},\"opacity\":1,\"size\":10},\"mode\":\"markers\",\"x\":[-154],\"y\":[-90],\"type\":\"scatter\"},{\"line\":{\"color\":\"red\",\"width\":2},\"mode\":\"lines\",\"name\":\"Phil Haynes motion path\",\"x\":[],\"y\":[],\"type\":\"scatter\"},{\"marker\":{\"color\":\"#ffffff\",\"line\":{\"color\":\"#000000\",\"width\":2},\"opacity\":1,\"size\":10},\"mode\":\"markers\",\"x\":[-290],\"y\":[-122],\"type\":\"scatter\"},{\"line\":{\"color\":\"red\",\"width\":2},\"mode\":\"lines\",\"name\":\"Charles Cross motion path\",\"x\":[],\"y\":[],\"type\":\"scatter\"},{\"marker\":{\"color\":\"#ffffff\",\"line\":{\"color\":\"#000000\",\"width\":2},\"opacity\":1,\"size\":10},\"mode\":\"markers\",\"x\":[313],\"y\":[-97],\"type\":\"scatter\"},{\"line\":{\"color\":\"red\",\"width\":2},\"mode\":\"lines\",\"name\":\"Abraham Lucas motion path\",\"x\":[],\"y\":[],\"type\":\"scatter\"}],\"name\":\"87\"},{\"data\":[{\"marker\":{\"color\":\"#ffffff\",\"line\":{\"color\":\"#000000\",\"width\":2},\"opacity\":1,\"size\":10},\"mode\":\"markers\",\"x\":[-5],\"y\":[-136],\"type\":\"scatter\"},{\"line\":{\"color\":\"red\",\"width\":2},\"mode\":\"lines\",\"name\":\"Geno Smith motion path\",\"x\":[],\"y\":[],\"type\":\"scatter\"},{\"marker\":{\"color\":\"#ffffff\",\"line\":{\"color\":\"#000000\",\"width\":2},\"opacity\":1,\"size\":10},\"mode\":\"markers\",\"x\":[166],\"y\":[-96],\"type\":\"scatter\"},{\"line\":{\"color\":\"red\",\"width\":2},\"mode\":\"lines\",\"name\":\"Gabe Jackson motion path\",\"x\":[],\"y\":[],\"type\":\"scatter\"},{\"marker\":{\"color\":\"#ffffff\",\"line\":{\"color\":\"#000000\",\"width\":2},\"opacity\":1,\"size\":10},\"mode\":\"markers\",\"x\":[967],\"y\":[-33],\"type\":\"scatter\"},{\"line\":{\"color\":\"red\",\"width\":2},\"mode\":\"lines\",\"name\":\"Tyler Lockett motion path\",\"x\":[],\"y\":[],\"type\":\"scatter\"},{\"marker\":{\"color\":\"#ffffff\",\"line\":{\"color\":\"#000000\",\"width\":2},\"opacity\":1,\"size\":10},\"mode\":\"markers\",\"x\":[-10],\"y\":[-24],\"type\":\"scatter\"},{\"line\":{\"color\":\"red\",\"width\":2},\"mode\":\"lines\",\"name\":\"Austin Blythe motion path\",\"x\":[],\"y\":[],\"type\":\"scatter\"},{\"marker\":{\"color\":\"#ffffff\",\"line\":{\"color\":\"#000000\",\"width\":2},\"opacity\":1,\"size\":10},\"mode\":\"markers\",\"x\":[1],\"y\":[-742],\"type\":\"scatter\"},{\"line\":{\"color\":\"red\",\"width\":2},\"mode\":\"lines\",\"name\":\"Rashaad Penny motion path\",\"x\":[],\"y\":[],\"type\":\"scatter\"},{\"marker\":{\"color\":\"#ff0000\",\"line\":{\"color\":\"#000000\",\"width\":2},\"opacity\":1,\"size\":10},\"mode\":\"markers\",\"x\":[468],\"y\":[-168],\"type\":\"scatter\"},{\"hoverinfo\":\"none\",\"marker\":{\"color\":\"rgba(255, 0, 0, 0.5)\",\"line\":{\"color\":\"red\",\"width\":2},\"size\":20},\"mode\":\"markers\",\"name\":\"Will Dissly in motion\",\"x\":[468],\"y\":[-168],\"type\":\"scatter\"},{\"line\":{\"color\":\"red\",\"width\":2},\"mode\":\"lines\",\"name\":\"Will Dissly motion path\",\"x\":[-238,-230,-220,-206,-190,-170,-147,-120,-89,-56,-19,20,60,100,141,181,221,259,296,330,362,392,419,444,468],\"y\":[-464,-460,-456,-450,-442,-432,-421,-409,-392,-378,-360,-343,-326,-308,-292,-276,-261,-247,-233,-219,-207,-196,-185,-176,-168],\"type\":\"scatter\"},{\"marker\":{\"color\":\"#ff0000\",\"line\":{\"color\":\"#000000\",\"width\":2},\"opacity\":1,\"size\":10},\"mode\":\"markers\",\"x\":[-456],\"y\":[-192],\"type\":\"scatter\"},{\"line\":{\"color\":\"red\",\"width\":2},\"mode\":\"lines\",\"name\":\"Noah Fant motion path\",\"x\":[],\"y\":[],\"type\":\"scatter\"},{\"marker\":{\"color\":\"#ffffff\",\"line\":{\"color\":\"#000000\",\"width\":2},\"opacity\":1,\"size\":10},\"mode\":\"markers\",\"x\":[-941],\"y\":[-90],\"type\":\"scatter\"},{\"line\":{\"color\":\"red\",\"width\":2},\"mode\":\"lines\",\"name\":\"DK Metcalf motion path\",\"x\":[],\"y\":[],\"type\":\"scatter\"},{\"marker\":{\"color\":\"#ffffff\",\"line\":{\"color\":\"#000000\",\"width\":2},\"opacity\":1,\"size\":10},\"mode\":\"markers\",\"x\":[-153],\"y\":[-91],\"type\":\"scatter\"},{\"line\":{\"color\":\"red\",\"width\":2},\"mode\":\"lines\",\"name\":\"Phil Haynes motion path\",\"x\":[],\"y\":[],\"type\":\"scatter\"},{\"marker\":{\"color\":\"#ffffff\",\"line\":{\"color\":\"#000000\",\"width\":2},\"opacity\":1,\"size\":10},\"mode\":\"markers\",\"x\":[-289],\"y\":[-123],\"type\":\"scatter\"},{\"line\":{\"color\":\"red\",\"width\":2},\"mode\":\"lines\",\"name\":\"Charles Cross motion path\",\"x\":[],\"y\":[],\"type\":\"scatter\"},{\"marker\":{\"color\":\"#ffffff\",\"line\":{\"color\":\"#000000\",\"width\":2},\"opacity\":1,\"size\":10},\"mode\":\"markers\",\"x\":[314],\"y\":[-97],\"type\":\"scatter\"},{\"line\":{\"color\":\"red\",\"width\":2},\"mode\":\"lines\",\"name\":\"Abraham Lucas motion path\",\"x\":[],\"y\":[],\"type\":\"scatter\"}],\"name\":\"88\"},{\"data\":[{\"marker\":{\"color\":\"#ffffff\",\"line\":{\"color\":\"#000000\",\"width\":2},\"opacity\":1,\"size\":10},\"mode\":\"markers\",\"x\":[-5],\"y\":[-136],\"type\":\"scatter\"},{\"line\":{\"color\":\"red\",\"width\":2},\"mode\":\"lines\",\"name\":\"Geno Smith motion path\",\"x\":[],\"y\":[],\"type\":\"scatter\"},{\"marker\":{\"color\":\"#ffffff\",\"line\":{\"color\":\"#000000\",\"width\":2},\"opacity\":1,\"size\":10},\"mode\":\"markers\",\"x\":[166],\"y\":[-96],\"type\":\"scatter\"},{\"line\":{\"color\":\"red\",\"width\":2},\"mode\":\"lines\",\"name\":\"Gabe Jackson motion path\",\"x\":[],\"y\":[],\"type\":\"scatter\"},{\"marker\":{\"color\":\"#ffffff\",\"line\":{\"color\":\"#000000\",\"width\":2},\"opacity\":1,\"size\":10},\"mode\":\"markers\",\"x\":[967],\"y\":[-33],\"type\":\"scatter\"},{\"line\":{\"color\":\"red\",\"width\":2},\"mode\":\"lines\",\"name\":\"Tyler Lockett motion path\",\"x\":[],\"y\":[],\"type\":\"scatter\"},{\"marker\":{\"color\":\"#ffffff\",\"line\":{\"color\":\"#000000\",\"width\":2},\"opacity\":1,\"size\":10},\"mode\":\"markers\",\"x\":[-10],\"y\":[-25],\"type\":\"scatter\"},{\"line\":{\"color\":\"red\",\"width\":2},\"mode\":\"lines\",\"name\":\"Austin Blythe motion path\",\"x\":[],\"y\":[],\"type\":\"scatter\"},{\"marker\":{\"color\":\"#ffffff\",\"line\":{\"color\":\"#000000\",\"width\":2},\"opacity\":1,\"size\":10},\"mode\":\"markers\",\"x\":[2],\"y\":[-742],\"type\":\"scatter\"},{\"line\":{\"color\":\"red\",\"width\":2},\"mode\":\"lines\",\"name\":\"Rashaad Penny motion path\",\"x\":[],\"y\":[],\"type\":\"scatter\"},{\"marker\":{\"color\":\"#ff0000\",\"line\":{\"color\":\"#000000\",\"width\":2},\"opacity\":1,\"size\":10},\"mode\":\"markers\",\"x\":[488],\"y\":[-161],\"type\":\"scatter\"},{\"hoverinfo\":\"none\",\"marker\":{\"color\":\"rgba(255, 0, 0, 0.5)\",\"line\":{\"color\":\"red\",\"width\":2},\"size\":20},\"mode\":\"markers\",\"name\":\"Will Dissly in motion\",\"x\":[488],\"y\":[-161],\"type\":\"scatter\"},{\"line\":{\"color\":\"red\",\"width\":2},\"mode\":\"lines\",\"name\":\"Will Dissly motion path\",\"x\":[-238,-230,-220,-206,-190,-170,-147,-120,-89,-56,-19,20,60,100,141,181,221,259,296,330,362,392,419,444,468,488],\"y\":[-464,-460,-456,-450,-442,-432,-421,-409,-392,-378,-360,-343,-326,-308,-292,-276,-261,-247,-233,-219,-207,-196,-185,-176,-168,-161],\"type\":\"scatter\"},{\"marker\":{\"color\":\"#ff0000\",\"line\":{\"color\":\"#000000\",\"width\":2},\"opacity\":1,\"size\":10},\"mode\":\"markers\",\"x\":[-457],\"y\":[-193],\"type\":\"scatter\"},{\"line\":{\"color\":\"red\",\"width\":2},\"mode\":\"lines\",\"name\":\"Noah Fant motion path\",\"x\":[],\"y\":[],\"type\":\"scatter\"},{\"marker\":{\"color\":\"#ffffff\",\"line\":{\"color\":\"#000000\",\"width\":2},\"opacity\":1,\"size\":10},\"mode\":\"markers\",\"x\":[-941],\"y\":[-90],\"type\":\"scatter\"},{\"line\":{\"color\":\"red\",\"width\":2},\"mode\":\"lines\",\"name\":\"DK Metcalf motion path\",\"x\":[],\"y\":[],\"type\":\"scatter\"},{\"marker\":{\"color\":\"#ffffff\",\"line\":{\"color\":\"#000000\",\"width\":2},\"opacity\":1,\"size\":10},\"mode\":\"markers\",\"x\":[-153],\"y\":[-91],\"type\":\"scatter\"},{\"line\":{\"color\":\"red\",\"width\":2},\"mode\":\"lines\",\"name\":\"Phil Haynes motion path\",\"x\":[],\"y\":[],\"type\":\"scatter\"},{\"marker\":{\"color\":\"#ffffff\",\"line\":{\"color\":\"#000000\",\"width\":2},\"opacity\":1,\"size\":10},\"mode\":\"markers\",\"x\":[-289],\"y\":[-123],\"type\":\"scatter\"},{\"line\":{\"color\":\"red\",\"width\":2},\"mode\":\"lines\",\"name\":\"Charles Cross motion path\",\"x\":[],\"y\":[],\"type\":\"scatter\"},{\"marker\":{\"color\":\"#ffffff\",\"line\":{\"color\":\"#000000\",\"width\":2},\"opacity\":1,\"size\":10},\"mode\":\"markers\",\"x\":[315],\"y\":[-98],\"type\":\"scatter\"},{\"line\":{\"color\":\"red\",\"width\":2},\"mode\":\"lines\",\"name\":\"Abraham Lucas motion path\",\"x\":[],\"y\":[],\"type\":\"scatter\"}],\"name\":\"89\"},{\"data\":[{\"marker\":{\"color\":\"#ffffff\",\"line\":{\"color\":\"#000000\",\"width\":2},\"opacity\":1,\"size\":10},\"mode\":\"markers\",\"x\":[-5],\"y\":[-136],\"type\":\"scatter\"},{\"line\":{\"color\":\"red\",\"width\":2},\"mode\":\"lines\",\"name\":\"Geno Smith motion path\",\"x\":[],\"y\":[],\"type\":\"scatter\"},{\"marker\":{\"color\":\"#ffffff\",\"line\":{\"color\":\"#000000\",\"width\":2},\"opacity\":1,\"size\":10},\"mode\":\"markers\",\"x\":[165],\"y\":[-96],\"type\":\"scatter\"},{\"line\":{\"color\":\"red\",\"width\":2},\"mode\":\"lines\",\"name\":\"Gabe Jackson motion path\",\"x\":[],\"y\":[],\"type\":\"scatter\"},{\"marker\":{\"color\":\"#ffffff\",\"line\":{\"color\":\"#000000\",\"width\":2},\"opacity\":1,\"size\":10},\"mode\":\"markers\",\"x\":[967],\"y\":[-32],\"type\":\"scatter\"},{\"line\":{\"color\":\"red\",\"width\":2},\"mode\":\"lines\",\"name\":\"Tyler Lockett motion path\",\"x\":[],\"y\":[],\"type\":\"scatter\"},{\"marker\":{\"color\":\"#ffffff\",\"line\":{\"color\":\"#000000\",\"width\":2},\"opacity\":1,\"size\":10},\"mode\":\"markers\",\"x\":[-10],\"y\":[-25],\"type\":\"scatter\"},{\"line\":{\"color\":\"red\",\"width\":2},\"mode\":\"lines\",\"name\":\"Austin Blythe motion path\",\"x\":[],\"y\":[],\"type\":\"scatter\"},{\"marker\":{\"color\":\"#ffffff\",\"line\":{\"color\":\"#000000\",\"width\":2},\"opacity\":1,\"size\":10},\"mode\":\"markers\",\"x\":[3],\"y\":[-742],\"type\":\"scatter\"},{\"line\":{\"color\":\"red\",\"width\":2},\"mode\":\"lines\",\"name\":\"Rashaad Penny motion path\",\"x\":[],\"y\":[],\"type\":\"scatter\"},{\"marker\":{\"color\":\"#ff0000\",\"line\":{\"color\":\"#000000\",\"width\":2},\"opacity\":1,\"size\":10},\"mode\":\"markers\",\"x\":[504],\"y\":[-156],\"type\":\"scatter\"},{\"hoverinfo\":\"none\",\"marker\":{\"color\":\"rgba(255, 0, 0, 0.5)\",\"line\":{\"color\":\"red\",\"width\":2},\"size\":20},\"mode\":\"markers\",\"name\":\"Will Dissly in motion\",\"x\":[504],\"y\":[-156],\"type\":\"scatter\"},{\"line\":{\"color\":\"red\",\"width\":2},\"mode\":\"lines\",\"name\":\"Will Dissly motion path\",\"x\":[-238,-230,-220,-206,-190,-170,-147,-120,-89,-56,-19,20,60,100,141,181,221,259,296,330,362,392,419,444,468,488,504],\"y\":[-464,-460,-456,-450,-442,-432,-421,-409,-392,-378,-360,-343,-326,-308,-292,-276,-261,-247,-233,-219,-207,-196,-185,-176,-168,-161,-156],\"type\":\"scatter\"},{\"marker\":{\"color\":\"#ff0000\",\"line\":{\"color\":\"#000000\",\"width\":2},\"opacity\":1,\"size\":10},\"mode\":\"markers\",\"x\":[-458],\"y\":[-193],\"type\":\"scatter\"},{\"line\":{\"color\":\"red\",\"width\":2},\"mode\":\"lines\",\"name\":\"Noah Fant motion path\",\"x\":[],\"y\":[],\"type\":\"scatter\"},{\"marker\":{\"color\":\"#ffffff\",\"line\":{\"color\":\"#000000\",\"width\":2},\"opacity\":1,\"size\":10},\"mode\":\"markers\",\"x\":[-942],\"y\":[-90],\"type\":\"scatter\"},{\"line\":{\"color\":\"red\",\"width\":2},\"mode\":\"lines\",\"name\":\"DK Metcalf motion path\",\"x\":[],\"y\":[],\"type\":\"scatter\"},{\"marker\":{\"color\":\"#ffffff\",\"line\":{\"color\":\"#000000\",\"width\":2},\"opacity\":1,\"size\":10},\"mode\":\"markers\",\"x\":[-153],\"y\":[-92],\"type\":\"scatter\"},{\"line\":{\"color\":\"red\",\"width\":2},\"mode\":\"lines\",\"name\":\"Phil Haynes motion path\",\"x\":[],\"y\":[],\"type\":\"scatter\"},{\"marker\":{\"color\":\"#ffffff\",\"line\":{\"color\":\"#000000\",\"width\":2},\"opacity\":1,\"size\":10},\"mode\":\"markers\",\"x\":[-289],\"y\":[-123],\"type\":\"scatter\"},{\"line\":{\"color\":\"red\",\"width\":2},\"mode\":\"lines\",\"name\":\"Charles Cross motion path\",\"x\":[],\"y\":[],\"type\":\"scatter\"},{\"marker\":{\"color\":\"#ffffff\",\"line\":{\"color\":\"#000000\",\"width\":2},\"opacity\":1,\"size\":10},\"mode\":\"markers\",\"x\":[315],\"y\":[-98],\"type\":\"scatter\"},{\"line\":{\"color\":\"red\",\"width\":2},\"mode\":\"lines\",\"name\":\"Abraham Lucas motion path\",\"x\":[],\"y\":[],\"type\":\"scatter\"}],\"name\":\"90\"},{\"data\":[{\"marker\":{\"color\":\"#ffffff\",\"line\":{\"color\":\"#000000\",\"width\":2},\"opacity\":1,\"size\":10},\"mode\":\"markers\",\"x\":[-6],\"y\":[-136],\"type\":\"scatter\"},{\"line\":{\"color\":\"red\",\"width\":2},\"mode\":\"lines\",\"name\":\"Geno Smith motion path\",\"x\":[],\"y\":[],\"type\":\"scatter\"},{\"marker\":{\"color\":\"#ffffff\",\"line\":{\"color\":\"#000000\",\"width\":2},\"opacity\":1,\"size\":10},\"mode\":\"markers\",\"x\":[165],\"y\":[-96],\"type\":\"scatter\"},{\"line\":{\"color\":\"red\",\"width\":2},\"mode\":\"lines\",\"name\":\"Gabe Jackson motion path\",\"x\":[],\"y\":[],\"type\":\"scatter\"},{\"marker\":{\"color\":\"#ffffff\",\"line\":{\"color\":\"#000000\",\"width\":2},\"opacity\":1,\"size\":10},\"mode\":\"markers\",\"x\":[967],\"y\":[-31],\"type\":\"scatter\"},{\"line\":{\"color\":\"red\",\"width\":2},\"mode\":\"lines\",\"name\":\"Tyler Lockett motion path\",\"x\":[],\"y\":[],\"type\":\"scatter\"},{\"marker\":{\"color\":\"#ffffff\",\"line\":{\"color\":\"#000000\",\"width\":2},\"opacity\":1,\"size\":10},\"mode\":\"markers\",\"x\":[-11],\"y\":[-25],\"type\":\"scatter\"},{\"line\":{\"color\":\"red\",\"width\":2},\"mode\":\"lines\",\"name\":\"Austin Blythe motion path\",\"x\":[],\"y\":[],\"type\":\"scatter\"},{\"marker\":{\"color\":\"#ffffff\",\"line\":{\"color\":\"#000000\",\"width\":2},\"opacity\":1,\"size\":10},\"mode\":\"markers\",\"x\":[3],\"y\":[-741],\"type\":\"scatter\"},{\"line\":{\"color\":\"red\",\"width\":2},\"mode\":\"lines\",\"name\":\"Rashaad Penny motion path\",\"x\":[],\"y\":[],\"type\":\"scatter\"},{\"marker\":{\"color\":\"#ff0000\",\"line\":{\"color\":\"#000000\",\"width\":2},\"opacity\":1,\"size\":10},\"mode\":\"markers\",\"x\":[518],\"y\":[-153],\"type\":\"scatter\"},{\"hoverinfo\":\"none\",\"marker\":{\"color\":\"rgba(255, 0, 0, 0.5)\",\"line\":{\"color\":\"red\",\"width\":2},\"size\":20},\"mode\":\"markers\",\"name\":\"Will Dissly in motion\",\"x\":[518],\"y\":[-153],\"type\":\"scatter\"},{\"line\":{\"color\":\"red\",\"width\":2},\"mode\":\"lines\",\"name\":\"Will Dissly motion path\",\"x\":[-238,-230,-220,-206,-190,-170,-147,-120,-89,-56,-19,20,60,100,141,181,221,259,296,330,362,392,419,444,468,488,504,518],\"y\":[-464,-460,-456,-450,-442,-432,-421,-409,-392,-378,-360,-343,-326,-308,-292,-276,-261,-247,-233,-219,-207,-196,-185,-176,-168,-161,-156,-153],\"type\":\"scatter\"},{\"marker\":{\"color\":\"#ff0000\",\"line\":{\"color\":\"#000000\",\"width\":2},\"opacity\":1,\"size\":10},\"mode\":\"markers\",\"x\":[-459],\"y\":[-194],\"type\":\"scatter\"},{\"line\":{\"color\":\"red\",\"width\":2},\"mode\":\"lines\",\"name\":\"Noah Fant motion path\",\"x\":[],\"y\":[],\"type\":\"scatter\"},{\"marker\":{\"color\":\"#ffffff\",\"line\":{\"color\":\"#000000\",\"width\":2},\"opacity\":1,\"size\":10},\"mode\":\"markers\",\"x\":[-942],\"y\":[-91],\"type\":\"scatter\"},{\"line\":{\"color\":\"red\",\"width\":2},\"mode\":\"lines\",\"name\":\"DK Metcalf motion path\",\"x\":[],\"y\":[],\"type\":\"scatter\"},{\"marker\":{\"color\":\"#ffffff\",\"line\":{\"color\":\"#000000\",\"width\":2},\"opacity\":1,\"size\":10},\"mode\":\"markers\",\"x\":[-153],\"y\":[-93],\"type\":\"scatter\"},{\"line\":{\"color\":\"red\",\"width\":2},\"mode\":\"lines\",\"name\":\"Phil Haynes motion path\",\"x\":[],\"y\":[],\"type\":\"scatter\"},{\"marker\":{\"color\":\"#ffffff\",\"line\":{\"color\":\"#000000\",\"width\":2},\"opacity\":1,\"size\":10},\"mode\":\"markers\",\"x\":[-289],\"y\":[-123],\"type\":\"scatter\"},{\"line\":{\"color\":\"red\",\"width\":2},\"mode\":\"lines\",\"name\":\"Charles Cross motion path\",\"x\":[],\"y\":[],\"type\":\"scatter\"},{\"marker\":{\"color\":\"#ffffff\",\"line\":{\"color\":\"#000000\",\"width\":2},\"opacity\":1,\"size\":10},\"mode\":\"markers\",\"x\":[316],\"y\":[-100],\"type\":\"scatter\"},{\"line\":{\"color\":\"red\",\"width\":2},\"mode\":\"lines\",\"name\":\"Abraham Lucas motion path\",\"x\":[],\"y\":[],\"type\":\"scatter\"}],\"name\":\"91\"},{\"data\":[{\"marker\":{\"color\":\"#ffffff\",\"line\":{\"color\":\"#000000\",\"width\":2},\"opacity\":1,\"size\":10},\"mode\":\"markers\",\"x\":[-7],\"y\":[-136],\"type\":\"scatter\"},{\"line\":{\"color\":\"red\",\"width\":2},\"mode\":\"lines\",\"name\":\"Geno Smith motion path\",\"x\":[],\"y\":[],\"type\":\"scatter\"},{\"marker\":{\"color\":\"#ffffff\",\"line\":{\"color\":\"#000000\",\"width\":2},\"opacity\":1,\"size\":10},\"mode\":\"markers\",\"x\":[165],\"y\":[-97],\"type\":\"scatter\"},{\"line\":{\"color\":\"red\",\"width\":2},\"mode\":\"lines\",\"name\":\"Gabe Jackson motion path\",\"x\":[],\"y\":[],\"type\":\"scatter\"},{\"marker\":{\"color\":\"#ffffff\",\"line\":{\"color\":\"#000000\",\"width\":2},\"opacity\":1,\"size\":10},\"mode\":\"markers\",\"x\":[966],\"y\":[-31],\"type\":\"scatter\"},{\"line\":{\"color\":\"red\",\"width\":2},\"mode\":\"lines\",\"name\":\"Tyler Lockett motion path\",\"x\":[],\"y\":[],\"type\":\"scatter\"},{\"marker\":{\"color\":\"#ffffff\",\"line\":{\"color\":\"#000000\",\"width\":2},\"opacity\":1,\"size\":10},\"mode\":\"markers\",\"x\":[-11],\"y\":[-25],\"type\":\"scatter\"},{\"line\":{\"color\":\"red\",\"width\":2},\"mode\":\"lines\",\"name\":\"Austin Blythe motion path\",\"x\":[],\"y\":[],\"type\":\"scatter\"},{\"marker\":{\"color\":\"#ffffff\",\"line\":{\"color\":\"#000000\",\"width\":2},\"opacity\":1,\"size\":10},\"mode\":\"markers\",\"x\":[3],\"y\":[-741],\"type\":\"scatter\"},{\"line\":{\"color\":\"red\",\"width\":2},\"mode\":\"lines\",\"name\":\"Rashaad Penny motion path\",\"x\":[],\"y\":[],\"type\":\"scatter\"},{\"marker\":{\"color\":\"#ff0000\",\"line\":{\"color\":\"#000000\",\"width\":2},\"opacity\":1,\"size\":10},\"mode\":\"markers\",\"x\":[528],\"y\":[-149],\"type\":\"scatter\"},{\"hoverinfo\":\"none\",\"marker\":{\"color\":\"rgba(255, 0, 0, 0.5)\",\"line\":{\"color\":\"red\",\"width\":2},\"size\":20},\"mode\":\"markers\",\"name\":\"Will Dissly in motion\",\"x\":[528],\"y\":[-149],\"type\":\"scatter\"},{\"line\":{\"color\":\"red\",\"width\":2},\"mode\":\"lines\",\"name\":\"Will Dissly motion path\",\"x\":[-238,-230,-220,-206,-190,-170,-147,-120,-89,-56,-19,20,60,100,141,181,221,259,296,330,362,392,419,444,468,488,504,518,528],\"y\":[-464,-460,-456,-450,-442,-432,-421,-409,-392,-378,-360,-343,-326,-308,-292,-276,-261,-247,-233,-219,-207,-196,-185,-176,-168,-161,-156,-153,-149],\"type\":\"scatter\"},{\"marker\":{\"color\":\"#ff0000\",\"line\":{\"color\":\"#000000\",\"width\":2},\"opacity\":1,\"size\":10},\"mode\":\"markers\",\"x\":[-460],\"y\":[-196],\"type\":\"scatter\"},{\"line\":{\"color\":\"red\",\"width\":2},\"mode\":\"lines\",\"name\":\"Noah Fant motion path\",\"x\":[],\"y\":[],\"type\":\"scatter\"},{\"marker\":{\"color\":\"#ffffff\",\"line\":{\"color\":\"#000000\",\"width\":2},\"opacity\":1,\"size\":10},\"mode\":\"markers\",\"x\":[-944],\"y\":[-92],\"type\":\"scatter\"},{\"line\":{\"color\":\"red\",\"width\":2},\"mode\":\"lines\",\"name\":\"DK Metcalf motion path\",\"x\":[],\"y\":[],\"type\":\"scatter\"},{\"marker\":{\"color\":\"#ffffff\",\"line\":{\"color\":\"#000000\",\"width\":2},\"opacity\":1,\"size\":10},\"mode\":\"markers\",\"x\":[-153],\"y\":[-93],\"type\":\"scatter\"},{\"line\":{\"color\":\"red\",\"width\":2},\"mode\":\"lines\",\"name\":\"Phil Haynes motion path\",\"x\":[],\"y\":[],\"type\":\"scatter\"},{\"marker\":{\"color\":\"#ffffff\",\"line\":{\"color\":\"#000000\",\"width\":2},\"opacity\":1,\"size\":10},\"mode\":\"markers\",\"x\":[-290],\"y\":[-123],\"type\":\"scatter\"},{\"line\":{\"color\":\"red\",\"width\":2},\"mode\":\"lines\",\"name\":\"Charles Cross motion path\",\"x\":[],\"y\":[],\"type\":\"scatter\"},{\"marker\":{\"color\":\"#ffffff\",\"line\":{\"color\":\"#000000\",\"width\":2},\"opacity\":1,\"size\":10},\"mode\":\"markers\",\"x\":[317],\"y\":[-100],\"type\":\"scatter\"},{\"line\":{\"color\":\"red\",\"width\":2},\"mode\":\"lines\",\"name\":\"Abraham Lucas motion path\",\"x\":[],\"y\":[],\"type\":\"scatter\"}],\"name\":\"92\"},{\"data\":[{\"marker\":{\"color\":\"#ffffff\",\"line\":{\"color\":\"#000000\",\"width\":2},\"opacity\":1,\"size\":10},\"mode\":\"markers\",\"x\":[-7],\"y\":[-136],\"type\":\"scatter\"},{\"line\":{\"color\":\"red\",\"width\":2},\"mode\":\"lines\",\"name\":\"Geno Smith motion path\",\"x\":[],\"y\":[],\"type\":\"scatter\"},{\"marker\":{\"color\":\"#ffffff\",\"line\":{\"color\":\"#000000\",\"width\":2},\"opacity\":1,\"size\":10},\"mode\":\"markers\",\"x\":[165],\"y\":[-97],\"type\":\"scatter\"},{\"line\":{\"color\":\"red\",\"width\":2},\"mode\":\"lines\",\"name\":\"Gabe Jackson motion path\",\"x\":[],\"y\":[],\"type\":\"scatter\"},{\"marker\":{\"color\":\"#ffffff\",\"line\":{\"color\":\"#000000\",\"width\":2},\"opacity\":1,\"size\":10},\"mode\":\"markers\",\"x\":[966],\"y\":[-31],\"type\":\"scatter\"},{\"line\":{\"color\":\"red\",\"width\":2},\"mode\":\"lines\",\"name\":\"Tyler Lockett motion path\",\"x\":[],\"y\":[],\"type\":\"scatter\"},{\"marker\":{\"color\":\"#ffffff\",\"line\":{\"color\":\"#000000\",\"width\":2},\"opacity\":1,\"size\":10},\"mode\":\"markers\",\"x\":[-11],\"y\":[-25],\"type\":\"scatter\"},{\"line\":{\"color\":\"red\",\"width\":2},\"mode\":\"lines\",\"name\":\"Austin Blythe motion path\",\"x\":[],\"y\":[],\"type\":\"scatter\"},{\"marker\":{\"color\":\"#ffffff\",\"line\":{\"color\":\"#000000\",\"width\":2},\"opacity\":1,\"size\":10},\"mode\":\"markers\",\"x\":[3],\"y\":[-741],\"type\":\"scatter\"},{\"line\":{\"color\":\"red\",\"width\":2},\"mode\":\"lines\",\"name\":\"Rashaad Penny motion path\",\"x\":[],\"y\":[],\"type\":\"scatter\"},{\"marker\":{\"color\":\"#ff0000\",\"line\":{\"color\":\"#000000\",\"width\":2},\"opacity\":1,\"size\":10},\"mode\":\"markers\",\"x\":[536],\"y\":[-147],\"type\":\"scatter\"},{\"hoverinfo\":\"none\",\"marker\":{\"color\":\"rgba(255, 0, 0, 0.5)\",\"line\":{\"color\":\"red\",\"width\":2},\"size\":20},\"mode\":\"markers\",\"name\":\"Will Dissly in motion\",\"x\":[536],\"y\":[-147],\"type\":\"scatter\"},{\"line\":{\"color\":\"red\",\"width\":2},\"mode\":\"lines\",\"name\":\"Will Dissly motion path\",\"x\":[-238,-230,-220,-206,-190,-170,-147,-120,-89,-56,-19,20,60,100,141,181,221,259,296,330,362,392,419,444,468,488,504,518,528,536],\"y\":[-464,-460,-456,-450,-442,-432,-421,-409,-392,-378,-360,-343,-326,-308,-292,-276,-261,-247,-233,-219,-207,-196,-185,-176,-168,-161,-156,-153,-149,-147],\"type\":\"scatter\"},{\"marker\":{\"color\":\"#ff0000\",\"line\":{\"color\":\"#000000\",\"width\":2},\"opacity\":1,\"size\":10},\"mode\":\"markers\",\"x\":[-461],\"y\":[-198],\"type\":\"scatter\"},{\"line\":{\"color\":\"red\",\"width\":2},\"mode\":\"lines\",\"name\":\"Noah Fant motion path\",\"x\":[],\"y\":[],\"type\":\"scatter\"},{\"marker\":{\"color\":\"#ffffff\",\"line\":{\"color\":\"#000000\",\"width\":2},\"opacity\":1,\"size\":10},\"mode\":\"markers\",\"x\":[-944],\"y\":[-92],\"type\":\"scatter\"},{\"line\":{\"color\":\"red\",\"width\":2},\"mode\":\"lines\",\"name\":\"DK Metcalf motion path\",\"x\":[],\"y\":[],\"type\":\"scatter\"},{\"marker\":{\"color\":\"#ffffff\",\"line\":{\"color\":\"#000000\",\"width\":2},\"opacity\":1,\"size\":10},\"mode\":\"markers\",\"x\":[-153],\"y\":[-93],\"type\":\"scatter\"},{\"line\":{\"color\":\"red\",\"width\":2},\"mode\":\"lines\",\"name\":\"Phil Haynes motion path\",\"x\":[],\"y\":[],\"type\":\"scatter\"},{\"marker\":{\"color\":\"#ffffff\",\"line\":{\"color\":\"#000000\",\"width\":2},\"opacity\":1,\"size\":10},\"mode\":\"markers\",\"x\":[-289],\"y\":[-122],\"type\":\"scatter\"},{\"line\":{\"color\":\"red\",\"width\":2},\"mode\":\"lines\",\"name\":\"Charles Cross motion path\",\"x\":[],\"y\":[],\"type\":\"scatter\"},{\"marker\":{\"color\":\"#ffffff\",\"line\":{\"color\":\"#000000\",\"width\":2},\"opacity\":1,\"size\":10},\"mode\":\"markers\",\"x\":[317],\"y\":[-101],\"type\":\"scatter\"},{\"line\":{\"color\":\"red\",\"width\":2},\"mode\":\"lines\",\"name\":\"Abraham Lucas motion path\",\"x\":[],\"y\":[],\"type\":\"scatter\"}],\"name\":\"93\"},{\"data\":[{\"marker\":{\"color\":\"#ffffff\",\"line\":{\"color\":\"#000000\",\"width\":2},\"opacity\":1,\"size\":10},\"mode\":\"markers\",\"x\":[-8],\"y\":[-136],\"type\":\"scatter\"},{\"line\":{\"color\":\"red\",\"width\":2},\"mode\":\"lines\",\"name\":\"Geno Smith motion path\",\"x\":[],\"y\":[],\"type\":\"scatter\"},{\"marker\":{\"color\":\"#ffffff\",\"line\":{\"color\":\"#000000\",\"width\":2},\"opacity\":1,\"size\":10},\"mode\":\"markers\",\"x\":[164],\"y\":[-96],\"type\":\"scatter\"},{\"line\":{\"color\":\"red\",\"width\":2},\"mode\":\"lines\",\"name\":\"Gabe Jackson motion path\",\"x\":[],\"y\":[],\"type\":\"scatter\"},{\"marker\":{\"color\":\"#ffffff\",\"line\":{\"color\":\"#000000\",\"width\":2},\"opacity\":1,\"size\":10},\"mode\":\"markers\",\"x\":[966],\"y\":[-31],\"type\":\"scatter\"},{\"line\":{\"color\":\"red\",\"width\":2},\"mode\":\"lines\",\"name\":\"Tyler Lockett motion path\",\"x\":[],\"y\":[],\"type\":\"scatter\"},{\"marker\":{\"color\":\"#ffffff\",\"line\":{\"color\":\"#000000\",\"width\":2},\"opacity\":1,\"size\":10},\"mode\":\"markers\",\"x\":[-11],\"y\":[-25],\"type\":\"scatter\"},{\"line\":{\"color\":\"red\",\"width\":2},\"mode\":\"lines\",\"name\":\"Austin Blythe motion path\",\"x\":[],\"y\":[],\"type\":\"scatter\"},{\"marker\":{\"color\":\"#ffffff\",\"line\":{\"color\":\"#000000\",\"width\":2},\"opacity\":1,\"size\":10},\"mode\":\"markers\",\"x\":[3],\"y\":[-740],\"type\":\"scatter\"},{\"line\":{\"color\":\"red\",\"width\":2},\"mode\":\"lines\",\"name\":\"Rashaad Penny motion path\",\"x\":[],\"y\":[],\"type\":\"scatter\"},{\"marker\":{\"color\":\"#ff0000\",\"line\":{\"color\":\"#000000\",\"width\":2},\"opacity\":1,\"size\":10},\"mode\":\"markers\",\"x\":[543],\"y\":[-146],\"type\":\"scatter\"},{\"hoverinfo\":\"none\",\"marker\":{\"color\":\"rgba(255, 0, 0, 0.5)\",\"line\":{\"color\":\"red\",\"width\":2},\"size\":20},\"mode\":\"markers\",\"name\":\"Will Dissly in motion\",\"x\":[543],\"y\":[-146],\"type\":\"scatter\"},{\"line\":{\"color\":\"red\",\"width\":2},\"mode\":\"lines\",\"name\":\"Will Dissly motion path\",\"x\":[-238,-230,-220,-206,-190,-170,-147,-120,-89,-56,-19,20,60,100,141,181,221,259,296,330,362,392,419,444,468,488,504,518,528,536,543],\"y\":[-464,-460,-456,-450,-442,-432,-421,-409,-392,-378,-360,-343,-326,-308,-292,-276,-261,-247,-233,-219,-207,-196,-185,-176,-168,-161,-156,-153,-149,-147,-146],\"type\":\"scatter\"},{\"marker\":{\"color\":\"#ff0000\",\"line\":{\"color\":\"#000000\",\"width\":2},\"opacity\":1,\"size\":10},\"mode\":\"markers\",\"x\":[-461],\"y\":[-199],\"type\":\"scatter\"},{\"line\":{\"color\":\"red\",\"width\":2},\"mode\":\"lines\",\"name\":\"Noah Fant motion path\",\"x\":[],\"y\":[],\"type\":\"scatter\"},{\"marker\":{\"color\":\"#ffffff\",\"line\":{\"color\":\"#000000\",\"width\":2},\"opacity\":1,\"size\":10},\"mode\":\"markers\",\"x\":[-945],\"y\":[-93],\"type\":\"scatter\"},{\"line\":{\"color\":\"red\",\"width\":2},\"mode\":\"lines\",\"name\":\"DK Metcalf motion path\",\"x\":[],\"y\":[],\"type\":\"scatter\"},{\"marker\":{\"color\":\"#ffffff\",\"line\":{\"color\":\"#000000\",\"width\":2},\"opacity\":1,\"size\":10},\"mode\":\"markers\",\"x\":[-153],\"y\":[-93],\"type\":\"scatter\"},{\"line\":{\"color\":\"red\",\"width\":2},\"mode\":\"lines\",\"name\":\"Phil Haynes motion path\",\"x\":[],\"y\":[],\"type\":\"scatter\"},{\"marker\":{\"color\":\"#ffffff\",\"line\":{\"color\":\"#000000\",\"width\":2},\"opacity\":1,\"size\":10},\"mode\":\"markers\",\"x\":[-289],\"y\":[-122],\"type\":\"scatter\"},{\"line\":{\"color\":\"red\",\"width\":2},\"mode\":\"lines\",\"name\":\"Charles Cross motion path\",\"x\":[],\"y\":[],\"type\":\"scatter\"},{\"marker\":{\"color\":\"#ffffff\",\"line\":{\"color\":\"#000000\",\"width\":2},\"opacity\":1,\"size\":10},\"mode\":\"markers\",\"x\":[317],\"y\":[-101],\"type\":\"scatter\"},{\"line\":{\"color\":\"red\",\"width\":2},\"mode\":\"lines\",\"name\":\"Abraham Lucas motion path\",\"x\":[],\"y\":[],\"type\":\"scatter\"}],\"name\":\"94\"},{\"data\":[{\"marker\":{\"color\":\"#ffffff\",\"line\":{\"color\":\"#000000\",\"width\":2},\"opacity\":1,\"size\":10},\"mode\":\"markers\",\"x\":[-8],\"y\":[-137],\"type\":\"scatter\"},{\"line\":{\"color\":\"red\",\"width\":2},\"mode\":\"lines\",\"name\":\"Geno Smith motion path\",\"x\":[],\"y\":[],\"type\":\"scatter\"},{\"marker\":{\"color\":\"#ffffff\",\"line\":{\"color\":\"#000000\",\"width\":2},\"opacity\":1,\"size\":10},\"mode\":\"markers\",\"x\":[164],\"y\":[-96],\"type\":\"scatter\"},{\"line\":{\"color\":\"red\",\"width\":2},\"mode\":\"lines\",\"name\":\"Gabe Jackson motion path\",\"x\":[],\"y\":[],\"type\":\"scatter\"},{\"marker\":{\"color\":\"#ffffff\",\"line\":{\"color\":\"#000000\",\"width\":2},\"opacity\":1,\"size\":10},\"mode\":\"markers\",\"x\":[965],\"y\":[-30],\"type\":\"scatter\"},{\"line\":{\"color\":\"red\",\"width\":2},\"mode\":\"lines\",\"name\":\"Tyler Lockett motion path\",\"x\":[],\"y\":[],\"type\":\"scatter\"},{\"marker\":{\"color\":\"#ffffff\",\"line\":{\"color\":\"#000000\",\"width\":2},\"opacity\":1,\"size\":10},\"mode\":\"markers\",\"x\":[-11],\"y\":[-24],\"type\":\"scatter\"},{\"line\":{\"color\":\"red\",\"width\":2},\"mode\":\"lines\",\"name\":\"Austin Blythe motion path\",\"x\":[],\"y\":[],\"type\":\"scatter\"},{\"marker\":{\"color\":\"#ffffff\",\"line\":{\"color\":\"#000000\",\"width\":2},\"opacity\":1,\"size\":10},\"mode\":\"markers\",\"x\":[3],\"y\":[-740],\"type\":\"scatter\"},{\"line\":{\"color\":\"red\",\"width\":2},\"mode\":\"lines\",\"name\":\"Rashaad Penny motion path\",\"x\":[],\"y\":[],\"type\":\"scatter\"},{\"marker\":{\"color\":\"#ff0000\",\"line\":{\"color\":\"#000000\",\"width\":2},\"opacity\":1,\"size\":10},\"mode\":\"markers\",\"x\":[546],\"y\":[-146],\"type\":\"scatter\"},{\"hoverinfo\":\"none\",\"marker\":{\"color\":\"rgba(255, 0, 0, 0.5)\",\"line\":{\"color\":\"red\",\"width\":2},\"size\":20},\"mode\":\"markers\",\"name\":\"Will Dissly in motion\",\"x\":[546],\"y\":[-146],\"type\":\"scatter\"},{\"line\":{\"color\":\"red\",\"width\":2},\"mode\":\"lines\",\"name\":\"Will Dissly motion path\",\"x\":[-238,-230,-220,-206,-190,-170,-147,-120,-89,-56,-19,20,60,100,141,181,221,259,296,330,362,392,419,444,468,488,504,518,528,536,543,546],\"y\":[-464,-460,-456,-450,-442,-432,-421,-409,-392,-378,-360,-343,-326,-308,-292,-276,-261,-247,-233,-219,-207,-196,-185,-176,-168,-161,-156,-153,-149,-147,-146,-146],\"type\":\"scatter\"},{\"marker\":{\"color\":\"#ff0000\",\"line\":{\"color\":\"#000000\",\"width\":2},\"opacity\":1,\"size\":10},\"mode\":\"markers\",\"x\":[-462],\"y\":[-200],\"type\":\"scatter\"},{\"line\":{\"color\":\"red\",\"width\":2},\"mode\":\"lines\",\"name\":\"Noah Fant motion path\",\"x\":[],\"y\":[],\"type\":\"scatter\"},{\"marker\":{\"color\":\"#ffffff\",\"line\":{\"color\":\"#000000\",\"width\":2},\"opacity\":1,\"size\":10},\"mode\":\"markers\",\"x\":[-945],\"y\":[-93],\"type\":\"scatter\"},{\"line\":{\"color\":\"red\",\"width\":2},\"mode\":\"lines\",\"name\":\"DK Metcalf motion path\",\"x\":[],\"y\":[],\"type\":\"scatter\"},{\"marker\":{\"color\":\"#ffffff\",\"line\":{\"color\":\"#000000\",\"width\":2},\"opacity\":1,\"size\":10},\"mode\":\"markers\",\"x\":[-153],\"y\":[-93],\"type\":\"scatter\"},{\"line\":{\"color\":\"red\",\"width\":2},\"mode\":\"lines\",\"name\":\"Phil Haynes motion path\",\"x\":[],\"y\":[],\"type\":\"scatter\"},{\"marker\":{\"color\":\"#ffffff\",\"line\":{\"color\":\"#000000\",\"width\":2},\"opacity\":1,\"size\":10},\"mode\":\"markers\",\"x\":[-290],\"y\":[-122],\"type\":\"scatter\"},{\"line\":{\"color\":\"red\",\"width\":2},\"mode\":\"lines\",\"name\":\"Charles Cross motion path\",\"x\":[],\"y\":[],\"type\":\"scatter\"},{\"marker\":{\"color\":\"#ffffff\",\"line\":{\"color\":\"#000000\",\"width\":2},\"opacity\":1,\"size\":10},\"mode\":\"markers\",\"x\":[317],\"y\":[-101],\"type\":\"scatter\"},{\"line\":{\"color\":\"red\",\"width\":2},\"mode\":\"lines\",\"name\":\"Abraham Lucas motion path\",\"x\":[],\"y\":[],\"type\":\"scatter\"}],\"name\":\"95\"},{\"data\":[{\"marker\":{\"color\":\"#ffffff\",\"line\":{\"color\":\"#000000\",\"width\":2},\"opacity\":1,\"size\":10},\"mode\":\"markers\",\"x\":[-7],\"y\":[-137],\"type\":\"scatter\"},{\"line\":{\"color\":\"red\",\"width\":2},\"mode\":\"lines\",\"name\":\"Geno Smith motion path\",\"x\":[],\"y\":[],\"type\":\"scatter\"},{\"marker\":{\"color\":\"#ffffff\",\"line\":{\"color\":\"#000000\",\"width\":2},\"opacity\":1,\"size\":10},\"mode\":\"markers\",\"x\":[164],\"y\":[-96],\"type\":\"scatter\"},{\"line\":{\"color\":\"red\",\"width\":2},\"mode\":\"lines\",\"name\":\"Gabe Jackson motion path\",\"x\":[],\"y\":[],\"type\":\"scatter\"},{\"marker\":{\"color\":\"#ffffff\",\"line\":{\"color\":\"#000000\",\"width\":2},\"opacity\":1,\"size\":10},\"mode\":\"markers\",\"x\":[965],\"y\":[-30],\"type\":\"scatter\"},{\"line\":{\"color\":\"red\",\"width\":2},\"mode\":\"lines\",\"name\":\"Tyler Lockett motion path\",\"x\":[],\"y\":[],\"type\":\"scatter\"},{\"marker\":{\"color\":\"#ffffff\",\"line\":{\"color\":\"#000000\",\"width\":2},\"opacity\":1,\"size\":10},\"mode\":\"markers\",\"x\":[-11],\"y\":[-24],\"type\":\"scatter\"},{\"line\":{\"color\":\"red\",\"width\":2},\"mode\":\"lines\",\"name\":\"Austin Blythe motion path\",\"x\":[],\"y\":[],\"type\":\"scatter\"},{\"marker\":{\"color\":\"#ffffff\",\"line\":{\"color\":\"#000000\",\"width\":2},\"opacity\":1,\"size\":10},\"mode\":\"markers\",\"x\":[3],\"y\":[-739],\"type\":\"scatter\"},{\"line\":{\"color\":\"red\",\"width\":2},\"mode\":\"lines\",\"name\":\"Rashaad Penny motion path\",\"x\":[],\"y\":[],\"type\":\"scatter\"},{\"marker\":{\"color\":\"#ff0000\",\"line\":{\"color\":\"#000000\",\"width\":2},\"opacity\":1,\"size\":10},\"mode\":\"markers\",\"x\":[548],\"y\":[-144],\"type\":\"scatter\"},{\"line\":{\"color\":\"red\",\"width\":2},\"mode\":\"lines\",\"name\":\"Will Dissly motion path\",\"x\":[-238,-230,-220,-206,-190,-170,-147,-120,-89,-56,-19,20,60,100,141,181,221,259,296,330,362,392,419,444,468,488,504,518,528,536,543,546],\"y\":[-464,-460,-456,-450,-442,-432,-421,-409,-392,-378,-360,-343,-326,-308,-292,-276,-261,-247,-233,-219,-207,-196,-185,-176,-168,-161,-156,-153,-149,-147,-146,-146],\"type\":\"scatter\"},{\"marker\":{\"color\":\"#ff0000\",\"line\":{\"color\":\"#000000\",\"width\":2},\"opacity\":1,\"size\":10},\"mode\":\"markers\",\"x\":[-461],\"y\":[-200],\"type\":\"scatter\"},{\"line\":{\"color\":\"red\",\"width\":2},\"mode\":\"lines\",\"name\":\"Noah Fant motion path\",\"x\":[],\"y\":[],\"type\":\"scatter\"},{\"marker\":{\"color\":\"#ffffff\",\"line\":{\"color\":\"#000000\",\"width\":2},\"opacity\":1,\"size\":10},\"mode\":\"markers\",\"x\":[-945],\"y\":[-94],\"type\":\"scatter\"},{\"line\":{\"color\":\"red\",\"width\":2},\"mode\":\"lines\",\"name\":\"DK Metcalf motion path\",\"x\":[],\"y\":[],\"type\":\"scatter\"},{\"marker\":{\"color\":\"#ffffff\",\"line\":{\"color\":\"#000000\",\"width\":2},\"opacity\":1,\"size\":10},\"mode\":\"markers\",\"x\":[-152],\"y\":[-93],\"type\":\"scatter\"},{\"line\":{\"color\":\"red\",\"width\":2},\"mode\":\"lines\",\"name\":\"Phil Haynes motion path\",\"x\":[],\"y\":[],\"type\":\"scatter\"},{\"marker\":{\"color\":\"#ffffff\",\"line\":{\"color\":\"#000000\",\"width\":2},\"opacity\":1,\"size\":10},\"mode\":\"markers\",\"x\":[-290],\"y\":[-121],\"type\":\"scatter\"},{\"line\":{\"color\":\"red\",\"width\":2},\"mode\":\"lines\",\"name\":\"Charles Cross motion path\",\"x\":[],\"y\":[],\"type\":\"scatter\"},{\"marker\":{\"color\":\"#ffffff\",\"line\":{\"color\":\"#000000\",\"width\":2},\"opacity\":1,\"size\":10},\"mode\":\"markers\",\"x\":[317],\"y\":[-101],\"type\":\"scatter\"},{\"line\":{\"color\":\"red\",\"width\":2},\"mode\":\"lines\",\"name\":\"Abraham Lucas motion path\",\"x\":[],\"y\":[],\"type\":\"scatter\"}],\"name\":\"96\"},{\"data\":[{\"marker\":{\"color\":\"#ffffff\",\"line\":{\"color\":\"#000000\",\"width\":2},\"opacity\":1,\"size\":10},\"mode\":\"markers\",\"x\":[-6],\"y\":[-139],\"type\":\"scatter\"},{\"line\":{\"color\":\"red\",\"width\":2},\"mode\":\"lines\",\"name\":\"Geno Smith motion path\",\"x\":[],\"y\":[],\"type\":\"scatter\"},{\"marker\":{\"color\":\"#ffffff\",\"line\":{\"color\":\"#000000\",\"width\":2},\"opacity\":1,\"size\":10},\"mode\":\"markers\",\"x\":[164],\"y\":[-96],\"type\":\"scatter\"},{\"line\":{\"color\":\"red\",\"width\":2},\"mode\":\"lines\",\"name\":\"Gabe Jackson motion path\",\"x\":[],\"y\":[],\"type\":\"scatter\"},{\"marker\":{\"color\":\"#ffffff\",\"line\":{\"color\":\"#000000\",\"width\":2},\"opacity\":1,\"size\":10},\"mode\":\"markers\",\"x\":[963],\"y\":[-31],\"type\":\"scatter\"},{\"line\":{\"color\":\"red\",\"width\":2},\"mode\":\"lines\",\"name\":\"Tyler Lockett motion path\",\"x\":[],\"y\":[],\"type\":\"scatter\"},{\"marker\":{\"color\":\"#ffffff\",\"line\":{\"color\":\"#000000\",\"width\":2},\"opacity\":1,\"size\":10},\"mode\":\"markers\",\"x\":[-12],\"y\":[-25],\"type\":\"scatter\"},{\"line\":{\"color\":\"red\",\"width\":2},\"mode\":\"lines\",\"name\":\"Austin Blythe motion path\",\"x\":[],\"y\":[],\"type\":\"scatter\"},{\"marker\":{\"color\":\"#ffffff\",\"line\":{\"color\":\"#000000\",\"width\":2},\"opacity\":1,\"size\":10},\"mode\":\"markers\",\"x\":[3],\"y\":[-739],\"type\":\"scatter\"},{\"line\":{\"color\":\"red\",\"width\":2},\"mode\":\"lines\",\"name\":\"Rashaad Penny motion path\",\"x\":[],\"y\":[],\"type\":\"scatter\"},{\"marker\":{\"color\":\"#ff0000\",\"line\":{\"color\":\"#000000\",\"width\":2},\"opacity\":1,\"size\":10},\"mode\":\"markers\",\"x\":[548],\"y\":[-144],\"type\":\"scatter\"},{\"line\":{\"color\":\"red\",\"width\":2},\"mode\":\"lines\",\"name\":\"Will Dissly motion path\",\"x\":[-238,-230,-220,-206,-190,-170,-147,-120,-89,-56,-19,20,60,100,141,181,221,259,296,330,362,392,419,444,468,488,504,518,528,536,543,546],\"y\":[-464,-460,-456,-450,-442,-432,-421,-409,-392,-378,-360,-343,-326,-308,-292,-276,-261,-247,-233,-219,-207,-196,-185,-176,-168,-161,-156,-153,-149,-147,-146,-146],\"type\":\"scatter\"},{\"marker\":{\"color\":\"#ff0000\",\"line\":{\"color\":\"#000000\",\"width\":2},\"opacity\":1,\"size\":10},\"mode\":\"markers\",\"x\":[-460],\"y\":[-199],\"type\":\"scatter\"},{\"line\":{\"color\":\"red\",\"width\":2},\"mode\":\"lines\",\"name\":\"Noah Fant motion path\",\"x\":[],\"y\":[],\"type\":\"scatter\"},{\"marker\":{\"color\":\"#ffffff\",\"line\":{\"color\":\"#000000\",\"width\":2},\"opacity\":1,\"size\":10},\"mode\":\"markers\",\"x\":[-945],\"y\":[-94],\"type\":\"scatter\"},{\"line\":{\"color\":\"red\",\"width\":2},\"mode\":\"lines\",\"name\":\"DK Metcalf motion path\",\"x\":[],\"y\":[],\"type\":\"scatter\"},{\"marker\":{\"color\":\"#ffffff\",\"line\":{\"color\":\"#000000\",\"width\":2},\"opacity\":1,\"size\":10},\"mode\":\"markers\",\"x\":[-152],\"y\":[-93],\"type\":\"scatter\"},{\"line\":{\"color\":\"red\",\"width\":2},\"mode\":\"lines\",\"name\":\"Phil Haynes motion path\",\"x\":[],\"y\":[],\"type\":\"scatter\"},{\"marker\":{\"color\":\"#ffffff\",\"line\":{\"color\":\"#000000\",\"width\":2},\"opacity\":1,\"size\":10},\"mode\":\"markers\",\"x\":[-290],\"y\":[-122],\"type\":\"scatter\"},{\"line\":{\"color\":\"red\",\"width\":2},\"mode\":\"lines\",\"name\":\"Charles Cross motion path\",\"x\":[],\"y\":[],\"type\":\"scatter\"},{\"marker\":{\"color\":\"#ffffff\",\"line\":{\"color\":\"#000000\",\"width\":2},\"opacity\":1,\"size\":10},\"mode\":\"markers\",\"x\":[317],\"y\":[-100],\"type\":\"scatter\"},{\"line\":{\"color\":\"red\",\"width\":2},\"mode\":\"lines\",\"name\":\"Abraham Lucas motion path\",\"x\":[],\"y\":[],\"type\":\"scatter\"}],\"name\":\"97\"},{\"data\":[{\"marker\":{\"color\":\"#ffffff\",\"line\":{\"color\":\"#000000\",\"width\":2},\"opacity\":1,\"size\":10},\"mode\":\"markers\",\"x\":[-5],\"y\":[-139],\"type\":\"scatter\"},{\"line\":{\"color\":\"red\",\"width\":2},\"mode\":\"lines\",\"name\":\"Geno Smith motion path\",\"x\":[],\"y\":[],\"type\":\"scatter\"},{\"marker\":{\"color\":\"#ffffff\",\"line\":{\"color\":\"#000000\",\"width\":2},\"opacity\":1,\"size\":10},\"mode\":\"markers\",\"x\":[163],\"y\":[-96],\"type\":\"scatter\"},{\"line\":{\"color\":\"red\",\"width\":2},\"mode\":\"lines\",\"name\":\"Gabe Jackson motion path\",\"x\":[],\"y\":[],\"type\":\"scatter\"},{\"marker\":{\"color\":\"#ffffff\",\"line\":{\"color\":\"#000000\",\"width\":2},\"opacity\":1,\"size\":10},\"mode\":\"markers\",\"x\":[962],\"y\":[-31],\"type\":\"scatter\"},{\"line\":{\"color\":\"red\",\"width\":2},\"mode\":\"lines\",\"name\":\"Tyler Lockett motion path\",\"x\":[],\"y\":[],\"type\":\"scatter\"},{\"marker\":{\"color\":\"#ffffff\",\"line\":{\"color\":\"#000000\",\"width\":2},\"opacity\":1,\"size\":10},\"mode\":\"markers\",\"x\":[-11],\"y\":[-25],\"type\":\"scatter\"},{\"line\":{\"color\":\"red\",\"width\":2},\"mode\":\"lines\",\"name\":\"Austin Blythe motion path\",\"x\":[],\"y\":[],\"type\":\"scatter\"},{\"marker\":{\"color\":\"#ffffff\",\"line\":{\"color\":\"#000000\",\"width\":2},\"opacity\":1,\"size\":10},\"mode\":\"markers\",\"x\":[3],\"y\":[-739],\"type\":\"scatter\"},{\"line\":{\"color\":\"red\",\"width\":2},\"mode\":\"lines\",\"name\":\"Rashaad Penny motion path\",\"x\":[],\"y\":[],\"type\":\"scatter\"},{\"marker\":{\"color\":\"#ff0000\",\"line\":{\"color\":\"#000000\",\"width\":2},\"opacity\":1,\"size\":10},\"mode\":\"markers\",\"x\":[550],\"y\":[-144],\"type\":\"scatter\"},{\"line\":{\"color\":\"red\",\"width\":2},\"mode\":\"lines\",\"name\":\"Will Dissly motion path\",\"x\":[-238,-230,-220,-206,-190,-170,-147,-120,-89,-56,-19,20,60,100,141,181,221,259,296,330,362,392,419,444,468,488,504,518,528,536,543,546],\"y\":[-464,-460,-456,-450,-442,-432,-421,-409,-392,-378,-360,-343,-326,-308,-292,-276,-261,-247,-233,-219,-207,-196,-185,-176,-168,-161,-156,-153,-149,-147,-146,-146],\"type\":\"scatter\"},{\"marker\":{\"color\":\"#ff0000\",\"line\":{\"color\":\"#000000\",\"width\":2},\"opacity\":1,\"size\":10},\"mode\":\"markers\",\"x\":[-459],\"y\":[-198],\"type\":\"scatter\"},{\"line\":{\"color\":\"red\",\"width\":2},\"mode\":\"lines\",\"name\":\"Noah Fant motion path\",\"x\":[],\"y\":[],\"type\":\"scatter\"},{\"marker\":{\"color\":\"#ffffff\",\"line\":{\"color\":\"#000000\",\"width\":2},\"opacity\":1,\"size\":10},\"mode\":\"markers\",\"x\":[-945],\"y\":[-94],\"type\":\"scatter\"},{\"line\":{\"color\":\"red\",\"width\":2},\"mode\":\"lines\",\"name\":\"DK Metcalf motion path\",\"x\":[],\"y\":[],\"type\":\"scatter\"},{\"marker\":{\"color\":\"#ffffff\",\"line\":{\"color\":\"#000000\",\"width\":2},\"opacity\":1,\"size\":10},\"mode\":\"markers\",\"x\":[-152],\"y\":[-94],\"type\":\"scatter\"},{\"line\":{\"color\":\"red\",\"width\":2},\"mode\":\"lines\",\"name\":\"Phil Haynes motion path\",\"x\":[],\"y\":[],\"type\":\"scatter\"},{\"marker\":{\"color\":\"#ffffff\",\"line\":{\"color\":\"#000000\",\"width\":2},\"opacity\":1,\"size\":10},\"mode\":\"markers\",\"x\":[-290],\"y\":[-122],\"type\":\"scatter\"},{\"line\":{\"color\":\"red\",\"width\":2},\"mode\":\"lines\",\"name\":\"Charles Cross motion path\",\"x\":[],\"y\":[],\"type\":\"scatter\"},{\"marker\":{\"color\":\"#ffffff\",\"line\":{\"color\":\"#000000\",\"width\":2},\"opacity\":1,\"size\":10},\"mode\":\"markers\",\"x\":[316],\"y\":[-100],\"type\":\"scatter\"},{\"line\":{\"color\":\"red\",\"width\":2},\"mode\":\"lines\",\"name\":\"Abraham Lucas motion path\",\"x\":[],\"y\":[],\"type\":\"scatter\"}],\"name\":\"98\"},{\"data\":[{\"marker\":{\"color\":\"#ffffff\",\"line\":{\"color\":\"#000000\",\"width\":2},\"opacity\":1,\"size\":10},\"mode\":\"markers\",\"x\":[-2],\"y\":[-140],\"type\":\"scatter\"},{\"line\":{\"color\":\"red\",\"width\":2},\"mode\":\"lines\",\"name\":\"Geno Smith motion path\",\"x\":[],\"y\":[],\"type\":\"scatter\"},{\"marker\":{\"color\":\"#ffffff\",\"line\":{\"color\":\"#000000\",\"width\":2},\"opacity\":1,\"size\":10},\"mode\":\"markers\",\"x\":[165],\"y\":[-94],\"type\":\"scatter\"},{\"line\":{\"color\":\"red\",\"width\":2},\"mode\":\"lines\",\"name\":\"Gabe Jackson motion path\",\"x\":[],\"y\":[],\"type\":\"scatter\"},{\"marker\":{\"color\":\"#ffffff\",\"line\":{\"color\":\"#000000\",\"width\":2},\"opacity\":1,\"size\":10},\"mode\":\"markers\",\"x\":[963],\"y\":[-32],\"type\":\"scatter\"},{\"line\":{\"color\":\"red\",\"width\":2},\"mode\":\"lines\",\"name\":\"Tyler Lockett motion path\",\"x\":[],\"y\":[],\"type\":\"scatter\"},{\"marker\":{\"color\":\"#ffffff\",\"line\":{\"color\":\"#000000\",\"width\":2},\"opacity\":1,\"size\":10},\"mode\":\"markers\",\"x\":[-9],\"y\":[-24],\"type\":\"scatter\"},{\"line\":{\"color\":\"red\",\"width\":2},\"mode\":\"lines\",\"name\":\"Austin Blythe motion path\",\"x\":[],\"y\":[],\"type\":\"scatter\"},{\"marker\":{\"color\":\"#ffffff\",\"line\":{\"color\":\"#000000\",\"width\":2},\"opacity\":1,\"size\":10},\"mode\":\"markers\",\"x\":[5],\"y\":[-739],\"type\":\"scatter\"},{\"line\":{\"color\":\"red\",\"width\":2},\"mode\":\"lines\",\"name\":\"Rashaad Penny motion path\",\"x\":[],\"y\":[],\"type\":\"scatter\"},{\"marker\":{\"color\":\"#ff0000\",\"line\":{\"color\":\"#000000\",\"width\":2},\"opacity\":1,\"size\":10},\"mode\":\"markers\",\"x\":[550],\"y\":[-144],\"type\":\"scatter\"},{\"line\":{\"color\":\"red\",\"width\":2},\"mode\":\"lines\",\"name\":\"Will Dissly motion path\",\"x\":[-238,-230,-220,-206,-190,-170,-147,-120,-89,-56,-19,20,60,100,141,181,221,259,296,330,362,392,419,444,468,488,504,518,528,536,543,546],\"y\":[-464,-460,-456,-450,-442,-432,-421,-409,-392,-378,-360,-343,-326,-308,-292,-276,-261,-247,-233,-219,-207,-196,-185,-176,-168,-161,-156,-153,-149,-147,-146,-146],\"type\":\"scatter\"},{\"marker\":{\"color\":\"#ff0000\",\"line\":{\"color\":\"#000000\",\"width\":2},\"opacity\":1,\"size\":10},\"mode\":\"markers\",\"x\":[-455],\"y\":[-198],\"type\":\"scatter\"},{\"line\":{\"color\":\"red\",\"width\":2},\"mode\":\"lines\",\"name\":\"Noah Fant motion path\",\"x\":[],\"y\":[],\"type\":\"scatter\"},{\"marker\":{\"color\":\"#ffffff\",\"line\":{\"color\":\"#000000\",\"width\":2},\"opacity\":1,\"size\":10},\"mode\":\"markers\",\"x\":[-943],\"y\":[-94],\"type\":\"scatter\"},{\"line\":{\"color\":\"red\",\"width\":2},\"mode\":\"lines\",\"name\":\"DK Metcalf motion path\",\"x\":[],\"y\":[],\"type\":\"scatter\"},{\"marker\":{\"color\":\"#ffffff\",\"line\":{\"color\":\"#000000\",\"width\":2},\"opacity\":1,\"size\":10},\"mode\":\"markers\",\"x\":[-150],\"y\":[-94],\"type\":\"scatter\"},{\"line\":{\"color\":\"red\",\"width\":2},\"mode\":\"lines\",\"name\":\"Phil Haynes motion path\",\"x\":[],\"y\":[],\"type\":\"scatter\"},{\"marker\":{\"color\":\"#ffffff\",\"line\":{\"color\":\"#000000\",\"width\":2},\"opacity\":1,\"size\":10},\"mode\":\"markers\",\"x\":[-288],\"y\":[-122],\"type\":\"scatter\"},{\"line\":{\"color\":\"red\",\"width\":2},\"mode\":\"lines\",\"name\":\"Charles Cross motion path\",\"x\":[],\"y\":[],\"type\":\"scatter\"},{\"marker\":{\"color\":\"#ffffff\",\"line\":{\"color\":\"#000000\",\"width\":2},\"opacity\":1,\"size\":10},\"mode\":\"markers\",\"x\":[318],\"y\":[-99],\"type\":\"scatter\"},{\"line\":{\"color\":\"red\",\"width\":2},\"mode\":\"lines\",\"name\":\"Abraham Lucas motion path\",\"x\":[],\"y\":[],\"type\":\"scatter\"}],\"name\":\"99\"},{\"data\":[{\"marker\":{\"color\":\"#ffffff\",\"line\":{\"color\":\"#000000\",\"width\":2},\"opacity\":1,\"size\":10},\"mode\":\"markers\",\"x\":[0],\"y\":[-141],\"type\":\"scatter\"},{\"line\":{\"color\":\"red\",\"width\":2},\"mode\":\"lines\",\"name\":\"Geno Smith motion path\",\"x\":[],\"y\":[],\"type\":\"scatter\"},{\"marker\":{\"color\":\"#ffffff\",\"line\":{\"color\":\"#000000\",\"width\":2},\"opacity\":1,\"size\":10},\"mode\":\"markers\",\"x\":[163],\"y\":[-93],\"type\":\"scatter\"},{\"line\":{\"color\":\"red\",\"width\":2},\"mode\":\"lines\",\"name\":\"Gabe Jackson motion path\",\"x\":[],\"y\":[],\"type\":\"scatter\"},{\"marker\":{\"color\":\"#ffffff\",\"line\":{\"color\":\"#000000\",\"width\":2},\"opacity\":1,\"size\":10},\"mode\":\"markers\",\"x\":[962],\"y\":[-32],\"type\":\"scatter\"},{\"line\":{\"color\":\"red\",\"width\":2},\"mode\":\"lines\",\"name\":\"Tyler Lockett motion path\",\"x\":[],\"y\":[],\"type\":\"scatter\"},{\"marker\":{\"color\":\"#ffffff\",\"line\":{\"color\":\"#000000\",\"width\":2},\"opacity\":1,\"size\":10},\"mode\":\"markers\",\"x\":[-9],\"y\":[-24],\"type\":\"scatter\"},{\"line\":{\"color\":\"red\",\"width\":2},\"mode\":\"lines\",\"name\":\"Austin Blythe motion path\",\"x\":[],\"y\":[],\"type\":\"scatter\"},{\"marker\":{\"color\":\"#ffffff\",\"line\":{\"color\":\"#000000\",\"width\":2},\"opacity\":1,\"size\":10},\"mode\":\"markers\",\"x\":[5],\"y\":[-737],\"type\":\"scatter\"},{\"line\":{\"color\":\"red\",\"width\":2},\"mode\":\"lines\",\"name\":\"Rashaad Penny motion path\",\"x\":[],\"y\":[],\"type\":\"scatter\"},{\"marker\":{\"color\":\"#ff0000\",\"line\":{\"color\":\"#000000\",\"width\":2},\"opacity\":1,\"size\":10},\"mode\":\"markers\",\"x\":[550],\"y\":[-144],\"type\":\"scatter\"},{\"line\":{\"color\":\"red\",\"width\":2},\"mode\":\"lines\",\"name\":\"Will Dissly motion path\",\"x\":[-238,-230,-220,-206,-190,-170,-147,-120,-89,-56,-19,20,60,100,141,181,221,259,296,330,362,392,419,444,468,488,504,518,528,536,543,546],\"y\":[-464,-460,-456,-450,-442,-432,-421,-409,-392,-378,-360,-343,-326,-308,-292,-276,-261,-247,-233,-219,-207,-196,-185,-176,-168,-161,-156,-153,-149,-147,-146,-146],\"type\":\"scatter\"},{\"marker\":{\"color\":\"#ff0000\",\"line\":{\"color\":\"#000000\",\"width\":2},\"opacity\":1,\"size\":10},\"mode\":\"markers\",\"x\":[-452],\"y\":[-197],\"type\":\"scatter\"},{\"line\":{\"color\":\"red\",\"width\":2},\"mode\":\"lines\",\"name\":\"Noah Fant motion path\",\"x\":[],\"y\":[],\"type\":\"scatter\"},{\"marker\":{\"color\":\"#ffffff\",\"line\":{\"color\":\"#000000\",\"width\":2},\"opacity\":1,\"size\":10},\"mode\":\"markers\",\"x\":[-942],\"y\":[-94],\"type\":\"scatter\"},{\"line\":{\"color\":\"red\",\"width\":2},\"mode\":\"lines\",\"name\":\"DK Metcalf motion path\",\"x\":[],\"y\":[],\"type\":\"scatter\"},{\"marker\":{\"color\":\"#ffffff\",\"line\":{\"color\":\"#000000\",\"width\":2},\"opacity\":1,\"size\":10},\"mode\":\"markers\",\"x\":[-150],\"y\":[-94],\"type\":\"scatter\"},{\"line\":{\"color\":\"red\",\"width\":2},\"mode\":\"lines\",\"name\":\"Phil Haynes motion path\",\"x\":[],\"y\":[],\"type\":\"scatter\"},{\"marker\":{\"color\":\"#ffffff\",\"line\":{\"color\":\"#000000\",\"width\":2},\"opacity\":1,\"size\":10},\"mode\":\"markers\",\"x\":[-288],\"y\":[-121],\"type\":\"scatter\"},{\"line\":{\"color\":\"red\",\"width\":2},\"mode\":\"lines\",\"name\":\"Charles Cross motion path\",\"x\":[],\"y\":[],\"type\":\"scatter\"},{\"marker\":{\"color\":\"#ffffff\",\"line\":{\"color\":\"#000000\",\"width\":2},\"opacity\":1,\"size\":10},\"mode\":\"markers\",\"x\":[317],\"y\":[-99],\"type\":\"scatter\"},{\"line\":{\"color\":\"red\",\"width\":2},\"mode\":\"lines\",\"name\":\"Abraham Lucas motion path\",\"x\":[],\"y\":[],\"type\":\"scatter\"}],\"name\":\"100\"},{\"data\":[{\"marker\":{\"color\":\"#ffffff\",\"line\":{\"color\":\"#000000\",\"width\":2},\"opacity\":1,\"size\":10},\"mode\":\"markers\",\"x\":[2],\"y\":[-142],\"type\":\"scatter\"},{\"line\":{\"color\":\"red\",\"width\":2},\"mode\":\"lines\",\"name\":\"Geno Smith motion path\",\"x\":[],\"y\":[],\"type\":\"scatter\"},{\"marker\":{\"color\":\"#ffffff\",\"line\":{\"color\":\"#000000\",\"width\":2},\"opacity\":1,\"size\":10},\"mode\":\"markers\",\"x\":[162],\"y\":[-93],\"type\":\"scatter\"},{\"line\":{\"color\":\"red\",\"width\":2},\"mode\":\"lines\",\"name\":\"Gabe Jackson motion path\",\"x\":[],\"y\":[],\"type\":\"scatter\"},{\"marker\":{\"color\":\"#ffffff\",\"line\":{\"color\":\"#000000\",\"width\":2},\"opacity\":1,\"size\":10},\"mode\":\"markers\",\"x\":[962],\"y\":[-32],\"type\":\"scatter\"},{\"line\":{\"color\":\"red\",\"width\":2},\"mode\":\"lines\",\"name\":\"Tyler Lockett motion path\",\"x\":[],\"y\":[],\"type\":\"scatter\"},{\"marker\":{\"color\":\"#ffffff\",\"line\":{\"color\":\"#000000\",\"width\":2},\"opacity\":1,\"size\":10},\"mode\":\"markers\",\"x\":[-8],\"y\":[-23],\"type\":\"scatter\"},{\"line\":{\"color\":\"red\",\"width\":2},\"mode\":\"lines\",\"name\":\"Austin Blythe motion path\",\"x\":[],\"y\":[],\"type\":\"scatter\"},{\"marker\":{\"color\":\"#ffffff\",\"line\":{\"color\":\"#000000\",\"width\":2},\"opacity\":1,\"size\":10},\"mode\":\"markers\",\"x\":[4],\"y\":[-737],\"type\":\"scatter\"},{\"line\":{\"color\":\"red\",\"width\":2},\"mode\":\"lines\",\"name\":\"Rashaad Penny motion path\",\"x\":[],\"y\":[],\"type\":\"scatter\"},{\"marker\":{\"color\":\"#ff0000\",\"line\":{\"color\":\"#000000\",\"width\":2},\"opacity\":1,\"size\":10},\"mode\":\"markers\",\"x\":[549],\"y\":[-144],\"type\":\"scatter\"},{\"line\":{\"color\":\"red\",\"width\":2},\"mode\":\"lines\",\"name\":\"Will Dissly motion path\",\"x\":[-238,-230,-220,-206,-190,-170,-147,-120,-89,-56,-19,20,60,100,141,181,221,259,296,330,362,392,419,444,468,488,504,518,528,536,543,546],\"y\":[-464,-460,-456,-450,-442,-432,-421,-409,-392,-378,-360,-343,-326,-308,-292,-276,-261,-247,-233,-219,-207,-196,-185,-176,-168,-161,-156,-153,-149,-147,-146,-146],\"type\":\"scatter\"},{\"marker\":{\"color\":\"#ff0000\",\"line\":{\"color\":\"#000000\",\"width\":2},\"opacity\":1,\"size\":10},\"mode\":\"markers\",\"x\":[-450],\"y\":[-196],\"type\":\"scatter\"},{\"line\":{\"color\":\"red\",\"width\":2},\"mode\":\"lines\",\"name\":\"Noah Fant motion path\",\"x\":[],\"y\":[],\"type\":\"scatter\"},{\"marker\":{\"color\":\"#ffffff\",\"line\":{\"color\":\"#000000\",\"width\":2},\"opacity\":1,\"size\":10},\"mode\":\"markers\",\"x\":[-942],\"y\":[-93],\"type\":\"scatter\"},{\"line\":{\"color\":\"red\",\"width\":2},\"mode\":\"lines\",\"name\":\"DK Metcalf motion path\",\"x\":[],\"y\":[],\"type\":\"scatter\"},{\"marker\":{\"color\":\"#ffffff\",\"line\":{\"color\":\"#000000\",\"width\":2},\"opacity\":1,\"size\":10},\"mode\":\"markers\",\"x\":[-150],\"y\":[-96],\"type\":\"scatter\"},{\"line\":{\"color\":\"red\",\"width\":2},\"mode\":\"lines\",\"name\":\"Phil Haynes motion path\",\"x\":[],\"y\":[],\"type\":\"scatter\"},{\"marker\":{\"color\":\"#ffffff\",\"line\":{\"color\":\"#000000\",\"width\":2},\"opacity\":1,\"size\":10},\"mode\":\"markers\",\"x\":[-288],\"y\":[-121],\"type\":\"scatter\"},{\"line\":{\"color\":\"red\",\"width\":2},\"mode\":\"lines\",\"name\":\"Charles Cross motion path\",\"x\":[],\"y\":[],\"type\":\"scatter\"},{\"marker\":{\"color\":\"#ffffff\",\"line\":{\"color\":\"#000000\",\"width\":2},\"opacity\":1,\"size\":10},\"mode\":\"markers\",\"x\":[317],\"y\":[-98],\"type\":\"scatter\"},{\"line\":{\"color\":\"red\",\"width\":2},\"mode\":\"lines\",\"name\":\"Abraham Lucas motion path\",\"x\":[],\"y\":[],\"type\":\"scatter\"}],\"name\":\"101\"},{\"data\":[{\"marker\":{\"color\":\"#ffffff\",\"line\":{\"color\":\"#000000\",\"width\":2},\"opacity\":1,\"size\":10},\"mode\":\"markers\",\"x\":[3],\"y\":[-143],\"type\":\"scatter\"},{\"line\":{\"color\":\"red\",\"width\":2},\"mode\":\"lines\",\"name\":\"Geno Smith motion path\",\"x\":[],\"y\":[],\"type\":\"scatter\"},{\"marker\":{\"color\":\"#ffffff\",\"line\":{\"color\":\"#000000\",\"width\":2},\"opacity\":1,\"size\":10},\"mode\":\"markers\",\"x\":[162],\"y\":[-92],\"type\":\"scatter\"},{\"line\":{\"color\":\"red\",\"width\":2},\"mode\":\"lines\",\"name\":\"Gabe Jackson motion path\",\"x\":[],\"y\":[],\"type\":\"scatter\"},{\"marker\":{\"color\":\"#ffffff\",\"line\":{\"color\":\"#000000\",\"width\":2},\"opacity\":1,\"size\":10},\"mode\":\"markers\",\"x\":[962],\"y\":[-32],\"type\":\"scatter\"},{\"line\":{\"color\":\"red\",\"width\":2},\"mode\":\"lines\",\"name\":\"Tyler Lockett motion path\",\"x\":[],\"y\":[],\"type\":\"scatter\"},{\"marker\":{\"color\":\"#ffffff\",\"line\":{\"color\":\"#000000\",\"width\":2},\"opacity\":1,\"size\":10},\"mode\":\"markers\",\"x\":[-8],\"y\":[-21],\"type\":\"scatter\"},{\"line\":{\"color\":\"red\",\"width\":2},\"mode\":\"lines\",\"name\":\"Austin Blythe motion path\",\"x\":[],\"y\":[],\"type\":\"scatter\"},{\"marker\":{\"color\":\"#ffffff\",\"line\":{\"color\":\"#000000\",\"width\":2},\"opacity\":1,\"size\":10},\"mode\":\"markers\",\"x\":[5],\"y\":[-737],\"type\":\"scatter\"},{\"line\":{\"color\":\"red\",\"width\":2},\"mode\":\"lines\",\"name\":\"Rashaad Penny motion path\",\"x\":[],\"y\":[],\"type\":\"scatter\"},{\"marker\":{\"color\":\"#ff0000\",\"line\":{\"color\":\"#000000\",\"width\":2},\"opacity\":1,\"size\":10},\"mode\":\"markers\",\"x\":[548],\"y\":[-144],\"type\":\"scatter\"},{\"line\":{\"color\":\"red\",\"width\":2},\"mode\":\"lines\",\"name\":\"Will Dissly motion path\",\"x\":[-238,-230,-220,-206,-190,-170,-147,-120,-89,-56,-19,20,60,100,141,181,221,259,296,330,362,392,419,444,468,488,504,518,528,536,543,546],\"y\":[-464,-460,-456,-450,-442,-432,-421,-409,-392,-378,-360,-343,-326,-308,-292,-276,-261,-247,-233,-219,-207,-196,-185,-176,-168,-161,-156,-153,-149,-147,-146,-146],\"type\":\"scatter\"},{\"marker\":{\"color\":\"#ff0000\",\"line\":{\"color\":\"#000000\",\"width\":2},\"opacity\":1,\"size\":10},\"mode\":\"markers\",\"x\":[-447],\"y\":[-196],\"type\":\"scatter\"},{\"line\":{\"color\":\"red\",\"width\":2},\"mode\":\"lines\",\"name\":\"Noah Fant motion path\",\"x\":[],\"y\":[],\"type\":\"scatter\"},{\"marker\":{\"color\":\"#ffffff\",\"line\":{\"color\":\"#000000\",\"width\":2},\"opacity\":1,\"size\":10},\"mode\":\"markers\",\"x\":[-942],\"y\":[-93],\"type\":\"scatter\"},{\"line\":{\"color\":\"red\",\"width\":2},\"mode\":\"lines\",\"name\":\"DK Metcalf motion path\",\"x\":[],\"y\":[],\"type\":\"scatter\"},{\"marker\":{\"color\":\"#ffffff\",\"line\":{\"color\":\"#000000\",\"width\":2},\"opacity\":1,\"size\":10},\"mode\":\"markers\",\"x\":[-150],\"y\":[-96],\"type\":\"scatter\"},{\"line\":{\"color\":\"red\",\"width\":2},\"mode\":\"lines\",\"name\":\"Phil Haynes motion path\",\"x\":[],\"y\":[],\"type\":\"scatter\"},{\"marker\":{\"color\":\"#ffffff\",\"line\":{\"color\":\"#000000\",\"width\":2},\"opacity\":1,\"size\":10},\"mode\":\"markers\",\"x\":[-288],\"y\":[-121],\"type\":\"scatter\"},{\"line\":{\"color\":\"red\",\"width\":2},\"mode\":\"lines\",\"name\":\"Charles Cross motion path\",\"x\":[],\"y\":[],\"type\":\"scatter\"},{\"marker\":{\"color\":\"#ffffff\",\"line\":{\"color\":\"#000000\",\"width\":2},\"opacity\":1,\"size\":10},\"mode\":\"markers\",\"x\":[316],\"y\":[-97],\"type\":\"scatter\"},{\"line\":{\"color\":\"red\",\"width\":2},\"mode\":\"lines\",\"name\":\"Abraham Lucas motion path\",\"x\":[],\"y\":[],\"type\":\"scatter\"}],\"name\":\"102\"},{\"data\":[{\"marker\":{\"color\":\"#ffffff\",\"line\":{\"color\":\"#000000\",\"width\":2},\"opacity\":1,\"size\":10},\"mode\":\"markers\",\"x\":[4],\"y\":[-143],\"type\":\"scatter\"},{\"line\":{\"color\":\"red\",\"width\":2},\"mode\":\"lines\",\"name\":\"Geno Smith motion path\",\"x\":[],\"y\":[],\"type\":\"scatter\"},{\"marker\":{\"color\":\"#ffffff\",\"line\":{\"color\":\"#000000\",\"width\":2},\"opacity\":1,\"size\":10},\"mode\":\"markers\",\"x\":[161],\"y\":[-91],\"type\":\"scatter\"},{\"line\":{\"color\":\"red\",\"width\":2},\"mode\":\"lines\",\"name\":\"Gabe Jackson motion path\",\"x\":[],\"y\":[],\"type\":\"scatter\"},{\"marker\":{\"color\":\"#ffffff\",\"line\":{\"color\":\"#000000\",\"width\":2},\"opacity\":1,\"size\":10},\"mode\":\"markers\",\"x\":[962],\"y\":[-31],\"type\":\"scatter\"},{\"line\":{\"color\":\"red\",\"width\":2},\"mode\":\"lines\",\"name\":\"Tyler Lockett motion path\",\"x\":[],\"y\":[],\"type\":\"scatter\"},{\"marker\":{\"color\":\"#ffffff\",\"line\":{\"color\":\"#000000\",\"width\":2},\"opacity\":1,\"size\":10},\"mode\":\"markers\",\"x\":[-8],\"y\":[-21],\"type\":\"scatter\"},{\"line\":{\"color\":\"red\",\"width\":2},\"mode\":\"lines\",\"name\":\"Austin Blythe motion path\",\"x\":[],\"y\":[],\"type\":\"scatter\"},{\"marker\":{\"color\":\"#ffffff\",\"line\":{\"color\":\"#000000\",\"width\":2},\"opacity\":1,\"size\":10},\"mode\":\"markers\",\"x\":[6],\"y\":[-737],\"type\":\"scatter\"},{\"line\":{\"color\":\"red\",\"width\":2},\"mode\":\"lines\",\"name\":\"Rashaad Penny motion path\",\"x\":[],\"y\":[],\"type\":\"scatter\"},{\"marker\":{\"color\":\"#ff0000\",\"line\":{\"color\":\"#000000\",\"width\":2},\"opacity\":1,\"size\":10},\"mode\":\"markers\",\"x\":[548],\"y\":[-144],\"type\":\"scatter\"},{\"line\":{\"color\":\"red\",\"width\":2},\"mode\":\"lines\",\"name\":\"Will Dissly motion path\",\"x\":[-238,-230,-220,-206,-190,-170,-147,-120,-89,-56,-19,20,60,100,141,181,221,259,296,330,362,392,419,444,468,488,504,518,528,536,543,546],\"y\":[-464,-460,-456,-450,-442,-432,-421,-409,-392,-378,-360,-343,-326,-308,-292,-276,-261,-247,-233,-219,-207,-196,-185,-176,-168,-161,-156,-153,-149,-147,-146,-146],\"type\":\"scatter\"},{\"marker\":{\"color\":\"#ff0000\",\"line\":{\"color\":\"#000000\",\"width\":2},\"opacity\":1,\"size\":10},\"mode\":\"markers\",\"x\":[-443],\"y\":[-196],\"type\":\"scatter\"},{\"hoverinfo\":\"none\",\"marker\":{\"color\":\"rgba(255, 0, 0, 0.5)\",\"line\":{\"color\":\"red\",\"width\":2},\"size\":20},\"mode\":\"markers\",\"name\":\"Noah Fant in motion\",\"x\":[-443],\"y\":[-196],\"type\":\"scatter\"},{\"line\":{\"color\":\"red\",\"width\":2},\"mode\":\"lines\",\"name\":\"Noah Fant motion path\",\"x\":[-443],\"y\":[-196],\"type\":\"scatter\"},{\"marker\":{\"color\":\"#ffffff\",\"line\":{\"color\":\"#000000\",\"width\":2},\"opacity\":1,\"size\":10},\"mode\":\"markers\",\"x\":[-940],\"y\":[-93],\"type\":\"scatter\"},{\"line\":{\"color\":\"red\",\"width\":2},\"mode\":\"lines\",\"name\":\"DK Metcalf motion path\",\"x\":[],\"y\":[],\"type\":\"scatter\"},{\"marker\":{\"color\":\"#ffffff\",\"line\":{\"color\":\"#000000\",\"width\":2},\"opacity\":1,\"size\":10},\"mode\":\"markers\",\"x\":[-149],\"y\":[-96],\"type\":\"scatter\"},{\"line\":{\"color\":\"red\",\"width\":2},\"mode\":\"lines\",\"name\":\"Phil Haynes motion path\",\"x\":[],\"y\":[],\"type\":\"scatter\"},{\"marker\":{\"color\":\"#ffffff\",\"line\":{\"color\":\"#000000\",\"width\":2},\"opacity\":1,\"size\":10},\"mode\":\"markers\",\"x\":[-288],\"y\":[-121],\"type\":\"scatter\"},{\"line\":{\"color\":\"red\",\"width\":2},\"mode\":\"lines\",\"name\":\"Charles Cross motion path\",\"x\":[],\"y\":[],\"type\":\"scatter\"},{\"marker\":{\"color\":\"#ffffff\",\"line\":{\"color\":\"#000000\",\"width\":2},\"opacity\":1,\"size\":10},\"mode\":\"markers\",\"x\":[315],\"y\":[-97],\"type\":\"scatter\"},{\"line\":{\"color\":\"red\",\"width\":2},\"mode\":\"lines\",\"name\":\"Abraham Lucas motion path\",\"x\":[],\"y\":[],\"type\":\"scatter\"}],\"name\":\"103\"},{\"data\":[{\"marker\":{\"color\":\"#ffffff\",\"line\":{\"color\":\"#000000\",\"width\":2},\"opacity\":1,\"size\":10},\"mode\":\"markers\",\"x\":[4],\"y\":[-143],\"type\":\"scatter\"},{\"line\":{\"color\":\"red\",\"width\":2},\"mode\":\"lines\",\"name\":\"Geno Smith motion path\",\"x\":[],\"y\":[],\"type\":\"scatter\"},{\"marker\":{\"color\":\"#ffffff\",\"line\":{\"color\":\"#000000\",\"width\":2},\"opacity\":1,\"size\":10},\"mode\":\"markers\",\"x\":[160],\"y\":[-91],\"type\":\"scatter\"},{\"line\":{\"color\":\"red\",\"width\":2},\"mode\":\"lines\",\"name\":\"Gabe Jackson motion path\",\"x\":[],\"y\":[],\"type\":\"scatter\"},{\"marker\":{\"color\":\"#ffffff\",\"line\":{\"color\":\"#000000\",\"width\":2},\"opacity\":1,\"size\":10},\"mode\":\"markers\",\"x\":[961],\"y\":[-31],\"type\":\"scatter\"},{\"line\":{\"color\":\"red\",\"width\":2},\"mode\":\"lines\",\"name\":\"Tyler Lockett motion path\",\"x\":[],\"y\":[],\"type\":\"scatter\"},{\"marker\":{\"color\":\"#ffffff\",\"line\":{\"color\":\"#000000\",\"width\":2},\"opacity\":1,\"size\":10},\"mode\":\"markers\",\"x\":[-7],\"y\":[-21],\"type\":\"scatter\"},{\"line\":{\"color\":\"red\",\"width\":2},\"mode\":\"lines\",\"name\":\"Austin Blythe motion path\",\"x\":[],\"y\":[],\"type\":\"scatter\"},{\"marker\":{\"color\":\"#ffffff\",\"line\":{\"color\":\"#000000\",\"width\":2},\"opacity\":1,\"size\":10},\"mode\":\"markers\",\"x\":[6],\"y\":[-739],\"type\":\"scatter\"},{\"line\":{\"color\":\"red\",\"width\":2},\"mode\":\"lines\",\"name\":\"Rashaad Penny motion path\",\"x\":[],\"y\":[],\"type\":\"scatter\"},{\"marker\":{\"color\":\"#ff0000\",\"line\":{\"color\":\"#000000\",\"width\":2},\"opacity\":1,\"size\":10},\"mode\":\"markers\",\"x\":[547],\"y\":[-144],\"type\":\"scatter\"},{\"line\":{\"color\":\"red\",\"width\":2},\"mode\":\"lines\",\"name\":\"Will Dissly motion path\",\"x\":[-238,-230,-220,-206,-190,-170,-147,-120,-89,-56,-19,20,60,100,141,181,221,259,296,330,362,392,419,444,468,488,504,518,528,536,543,546],\"y\":[-464,-460,-456,-450,-442,-432,-421,-409,-392,-378,-360,-343,-326,-308,-292,-276,-261,-247,-233,-219,-207,-196,-185,-176,-168,-161,-156,-153,-149,-147,-146,-146],\"type\":\"scatter\"},{\"marker\":{\"color\":\"#ff0000\",\"line\":{\"color\":\"#000000\",\"width\":2},\"opacity\":1,\"size\":10},\"mode\":\"markers\",\"x\":[-438],\"y\":[-196],\"type\":\"scatter\"},{\"hoverinfo\":\"none\",\"marker\":{\"color\":\"rgba(255, 0, 0, 0.5)\",\"line\":{\"color\":\"red\",\"width\":2},\"size\":20},\"mode\":\"markers\",\"name\":\"Noah Fant in motion\",\"x\":[-438],\"y\":[-196],\"type\":\"scatter\"},{\"line\":{\"color\":\"red\",\"width\":2},\"mode\":\"lines\",\"name\":\"Noah Fant motion path\",\"x\":[-443,-438],\"y\":[-196,-196],\"type\":\"scatter\"},{\"marker\":{\"color\":\"#ffffff\",\"line\":{\"color\":\"#000000\",\"width\":2},\"opacity\":1,\"size\":10},\"mode\":\"markers\",\"x\":[-940],\"y\":[-93],\"type\":\"scatter\"},{\"line\":{\"color\":\"red\",\"width\":2},\"mode\":\"lines\",\"name\":\"DK Metcalf motion path\",\"x\":[],\"y\":[],\"type\":\"scatter\"},{\"marker\":{\"color\":\"#ffffff\",\"line\":{\"color\":\"#000000\",\"width\":2},\"opacity\":1,\"size\":10},\"mode\":\"markers\",\"x\":[-149],\"y\":[-97],\"type\":\"scatter\"},{\"line\":{\"color\":\"red\",\"width\":2},\"mode\":\"lines\",\"name\":\"Phil Haynes motion path\",\"x\":[],\"y\":[],\"type\":\"scatter\"},{\"marker\":{\"color\":\"#ffffff\",\"line\":{\"color\":\"#000000\",\"width\":2},\"opacity\":1,\"size\":10},\"mode\":\"markers\",\"x\":[-288],\"y\":[-121],\"type\":\"scatter\"},{\"line\":{\"color\":\"red\",\"width\":2},\"mode\":\"lines\",\"name\":\"Charles Cross motion path\",\"x\":[],\"y\":[],\"type\":\"scatter\"},{\"marker\":{\"color\":\"#ffffff\",\"line\":{\"color\":\"#000000\",\"width\":2},\"opacity\":1,\"size\":10},\"mode\":\"markers\",\"x\":[315],\"y\":[-96],\"type\":\"scatter\"},{\"line\":{\"color\":\"red\",\"width\":2},\"mode\":\"lines\",\"name\":\"Abraham Lucas motion path\",\"x\":[],\"y\":[],\"type\":\"scatter\"}],\"name\":\"104\"},{\"data\":[{\"marker\":{\"color\":\"#ffffff\",\"line\":{\"color\":\"#000000\",\"width\":2},\"opacity\":1,\"size\":10},\"mode\":\"markers\",\"x\":[4],\"y\":[-143],\"type\":\"scatter\"},{\"line\":{\"color\":\"red\",\"width\":2},\"mode\":\"lines\",\"name\":\"Geno Smith motion path\",\"x\":[],\"y\":[],\"type\":\"scatter\"},{\"marker\":{\"color\":\"#ffffff\",\"line\":{\"color\":\"#000000\",\"width\":2},\"opacity\":1,\"size\":10},\"mode\":\"markers\",\"x\":[160],\"y\":[-91],\"type\":\"scatter\"},{\"line\":{\"color\":\"red\",\"width\":2},\"mode\":\"lines\",\"name\":\"Gabe Jackson motion path\",\"x\":[],\"y\":[],\"type\":\"scatter\"},{\"marker\":{\"color\":\"#ffffff\",\"line\":{\"color\":\"#000000\",\"width\":2},\"opacity\":1,\"size\":10},\"mode\":\"markers\",\"x\":[962],\"y\":[-30],\"type\":\"scatter\"},{\"line\":{\"color\":\"red\",\"width\":2},\"mode\":\"lines\",\"name\":\"Tyler Lockett motion path\",\"x\":[],\"y\":[],\"type\":\"scatter\"},{\"marker\":{\"color\":\"#ffffff\",\"line\":{\"color\":\"#000000\",\"width\":2},\"opacity\":1,\"size\":10},\"mode\":\"markers\",\"x\":[-7],\"y\":[-21],\"type\":\"scatter\"},{\"line\":{\"color\":\"red\",\"width\":2},\"mode\":\"lines\",\"name\":\"Austin Blythe motion path\",\"x\":[],\"y\":[],\"type\":\"scatter\"},{\"marker\":{\"color\":\"#ffffff\",\"line\":{\"color\":\"#000000\",\"width\":2},\"opacity\":1,\"size\":10},\"mode\":\"markers\",\"x\":[7],\"y\":[-739],\"type\":\"scatter\"},{\"line\":{\"color\":\"red\",\"width\":2},\"mode\":\"lines\",\"name\":\"Rashaad Penny motion path\",\"x\":[],\"y\":[],\"type\":\"scatter\"},{\"marker\":{\"color\":\"#ff0000\",\"line\":{\"color\":\"#000000\",\"width\":2},\"opacity\":1,\"size\":10},\"mode\":\"markers\",\"x\":[548],\"y\":[-144],\"type\":\"scatter\"},{\"line\":{\"color\":\"red\",\"width\":2},\"mode\":\"lines\",\"name\":\"Will Dissly motion path\",\"x\":[-238,-230,-220,-206,-190,-170,-147,-120,-89,-56,-19,20,60,100,141,181,221,259,296,330,362,392,419,444,468,488,504,518,528,536,543,546],\"y\":[-464,-460,-456,-450,-442,-432,-421,-409,-392,-378,-360,-343,-326,-308,-292,-276,-261,-247,-233,-219,-207,-196,-185,-176,-168,-161,-156,-153,-149,-147,-146,-146],\"type\":\"scatter\"},{\"marker\":{\"color\":\"#ff0000\",\"line\":{\"color\":\"#000000\",\"width\":2},\"opacity\":1,\"size\":10},\"mode\":\"markers\",\"x\":[-430],\"y\":[-196],\"type\":\"scatter\"},{\"hoverinfo\":\"none\",\"marker\":{\"color\":\"rgba(255, 0, 0, 0.5)\",\"line\":{\"color\":\"red\",\"width\":2},\"size\":20},\"mode\":\"markers\",\"name\":\"Noah Fant in motion\",\"x\":[-430],\"y\":[-196],\"type\":\"scatter\"},{\"line\":{\"color\":\"red\",\"width\":2},\"mode\":\"lines\",\"name\":\"Noah Fant motion path\",\"x\":[-443,-438,-430],\"y\":[-196,-196,-196],\"type\":\"scatter\"},{\"marker\":{\"color\":\"#ffffff\",\"line\":{\"color\":\"#000000\",\"width\":2},\"opacity\":1,\"size\":10},\"mode\":\"markers\",\"x\":[-940],\"y\":[-93],\"type\":\"scatter\"},{\"line\":{\"color\":\"red\",\"width\":2},\"mode\":\"lines\",\"name\":\"DK Metcalf motion path\",\"x\":[],\"y\":[],\"type\":\"scatter\"},{\"marker\":{\"color\":\"#ffffff\",\"line\":{\"color\":\"#000000\",\"width\":2},\"opacity\":1,\"size\":10},\"mode\":\"markers\",\"x\":[-148],\"y\":[-97],\"type\":\"scatter\"},{\"line\":{\"color\":\"red\",\"width\":2},\"mode\":\"lines\",\"name\":\"Phil Haynes motion path\",\"x\":[],\"y\":[],\"type\":\"scatter\"},{\"marker\":{\"color\":\"#ffffff\",\"line\":{\"color\":\"#000000\",\"width\":2},\"opacity\":1,\"size\":10},\"mode\":\"markers\",\"x\":[-288],\"y\":[-121],\"type\":\"scatter\"},{\"line\":{\"color\":\"red\",\"width\":2},\"mode\":\"lines\",\"name\":\"Charles Cross motion path\",\"x\":[],\"y\":[],\"type\":\"scatter\"},{\"marker\":{\"color\":\"#ffffff\",\"line\":{\"color\":\"#000000\",\"width\":2},\"opacity\":1,\"size\":10},\"mode\":\"markers\",\"x\":[314],\"y\":[-96],\"type\":\"scatter\"},{\"line\":{\"color\":\"red\",\"width\":2},\"mode\":\"lines\",\"name\":\"Abraham Lucas motion path\",\"x\":[],\"y\":[],\"type\":\"scatter\"}],\"name\":\"105\"},{\"data\":[{\"marker\":{\"color\":\"#ffffff\",\"line\":{\"color\":\"#000000\",\"width\":2},\"opacity\":1,\"size\":10},\"mode\":\"markers\",\"x\":[4],\"y\":[-143],\"type\":\"scatter\"},{\"line\":{\"color\":\"red\",\"width\":2},\"mode\":\"lines\",\"name\":\"Geno Smith motion path\",\"x\":[],\"y\":[],\"type\":\"scatter\"},{\"marker\":{\"color\":\"#ffffff\",\"line\":{\"color\":\"#000000\",\"width\":2},\"opacity\":1,\"size\":10},\"mode\":\"markers\",\"x\":[159],\"y\":[-91],\"type\":\"scatter\"},{\"line\":{\"color\":\"red\",\"width\":2},\"mode\":\"lines\",\"name\":\"Gabe Jackson motion path\",\"x\":[],\"y\":[],\"type\":\"scatter\"},{\"marker\":{\"color\":\"#ffffff\",\"line\":{\"color\":\"#000000\",\"width\":2},\"opacity\":1,\"size\":10},\"mode\":\"markers\",\"x\":[962],\"y\":[-30],\"type\":\"scatter\"},{\"line\":{\"color\":\"red\",\"width\":2},\"mode\":\"lines\",\"name\":\"Tyler Lockett motion path\",\"x\":[],\"y\":[],\"type\":\"scatter\"},{\"marker\":{\"color\":\"#ffffff\",\"line\":{\"color\":\"#000000\",\"width\":2},\"opacity\":1,\"size\":10},\"mode\":\"markers\",\"x\":[-7],\"y\":[-21],\"type\":\"scatter\"},{\"line\":{\"color\":\"red\",\"width\":2},\"mode\":\"lines\",\"name\":\"Austin Blythe motion path\",\"x\":[],\"y\":[],\"type\":\"scatter\"},{\"marker\":{\"color\":\"#ffffff\",\"line\":{\"color\":\"#000000\",\"width\":2},\"opacity\":1,\"size\":10},\"mode\":\"markers\",\"x\":[7],\"y\":[-739],\"type\":\"scatter\"},{\"line\":{\"color\":\"red\",\"width\":2},\"mode\":\"lines\",\"name\":\"Rashaad Penny motion path\",\"x\":[],\"y\":[],\"type\":\"scatter\"},{\"marker\":{\"color\":\"#ff0000\",\"line\":{\"color\":\"#000000\",\"width\":2},\"opacity\":1,\"size\":10},\"mode\":\"markers\",\"x\":[548],\"y\":[-144],\"type\":\"scatter\"},{\"line\":{\"color\":\"red\",\"width\":2},\"mode\":\"lines\",\"name\":\"Will Dissly motion path\",\"x\":[-238,-230,-220,-206,-190,-170,-147,-120,-89,-56,-19,20,60,100,141,181,221,259,296,330,362,392,419,444,468,488,504,518,528,536,543,546],\"y\":[-464,-460,-456,-450,-442,-432,-421,-409,-392,-378,-360,-343,-326,-308,-292,-276,-261,-247,-233,-219,-207,-196,-185,-176,-168,-161,-156,-153,-149,-147,-146,-146],\"type\":\"scatter\"},{\"marker\":{\"color\":\"#ff0000\",\"line\":{\"color\":\"#000000\",\"width\":2},\"opacity\":1,\"size\":10},\"mode\":\"markers\",\"x\":[-418],\"y\":[-199],\"type\":\"scatter\"},{\"hoverinfo\":\"none\",\"marker\":{\"color\":\"rgba(255, 0, 0, 0.5)\",\"line\":{\"color\":\"red\",\"width\":2},\"size\":20},\"mode\":\"markers\",\"name\":\"Noah Fant in motion\",\"x\":[-418],\"y\":[-199],\"type\":\"scatter\"},{\"line\":{\"color\":\"red\",\"width\":2},\"mode\":\"lines\",\"name\":\"Noah Fant motion path\",\"x\":[-443,-438,-430,-418],\"y\":[-196,-196,-196,-199],\"type\":\"scatter\"},{\"marker\":{\"color\":\"#ffffff\",\"line\":{\"color\":\"#000000\",\"width\":2},\"opacity\":1,\"size\":10},\"mode\":\"markers\",\"x\":[-940],\"y\":[-92],\"type\":\"scatter\"},{\"line\":{\"color\":\"red\",\"width\":2},\"mode\":\"lines\",\"name\":\"DK Metcalf motion path\",\"x\":[],\"y\":[],\"type\":\"scatter\"},{\"marker\":{\"color\":\"#ffffff\",\"line\":{\"color\":\"#000000\",\"width\":2},\"opacity\":1,\"size\":10},\"mode\":\"markers\",\"x\":[-148],\"y\":[-97],\"type\":\"scatter\"},{\"line\":{\"color\":\"red\",\"width\":2},\"mode\":\"lines\",\"name\":\"Phil Haynes motion path\",\"x\":[],\"y\":[],\"type\":\"scatter\"},{\"marker\":{\"color\":\"#ffffff\",\"line\":{\"color\":\"#000000\",\"width\":2},\"opacity\":1,\"size\":10},\"mode\":\"markers\",\"x\":[-288],\"y\":[-121],\"type\":\"scatter\"},{\"line\":{\"color\":\"red\",\"width\":2},\"mode\":\"lines\",\"name\":\"Charles Cross motion path\",\"x\":[],\"y\":[],\"type\":\"scatter\"},{\"marker\":{\"color\":\"#ffffff\",\"line\":{\"color\":\"#000000\",\"width\":2},\"opacity\":1,\"size\":10},\"mode\":\"markers\",\"x\":[314],\"y\":[-96],\"type\":\"scatter\"},{\"line\":{\"color\":\"red\",\"width\":2},\"mode\":\"lines\",\"name\":\"Abraham Lucas motion path\",\"x\":[],\"y\":[],\"type\":\"scatter\"}],\"name\":\"106\"},{\"data\":[{\"marker\":{\"color\":\"#ffffff\",\"line\":{\"color\":\"#000000\",\"width\":2},\"opacity\":1,\"size\":10},\"mode\":\"markers\",\"x\":[2],\"y\":[-143],\"type\":\"scatter\"},{\"line\":{\"color\":\"red\",\"width\":2},\"mode\":\"lines\",\"name\":\"Geno Smith motion path\",\"x\":[],\"y\":[],\"type\":\"scatter\"},{\"marker\":{\"color\":\"#ffffff\",\"line\":{\"color\":\"#000000\",\"width\":2},\"opacity\":1,\"size\":10},\"mode\":\"markers\",\"x\":[159],\"y\":[-91],\"type\":\"scatter\"},{\"line\":{\"color\":\"red\",\"width\":2},\"mode\":\"lines\",\"name\":\"Gabe Jackson motion path\",\"x\":[],\"y\":[],\"type\":\"scatter\"},{\"marker\":{\"color\":\"#ffffff\",\"line\":{\"color\":\"#000000\",\"width\":2},\"opacity\":1,\"size\":10},\"mode\":\"markers\",\"x\":[962],\"y\":[-29],\"type\":\"scatter\"},{\"line\":{\"color\":\"red\",\"width\":2},\"mode\":\"lines\",\"name\":\"Tyler Lockett motion path\",\"x\":[],\"y\":[],\"type\":\"scatter\"},{\"marker\":{\"color\":\"#ffffff\",\"line\":{\"color\":\"#000000\",\"width\":2},\"opacity\":1,\"size\":10},\"mode\":\"markers\",\"x\":[-7],\"y\":[-21],\"type\":\"scatter\"},{\"line\":{\"color\":\"red\",\"width\":2},\"mode\":\"lines\",\"name\":\"Austin Blythe motion path\",\"x\":[],\"y\":[],\"type\":\"scatter\"},{\"marker\":{\"color\":\"#ffffff\",\"line\":{\"color\":\"#000000\",\"width\":2},\"opacity\":1,\"size\":10},\"mode\":\"markers\",\"x\":[7],\"y\":[-740],\"type\":\"scatter\"},{\"line\":{\"color\":\"red\",\"width\":2},\"mode\":\"lines\",\"name\":\"Rashaad Penny motion path\",\"x\":[],\"y\":[],\"type\":\"scatter\"},{\"marker\":{\"color\":\"#ff0000\",\"line\":{\"color\":\"#000000\",\"width\":2},\"opacity\":1,\"size\":10},\"mode\":\"markers\",\"x\":[548],\"y\":[-143],\"type\":\"scatter\"},{\"line\":{\"color\":\"red\",\"width\":2},\"mode\":\"lines\",\"name\":\"Will Dissly motion path\",\"x\":[-238,-230,-220,-206,-190,-170,-147,-120,-89,-56,-19,20,60,100,141,181,221,259,296,330,362,392,419,444,468,488,504,518,528,536,543,546],\"y\":[-464,-460,-456,-450,-442,-432,-421,-409,-392,-378,-360,-343,-326,-308,-292,-276,-261,-247,-233,-219,-207,-196,-185,-176,-168,-161,-156,-153,-149,-147,-146,-146],\"type\":\"scatter\"},{\"marker\":{\"color\":\"#ff0000\",\"line\":{\"color\":\"#000000\",\"width\":2},\"opacity\":1,\"size\":10},\"mode\":\"markers\",\"x\":[-403],\"y\":[-203],\"type\":\"scatter\"},{\"hoverinfo\":\"none\",\"marker\":{\"color\":\"rgba(255, 0, 0, 0.5)\",\"line\":{\"color\":\"red\",\"width\":2},\"size\":20},\"mode\":\"markers\",\"name\":\"Noah Fant in motion\",\"x\":[-403],\"y\":[-203],\"type\":\"scatter\"},{\"line\":{\"color\":\"red\",\"width\":2},\"mode\":\"lines\",\"name\":\"Noah Fant motion path\",\"x\":[-443,-438,-430,-418,-403],\"y\":[-196,-196,-196,-199,-203],\"type\":\"scatter\"},{\"marker\":{\"color\":\"#ffffff\",\"line\":{\"color\":\"#000000\",\"width\":2},\"opacity\":1,\"size\":10},\"mode\":\"markers\",\"x\":[-940],\"y\":[-92],\"type\":\"scatter\"},{\"line\":{\"color\":\"red\",\"width\":2},\"mode\":\"lines\",\"name\":\"DK Metcalf motion path\",\"x\":[],\"y\":[],\"type\":\"scatter\"},{\"marker\":{\"color\":\"#ffffff\",\"line\":{\"color\":\"#000000\",\"width\":2},\"opacity\":1,\"size\":10},\"mode\":\"markers\",\"x\":[-148],\"y\":[-97],\"type\":\"scatter\"},{\"line\":{\"color\":\"red\",\"width\":2},\"mode\":\"lines\",\"name\":\"Phil Haynes motion path\",\"x\":[],\"y\":[],\"type\":\"scatter\"},{\"marker\":{\"color\":\"#ffffff\",\"line\":{\"color\":\"#000000\",\"width\":2},\"opacity\":1,\"size\":10},\"mode\":\"markers\",\"x\":[-288],\"y\":[-121],\"type\":\"scatter\"},{\"line\":{\"color\":\"red\",\"width\":2},\"mode\":\"lines\",\"name\":\"Charles Cross motion path\",\"x\":[],\"y\":[],\"type\":\"scatter\"},{\"marker\":{\"color\":\"#ffffff\",\"line\":{\"color\":\"#000000\",\"width\":2},\"opacity\":1,\"size\":10},\"mode\":\"markers\",\"x\":[313],\"y\":[-96],\"type\":\"scatter\"},{\"line\":{\"color\":\"red\",\"width\":2},\"mode\":\"lines\",\"name\":\"Abraham Lucas motion path\",\"x\":[],\"y\":[],\"type\":\"scatter\"}],\"name\":\"107\"},{\"data\":[{\"marker\":{\"color\":\"#ffffff\",\"line\":{\"color\":\"#000000\",\"width\":2},\"opacity\":1,\"size\":10},\"mode\":\"markers\",\"x\":[1],\"y\":[-143],\"type\":\"scatter\"},{\"line\":{\"color\":\"red\",\"width\":2},\"mode\":\"lines\",\"name\":\"Geno Smith motion path\",\"x\":[],\"y\":[],\"type\":\"scatter\"},{\"marker\":{\"color\":\"#ffffff\",\"line\":{\"color\":\"#000000\",\"width\":2},\"opacity\":1,\"size\":10},\"mode\":\"markers\",\"x\":[159],\"y\":[-91],\"type\":\"scatter\"},{\"line\":{\"color\":\"red\",\"width\":2},\"mode\":\"lines\",\"name\":\"Gabe Jackson motion path\",\"x\":[],\"y\":[],\"type\":\"scatter\"},{\"marker\":{\"color\":\"#ffffff\",\"line\":{\"color\":\"#000000\",\"width\":2},\"opacity\":1,\"size\":10},\"mode\":\"markers\",\"x\":[962],\"y\":[-28],\"type\":\"scatter\"},{\"line\":{\"color\":\"red\",\"width\":2},\"mode\":\"lines\",\"name\":\"Tyler Lockett motion path\",\"x\":[],\"y\":[],\"type\":\"scatter\"},{\"marker\":{\"color\":\"#ffffff\",\"line\":{\"color\":\"#000000\",\"width\":2},\"opacity\":1,\"size\":10},\"mode\":\"markers\",\"x\":[-6],\"y\":[-21],\"type\":\"scatter\"},{\"line\":{\"color\":\"red\",\"width\":2},\"mode\":\"lines\",\"name\":\"Austin Blythe motion path\",\"x\":[],\"y\":[],\"type\":\"scatter\"},{\"marker\":{\"color\":\"#ffffff\",\"line\":{\"color\":\"#000000\",\"width\":2},\"opacity\":1,\"size\":10},\"mode\":\"markers\",\"x\":[7],\"y\":[-740],\"type\":\"scatter\"},{\"line\":{\"color\":\"red\",\"width\":2},\"mode\":\"lines\",\"name\":\"Rashaad Penny motion path\",\"x\":[],\"y\":[],\"type\":\"scatter\"},{\"marker\":{\"color\":\"#ff0000\",\"line\":{\"color\":\"#000000\",\"width\":2},\"opacity\":1,\"size\":10},\"mode\":\"markers\",\"x\":[549],\"y\":[-143],\"type\":\"scatter\"},{\"line\":{\"color\":\"red\",\"width\":2},\"mode\":\"lines\",\"name\":\"Will Dissly motion path\",\"x\":[-238,-230,-220,-206,-190,-170,-147,-120,-89,-56,-19,20,60,100,141,181,221,259,296,330,362,392,419,444,468,488,504,518,528,536,543,546],\"y\":[-464,-460,-456,-450,-442,-432,-421,-409,-392,-378,-360,-343,-326,-308,-292,-276,-261,-247,-233,-219,-207,-196,-185,-176,-168,-161,-156,-153,-149,-147,-146,-146],\"type\":\"scatter\"},{\"marker\":{\"color\":\"#ff0000\",\"line\":{\"color\":\"#000000\",\"width\":2},\"opacity\":1,\"size\":10},\"mode\":\"markers\",\"x\":[-384],\"y\":[-210],\"type\":\"scatter\"},{\"hoverinfo\":\"none\",\"marker\":{\"color\":\"rgba(255, 0, 0, 0.5)\",\"line\":{\"color\":\"red\",\"width\":2},\"size\":20},\"mode\":\"markers\",\"name\":\"Noah Fant in motion\",\"x\":[-384],\"y\":[-210],\"type\":\"scatter\"},{\"line\":{\"color\":\"red\",\"width\":2},\"mode\":\"lines\",\"name\":\"Noah Fant motion path\",\"x\":[-443,-438,-430,-418,-403,-384],\"y\":[-196,-196,-196,-199,-203,-210],\"type\":\"scatter\"},{\"marker\":{\"color\":\"#ffffff\",\"line\":{\"color\":\"#000000\",\"width\":2},\"opacity\":1,\"size\":10},\"mode\":\"markers\",\"x\":[-939],\"y\":[-92],\"type\":\"scatter\"},{\"line\":{\"color\":\"red\",\"width\":2},\"mode\":\"lines\",\"name\":\"DK Metcalf motion path\",\"x\":[],\"y\":[],\"type\":\"scatter\"},{\"marker\":{\"color\":\"#ffffff\",\"line\":{\"color\":\"#000000\",\"width\":2},\"opacity\":1,\"size\":10},\"mode\":\"markers\",\"x\":[-147],\"y\":[-97],\"type\":\"scatter\"},{\"line\":{\"color\":\"red\",\"width\":2},\"mode\":\"lines\",\"name\":\"Phil Haynes motion path\",\"x\":[],\"y\":[],\"type\":\"scatter\"},{\"marker\":{\"color\":\"#ffffff\",\"line\":{\"color\":\"#000000\",\"width\":2},\"opacity\":1,\"size\":10},\"mode\":\"markers\",\"x\":[-288],\"y\":[-121],\"type\":\"scatter\"},{\"line\":{\"color\":\"red\",\"width\":2},\"mode\":\"lines\",\"name\":\"Charles Cross motion path\",\"x\":[],\"y\":[],\"type\":\"scatter\"},{\"marker\":{\"color\":\"#ffffff\",\"line\":{\"color\":\"#000000\",\"width\":2},\"opacity\":1,\"size\":10},\"mode\":\"markers\",\"x\":[313],\"y\":[-96],\"type\":\"scatter\"},{\"line\":{\"color\":\"red\",\"width\":2},\"mode\":\"lines\",\"name\":\"Abraham Lucas motion path\",\"x\":[],\"y\":[],\"type\":\"scatter\"}],\"name\":\"108\"},{\"data\":[{\"marker\":{\"color\":\"#ffffff\",\"line\":{\"color\":\"#000000\",\"width\":2},\"opacity\":1,\"size\":10},\"mode\":\"markers\",\"x\":[1],\"y\":[-143],\"type\":\"scatter\"},{\"line\":{\"color\":\"red\",\"width\":2},\"mode\":\"lines\",\"name\":\"Geno Smith motion path\",\"x\":[],\"y\":[],\"type\":\"scatter\"},{\"marker\":{\"color\":\"#ffffff\",\"line\":{\"color\":\"#000000\",\"width\":2},\"opacity\":1,\"size\":10},\"mode\":\"markers\",\"x\":[159],\"y\":[-91],\"type\":\"scatter\"},{\"line\":{\"color\":\"red\",\"width\":2},\"mode\":\"lines\",\"name\":\"Gabe Jackson motion path\",\"x\":[],\"y\":[],\"type\":\"scatter\"},{\"marker\":{\"color\":\"#ffffff\",\"line\":{\"color\":\"#000000\",\"width\":2},\"opacity\":1,\"size\":10},\"mode\":\"markers\",\"x\":[963],\"y\":[-28],\"type\":\"scatter\"},{\"line\":{\"color\":\"red\",\"width\":2},\"mode\":\"lines\",\"name\":\"Tyler Lockett motion path\",\"x\":[],\"y\":[],\"type\":\"scatter\"},{\"marker\":{\"color\":\"#ffffff\",\"line\":{\"color\":\"#000000\",\"width\":2},\"opacity\":1,\"size\":10},\"mode\":\"markers\",\"x\":[-5],\"y\":[-22],\"type\":\"scatter\"},{\"line\":{\"color\":\"red\",\"width\":2},\"mode\":\"lines\",\"name\":\"Austin Blythe motion path\",\"x\":[],\"y\":[],\"type\":\"scatter\"},{\"marker\":{\"color\":\"#ffffff\",\"line\":{\"color\":\"#000000\",\"width\":2},\"opacity\":1,\"size\":10},\"mode\":\"markers\",\"x\":[7],\"y\":[-740],\"type\":\"scatter\"},{\"line\":{\"color\":\"red\",\"width\":2},\"mode\":\"lines\",\"name\":\"Rashaad Penny motion path\",\"x\":[],\"y\":[],\"type\":\"scatter\"},{\"marker\":{\"color\":\"#ff0000\",\"line\":{\"color\":\"#000000\",\"width\":2},\"opacity\":1,\"size\":10},\"mode\":\"markers\",\"x\":[549],\"y\":[-142],\"type\":\"scatter\"},{\"line\":{\"color\":\"red\",\"width\":2},\"mode\":\"lines\",\"name\":\"Will Dissly motion path\",\"x\":[-238,-230,-220,-206,-190,-170,-147,-120,-89,-56,-19,20,60,100,141,181,221,259,296,330,362,392,419,444,468,488,504,518,528,536,543,546],\"y\":[-464,-460,-456,-450,-442,-432,-421,-409,-392,-378,-360,-343,-326,-308,-292,-276,-261,-247,-233,-219,-207,-196,-185,-176,-168,-161,-156,-153,-149,-147,-146,-146],\"type\":\"scatter\"},{\"marker\":{\"color\":\"#ff0000\",\"line\":{\"color\":\"#000000\",\"width\":2},\"opacity\":1,\"size\":10},\"mode\":\"markers\",\"x\":[-360],\"y\":[-215],\"type\":\"scatter\"},{\"hoverinfo\":\"none\",\"marker\":{\"color\":\"rgba(255, 0, 0, 0.5)\",\"line\":{\"color\":\"red\",\"width\":2},\"size\":20},\"mode\":\"markers\",\"name\":\"Noah Fant in motion\",\"x\":[-360],\"y\":[-215],\"type\":\"scatter\"},{\"line\":{\"color\":\"red\",\"width\":2},\"mode\":\"lines\",\"name\":\"Noah Fant motion path\",\"x\":[-443,-438,-430,-418,-403,-384,-360],\"y\":[-196,-196,-196,-199,-203,-210,-215],\"type\":\"scatter\"},{\"marker\":{\"color\":\"#ffffff\",\"line\":{\"color\":\"#000000\",\"width\":2},\"opacity\":1,\"size\":10},\"mode\":\"markers\",\"x\":[-939],\"y\":[-92],\"type\":\"scatter\"},{\"line\":{\"color\":\"red\",\"width\":2},\"mode\":\"lines\",\"name\":\"DK Metcalf motion path\",\"x\":[],\"y\":[],\"type\":\"scatter\"},{\"marker\":{\"color\":\"#ffffff\",\"line\":{\"color\":\"#000000\",\"width\":2},\"opacity\":1,\"size\":10},\"mode\":\"markers\",\"x\":[-147],\"y\":[-96],\"type\":\"scatter\"},{\"line\":{\"color\":\"red\",\"width\":2},\"mode\":\"lines\",\"name\":\"Phil Haynes motion path\",\"x\":[],\"y\":[],\"type\":\"scatter\"},{\"marker\":{\"color\":\"#ffffff\",\"line\":{\"color\":\"#000000\",\"width\":2},\"opacity\":1,\"size\":10},\"mode\":\"markers\",\"x\":[-287],\"y\":[-121],\"type\":\"scatter\"},{\"line\":{\"color\":\"red\",\"width\":2},\"mode\":\"lines\",\"name\":\"Charles Cross motion path\",\"x\":[],\"y\":[],\"type\":\"scatter\"},{\"marker\":{\"color\":\"#ffffff\",\"line\":{\"color\":\"#000000\",\"width\":2},\"opacity\":1,\"size\":10},\"mode\":\"markers\",\"x\":[313],\"y\":[-96],\"type\":\"scatter\"},{\"line\":{\"color\":\"red\",\"width\":2},\"mode\":\"lines\",\"name\":\"Abraham Lucas motion path\",\"x\":[],\"y\":[],\"type\":\"scatter\"}],\"name\":\"109\"},{\"data\":[{\"marker\":{\"color\":\"#ffffff\",\"line\":{\"color\":\"#000000\",\"width\":2},\"opacity\":1,\"size\":10},\"mode\":\"markers\",\"x\":[0],\"y\":[-144],\"type\":\"scatter\"},{\"line\":{\"color\":\"red\",\"width\":2},\"mode\":\"lines\",\"name\":\"Geno Smith motion path\",\"x\":[],\"y\":[],\"type\":\"scatter\"},{\"marker\":{\"color\":\"#ffffff\",\"line\":{\"color\":\"#000000\",\"width\":2},\"opacity\":1,\"size\":10},\"mode\":\"markers\",\"x\":[160],\"y\":[-92],\"type\":\"scatter\"},{\"line\":{\"color\":\"red\",\"width\":2},\"mode\":\"lines\",\"name\":\"Gabe Jackson motion path\",\"x\":[],\"y\":[],\"type\":\"scatter\"},{\"marker\":{\"color\":\"#ffffff\",\"line\":{\"color\":\"#000000\",\"width\":2},\"opacity\":1,\"size\":10},\"mode\":\"markers\",\"x\":[963],\"y\":[-28],\"type\":\"scatter\"},{\"line\":{\"color\":\"red\",\"width\":2},\"mode\":\"lines\",\"name\":\"Tyler Lockett motion path\",\"x\":[],\"y\":[],\"type\":\"scatter\"},{\"marker\":{\"color\":\"#ffffff\",\"line\":{\"color\":\"#000000\",\"width\":2},\"opacity\":1,\"size\":10},\"mode\":\"markers\",\"x\":[-2],\"y\":[-23],\"type\":\"scatter\"},{\"line\":{\"color\":\"red\",\"width\":2},\"mode\":\"lines\",\"name\":\"Austin Blythe motion path\",\"x\":[],\"y\":[],\"type\":\"scatter\"},{\"marker\":{\"color\":\"#ffffff\",\"line\":{\"color\":\"#000000\",\"width\":2},\"opacity\":1,\"size\":10},\"mode\":\"markers\",\"x\":[7],\"y\":[-740],\"type\":\"scatter\"},{\"line\":{\"color\":\"red\",\"width\":2},\"mode\":\"lines\",\"name\":\"Rashaad Penny motion path\",\"x\":[],\"y\":[],\"type\":\"scatter\"},{\"marker\":{\"color\":\"#ff0000\",\"line\":{\"color\":\"#000000\",\"width\":2},\"opacity\":1,\"size\":10},\"mode\":\"markers\",\"x\":[549],\"y\":[-142],\"type\":\"scatter\"},{\"line\":{\"color\":\"red\",\"width\":2},\"mode\":\"lines\",\"name\":\"Will Dissly motion path\",\"x\":[-238,-230,-220,-206,-190,-170,-147,-120,-89,-56,-19,20,60,100,141,181,221,259,296,330,362,392,419,444,468,488,504,518,528,536,543,546],\"y\":[-464,-460,-456,-450,-442,-432,-421,-409,-392,-378,-360,-343,-326,-308,-292,-276,-261,-247,-233,-219,-207,-196,-185,-176,-168,-161,-156,-153,-149,-147,-146,-146],\"type\":\"scatter\"},{\"marker\":{\"color\":\"#ff0000\",\"line\":{\"color\":\"#000000\",\"width\":2},\"opacity\":1,\"size\":10},\"mode\":\"markers\",\"x\":[-331],\"y\":[-224],\"type\":\"scatter\"},{\"hoverinfo\":\"none\",\"marker\":{\"color\":\"rgba(255, 0, 0, 0.5)\",\"line\":{\"color\":\"red\",\"width\":2},\"size\":20},\"mode\":\"markers\",\"name\":\"Noah Fant in motion\",\"x\":[-331],\"y\":[-224],\"type\":\"scatter\"},{\"line\":{\"color\":\"red\",\"width\":2},\"mode\":\"lines\",\"name\":\"Noah Fant motion path\",\"x\":[-443,-438,-430,-418,-403,-384,-360,-331],\"y\":[-196,-196,-196,-199,-203,-210,-215,-224],\"type\":\"scatter\"},{\"marker\":{\"color\":\"#ffffff\",\"line\":{\"color\":\"#000000\",\"width\":2},\"opacity\":1,\"size\":10},\"mode\":\"markers\",\"x\":[-939],\"y\":[-92],\"type\":\"scatter\"},{\"line\":{\"color\":\"red\",\"width\":2},\"mode\":\"lines\",\"name\":\"DK Metcalf motion path\",\"x\":[],\"y\":[],\"type\":\"scatter\"},{\"marker\":{\"color\":\"#ffffff\",\"line\":{\"color\":\"#000000\",\"width\":2},\"opacity\":1,\"size\":10},\"mode\":\"markers\",\"x\":[-146],\"y\":[-96],\"type\":\"scatter\"},{\"line\":{\"color\":\"red\",\"width\":2},\"mode\":\"lines\",\"name\":\"Phil Haynes motion path\",\"x\":[],\"y\":[],\"type\":\"scatter\"},{\"marker\":{\"color\":\"#ffffff\",\"line\":{\"color\":\"#000000\",\"width\":2},\"opacity\":1,\"size\":10},\"mode\":\"markers\",\"x\":[-286],\"y\":[-119],\"type\":\"scatter\"},{\"line\":{\"color\":\"red\",\"width\":2},\"mode\":\"lines\",\"name\":\"Charles Cross motion path\",\"x\":[],\"y\":[],\"type\":\"scatter\"},{\"marker\":{\"color\":\"#ffffff\",\"line\":{\"color\":\"#000000\",\"width\":2},\"opacity\":1,\"size\":10},\"mode\":\"markers\",\"x\":[314],\"y\":[-96],\"type\":\"scatter\"},{\"line\":{\"color\":\"red\",\"width\":2},\"mode\":\"lines\",\"name\":\"Abraham Lucas motion path\",\"x\":[],\"y\":[],\"type\":\"scatter\"}],\"name\":\"110\"},{\"data\":[{\"marker\":{\"color\":\"#ffffff\",\"line\":{\"color\":\"#000000\",\"width\":2},\"opacity\":1,\"size\":10},\"mode\":\"markers\",\"x\":[2],\"y\":[-146],\"type\":\"scatter\"},{\"line\":{\"color\":\"red\",\"width\":2},\"mode\":\"lines\",\"name\":\"Geno Smith motion path\",\"x\":[],\"y\":[],\"type\":\"scatter\"},{\"marker\":{\"color\":\"#ffffff\",\"line\":{\"color\":\"#000000\",\"width\":2},\"opacity\":1,\"size\":10},\"mode\":\"markers\",\"x\":[161],\"y\":[-92],\"type\":\"scatter\"},{\"line\":{\"color\":\"red\",\"width\":2},\"mode\":\"lines\",\"name\":\"Gabe Jackson motion path\",\"x\":[],\"y\":[],\"type\":\"scatter\"},{\"marker\":{\"color\":\"#ffffff\",\"line\":{\"color\":\"#000000\",\"width\":2},\"opacity\":1,\"size\":10},\"mode\":\"markers\",\"x\":[962],\"y\":[-26],\"type\":\"scatter\"},{\"line\":{\"color\":\"red\",\"width\":2},\"mode\":\"lines\",\"name\":\"Tyler Lockett motion path\",\"x\":[],\"y\":[],\"type\":\"scatter\"},{\"marker\":{\"color\":\"#ffffff\",\"line\":{\"color\":\"#000000\",\"width\":2},\"opacity\":1,\"size\":10},\"mode\":\"markers\",\"x\":[3],\"y\":[-25],\"type\":\"scatter\"},{\"line\":{\"color\":\"red\",\"width\":2},\"mode\":\"lines\",\"name\":\"Austin Blythe motion path\",\"x\":[],\"y\":[],\"type\":\"scatter\"},{\"marker\":{\"color\":\"#ffffff\",\"line\":{\"color\":\"#000000\",\"width\":2},\"opacity\":1,\"size\":10},\"mode\":\"markers\",\"x\":[7],\"y\":[-739],\"type\":\"scatter\"},{\"line\":{\"color\":\"red\",\"width\":2},\"mode\":\"lines\",\"name\":\"Rashaad Penny motion path\",\"x\":[],\"y\":[],\"type\":\"scatter\"},{\"marker\":{\"color\":\"#ff0000\",\"line\":{\"color\":\"#000000\",\"width\":2},\"opacity\":1,\"size\":10},\"mode\":\"markers\",\"x\":[550],\"y\":[-141],\"type\":\"scatter\"},{\"line\":{\"color\":\"red\",\"width\":2},\"mode\":\"lines\",\"name\":\"Will Dissly motion path\",\"x\":[-238,-230,-220,-206,-190,-170,-147,-120,-89,-56,-19,20,60,100,141,181,221,259,296,330,362,392,419,444,468,488,504,518,528,536,543,546],\"y\":[-464,-460,-456,-450,-442,-432,-421,-409,-392,-378,-360,-343,-326,-308,-292,-276,-261,-247,-233,-219,-207,-196,-185,-176,-168,-161,-156,-153,-149,-147,-146,-146],\"type\":\"scatter\"},{\"marker\":{\"color\":\"#ff0000\",\"line\":{\"color\":\"#000000\",\"width\":2},\"opacity\":1,\"size\":10},\"mode\":\"markers\",\"x\":[-296],\"y\":[-232],\"type\":\"scatter\"},{\"hoverinfo\":\"none\",\"marker\":{\"color\":\"rgba(255, 0, 0, 0.5)\",\"line\":{\"color\":\"red\",\"width\":2},\"size\":20},\"mode\":\"markers\",\"name\":\"Noah Fant in motion\",\"x\":[-296],\"y\":[-232],\"type\":\"scatter\"},{\"line\":{\"color\":\"red\",\"width\":2},\"mode\":\"lines\",\"name\":\"Noah Fant motion path\",\"x\":[-443,-438,-430,-418,-403,-384,-360,-331,-296],\"y\":[-196,-196,-196,-199,-203,-210,-215,-224,-232],\"type\":\"scatter\"},{\"marker\":{\"color\":\"#ffffff\",\"line\":{\"color\":\"#000000\",\"width\":2},\"opacity\":1,\"size\":10},\"mode\":\"markers\",\"x\":[-938],\"y\":[-91],\"type\":\"scatter\"},{\"line\":{\"color\":\"red\",\"width\":2},\"mode\":\"lines\",\"name\":\"DK Metcalf motion path\",\"x\":[],\"y\":[],\"type\":\"scatter\"},{\"marker\":{\"color\":\"#ffffff\",\"line\":{\"color\":\"#000000\",\"width\":2},\"opacity\":1,\"size\":10},\"mode\":\"markers\",\"x\":[-144],\"y\":[-93],\"type\":\"scatter\"},{\"line\":{\"color\":\"red\",\"width\":2},\"mode\":\"lines\",\"name\":\"Phil Haynes motion path\",\"x\":[],\"y\":[],\"type\":\"scatter\"},{\"marker\":{\"color\":\"#ffffff\",\"line\":{\"color\":\"#000000\",\"width\":2},\"opacity\":1,\"size\":10},\"mode\":\"markers\",\"x\":[-283],\"y\":[-117],\"type\":\"scatter\"},{\"line\":{\"color\":\"red\",\"width\":2},\"mode\":\"lines\",\"name\":\"Charles Cross motion path\",\"x\":[],\"y\":[],\"type\":\"scatter\"},{\"marker\":{\"color\":\"#ffffff\",\"line\":{\"color\":\"#000000\",\"width\":2},\"opacity\":1,\"size\":10},\"mode\":\"markers\",\"x\":[317],\"y\":[-97],\"type\":\"scatter\"},{\"line\":{\"color\":\"red\",\"width\":2},\"mode\":\"lines\",\"name\":\"Abraham Lucas motion path\",\"x\":[],\"y\":[],\"type\":\"scatter\"}],\"name\":\"111\"},{\"data\":[{\"marker\":{\"color\":\"#ffffff\",\"line\":{\"color\":\"#000000\",\"width\":2},\"opacity\":1,\"size\":10},\"mode\":\"markers\",\"x\":[4],\"y\":[-147],\"type\":\"scatter\"},{\"line\":{\"color\":\"red\",\"width\":2},\"mode\":\"lines\",\"name\":\"Geno Smith motion path\",\"x\":[],\"y\":[],\"type\":\"scatter\"},{\"marker\":{\"color\":\"#ffffff\",\"line\":{\"color\":\"#000000\",\"width\":2},\"opacity\":1,\"size\":10},\"mode\":\"markers\",\"x\":[165],\"y\":[-93],\"type\":\"scatter\"},{\"line\":{\"color\":\"red\",\"width\":2},\"mode\":\"lines\",\"name\":\"Gabe Jackson motion path\",\"x\":[],\"y\":[],\"type\":\"scatter\"},{\"marker\":{\"color\":\"#ffffff\",\"line\":{\"color\":\"#000000\",\"width\":2},\"opacity\":1,\"size\":10},\"mode\":\"markers\",\"x\":[962],\"y\":[-23],\"type\":\"scatter\"},{\"line\":{\"color\":\"red\",\"width\":2},\"mode\":\"lines\",\"name\":\"Tyler Lockett motion path\",\"x\":[],\"y\":[],\"type\":\"scatter\"},{\"marker\":{\"color\":\"#ffffff\",\"line\":{\"color\":\"#000000\",\"width\":2},\"opacity\":1,\"size\":10},\"mode\":\"markers\",\"x\":[11],\"y\":[-28],\"type\":\"scatter\"},{\"line\":{\"color\":\"red\",\"width\":2},\"mode\":\"lines\",\"name\":\"Austin Blythe motion path\",\"x\":[],\"y\":[],\"type\":\"scatter\"},{\"marker\":{\"color\":\"#ffffff\",\"line\":{\"color\":\"#000000\",\"width\":2},\"opacity\":1,\"size\":10},\"mode\":\"markers\",\"x\":[8],\"y\":[-739],\"type\":\"scatter\"},{\"line\":{\"color\":\"red\",\"width\":2},\"mode\":\"lines\",\"name\":\"Rashaad Penny motion path\",\"x\":[],\"y\":[],\"type\":\"scatter\"},{\"marker\":{\"color\":\"#ff0000\",\"line\":{\"color\":\"#000000\",\"width\":2},\"opacity\":1,\"size\":10},\"mode\":\"markers\",\"x\":[552],\"y\":[-140],\"type\":\"scatter\"},{\"line\":{\"color\":\"red\",\"width\":2},\"mode\":\"lines\",\"name\":\"Will Dissly motion path\",\"x\":[-238,-230,-220,-206,-190,-170,-147,-120,-89,-56,-19,20,60,100,141,181,221,259,296,330,362,392,419,444,468,488,504,518,528,536,543,546],\"y\":[-464,-460,-456,-450,-442,-432,-421,-409,-392,-378,-360,-343,-326,-308,-292,-276,-261,-247,-233,-219,-207,-196,-185,-176,-168,-161,-156,-153,-149,-147,-146,-146],\"type\":\"scatter\"},{\"marker\":{\"color\":\"#ff0000\",\"line\":{\"color\":\"#000000\",\"width\":2},\"opacity\":1,\"size\":10},\"mode\":\"markers\",\"x\":[-255],\"y\":[-241],\"type\":\"scatter\"},{\"hoverinfo\":\"none\",\"marker\":{\"color\":\"rgba(255, 0, 0, 0.5)\",\"line\":{\"color\":\"red\",\"width\":2},\"size\":20},\"mode\":\"markers\",\"name\":\"Noah Fant in motion\",\"x\":[-255],\"y\":[-241],\"type\":\"scatter\"},{\"line\":{\"color\":\"red\",\"width\":2},\"mode\":\"lines\",\"name\":\"Noah Fant motion path\",\"x\":[-443,-438,-430,-418,-403,-384,-360,-331,-296,-255],\"y\":[-196,-196,-196,-199,-203,-210,-215,-224,-232,-241],\"type\":\"scatter\"},{\"marker\":{\"color\":\"#ffffff\",\"line\":{\"color\":\"#000000\",\"width\":2},\"opacity\":1,\"size\":10},\"mode\":\"markers\",\"x\":[-939],\"y\":[-89],\"type\":\"scatter\"},{\"line\":{\"color\":\"red\",\"width\":2},\"mode\":\"lines\",\"name\":\"DK Metcalf motion path\",\"x\":[],\"y\":[],\"type\":\"scatter\"},{\"marker\":{\"color\":\"#ffffff\",\"line\":{\"color\":\"#000000\",\"width\":2},\"opacity\":1,\"size\":10},\"mode\":\"markers\",\"x\":[-139],\"y\":[-91],\"type\":\"scatter\"},{\"line\":{\"color\":\"red\",\"width\":2},\"mode\":\"lines\",\"name\":\"Phil Haynes motion path\",\"x\":[],\"y\":[],\"type\":\"scatter\"},{\"marker\":{\"color\":\"#ffffff\",\"line\":{\"color\":\"#000000\",\"width\":2},\"opacity\":1,\"size\":10},\"mode\":\"markers\",\"x\":[-278],\"y\":[-114],\"type\":\"scatter\"},{\"line\":{\"color\":\"red\",\"width\":2},\"mode\":\"lines\",\"name\":\"Charles Cross motion path\",\"x\":[],\"y\":[],\"type\":\"scatter\"},{\"marker\":{\"color\":\"#ffffff\",\"line\":{\"color\":\"#000000\",\"width\":2},\"opacity\":1,\"size\":10},\"mode\":\"markers\",\"x\":[321],\"y\":[-99],\"type\":\"scatter\"},{\"line\":{\"color\":\"red\",\"width\":2},\"mode\":\"lines\",\"name\":\"Abraham Lucas motion path\",\"x\":[],\"y\":[],\"type\":\"scatter\"}],\"name\":\"112\"},{\"data\":[{\"marker\":{\"color\":\"#ffffff\",\"line\":{\"color\":\"#000000\",\"width\":2},\"opacity\":1,\"size\":10},\"mode\":\"markers\",\"x\":[23],\"y\":[-89],\"type\":\"scatter\"},{\"line\":{\"color\":\"red\",\"width\":2},\"mode\":\"lines\",\"name\":\"Geno Smith motion path\",\"x\":[],\"y\":[],\"type\":\"scatter\"},{\"marker\":{\"color\":\"#ffffff\",\"line\":{\"color\":\"#000000\",\"width\":2},\"opacity\":1,\"size\":10},\"mode\":\"markers\",\"x\":[186],\"y\":[-34],\"type\":\"scatter\"},{\"line\":{\"color\":\"red\",\"width\":2},\"mode\":\"lines\",\"name\":\"Gabe Jackson motion path\",\"x\":[],\"y\":[],\"type\":\"scatter\"},{\"marker\":{\"color\":\"#ffffff\",\"line\":{\"color\":\"#000000\",\"width\":2},\"opacity\":1,\"size\":10},\"mode\":\"markers\",\"x\":[976],\"y\":[45],\"type\":\"scatter\"},{\"line\":{\"color\":\"red\",\"width\":2},\"mode\":\"lines\",\"name\":\"Tyler Lockett motion path\",\"x\":[],\"y\":[],\"type\":\"scatter\"},{\"marker\":{\"color\":\"#ffffff\",\"line\":{\"color\":\"#000000\",\"width\":2},\"opacity\":1,\"size\":10},\"mode\":\"markers\",\"x\":[36],\"y\":[32],\"type\":\"scatter\"},{\"line\":{\"color\":\"red\",\"width\":2},\"mode\":\"lines\",\"name\":\"Austin Blythe motion path\",\"x\":[],\"y\":[],\"type\":\"scatter\"},{\"marker\":{\"color\":\"#ffffff\",\"line\":{\"color\":\"#000000\",\"width\":2},\"opacity\":1,\"size\":10},\"mode\":\"markers\",\"x\":[26],\"y\":[-675],\"type\":\"scatter\"},{\"line\":{\"color\":\"red\",\"width\":2},\"mode\":\"lines\",\"name\":\"Rashaad Penny motion path\",\"x\":[],\"y\":[],\"type\":\"scatter\"},{\"marker\":{\"color\":\"#ff0000\",\"line\":{\"color\":\"#000000\",\"width\":2},\"opacity\":1,\"size\":10},\"mode\":\"markers\",\"x\":[570],\"y\":[-77],\"type\":\"scatter\"},{\"hoverinfo\":\"none\",\"marker\":{\"color\":\"rgba(255, 0, 0, 0.5)\",\"line\":{\"color\":\"red\",\"width\":2},\"size\":20},\"mode\":\"markers\",\"name\":\"Will Dissly in motion\",\"x\":[570],\"y\":[-77],\"type\":\"scatter\"},{\"line\":{\"color\":\"red\",\"width\":2},\"mode\":\"lines\",\"name\":\"Will Dissly motion path\",\"x\":[-238,-230,-220,-206,-190,-170,-147,-120,-89,-56,-19,20,60,100,141,181,221,259,296,330,362,392,419,444,468,488,504,518,528,536,543,546,570],\"y\":[-464,-460,-456,-450,-442,-432,-421,-409,-392,-378,-360,-343,-326,-308,-292,-276,-261,-247,-233,-219,-207,-196,-185,-176,-168,-161,-156,-153,-149,-147,-146,-146,-77],\"type\":\"scatter\"},{\"marker\":{\"color\":\"#ff0000\",\"line\":{\"color\":\"#000000\",\"width\":2},\"opacity\":1,\"size\":10},\"mode\":\"markers\",\"x\":[-195],\"y\":[-187],\"type\":\"scatter\"},{\"hoverinfo\":\"none\",\"marker\":{\"color\":\"rgba(255, 0, 0, 0.5)\",\"line\":{\"color\":\"red\",\"width\":2},\"size\":20},\"mode\":\"markers\",\"name\":\"Noah Fant in motion\",\"x\":[-195],\"y\":[-187],\"type\":\"scatter\"},{\"line\":{\"color\":\"red\",\"width\":2},\"mode\":\"lines\",\"name\":\"Noah Fant motion path\",\"x\":[-443,-438,-430,-418,-403,-384,-360,-331,-296,-255,-195],\"y\":[-196,-196,-196,-199,-203,-210,-215,-224,-232,-241,-187],\"type\":\"scatter\"},{\"marker\":{\"color\":\"#ffffff\",\"line\":{\"color\":\"#000000\",\"width\":2},\"opacity\":1,\"size\":10},\"mode\":\"markers\",\"x\":[-923],\"y\":[-24],\"type\":\"scatter\"},{\"line\":{\"color\":\"red\",\"width\":2},\"mode\":\"lines\",\"name\":\"DK Metcalf motion path\",\"x\":[],\"y\":[],\"type\":\"scatter\"},{\"marker\":{\"color\":\"#ffffff\",\"line\":{\"color\":\"#000000\",\"width\":2},\"opacity\":1,\"size\":10},\"mode\":\"markers\",\"x\":[-116],\"y\":[-27],\"type\":\"scatter\"},{\"line\":{\"color\":\"red\",\"width\":2},\"mode\":\"lines\",\"name\":\"Phil Haynes motion path\",\"x\":[],\"y\":[],\"type\":\"scatter\"},{\"marker\":{\"color\":\"#ffffff\",\"line\":{\"color\":\"#000000\",\"width\":2},\"opacity\":1,\"size\":10},\"mode\":\"markers\",\"x\":[-257],\"y\":[-48],\"type\":\"scatter\"},{\"line\":{\"color\":\"red\",\"width\":2},\"mode\":\"lines\",\"name\":\"Charles Cross motion path\",\"x\":[],\"y\":[],\"type\":\"scatter\"},{\"marker\":{\"color\":\"#ffffff\",\"line\":{\"color\":\"#000000\",\"width\":2},\"opacity\":1,\"size\":10},\"mode\":\"markers\",\"x\":[342],\"y\":[-39],\"type\":\"scatter\"},{\"line\":{\"color\":\"red\",\"width\":2},\"mode\":\"lines\",\"name\":\"Abraham Lucas motion path\",\"x\":[],\"y\":[],\"type\":\"scatter\"}],\"name\":\"113\"},{\"data\":[{\"marker\":{\"color\":\"#ffffff\",\"line\":{\"color\":\"#000000\",\"width\":2},\"opacity\":1,\"size\":10},\"mode\":\"markers\",\"x\":[25],\"y\":[-58],\"type\":\"scatter\"},{\"line\":{\"color\":\"red\",\"width\":2},\"mode\":\"lines\",\"name\":\"Geno Smith motion path\",\"x\":[],\"y\":[],\"type\":\"scatter\"},{\"marker\":{\"color\":\"#ffffff\",\"line\":{\"color\":\"#000000\",\"width\":2},\"opacity\":1,\"size\":10},\"mode\":\"markers\",\"x\":[190],\"y\":[0],\"type\":\"scatter\"},{\"line\":{\"color\":\"red\",\"width\":2},\"mode\":\"lines\",\"name\":\"Gabe Jackson motion path\",\"x\":[],\"y\":[],\"type\":\"scatter\"},{\"marker\":{\"color\":\"#ffffff\",\"line\":{\"color\":\"#000000\",\"width\":2},\"opacity\":1,\"size\":10},\"mode\":\"markers\",\"x\":[972],\"y\":[88],\"type\":\"scatter\"},{\"line\":{\"color\":\"red\",\"width\":2},\"mode\":\"lines\",\"name\":\"Tyler Lockett motion path\",\"x\":[],\"y\":[],\"type\":\"scatter\"},{\"marker\":{\"color\":\"#ffffff\",\"line\":{\"color\":\"#000000\",\"width\":2},\"opacity\":1,\"size\":10},\"mode\":\"markers\",\"x\":[45],\"y\":[65],\"type\":\"scatter\"},{\"line\":{\"color\":\"red\",\"width\":2},\"mode\":\"lines\",\"name\":\"Austin Blythe motion path\",\"x\":[],\"y\":[],\"type\":\"scatter\"},{\"marker\":{\"color\":\"#ffffff\",\"line\":{\"color\":\"#000000\",\"width\":2},\"opacity\":1,\"size\":10},\"mode\":\"markers\",\"x\":[29],\"y\":[-637],\"type\":\"scatter\"},{\"line\":{\"color\":\"red\",\"width\":2},\"mode\":\"lines\",\"name\":\"Rashaad Penny motion path\",\"x\":[],\"y\":[],\"type\":\"scatter\"},{\"marker\":{\"color\":\"#ff0000\",\"line\":{\"color\":\"#000000\",\"width\":2},\"opacity\":1,\"size\":10},\"mode\":\"markers\",\"x\":[572],\"y\":[-37],\"type\":\"scatter\"},{\"hoverinfo\":\"none\",\"marker\":{\"color\":\"rgba(255, 0, 0, 0.5)\",\"line\":{\"color\":\"red\",\"width\":2},\"size\":20},\"mode\":\"markers\",\"name\":\"Will Dissly in motion\",\"x\":[572],\"y\":[-37],\"type\":\"scatter\"},{\"line\":{\"color\":\"red\",\"width\":2},\"mode\":\"lines\",\"name\":\"Will Dissly motion path\",\"x\":[-238,-230,-220,-206,-190,-170,-147,-120,-89,-56,-19,20,60,100,141,181,221,259,296,330,362,392,419,444,468,488,504,518,528,536,543,546,570,572],\"y\":[-464,-460,-456,-450,-442,-432,-421,-409,-392,-378,-360,-343,-326,-308,-292,-276,-261,-247,-233,-219,-207,-196,-185,-176,-168,-161,-156,-153,-149,-147,-146,-146,-77,-37],\"type\":\"scatter\"},{\"marker\":{\"color\":\"#ff0000\",\"line\":{\"color\":\"#000000\",\"width\":2},\"opacity\":1,\"size\":10},\"mode\":\"markers\",\"x\":[-148],\"y\":[-159],\"type\":\"scatter\"},{\"hoverinfo\":\"none\",\"marker\":{\"color\":\"rgba(255, 0, 0, 0.5)\",\"line\":{\"color\":\"red\",\"width\":2},\"size\":20},\"mode\":\"markers\",\"name\":\"Noah Fant in motion\",\"x\":[-148],\"y\":[-159],\"type\":\"scatter\"},{\"line\":{\"color\":\"red\",\"width\":2},\"mode\":\"lines\",\"name\":\"Noah Fant motion path\",\"x\":[-443,-438,-430,-418,-403,-384,-360,-331,-296,-255,-195,-148],\"y\":[-196,-196,-196,-199,-203,-210,-215,-224,-232,-241,-187,-159],\"type\":\"scatter\"},{\"marker\":{\"color\":\"#ffffff\",\"line\":{\"color\":\"#000000\",\"width\":2},\"opacity\":1,\"size\":10},\"mode\":\"markers\",\"x\":[-925],\"y\":[18],\"type\":\"scatter\"},{\"line\":{\"color\":\"red\",\"width\":2},\"mode\":\"lines\",\"name\":\"DK Metcalf motion path\",\"x\":[],\"y\":[],\"type\":\"scatter\"},{\"marker\":{\"color\":\"#ffffff\",\"line\":{\"color\":\"#000000\",\"width\":2},\"opacity\":1,\"size\":10},\"mode\":\"markers\",\"x\":[-108],\"y\":[13],\"type\":\"scatter\"},{\"line\":{\"color\":\"red\",\"width\":2},\"mode\":\"lines\",\"name\":\"Phil Haynes motion path\",\"x\":[],\"y\":[],\"type\":\"scatter\"},{\"marker\":{\"color\":\"#ffffff\",\"line\":{\"color\":\"#000000\",\"width\":2},\"opacity\":1,\"size\":10},\"mode\":\"markers\",\"x\":[-249],\"y\":[-5],\"type\":\"scatter\"},{\"line\":{\"color\":\"red\",\"width\":2},\"mode\":\"lines\",\"name\":\"Charles Cross motion path\",\"x\":[],\"y\":[],\"type\":\"scatter\"},{\"marker\":{\"color\":\"#ffffff\",\"line\":{\"color\":\"#000000\",\"width\":2},\"opacity\":1,\"size\":10},\"mode\":\"markers\",\"x\":[347],\"y\":[-5],\"type\":\"scatter\"},{\"line\":{\"color\":\"red\",\"width\":2},\"mode\":\"lines\",\"name\":\"Abraham Lucas motion path\",\"x\":[],\"y\":[],\"type\":\"scatter\"}],\"name\":\"114\"}]);\n",
       "                        }).then(function(){\n",
       "                            \n",
       "var gd = document.getElementById('3c4a1360-a33b-42b7-b60e-6de61c2073cd');\n",
       "var x = new MutationObserver(function (mutations, observer) {{\n",
       "        var display = window.getComputedStyle(gd).display;\n",
       "        if (!display || display === 'none') {{\n",
       "            console.log([gd, 'removed!']);\n",
       "            Plotly.purge(gd);\n",
       "            observer.disconnect();\n",
       "        }}\n",
       "}});\n",
       "\n",
       "// Listen for the removal of the full notebook cells\n",
       "var notebookContainer = gd.closest('#notebook-container');\n",
       "if (notebookContainer) {{\n",
       "    x.observe(notebookContainer, {childList: true});\n",
       "}}\n",
       "\n",
       "// Listen for the clearing of the current output cell\n",
       "var outputEl = gd.closest('.output');\n",
       "if (outputEl) {{\n",
       "    x.observe(outputEl, {childList: true});\n",
       "}}\n",
       "\n",
       "                        })                };                });            </script>        </div>"
      ]
     },
     "metadata": {},
     "output_type": "display_data"
    }
   ],
   "source": [
    "gid = 2022091200\n",
    "pid = 64\n",
    "\n",
    "animate_play_vertical(games=games, tracking_df=tracking_df,\n",
    "             play_df=plays, players=players, gameId=gid,\n",
    "             playId=pid)"
   ]
  }
 ],
 "metadata": {
  "kernelspec": {
   "display_name": "Python [conda env:base] *",
   "language": "python",
   "name": "conda-base-py"
  },
  "language_info": {
   "codemirror_mode": {
    "name": "ipython",
    "version": 3
   },
   "file_extension": ".py",
   "mimetype": "text/x-python",
   "name": "python",
   "nbconvert_exporter": "python",
   "pygments_lexer": "ipython3",
   "version": "3.12.7"
  }
 },
 "nbformat": 4,
 "nbformat_minor": 5
}
